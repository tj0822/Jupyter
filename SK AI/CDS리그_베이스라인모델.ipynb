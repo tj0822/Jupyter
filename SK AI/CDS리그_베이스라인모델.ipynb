{
 "cells": [
  {
   "cell_type": "markdown",
   "metadata": {
    "id": "6dWLXTG4-ofp"
   },
   "source": [
    "# **베이스라인 모델**\n",
    "* 베이스라인 모델의 제공 목적 \n",
    "> - 첫째, 제공한 데이터세트를 활용한 머신러닝 Pipeline(분석절차)이 올바르게 동작하는지를 확인\n",
    "> - 둘째, 제공한 데이터세트를 활용하여 분석 대상 기준 정의 및 제출 결과 파일 생성 방법 등에 참고\n",
    "\n",
    "* 베이스라인 모델의 구조\n",
    "> - 데이터 : 크게 train_bookmark라는 시청 이력 데이터와  train_Service라는 고객 상품별 재결제(해지) 이력 데이터\n",
    ">> - 학습 데이터세트 분할 : train_service 70% & 30%로 분할하여 학습용과 테스트용으로 사용\n",
    "> - 분석 알고리즘 : XGB 모델 \n",
    ">> - 기본 설정 모델 제공 \n",
    "* 베이스라인 모델은 쥬피터 노트북을 통한 Python으로 작성하여 제공\n",
    "> - 주어진 베이스라인 모델은 예시 이며, 참여들은 자유롭게 분석 방법 및 항목 변경 가능\n"
   ]
  },
  {
   "cell_type": "markdown",
   "metadata": {
    "id": "ln56z56OXztG"
   },
   "source": [
    "## **1. 학습 환경 세팅**"
   ]
  },
  {
   "cell_type": "markdown",
   "metadata": {
    "id": "YCM4HNVVewJY"
   },
   "source": [
    "> ### 1) 코랩: 구글 드라이브 연동"
   ]
  },
  {
   "cell_type": "code",
   "execution_count": 2,
   "metadata": {
    "colab": {
     "base_uri": "https://localhost:8080/"
    },
    "executionInfo": {
     "elapsed": 16924,
     "status": "ok",
     "timestamp": 1624876953505,
     "user": {
      "displayName": "neo Kim",
      "photoUrl": "https://lh3.googleusercontent.com/a-/AOh14GgWQvWV5JkiXORXRjJv2qrXP7Wjjt7dwd1NNozs=s64",
      "userId": "11635445716711956826"
     },
     "user_tz": -540
    },
    "id": "b2a8uxVdeuZI",
    "outputId": "c5acfdbd-3de7-4c91-9d2a-0d905d9dc67e"
   },
   "outputs": [
    {
     "name": "stdout",
     "output_type": "stream",
     "text": [
      "Mounted at /content/drive\n"
     ]
    }
   ],
   "source": [
    "from google.colab import drive\n",
    "drive.mount('/content/drive')"
   ]
  },
  {
   "cell_type": "code",
   "execution_count": 3,
   "metadata": {
    "colab": {
     "base_uri": "https://localhost:8080/"
    },
    "executionInfo": {
     "elapsed": 229,
     "status": "ok",
     "timestamp": 1624876959746,
     "user": {
      "displayName": "neo Kim",
      "photoUrl": "https://lh3.googleusercontent.com/a-/AOh14GgWQvWV5JkiXORXRjJv2qrXP7Wjjt7dwd1NNozs=s64",
      "userId": "11635445716711956826"
     },
     "user_tz": -540
    },
    "id": "3MQ1jvrfgpD5",
    "outputId": "0a6dedcf-2df6-4e92-c464-1bd9d29544b1"
   },
   "outputs": [
    {
     "name": "stdout",
     "output_type": "stream",
     "text": [
      "/content/drive/My Drive/Colab Notebooks\n"
     ]
    }
   ],
   "source": [
    "# 본인이 파일 업로드 한 폴더로 경로 지정\n",
    "\n",
    "%cd /content/drive/My Drive/Colab Notebooks"
   ]
  },
  {
   "cell_type": "markdown",
   "metadata": {
    "id": "Cq75hEKuwI53"
   },
   "source": [
    "> ### 2) Import Package "
   ]
  },
  {
   "cell_type": "code",
   "execution_count": 4,
   "metadata": {
    "executionInfo": {
     "elapsed": 1046,
     "status": "ok",
     "timestamp": 1624876967666,
     "user": {
      "displayName": "neo Kim",
      "photoUrl": "https://lh3.googleusercontent.com/a-/AOh14GgWQvWV5JkiXORXRjJv2qrXP7Wjjt7dwd1NNozs=s64",
      "userId": "11635445716711956826"
     },
     "user_tz": -540
    },
    "id": "aaIBzBLUYkOH"
   },
   "outputs": [],
   "source": [
    "## 주요 라이브러리 import\n",
    "\n",
    "import pandas as pd\n",
    "import numpy as np\n",
    "from sklearn.preprocessing import LabelEncoder\n",
    "from sklearn.model_selection import train_test_split\n",
    "from dateutil.relativedelta import relativedelta\n",
    "from datetime import *"
   ]
  },
  {
   "cell_type": "markdown",
   "metadata": {
    "id": "d9wLmThvNhcd"
   },
   "source": [
    "## **2. 데이터 읽기**"
   ]
  },
  {
   "cell_type": "code",
   "execution_count": 5,
   "metadata": {
    "colab": {
     "base_uri": "https://localhost:8080/",
     "height": 621
    },
    "executionInfo": {
     "elapsed": 1365,
     "status": "ok",
     "timestamp": 1624877028557,
     "user": {
      "displayName": "neo Kim",
      "photoUrl": "https://lh3.googleusercontent.com/a-/AOh14GgWQvWV5JkiXORXRjJv2qrXP7Wjjt7dwd1NNozs=s64",
      "userId": "11635445716711956826"
     },
     "user_tz": -540
    },
    "id": "Z_P_oRSDdlcG",
    "outputId": "9787af2c-40bf-487b-db01-75e427c75444"
   },
   "outputs": [
    {
     "name": "stdout",
     "output_type": "stream",
     "text": [
      "<class 'pandas.core.frame.DataFrame'>\n",
      "RangeIndex: 69708 entries, 0 to 69707\n",
      "Data columns (total 14 columns):\n",
      " #   Column                Non-Null Count  Dtype         \n",
      "---  ------                --------------  -----         \n",
      " 0   uno                   69708 non-null  object        \n",
      " 1   registerdate          69708 non-null  datetime64[ns]\n",
      " 2   enddate               69708 non-null  datetime64[ns]\n",
      " 3   productcode           69708 non-null  object        \n",
      " 4   pgamount              69708 non-null  float64       \n",
      " 5   chargetypeid          69708 non-null  int64         \n",
      " 6   concurrentwatchcount  69708 non-null  int64         \n",
      " 7   promo_100             35729 non-null  object        \n",
      " 8   coinReceived          12564 non-null  object        \n",
      " 9   Repurchase            69708 non-null  object        \n",
      " 10  devicetypeid          69708 non-null  object        \n",
      " 11  isauth                51727 non-null  object        \n",
      " 12  gender                58228 non-null  object        \n",
      " 13  agegroup              69708 non-null  int64         \n",
      "dtypes: datetime64[ns](2), float64(1), int64(3), object(8)\n",
      "memory usage: 7.4+ MB\n"
     ]
    },
    {
     "data": {
      "text/html": [
       "<div>\n",
       "<style scoped>\n",
       "    .dataframe tbody tr th:only-of-type {\n",
       "        vertical-align: middle;\n",
       "    }\n",
       "\n",
       "    .dataframe tbody tr th {\n",
       "        vertical-align: top;\n",
       "    }\n",
       "\n",
       "    .dataframe thead th {\n",
       "        text-align: right;\n",
       "    }\n",
       "</style>\n",
       "<table border=\"1\" class=\"dataframe\">\n",
       "  <thead>\n",
       "    <tr style=\"text-align: right;\">\n",
       "      <th></th>\n",
       "      <th>uno</th>\n",
       "      <th>registerdate</th>\n",
       "      <th>enddate</th>\n",
       "      <th>productcode</th>\n",
       "      <th>pgamount</th>\n",
       "      <th>chargetypeid</th>\n",
       "      <th>concurrentwatchcount</th>\n",
       "      <th>promo_100</th>\n",
       "      <th>coinReceived</th>\n",
       "      <th>Repurchase</th>\n",
       "      <th>devicetypeid</th>\n",
       "      <th>isauth</th>\n",
       "      <th>gender</th>\n",
       "      <th>agegroup</th>\n",
       "    </tr>\n",
       "  </thead>\n",
       "  <tbody>\n",
       "    <tr>\n",
       "      <th>58582</th>\n",
       "      <td>7e63c81609740799060d1bebec2211ba0b5a1a6f0cbad4...</td>\n",
       "      <td>2021-03-12 02:41:39</td>\n",
       "      <td>2021-04-12 02:41:39</td>\n",
       "      <td>pk_2025</td>\n",
       "      <td>7900.0</td>\n",
       "      <td>151</td>\n",
       "      <td>1</td>\n",
       "      <td>NaN</td>\n",
       "      <td>NaN</td>\n",
       "      <td>O</td>\n",
       "      <td>android</td>\n",
       "      <td>NaN</td>\n",
       "      <td>M</td>\n",
       "      <td>40</td>\n",
       "    </tr>\n",
       "    <tr>\n",
       "      <th>24817</th>\n",
       "      <td>2e677be4ca113a27bd5827fa037ac037271fbc629f3c01...</td>\n",
       "      <td>2021-03-01 23:05:52</td>\n",
       "      <td>2021-04-01 23:05:52</td>\n",
       "      <td>pk_1487</td>\n",
       "      <td>100.0</td>\n",
       "      <td>134</td>\n",
       "      <td>1</td>\n",
       "      <td>O</td>\n",
       "      <td>NaN</td>\n",
       "      <td>X</td>\n",
       "      <td>pc</td>\n",
       "      <td>Y</td>\n",
       "      <td>F</td>\n",
       "      <td>45</td>\n",
       "    </tr>\n",
       "    <tr>\n",
       "      <th>58933</th>\n",
       "      <td>ab79d39a0acfe40c84695ead67bf0bfa34092c03a49c2b...</td>\n",
       "      <td>2021-03-01 20:20:50</td>\n",
       "      <td>2021-04-01 20:20:50</td>\n",
       "      <td>pk_1489</td>\n",
       "      <td>13900.0</td>\n",
       "      <td>131</td>\n",
       "      <td>4</td>\n",
       "      <td>NaN</td>\n",
       "      <td>O</td>\n",
       "      <td>O</td>\n",
       "      <td>pc</td>\n",
       "      <td>NaN</td>\n",
       "      <td>NaN</td>\n",
       "      <td>40</td>\n",
       "    </tr>\n",
       "  </tbody>\n",
       "</table>\n",
       "</div>"
      ],
      "text/plain": [
       "                                                     uno  ... agegroup\n",
       "58582  7e63c81609740799060d1bebec2211ba0b5a1a6f0cbad4...  ...       40\n",
       "24817  2e677be4ca113a27bd5827fa037ac037271fbc629f3c01...  ...       45\n",
       "58933  ab79d39a0acfe40c84695ead67bf0bfa34092c03a49c2b...  ...       40\n",
       "\n",
       "[3 rows x 14 columns]"
      ]
     },
     "execution_count": 5,
     "metadata": {
      "tags": []
     },
     "output_type": "execute_result"
    }
   ],
   "source": [
    "# 서비스 데이터 읽기 : 전체 69,708 rows\n",
    "# 고객 상품(이용권)별 재결제(해지) 이력 정보\n",
    "ds_service = \"train_service.csv\"\n",
    "df_service = pd.read_csv(ds_service, parse_dates=['registerdate','enddate'], infer_datetime_format=True)\n",
    "\n",
    "# 데이터에 대한 전반적인 정보를 표시 dataframe을 구성하는 행과 열의 크기, 컬럼명, 컬럼을 구성하는 값의 자료형 등을 출력\n",
    "df_service.info()\n",
    "# 데이터 샘플 3개 출력\n",
    "df_service.sample(3)"
   ]
  },
  {
   "cell_type": "code",
   "execution_count": 6,
   "metadata": {
    "colab": {
     "base_uri": "https://localhost:8080/",
     "height": 499
    },
    "executionInfo": {
     "elapsed": 2070,
     "status": "ok",
     "timestamp": 1624877103398,
     "user": {
      "displayName": "neo Kim",
      "photoUrl": "https://lh3.googleusercontent.com/a-/AOh14GgWQvWV5JkiXORXRjJv2qrXP7Wjjt7dwd1NNozs=s64",
      "userId": "11635445716711956826"
     },
     "user_tz": -540
    },
    "id": "ddoZ-86hX7c0",
    "outputId": "d4f347ab-2535-4995-c08a-c8c5946964ad"
   },
   "outputs": [
    {
     "name": "stdout",
     "output_type": "stream",
     "text": [
      "<class 'pandas.core.frame.DataFrame'>\n",
      "RangeIndex: 412036 entries, 0 to 412035\n",
      "Data columns (total 11 columns):\n",
      " #   Column         Non-Null Count   Dtype         \n",
      "---  ------         --------------   -----         \n",
      " 0   uno            412036 non-null  object        \n",
      " 1   dates          412036 non-null  datetime64[ns]\n",
      " 2   hour           412036 non-null  int64         \n",
      " 3   channeltype    412036 non-null  object        \n",
      " 4   programid      411988 non-null  object        \n",
      " 5   title          385779 non-null  object        \n",
      " 6   contentid      388043 non-null  object        \n",
      " 7   contentnumber  363782 non-null  object        \n",
      " 8   section        385746 non-null  object        \n",
      " 9   viewtime       412036 non-null  int64         \n",
      " 10  devicetype     412036 non-null  int64         \n",
      "dtypes: datetime64[ns](1), int64(3), object(7)\n",
      "memory usage: 34.6+ MB\n"
     ]
    },
    {
     "data": {
      "text/html": [
       "<div>\n",
       "<style scoped>\n",
       "    .dataframe tbody tr th:only-of-type {\n",
       "        vertical-align: middle;\n",
       "    }\n",
       "\n",
       "    .dataframe tbody tr th {\n",
       "        vertical-align: top;\n",
       "    }\n",
       "\n",
       "    .dataframe thead th {\n",
       "        text-align: right;\n",
       "    }\n",
       "</style>\n",
       "<table border=\"1\" class=\"dataframe\">\n",
       "  <thead>\n",
       "    <tr style=\"text-align: right;\">\n",
       "      <th></th>\n",
       "      <th>uno</th>\n",
       "      <th>dates</th>\n",
       "      <th>hour</th>\n",
       "      <th>channeltype</th>\n",
       "      <th>programid</th>\n",
       "      <th>title</th>\n",
       "      <th>contentid</th>\n",
       "      <th>contentnumber</th>\n",
       "      <th>section</th>\n",
       "      <th>viewtime</th>\n",
       "      <th>devicetype</th>\n",
       "    </tr>\n",
       "  </thead>\n",
       "  <tbody>\n",
       "    <tr>\n",
       "      <th>331800</th>\n",
       "      <td>0730503c3c1d875a6536f7858fd81483315cf05fa6424b...</td>\n",
       "      <td>2021-03-21</td>\n",
       "      <td>18</td>\n",
       "      <td>M</td>\n",
       "      <td>MOVIE</td>\n",
       "      <td>신과함께: 인과 연</td>\n",
       "      <td>MV_CI01_LE0000011223</td>\n",
       "      <td>NaN</td>\n",
       "      <td>M05</td>\n",
       "      <td>10</td>\n",
       "      <td>2</td>\n",
       "    </tr>\n",
       "    <tr>\n",
       "      <th>47189</th>\n",
       "      <td>6acfed33109db92d01c5ae21a649ed5d818fef9ac65d00...</td>\n",
       "      <td>2021-03-21</td>\n",
       "      <td>5</td>\n",
       "      <td>V</td>\n",
       "      <td>K02_T2020-1563</td>\n",
       "      <td>오케이 광자매</td>\n",
       "      <td>K02_PS-2021012720-01-000.1</td>\n",
       "      <td>2</td>\n",
       "      <td>1</td>\n",
       "      <td>140</td>\n",
       "      <td>4</td>\n",
       "    </tr>\n",
       "    <tr>\n",
       "      <th>274967</th>\n",
       "      <td>b1013cf62e38b40b5b8d746230eba0c7c99d6976ad2649...</td>\n",
       "      <td>2021-03-21</td>\n",
       "      <td>9</td>\n",
       "      <td>V</td>\n",
       "      <td>M_1000786100000100000</td>\n",
       "      <td>무한도전</td>\n",
       "      <td>M_1000786100244100000.1</td>\n",
       "      <td>215</td>\n",
       "      <td>2</td>\n",
       "      <td>1130</td>\n",
       "      <td>1</td>\n",
       "    </tr>\n",
       "  </tbody>\n",
       "</table>\n",
       "</div>"
      ],
      "text/plain": [
       "                                                      uno  ... devicetype\n",
       "331800  0730503c3c1d875a6536f7858fd81483315cf05fa6424b...  ...          2\n",
       "47189   6acfed33109db92d01c5ae21a649ed5d818fef9ac65d00...  ...          4\n",
       "274967  b1013cf62e38b40b5b8d746230eba0c7c99d6976ad2649...  ...          1\n",
       "\n",
       "[3 rows x 11 columns]"
      ]
     },
     "execution_count": 6,
     "metadata": {
      "tags": []
     },
     "output_type": "execute_result"
    }
   ],
   "source": [
    "# 시청 이력(train_bookmark) 데이터 읽기 : 전체 412,036 rows\n",
    "ds_bookmark = \"train_bookmark.csv\"\n",
    "df_bookmark = pd.read_csv(ds_bookmark, parse_dates=['dates'], infer_datetime_format=True)\n",
    "\n",
    "# 데이터에 대한 전반적인 정보를 표시 dataframe을 구성하는 행과 열의 크기, 컬럼명, 컬럼을 구성하는 값의 자료형 등을 출력\n",
    "df_bookmark.info()\n",
    "# 데이터 샘플 3개 출력\n",
    "df_bookmark.sample(3)"
   ]
  },
  {
   "cell_type": "code",
   "execution_count": 7,
   "metadata": {
    "colab": {
     "base_uri": "https://localhost:8080/"
    },
    "executionInfo": {
     "elapsed": 224,
     "status": "ok",
     "timestamp": 1624877117362,
     "user": {
      "displayName": "neo Kim",
      "photoUrl": "https://lh3.googleusercontent.com/a-/AOh14GgWQvWV5JkiXORXRjJv2qrXP7Wjjt7dwd1NNozs=s64",
      "userId": "11635445716711956826"
     },
     "user_tz": -540
    },
    "id": "gtIXoX05brUH",
    "outputId": "b59fbdd7-dc81-4889-80d3-9a3398cf036d"
   },
   "outputs": [
    {
     "name": "stdout",
     "output_type": "stream",
     "text": [
      "uno\n",
      "['b3d6846338d0e98b7e0fcf735c49271ff59df86bfd78f3d75c03d99136f8e0d07bb55627eac3e9a288c20c74cee8641bbdff95108d737b7df108f281d6bbba29'\n",
      " '4ec765db76545c1d6dda9f421590bf9d02f584009f8d92100afeef4594ee72306b661c43d19086f82f85f02bbb5716280f52bb7f0fde823a0656a830a0e6e41f'\n",
      " '304cacae950e53952afebff0b212f5bfef6a5a0abb4c450879e853055b88063bfc32ee48bea746e952c79f1e1d619db50570991d74d5e19afeb32c5ce1b630dc'\n",
      " ...\n",
      " '5b14d5322d801571e42101d4d91642f8f7b52a4fcafc01cf02feed746704c66a2f55e2d0f727c4c479a656e718788d0d3e7b95832e6911bf59b44eb8dcb3d71e'\n",
      " 'd16d0809e827fc3fc676c3850686bef8b311145248d893fc6ccac5c9baa3cb08b9888cb4093f8a66750206fdb6a0da715d9e4ead5cc9dce0b4d4f01621152981'\n",
      " '998384efe9466eb3fed96243f6a6831de4deda30bb8deeec0929c15d080a049703b8806fbe8d7786ad726c01b5d62cfb2cc4cf123b8f7f30d0ffa84dd4f0529c']\n",
      "\n",
      "registerdate\n",
      "['2021-03-09T16:31:15.000000000' '2021-03-09T14:33:07.000000000'\n",
      " '2021-03-09T12:00:01.000000000' ... '2021-03-11T10:04:20.000000000'\n",
      " '2021-03-11T21:43:13.000000000' '2021-03-11T19:45:18.000000000']\n",
      "\n",
      "enddate\n",
      "['2021-04-09T16:31:15.000000000' '2021-04-09T14:33:07.000000000'\n",
      " '2021-04-09T12:00:01.000000000' ... '2021-04-11T10:04:20.000000000'\n",
      " '2021-04-11T21:43:13.000000000' '2021-04-11T19:45:18.000000000']\n",
      "\n",
      "productcode\n",
      "['pk_1487' 'pk_2026' 'pk_1508' 'pk_1489' 'pk_1488' 'pk_1136' 'pk_2025'\n",
      " 'pk_1506' 'pk_2005' 'pk_2029' 'pk_2027' 'pk_1507' 'pk_1509' 'pk_137'\n",
      " 'pk_845' 'pk_121' 'pk_849' 'pk_1494' 'pk_844' 'pk_1070' 'pk_1510'\n",
      " 'pk_142' 'pk_118' 'pk_1137' 'pk_2028' 'pk_846' 'pk_1079' 'pk_1148'\n",
      " 'pk_1497' 'pk_139' 'pk_123' 'pk_1100' 'pk_1073' 'pk_1074' 'pk_1139'\n",
      " 'pk_388' 'pk_433' 'pk_122' 'pk_141' 'pk_440' 'pk_851' 'pk_119' 'pk_1163'\n",
      " 'pk_1154' 'pk_2024' 'pk_847' 'pk_1152' 'pk_188' 'pk_186' 'pk_1146'\n",
      " 'pk_1097' 'pk_1075' 'pk_1897' 'pk_1085' 'pk_1486' 'pk_1149' 'pk_140'\n",
      " 'pk_1898' 'pk_1142' 'pk_848' 'pk_144' 'pk_389' 'pk_187' 'pk_138'\n",
      " 'pk_1143' 'pk_126' 'pk_1140' 'pk_432' 'pk_1160' 'pk_1496' 'pk_1166'\n",
      " 'pk_1158' 'pk_1077' 'pk_120' 'pk_931' 'pk_1145' 'pk_1151' 'pk_124'\n",
      " 'pk_328' 'pk_336' 'pk_1350' 'pk_129' 'pk_1167' 'pk_334' 'pk_1157'\n",
      " 'pk_929' 'pk_439' 'pk_431']\n",
      "\n",
      "pgamount\n",
      "[7.900e+03 1.000e+02 1.090e+04 9.990e+00 1.390e+04 1.099e+01 1.349e+01\n",
      " 6.700e+03 1.649e+01 6.950e+03 7.690e+00 1.429e+01 3.950e+03 6.900e+03\n",
      " 5.450e+03 2.199e+01 1.375e+04 2.049e+01 3.350e+03 5.900e+03 6.210e+03\n",
      " 1.319e+01 1.640e+04 1.759e+01 1.690e+04 9.890e+00 9.000e+03 1.030e+04\n",
      " 2.419e+01 2.089e+01 2.639e+01 2.900e+03 8.100e+03 1.420e+04 9.200e+03\n",
      " 9.900e+03 1.180e+04 9.810e+03 4.900e+03 1.290e+04 1.869e+01 2.749e+01\n",
      " 2.969e+01 1.040e+04 8.900e+03 1.979e+01 1.155e+04 3.299e+01 1.161e+04\n",
      " 5.700e+03]\n",
      "\n",
      "chargetypeid\n",
      "[134 190 151 132 140 180 131 170 160 121]\n",
      "\n",
      "concurrentwatchcount\n",
      "[1 2 4 3]\n",
      "\n",
      "promo_100\n",
      "[nan 'O']\n",
      "\n",
      "coinReceived\n",
      "[nan 'O']\n",
      "\n",
      "Repurchase\n",
      "['X' 'O']\n",
      "\n",
      "devicetypeid\n",
      "['android' 'pc' 'ios' 'mobile' 'lgtv' 'sstv' 'ott' 'lgchplus' 'smarttv'\n",
      " 'ssfamilyhub' 'ott_cjhello']\n",
      "\n",
      "isauth\n",
      "['Y' nan]\n",
      "\n",
      "gender\n",
      "['F' nan 'M']\n",
      "\n",
      "agegroup\n",
      "[ 45  25  35  55  40  20   0  30  50  60  65  15  80  70  75  90  85  10\n",
      "   5 950  95 120]\n",
      "\n"
     ]
    }
   ],
   "source": [
    "# service 파일 컬럼별 unique values 확인\n",
    "for column in df_service.columns.values.tolist():\n",
    "    print(column)\n",
    "    print(df_service[column].unique())\n",
    "    print(\"\")"
   ]
  },
  {
   "cell_type": "code",
   "execution_count": 8,
   "metadata": {
    "colab": {
     "base_uri": "https://localhost:8080/"
    },
    "executionInfo": {
     "elapsed": 542,
     "status": "ok",
     "timestamp": 1624877124864,
     "user": {
      "displayName": "neo Kim",
      "photoUrl": "https://lh3.googleusercontent.com/a-/AOh14GgWQvWV5JkiXORXRjJv2qrXP7Wjjt7dwd1NNozs=s64",
      "userId": "11635445716711956826"
     },
     "user_tz": -540
    },
    "id": "KvsBfGIfIvCI",
    "outputId": "05a6242b-4b3a-4ea3-8c51-7b13df5e43c0"
   },
   "outputs": [
    {
     "name": "stdout",
     "output_type": "stream",
     "text": [
      "uno\n",
      "['b3d6846338d0e98b7e0fcf735c49271ff59df86bfd78f3d75c03d99136f8e0d07bb55627eac3e9a288c20c74cee8641bbdff95108d737b7df108f281d6bbba29'\n",
      " '4ec765db76545c1d6dda9f421590bf9d02f584009f8d92100afeef4594ee72306b661c43d19086f82f85f02bbb5716280f52bb7f0fde823a0656a830a0e6e41f'\n",
      " '304cacae950e53952afebff0b212f5bfef6a5a0abb4c450879e853055b88063bfc32ee48bea746e952c79f1e1d619db50570991d74d5e19afeb32c5ce1b630dc'\n",
      " ...\n",
      " '58ea1be6de7c5b1af8b2395386b42f377c209c43f904930b9ede83b16389b0c9751669ebc578e9c0cd8106ea92362006fbadd93f3c2fa7a8dd2212db141e6173'\n",
      " 'd16d0809e827fc3fc676c3850686bef8b311145248d893fc6ccac5c9baa3cb08b9888cb4093f8a66750206fdb6a0da715d9e4ead5cc9dce0b4d4f01621152981'\n",
      " '998384efe9466eb3fed96243f6a6831de4deda30bb8deeec0929c15d080a049703b8806fbe8d7786ad726c01b5d62cfb2cc4cf123b8f7f30d0ffa84dd4f0529c']\n",
      "\n",
      "dates\n",
      "['2021-03-21T00:00:00.000000000']\n",
      "\n",
      "hour\n",
      "[21  9  8  7  0 18 19 17  4  6  2  5 22 20  1 16 23 14 13 15 12 10 11  3]\n",
      "\n",
      "channeltype\n",
      "['V' 'M' 'L' 'E']\n",
      "\n",
      "programid\n",
      "['S01_V2000009613' 'M_T60403G' 'S01_P453505934' ... 'C7201_C72000000080'\n",
      " 'A01_A00000000171' 'CR02_DN0000000069']\n",
      "\n",
      "title\n",
      "['미운 우리 새끼' '밥이 되어라' '펜트하우스 2' ... '일하는 세포 OVA' '치링치링 시크릿 쥬쥬 8기'\n",
      " '프라이드 그린 토마토']\n",
      "\n",
      "contentid\n",
      "['PQV_S01_E454448970.1' 'M_EP202103123720.1' 'S01_E454434902.1' ...\n",
      " 'M_1003594100096100000.1' 'A01_A00000000167_01_0003.1'\n",
      " 'A01_A00000000167_01_0002.1']\n",
      "\n",
      "contentnumber\n",
      "['234' '47' '10' ... '차마고도의 추억 중국 윈난성 3부 마방의 옛길 후타오샤'\n",
      " '차마고도의 추억 중국 윈난성 1부 대지의 예술' '차마고도의 추억 중국 윈난성 4부 고성의 향기']\n",
      "\n",
      "section\n",
      "['2' '1' 'M08' nan 'M01' '3' 'M07' '8' '9' 'M04' 'M05' 'M03' 'M02' 'M06'\n",
      " '6' '4' '5' 'M90' '12' '10']\n",
      "\n",
      "viewtime\n",
      "[   50   290   270  2430  1650   340   860  2630   710  3580  1790  1710\n",
      "  1280  2480  1160  1190  2420  3370  2460  1070  1120   370   170  3590\n",
      "    70   110  3500  1830    20  2440   240   150  2390   890  1040    10\n",
      "  1660  1900   130  1330  1690   510  1570   910    30   620   700  1470\n",
      "   950  2380  2120  1100   250   440  1530   490  2640   980   730   180\n",
      "   310    80    60  1250   470  1610   430  3540  1300   100  1350   540\n",
      "  1240   690  2160  1960    40  1080   640  1630    90   590  1510   550\n",
      "  1320  3230  2800   160  1000  2810  2770  2330  1740   390  1490  1480\n",
      "  1410  1170   830   900  1500  1030   650  2050  2740  1820  2250  1230\n",
      "  3400   970   580  5580   400  1420  1370  1880   280   300   410   350\n",
      "   930  2300  3600  1090  1110   660   600  1310  3520   920   840  3150\n",
      "  2850  3510  3090   500  1520  1550  1020  2180   460  2040   680  3640\n",
      "  2280  1580  1920   990   480  2030  1540  2020  1940  1640  1860  2700\n",
      "   330   420   560   210  2360  3380   570  1970  3010   720  2680  2290\n",
      "  2490  3560  2830  2840  1670  1050  3460  1150   630  1220  1780  3290\n",
      "  3480  3440  1260  1360  3350  1200   360  1910   610   140  2190  1140\n",
      "  2570  2580  2790  1400  1730   670  2340  2100  3450   870   190  1590\n",
      "  1440  2310  1810  3100  2000  1980  2870  1850  1600   810  2400  1130\n",
      "  3060  1890  1460  1390  2530  3610  3260   220   120   800   740  2070\n",
      "   380   790   260   760  2080  3110  2110  2510  1990  1180   520  3240\n",
      "  2270   820  2540   320   200  2930  2780  2220   450  3180  1340  3570\n",
      "  2410  2950  1210  2060   850  2370  3270  2860  2960  1380  2210  1700\n",
      "  1840  1450  1620  2710  1750   230  2500   780   750  1800  1270  1930\n",
      "  3120  1060  3000  2750  2690  3550  3170  3020  2990  2980  2130  1760\n",
      "   940  2720  2820  2520   770  2610  3210  3130  3160  7120  1680   530\n",
      "  3070  2970  2900  2590  2620  3430  2010  1430  3490  1560  2670  2560\n",
      "  2140  2260  2470  1290  2090  3030  2650 11570  8050  3310  2320  3330\n",
      "  1010  3050  4830  5740   880  2920  2240  3360  3320  3720  1720  3200\n",
      "  3140  1870   960  2230  2760  2350  3340  1950  2150  2450  2940  3040\n",
      "  2890  3280  2170  2550  2600  3650  3190  2910  1770  3410  3420  4640\n",
      "  7200  6740  4480  6320  2880  5420  5020  7180  5500  4700  7140  6960\n",
      "  7060  7020  5360  5340  2200  2730  3300  4380  3630  2660  3390  3470\n",
      "  3080  3220  3250  7100  6540  3530  6580  5440  3680  4540  4200  3620\n",
      "  3740  5460  6600  4940  6130  3660  6840  3760  4300  3920  4720  4140\n",
      "  4660  4800  7680  6420  4180  3880  6620  7170  5820  4320  5180  5900\n",
      "  4360  6900  5520  3800  5240  5380  4580  3780  6940  6980  5260  6500\n",
      "  4460  7000  6880  6920  4280  6300  3710  4420  4980  5960  5640  3960\n",
      "  4960  3690  5400  5980  4840  4620  4680  4520 10620  3750  4080  3820\n",
      "  5760  4760  4500  5100  3870  6100 12390  6200  4780  6640  5920  4900\n",
      "  4160  4340  5480  4600  5110  3900  4690  5700  3670  5140  6400  7160\n",
      "  3980  5860  6560  5150  4020  3810  6380  4120  5300  5120  5060  6160\n",
      "  4040  5840  6240  5880  4060  7080 13640  4400  4560  4290  5220  5200\n",
      "  4000  6360  4440  6460  6660  6020  6800  3700  6630  4890  6680  4090\n",
      "  4530  4820  7580  3730  5080  5540  6140  4030  4790  6450  6720  4740\n",
      "  6260  3770  6340  4510  4880  4100  6000  5660  5940  6040  6760  3950\n",
      "  5490  5970  3940  6860  5160  4150 13060  4010  6810  4860  5130  6350\n",
      "  4230  6440  5000  4240  4550  3860  6700  5620  5800  4220  5910  4920\n",
      "  5600  4610  4730  6080  6060  5330  6820  5680  3910  7090  5070  6180\n",
      "  5320  5280  7190  7150  5210  5370  4430  3840  6520  6120  5230  5560\n",
      "  6480  6780  5780  8940  5250  9140  4710  4490  5350  4260  5850  8200\n",
      "  9970  5450  5040  5570  4330  5030  4190  6220  4910  7260  3790  4650\n",
      "  4050  5750  7040  4110  3850  4770  9250 12690  7130  5390 12290 11920\n",
      "  6470  8590]\n",
      "\n",
      "devicetype\n",
      "[ 4  1 32 21  2  5 27  3  6  7 12 31 72]\n",
      "\n"
     ]
    }
   ],
   "source": [
    "# bookmark 파일 컬럼별 unique values 확인 \n",
    "for column in df_bookmark.columns.values.tolist():\n",
    "    print(column)\n",
    "    print(df_bookmark[column].unique())\n",
    "    print(\"\")"
   ]
  },
  {
   "cell_type": "markdown",
   "metadata": {
    "id": "qyH9qHwLZ0oV"
   },
   "source": [
    "## **3. EDA (탐색적 데이터 분석)** \n"
   ]
  },
  {
   "cell_type": "markdown",
   "metadata": {
    "id": "X9NkPaLhFFY2"
   },
   "source": [
    "\n",
    "\n",
    "> ### 1) 결측치 등 데이터 전처리 예시"
   ]
  },
  {
   "cell_type": "code",
   "execution_count": 9,
   "metadata": {
    "colab": {
     "base_uri": "https://localhost:8080/",
     "height": 483
    },
    "executionInfo": {
     "elapsed": 258,
     "status": "ok",
     "timestamp": 1624877141775,
     "user": {
      "displayName": "neo Kim",
      "photoUrl": "https://lh3.googleusercontent.com/a-/AOh14GgWQvWV5JkiXORXRjJv2qrXP7Wjjt7dwd1NNozs=s64",
      "userId": "11635445716711956826"
     },
     "user_tz": -540
    },
    "id": "EDYOXXJCQI4C",
    "outputId": "c9041210-38d0-4dbb-f2fc-14a9531dce55"
   },
   "outputs": [
    {
     "data": {
      "text/html": [
       "<div>\n",
       "<style scoped>\n",
       "    .dataframe tbody tr th:only-of-type {\n",
       "        vertical-align: middle;\n",
       "    }\n",
       "\n",
       "    .dataframe tbody tr th {\n",
       "        vertical-align: top;\n",
       "    }\n",
       "\n",
       "    .dataframe thead th {\n",
       "        text-align: right;\n",
       "    }\n",
       "</style>\n",
       "<table border=\"1\" class=\"dataframe\">\n",
       "  <thead>\n",
       "    <tr style=\"text-align: right;\">\n",
       "      <th></th>\n",
       "      <th>missing number</th>\n",
       "      <th>missing percentage</th>\n",
       "    </tr>\n",
       "  </thead>\n",
       "  <tbody>\n",
       "    <tr>\n",
       "      <th>coinReceived</th>\n",
       "      <td>57144</td>\n",
       "      <td>0.819762</td>\n",
       "    </tr>\n",
       "    <tr>\n",
       "      <th>promo_100</th>\n",
       "      <td>33979</td>\n",
       "      <td>0.487448</td>\n",
       "    </tr>\n",
       "    <tr>\n",
       "      <th>isauth</th>\n",
       "      <td>17981</td>\n",
       "      <td>0.257947</td>\n",
       "    </tr>\n",
       "    <tr>\n",
       "      <th>gender</th>\n",
       "      <td>11480</td>\n",
       "      <td>0.164687</td>\n",
       "    </tr>\n",
       "    <tr>\n",
       "      <th>agegroup</th>\n",
       "      <td>0</td>\n",
       "      <td>0.000000</td>\n",
       "    </tr>\n",
       "    <tr>\n",
       "      <th>devicetypeid</th>\n",
       "      <td>0</td>\n",
       "      <td>0.000000</td>\n",
       "    </tr>\n",
       "    <tr>\n",
       "      <th>Repurchase</th>\n",
       "      <td>0</td>\n",
       "      <td>0.000000</td>\n",
       "    </tr>\n",
       "    <tr>\n",
       "      <th>concurrentwatchcount</th>\n",
       "      <td>0</td>\n",
       "      <td>0.000000</td>\n",
       "    </tr>\n",
       "    <tr>\n",
       "      <th>chargetypeid</th>\n",
       "      <td>0</td>\n",
       "      <td>0.000000</td>\n",
       "    </tr>\n",
       "    <tr>\n",
       "      <th>pgamount</th>\n",
       "      <td>0</td>\n",
       "      <td>0.000000</td>\n",
       "    </tr>\n",
       "    <tr>\n",
       "      <th>productcode</th>\n",
       "      <td>0</td>\n",
       "      <td>0.000000</td>\n",
       "    </tr>\n",
       "    <tr>\n",
       "      <th>enddate</th>\n",
       "      <td>0</td>\n",
       "      <td>0.000000</td>\n",
       "    </tr>\n",
       "    <tr>\n",
       "      <th>registerdate</th>\n",
       "      <td>0</td>\n",
       "      <td>0.000000</td>\n",
       "    </tr>\n",
       "    <tr>\n",
       "      <th>uno</th>\n",
       "      <td>0</td>\n",
       "      <td>0.000000</td>\n",
       "    </tr>\n",
       "  </tbody>\n",
       "</table>\n",
       "</div>"
      ],
      "text/plain": [
       "                      missing number  missing percentage\n",
       "coinReceived                   57144            0.819762\n",
       "promo_100                      33979            0.487448\n",
       "isauth                         17981            0.257947\n",
       "gender                         11480            0.164687\n",
       "agegroup                           0            0.000000\n",
       "devicetypeid                       0            0.000000\n",
       "Repurchase                         0            0.000000\n",
       "concurrentwatchcount               0            0.000000\n",
       "chargetypeid                       0            0.000000\n",
       "pgamount                           0            0.000000\n",
       "productcode                        0            0.000000\n",
       "enddate                            0            0.000000\n",
       "registerdate                       0            0.000000\n",
       "uno                                0            0.000000"
      ]
     },
     "execution_count": 9,
     "metadata": {
      "tags": []
     },
     "output_type": "execute_result"
    }
   ],
   "source": [
    "# 결과 중 결측치 비율을 보고 어느 컬럼을 삭제하고 어느 컬럼을 대체할지를 판단 \n",
    "df_missing = df_service\n",
    "np.sum(df_missing.isnull())\n",
    "missing_number = df_missing.isnull().sum().sort_values(ascending=False)\n",
    "missing_percentage = missing_number/len(df_missing)\n",
    "missing_info = pd.concat([missing_number,missing_percentage],  axis=1, keys=['missing number','missing percentage'])\n",
    "missing_info.head(50)"
   ]
  },
  {
   "cell_type": "code",
   "execution_count": 10,
   "metadata": {
    "colab": {
     "base_uri": "https://localhost:8080/"
    },
    "executionInfo": {
     "elapsed": 240,
     "status": "ok",
     "timestamp": 1624877159858,
     "user": {
      "displayName": "neo Kim",
      "photoUrl": "https://lh3.googleusercontent.com/a-/AOh14GgWQvWV5JkiXORXRjJv2qrXP7Wjjt7dwd1NNozs=s64",
      "userId": "11635445716711956826"
     },
     "user_tz": -540
    },
    "id": "CWZYDtsITVvz",
    "outputId": "d143d711-2762-4068-d4f1-25ecc5ff5072"
   },
   "outputs": [
    {
     "name": "stdout",
     "output_type": "stream",
     "text": [
      "gender =  ['F', nan, 'M']\n"
     ]
    },
    {
     "data": {
      "text/plain": [
       "F    36591\n",
       "M    21637\n",
       "Name: gender, dtype: int64"
      ]
     },
     "execution_count": 10,
     "metadata": {
      "tags": []
     },
     "output_type": "execute_result"
    }
   ],
   "source": [
    "# gender 값 및 분포 확인\n",
    "print('gender = ', df_service.gender.unique().tolist())\n",
    "df_service.gender.value_counts()"
   ]
  },
  {
   "cell_type": "code",
   "execution_count": 11,
   "metadata": {
    "colab": {
     "base_uri": "https://localhost:8080/"
    },
    "executionInfo": {
     "elapsed": 212,
     "status": "ok",
     "timestamp": 1624877163894,
     "user": {
      "displayName": "neo Kim",
      "photoUrl": "https://lh3.googleusercontent.com/a-/AOh14GgWQvWV5JkiXORXRjJv2qrXP7Wjjt7dwd1NNozs=s64",
      "userId": "11635445716711956826"
     },
     "user_tz": -540
    },
    "id": "5Tyk47GZ-CI7",
    "outputId": "07c8f86e-de38-4309-839a-60327baba4e9"
   },
   "outputs": [
    {
     "name": "stdout",
     "output_type": "stream",
     "text": [
      "gender =  ['F', 'M', 'N']\n"
     ]
    },
    {
     "data": {
      "text/plain": [
       "F    36591\n",
       "M    21637\n",
       "N    11480\n",
       "Name: gender, dtype: int64"
      ]
     },
     "execution_count": 11,
     "metadata": {
      "tags": []
     },
     "output_type": "execute_result"
    }
   ],
   "source": [
    "# gender null 값을 N 으로 변경 후 확인\n",
    "df_service['gender'] = df_service['gender'].fillna('N')\n",
    "print('gender = ', sorted(df_service.gender.unique().tolist()))\n",
    "df_service.gender.value_counts()"
   ]
  },
  {
   "cell_type": "code",
   "execution_count": 12,
   "metadata": {
    "colab": {
     "base_uri": "https://localhost:8080/"
    },
    "executionInfo": {
     "elapsed": 217,
     "status": "ok",
     "timestamp": 1624877174359,
     "user": {
      "displayName": "neo Kim",
      "photoUrl": "https://lh3.googleusercontent.com/a-/AOh14GgWQvWV5JkiXORXRjJv2qrXP7Wjjt7dwd1NNozs=s64",
      "userId": "11635445716711956826"
     },
     "user_tz": -540
    },
    "id": "-bxj3m0T-NY7",
    "outputId": "fd8fed6a-0bcc-4a9c-960f-6bee42bc5a35"
   },
   "outputs": [
    {
     "name": "stdout",
     "output_type": "stream",
     "text": [
      "agegroup =  [0, 5, 10, 15, 20, 25, 30, 35, 40, 45, 50, 55, 60, 65, 70, 75, 80, 85, 90, 95, 120, 950]\n"
     ]
    },
    {
     "data": {
      "text/plain": [
       "40     19281\n",
       "25     12099\n",
       "30     10435\n",
       "20      9562\n",
       "35      6905\n",
       "45      3739\n",
       "50      2725\n",
       "55      1385\n",
       "15      1227\n",
       "60       885\n",
       "0        608\n",
       "65       414\n",
       "70       209\n",
       "75       129\n",
       "80        70\n",
       "85        20\n",
       "90         9\n",
       "5          2\n",
       "120        1\n",
       "95         1\n",
       "950        1\n",
       "10         1\n",
       "Name: agegroup, dtype: int64"
      ]
     },
     "execution_count": 12,
     "metadata": {
      "tags": []
     },
     "output_type": "execute_result"
    }
   ],
   "source": [
    "# agegroup 값 및 분포 확인\n",
    "print('agegroup = ', sorted(df_service.agegroup.unique().tolist()))\n",
    "df_service.agegroup.value_counts()"
   ]
  },
  {
   "cell_type": "code",
   "execution_count": 13,
   "metadata": {
    "colab": {
     "base_uri": "https://localhost:8080/"
    },
    "executionInfo": {
     "elapsed": 226,
     "status": "ok",
     "timestamp": 1624877239263,
     "user": {
      "displayName": "neo Kim",
      "photoUrl": "https://lh3.googleusercontent.com/a-/AOh14GgWQvWV5JkiXORXRjJv2qrXP7Wjjt7dwd1NNozs=s64",
      "userId": "11635445716711956826"
     },
     "user_tz": -540
    },
    "id": "q0sIhSoCXPXq",
    "outputId": "60deac64-92a2-4213-fc65-d58753652938"
   },
   "outputs": [
    {
     "name": "stdout",
     "output_type": "stream",
     "text": [
      "agegroup =  [0, 5, 10, 15, 20, 25, 30, 35, 40, 45, 50, 55, 60, 65, 70, 75, 80, 85, 90, 95, 120]\n"
     ]
    },
    {
     "data": {
      "text/plain": [
       "40     19281\n",
       "25     12099\n",
       "30     10435\n",
       "20      9562\n",
       "35      6905\n",
       "45      3739\n",
       "50      2725\n",
       "55      1385\n",
       "15      1227\n",
       "60       885\n",
       "0        609\n",
       "65       414\n",
       "70       209\n",
       "75       129\n",
       "80        70\n",
       "85        20\n",
       "90         9\n",
       "5          2\n",
       "120        1\n",
       "95         1\n",
       "10         1\n",
       "Name: agegroup, dtype: int64"
      ]
     },
     "execution_count": 13,
     "metadata": {
      "tags": []
     },
     "output_type": "execute_result"
    }
   ],
   "source": [
    "# agegroup 950 값을 0 으로 변환\n",
    "df_service['agegroup'] = df_service['agegroup'].replace(950, 0)\n",
    "print('agegroup = ', sorted(df_service.agegroup.unique().tolist()))\n",
    "df_service.agegroup.value_counts()"
   ]
  },
  {
   "cell_type": "code",
   "execution_count": 14,
   "metadata": {
    "colab": {
     "base_uri": "https://localhost:8080/"
    },
    "executionInfo": {
     "elapsed": 327,
     "status": "ok",
     "timestamp": 1624877250777,
     "user": {
      "displayName": "neo Kim",
      "photoUrl": "https://lh3.googleusercontent.com/a-/AOh14GgWQvWV5JkiXORXRjJv2qrXP7Wjjt7dwd1NNozs=s64",
      "userId": "11635445716711956826"
     },
     "user_tz": -540
    },
    "id": "_4a7UyjCUbHi",
    "outputId": "2dfbe7ae-9cdb-469b-92e1-1b29eecd09f3"
   },
   "outputs": [
    {
     "name": "stdout",
     "output_type": "stream",
     "text": [
      "pgamount =  [7.69, 9.89, 9.99, 10.99, 13.19, 13.49, 14.29, 16.49, 17.59, 18.69, 19.79, 20.49, 20.89, 21.99, 24.19, 26.39, 27.49, 29.69, 32.99, 100.0, 2900.0, 3350.0, 3950.0, 4900.0, 5450.0, 5700.0, 5900.0, 6210.0, 6700.0, 6900.0, 6950.0, 7900.0, 8100.0, 8900.0, 9000.0, 9200.0, 9810.0, 9900.0, 10300.0, 10400.0, 10900.0, 11550.0, 11610.0, 11800.0, 12900.0, 13750.0, 13900.0, 14200.0, 16400.0, 16900.0]\n"
     ]
    },
    {
     "data": {
      "text/plain": [
       "100.00      35729\n",
       "7900.00     12679\n",
       "9.99         8313\n",
       "10900.00     5789\n",
       "13900.00     2350\n",
       "13.49        2192\n",
       "16.49         861\n",
       "3950.00       487\n",
       "10.99         266\n",
       "6700.00       262\n",
       "6950.00       168\n",
       "5450.00       134\n",
       "13750.00      119\n",
       "6900.00        99\n",
       "14.29          64\n",
       "5900.00        38\n",
       "6210.00        19\n",
       "9.89           17\n",
       "3350.00        16\n",
       "13.19          12\n",
       "4900.00         9\n",
       "9000.00         9\n",
       "21.99           8\n",
       "17.59           7\n",
       "18.69           5\n",
       "9900.00         5\n",
       "16900.00        4\n",
       "20.49           4\n",
       "8900.00         4\n",
       "27.49           3\n",
       "20.89           3\n",
       "7.69            3\n",
       "24.19           3\n",
       "10300.00        3\n",
       "19.79           2\n",
       "12900.00        2\n",
       "16400.00        2\n",
       "9200.00         2\n",
       "5700.00         2\n",
       "2900.00         2\n",
       "29.69           2\n",
       "11800.00        2\n",
       "8100.00         1\n",
       "32.99           1\n",
       "11550.00        1\n",
       "11610.00        1\n",
       "10400.00        1\n",
       "26.39           1\n",
       "9810.00         1\n",
       "14200.00        1\n",
       "Name: pgamount, dtype: int64"
      ]
     },
     "execution_count": 14,
     "metadata": {
      "tags": []
     },
     "output_type": "execute_result"
    }
   ],
   "source": [
    "# pgamount 값 및 분포 확인\n",
    "print('pgamount = ', sorted(df_service.pgamount.unique().tolist()))\n",
    "df_service.pgamount.value_counts()"
   ]
  },
  {
   "cell_type": "code",
   "execution_count": 15,
   "metadata": {
    "colab": {
     "base_uri": "https://localhost:8080/"
    },
    "executionInfo": {
     "elapsed": 267,
     "status": "ok",
     "timestamp": 1624877264721,
     "user": {
      "displayName": "neo Kim",
      "photoUrl": "https://lh3.googleusercontent.com/a-/AOh14GgWQvWV5JkiXORXRjJv2qrXP7Wjjt7dwd1NNozs=s64",
      "userId": "11635445716711956826"
     },
     "user_tz": -540
    },
    "id": "Od6dvA60UkI4",
    "outputId": "c62b3f5e-05a2-4d14-b0e9-d3fea014e193"
   },
   "outputs": [
    {
     "name": "stdout",
     "output_type": "stream",
     "text": [
      "pgamount =  [100.0, 2900.0, 3350.0, 3950.0, 4900.0, 5450.0, 5700.0, 5900.0, 6210.0, 6700.0, 6900.0, 6950.0, 7900.0, 8100.0, 8612.800000000001, 8900.0, 9000.0, 9200.0, 9810.0, 9900.0, 10300.0, 10400.0, 10900.0, 11076.800000000001, 11188.800000000001, 11550.0, 11610.0, 11800.0, 12308.800000000001, 12900.0, 13750.0, 13900.0, 14200.0, 14772.8, 15108.800000000001, 16004.8, 16400.0, 16900.0, 18468.8, 19700.8, 20932.800000000003, 22164.8, 22948.8, 23396.8, 24628.8, 27092.800000000003, 29556.8, 30788.8, 33252.8, 36948.8]\n"
     ]
    },
    {
     "data": {
      "text/plain": [
       "100.0      35729\n",
       "7900.0     12679\n",
       "11188.8     8313\n",
       "10900.0     5789\n",
       "13900.0     2350\n",
       "15108.8     2192\n",
       "18468.8      861\n",
       "3950.0       487\n",
       "12308.8      266\n",
       "6700.0       262\n",
       "6950.0       168\n",
       "5450.0       134\n",
       "13750.0      119\n",
       "6900.0        99\n",
       "16004.8       64\n",
       "5900.0        38\n",
       "6210.0        19\n",
       "11076.8       17\n",
       "3350.0        16\n",
       "14772.8       12\n",
       "9000.0         9\n",
       "4900.0         9\n",
       "24628.8        8\n",
       "19700.8        7\n",
       "9900.0         5\n",
       "20932.8        5\n",
       "8900.0         4\n",
       "16900.0        4\n",
       "22948.8        4\n",
       "30788.8        3\n",
       "27092.8        3\n",
       "10300.0        3\n",
       "23396.8        3\n",
       "8612.8         3\n",
       "12900.0        2\n",
       "22164.8        2\n",
       "16400.0        2\n",
       "9200.0         2\n",
       "5700.0         2\n",
       "2900.0         2\n",
       "33252.8        2\n",
       "11800.0        2\n",
       "29556.8        1\n",
       "8100.0         1\n",
       "11550.0        1\n",
       "11610.0        1\n",
       "36948.8        1\n",
       "10400.0        1\n",
       "9810.0         1\n",
       "14200.0        1\n",
       "Name: pgamount, dtype: int64"
      ]
     },
     "execution_count": 15,
     "metadata": {
      "tags": []
     },
     "output_type": "execute_result"
    }
   ],
   "source": [
    "# pgamount 금액 중에 달러로 결제된 것 원화로 변경 (pgamount 100원 미만인 건은 Appstore에서 달러 결제 건임)\n",
    "df_service.loc[(df_service['pgamount'] <  100), 'pgamount'] = df_service['pgamount'] * 1120\n",
    "print('pgamount = ', sorted(df_service.pgamount.unique().tolist()))\n",
    "df_service.pgamount.value_counts()"
   ]
  },
  {
   "cell_type": "code",
   "execution_count": 16,
   "metadata": {
    "executionInfo": {
     "elapsed": 273,
     "status": "ok",
     "timestamp": 1624877270786,
     "user": {
      "displayName": "neo Kim",
      "photoUrl": "https://lh3.googleusercontent.com/a-/AOh14GgWQvWV5JkiXORXRjJv2qrXP7Wjjt7dwd1NNozs=s64",
      "userId": "11635445716711956826"
     },
     "user_tz": -540
    },
    "id": "N5WQN3mDULvE"
   },
   "outputs": [],
   "source": [
    "# 기타 컬럼들의 결측치 처리\n",
    "df_service = df_service.fillna('X')"
   ]
  },
  {
   "cell_type": "markdown",
   "metadata": {
    "id": "yMjnKydFGBfe"
   },
   "source": [
    "> ### 2) 자율 : Feature 생성 및 파생변수 생성은 자율로 추가: 예시 모델 제공  "
   ]
  },
  {
   "cell_type": "code",
   "execution_count": 18,
   "metadata": {
    "colab": {
     "base_uri": "https://localhost:8080/"
    },
    "executionInfo": {
     "elapsed": 1595,
     "status": "ok",
     "timestamp": 1624877295662,
     "user": {
      "displayName": "neo Kim",
      "photoUrl": "https://lh3.googleusercontent.com/a-/AOh14GgWQvWV5JkiXORXRjJv2qrXP7Wjjt7dwd1NNozs=s64",
      "userId": "11635445716711956826"
     },
     "user_tz": -540
    },
    "id": "KiBOa_3EQkI1",
    "outputId": "a97de38f-955c-4d3f-c371-33a49c1b70f1"
   },
   "outputs": [
    {
     "name": "stdout",
     "output_type": "stream",
     "text": [
      "REG_CNT =  [1, 2, 3, 5, 7]\n",
      "PRD_CNT =  [1, 2, 3, 4]\n",
      "BM_CNT =  [1, 2, 3, 4, 5, 6, 7, 8, 9, 10, 11, 12, 13, 14, 15, 16, 17, 18, 19, 20, 21, 22, 23, 24, 25, 26, 27, 28, 29, 30, 31, 32, 33, 34, 35, 36, 37, 38, 39, 40, 41, 42, 43, 44, 45, 46, 47, 48, 49, 50, 51, 52, 53, 54, 55, 56, 57, 58, 59, 60, 61, 62, 63, 64, 65, 66, 67, 68, 69, 70, 71, 72, 73, 74, 75, 76, 77, 78, 79, 80, 81, 82, 83, 84, 85, 86, 87, 88, 89, 90, 91, 92, 94, 95, 96, 99, 100, 101, 102, 103, 104, 105, 106, 107, 108, 110, 112, 113, 117, 119, 120, 121, 124, 125, 126, 130, 131, 132, 134, 137, 138, 140, 148, 151, 154, 165, 166, 168, 172, 176, 204, 208, 221, 359]\n",
      "VT_TOT =  [10, 20, 30, 40, 50, 60, 70, 80, 90, 100, 110, 120, 130, 140, 150, 160, 170, 180, 190, 200, 210, 220, 230, 240, 250, 260, 270, 280, 290, 300, 310, 320, 330, 340, 350, 360, 370, 380, 390, 400, 410, 420, 430, 440, 450, 460, 470, 480, 490, 500, 510, 520, 530, 540, 550, 560, 570, 580, 590, 600, 610, 620, 630, 640, 650, 660, 670, 680, 690, 700, 710, 720, 730, 740, 750, 760, 770, 780, 790, 800, 810, 820, 830, 840, 850, 860, 870, 880, 890, 900, 910, 920, 930, 940, 950, 960, 970, 980, 990, 1000, 1010, 1020, 1030, 1040, 1050, 1060, 1070, 1080, 1090, 1100, 1110, 1120, 1130, 1140, 1150, 1160, 1170, 1180, 1190, 1200, 1210, 1220, 1230, 1240, 1250, 1260, 1270, 1280, 1290, 1300, 1310, 1320, 1330, 1340, 1350, 1360, 1370, 1380, 1390, 1400, 1410, 1420, 1430, 1440, 1450, 1460, 1470, 1480, 1490, 1500, 1510, 1520, 1530, 1540, 1550, 1560, 1570, 1580, 1590, 1600, 1610, 1620, 1630, 1640, 1650, 1660, 1670, 1680, 1690, 1700, 1710, 1720, 1730, 1740, 1750, 1760, 1770, 1780, 1790, 1800, 1810, 1820, 1830, 1840, 1850, 1860, 1870, 1880, 1890, 1900, 1910, 1920, 1930, 1940, 1950, 1960, 1970, 1980, 1990, 2000, 2010, 2020, 2030, 2040, 2050, 2060, 2070, 2080, 2090, 2100, 2110, 2120, 2130, 2140, 2150, 2160, 2170, 2180, 2190, 2200, 2210, 2220, 2230, 2240, 2250, 2260, 2270, 2280, 2290, 2300, 2310, 2320, 2330, 2340, 2350, 2360, 2370, 2380, 2390, 2400, 2410, 2420, 2430, 2440, 2450, 2460, 2470, 2480, 2490, 2500, 2510, 2520, 2530, 2540, 2550, 2560, 2570, 2580, 2590, 2600, 2610, 2620, 2630, 2640, 2650, 2660, 2670, 2680, 2690, 2700, 2710, 2720, 2730, 2740, 2750, 2760, 2770, 2780, 2790, 2800, 2810, 2820, 2830, 2840, 2850, 2860, 2870, 2880, 2890, 2900, 2910, 2920, 2930, 2940, 2950, 2960, 2970, 2980, 2990, 3000, 3010, 3020, 3030, 3040, 3050, 3060, 3070, 3080, 3090, 3100, 3110, 3120, 3130, 3140, 3150, 3160, 3170, 3180, 3190, 3200, 3210, 3220, 3230, 3240, 3250, 3260, 3270, 3280, 3290, 3300, 3310, 3320, 3330, 3340, 3350, 3360, 3370, 3380, 3390, 3400, 3410, 3420, 3430, 3440, 3450, 3460, 3470, 3480, 3490, 3500, 3510, 3520, 3530, 3540, 3550, 3560, 3570, 3580, 3590, 3600, 3610, 3620, 3630, 3640, 3650, 3660, 3670, 3680, 3690, 3700, 3710, 3720, 3730, 3740, 3750, 3760, 3770, 3780, 3790, 3800, 3810, 3820, 3830, 3840, 3850, 3860, 3870, 3880, 3890, 3900, 3910, 3920, 3930, 3940, 3950, 3960, 3970, 3980, 3990, 4000, 4010, 4020, 4030, 4040, 4050, 4060, 4070, 4080, 4090, 4100, 4110, 4120, 4130, 4140, 4150, 4160, 4170, 4180, 4190, 4200, 4210, 4220, 4230, 4240, 4250, 4260, 4270, 4280, 4290, 4300, 4310, 4320, 4330, 4340, 4350, 4360, 4370, 4380, 4390, 4400, 4410, 4420, 4430, 4440, 4450, 4460, 4470, 4480, 4490, 4500, 4510, 4520, 4530, 4540, 4550, 4560, 4570, 4580, 4590, 4600, 4610, 4620, 4630, 4640, 4650, 4660, 4670, 4680, 4690, 4700, 4710, 4720, 4730, 4740, 4750, 4760, 4770, 4780, 4790, 4800, 4810, 4820, 4830, 4840, 4850, 4860, 4870, 4880, 4890, 4900, 4910, 4920, 4930, 4940, 4950, 4960, 4970, 4980, 4990, 5000, 5010, 5020, 5030, 5040, 5050, 5060, 5070, 5080, 5090, 5100, 5110, 5120, 5130, 5140, 5150, 5160, 5170, 5180, 5190, 5200, 5210, 5220, 5230, 5240, 5250, 5260, 5270, 5280, 5290, 5300, 5310, 5320, 5330, 5340, 5350, 5360, 5370, 5380, 5390, 5400, 5410, 5420, 5430, 5440, 5450, 5460, 5470, 5480, 5490, 5500, 5510, 5520, 5530, 5540, 5550, 5560, 5570, 5580, 5590, 5600, 5610, 5620, 5630, 5640, 5650, 5660, 5670, 5680, 5690, 5700, 5710, 5720, 5730, 5740, 5750, 5760, 5770, 5780, 5790, 5800, 5810, 5820, 5830, 5840, 5850, 5860, 5870, 5880, 5890, 5900, 5910, 5920, 5930, 5940, 5950, 5960, 5970, 5980, 5990, 6000, 6010, 6020, 6030, 6040, 6050, 6060, 6070, 6080, 6090, 6100, 6110, 6120, 6130, 6140, 6150, 6160, 6170, 6180, 6190, 6200, 6210, 6220, 6230, 6240, 6250, 6260, 6270, 6280, 6290, 6300, 6310, 6320, 6330, 6340, 6350, 6360, 6370, 6380, 6390, 6400, 6410, 6420, 6430, 6440, 6450, 6460, 6470, 6480, 6490, 6500, 6510, 6520, 6530, 6540, 6550, 6560, 6570, 6580, 6590, 6600, 6610, 6620, 6630, 6640, 6650, 6660, 6670, 6680, 6690, 6700, 6710, 6720, 6730, 6740, 6750, 6760, 6770, 6780, 6790, 6800, 6810, 6820, 6830, 6840, 6850, 6860, 6870, 6880, 6890, 6900, 6910, 6920, 6930, 6940, 6950, 6960, 6970, 6980, 6990, 7000, 7010, 7020, 7030, 7040, 7050, 7060, 7070, 7080, 7090, 7100, 7110, 7120, 7130, 7140, 7150, 7160, 7170, 7180, 7190, 7200, 7210, 7220, 7230, 7240, 7250, 7260, 7270, 7280, 7290, 7300, 7310, 7320, 7330, 7340, 7350, 7360, 7370, 7380, 7390, 7400, 7410, 7420, 7430, 7440, 7450, 7460, 7470, 7480, 7490, 7500, 7510, 7520, 7530, 7540, 7550, 7560, 7570, 7580, 7590, 7600, 7610, 7620, 7630, 7640, 7650, 7660, 7670, 7680, 7690, 7700, 7710, 7720, 7730, 7740, 7750, 7760, 7770, 7780, 7790, 7800, 7810, 7820, 7830, 7840, 7850, 7860, 7870, 7880, 7890, 7900, 7910, 7920, 7930, 7940, 7950, 7960, 7970, 7980, 7990, 8000, 8010, 8020, 8030, 8040, 8050, 8060, 8070, 8080, 8090, 8100, 8110, 8120, 8130, 8140, 8150, 8160, 8170, 8180, 8190, 8200, 8210, 8220, 8230, 8240, 8250, 8260, 8270, 8280, 8290, 8300, 8310, 8320, 8330, 8340, 8350, 8360, 8370, 8380, 8390, 8400, 8410, 8420, 8430, 8440, 8450, 8460, 8470, 8480, 8490, 8500, 8510, 8520, 8530, 8540, 8550, 8560, 8570, 8580, 8590, 8600, 8610, 8620, 8630, 8640, 8650, 8660, 8670, 8680, 8690, 8700, 8710, 8720, 8730, 8740, 8750, 8760, 8770, 8780, 8790, 8800, 8810, 8820, 8830, 8840, 8850, 8860, 8870, 8880, 8890, 8900, 8910, 8920, 8930, 8940, 8950, 8960, 8970, 8980, 8990, 9000, 9010, 9020, 9030, 9040, 9050, 9060, 9070, 9080, 9090, 9100, 9110, 9120, 9130, 9140, 9150, 9160, 9170, 9180, 9190, 9200, 9210, 9220, 9230, 9240, 9250, 9260, 9270, 9280, 9290, 9300, 9310, 9320, 9330, 9340, 9350, 9360, 9370, 9380, 9390, 9400, 9410, 9420, 9430, 9440, 9450, 9460, 9470, 9480, 9490, 9500, 9510, 9520, 9530, 9540, 9550, 9560, 9570, 9580, 9590, 9600, 9610, 9620, 9630, 9640, 9650, 9660, 9670, 9680, 9690, 9700, 9710, 9720, 9730, 9740, 9750, 9760, 9770, 9780, 9790, 9800, 9810, 9820, 9830, 9840, 9850, 9860, 9870, 9880, 9890, 9900, 9910, 9920, 9930, 9940, 9950, 9960, 9970, 9980, 9990, 10000, 10010, 10020, 10030, 10040, 10050, 10060, 10070, 10080, 10090, 10100, 10110, 10120, 10130, 10140, 10150, 10160, 10170, 10180, 10190, 10200, 10210, 10220, 10230, 10240, 10250, 10260, 10270, 10280, 10290, 10300, 10310, 10320, 10330, 10340, 10350, 10360, 10370, 10380, 10390, 10400, 10410, 10420, 10430, 10440, 10450, 10460, 10470, 10480, 10490, 10500, 10510, 10520, 10530, 10540, 10550, 10560, 10570, 10580, 10590, 10600, 10610, 10620, 10630, 10640, 10650, 10660, 10670, 10680, 10690, 10700, 10710, 10720, 10730, 10740, 10750, 10760, 10770, 10780, 10790, 10800, 10810, 10820, 10830, 10840, 10850, 10860, 10870, 10880, 10890, 10900, 10910, 10920, 10930, 10940, 10950, 10960, 10970, 10980, 10990, 11000, 11010, 11020, 11030, 11040, 11050, 11060, 11070, 11080, 11090, 11100, 11110, 11120, 11130, 11140, 11150, 11160, 11170, 11180, 11190, 11200, 11210, 11220, 11230, 11240, 11250, 11260, 11270, 11280, 11290, 11300, 11310, 11320, 11330, 11340, 11350, 11360, 11370, 11380, 11390, 11400, 11410, 11420, 11430, 11440, 11450, 11460, 11470, 11480, 11490, 11500, 11510, 11520, 11530, 11540, 11550, 11560, 11570, 11580, 11590, 11600, 11610, 11620, 11630, 11640, 11650, 11660, 11670, 11680, 11690, 11700, 11710, 11720, 11730, 11740, 11750, 11760, 11770, 11780, 11790, 11800, 11810, 11820, 11830, 11840, 11850, 11860, 11870, 11880, 11890, 11900, 11910, 11920, 11930, 11940, 11950, 11960, 11970, 11980, 11990, 12000, 12010, 12020, 12030, 12040, 12050, 12060, 12070, 12080, 12090, 12100, 12110, 12120, 12130, 12140, 12150, 12160, 12170, 12180, 12190, 12200, 12210, 12220, 12230, 12240, 12250, 12260, 12270, 12280, 12290, 12300, 12310, 12320, 12330, 12340, 12350, 12360, 12370, 12380, 12390, 12400, 12410, 12420, 12430, 12440, 12450, 12460, 12470, 12480, 12490, 12500, 12510, 12520, 12530, 12540, 12550, 12560, 12570, 12580, 12590, 12600, 12610, 12620, 12630, 12640, 12650, 12660, 12670, 12680, 12690, 12700, 12710, 12720, 12730, 12740, 12750, 12760, 12770, 12780, 12790, 12800, 12810, 12820, 12830, 12840, 12850, 12860, 12870, 12880, 12890, 12900, 12910, 12920, 12930, 12940, 12950, 12960, 12970, 12980, 12990, 13000, 13010, 13020, 13030, 13040, 13050, 13060, 13070, 13080, 13090, 13100, 13110, 13120, 13130, 13140, 13150, 13160, 13170, 13180, 13190, 13200, 13210, 13220, 13230, 13240, 13250, 13260, 13270, 13280, 13290, 13300, 13310, 13320, 13330, 13340, 13350, 13360, 13370, 13380, 13390, 13400, 13410, 13420, 13430, 13440, 13450, 13460, 13470, 13480, 13490, 13500, 13510, 13520, 13530, 13540, 13550, 13560, 13570, 13580, 13590, 13600, 13610, 13620, 13630, 13640, 13650, 13660, 13670, 13680, 13690, 13700, 13710, 13720, 13730, 13740, 13750, 13760, 13770, 13780, 13790, 13800, 13810, 13820, 13830, 13840, 13850, 13860, 13870, 13880, 13890, 13900, 13910, 13920, 13930, 13940, 13950, 13960, 13970, 13980, 13990, 14000, 14010, 14020, 14030, 14040, 14050, 14060, 14070, 14080, 14090, 14100, 14110, 14120, 14130, 14140, 14150, 14160, 14170, 14180, 14190, 14200, 14210, 14220, 14230, 14240, 14250, 14260, 14270, 14280, 14290, 14300, 14310, 14320, 14330, 14340, 14350, 14360, 14370, 14380, 14390, 14400, 14410, 14420, 14430, 14440, 14450, 14460, 14470, 14480, 14490, 14500, 14510, 14520, 14530, 14540, 14550, 14560, 14570, 14580, 14590, 14600, 14610, 14620, 14630, 14640, 14650, 14660, 14670, 14680, 14690, 14700, 14710, 14720, 14730, 14740, 14750, 14760, 14770, 14780, 14790, 14800, 14810, 14820, 14830, 14840, 14850, 14860, 14870, 14880, 14890, 14900, 14910, 14920, 14930, 14940, 14950, 14960, 14970, 14980, 14990, 15000, 15010, 15020, 15030, 15040, 15050, 15060, 15070, 15080, 15090, 15100, 15110, 15120, 15130, 15140, 15150, 15160, 15170, 15180, 15190, 15200, 15210, 15220, 15230, 15240, 15250, 15260, 15270, 15280, 15290, 15300, 15310, 15320, 15330, 15340, 15350, 15360, 15370, 15380, 15390, 15400, 15410, 15420, 15430, 15440, 15450, 15460, 15470, 15480, 15490, 15500, 15510, 15520, 15530, 15540, 15550, 15560, 15570, 15580, 15590, 15600, 15610, 15620, 15630, 15640, 15650, 15660, 15670, 15680, 15690, 15700, 15710, 15720, 15730, 15740, 15750, 15760, 15770, 15780, 15790, 15800, 15810, 15820, 15830, 15840, 15850, 15860, 15870, 15880, 15890, 15900, 15910, 15920, 15930, 15940, 15950, 15960, 15970, 15980, 15990, 16000, 16010, 16020, 16030, 16040, 16050, 16060, 16070, 16080, 16090, 16100, 16110, 16120, 16130, 16140, 16150, 16160, 16170, 16180, 16190, 16200, 16210, 16220, 16230, 16240, 16250, 16260, 16270, 16280, 16290, 16300, 16310, 16320, 16330, 16340, 16350, 16360, 16380, 16390, 16400, 16410, 16420, 16430, 16440, 16450, 16460, 16470, 16480, 16490, 16500, 16510, 16520, 16530, 16540, 16550, 16560, 16570, 16580, 16590, 16600, 16610, 16620, 16630, 16640, 16650, 16660, 16670, 16680, 16690, 16700, 16710, 16720, 16730, 16740, 16750, 16760, 16770, 16780, 16790, 16800, 16810, 16820, 16840, 16850, 16860, 16870, 16880, 16890, 16900, 16910, 16920, 16930, 16940, 16950, 16960, 16970, 16980, 16990, 17000, 17010, 17030, 17040, 17050, 17060, 17070, 17080, 17090, 17100, 17110, 17120, 17130, 17140, 17150, 17160, 17170, 17180, 17190, 17200, 17210, 17220, 17230, 17240, 17250, 17260, 17270, 17280, 17290, 17300, 17310, 17320, 17330, 17340, 17350, 17360, 17370, 17380, 17390, 17400, 17410, 17420, 17430, 17440, 17460, 17470, 17480, 17490, 17500, 17510, 17520, 17530, 17540, 17550, 17560, 17570, 17580, 17590, 17600, 17610, 17620, 17630, 17640, 17650, 17660, 17670, 17680, 17690, 17700, 17710, 17720, 17730, 17740, 17750, 17760, 17770, 17780, 17790, 17800, 17810, 17820, 17830, 17840, 17850, 17860, 17870, 17880, 17890, 17900, 17910, 17920, 17930, 17940, 17950, 17960, 17970, 17980, 17990, 18000, 18010, 18020, 18030, 18040, 18050, 18060, 18070, 18080, 18090, 18100, 18110, 18120, 18130, 18140, 18150, 18160, 18170, 18180, 18190, 18200, 18210, 18220, 18230, 18240, 18250, 18260, 18270, 18280, 18290, 18300, 18310, 18320, 18330, 18340, 18350, 18360, 18370, 18380, 18390, 18400, 18410, 18420, 18430, 18440, 18450, 18460, 18470, 18480, 18490, 18500, 18510, 18520, 18530, 18540, 18550, 18560, 18570, 18580, 18590, 18600, 18610, 18620, 18630, 18640, 18650, 18660, 18670, 18680, 18690, 18700, 18710, 18720, 18730, 18740, 18750, 18760, 18770, 18780, 18790, 18800, 18810, 18820, 18830, 18840, 18850, 18860, 18870, 18880, 18890, 18900, 18910, 18920, 18930, 18940, 18950, 18960, 18970, 18980, 18990, 19000, 19010, 19020, 19040, 19050, 19060, 19070, 19080, 19090, 19100, 19110, 19120, 19130, 19140, 19150, 19160, 19170, 19180, 19190, 19200, 19210, 19220, 19230, 19240, 19250, 19260, 19270, 19280, 19290, 19300, 19310, 19320, 19330, 19340, 19350, 19360, 19370, 19380, 19390, 19400, 19410, 19420, 19430, 19440, 19450, 19460, 19470, 19480, 19490, 19500, 19510, 19520, 19530, 19540, 19550, 19560, 19570, 19580, 19590, 19600, 19610, 19620, 19630, 19640, 19650, 19660, 19670, 19680, 19690, 19700, 19710, 19720, 19730, 19740, 19750, 19760, 19770, 19780, 19790, 19800, 19810, 19820, 19830, 19840, 19850, 19860, 19870, 19880, 19890, 19900, 19910, 19920, 19930, 19940, 19950, 19960, 19970, 19980, 19990, 20000, 20010, 20020, 20030, 20040, 20050, 20060, 20070, 20080, 20090, 20100, 20110, 20120, 20130, 20140, 20150, 20160, 20170, 20180, 20190, 20200, 20210, 20220, 20230, 20240, 20250, 20260, 20270, 20280, 20290, 20300, 20310, 20320, 20330, 20340, 20350, 20360, 20370, 20380, 20390, 20400, 20410, 20420, 20430, 20440, 20450, 20460, 20470, 20480, 20490, 20500, 20510, 20520, 20530, 20540, 20550, 20560, 20570, 20580, 20590, 20600, 20610, 20620, 20630, 20640, 20650, 20660, 20670, 20680, 20690, 20700, 20710, 20720, 20730, 20740, 20750, 20760, 20770, 20780, 20790, 20800, 20810, 20820, 20830, 20840, 20850, 20860, 20870, 20880, 20890, 20900, 20910, 20920, 20930, 20940, 20950, 20960, 20970, 20980, 20990, 21000, 21010, 21020, 21030, 21040, 21050, 21060, 21070, 21080, 21090, 21100, 21110, 21120, 21130, 21140, 21150, 21160, 21170, 21180, 21190, 21200, 21210, 21220, 21230, 21240, 21250, 21260, 21270, 21280, 21290, 21300, 21310, 21320, 21330, 21340, 21350, 21360, 21370, 21380, 21390, 21400, 21410, 21420, 21430, 21440, 21450, 21460, 21470, 21480, 21490, 21500, 21510, 21520, 21530, 21540, 21550, 21560, 21570, 21580, 21590, 21600, 21610, 21620, 21630, 21640, 21650, 21660, 21670, 21680, 21690, 21700, 21710, 21720, 21730, 21740, 21750, 21760, 21770, 21780, 21790, 21800, 21810, 21820, 21840, 21850, 21860, 21870, 21880, 21890, 21900, 21910, 21920, 21930, 21940, 21950, 21960, 21970, 21980, 21990, 22000, 22010, 22020, 22030, 22040, 22050, 22060, 22070, 22080, 22090, 22100, 22110, 22120, 22130, 22140, 22150, 22160, 22170, 22180, 22190, 22200, 22210, 22220, 22230, 22240, 22250, 22260, 22270, 22280, 22290, 22300, 22310, 22320, 22330, 22340, 22350, 22360, 22370, 22380, 22390, 22400, 22410, 22420, 22430, 22440, 22450, 22460, 22470, 22480, 22490, 22500, 22510, 22520, 22530, 22540, 22550, 22560, 22570, 22580, 22590, 22600, 22610, 22620, 22640, 22650, 22660, 22670, 22680, 22690, 22700, 22710, 22720, 22730, 22740, 22750, 22760, 22770, 22780, 22790, 22800, 22810, 22820, 22830, 22840, 22850, 22860, 22870, 22880, 22890, 22900, 22910, 22920, 22930, 22940, 22950, 22960, 22970, 22980, 22990, 23000, 23010, 23020, 23030, 23040, 23050, 23070, 23080, 23090, 23100, 23110, 23120, 23130, 23140, 23150, 23160, 23170, 23180, 23190, 23200, 23210, 23220, 23230, 23240, 23250, 23260, 23270, 23280, 23290, 23300, 23310, 23320, 23330, 23340, 23350, 23360, 23370, 23380, 23400, 23410, 23420, 23430, 23440, 23450, 23460, 23470, 23480, 23490, 23500, 23510, 23520, 23530, 23540, 23550, 23560, 23570, 23580, 23590, 23600, 23610, 23620, 23630, 23640, 23650, 23660, 23670, 23680, 23690, 23700, 23710, 23720, 23730, 23740, 23750, 23760, 23770, 23780, 23790, 23800, 23810, 23820, 23830, 23840, 23850, 23860, 23870, 23880, 23890, 23900, 23910, 23920, 23930, 23940, 23950, 23960, 23970, 23980, 23990, 24000, 24010, 24020, 24030, 24040, 24050, 24060, 24070, 24080, 24100, 24120, 24130, 24140, 24150, 24160, 24170, 24180, 24190, 24200, 24210, 24220, 24230, 24240, 24250, 24260, 24270, 24280, 24290, 24300, 24310, 24320, 24330, 24340, 24350, 24360, 24370, 24380, 24390, 24400, 24410, 24420, 24430, 24440, 24450, 24460, 24480, 24490, 24500, 24510, 24520, 24530, 24540, 24550, 24560, 24570, 24580, 24590, 24610, 24620, 24630, 24650, 24660, 24670, 24680, 24690, 24700, 24710, 24720, 24730, 24740, 24750, 24760, 24770, 24780, 24790, 24800, 24810, 24820, 24830, 24840, 24850, 24860, 24870, 24880, 24890, 24900, 24910, 24920, 24930, 24940, 24950, 24960, 24970, 24980, 24990, 25000, 25010, 25020, 25030, 25040, 25050, 25060, 25070, 25080, 25090, 25100, 25110, 25120, 25130, 25140, 25150, 25160, 25170, 25180, 25190, 25200, 25210, 25220, 25230, 25240, 25250, 25260, 25270, 25280, 25290, 25300, 25310, 25320, 25330, 25340, 25350, 25360, 25370, 25380, 25390, 25400, 25410, 25420, 25430, 25440, 25450, 25460, 25470, 25480, 25490, 25500, 25510, 25520, 25530, 25540, 25550, 25560, 25570, 25580, 25590, 25600, 25610, 25620, 25630, 25640, 25650, 25660, 25670, 25680, 25690, 25700, 25710, 25720, 25730, 25740, 25750, 25760, 25770, 25780, 25790, 25800, 25810, 25820, 25830, 25840, 25850, 25860, 25870, 25880, 25890, 25900, 25910, 25920, 25930, 25940, 25950, 25960, 25970, 25980, 25990, 26000, 26010, 26020, 26030, 26040, 26050, 26060, 26070, 26080, 26090, 26100, 26110, 26120, 26130, 26140, 26150, 26160, 26170, 26180, 26190, 26200, 26210, 26220, 26230, 26240, 26250, 26260, 26270, 26280, 26290, 26300, 26310, 26320, 26330, 26340, 26350, 26360, 26370, 26380, 26390, 26400, 26410, 26420, 26440, 26450, 26460, 26470, 26480, 26490, 26500, 26510, 26520, 26530, 26540, 26550, 26560, 26570, 26580, 26590, 26600, 26610, 26620, 26650, 26660, 26670, 26680, 26690, 26700, 26710, 26720, 26730, 26740, 26750, 26760, 26770, 26780, 26790, 26800, 26810, 26820, 26840, 26850, 26860, 26870, 26880, 26890, 26900, 26910, 26920, 26930, 26940, 26950, 26960, 26970, 26980, 26990, 27000, 27010, 27030, 27050, 27060, 27070, 27080, 27090, 27100, 27110, 27120, 27130, 27140, 27150, 27160, 27170, 27180, 27190, 27200, 27210, 27220, 27230, 27240, 27250, 27260, 27270, 27280, 27290, 27300, 27310, 27320, 27330, 27340, 27350, 27360, 27370, 27380, 27390, 27400, 27410, 27420, 27430, 27440, 27450, 27460, 27470, 27480, 27490, 27500, 27510, 27520, 27530, 27540, 27550, 27560, 27570, 27580, 27590, 27600, 27610, 27620, 27630, 27640, 27650, 27660, 27670, 27680, 27690, 27700, 27710, 27720, 27730, 27740, 27750, 27760, 27770, 27780, 27790, 27800, 27820, 27830, 27840, 27850, 27860, 27870, 27880, 27890, 27900, 27910, 27920, 27930, 27940, 27950, 27960, 27970, 27980, 28000, 28010, 28020, 28030, 28040, 28060, 28070, 28080, 28090, 28100, 28110, 28120, 28130, 28140, 28150, 28160, 28170, 28180, 28200, 28210, 28220, 28230, 28240, 28260, 28270, 28280, 28290, 28300, 28310, 28330, 28340, 28350, 28360, 28370, 28380, 28390, 28400, 28410, 28420, 28440, 28450, 28460, 28470, 28480, 28490, 28510, 28520, 28540, 28550, 28560, 28570, 28580, 28590, 28600, 28610, 28620, 28630, 28640, 28650, 28660, 28670, 28680, 28690, 28700, 28710, 28720, 28730, 28740, 28750, 28760, 28770, 28780, 28790, 28800, 28810, 28820, 28830, 28840, 28850, 28860, 28870, 28880, 28890, 28900, 28910, 28920, 28930, 28940, 28950, 28960, 28970, 28980, 28990, 29000, 29010, 29020, 29030, 29040, 29050, 29060, 29070, 29080, 29090, 29110, 29120, 29130, 29140, 29150, 29160, 29170, 29180, 29190, 29200, 29210, 29220, 29240, 29250, 29260, 29270, 29280, 29290, 29300, 29310, 29320, 29330, 29340, 29350, 29360, 29370, 29380, 29390, 29400, 29410, 29420, 29430, 29440, 29450, 29470, 29480, 29500, 29510, 29520, 29530, 29550, 29560, 29570, 29580, 29590, 29600, 29610, 29620, 29630, 29650, 29660, 29670, 29680, 29690, 29700, 29710, 29720, 29730, 29740, 29750, 29760, 29770, 29780, 29800, 29810, 29820, 29860, 29870, 29880, 29890, 29900, 29910, 29920, 29930, 29960, 29970, 29980, 29990, 30000, 30010, 30020, 30030, 30040, 30060, 30080, 30090, 30100, 30120, 30130, 30140, 30150, 30160, 30170, 30180, 30190, 30200, 30210, 30240, 30260, 30270, 30280, 30290, 30300, 30310, 30320, 30330, 30340, 30350, 30380, 30390, 30400, 30420, 30430, 30440, 30450, 30470, 30480, 30500, 30510, 30520, 30530, 30540, 30550, 30560, 30570, 30600, 30610, 30620, 30630, 30640, 30670, 30680, 30690, 30700, 30710, 30730, 30740, 30750, 30760, 30780, 30790, 30800, 30810, 30820, 30830, 30840, 30850, 30860, 30880, 30890, 30900, 30920, 30930, 30940, 30950, 30960, 30970, 30980, 30990, 31000, 31020, 31030, 31040, 31050, 31060, 31080, 31090, 31100, 31120, 31130, 31140, 31150, 31170, 31180, 31190, 31200, 31210, 31220, 31230, 31240, 31250, 31260, 31270, 31280, 31290, 31300, 31310, 31320, 31330, 31340, 31350, 31360, 31370, 31380, 31390, 31400, 31410, 31420, 31430, 31440, 31450, 31460, 31470, 31480, 31490, 31500, 31530, 31540, 31560, 31570, 31580, 31590, 31600, 31610, 31640, 31670, 31680, 31690, 31710, 31720, 31730, 31740, 31750, 31760, 31770, 31780, 31790, 31800, 31810, 31820, 31830, 31840, 31850, 31870, 31880, 31900, 31910, 31920, 31930, 31940, 31950, 31960, 31970, 31990, 32000, 32010, 32030, 32040, 32050, 32060, 32080, 32100, 32110, 32120, 32130, 32140, 32160, 32170, 32180, 32190, 32200, 32210, 32220, 32240, 32250, 32260, 32270, 32280, 32290, 32300, 32310, 32320, 32330, 32340, 32360, 32370, 32390, 32400, 32410, 32420, 32430, 32450, 32460, 32470, 32480, 32490, 32500, 32510, 32520, 32530, 32550, 32580, 32600, 32610, 32630, 32640, 32650, 32660, 32670, 32680, 32690, 32700, 32710, 32720, 32740, 32760, 32770, 32780, 32790, 32820, 32830, 32840, 32850, 32860, 32870, 32880, 32900, 32910, 32930, 32940, 32950, 32960, 32970, 32980, 32990, 33010, 33020, 33030, 33050, 33060, 33070, 33080, 33100, 33110, 33120, 33150, 33160, 33170, 33190, 33200, 33220, 33240, 33250, 33260, 33270, 33280, 33290, 33300, 33310, 33320, 33340, 33350, 33360, 33380, 33390, 33400, 33420, 33480, 33490, 33500, 33510, 33520, 33530, 33540, 33550, 33560, 33570, 33580, 33590, 33600, 33610, 33620, 33640, 33650, 33660, 33670, 33680, 33700, 33710, 33720, 33730, 33740, 33750, 33760, 33780, 33790, 33800, 33830, 33850, 33860, 33880, 33890, 33900, 33910, 33920, 33930, 33950, 33960, 33970, 33980, 33990, 34000, 34020, 34030, 34040, 34050, 34060, 34080, 34090, 34100, 34110, 34120, 34140, 34150, 34160, 34180, 34190, 34220, 34240, 34250, 34260, 34270, 34280, 34290, 34300, 34310, 34320, 34330, 34340, 34350, 34360, 34370, 34380, 34390, 34400, 34410, 34420, 34430, 34440, 34450, 34460, 34470, 34480, 34500, 34520, 34540, 34560, 34570, 34580, 34590, 34610, 34630, 34640, 34650, 34660, 34670, 34680, 34690, 34700, 34710, 34730, 34740, 34750, 34760, 34770, 34780, 34790, 34800, 34810, 34820, 34830, 34840, 34860, 34870, 34890, 34900, 34930, 34950, 34960, 34970, 34980, 34990, 35010, 35020, 35030, 35050, 35060, 35080, 35090, 35100, 35110, 35120, 35130, 35140, 35150, 35160, 35170, 35180, 35190, 35200, 35220, 35230, 35240, 35250, 35260, 35270, 35290, 35300, 35310, 35320, 35340, 35350, 35370, 35390, 35400, 35410, 35430, 35440, 35450, 35460, 35470, 35480, 35490, 35500, 35510, 35520, 35530, 35540, 35550, 35560, 35590, 35600, 35620, 35640, 35660, 35670, 35680, 35690, 35700, 35710, 35720, 35730, 35740, 35750, 35780, 35810, 35820, 35830, 35840, 35850, 35860, 35870, 35880, 35890, 35900, 35910, 35920, 35930, 35950, 35970, 35980, 35990, 36000, 36020, 36050, 36060, 36070, 36080, 36100, 36120, 36130, 36140, 36150, 36170, 36200, 36220, 36250, 36260, 36270, 36300, 36310, 36320, 36330, 36340, 36350, 36360, 36370, 36390, 36400, 36410, 36440, 36450, 36460, 36470, 36480, 36500, 36530, 36580, 36590, 36600, 36610, 36630, 36640, 36650, 36660, 36670, 36680, 36690, 36700, 36710, 36720, 36730, 36750, 36760, 36780, 36790, 36820, 36840, 36850, 36860, 36870, 36880, 36890, 36900, 36910, 36920, 36930, 36950, 36970, 36980, 37000, 37020, 37030, 37040, 37050, 37060, 37070, 37080, 37090, 37100, 37110, 37120, 37160, 37170, 37180, 37190, 37200, 37220, 37240, 37280, 37290, 37300, 37310, 37320, 37330, 37350, 37360, 37370, 37390, 37400, 37430, 37440, 37450, 37460, 37480, 37500, 37510, 37520, 37540, 37550, 37560, 37570, 37580, 37610, 37630, 37660, 37680, 37700, 37730, 37740, 37760, 37770, 37790, 37820, 37830, 37840, 37850, 37880, 37890, 37900, 37910, 37930, 37950, 37960, 37980, 37990, 38010, 38020, 38040, 38050, 38060, 38070, 38080, 38090, 38100, 38110, 38120, 38140, 38150, 38160, 38170, 38190, 38200, 38210, 38220, 38230, 38240, 38250, 38260, 38270, 38280, 38290, 38310, 38320, 38330, 38350, 38360, 38370, 38380, 38400, 38420, 38460, 38470, 38500, 38510, 38520, 38530, 38550, 38560, 38590, 38600, 38670, 38690, 38710, 38720, 38730, 38750, 38760, 38770, 38780, 38800, 38810, 38830, 38840, 38850, 38870, 38880, 38890, 38900, 38910, 38920, 38940, 38950, 38960, 38970, 39000, 39010, 39020, 39040, 39050, 39070, 39080, 39100, 39120, 39150, 39160, 39170, 39180, 39200, 39210, 39240, 39250, 39270, 39280, 39310, 39330, 39340, 39350, 39360, 39370, 39380, 39400, 39420, 39430, 39440, 39450, 39460, 39490, 39500, 39510, 39520, 39530, 39540, 39550, 39560, 39580, 39590, 39600, 39670, 39680, 39700, 39710, 39720, 39730, 39740, 39770, 39790, 39820, 39860, 39870, 39880, 39890, 39900, 39910, 39920, 39950, 39970, 39980, 40000, 40010, 40020, 40030, 40040, 40050, 40060, 40090, 40100, 40110, 40120, 40130, 40140, 40160, 40170, 40180, 40220, 40230, 40240, 40270, 40280, 40300, 40350, 40360, 40370, 40390, 40400, 40410, 40420, 40430, 40440, 40450, 40460, 40480, 40490, 40500, 40520, 40540, 40550, 40560, 40570, 40580, 40590, 40600, 40610, 40620, 40650, 40670, 40680, 40690, 40700, 40710, 40770, 40790, 40800, 40820, 40830, 40840, 40860, 40890, 40900, 40920, 40940, 40950, 40960, 40980, 41000, 41010, 41030, 41040, 41060, 41070, 41080, 41090, 41110, 41120, 41140, 41170, 41200, 41210, 41220, 41230, 41240, 41250, 41260, 41270, 41280, 41300, 41310, 41320, 41330, 41340, 41360, 41390, 41400, 41480, 41490, 41500, 41520, 41530, 41540, 41550, 41570, 41580, 41590, 41600, 41610, 41620, 41630, 41660, 41700, 41710, 41720, 41770, 41810, 41830, 41840, 41850, 41860, 41890, 41910, 41920, 41940, 41950, 41960, 41970, 41980, 42030, 42040, 42050, 42070, 42080, 42090, 42100, 42110, 42120, 42130, 42220, 42230, 42250, 42260, 42280, 42310, 42320, 42330, 42350, 42360, 42380, 42390, 42400, 42420, 42440, 42460, 42470, 42490, 42500, 42520, 42530, 42550, 42560, 42570, 42590, 42610, 42640, 42650, 42660, 42680, 42710, 42720, 42730, 42740, 42750, 42770, 42780, 42810, 42820, 42840, 42880, 42930, 42940, 42970, 42980, 42990, 43040, 43050, 43060, 43090, 43120, 43130, 43140, 43170, 43190, 43200, 43250, 43280, 43290, 43300, 43310, 43320, 43330, 43350, 43360, 43380, 43400, 43410, 43430, 43440, 43460, 43480, 43520, 43530, 43540, 43550, 43570, 43580, 43610, 43640, 43690, 43700, 43710, 43740, 43760, 43780, 43790, 43800, 43810, 43840, 43860, 43900, 43910, 43920, 43940, 43950, 43970, 43980, 43990, 44010, 44020, 44040, 44050, 44060, 44070, 44080, 44090, 44110, 44150, 44160, 44170, 44190, 44200, 44220, 44230, 44240, 44280, 44290, 44300, 44310, 44330, 44340, 44350, 44400, 44410, 44440, 44460, 44470, 44480, 44500, 44510, 44520, 44530, 44590, 44610, 44620, 44640, 44670, 44700, 44750, 44760, 44780, 44800, 44810, 44820, 44840, 44860, 44890, 44930, 44940, 44950, 44970, 45080, 45090, 45170, 45190, 45200, 45280, 45300, 45350, 45370, 45410, 45440, 45460, 45490, 45540, 45550, 45570, 45590, 45600, 45620, 45640, 45650, 45660, 45700, 45710, 45720, 45740, 45760, 45820, 45830, 45840, 45910, 45920, 45930, 45940, 45970, 45980, 46030, 46040, 46050, 46060, 46080, 46130, 46150, 46160, 46180, 46230, 46240, 46250, 46300, 46340, 46350, 46390, 46400, 46410, 46420, 46430, 46450, 46460, 46480, 46510, 46520, 46540, 46590, 46620, 46630, 46640, 46670, 46680, 46700, 46740, 46750, 46760, 46800, 46820, 46830, 46840, 46860, 46870, 46890, 46910, 46980, 46990, 47020, 47040, 47050, 47100, 47110, 47120, 47140, 47200, 47220, 47240, 47260, 47330, 47340, 47360, 47400, 47410, 47440, 47460, 47480, 47490, 47510, 47520, 47540, 47570, 47580, 47600, 47610, 47630, 47660, 47690, 47700, 47730, 47740, 47750, 47780, 47790, 47800, 47810, 47820, 47870, 47890, 47900, 47920, 47950, 47990, 48030, 48040, 48050, 48060, 48070, 48100, 48140, 48190, 48240, 48260, 48270, 48310, 48320, 48330, 48350, 48360, 48370, 48400, 48410, 48420, 48430, 48440, 48470, 48480, 48560, 48600, 48630, 48650, 48670, 48680, 48740, 48760, 48780, 48800, 48820, 48830, 48840, 48860, 48870, 48910, 48930, 48970, 49010, 49030, 49100, 49120, 49150, 49160, 49180, 49190, 49200, 49210, 49240, 49250, 49260, 49340, 49350, 49380, 49420, 49430, 49440, 49460, 49470, 49490, 49500, 49570, 49580, 49590, 49640, 49650, 49660, 49710, 49740, 49800, 49810, 49830, 49850, 49860, 49910, 49920, 49930, 49940, 49980, 49990, 50000, 50050, 50060, 50070, 50100, 50120, 50140, 50150, 50170, 50200, 50210, 50230, 50260, 50270, 50320, 50340, 50360, 50410, 50430, 50440, 50470, 50500, 50510, 50520, 50530, 50550, 50560, 50570, 50630, 50640, 50690, 50710, 50740, 50780, 50860, 50880, 50920, 50950, 50960, 50990, 51010, 51020, 51050, 51060, 51070, 51080, 51130, 51140, 51160, 51210, 51220, 51240, 51270, 51290, 51300, 51320, 51380, 51400, 51420, 51430, 51440, 51490, 51550, 51590, 51600, 51620, 51630, 51680, 51690, 51700, 51710, 51750, 51760, 51780, 51790, 51830, 51850, 51880, 51890, 51910, 51960, 51990, 52000, 52020, 52050, 52060, 52070, 52100, 52110, 52150, 52170, 52250, 52280, 52310, 52330, 52340, 52350, 52400, 52420, 52450, 52470, 52480, 52490, 52510, 52530, 52550, 52560, 52610, 52630, 52640, 52700, 52750, 52760, 52780, 52790, 52830, 52840, 52850, 52870, 52880, 52900, 52920, 52950, 52960, 52990, 53000, 53010, 53050, 53120, 53160, 53200, 53210, 53230, 53260, 53320, 53330, 53390, 53450, 53530, 53540, 53570, 53580, 53590, 53600, 53610, 53620, 53640, 53660, 53710, 53720, 53730, 53850, 53860, 53880, 53890, 53900, 53940, 53950, 53970, 53980, 54080, 54090, 54110, 54120, 54240, 54260, 54290, 54310, 54340, 54370, 54400, 54440, 54470, 54530, 54580, 54600, 54630, 54660, 54750, 54800, 54810, 54820, 54880, 54890, 54900, 54910, 54980, 55000, 55040, 55050, 55080, 55170, 55200, 55240, 55270, 55280, 55290, 55350, 55410, 55420, 55460, 55480, 55510, 55520, 55590, 55610, 55630, 55730, 55750, 55760, 55850, 55860, 55920, 55930, 55940, 55960, 55980, 55990, 56010, 56070, 56080, 56100, 56170, 56190, 56200, 56280, 56290, 56330, 56360, 56460, 56470, 56520, 56530, 56550, 56560, 56630, 56640, 56660, 56680, 56710, 56730, 56780, 56820, 56890, 56970, 56980, 57010, 57050, 57080, 57120, 57210, 57240, 57280, 57300, 57390, 57440, 57470, 57500, 57520, 57540, 57560, 57610, 57670, 57680, 57820, 57830, 57840, 57850, 57950, 57970, 58000, 58010, 58100, 58110, 58140, 58150, 58160, 58170, 58250, 58310, 58320, 58360, 58380, 58450, 58460, 58520, 58560, 58690, 58720, 58840, 58930, 58940, 58990, 59000, 59030, 59060, 59150, 59210, 59240, 59250, 59360, 59370, 59390, 59450, 59490, 59600, 59730, 59920, 59940, 60050, 60070, 60080, 60100, 60160, 60280, 60290, 60330, 60380, 60390, 60410, 60430, 60460, 60530, 60550, 60560, 60610, 60640, 60680, 60720, 60800, 60810, 60880, 60910, 61000, 61080, 61160, 61200, 61280, 61310, 61360, 61390, 61460, 61630, 61800, 61880, 61920, 62000, 62020, 62040, 62160, 62260, 62290, 62300, 62410, 62460, 62500, 62510, 62670, 62680, 62700, 62750, 62800, 62820, 62960, 63040, 63080, 63090, 63100, 63140, 63210, 63250, 63280, 63310, 63320, 63330, 63380, 63400, 63420, 63510, 63520, 63630, 63710, 63730, 63830, 63840, 63860, 64030, 64160, 64260, 64360, 64390, 64490, 64530, 64540, 64550, 64640, 64650, 64740, 64780, 64950, 65100, 65130, 65140, 65150, 65260, 65290, 65300, 65330, 65510, 65580, 65600, 65770, 65790, 65880, 66000, 66020, 66080, 66140, 66180, 66250, 66400, 66410, 66480, 66690, 66720, 66790, 66900, 67050, 67060, 67070, 67160, 67220, 67240, 67250, 67330, 67450, 67490, 67510, 67790, 67830, 67870, 67950, 68010, 68030, 68080, 68090, 68120, 68220, 68380, 68470, 68490, 68500, 68620, 68640, 68710, 68830, 69260, 69300, 69360, 69560, 69620, 69870, 69920, 70000, 70080, 70270, 70560, 70830, 70900, 70990, 71000, 71030, 71070, 71140, 71260, 71270, 71300, 71360, 71370, 71400, 71720, 71740, 71800, 71880, 71900, 72070, 72150, 72240, 72330, 72490, 72540, 72600, 72670, 72680, 72920, 72930, 72950, 72980, 73080, 73200, 73400, 73430, 73480, 73510, 73550, 73610, 73950, 73980, 74080, 74160, 74170, 74410, 74450, 74460, 74580, 75440, 75560, 75570, 75670, 75690, 75840, 76030, 76040, 76200, 76340, 76480, 76750, 76920, 76960, 77040, 77160, 77260, 77430, 77500, 77520, 77580, 77680, 77770, 77870, 78150, 78750, 79090, 79160, 79170, 79240, 80090, 80170, 80210, 80280, 80610, 80620, 80650, 80680, 80860, 80890, 80940, 80980, 81400, 81690, 81750, 82520, 82550, 82830, 82960, 83120, 83390, 83620, 83630, 83870, 83900, 84010, 84040, 84050, 84140, 84320, 84360, 84380, 84540, 84700, 84730, 84860, 85100, 85430, 85460, 85500, 85580, 85630, 85640, 85660, 85770, 85780, 85900, 85910, 85980, 86010, 86030, 86320, 86340, 86460, 86810, 86960, 86980, 87290, 87360, 87840, 88170, 88590, 89180, 89320, 89460, 89520, 89970, 90020, 90040, 92320, 92630, 93010, 94270, 94830, 94990, 95210, 95410, 95940, 96070, 96420, 98430, 98770, 99810, 101530, 102020, 103880, 104800, 104850, 105350, 106100, 106920, 106970, 107470, 108040, 108240, 108340, 109270, 111220, 112980, 113630, 114930, 119160, 121160, 124510, 130300, 132580, 132720, 136200, 136750, 142870, 154240, 175000]\n",
      "VT_AVG =  [10.0, 13.333333333333334, 15.0, 19.0, 20.0, 22.5, 23.333333333333332, 24.0, 25.0, 26.666666666666668, 27.142857142857142, 28.0, 28.571428571428573, 28.75, 30.0, 31.53846153846154, 32.0, 32.5, 32.666666666666664, 33.333333333333336, 34.0, 35.0, 36.0, 36.666666666666664, 37.0, 37.5, 38.0, 38.108108108108105, 40.0, 41.42857142857143, 42.0, 42.22222222222222, 42.5, 43.333333333333336, 43.75, 44.42307692307692, 44.44444444444444, 45.0, 46.666666666666664, 47.5, 47.73109243697479, 47.77777777777778, 48.0, 50.0, 51.42857142857143, 51.81818181818182, 52.5, 53.333333333333336, 53.84615384615385, 54.0, 54.21052631578947, 54.285714285714285, 55.0, 56.0, 56.666666666666664, 57.5, 58.0, 58.888888888888886, 59.09090909090909, 60.0, 60.90909090909091, 61.42857142857143, 61.666666666666664, 62.5, 63.333333333333336, 63.529411764705884, 64.21052631578948, 65.0, 65.29411764705883, 65.5, 66.0, 67.5, 68.18181818181819, 70.0, 71.0, 71.42857142857143, 71.66666666666667, 71.69811320754717, 71.71428571428571, 72.0, 72.5, 73.07692307692308, 73.33333333333333, 74.0, 75.0, 76.0, 76.66666666666667, 77.5, 78.0, 78.18181818181819, 78.75, 78.88059701492537, 79.33333333333333, 80.0, 80.77777777777777, 80.96774193548387, 82.5, 82.85714285714286, 83.33333333333333, 83.75, 83.78378378378379, 84.28571428571429, 85.0, 85.1685393258427, 85.18518518518519, 85.5, 85.71428571428571, 86.0, 86.66666666666667, 87.72727272727273, 88.0, 88.71794871794872, 90.0, 92.08333333333333, 92.22222222222223, 92.5, 93.33333333333333, 94.28571428571429, 95.0, 95.17857142857143, 95.45454545454545, 95.625, 96.0, 96.42857142857143, 96.66666666666667, 97.14285714285714, 97.41935483870968, 97.5, 97.61904761904762, 97.83783783783784, 97.9047619047619, 98.57142857142857, 98.88888888888889, 99.0, 100.0, 100.55555555555556, 100.9090909090909, 102.0, 102.5, 103.33333333333333, 104.0, 104.78260869565217, 105.0, 105.45454545454545, 105.5, 105.76923076923077, 106.0, 106.42857142857143, 106.66666666666667, 106.92307692307692, 107.5, 107.6470588235294, 107.6984126984127, 107.97297297297297, 108.33333333333333, 109.54545454545455, 110.0, 111.05263157894737, 111.25, 111.42857142857143, 111.66666666666667, 112.0, 112.5, 112.80898876404494, 113.33333333333333, 113.75, 113.78378378378379, 115.0, 115.71428571428571, 116.66666666666667, 117.27272727272727, 117.38095238095238, 117.5, 118.0, 118.33333333333333, 118.57142857142857, 118.75, 119.72222222222223, 119.92857142857143, 120.0, 122.0, 122.5, 122.66129032258064, 122.85714285714286, 123.125, 123.33333333333333, 123.63636363636364, 124.0, 124.21052631578948, 124.48275862068965, 125.0, 125.23809523809524, 125.52941176470588, 126.36363636363636, 126.45161290322581, 126.66666666666667, 127.27272727272727, 127.5, 127.79661016949153, 128.33333333333334, 128.75, 128.88888888888889, 128.94736842105263, 129.0, 130.0, 130.66666666666666, 132.02020202020202, 132.45901639344262, 132.5, 132.8, 133.33333333333334, 133.94736842105263, 134.0, 134.45454545454547, 135.0, 136.0, 136.66666666666666, 136.78571428571428, 137.14285714285714, 137.40740740740742, 137.5, 138.0, 139.77611940298507, 140.0, 140.71428571428572, 141.0, 141.11111111111111, 141.1764705882353, 141.25, 141.42857142857142, 141.5, 141.66666666666666, 142.35294117647058, 142.5, 143.33333333333334, 144.28571428571428, 144.73684210526315, 144.8148148148148, 145.0, 145.17241379310346, 146.0, 146.47058823529412, 146.66666666666666, 147.06896551724137, 147.33333333333334, 147.38095238095238, 147.5, 147.64705882352942, 148.0, 148.1818181818182, 148.23529411764707, 148.75, 149.01408450704224, 149.0909090909091, 149.6153846153846, 150.0, 150.71428571428572, 151.25, 151.85185185185185, 152.0, 152.5, 152.94117647058823, 153.07692307692307, 153.33333333333334, 153.75, 154.0, 154.84848484848484, 155.0, 156.0, 156.66666666666666, 157.5, 157.77777777777777, 157.89473684210526, 158.0, 158.3783783783784, 158.57142857142858, 158.9189189189189, 160.0, 161.42857142857142, 162.38095238095238, 162.5, 162.59259259259258, 162.85714285714286, 163.33333333333334, 164.28571428571428, 165.0, 165.07042253521126, 165.71428571428572, 165.88235294117646, 166.0, 166.66666666666666, 167.14285714285714, 168.8, 168.93617021276594, 170.0, 170.83333333333334, 171.11111111111111, 171.42857142857142, 171.66666666666666, 172.5, 172.67045454545453, 172.77777777777777, 173.33333333333334, 173.5, 173.6290322580645, 173.75, 174.0, 174.21052631578948, 174.6153846153846, 175.0, 175.33333333333334, 175.47619047619048, 175.9090909090909, 176.0, 176.66666666666666, 176.85185185185185, 177.5, 177.69230769230768, 178.0, 178.0487804878049, 178.33333333333334, 178.42105263157896, 178.57142857142858, 180.0, 180.45454545454547, 181.42857142857142, 182.0, 182.5, 183.33333333333334, 183.66666666666666, 184.28571428571428, 184.7058823529412, 184.83516483516485, 185.0, 185.13513513513513, 185.41666666666666, 185.45454545454547, 185.63636363636363, 186.0, 186.66666666666666, 186.875, 187.0, 187.05882352941177, 187.5, 187.85714285714286, 187.91666666666666, 188.0, 188.57142857142858, 189.0, 189.23076923076923, 190.0, 190.76923076923077, 191.0, 191.25, 192.0, 192.30769230769232, 192.4, 192.5, 192.58064516129033, 192.94117647058823, 193.0, 193.125, 193.33333333333334, 194.0, 194.6153846153846, 194.7058823529412, 195.0, 195.2941176470588, 195.48387096774192, 196.66666666666666, 196.7948717948718, 196.8181818181818, 197.33333333333334, 198.0, 198.1818181818182, 198.42105263157896, 199.44444444444446, 200.0, 200.76923076923077, 201.01694915254237, 201.25, 201.42857142857142, 201.6, 202.0, 202.12121212121212, 202.35294117647058, 202.5, 203.33333333333334, 203.47826086956522, 204.28571428571428, 204.44444444444446, 204.54545454545453, 205.0, 205.23809523809524, 205.33333333333334, 205.55555555555554, 205.71428571428572, 206.42857142857142, 206.66666666666666, 207.14285714285714, 207.5, 208.0, 208.21428571428572, 208.33333333333334, 208.8, 209.0, 209.0909090909091, 209.16666666666666, 210.0, 210.88235294117646, 212.0, 212.14285714285714, 212.5, 213.33333333333334, 213.63636363636363, 213.84615384615384, 214.0, 215.0, 215.71428571428572, 216.0, 216.25, 216.2913907284768, 216.66666666666666, 217.33333333333334, 217.5, 217.5609756097561, 218.0, 218.1818181818182, 218.8235294117647, 219.15584415584416, 219.3939393939394, 219.41176470588235, 220.0, 220.3846153846154, 221.05263157894737, 221.6, 221.8181818181818, 222.0, 222.22222222222223, 222.44444444444446, 222.5, 222.77777777777777, 222.85714285714286, 223.07692307692307, 223.2394366197183, 223.33333333333334, 223.7037037037037, 224.0, 224.34782608695653, 225.0, 225.2941176470588, 225.3125, 225.41666666666666, 226.1764705882353, 226.25, 226.47058823529412, 226.55172413793105, 226.66666666666666, 226.8181818181818, 226.8421052631579, 226.94444444444446, 227.14285714285714, 227.35294117647058, 227.5, 227.77777777777777, 227.85714285714286, 227.93103448275863, 228.0, 228.33333333333334, 228.75, 229.0, 229.03614457831324, 229.33333333333334, 230.0, 230.8695652173913, 231.0, 231.11111111111111, 231.2, 231.42857142857142, 231.66666666666666, 232.0, 232.42857142857142, 232.72727272727272, 233.013698630137, 233.33333333333334, 233.75, 234.0, 234.0909090909091, 234.28571428571428, 234.76190476190476, 235.0, 235.6451612903226, 235.88235294117646, 236.0, 236.11111111111111, 236.25, 236.66666666666666, 237.14285714285714, 237.5, 238.0, 238.33333333333334, 238.75, 238.88888888888889, 239.0, 239.01408450704224, 239.41176470588235, 240.0, 240.125, 240.66666666666666, 241.0, 241.11111111111111, 241.66666666666666, 242.0, 242.2841225626741, 242.3684210526316, 242.85714285714286, 242.91666666666666, 243.29787234042553, 243.33333333333334, 243.63636363636363, 243.75, 244.0, 244.16666666666666, 244.28571428571428, 244.5, 244.64285714285714, 245.0, 245.71428571428572, 246.0, 246.25, 246.66666666666666, 247.5, 247.77777777777777, 248.0, 248.33333333333334, 249.0909090909091, 249.72972972972974, 250.0, 250.26315789473685, 251.23456790123456, 251.25, 251.42857142857142, 251.66666666666666, 251.76470588235293, 251.91489361702128, 252.0, 252.5, 252.91666666666666, 253.33333333333334, 254.0, 254.0151515151515, 254.24242424242425, 254.375, 255.0, 255.17241379310346, 255.71428571428572, 256.37931034482756, 256.6666666666667, 257.5, 257.6923076923077, 257.89473684210526, 258.71794871794873, 258.94736842105266, 258.9830508474576, 259.09090909090907, 259.44444444444446, 260.0, 260.3703703703704, 261.5, 261.6666666666667, 261.8181818181818, 262.0, 262.42424242424244, 262.5, 262.60869565217394, 263.3333333333333, 263.44827586206895, 263.57142857142856, 264.0, 264.3478260869565, 264.59016393442624, 264.64285714285717, 264.6666666666667, 265.0, 265.4901960784314, 265.8333333333333, 266.0, 266.6666666666667, 267.5, 268.0, 268.0952380952381, 268.57142857142856, 269.09090909090907, 269.1666666666667, 270.0, 270.45454545454544, 270.5, 270.64516129032256, 270.8333333333333, 270.90909090909093, 270.95238095238096, 271.1111111111111, 271.25, 271.6666666666667, 272.0, 272.3076923076923, 273.0, 273.125, 273.3333333333333, 273.75, 273.8888888888889, 274.0, 274.11764705882354, 274.61538461538464, 275.0, 275.2173913043478, 275.38461538461536, 275.5, 275.55555555555554, 275.7142857142857, 275.8333333333333, 276.0, 276.47058823529414, 276.6666666666667, 277.5, 277.77777777777777, 278.0, 278.29787234042556, 278.84057971014494, 279.1666666666667, 279.77272727272725, 280.0, 280.37735849056605, 280.625, 281.1111111111111, 281.42857142857144, 281.9047619047619, 282.0, 282.3809523809524, 282.5, 282.77777777777777, 282.962962962963, 283.0, 283.1818181818182, 283.3333333333333, 283.57142857142856, 284.0, 284.11764705882354, 284.54545454545456, 284.8484848484849, 285.0, 285.1470588235294, 285.86206896551727, 286.0, 286.6666666666667, 287.0833333333333, 287.14285714285717, 287.22222222222223, 287.5, 287.77777777777777, 287.8125, 288.0, 288.8888888888889, 289.2307692307692, 290.0, 290.5263157894737, 290.74074074074076, 291.6666666666667, 292.5, 292.7027027027027, 293.04347826086956, 293.0769230769231, 293.3333333333333, 293.6842105263158, 293.75, 293.8095238095238, 293.8775510204082, 294.0, 294.2857142857143, 294.54545454545456, 294.69026548672565, 294.70588235294116, 294.8, 295.0, 295.6, 295.70093457943926, 296.0, 296.3636363636364, 296.6666666666667, 296.7857142857143, 297.14285714285717, 297.5, 297.741935483871, 298.0, 298.3333333333333, 298.75, 299.0, 299.2857142857143, 299.5238095238095, 300.0, 300.8, 301.1111111111111, 301.25, 301.30434782608694, 301.57894736842104, 302.0, 302.10526315789474, 302.14285714285717, 302.3529411764706, 302.5, 302.85714285714283, 303.14285714285717, 303.3333333333333, 303.40909090909093, 303.8095238095238, 303.84615384615387, 303.9622641509434, 304.0, 304.2857142857143, 304.3478260869565, 304.4660194174757, 304.54545454545456, 304.8, 305.0, 305.3284671532847, 306.0, 306.1111111111111, 306.25, 306.6666666666667, 306.8918918918919, 307.1794871794872, 307.5, 307.6923076923077, 308.0, 308.1372549019608, 308.3333333333333, 308.46153846153845, 308.62595419847327, 308.6842105263158, 308.75, 309.1666666666667, 309.82142857142856, 310.0, 310.8333333333333, 311.0, 311.1111111111111, 311.25, 311.6666666666667, 311.7647058823529, 312.0, 312.5, 312.85714285714283, 312.8921568627451, 313.0, 313.1818181818182, 313.3333333333333, 313.5, 313.84615384615387, 314.61538461538464, 314.76190476190476, 315.0, 315.23809523809524, 315.35714285714283, 315.45454545454544, 315.7142857142857, 315.8333333333333, 316.0, 316.3157894736842, 316.6666666666667, 316.969696969697, 317.0, 317.04918032786884, 317.14285714285717, 317.22222222222223, 317.5, 317.67857142857144, 317.77777777777777, 318.0, 318.57142857142856, 318.75, 319.02777777777777, 319.09090909090907, 319.5833333333333, 319.72972972972974, 319.7647058823529, 320.0, 320.4166666666667, 320.4761904761905, 320.5263157894737, 320.55555555555554, 320.7692307692308, 321.0, 321.6666666666667, 322.0, 322.22222222222223, 322.5, 323.0, 323.3333333333333, 323.6842105263158, 324.0, 324.44444444444446, 324.6666666666667, 325.0, 325.2857142857143, 325.5, 326.0, 326.15384615384613, 326.6666666666667, 326.875, 327.05882352941177, 327.22222222222223, 327.5, 328.0, 328.13953488372096, 328.3333333333333, 328.38709677419354, 328.57142857142856, 328.75, 328.8888888888889, 329.7959183673469, 330.0, 330.2262443438914, 330.9848484848485, 331.6666666666667, 332.0, 332.5, 332.6923076923077, 332.85714285714283, 333.0769230769231, 333.1578947368421, 333.3333333333333, 333.6363636363636, 333.7096774193548, 333.75, 334.0, 334.11764705882354, 335.0, 335.2631578947368, 335.4347826086956, 335.7142857142857, 336.0, 336.1111111111111, 336.22641509433964, 336.6666666666667, 336.9230769230769, 337.14285714285717, 337.4096385542169, 337.5, 337.75, 338.0, 338.13953488372096, 338.2352941176471, 338.3333333333333, 338.42105263157896, 338.6666666666667, 338.75, 338.8888888888889, 339.09090909090907, 339.4230769230769, 340.0, 340.12987012987014, 340.625, 340.8333333333333, 341.1111111111111, 341.219512195122, 341.42857142857144, 341.5625, 341.6666666666667, 342.14285714285717, 342.3529411764706, 342.5, 342.85714285714283, 343.3333333333333, 343.5135135135135, 343.7647058823529, 343.84615384615387, 344.0, 344.1666666666667, 344.2857142857143, 344.44444444444446, 344.6666666666667, 344.6875, 345.0, 345.35714285714283, 345.5405405405405, 345.55555555555554, 345.8333333333333, 346.0869565217391, 346.25, 346.3636363636364, 346.6666666666667, 346.7647058823529, 347.14285714285717, 347.5, 347.89473684210526, 348.0, 348.0952380952381, 348.2352941176471, 348.3333333333333, 348.3673469387755, 348.6885245901639, 348.75, 349.09090909090907, 349.1666666666667, 349.43548387096774, 350.0, 350.5882352941176, 350.7142857142857, 350.90909090909093, 351.1111111111111, 351.3636363636364, 352.5, 352.94117647058823, 353.3333333333333, 353.6, 353.75, 354.0, 354.44444444444446, 354.61538461538464, 354.70588235294116, 354.76190476190476, 355.0, 355.2173913043478, 355.3333333333333, 355.46875, 355.55555555555554, 356.0, 356.2068965517241, 356.25, 356.6666666666667, 357.05882352941177, 357.2, 357.5, 357.6470588235294, 358.0, 358.3333333333333, 358.57142857142856, 358.75, 358.8888888888889, 359.0, 359.1666666666667, 359.4736842105263, 359.54545454545456, 360.0, 360.625, 360.7142857142857, 360.88235294117646, 360.90909090909093, 361.0, 361.04651162790697, 361.1111111111111, 361.3888888888889, 361.42857142857144, 361.57894736842104, 361.6666666666667, 361.85185185185185, 361.9047619047619, 362.0, 362.0833333333333, 362.22222222222223, 362.3529411764706, 362.5, 362.85714285714283, 363.3333333333333, 364.2857142857143, 364.44444444444446, 364.54545454545456, 364.70588235294116, 365.0, 365.38461538461536, 365.8333333333333, 365.88235294117646, 366.0, 366.15384615384613, 366.4516129032258, 366.6666666666667, 367.14285714285717, 367.27272727272725, 367.5, 367.53846153846155, 367.77777777777777, 368.0, 368.1818181818182, 368.2926829268293, 368.8888888888889, 369.1666666666667, 369.2857142857143, 369.6666666666667, 369.7709923664122, 370.0, 370.4761904761905, 370.7692307692308, 371.05263157894734, 371.14942528735634, 371.25, 371.42857142857144, 371.6666666666667, 371.875, 372.1212121212121, 372.3076923076923, 372.5, 372.8, 373.3333333333333, 373.40909090909093, 373.6842105263158, 374.0, 374.1666666666667, 374.44444444444446, 374.61538461538464, 375.0, 375.23809523809524, 375.4166666666667, 375.45454545454544, 375.8333333333333, 376.0, 376.25, 376.42857142857144, 376.6666666666667, 376.9230769230769, 377.0, 377.4193548387097, 377.5, 378.0, 378.1818181818182, 378.3333333333333, 378.57142857142856, 379.375, 379.44444444444446, 380.0, 380.8695652173913, 381.2121212121212, 381.5, 382.0, 382.10526315789474, 382.5, 382.6190476190476, 382.85714285714283, 382.94117647058823, 383.0769230769231, 383.3333333333333, 383.6363636363636, 383.9130434782609, 384.2857142857143, 384.44444444444446, 384.54545454545456, 384.61538461538464, 385.0, 385.2083333333333, 385.6521739130435, 385.8333333333333, 386.0, 386.15384615384613, 386.3333333333333, 386.3888888888889, 386.42857142857144, 386.5, 386.5217391304348, 386.6666666666667, 386.875, 386.9230769230769, 387.14285714285717, 387.22222222222223, 387.37704918032784, 387.38461538461536, 387.5, 387.77777777777777, 387.8787878787879, 388.0, 388.05555555555554, 388.2352941176471, 388.3333333333333, 388.4, 388.75, 388.8524590163934, 389.0, 389.375, 389.5238095238095, 389.6923076923077, 390.0, 390.5, 390.7142857142857, 390.8695652173913, 391.6666666666667, 392.5, 392.64367816091954, 392.85714285714283, 393.04347826086956, 393.3333333333333, 393.6842105263158, 393.75, 394.0, 394.1666666666667, 394.6666666666667, 394.8484848484849, 395.0, 395.51724137931035, 395.7142857142857, 395.7894736842105, 396.0, 396.42857142857144, 396.6666666666667, 396.9230769230769, 397.05882352941177, 397.14285714285717, 397.3333333333333, 397.5, 397.72727272727275, 397.77777777777777, 398.3333333333333, 398.40909090909093, 398.57142857142856, 399.1304347826087, 399.35897435897436, 399.375, 399.6296296296296, 400.0, 400.7692307692308, 400.9375, 401.1111111111111, 401.42857142857144, 401.6666666666667, 402.0, 402.5, 402.6744186046512, 402.85714285714283, 403.1034482758621, 403.13432835820896, 403.3333333333333, 403.6363636363636, 404.0, 405.0, 405.38461538461536, 405.5, 405.51724137931035, 405.6, 405.8333333333333, 406.6666666666667, 407.0967741935484, 407.3076923076923, 407.3333333333333, 407.5, 407.6666666666667, 407.77777777777777, 407.85714285714283, 408.0, 408.03418803418805, 408.3333333333333, 408.46153846153845, 408.57142857142856, 408.75, 408.8888888888889, 409.0, 409.04761904761904, 409.7368421052632, 410.0, 410.4166666666667, 410.625, 411.0, 411.1764705882353, 411.42857142857144, 411.5, 411.53846153846155, 411.6666666666667, 411.9047619047619, 412.0, 412.5, 412.85714285714283, 413.0, 413.3333333333333, 413.6363636363636, 414.0, 414.2105263157895, 414.44444444444446, 414.54545454545456, 414.6666666666667, 414.7368421052632, 415.0, 415.5, 415.531914893617, 415.7142857142857, 415.9016393442623, 415.9433962264151, 416.0, 416.1111111111111, 416.15384615384613, 416.2857142857143, 416.3636363636364, 416.6666666666667, 416.7368421052632, 416.875, 417.5, 417.77777777777777, 418.0, 418.3333333333333, 418.57142857142856, 418.6842105263158, 418.75, 419.1666666666667, 419.4117647058824, 419.42857142857144, 419.6, 419.672131147541, 419.7014925373134, 420.0, 420.90909090909093, 421.9047619047619, 422.0, 422.0689655172414, 422.14285714285717, 422.4, 422.5, 422.5609756097561, 422.9166666666667, 423.3333333333333, 423.75, 423.8888888888889, 424.2105263157895, 424.25531914893617, 424.54545454545456, 425.0, 425.06666666666666, 425.17857142857144, 425.35714285714283, 425.38461538461536, 425.64102564102564, 425.7142857142857, 426.0, 426.25, 426.6666666666667, 426.8292682926829, 427.14285714285717, 427.27272727272725, 427.5, 427.77777777777777, 428.3333333333333, 428.46153846153845, 428.57142857142856, 429.04761904761904, 429.25, 429.2857142857143, 430.0, 430.625, 430.8333333333333, 431.1111111111111, 431.3333333333333, 431.42857142857144, 431.6666666666667, 431.8918918918919, 432.0, 432.22222222222223, 432.3529411764706, 432.5, 432.63157894736844, 432.8, 432.85714285714283, 433.3333333333333, 433.57142857142856, 433.7037037037037, 433.84615384615387, 434.0, 434.390243902439, 434.44444444444446, 434.52830188679246, 434.54545454545456, 434.7368421052632, 435.0, 435.2, 435.23809523809524, 435.7142857142857, 436.0, 436.3157894736842, 436.3636363636364, 436.42857142857144, 436.6666666666667, 437.05882352941177, 437.14285714285717, 437.22222222222223, 437.27272727272725, 437.36842105263156, 437.5, 437.57575757575756, 437.6923076923077, 437.9166666666667, 438.0, 438.03921568627453, 438.57142857142856, 438.75, 438.8235294117647, 438.8888888888889, 439.375, 439.44444444444446, 439.5348837209302, 439.6875, 440.0, 440.5882352941176, 440.6896551724138, 440.90909090909093, 441.1111111111111, 441.25, 441.48148148148147, 441.53846153846155, 441.6666666666667, 441.7391304347826, 441.9230769230769, 442.0, 442.5, 442.63157894736844, 442.85714285714283, 442.987012987013, 443.3333333333333, 443.6111111111111, 443.75, 444.0, 444.54545454545456, 444.61538461538464, 445.0, 445.13157894736844, 445.45454545454544, 445.7142857142857, 446.4, 446.6666666666667, 447.0, 447.0833333333333, 447.14285714285717, 447.41379310344826, 447.5, 447.72727272727275, 447.77777777777777, 447.89473684210526, 448.0, 448.2608695652174, 448.3333333333333, 448.42105263157896, 448.51851851851853, 448.57142857142856, 448.8235294117647, 448.8888888888889, 448.92857142857144, 450.0, 450.75, 450.8333333333333, 451.1111111111111, 451.2, 451.25, 451.42857142857144, 451.6666666666667, 451.9047619047619, 452.0, 452.1518987341772, 452.5, 452.9032258064516, 452.94117647058823, 453.0, 453.0769230769231, 453.125, 453.3333333333333, 453.8709677419355, 454.0, 454.25531914893617, 454.2857142857143, 454.44444444444446, 454.54545454545456, 454.70588235294116, 455.0, 455.45454545454544, 456.3157894736842, 456.5, 456.6666666666667, 456.875, 457.0, 457.14285714285717, 457.5, 457.5609756097561, 458.0, 458.3333333333333, 458.71794871794873, 458.75, 459.3333333333333, 460.0, 460.14285714285717, 460.38461538461536, 460.8333333333333, 461.1111111111111, 461.57894736842104, 461.6393442622951, 461.6666666666667, 461.7857142857143, 461.8181818181818, 462.0, 462.3076923076923, 462.3404255319149, 462.5, 462.72727272727275, 462.85714285714283, 462.9166666666667, 463.0, 463.3333333333333, 463.52941176470586, 463.75, 463.9130434782609, 464.0, 464.1666666666667, 464.54545454545456, 464.81481481481484, 465.0, 465.38461538461536, 465.55555555555554, 465.7142857142857, 466.0, 466.2857142857143, 466.5, 466.6666666666667, 467.0, 467.5, 467.85714285714283, 467.89473684210526, 468.0, 468.3333333333333, 468.75, 468.8235294117647, 469.09090909090907, 469.1666666666667, 470.0, 470.4166666666667, 470.5882352941176, 470.7142857142857, 470.8333333333333, 471.3333333333333, 471.37931034482756, 471.42857142857144, 472.0, 472.22222222222223, 472.5, 473.3333333333333, 473.46153846153845, 473.5135135135135, 473.57142857142856, 473.9130434782609, 474.0, 474.11764705882354, 474.7826086956522, 475.0, 475.27777777777777, 475.38461538461536, 476.0, 476.25, 476.3636363636364, 476.59090909090907, 476.6666666666667, 477.14285714285717, 477.41379310344826, 477.5, 477.6923076923077, 478.0, 478.57142857142856, 478.75, 478.8235294117647, 479.0, 479.1666666666667, 480.0, 480.5128205128205, 480.5263157894737, 481.0, 481.42857142857144, 481.6666666666667, 482.0, 482.10526315789474, 482.5, 482.85714285714283, 483.13253012048193, 483.3333333333333, 483.6363636363636, 483.75, 483.84615384615387, 484.0, 484.1509433962264, 484.1860465116279, 484.54545454545456, 485.0, 485.55555555555554, 485.7142857142857, 485.7894736842105, 485.89285714285717, 486.0, 486.15384615384613, 486.25, 486.42857142857144, 486.6666666666667, 486.8, 487.14285714285717, 487.5, 487.85714285714283, 488.0, 488.1818181818182, 488.25, 488.3018867924528, 488.3333333333333, 488.57142857142856, 488.7912087912088, 488.8888888888889, 489.0, 490.0, 490.0840336134454, 490.625, 491.25, 491.4634146341463, 491.53846153846155, 491.6666666666667, 491.8181818181818, 492.0, 492.3076923076923, 492.3809523809524, 492.5, 492.5925925925926, 493.3333333333333, 493.57142857142856, 493.8709677419355, 494.0, 494.2105263157895, 494.2857142857143, 494.44444444444446, 494.61538461538464, 495.0, 495.55555555555554, 495.6, 495.625, 495.7142857142857, 496.0, 496.25, 496.3636363636364, 496.6666666666667, 496.9230769230769, 497.0, 497.2, 497.27272727272725, 497.5, 497.77777777777777, 498.0, 498.3333333333333, 498.42105263157896, 498.57142857142856, 498.75, 499.2307692307692, 499.6, 500.0, 500.3636363636364, 500.625, 500.90909090909093, 501.0, 501.1111111111111, 501.3636363636364, 501.42857142857144, 501.53846153846155, 501.75, 501.875, 501.93548387096774, 502.0, 502.32876712328766, 502.5, 503.0, 503.3333333333333, 503.57142857142856, 503.75, 504.0, 504.09090909090907, 504.1666666666667, 504.2105263157895, 504.2857142857143, 504.44444444444446, 504.48275862068965, 504.61538461538464, 504.8958333333333, 505.0, 505.2, 505.45454545454544, 505.55555555555554, 505.7142857142857, 506.0, 506.1111111111111, 506.25, 506.6666666666667, 506.7857142857143, 507.0, 507.14285714285717, 507.5, 507.6923076923077, 507.77777777777777, 507.8378378378378, 508.0, 508.2142857142857, 508.6046511627907, 508.64864864864865, 508.7096774193548, 508.75, 508.8888888888889, 509.2307692307692, 509.4230769230769, 509.4736842105263, 509.6969696969697, 510.0, 510.35714285714283, 510.5263157894737, 510.7692307692308, 510.85714285714283, 511.1111111111111, 511.1764705882353, 511.25, 511.3636363636364, 511.42857142857144, 511.5, 511.53846153846155, 511.6666666666667, 511.875, 512.0, 512.2222222222222, 512.439024390244, 512.5, 512.6666666666666, 512.7272727272727, 512.9411764705883, 513.3333333333334, 513.6363636363636, 514.0, 514.1666666666666, 514.2105263157895, 514.2857142857143, 514.4444444444445, 514.4897959183673, 514.6666666666666, 515.0, 515.1428571428571, 515.7142857142857, 515.8333333333334, 516.0, 516.0714285714286, 516.25, 516.5, 516.6666666666666, 517.1428571428571, 517.1794871794872, 517.5, 517.7777777777778, 518.0, 518.0246913580247, 518.0769230769231, 518.2758620689655, 518.3333333333334, 518.4615384615385, 518.5714285714286, 518.6363636363636, 518.75, 518.8888888888889, 518.9423076923077, 519.6, 519.6825396825396, 520.0, 520.4347826086956, 520.5882352941177, 521.0, 521.1111111111111, 521.25, 521.3333333333334, 521.4285714285714, 521.5384615384615, 521.6666666666666, 522.0, 522.2222222222222, 522.3076923076923, 522.5, 522.5714285714286, 522.7272727272727, 522.7777777777778, 522.8571428571429, 523.0, 523.125, 523.3333333333334, 523.5714285714286, 523.6363636363636, 523.75, 523.8461538461538, 524.0, 524.1176470588235, 524.2424242424242, 524.2857142857143, 524.4444444444445, 524.8, 525.0, 525.1851851851852, 525.2777777777778, 525.4285714285714, 525.4545454545455, 525.7142857142857, 525.9183673469388, 526.0, 526.25, 526.3636363636364, 526.4285714285714, 526.6666666666666, 527.1428571428571, 527.4509803921569, 527.5, 527.8571428571429, 528.0, 528.125, 528.2758620689655, 528.3333333333334, 528.75, 529.0, 529.0909090909091, 529.2, 529.7142857142857, 529.7727272727273, 530.0, 530.2597402597403, 530.5, 530.6976744186046, 530.8333333333334, 531.2, 531.25, 531.3333333333334, 531.6666666666666, 531.8181818181819, 532.0, 532.0930232558139, 532.2222222222222, 532.5, 532.7272727272727, 532.8571428571429, 533.3333333333334, 533.4782608695652, 533.6363636363636, 533.8461538461538, 534.0, 534.1025641025641, 534.2857142857143, 534.5714285714286, 534.6666666666666, 535.0, 535.3333333333334, 535.5, 535.5555555555555, 535.7142857142857, 536.0, 536.1538461538462, 536.25, 536.3157894736842, 536.4705882352941, 536.48, 536.6666666666666, 536.8965517241379, 536.9230769230769, 537.1428571428571, 537.1929824561404, 537.5, 537.6470588235294, 538.0, 538.5245901639345, 538.6, 539.0909090909091, 539.2307692307693, 539.2857142857143, 539.3333333333334, 539.7058823529412, 540.0, 540.1123595505618, 540.25, 540.3333333333334, 540.5, 540.5555555555555, 540.6666666666666, 540.7692307692307, 541.0, 541.25, 541.4285714285714, 541.5384615384615, 541.6666666666666, 542.0, 542.1739130434783, 542.2222222222222, 542.5, 542.5806451612904, 542.6086956521739, 542.6315789473684, 542.7272727272727, 542.8571428571429, 543.0, 543.0434782608696, 543.3333333333334, 543.7037037037037, 543.75, 544.0, 544.0983606557377, 544.2857142857143, 544.3243243243244, 544.4444444444445, 545.0, 545.3846153846154, 545.5737704918033, 545.8064516129032, 546.0, 546.0869565217391, 546.25, 546.3636363636364, 546.6666666666666, 546.8627450980392, 547.0, 547.1428571428571, 547.2727272727273, 547.5, 547.8571428571429, 548.0, 548.1818181818181, 548.2352941176471, 548.3333333333334, 548.4090909090909, 548.5714285714286, 548.6363636363636, 548.75, 548.8461538461538, 548.8888888888889, 548.9655172413793, 549.0, 549.0625, 549.3333333333334, 549.6153846153846, 550.0, 550.5882352941177, 550.8163265306123, 550.8333333333334, 551.0, 551.25, 551.4285714285714, 551.6, 552.0, 552.2727272727273, 552.5, 552.7272727272727, 552.8571428571429, 553.0, 553.125, 553.3333333333334, 553.4782608695652, 553.5294117647059, 553.6, 553.75, 554.0, 554.2857142857143, 554.297520661157, 554.5, 554.6153846153846, 554.6666666666666, 554.8484848484849, 555.0, 555.2941176470588, 555.5555555555555, 555.625, 555.7142857142857, 555.8333333333334, 555.8974358974359, 556.0, 556.1111111111111, 556.1290322580645, 556.25, 556.3636363636364, 556.6071428571429, 556.6666666666666, 556.9230769230769, 557.0, 557.1428571428571, 557.3076923076923, 557.3684210526316, 557.5, 558.0, 558.125, 558.3333333333334, 558.5, 558.5714285714286, 558.75, 558.8235294117648, 558.8888888888889, 559.0909090909091, 559.1666666666666, 559.1935483870968, 560.0, 560.3571428571429, 560.5263157894736, 560.6896551724138, 560.8333333333334, 560.8571428571429, 560.9090909090909, 561.0, 561.1764705882352, 561.25, 561.304347826087, 561.4285714285714, 561.6666666666666, 561.8181818181819, 561.875, 562.0, 562.1428571428571, 562.2222222222222, 562.2727272727273, 562.4, 562.5, 562.6666666666666, 562.8571428571429, 563.0, 563.3333333333334, 563.75, 563.8709677419355, 564.0, 564.1176470588235, 564.1666666666666, 564.2857142857143, 564.5833333333334, 564.7368421052631, 564.8, 565.0, 565.3846153846154, 565.4545454545455, 565.7142857142857, 565.7692307692307, 565.8333333333334, 565.8823529411765, 566.0, 566.0869565217391, 566.1538461538462, 566.25, 566.3636363636364, 566.6666666666666, 566.8, 567.3684210526316, 567.3809523809524, 567.5, 567.719298245614, 567.7777777777778, 568.0, 568.0952380952381, 568.1818181818181, 568.3333333333334, 568.4615384615385, 568.5714285714286, 568.75, 569.1666666666666, 569.3333333333334, 569.375, 569.5, 569.5833333333334, 570.0, 570.4, 570.7142857142857, 570.9090909090909, 571.1290322580645, 571.2, 571.25, 571.578947368421, 571.6666666666666, 571.875, 572.0, 572.1428571428571, 572.3076923076923, 572.5, 572.8571428571429, 572.9411764705883, 573.3333333333334, 573.6363636363636, 573.75, 574.0, 574.1666666666666, 574.1935483870968, 574.2857142857143, 574.3181818181819, 574.4444444444445, 574.5454545454545, 574.6153846153846, 574.6808510638298, 575.0, 575.8333333333334, 575.8823529411765, 576.0, 576.1538461538462, 576.25, 576.3157894736842, 576.4705882352941, 576.6666666666666, 576.8131868131868, 576.8965517241379, 576.9565217391304, 577.1428571428571, 577.3076923076923, 577.3333333333334, 577.3913043478261, 577.5, 577.7777777777778, 577.9245283018868, 578.0, 578.3333333333334, 578.5714285714286, 578.75, 578.8888888888889, 579.0, 579.1666666666666, 579.2857142857143, 580.0, 580.4347826086956, 580.5, 580.5882352941177, 580.7692307692307, 580.8333333333334, 580.9090909090909, 581.0, 581.1764705882352, 581.25, 581.3157894736842, 581.3333333333334, 581.4285714285714, 581.6279069767442, 581.6666666666666, 581.7647058823529, 581.8181818181819, 581.9047619047619, 582.0, 582.2222222222222, 582.3809523809524, 582.5, 582.7272727272727, 582.9032258064516, 583.0769230769231, 583.1578947368421, 583.3333333333334, 584.0, 584.2857142857143, 584.4444444444445, 584.7826086956521, 585.0, 585.2272727272727, 585.5263157894736, 585.5555555555555, 585.7142857142857, 586.0, 586.1538461538462, 586.25, 586.3636363636364, 586.6666666666666, 586.829268292683, 586.9230769230769, 587.1428571428571, 587.3076923076923, 587.5, 587.5862068965517, 587.6923076923077, 587.8571428571429, 588.0, 588.0769230769231, 588.1818181818181, 588.3333333333334, 588.5714285714286, 588.8235294117648, 589.0909090909091, 589.1666666666666, 589.1836734693877, 589.375, 589.4117647058823, 590.0, 590.2173913043479, 590.4545454545455, 590.5882352941177, 590.8333333333334, 591.0, 591.1764705882352, 591.25, 591.4285714285714, 591.6666666666666, 591.875, 592.0, 592.1052631578947, 592.1428571428571, 592.2222222222222, 592.5, 592.5531914893617, 592.8571428571429, 593.3333333333334, 593.7142857142857, 593.8888888888889, 594.0, 594.1666666666666, 594.2857142857143, 594.4444444444445, 594.5454545454545, 594.6153846153846, 594.6428571428571, 594.7826086956521, 595.0, 595.1515151515151, 595.2380952380952, 595.4545454545455, 595.625, 595.7142857142857, 595.925925925926, 596.0, 596.3636363636364, 596.4, 596.5, 596.6101694915254, 596.6666666666666, 596.7741935483871, 596.8571428571429, 597.1428571428571, 597.3333333333334, 597.5, 597.7777777777778, 597.9545454545455, 598.0, 598.0952380952381, 598.1081081081081, 598.125, 598.3333333333334, 598.5714285714286, 598.75, 598.8888888888889, 598.9655172413793, 599.4117647058823, 599.5652173913044, 600.0, 600.3846153846154, 600.5882352941177, 600.75, 600.8333333333334, 600.9090909090909, 601.1904761904761, 601.3157894736842, 601.4285714285714, 601.5, 601.6666666666666, 601.7647058823529, 602.0, 602.3529411764706, 602.5, 602.6666666666666, 602.7272727272727, 602.8, 602.8571428571429, 602.9411764705883, 603.3333333333334, 603.75, 604.0, 604.2857142857143, 604.375, 604.4186046511628, 604.5283018867924, 604.5454545454545, 605.0, 605.36, 605.3658536585366, 605.4166666666666, 605.4545454545455, 605.5555555555555, 605.7142857142857, 606.0, 606.1111111111111, 606.2068965517242, 606.2337662337662, 606.25, 606.4285714285714, 606.6666666666666, 606.875, 606.9230769230769, 607.0, 607.1428571428571, 607.3469387755102, 607.5, 607.5862068965517, 607.7777777777778, 608.0, 608.2352941176471, 608.3333333333334, 608.5714285714286, 608.6363636363636, 608.75, 608.9473684210526, 609.0, 609.1666666666666, 609.2307692307693, 609.3939393939394, 609.4736842105264, 609.6363636363636, 610.0, 610.3703703703703, 610.5, 610.5555555555555, 611.0, 611.1764705882352, 611.4285714285714, 611.6666666666666, 611.8918918918919, 611.9230769230769, 612.0, 612.1621621621622, 612.2222222222222, 612.3076923076923, 612.3529411764706, 612.4, 612.5, 612.7272727272727, 612.8571428571429, 613.0, 613.125, 613.3333333333334, 613.6363636363636, 613.8461538461538, 613.8709677419355, 614.0, 614.0909090909091, 614.1509433962265, 614.2857142857143, 614.4444444444445, 615.0, 615.2380952380952, 615.2941176470588, 615.3846153846154, 615.4545454545455, 615.5555555555555, 615.7142857142857, 616.0, 616.1038961038961, 616.1194029850747, 616.4285714285714, 616.4705882352941, 616.6666666666666, 616.9230769230769, 617.0, 617.1428571428571, 617.3684210526316, 617.5, 617.6470588235294, 617.6923076923077, 618.0, 618.2352941176471, 618.3333333333334, 618.5714285714286, 618.6666666666666, 618.8888888888889, 618.9473684210526, 619.0, 619.0410958904109, 619.1666666666666, 619.2307692307693, 619.3333333333334, 619.3478260869565, 620.0, 620.7142857142857, 621.0, 621.1111111111111, 621.1538461538462, 621.25, 621.4285714285714, 621.6666666666666, 621.8181818181819, 621.875, 622.0, 622.2222222222222, 622.3076923076923, 622.5, 622.7272727272727, 622.8571428571429, 622.9, 622.9411764705883, 623.125, 623.3333333333334, 623.6842105263158, 623.8461538461538, 623.939393939394, 624.0, 624.1666666666666, 624.2857142857143, 624.5454545454545, 625.0, 625.3846153846154, 625.5555555555555, 625.6, 625.6818181818181, 625.6962025316456, 625.7142857142857, 625.7894736842105, 625.8333333333334, 625.8620689655172, 626.0, 626.1290322580645, 626.4285714285714, 626.4705882352941, 626.6666666666666, 626.8518518518518, 627.0, 627.1428571428571, 627.2727272727273, 627.5, 627.6923076923077, 628.0, 628.2352941176471, 628.3333333333334, 628.5714285714286, 628.75, 628.8461538461538, 628.8888888888889, 629.0909090909091, 629.6363636363636, 630.0, 630.1851851851852, 630.2380952380952, 630.4545454545455, 630.5555555555555, 630.7692307692307, 630.8108108108108, 630.8333333333334, 631.0526315789474, 631.4285714285714, 631.6666666666666, 632.0, 632.1052631578947, 632.1428571428571, 632.2222222222222, 632.3529411764706, 632.5, 632.5806451612904, 632.8571428571429, 633.125, 633.3333333333334, 634.0, 634.468085106383, 634.5454545454545, 634.5833333333334, 634.7058823529412, 635.0, 635.0526315789474, 635.3846153846154, 635.4166666666666, 635.4545454545455, 635.5, 635.625, 635.7142857142857, 635.8974358974359, 636.0, 636.1290322580645, 636.3157894736842, 636.3636363636364, 636.4285714285714, 636.4444444444445, 636.551724137931, 636.6666666666666, 636.9230769230769, 637.0, 637.1428571428571, 637.2222222222222, 637.3913043478261, 637.5, 637.6923076923077, 637.7777777777778, 637.8048780487804, 637.8260869565217, 637.922077922078, 638.0, 638.0555555555555, 638.1818181818181, 638.2352941176471, 638.3333333333334, 638.5714285714286, 638.6111111111111, 638.75, 638.8461538461538, 639.0, 639.1666666666666, 639.2307692307693, 639.5238095238095, 640.0, 640.1851851851852, 640.3125, 640.625, 640.7692307692307, 640.9090909090909, 641.1111111111111, 641.25, 641.4285714285714, 641.6666666666666, 641.7241379310345, 641.7647058823529, 641.9230769230769, 641.9444444444445, 642.0, 642.1052631578947, 642.1276595744681, 642.1875, 642.2222222222222, 642.258064516129, 642.3076923076923, 642.3529411764706, 642.5, 642.5925925925926, 642.6923076923077, 642.7777777777778, 642.8571428571429, 643.0, 643.125, 643.3333333333334, 643.6842105263158, 643.7209302325581, 643.75, 644.0, 644.2857142857143, 644.4444444444445, 644.5454545454545, 645.0, 645.3623188405797, 645.4545454545455, 645.5555555555555, 645.6410256410256, 645.8333333333334, 645.8620689655172, 646.0, 646.25, 646.3157894736842, 646.3636363636364, 646.6666666666666, 646.8421052631579, 646.8965517241379, 646.9230769230769, 647.0, 647.1428571428571, 647.3333333333334, 647.3684210526316, 647.4468085106383, 647.5, 647.6190476190476, 647.7272727272727, 647.7777777777778, 647.8571428571429, 647.9090909090909, 647.9166666666666, 648.0, 648.0769230769231, 648.0952380952381, 648.2352941176471, 648.3333333333334, 648.421052631579, 648.4615384615385, 648.5714285714286, 648.6206896551724, 648.8461538461538, 648.8888888888889, 648.9473684210526, 649.0, 649.1666666666666, 649.6666666666666, 650.0, 650.5555555555555, 650.6666666666666, 650.8333333333334, 650.9090909090909, 651.1111111111111, 651.25, 651.4285714285714, 651.6666666666666, 652.0, 652.2222222222222, 652.3076923076923, 652.5, 652.7777777777778, 652.8, 652.9411764705883, 653.0, 653.0769230769231, 653.3333333333334, 653.5, 653.5714285714286, 653.6363636363636, 653.9473684210526, 654.0, 654.5454545454545, 654.7058823529412, 654.7826086956521, 654.9056603773585, 655.0, 655.3846153846154, 655.4166666666666, 655.5555555555555, 656.0, 656.25, 656.3333333333334, 656.6666666666666, 656.9387755102041, 657.0, 657.1428571428571, 657.2340425531914, 657.2727272727273, 657.34375, 657.5, 657.5862068965517, 657.7777777777778, 657.8571428571429, 658.0, 658.1818181818181, 658.2352941176471, 658.28125, 658.3333333333334, 658.5714285714286, 658.75, 658.8607594936709, 658.8888888888889, 659.0, 659.2307692307693, 659.6, 659.6875, 659.7826086956521, 660.0, 660.3225806451613, 660.4545454545455, 660.5263157894736, 660.5882352941177, 660.625, 660.6451612903226, 660.7317073170732, 660.8333333333334, 660.9090909090909, 661.0, 661.1111111111111, 661.1428571428571, 661.25, 661.3636363636364, 661.4285714285714, 661.5384615384615, 661.551724137931, 661.6, 661.6666666666666, 661.7647058823529, 661.9444444444445, 661.9607843137255, 662.0, 662.2222222222222, 662.5, 662.6086956521739, 662.7272727272727, 662.8571428571429, 662.9411764705883, 663.0, 663.1578947368421, 663.1818181818181, 663.3333333333334, 663.5294117647059, 663.5714285714286, 664.0, 664.2857142857143, 664.375, 664.4444444444445, 664.5454545454545, 664.5762711864406, 664.6666666666666, 664.7058823529412, 664.7368421052631, 665.0, 665.3125, 665.3846153846154, 665.4545454545455, 665.7142857142857, 665.8333333333334, 666.0, 666.25, 666.3636363636364, 666.4615384615385, 666.6666666666666, 666.7741935483871, 666.875, 666.9230769230769, 667.0, 667.3809523809524, 667.5, 667.6923076923077, 668.0, 668.0769230769231, 668.125, 668.2352941176471, 668.2608695652174, 668.2692307692307, 668.3333333333334, 668.5714285714286, 668.75, 668.7878787878788, 668.8888888888889, 669.0909090909091, 669.5833333333334, 670.0, 670.2380952380952, 670.7142857142857, 670.7692307692307, 670.8510638297872, 670.9090909090909, 671.0, 671.2121212121212, 671.25, 671.3333333333334, 671.4285714285714, 671.6666666666666, 672.0, 672.2222222222222, 672.3684210526316, 672.5, 672.7272727272727, 672.7586206896551, 672.8571428571429, 673.1818181818181, 673.3333333333334, 673.4615384615385, 673.75, 674.0, 674.2857142857143, 674.375, 674.4444444444445, 674.5454545454545, 674.5714285714286, 675.0, 675.4545454545455, 675.7142857142857, 675.8139534883721, 675.8333333333334, 676.0, 676.1538461538462, 676.4705882352941, 676.6666666666666, 676.7105263157895, 676.8, 677.0, 677.0833333333334, 677.1428571428571, 677.5, 677.6470588235294, 677.6923076923077, 677.8260869565217, 677.8947368421053, 678.0, 678.3333333333334, 678.5714285714286, 678.75, 678.8235294117648, 678.8888888888889, 679.0909090909091, 679.1891891891892, 679.2307692307693, 679.2857142857143, 679.4444444444445, 680.0, 680.3125, 680.3846153846154, 680.6666666666666, 680.7407407407408, 681.0, 681.1111111111111, 681.2121212121212, 681.25, 681.4285714285714, 681.6666666666666, 681.75, 681.7647058823529, 682.0, 682.2222222222222, 682.4, 682.5, 682.6086956521739, 682.7272727272727, 682.8571428571429, 683.3333333333334, 683.5294117647059, 683.7037037037037, 684.0, 684.2857142857143, 684.4444444444445, 684.6153846153846, 684.7058823529412, 685.0, 685.0877192982456, 685.2830188679245, 685.2941176470588, 685.3846153846154, 685.5555555555555, 685.625, 685.7142857142857, 685.8333333333334, 685.9090909090909, 686.0, 686.063829787234, 686.1111111111111, 686.1538461538462, 686.25, 686.2962962962963, 686.3157894736842, 686.3636363636364, 686.6666666666666, 686.7857142857143, 686.9230769230769, 687.0, 687.3684210526316, 687.5, 687.741935483871, 687.8048780487804, 688.0, 688.1818181818181, 688.3333333333334, 688.4615384615385, 688.75, 688.8235294117648, 688.8888888888889, 689.0, 689.2307692307693, 689.2857142857143, 689.3333333333334, 689.5833333333334, 689.7368421052631, 690.0, 690.3225806451613, 690.5882352941177, 690.6666666666666, 690.8333333333334, 690.8695652173913, 691.0, 691.1111111111111, 691.25, 691.4285714285714, 691.6666666666666, 691.8181818181819, 691.9047619047619, 692.0, 692.0689655172414, 692.1428571428571, 692.2222222222222, 692.25, 692.3076923076923, 692.5, 692.7272727272727, 692.8571428571429, 693.0, 693.0769230769231, 693.125, 693.3333333333334, 693.6363636363636, 694.0, 694.2222222222222, 694.2857142857143, 694.4117647058823, 694.4444444444445, 694.7058823529412, 694.7619047619048, 695.0, 695.3947368421053, 695.5555555555555, 695.7142857142857, 695.8333333333334, 695.8823529411765, 696.0, 696.3636363636364, 696.4705882352941, 696.6666666666666, 696.8, 697.0, 697.5, 697.6666666666666, 697.8571428571429, 697.936507936508, 698.1818181818181, 698.2758620689655, 698.3333333333334, 698.5714285714286, 698.75, 698.8, 698.8888888888889, 699.2307692307693, 699.2857142857143, 699.3333333333334, 699.5833333333334, 699.8648648648649, 700.0, 700.3846153846154, 700.4166666666666, 700.4761904761905, 700.6666666666666, 700.7142857142857, 700.7407407407408, 700.8, 700.8333333333334, 700.9090909090909, 701.1111111111111, 701.25, 701.3333333333334, 701.4285714285714, 701.6, 701.6666666666666, 701.8181818181819, 701.8518518518518, 701.875, 702.0, 702.0588235294117, 702.2222222222222, 702.5, 702.5490196078431, 702.6086956521739, 702.6666666666666, 702.7777777777778, 702.8571428571429, 703.0, 703.3333333333334, 703.6170212765958, 703.6363636363636, 703.7931034482758, 704.0, 704.1666666666666, 704.1860465116279, 704.2857142857143, 704.5454545454545, 704.6666666666666, 704.7058823529412, 705.0, 705.2, 705.2083333333334, 705.2941176470588, 705.3333333333334, 705.4166666666666, 705.4545454545455, 705.4761904761905, 705.5555555555555, 705.609756097561, 705.625, 705.7142857142857, 705.9090909090909, 706.0, 706.1538461538462, 706.25, 706.3636363636364, 706.6666666666666, 706.7058823529412, 706.7741935483871, 707.0, 707.1428571428571, 707.2727272727273, 707.5, 707.6470588235294, 707.6923076923077, 707.7777777777778, 708.0, 708.125, 708.1818181818181, 708.3333333333334, 708.5714285714286, 708.6666666666666, 708.75, 708.8888888888889, 709.0, 709.2307692307693, 709.2592592592592, 709.3103448275862, 709.3333333333334, 709.5833333333334, 710.0, 710.4166666666666, 710.5, 710.625, 710.8333333333334, 710.9756097560976, 711.0, 711.25, 711.3333333333334, 711.4285714285714, 711.5384615384615, 711.6666666666666, 711.7647058823529, 711.875, 711.9642857142857, 712.0, 712.0408163265306, 712.1428571428571, 712.3076923076923, 712.5, 712.8571428571429, 713.0, 713.125, 713.2, 713.3333333333334, 713.5294117647059, 713.75, 713.8461538461538, 714.0, 714.1666666666666, 714.2857142857143, 714.6153846153846, 714.6428571428571, 715.0, 715.2631578947369, 715.3846153846154, 715.4545454545455, 715.8823529411765, 716.0, 716.25, 716.3636363636364, 716.4, 716.5, 716.6666666666666, 716.9230769230769, 717.1212121212121, 717.1428571428571, 717.1875, 717.2727272727273, 717.3333333333334, 717.4074074074074, 717.5, 717.7777777777778, 718.0, 718.125, 718.3333333333334, 718.4, 718.4615384615385, 718.4782608695652, 718.5, 718.5714285714286, 718.75, 718.8888888888889, 719.0, 719.375, 719.4117647058823, 719.4444444444445, 719.4736842105264, 719.7560975609756, 720.0, 720.4, 720.4347826086956, 720.4545454545455, 720.5882352941177, 720.6666666666666, 720.8333333333334, 720.9090909090909, 721.0, 721.1111111111111, 721.3333333333334, 721.4285714285714, 721.6666666666666, 721.7241379310345, 721.8181818181819, 721.9230769230769, 721.9354838709677, 722.0, 722.2222222222222, 722.2727272727273, 722.3255813953489, 722.5, 722.7272727272727, 722.7906976744187, 722.8571428571429, 723.0769230769231, 723.125, 723.3333333333334, 723.4090909090909, 723.75, 723.8461538461538, 724.0, 724.2105263157895, 724.2857142857143, 724.3478260869565, 724.375, 724.4444444444445, 724.6666666666666, 725.0, 725.1851851851852, 725.2941176470588, 725.3333333333334, 725.4545454545455, 725.5, 725.5555555555555, 725.7142857142857, 725.8823529411765, 726.0, 726.25, 726.3636363636364, 726.4, 726.5, 726.6666666666666, 726.8, 727.0, 727.0370370370371, 727.1428571428571, 727.2093023255813, 727.2222222222222, 727.3333333333334, 727.5, 727.6923076923077, 727.7777777777778, 728.0, 728.3333333333334, 728.5714285714286, 728.75, 728.8888888888889, 729.0, 729.0322580645161, 729.0909090909091, 729.1304347826087, 729.2307692307693, 729.375, 729.4736842105264, 729.5121951219512, 729.5238095238095, 729.5833333333334, 730.0, 730.4166666666666, 730.6666666666666, 730.7142857142857, 730.7407407407408, 730.9090909090909, 731.025641025641, 731.1111111111111, 731.25, 731.3793103448276, 731.4285714285714, 731.5384615384615, 731.6666666666666, 731.7647058823529, 732.0, 732.0930232558139, 732.1212121212121, 732.1875, 732.2222222222222, 732.258064516129, 732.3076923076923, 732.5, 732.6086956521739, 732.8571428571429, 732.9629629629629, 733.0, 733.2258064516129, 733.3333333333334, 733.8461538461538, 734.0, 734.0625, 734.1666666666666, 734.2857142857143, 734.375, 734.5652173913044, 735.0, 735.2941176470588, 735.3333333333334, 735.3846153846154, 735.5, 735.5555555555555, 735.7142857142857, 735.8333333333334, 736.0, 736.0975609756098, 736.1111111111111, 736.25, 736.3333333333334, 736.4285714285714, 736.4705882352941, 736.6666666666666, 737.0, 737.0833333333334, 737.1428571428571, 737.1875, 737.2222222222222, 737.2727272727273, 737.3333333333334, 737.4025974025974, 737.4074074074074, 737.4193548387096, 737.5, 737.7777777777778, 738.0, 738.1818181818181, 738.2352941176471, 738.2608695652174, 738.3333333333334, 738.4615384615385, 738.5714285714286, 738.6440677966102, 738.75, 738.8888888888889, 739.0, 739.0909090909091, 739.1666666666666, 739.2307692307693, 739.2857142857143, 739.375, 740.0, 740.5882352941177, 740.7692307692307, 740.8333333333334, 740.9090909090909, 741.0, 741.1764705882352, 741.25, 741.4285714285714, 741.6666666666666, 741.8181818181819, 741.875, 742.0, 742.3809523809524, 742.5, 742.5757575757576, 742.8125, 742.8571428571429, 742.9166666666666, 743.0232558139535, 743.0555555555555, 743.3333333333334, 743.5, 743.6363636363636, 743.75, 744.0, 744.2857142857143, 744.4444444444445, 744.6666666666666, 744.7058823529412, 745.0, 745.2, 745.5555555555555, 745.8333333333334, 746.0, 746.0377358490566, 746.25, 746.4285714285714, 746.6666666666666, 746.9230769230769, 746.9565217391304, 747.1428571428571, 747.2727272727273, 747.3333333333334, 747.4137931034483, 747.5, 747.5510204081633, 747.6923076923077, 747.7777777777778, 748.0, 748.0952380952381, 748.1818181818181, 748.3333333333334, 748.421052631579, 748.4615384615385, 748.5, 748.5714285714286, 748.6666666666666, 748.6842105263158, 748.695652173913, 748.75, 748.8461538461538, 748.8505747126437, 749.0, 749.0909090909091, 749.2307692307693, 750.0, 750.3846153846154, 750.5263157894736, 750.8, 750.8333333333334, 750.9090909090909, 751.0, 751.1111111111111, 751.25, 751.3333333333334, 751.4285714285714, 751.4814814814815, 751.7241379310345, 751.8181818181819, 751.875, 752.0, 752.2222222222222, 752.3333333333334, 752.5, 752.6470588235294, 752.7272727272727, 752.8571428571429, 752.96875, 752.9761904761905, 753.0, 753.3333333333334, 753.5, 753.5294117647059, 753.5714285714286, 753.6363636363636, 753.75, 753.8461538461538, 754.0, 754.074074074074, 754.1666666666666, 754.2105263157895, 754.2553191489362, 754.2857142857143, 754.3636363636364, 754.4444444444445, 754.5454545454545, 754.8, 755.0, 755.2380952380952, 755.2631578947369, 755.3333333333334, 755.4545454545455, 755.5555555555555, 755.7142857142857, 755.8333333333334, 756.0, 756.1538461538462, 756.25, 756.6666666666666, 756.875, 756.9387755102041, 757.0, 757.0588235294117, 757.1428571428571, 757.2727272727273, 757.4074074074074, 757.5, 757.5757575757576, 757.6923076923077, 757.7777777777778, 757.8571428571429, 757.8947368421053, 758.0, 758.125, 758.3333333333334, 758.3928571428571, 758.421052631579, 758.5714285714286, 758.75, 758.8888888888889, 759.0, 759.2, 759.2307692307693, 759.2857142857143, 759.375, 759.5, 760.0, 760.8333333333334, 760.9090909090909, 760.9302325581396, 761.0, 761.1111111111111, 761.1764705882352, 761.1904761904761, 761.25, 761.3333333333334, 761.4285714285714, 761.6666666666666, 761.9230769230769, 762.0, 762.1428571428571, 762.156862745098, 762.5, 762.6666666666666, 762.8, 762.8571428571429, 763.0, 763.0769230769231, 763.3333333333334, 763.75, 763.9285714285714, 764.0, 764.0625, 764.1666666666666, 764.2857142857143, 764.4444444444445, 764.7368421052631, 764.7727272727273, 765.0, 765.3846153846154, 765.4545454545455, 765.5555555555555, 765.625, 765.7142857142857, 765.8333333333334, 765.8823529411765, 765.9459459459459, 766.0, 766.0714285714286, 766.1111111111111, 766.1538461538462, 766.25, 766.3636363636364, 766.6666666666666, 767.1428571428571, 767.2727272727273, 767.3076923076923, 767.3684210526316, 767.5, 767.8787878787879, 768.0, 768.1481481481482, 768.1818181818181, 768.3333333333334, 768.4615384615385, 768.75, 768.8235294117648, 768.90625, 768.974358974359, 769.047619047619, 769.0909090909091, 769.2, 769.4444444444445, 770.0, 770.625, 770.7692307692307, 770.8333333333334, 770.8571428571429, 771.0, 771.25, 771.3725490196078, 771.4285714285714, 771.5, 771.578947368421, 771.6666666666666, 771.8181818181819, 771.9047619047619, 771.9607843137255, 772.0, 772.1428571428571, 772.2222222222222, 772.3076923076923, 772.4324324324324, 772.5, 772.5757575757576, 772.6666666666666, 772.8, 772.8571428571429, 773.0, 773.0434782608696, 773.0769230769231, 773.1578947368421, 773.3333333333334, 773.6363636363636, 773.75, 773.8888888888889, 774.0, 774.1666666666666, 774.2857142857143, 774.5454545454545, 774.6153846153846, 774.6666666666666, 774.7619047619048, 775.0, 775.3333333333334, 775.3571428571429, 775.5555555555555, 775.625, 775.7692307692307, 775.7894736842105, 775.8620689655172, 776.0, 776.1538461538462, 776.2162162162163, 776.3636363636364, 776.4705882352941, 776.6101694915254, 776.6363636363636, 776.6666666666666, 776.9230769230769, 777.0, 777.1428571428571, 777.5, 777.6470588235294, 777.6923076923077, 777.7777777777778, 778.0, 778.1818181818181, 778.3333333333334, 778.4615384615385, 778.75, 778.8235294117648, 778.8888888888889, 779.0, 779.047619047619, 779.2, 779.2857142857143, 779.7826086956521, 780.0, 780.2941176470588, 780.7142857142857, 780.7692307692307, 780.8333333333334, 780.9090909090909, 780.952380952381, 781.0, 781.0526315789474, 781.1111111111111, 781.1764705882352, 781.25, 781.304347826087, 781.4285714285714, 781.5384615384615, 781.6666666666666, 782.0, 782.1428571428571, 782.2222222222222, 782.5, 782.5925925925926, 782.6666666666666, 782.7272727272727, 782.8571428571429, 783.0, 783.0769230769231, 783.3333333333334, 783.4615384615385, 783.5294117647059, 783.75, 784.0, 784.1666666666666, 784.2857142857143, 784.375, 784.4, 784.5454545454545, 784.6666666666666, 785.0, 785.2173913043479, 785.2380952380952, 785.3846153846154, 785.4545454545455, 785.5555555555555, 785.609756097561, 785.7142857142857, 785.7894736842105, 786.0, 786.25, 786.6666666666666, 786.7857142857143, 786.8, 786.9230769230769, 786.9565217391304, 787.0, 787.0588235294117, 787.1428571428571, 787.2727272727273, 787.3333333333334, 787.4074074074074, 787.5, 787.6, 787.6470588235294, 787.6923076923077, 787.7777777777778, 787.9166666666666, 788.0, 788.1818181818181, 788.3333333333334, 788.5714285714286, 788.75, 788.9285714285714, 789.0, 789.0196078431372, 789.0909090909091, 789.1666666666666, 789.2307692307693, 789.2857142857143, 789.3333333333334, 789.4117647058823, 789.5, 789.6296296296297, 789.6666666666666, 789.7435897435897, 790.0, 790.5555555555555, 790.6521739130435, 790.7692307692307, 791.0, 791.0526315789474, 791.1111111111111, 791.1538461538462, 791.25, 791.2903225806451, 791.4285714285714, 791.6666666666666, 791.7777777777778, 791.8181818181819, 791.9512195121952, 792.0, 792.2222222222222, 792.5, 792.6923076923077, 792.7272727272727, 792.7777777777778, 792.8260869565217, 792.8571428571429, 793.0, 793.3333333333334, 793.5714285714286, 793.6363636363636, 793.75, 793.8461538461538, 794.0, 794.1666666666666, 794.2857142857143, 794.4444444444445, 794.5454545454545, 794.6153846153846, 794.6341463414634, 794.6875, 794.8484848484849, 795.0, 795.2, 795.3333333333334, 795.3846153846154, 795.4545454545455, 795.5555555555555, 795.7142857142857, 795.8333333333334, 796.0, 796.25, 796.3636363636364, 796.4285714285714, 796.4705882352941, 796.6666666666666, 796.7857142857143, 796.9565217391304, 797.0, 797.1428571428571, 797.2222222222222, 797.2727272727273, 797.3809523809524, 797.5, 797.5757575757576, 797.6666666666666, 797.7777777777778, 798.0, 798.1818181818181, 798.3333333333334, 798.4615384615385, 798.5294117647059, 798.5714285714286, 798.6363636363636, 799.047619047619, 799.0909090909091, 799.3333333333334, 799.4117647058823, 799.4444444444445, 800.0, 800.3333333333334, 800.3846153846154, 800.4545454545455, 800.625, 800.6896551724138, 800.9090909090909, 801.0, 801.1111111111111, 801.25, 801.3636363636364, 801.4814814814815, 801.5, 801.6326530612245, 801.6666666666666, 801.7021276595744, 801.7647058823529, 801.7741935483871, 802.0, 802.2222222222222, 802.4528301886793, 802.5, 802.6666666666666, 802.8571428571429, 802.9166666666666, 803.0, 803.125, 803.3333333333334, 803.4615384615385, 803.6842105263158, 803.7037037037037, 803.75, 803.8666666666667, 804.0, 804.1176470588235, 804.1379310344828, 804.1666666666666, 804.2105263157895, 804.2857142857143, 804.4444444444445, 804.4827586206897, 804.516129032258, 804.6666666666666, 804.8148148148148, 805.0, 805.1219512195122, 805.2631578947369, 805.3333333333334, 805.3571428571429, 805.3846153846154, 805.4166666666666, 805.5555555555555, 805.7142857142857, 805.8333333333334, 806.0, 806.060606060606, 806.1538461538462, 806.25, 806.5217391304348, 806.6666666666666, 806.9230769230769, 807.027027027027, 807.0588235294117, 807.1428571428571, 807.2727272727273, 807.5, 807.5862068965517, 807.6923076923077, 807.8571428571429, 807.8947368421053, 808.0, 808.125, 808.3333333333334, 808.421052631579, 808.6, 808.6486486486486, 808.75, 808.9473684210526, 809.0909090909091, 809.1176470588235, 809.2, 809.2307692307693, 809.2857142857143, 809.3333333333334, 809.4444444444445, 810.0, 810.4166666666666, 810.4761904761905, 810.5263157894736, 810.7142857142857, 810.7692307692307, 810.8333333333334, 811.0, 811.25, 811.4285714285714, 811.5384615384615, 811.5625, 811.6666666666666, 811.8421052631579, 811.9230769230769, 812.0, 812.1428571428571, 812.2222222222222, 812.5, 812.6666666666666, 812.7272727272727, 812.7777777777778, 812.8571428571429, 812.9166666666666, 813.0, 813.1578947368421, 813.2142857142857, 813.2558139534884, 813.3333333333334, 813.448275862069, 813.6363636363636, 813.75, 813.8888888888889, 814.0, 814.2105263157895, 814.2857142857143, 814.4444444444445, 814.6666666666666, 814.8387096774194, 815.0, 815.2173913043479, 815.2272727272727, 815.5555555555555, 815.5882352941177, 815.625, 815.7142857142857, 815.7894736842105, 816.0, 816.1111111111111, 816.1538461538462, 816.1904761904761, 816.3636363636364, 816.4, 816.4285714285714, 816.4912280701755, 816.6666666666666, 816.8518518518518, 817.1428571428571, 817.3333333333334, 817.5, 817.6470588235294, 817.6923076923077, 817.7941176470588, 817.972972972973, 818.0, 818.1818181818181, 818.2352941176471, 818.3333333333334, 818.4, 818.5714285714286, 818.6046511627907, 818.6363636363636, 818.75, 818.8888888888889, 819.0, 819.1666666666666, 819.2307692307693, 819.5238095238095, 820.0, 820.8333333333334, 820.9090909090909, 820.952380952381, 821.0, 821.25, 821.4285714285714, 821.6666666666666, 821.7647058823529, 821.8181818181819, 821.9047619047619, 822.0, 822.0833333333334, 822.1428571428571, 822.5, 822.6086956521739, 822.6666666666666, 822.7272727272727, 822.8571428571429, 822.9411764705883, 823.0, 823.3333333333334, 823.5555555555555, 823.6363636363636, 823.75, 823.8709677419355, 823.8888888888889, 824.0, 824.0625, 824.2857142857143, 824.4444444444445, 824.5454545454545, 824.6153846153846, 825.0, 825.2941176470588, 825.3846153846154, 825.6521739130435, 825.7142857142857, 825.7777777777778, 825.8823529411765, 826.0, 826.1538461538462, 826.2068965517242, 826.25, 826.3636363636364, 826.6666666666666, 826.7857142857143, 826.875, 826.9230769230769, 826.9565217391304, 827.0370370370371, 827.1428571428571, 827.3333333333334, 827.5, 827.8571428571429, 828.0, 828.2352941176471, 828.3333333333334, 828.5714285714286, 828.6666666666666, 828.695652173913, 828.75, 828.8235294117648, 829.0909090909091, 829.1666666666666, 829.2307692307693, 829.2592592592592, 829.3333333333334, 829.375, 829.4444444444445, 829.6, 829.6296296296297, 829.6666666666666, 830.0, 830.3225806451613, 830.377358490566, 830.4347826086956, 830.5714285714286, 830.625, 830.8333333333334, 831.1111111111111, 831.1764705882352, 831.3333333333334, 831.4285714285714, 831.5, 831.5384615384615, 831.6666666666666, 831.7647058823529, 831.8181818181819, 832.0, 832.1428571428571, 832.1739130434783, 832.2222222222222, 832.2857142857143, 832.3076923076923, 832.4, 832.5, 832.5490196078431, 832.6315789473684, 832.7272727272727, 832.8571428571429, 832.9411764705883, 833.0, 833.3333333333334, 833.5714285714286, 834.0, 834.1666666666666, 834.2857142857143, 834.4, 834.4444444444445, 834.516129032258, 834.7368421052631, 835.0, 835.2083333333334, 835.2380952380952, 835.2941176470588, 835.3333333333334, 835.4545454545455, 835.5555555555555, 835.6962025316456, 835.7142857142857, 835.8333333333334, 835.8823529411765, 836.0, 836.046511627907, 836.1538461538462, 836.25, 836.3636363636364, 836.6666666666666, 836.9230769230769, 837.0, 837.1428571428571, 837.3333333333334, 837.5, 837.5862068965517, 837.6470588235294, 837.6923076923077, 837.7272727272727, 837.7777777777778, 837.9591836734694, 838.0, 838.1818181818181, 838.2352941176471, 838.3333333333334, 838.4, 838.5714285714286, 838.695652173913, 838.75, 838.8888888888889, 839.0909090909091, 839.1666666666666, 839.2, 839.3333333333334, 839.375, 839.4117647058823, 839.4736842105264, 839.5, 839.5652173913044, 840.0, 840.4166666666666, 840.5555555555555, 840.5882352941177, 840.6666666666666, 840.7692307692307, 840.7792207792207, 840.9090909090909, 841.0, 841.1111111111111, 841.1538461538462, 841.2, 841.2121212121212, 841.25, 841.4285714285714, 841.9047619047619, 841.9444444444445, 841.9512195121952, 842.0, 842.1052631578947, 842.1428571428571, 842.2222222222222, 842.3076923076923, 842.3333333333334, 842.5, 842.6086956521739, 842.8571428571429, 843.0, 843.0612244897959, 843.3333333333334, 843.5714285714286, 843.6666666666666, 843.75, 843.8461538461538, 843.8709677419355, 844.0, 844.1666666666666, 844.1935483870968, 844.2857142857143, 844.4, 844.4444444444445, 844.516129032258, 844.5454545454545, 844.6428571428571, 844.7619047619048, 844.8888888888889, 845.0, 845.2941176470588, 845.4285714285714, 845.4901960784314, 845.5555555555555, 845.7142857142857, 846.0, 846.1111111111111, 846.1764705882352, 846.25, 846.2857142857143, 846.3636363636364, 846.5217391304348, 846.551724137931, 846.6666666666666, 846.9230769230769, 846.9565217391304, 847.1428571428571, 847.5, 847.6470588235294, 847.6923076923077, 847.7777777777778, 847.8571428571429, 848.0, 848.3333333333334, 848.5714285714286, 848.6363636363636, 848.75, 848.8888888888889, 848.918918918919, 849.0, 849.0909090909091, 849.1666666666666, 849.6969696969697, 850.0, 850.3225806451613, 850.3571428571429, 850.4347826086956, 850.5555555555555, 850.6382978723404, 850.7407407407408, 850.7692307692307, 850.8333333333334, 850.9090909090909, 851.0, 851.0526315789474, 851.1111111111111, 851.25, 851.304347826087, 851.4285714285714, 851.5, 851.6666666666666, 851.9444444444445, 852.0, 852.0833333333334, 852.0930232558139, 852.1428571428571, 852.1739130434783, 852.2222222222222, 852.258064516129, 852.3076923076923, 852.4324324324324, 852.5, 852.6923076923077, 852.7272727272727, 852.8571428571429, 852.9032258064516, 852.9411764705883, 853.0, 853.3333333333334, 853.4615384615385, 853.4782608695652, 853.75, 853.8461538461538, 854.0, 854.1176470588235, 854.1463414634146, 854.2857142857143, 854.4444444444445, 854.5454545454545, 854.6666666666666, 854.7826086956521, 854.8717948717949, 855.0, 855.3333333333334, 855.3571428571429, 855.4545454545455, 855.5555555555555, 855.7142857142857, 855.7894736842105, 855.8620689655172, 855.8823529411765, 856.0, 856.1538461538462, 856.4285714285714, 856.5217391304348, 856.6666666666666, 856.8888888888889, 857.0, 857.1428571428571, 857.2727272727273, 857.5, 857.6470588235294, 857.6666666666666, 857.6923076923077, 857.7777777777778, 857.8378378378378, 857.8571428571429, 857.9166666666666, 858.0, 858.1818181818181, 858.2352941176471, 858.3333333333334, 858.4615384615385, 858.5, 858.5714285714286, 858.75, 858.8888888888889, 858.9655172413793, 859.0, 859.0909090909091, 859.2307692307693, 859.375, 859.4117647058823, 859.5454545454545, 860.0, 860.5, 860.5555555555555, 860.625, 860.7142857142857, 860.7692307692307, 860.9090909090909, 861.0, 861.1111111111111, 861.2162162162163, 861.25, 861.4285714285714, 861.5384615384615, 861.6666666666666, 861.8181818181819, 861.8604651162791, 861.969696969697, 862.0, 862.2222222222222, 862.3076923076923, 862.5, 862.8, 862.8205128205128, 862.8571428571429, 863.0, 863.0769230769231, 863.1578947368421, 863.170731707317, 863.3333333333334, 863.90625, 864.0, 864.1666666666666, 864.2857142857143, 864.4444444444445, 864.5, 864.5454545454545, 864.5945945945946, 864.6666666666666, 864.8148148148148, 865.0, 865.1612903225806, 865.3846153846154, 865.4545454545455, 865.5555555555555, 865.7142857142857, 866.0, 866.1538461538462, 866.25, 866.3492063492064, 866.3636363636364, 866.4285714285714, 866.5, 866.551724137931, 866.6129032258065, 866.6666666666666, 866.9230769230769, 867.0, 867.1428571428571, 867.2727272727273, 867.34375, 867.4074074074074, 867.5, 867.6923076923077, 867.7777777777778, 867.8260869565217, 867.9104477611941, 867.9487179487179, 868.0, 868.1818181818181, 868.2352941176471, 868.3333333333334, 868.5, 868.5714285714286, 868.75, 868.8888888888889, 869.0909090909091, 869.1379310344828, 869.1666666666666, 869.2307692307693, 869.3333333333334, 869.3548387096774, 869.5652173913044, 869.6428571428571, 869.8305084745763, 870.0, 870.6666666666666, 870.7142857142857, 871.0, 871.0204081632653, 871.1111111111111, 871.25, 871.304347826087, 871.3333333333334, 871.4285714285714, 871.5151515151515, 871.5909090909091, 871.6666666666666, 871.8181818181819, 871.9230769230769, 872.0, 872.0833333333334, 872.1052631578947, 872.1739130434783, 872.2222222222222, 872.5, 872.7272727272727, 872.7777777777778, 872.8571428571429, 873.0434782608696, 873.0555555555555, 873.0769230769231, 873.125, 873.1578947368421, 873.2352941176471, 873.3333333333334, 873.6363636363636, 873.75, 873.9080459770115, 874.0, 874.0909090909091, 874.25, 874.2857142857143, 874.4444444444445, 874.6153846153846, 875.0, 875.1666666666666, 875.1851851851852, 875.2173913043479, 875.2941176470588, 875.5, 875.6666666666666, 875.7142857142857, 875.7575757575758, 875.8333333333334, 875.8823529411765, 876.0, 876.1111111111111, 876.25, 876.3157894736842, 876.3636363636364, 876.5, 876.6666666666666, 876.8421052631579, 876.9230769230769, 876.9565217391304, 877.2413793103449, 877.2727272727273, 877.3333333333334, 877.3809523809524, 877.5, 877.6923076923077, 878.0, 878.125, 878.3333333333334, 878.4375, 878.4615384615385, 878.5, 878.5714285714286, 878.6666666666666, 878.8235294117648, 878.8888888888889, 878.9473684210526, 879.0909090909091, 879.1176470588235, 879.1666666666666, 879.2307692307693, 879.25, 879.2857142857143, 879.3478260869565, 879.6296296296297, 879.6551724137931, 880.0, 880.3448275862069, 880.6666666666666, 880.7142857142857, 880.9090909090909, 881.0, 881.1111111111111, 881.25, 881.4285714285714, 881.6666666666666, 881.9047619047619, 881.9230769230769, 882.0, 882.1621621621622, 882.2222222222222, 882.3076923076923, 882.4, 882.5, 882.5581395348837, 882.6086956521739, 882.6923076923077, 882.7272727272727, 882.7777777777778, 882.8571428571429, 883.0, 883.0434782608696, 883.1034482758621, 883.125, 883.2, 883.3333333333334, 883.4042553191489, 883.75, 883.8461538461538, 883.9130434782609, 884.0, 884.1860465116279, 884.2857142857143, 884.375, 884.4444444444445, 884.4827586206897, 884.5454545454545, 884.6341463414634, 884.7058823529412, 884.7368421052631, 884.7619047619048, 885.0, 885.2173913043479, 885.2307692307693, 885.2631578947369, 885.2941176470588, 885.3333333333334, 885.3846153846154, 885.4545454545455, 885.483870967742, 885.5555555555555, 885.609756097561, 885.7142857142857, 885.8333333333334, 886.0, 886.1111111111111, 886.25, 886.3636363636364, 886.4285714285714, 886.4516129032259, 886.6, 886.6666666666666, 886.829268292683, 886.875, 886.8965517241379, 887.0, 887.1428571428571, 887.3076923076923, 887.4074074074074, 887.4193548387096, 887.5, 887.6470588235294, 887.7777777777778, 887.8571428571429, 888.0, 888.2142857142857, 888.2608695652174, 888.3333333333334, 888.5714285714286, 888.6363636363636, 888.75, 888.8888888888889, 889.0, 889.0909090909091, 889.1666666666666, 889.3333333333334, 889.375, 889.6, 890.0, 890.2702702702703, 890.3571428571429, 890.3703703703703, 890.4166666666666, 890.5405405405405, 890.5555555555555, 890.6896551724138, 890.8, 891.0, 891.1111111111111, 891.25, 891.4285714285714, 891.5384615384615, 891.6, 891.6666666666666, 891.7142857142857, 891.7241379310345, 891.7391304347826, 891.8181818181819, 891.9230769230769, 892.0, 892.1052631578947, 892.2222222222222, 892.3809523809524, 892.5, 892.8571428571429, 893.0, 893.3333333333334, 893.5, 893.6363636363636, 893.6842105263158, 893.75, 893.7777777777778, 894.0, 894.1379310344828, 894.1666666666666, 894.2424242424242, 894.2857142857143, 894.3055555555555, 894.375, 894.5454545454545, 894.6666666666666, 895.0, 895.2380952380952, 895.3571428571429, 895.3846153846154, 895.4166666666666, 895.7142857142857, 895.9090909090909, 896.0, 896.25, 896.3157894736842, 896.4285714285714, 896.5217391304348, 896.6666666666666, 896.7741935483871, 896.875, 897.0, 897.0588235294117, 897.1428571428571, 897.2, 897.5, 897.6923076923077, 897.7777777777778, 898.0, 898.3333333333334, 898.3870967741935, 898.5714285714286, 898.75, 898.8888888888889, 898.9473684210526, 899.047619047619, 899.0909090909091, 899.1666666666666, 899.4117647058823, 899.5238095238095, 899.6666666666666, 899.7297297297297, 899.7674418604652, 900.0, 900.3703703703703, 900.4444444444445, 900.4545454545455, 900.5, 900.625, 900.7142857142857, 900.7692307692307, 900.8333333333334, 900.8571428571429, 900.9090909090909, 900.952380952381, 901.0, 901.1111111111111, 901.25, 901.3333333333334, 901.4285714285714, 901.6, 901.6666666666666, 901.7647058823529, 901.8181818181819, 901.8518518518518, 902.0, 902.0833333333334, 902.1052631578947, 902.1428571428571, 902.2222222222222, 902.3076923076923, 902.3529411764706, 902.5, 902.8571428571429, 903.0434782608696, 903.0769230769231, 903.125, 903.2911392405064, 903.3333333333334, 903.448275862069, 903.6363636363636, 903.75, 903.8461538461538, 904.0, 904.1666666666666, 904.2857142857143, 904.3333333333334, 904.4444444444445, 904.6341463414634, 904.6875, 904.7368421052631, 905.0, 905.2173913043479, 905.2631578947369, 905.5555555555555, 905.7142857142857, 905.7692307692307, 905.8333333333334, 906.0, 906.4705882352941, 906.6666666666666, 906.7567567567568, 907.0, 907.1428571428571, 907.2093023255813, 907.3333333333334, 907.5, 907.6470588235294, 907.7777777777778, 907.8181818181819, 907.8571428571429, 907.8947368421053, 908.0, 908.1081081081081, 908.1818181818181, 908.3333333333334, 908.3870967741935, 908.4615384615385, 908.5714285714286, 908.6363636363636, 908.75, 908.8888888888889, 909.0, 909.0909090909091, 909.1666666666666, 909.3333333333334, 909.375, 909.4117647058823, 909.5, 909.5454545454545, 909.6428571428571, 910.0, 910.2127659574468, 910.4081632653061, 910.4201680672269, 910.4347826086956, 910.5882352941177, 910.7692307692307, 910.8333333333334, 911.0344827586207, 911.1111111111111, 911.2068965517242, 911.25, 911.3333333333334, 911.3725490196078, 911.4285714285714, 911.5384615384615, 911.6666666666666, 911.7647058823529, 912.0, 912.2222222222222, 912.280701754386, 912.3076923076923, 912.3529411764706, 912.5, 912.6190476190476, 912.6315789473684, 912.7272727272727, 912.7777777777778, 912.8571428571429, 912.9411764705883, 913.0, 913.0952380952381, 913.3333333333334, 913.3870967741935, 913.5, 913.6363636363636, 913.75, 913.8095238095239, 914.0, 914.0909090909091, 914.1666666666666, 914.4444444444445, 914.5454545454545, 914.6666666666666, 914.7368421052631, 914.8148148148148, 914.8387096774194, 915.0, 915.2, 915.2380952380952, 915.3846153846154, 915.4285714285714, 915.4545454545455, 915.5555555555555, 915.625, 915.7142857142857, 915.8333333333334, 915.8823529411765, 916.0, 916.1538461538462, 916.25, 916.3157894736842, 916.3636363636364, 916.4285714285714, 916.6666666666666, 916.8085106382979, 916.8421052631579, 916.875, 916.9230769230769, 917.0, 917.0588235294117, 917.1428571428571, 917.2727272727273, 917.5, 917.7777777777778, 917.8571428571429, 918.0, 918.3333333333334, 918.3783783783783, 918.4090909090909, 918.421052631579, 918.5714285714286, 918.6666666666666, 918.75, 918.8, 918.8888888888889, 919.0, 919.0909090909091, 919.1666666666666, 919.2, 919.2307692307693, 919.2857142857143, 919.3333333333334, 919.375, 919.4117647058823, 919.6969696969697, 920.0, 920.5, 920.7142857142857, 920.8333333333334, 920.9090909090909, 921.0, 921.1111111111111, 921.1764705882352, 921.25, 921.4285714285714, 921.5, 921.5384615384615, 921.578947368421, 921.6666666666666, 921.7241379310345, 921.8181818181819, 921.875, 922.0, 922.1428571428571, 922.2222222222222, 922.3809523809524, 922.5, 922.5806451612904, 922.6666666666666, 922.7272727272727, 922.8571428571429, 923.0, 923.0769230769231, 923.1578947368421, 923.3333333333334, 923.6363636363636, 923.6666666666666, 923.75, 923.8235294117648, 923.972602739726, 924.0, 924.1666666666666, 924.2105263157895, 924.2857142857143, 924.375, 924.4444444444445, 924.6153846153846, 925.0, 925.1851851851852, 925.2941176470588, 925.3846153846154, 925.4545454545455, 925.7142857142857, 926.0, 926.25, 926.4102564102565, 926.6666666666666, 926.8421052631579, 926.875, 926.9230769230769, 927.0, 927.1428571428571, 927.2222222222222, 927.2727272727273, 927.3076923076923, 927.3333333333334, 927.5, 927.7777777777778, 927.8378378378378, 927.9545454545455, 928.0, 928.2051282051282, 928.3333333333334, 928.5, 928.5714285714286, 928.75, 928.8235294117648, 928.8461538461538, 928.9655172413793, 929.0, 929.1304347826087, 929.1666666666666, 929.2307692307693, 929.3181818181819, 929.3333333333334, 929.4736842105264, 929.5454545454545, 929.6, 930.0, 930.2222222222222, 930.4166666666666, 930.4761904761905, 930.5263157894736, 930.5555555555555, 930.7692307692307, 930.8333333333334, 931.0, 931.1111111111111, 931.1538461538462, 931.25, 931.4285714285714, 931.6666666666666, 931.8181818181819, 932.0, 932.0588235294117, 932.2093023255813, 932.2222222222222, 932.3076923076923, 932.5, 932.5806451612904, 932.8571428571429, 933.0, 933.0769230769231, 933.2142857142857, 933.3333333333334, 933.4146341463414, 933.6363636363636, 933.75, 933.8461538461538, 934.0, 934.1666666666666, 934.2857142857143, 934.4444444444445, 934.5454545454545, 934.7368421052631, 934.7619047619048, 935.0, 935.2, 935.2941176470588, 935.3846153846154, 935.5555555555555, 935.6521739130435, 935.7142857142857, 935.7692307692307, 935.8333333333334, 935.9090909090909, 936.0, 936.1111111111111, 936.25, 936.3333333333334, 936.4285714285714, 936.6666666666666, 936.8, 936.9230769230769, 937.0, 937.0967741935484, 937.1428571428571, 937.2727272727273, 937.3913043478261, 937.5, 937.6190476190476, 937.6923076923077, 937.7777777777778, 937.8787878787879, 938.0, 938.0645161290323, 938.1818181818181, 938.2142857142857, 938.3333333333334, 938.5714285714286, 938.75, 938.7878787878788, 938.8888888888889, 938.9285714285714, 938.9473684210526, 939.0, 939.047619047619, 939.0909090909091, 939.1304347826087, 939.1428571428571, 939.1666666666666, 939.2307692307693, 939.2857142857143, 939.375, 939.4736842105264, 939.5555555555555, 939.5833333333334, 939.6296296296297, 939.7674418604652, 940.0, 940.25, 940.3703703703703, 940.5, 940.625, 940.6666666666666, 940.7142857142857, 940.8333333333334, 940.9090909090909, 941.0, 941.0526315789474, 941.1111111111111, 941.219512195122, 941.25, 941.4285714285714, 941.578947368421, 941.6, 941.6666666666666, 941.6981132075472, 941.7241379310345, 941.8181818181819, 941.9047619047619, 942.0, 942.0754716981132, 942.1875, 942.2222222222222, 942.2857142857143, 942.3809523809524, 942.4242424242424, 942.5, 942.6315789473684, 942.6666666666666, 942.7272727272727, 942.8571428571429, 942.9411764705883, 943.0, 943.3333333333334, 943.4285714285714, 943.6363636363636, 943.75, 943.8461538461538, 943.9130434782609, 944.0, 944.0909090909091, 944.1463414634146, 944.2857142857143, 944.4444444444445, 944.5454545454545, 944.7727272727273, 945.0, 945.2631578947369, 945.2830188679245, 945.4166666666666, 945.5, 945.5263157894736, 945.5555555555555, 945.7142857142857, 945.7407407407408, 945.8333333333334, 946.0, 946.0869565217391, 946.25, 946.3636363636364, 946.4285714285714, 946.5217391304348, 946.6666666666666, 946.8, 946.875, 946.9565217391304, 947.1428571428571, 947.2727272727273, 947.3684210526316, 947.5, 947.6190476190476, 947.6923076923077, 947.7777777777778, 947.8947368421053, 948.0, 948.1818181818181, 948.2352941176471, 948.2758620689655, 948.3333333333334, 948.5, 948.5365853658536, 948.5714285714286, 948.6666666666666, 948.75, 948.8372093023256, 948.8888888888889, 949.0, 949.047619047619, 949.0909090909091, 949.2, 949.2857142857143, 949.3333333333334, 949.6, 949.6969696969697, 950.0, 950.4, 950.4878048780488, 950.5555555555555, 950.7142857142857, 950.8974358974359, 950.9090909090909, 951.0, 951.025641025641, 951.0526315789474, 951.1111111111111, 951.1764705882352, 951.1904761904761, 951.25, 951.3157894736842, 951.4285714285714, 951.6666666666666, 951.7647058823529, 951.8181818181819, 951.875, 952.0, 952.1428571428571, 952.2222222222222, 952.3333333333334, 952.5, 952.6315789473684, 952.7272727272727, 952.8301886792453, 952.8571428571429, 953.0, 953.0769230769231, 953.1428571428571, 953.1578947368421, 953.2142857142857, 953.3333333333334, 953.5294117647059, 953.6363636363636, 953.6842105263158, 953.75, 953.8888888888889, 954.0, 954.2424242424242, 954.2857142857143, 954.3103448275862, 954.5454545454545, 954.6153846153846, 954.6666666666666, 954.7826086956521, 954.8717948717949, 955.0, 955.3333333333334, 955.3846153846154, 955.4545454545455, 955.5555555555555, 955.6521739130435, 955.7142857142857, 955.8333333333334, 956.0, 956.25, 956.3636363636364, 956.3829787234042, 956.4705882352941, 956.4864864864865, 956.5217391304348, 956.6666666666666, 956.875, 956.9230769230769, 957.1428571428571, 957.2413793103449, 957.2727272727273, 957.4193548387096, 957.5, 957.6923076923077, 957.7777777777778, 958.0, 958.0952380952381, 958.125, 958.1818181818181, 958.3333333333334, 958.5714285714286, 958.6666666666666, 958.75, 958.8461538461538, 958.8888888888889, 958.9473684210526, 959.0909090909091, 959.2307692307693, 959.2857142857143, 959.4285714285714, 959.4444444444445, 959.5121951219512, 959.5833333333334, 959.7142857142857, 959.7560975609756, 960.0, 960.625, 960.8333333333334, 960.9090909090909, 960.9375, 960.952380952381, 961.0, 961.1111111111111, 961.25, 961.3333333333334, 961.4285714285714, 961.578947368421, 961.6666666666666, 961.8181818181819, 962.0, 962.0833333333334, 962.2222222222222, 962.5, 962.7272727272727, 962.7586206896551, 962.8571428571429, 962.9090909090909, 962.9166666666666, 963.0, 963.0769230769231, 963.1578947368421, 963.2142857142857, 963.3333333333334, 963.4146341463414, 963.7037037037037, 963.75, 963.7931034482758, 963.8461538461538, 964.0, 964.1666666666666, 964.2857142857143, 964.375, 964.4444444444445, 964.6666666666666, 965.0, 965.1515151515151, 965.3846153846154, 965.5555555555555, 965.7142857142857, 966.0, 966.1538461538462, 966.25, 966.2962962962963, 966.3636363636364, 966.4285714285714, 966.551724137931, 966.6666666666666, 966.8421052631579, 966.875, 967.0, 967.2727272727273, 967.3333333333334, 967.5, 967.6923076923077, 967.7777777777778, 967.9245283018868, 968.0, 968.1081081081081, 968.1818181818181, 968.3333333333334, 968.4, 968.5714285714286, 968.8888888888889, 969.0909090909091, 969.1666666666666, 969.2307692307693, 969.2857142857143, 969.375, 969.5238095238095, 969.6296296296297, 969.795918367347, 970.0, 970.3571428571429, 970.5, 970.5555555555555, 970.6666666666666, 970.8333333333334, 970.9090909090909, 970.952380952381, 971.0, 971.1111111111111, 971.25, 971.304347826087, 971.4285714285714, 971.4814814814815, 971.5384615384615, 971.7647058823529, 971.8181818181819, 971.9607843137255, 972.0, 972.1428571428571, 972.1739130434783, 972.2222222222222, 972.3076923076923, 972.3529411764706, 972.3809523809524, 972.5, 972.6315789473684, 972.6415094339623, 972.6666666666666, 972.7272727272727, 972.7586206896551, 972.8571428571429, 973.0, 973.3333333333334, 973.4782608695652, 973.5294117647059, 973.5714285714286, 973.6363636363636, 973.75, 974.0, 974.0816326530612, 974.1509433962265, 974.1666666666666, 974.2307692307693, 974.2857142857143, 974.3243243243244, 974.3478260869565, 974.4, 974.4444444444445, 974.6153846153846, 974.6666666666666, 974.7368421052631, 974.7619047619048, 974.8148148148148, 974.8275862068965, 974.8837209302326, 975.0, 975.2, 975.3333333333334, 975.3846153846154, 975.4545454545455, 975.5555555555555, 975.6, 975.7142857142857, 975.925925925926, 976.0, 976.1904761904761, 976.25, 976.5, 976.6666666666666, 976.8421052631579, 976.9230769230769, 977.0, 977.1428571428571, 977.2727272727273, 977.3333333333334, 977.4509803921569, 977.5, 977.6190476190476, 977.7777777777778, 977.8571428571429, 977.8787878787879, 978.0, 978.1578947368421, 978.1818181818181, 978.3333333333334, 978.4615384615385, 978.5, 978.5714285714286, 978.695652173913, 978.75, 978.7878787878788, 978.8095238095239, 978.8571428571429, 978.8888888888889, 978.9655172413793, 979.0, 979.0909090909091, 979.1304347826087, 979.1666666666666, 979.2307692307693, 979.3333333333334, 979.375, 979.4444444444445, 979.5454545454545, 979.6969696969697, 980.0, 980.5882352941177, 980.7142857142857, 980.8333333333334, 980.952380952381, 981.0, 981.25, 981.4285714285714, 981.5555555555555, 981.6666666666666, 981.7647058823529, 982.0, 982.1428571428571, 982.3333333333334, 982.5, 982.6923076923077, 982.7272727272727, 982.8571428571429, 983.0, 983.0769230769231, 983.125, 983.1428571428571, 983.3333333333334, 983.4782608695652, 983.6363636363636, 983.6842105263158, 983.75, 983.8, 983.8095238095239, 983.8235294117648, 984.0, 984.1666666666666, 984.2307692307693, 984.2857142857143, 984.375, 984.4444444444445, 984.5, 984.5454545454545, 984.7058823529412, 984.7619047619048, 985.0, 985.2631578947369, 985.3333333333334, 985.3571428571429, 985.4545454545455, 985.5, 985.5555555555555, 985.5882352941177, 985.7142857142857, 985.7894736842105, 985.8823529411765, 985.9090909090909, 986.0, 986.1111111111111, 986.1538461538462, 986.25, 986.3157894736842, 986.3636363636364, 986.6666666666666, 987.0370370370371, 987.1428571428571, 987.3333333333334, 987.5, 987.7777777777778, 987.8260869565217, 988.0, 988.1818181818181, 988.2142857142857, 988.3333333333334, 988.421052631579, 988.4615384615385, 988.5, 988.5714285714286, 988.75, 988.780487804878, 988.8888888888889, 989.047619047619, 989.0909090909091, 989.3103448275862, 989.4117647058823, 989.4594594594595, 989.4736842105264, 989.6551724137931, 990.0, 990.2631578947369, 990.3030303030303, 990.4347826086956, 990.4761904761905, 990.5263157894736, 990.7142857142857, 990.7692307692307, 990.8, 990.9090909090909, 991.0, 991.0526315789474, 991.0714285714286, 991.25, 991.3333333333334, 991.4285714285714, 991.5625, 991.6666666666666, 991.7241379310345, 991.7391304347826, 991.7647058823529, 991.8181818181819, 991.875, 992.0, 992.1428571428571, 992.1739130434783, 992.2222222222222, 992.258064516129, 992.3076923076923, 992.5, 992.6666666666666, 992.7272727272727, 992.8571428571429, 992.9166666666666, 993.0, 993.3333333333334, 993.3783783783783, 993.5135135135135, 993.6842105263158, 993.75, 993.8461538461538, 994.0, 994.0540540540541, 994.2857142857143, 994.375, 994.4444444444445, 994.5454545454545, 994.6153846153846, 995.0, 995.2631578947369, 995.3846153846154, 995.4545454545455, 995.5555555555555, 995.6, 995.7142857142857, 995.7692307692307, 996.0, 996.1111111111111, 996.1538461538462, 996.25, 996.3157894736842, 996.3636363636364, 996.4285714285714, 996.6666666666666, 997.0, 997.2727272727273, 997.2916666666666, 997.3684210526316, 997.5, 997.5555555555555, 997.6, 997.8571428571429, 997.8947368421053, 998.0, 998.0487804878048, 998.1818181818181, 998.2352941176471, 998.2608695652174, 998.3333333333334, 998.4615384615385, 998.5714285714286, 998.6206896551724, 998.6666666666666, 998.695652173913, 998.75, 998.8888888888889, 999.0, 999.0909090909091, 999.1304347826087, 999.1666666666666, 999.2857142857143, 999.7222222222222, 1000.0, 1000.4347826086956, 1000.5263157894736, 1000.625, 1000.6666666666666, 1000.8695652173913, 1000.9090909090909, 1001.0, 1001.1111111111111, 1001.25, 1001.3333333333334, 1001.4285714285714, 1001.5384615384615, 1001.6, 1001.6666666666666, 1001.7391304347826, 1001.7647058823529, 1001.8181818181819, 1001.9047619047619, 1002.0, 1002.1428571428571, 1002.2222222222222, 1002.2857142857143, 1002.3076923076923, 1002.5, 1002.7272727272727, 1002.8571428571429, 1002.9411764705883, 1003.0769230769231, 1003.2692307692307, 1003.3333333333334, 1003.4090909090909, 1003.5714285714286, 1003.75, 1003.8461538461538, 1004.0, 1004.1176470588235, 1004.1666666666666, 1004.2372881355932, 1004.2857142857143, 1004.3478260869565, 1004.375, 1004.4444444444445, 1004.6153846153846, 1004.6666666666666, 1004.7058823529412, 1004.8571428571429, 1005.0, 1005.2631578947369, 1005.3333333333334, 1005.4054054054054, 1005.4285714285714, 1005.4545454545455, 1005.4794520547945, 1005.5555555555555, 1005.625, 1005.7142857142857, 1005.75, 1005.8333333333334, 1005.9090909090909, 1006.0, 1006.25, 1006.3157894736842, 1006.3636363636364, 1006.578947368421, 1006.6666666666666, 1006.7741935483871, 1006.8181818181819, 1006.8421052631579, 1006.8518518518518, 1006.9230769230769, 1007.0, 1007.1428571428571, 1007.2727272727273, 1007.3333333333334, 1007.5, 1007.6, 1007.6190476190476, 1007.6923076923077, 1007.7777777777778, 1008.0, 1008.1081081081081, 1008.1818181818181, 1008.2608695652174, 1008.3050847457627, 1008.3333333333334, 1008.4615384615385, 1008.5714285714286, 1008.6363636363636, 1008.75, 1008.7878787878788, 1008.8235294117648, 1008.8461538461538, 1008.8888888888889, 1008.9473684210526, 1008.9655172413793, 1009.0, 1009.0909090909091, 1009.1666666666666, 1009.2857142857143, 1009.3333333333334, 1009.3548387096774, 1009.375, 1009.5454545454545, 1009.7058823529412, 1009.7368421052631, 1009.7435897435897, 1010.0, 1010.327868852459, 1010.3333333333334, 1010.3571428571429, 1010.5, 1010.5555555555555, 1010.6666666666666, 1010.7692307692307, 1010.8695652173913, 1010.9090909090909, 1011.0, 1011.1111111111111, 1011.25, 1011.304347826087, 1011.4285714285714, 1011.5384615384615, 1011.578947368421, 1011.6666666666666, 1011.8181818181819, 1011.9047619047619, 1012.0, 1012.0588235294117, 1012.1153846153846, 1012.1428571428571, 1012.1739130434783, 1012.2222222222222, 1012.3529411764706, 1012.3809523809524, 1012.5, 1012.5925925925926, 1012.7272727272727, 1012.7906976744187, 1012.9411764705883, 1012.972972972973, 1013.0434782608696, 1013.0769230769231, 1013.125, 1013.3333333333334, 1013.5483870967741, 1013.5714285714286, 1013.6363636363636, 1013.7037037037037, 1013.75, 1013.8461538461538, 1014.0, 1014.0909090909091, 1014.2857142857143, 1014.5454545454545, 1014.7058823529412, 1014.7368421052631, 1014.7826086956521, 1014.8275862068965, 1015.0, 1015.1515151515151, 1015.4166666666666, 1015.5555555555555, 1015.6666666666666, 1015.6756756756756, 1015.7142857142857, 1015.8333333333334, 1015.8823529411765, 1016.0, 1016.0714285714286, 1016.2962962962963, 1016.4, 1016.5217391304348, 1016.6666666666666, 1016.7924528301887, 1016.8181818181819, 1016.9230769230769, 1017.0, 1017.0588235294117, 1017.1428571428571, 1017.2340425531914, 1017.3809523809524, 1017.5, 1017.5862068965517, 1017.6923076923077, 1017.7777777777778, 1017.9310344827586, 1018.0, 1018.1578947368421, 1018.1818181818181, 1018.3333333333334, 1018.4848484848485, 1018.695652173913, 1018.75, 1018.8235294117648, 1018.8888888888889, 1019.0, 1019.0909090909091, 1019.2857142857143, 1019.3333333333334, 1019.6, 1019.7222222222222, 1019.7297297297297, 1019.75, 1020.0, 1020.2631578947369, 1020.5, 1020.625, 1020.7142857142857, 1020.8333333333334, 1020.8695652173913, 1020.9090909090909, 1020.952380952381, 1021.0, 1021.1111111111111, 1021.25, 1021.304347826087, 1021.3636363636364, 1021.4285714285714, 1021.5384615384615, 1021.6666666666666, 1021.7391304347826, 1021.875, 1021.9047619047619, 1022.0, 1022.0454545454545, 1022.1212121212121, 1022.1428571428571, 1022.2222222222222, 1022.5, 1022.8571428571429, 1022.9411764705883, 1023.0, 1023.0769230769231, 1023.3333333333334, 1023.75, 1024.0, 1024.090909090909, 1024.1176470588234, 1024.2857142857142, 1024.375, 1024.5, 1024.5098039215686, 1024.5454545454545, 1024.5833333333333, 1024.6153846153845, 1024.642857142857, 1024.7826086956522, 1025.0, 1025.2941176470588, 1025.3846153846155, 1025.4166666666667, 1025.4545454545455, 1025.5555555555557, 1025.625, 1025.7142857142858, 1025.8333333333333, 1025.8823529411766, 1026.0, 1026.1904761904761, 1026.25, 1026.3157894736842, 1026.3636363636363, 1026.5, 1026.6666666666667, 1027.142857142857, 1027.3684210526317, 1027.391304347826, 1027.5, 1027.6923076923076, 1027.7777777777778, 1027.7966101694915, 1028.0, 1028.1818181818182, 1028.235294117647, 1028.3333333333333, 1028.5714285714287, 1028.8, 1028.8235294117646, 1028.888888888889, 1029.0, 1029.090909090909, 1029.2, 1029.2592592592594, 1029.2857142857142, 1029.3333333333333, 1029.4117647058824, 1029.4736842105262, 1029.6491228070176, 1029.655172413793, 1029.7222222222222, 1030.0, 1030.4347826086957, 1030.5555555555557, 1030.6666666666667, 1030.7142857142858, 1030.7692307692307, 1031.0, 1031.111111111111, 1031.2, 1031.25, 1031.4285714285713, 1031.5384615384614, 1031.6666666666667, 1031.8181818181818, 1032.0, 1032.0689655172414, 1032.2222222222222, 1032.3076923076924, 1032.3333333333333, 1032.5, 1032.7777777777778, 1032.857142857143, 1032.8846153846155, 1033.030303030303, 1033.076923076923, 1033.125, 1033.3333333333333, 1033.5294117647059, 1033.6842105263158, 1033.75, 1033.888888888889, 1033.9285714285713, 1034.0, 1034.2857142857142, 1034.7368421052631, 1035.0, 1035.2898550724638, 1035.4166666666667, 1035.4545454545455, 1035.5, 1035.7142857142858, 1035.7692307692307, 1035.8333333333333, 1036.0, 1036.1538461538462, 1036.25, 1036.4705882352941, 1036.5217391304348, 1036.6666666666667, 1036.875, 1036.923076923077, 1037.142857142857, 1037.2222222222222, 1037.4358974358975, 1037.5, 1037.5862068965516, 1037.857142857143, 1038.0, 1038.0434782608695, 1038.095238095238, 1038.2608695652175, 1038.2857142857142, 1038.3333333333333, 1038.421052631579, 1038.4615384615386, 1038.5, 1038.5185185185185, 1038.5714285714287, 1038.6666666666667, 1038.75, 1038.888888888889, 1039.0, 1039.090909090909, 1039.1666666666667, 1039.2307692307693, 1039.2857142857142, 1039.3333333333333, 1039.375, 1039.6153846153845, 1039.787234042553, 1040.0, 1040.1851851851852, 1040.3846153846155, 1040.5555555555557, 1040.7142857142858, 1040.7692307692307, 1040.8333333333333, 1040.8823529411766, 1041.0, 1041.0344827586207, 1041.111111111111, 1041.2121212121212, 1041.25, 1041.4285714285713, 1041.5151515151515, 1041.5384615384614, 1041.6666666666667, 1042.0, 1042.142857142857, 1042.1739130434783, 1042.2222222222222, 1042.3809523809523, 1042.4, 1042.5, 1042.6470588235295, 1042.7272727272727, 1042.857142857143, 1042.962962962963, 1043.0, 1043.076923076923, 1043.125, 1043.1818181818182, 1043.3333333333333, 1043.4615384615386, 1043.75, 1044.0, 1044.2857142857142, 1044.3333333333333, 1044.375, 1044.4444444444443, 1044.5, 1044.5454545454545, 1044.6153846153845, 1044.7058823529412, 1044.7368421052631, 1044.8148148148148, 1045.0, 1045.2380952380952, 1045.3333333333333, 1045.3846153846155, 1045.4545454545455, 1045.5, 1045.5555555555557, 1045.6666666666667, 1045.7142857142858, 1045.8333333333333, 1045.909090909091, 1046.0, 1046.1538461538462, 1046.25, 1046.3636363636363, 1046.6666666666667, 1047.0, 1047.142857142857, 1047.2727272727273, 1047.3333333333333, 1047.5, 1047.6470588235295, 1047.7142857142858, 1047.7272727272727, 1047.741935483871, 1047.7777777777778, 1047.8125, 1047.8260869565217, 1047.8947368421052, 1048.0, 1048.1818181818182, 1048.3333333333333, 1048.4615384615386, 1048.5714285714287, 1048.6666666666667, 1048.75, 1048.8235294117646, 1048.888888888889, 1048.9473684210527, 1049.0, 1049.142857142857, 1049.1666666666667, 1049.2307692307693, 1049.3333333333333, 1049.3478260869565, 1049.4, 1049.4117647058824, 1049.4736842105262, 1049.5, 1050.0, 1050.5405405405406, 1050.5882352941176, 1050.7142857142858, 1050.7692307692307, 1050.8333333333333, 1050.8695652173913, 1050.909090909091, 1051.0, 1051.0526315789473, 1051.111111111111, 1051.25, 1051.388888888889, 1051.4285714285713, 1051.5384615384614, 1051.6666666666667, 1051.7073170731708, 1051.764705882353, 1051.8181818181818, 1051.9354838709678, 1052.0, 1052.0754716981132, 1052.1296296296296, 1052.142857142857, 1052.1951219512196, 1052.2222222222222, 1052.3076923076924, 1052.4242424242425, 1052.5, 1052.5925925925926, 1052.6666666666667, 1052.857142857143, 1053.0, 1053.3333333333333, 1053.448275862069, 1053.5, 1053.75, 1054.0, 1054.1379310344828, 1054.1666666666667, 1054.2857142857142, 1054.4444444444443, 1054.5454545454545, 1054.6153846153845, 1055.0, 1055.3846153846155, 1055.5555555555557, 1055.5882352941176, 1055.6521739130435, 1055.7142857142858, 1055.945945945946, 1056.0, 1056.0869565217392, 1056.1538461538462, 1056.1702127659576, 1056.2068965517242, 1056.3157894736842, 1056.3636363636363, 1056.4, 1056.4705882352941, 1056.6666666666667, 1057.0, 1057.037037037037, 1057.0833333333333, 1057.142857142857, 1057.3333333333333, 1057.5, 1057.6666666666667, 1057.6923076923076, 1057.7777777777778, 1057.8947368421052, 1058.0, 1058.2608695652175, 1058.3333333333333, 1058.421052631579, 1058.5714285714287, 1058.75, 1058.8235294117646, 1058.888888888889, 1058.9473684210527, 1059.0, 1059.2307692307693, 1059.2857142857142, 1059.3333333333333, 1059.4117647058824, 1059.5, 1059.642857142857, 1060.0, 1060.4878048780488, 1060.5882352941176, 1060.6666666666667, 1060.7407407407406, 1060.8333333333333, 1060.909090909091, 1061.0, 1061.0526315789473, 1061.111111111111, 1061.25, 1061.304347826087, 1061.3333333333333, 1061.4285714285713, 1061.6666666666667, 1061.8181818181818, 1061.875, 1061.8867924528302, 1062.0, 1062.142857142857, 1062.1739130434783, 1062.2222222222222, 1062.3076923076924, 1062.3529411764705, 1062.3809523809523, 1062.5, 1062.6666666666667, 1062.7272727272727, 1062.857142857143, 1062.9411764705883, 1063.0, 1063.076923076923, 1063.3333333333333, 1063.5294117647059, 1063.6842105263158, 1063.75, 1063.8461538461538, 1063.9473684210527, 1064.0, 1064.054054054054, 1064.0740740740741, 1064.090909090909, 1064.1666666666667, 1064.2857142857142, 1064.3243243243244, 1064.5454545454545, 1064.5833333333333, 1064.7368421052631, 1065.0, 1065.3333333333333, 1065.3846153846155, 1065.4166666666667, 1065.4545454545455, 1065.5555555555557, 1065.7142857142858, 1065.8333333333333, 1065.8823529411766, 1066.0, 1066.060606060606, 1066.1904761904761, 1066.25, 1066.3157894736842, 1066.3636363636363, 1066.4150943396226, 1066.5, 1066.6666666666667, 1066.8115942028985, 1066.875, 1067.0588235294117, 1067.142857142857, 1067.2727272727273, 1067.2972972972973, 1067.391304347826, 1067.5, 1067.6470588235295, 1067.6744186046512, 1067.6923076923076, 1067.7777777777778, 1067.8947368421052, 1068.0, 1068.125, 1068.1818181818182, 1068.2051282051282, 1068.3333333333333, 1068.5714285714287, 1068.75, 1068.888888888889, 1068.9473684210527, 1068.9655172413793, 1069.0, 1069.090909090909, 1069.1304347826087, 1069.4736842105262, 1069.5238095238096, 1069.7058823529412, 1069.7619047619048, 1070.0, 1070.3333333333333, 1070.357142857143, 1070.4, 1070.4166666666667, 1070.4347826086957, 1070.5555555555557, 1070.5882352941176, 1070.6666666666667, 1070.6896551724137, 1070.909090909091, 1071.111111111111, 1071.25, 1071.4285714285713, 1071.5384615384614, 1071.6, 1071.7241379310344, 1071.8181818181818, 1072.0, 1072.142857142857, 1072.2222222222222, 1072.4137931034484, 1072.5, 1072.5806451612902, 1072.5925925925926, 1072.6530612244899, 1072.6666666666667, 1072.7777777777778, 1072.820512820513, 1072.857142857143, 1072.9411764705883, 1073.0, 1073.030303030303, 1073.076923076923, 1073.125, 1073.3333333333333, 1073.5294117647059, 1073.6363636363637, 1073.6666666666667, 1073.75, 1074.0, 1074.1176470588234, 1074.2857142857142, 1074.375, 1074.4117647058824, 1074.4444444444443, 1074.5454545454545, 1074.6153846153845, 1074.6341463414635, 1074.7058823529412, 1074.878048780488, 1075.0, 1075.1724137931035, 1075.4545454545455, 1075.7142857142858, 1075.8620689655172, 1075.909090909091, 1076.0, 1076.1538461538462, 1076.25, 1076.3636363636363, 1076.4, 1076.4285714285713, 1076.5, 1076.6666666666667, 1076.8, 1076.875, 1076.896551724138, 1076.923076923077, 1077.0, 1077.142857142857, 1077.2222222222222, 1077.2413793103449, 1077.2727272727273, 1077.5, 1077.5862068965516, 1077.7777777777778, 1077.8260869565217, 1078.0, 1078.0555555555557, 1078.125, 1078.1967213114754, 1078.2051282051282, 1078.3333333333333, 1078.3783783783783, 1078.392857142857, 1078.421052631579, 1078.4615384615386, 1078.5714285714287, 1078.888888888889, 1078.974358974359, 1079.0, 1079.047619047619, 1079.090909090909, 1079.1666666666667, 1079.2307692307693, 1079.7058823529412, 1080.0, 1080.3125, 1080.4347826086957, 1080.4545454545455, 1080.6666666666667, 1080.8333333333333, 1080.909090909091, 1081.0, 1081.0714285714287, 1081.111111111111, 1081.1764705882354, 1081.3333333333333, 1081.4285714285713, 1081.5384615384614, 1081.578947368421, 1081.6279069767443, 1081.6666666666667, 1081.8181818181818, 1082.0, 1082.2222222222222, 1082.3076923076924, 1082.3809523809523, 1082.4, 1082.5, 1082.6315789473683, 1082.6666666666667, 1082.7777777777778, 1082.857142857143, 1082.9411764705883, 1083.0, 1083.076923076923, 1083.3333333333333, 1083.4782608695652, 1083.5, 1083.5294117647059, 1083.6363636363637, 1083.6842105263158, 1083.7142857142858, 1083.75, 1083.8461538461538, 1083.888888888889, 1083.921568627451, 1083.9240506329113, 1084.0, 1084.090909090909, 1084.1666666666667, 1084.2857142857142, 1084.3478260869565, 1084.4186046511627, 1084.4444444444443, 1084.5454545454545, 1084.6666666666667, 1085.0, 1085.1851851851852, 1085.2941176470588, 1085.3191489361702, 1085.4545454545455, 1085.5172413793102, 1085.5555555555557, 1085.7142857142858, 1085.8333333333333, 1085.8823529411766, 1086.0, 1086.1764705882354, 1086.25, 1086.4285714285713, 1086.4705882352941, 1086.6666666666667, 1086.8, 1086.8181818181818, 1086.888888888889, 1086.923076923077, 1086.969696969697, 1087.0, 1087.0588235294117, 1087.142857142857, 1087.3076923076924, 1087.3333333333333, 1087.5, 1087.6470588235295, 1087.6923076923076, 1087.7777777777778, 1087.857142857143, 1088.0, 1088.076923076923, 1088.148148148148, 1088.3333333333333, 1088.421052631579, 1088.4615384615386, 1088.5185185185185, 1088.5714285714287, 1088.6363636363637, 1088.75, 1088.8461538461538, 1089.0, 1089.090909090909, 1089.1666666666667, 1089.2307692307693, 1089.25, 1089.3333333333333, 1089.375, 1089.4444444444443, 1089.7058823529412, 1090.0, 1090.4347826086957, 1090.5263157894738, 1090.7142857142858, 1090.7407407407406, 1090.8, 1090.8163265306123, 1090.8333333333333, 1090.8695652173913, 1090.909090909091, 1091.0, 1091.111111111111, 1091.25, 1091.4285714285713, 1091.5384615384614, 1091.5625, 1091.578947368421, 1091.6666666666667, 1091.8181818181818, 1091.875, 1092.0, 1092.2222222222222, 1092.3529411764705, 1092.3809523809523, 1092.4074074074074, 1092.5, 1092.5925925925926, 1092.608695652174, 1092.7272727272727, 1092.857142857143, 1092.9411764705883, 1093.0, 1093.076923076923, 1093.3333333333333, 1093.5, 1093.6170212765958, 1093.75, 1094.0, 1094.0425531914893, 1094.2105263157894, 1094.2857142857142, 1094.3333333333333, 1094.5454545454545, 1094.5714285714287, 1094.7619047619048, 1094.8484848484848, 1095.0, 1095.2, 1095.2631578947369, 1095.3846153846155, 1095.4545454545455, 1095.5172413793102, 1095.8333333333333, 1096.0, 1096.1538461538462, 1096.1904761904761, 1096.25, 1096.304347826087, 1096.3636363636363, 1096.5217391304348, 1096.6666666666667, 1096.923076923077, 1097.142857142857, 1097.2222222222222, 1097.2727272727273, 1097.4074074074074, 1097.5, 1097.6470588235295, 1097.6923076923076, 1097.7777777777778, 1098.0, 1098.235294117647, 1098.2758620689656, 1098.3333333333333, 1098.5714285714287, 1098.6046511627908, 1098.6666666666667, 1098.75, 1098.8, 1098.888888888889, 1098.9473684210527, 1099.0, 1099.1666666666667, 1099.2307692307693, 1099.2592592592594, 1099.2857142857142, 1099.4594594594594, 1099.7222222222222, 1100.0, 1100.357142857143, 1100.4166666666667, 1100.5882352941176, 1100.6666666666667, 1100.7142857142858, 1100.7692307692307, 1100.8, 1100.8163265306123, 1100.8333333333333, 1100.8695652173913, 1101.0, 1101.0526315789473, 1101.063829787234, 1101.0714285714287, 1101.111111111111, 1101.2, 1101.25, 1101.3333333333333, 1101.4285714285713, 1101.5151515151515, 1101.6666666666667, 1101.7857142857142, 1101.8181818181818, 1102.0, 1102.2222222222222, 1102.3076923076924, 1102.5, 1102.6666666666667, 1102.6923076923076, 1102.7272727272727, 1102.962962962963, 1103.076923076923, 1103.103448275862, 1103.125, 1103.157894736842, 1103.3333333333333, 1103.5, 1103.5294117647059, 1103.5714285714287, 1103.75, 1103.8461538461538, 1104.0, 1104.090909090909, 1104.2424242424242, 1104.4444444444443, 1104.5454545454545, 1104.6153846153845, 1104.6666666666667, 1104.7826086956522, 1105.0, 1105.1612903225807, 1105.2083333333333, 1105.2380952380952, 1105.5, 1105.5172413793102, 1105.5555555555557, 1105.7142857142858, 1105.8333333333333, 1105.8823529411766, 1106.0, 1106.1538461538462, 1106.25, 1106.5217391304348, 1106.6101694915253, 1106.6666666666667, 1106.8181818181818, 1106.9565217391305, 1107.142857142857, 1107.2727272727273, 1107.3684210526317, 1107.391304347826, 1107.5, 1107.6923076923076, 1107.7777777777778, 1107.8260869565217, 1108.0, 1108.235294117647, 1108.2608695652175, 1108.3333333333333, 1108.5, 1108.5714285714287, 1108.75, 1108.8235294117646, 1108.8461538461538, 1108.888888888889, 1108.9655172413793, 1109.0, 1109.032258064516, 1109.090909090909, 1109.1666666666667, 1109.1891891891892, 1109.2307692307693, 1109.5, 1110.0, 1110.2777777777778, 1110.5405405405406, 1110.5555555555557, 1110.5882352941176, 1110.625, 1110.6896551724137, 1110.7692307692307, 1110.8333333333333, 1111.0, 1111.0526315789473, 1111.111111111111, 1111.25, 1111.304347826087, 1111.3333333333333, 1111.3432835820895, 1111.4285714285713, 1111.5, 1111.5384615384614, 1111.6666666666667, 1111.8918918918919, 1112.0, 1112.1739130434783, 1112.2222222222222, 1112.3076923076924, 1112.5, 1112.6, 1112.6666666666667, 1112.857142857143, 1113.0, 1113.076923076923, 1113.157894736842, 1113.3333333333333, 1113.5294117647059, 1113.5714285714287, 1113.6363636363637, 1113.75, 1113.888888888889, 1114.0, 1114.054054054054, 1114.1666666666667, 1114.2105263157894, 1114.2307692307693, 1114.2857142857142, 1114.3181818181818, 1114.3243243243244, 1114.4444444444443, 1114.4827586206898, 1114.5454545454545, 1114.7058823529412, 1114.7368421052631, 1115.0, 1115.4166666666667, 1115.5, 1115.5555555555557, 1115.7142857142858, 1115.7894736842106, 1115.8333333333333, 1115.8823529411766, 1116.0, 1116.1538461538462, 1116.25, 1116.3157894736842, 1116.3636363636363, 1116.4, 1116.4285714285713, 1116.6666666666667, 1117.0, 1117.037037037037, 1117.2727272727273, 1117.3076923076924, 1117.3684210526317, 1117.4193548387098, 1117.5, 1117.6470588235295, 1117.7777777777778, 1117.857142857143, 1117.9310344827586, 1118.0, 1118.125, 1118.25, 1118.3333333333333, 1118.421052631579, 1118.4615384615386, 1118.5, 1118.5714285714287, 1118.6486486486488, 1118.6666666666667, 1118.7037037037037, 1118.75, 1118.7878787878788, 1118.888888888889, 1119.1666666666667, 1119.2307692307693, 1119.2857142857142, 1119.3333333333333, 1119.3548387096773, 1119.4444444444443, 1119.5652173913043, 1120.0, 1120.344827586207, 1120.4761904761904, 1120.5, 1120.6060606060605, 1120.625, 1120.6896551724137, 1120.7692307692307, 1120.9375, 1121.081081081081, 1121.111111111111, 1121.25, 1121.3333333333333, 1121.3636363636363, 1121.4285714285713, 1121.5384615384614, 1121.6666666666667, 1121.6949152542372, 1121.698113207547, 1122.0, 1122.142857142857, 1122.1739130434783, 1122.3076923076924, 1122.3529411764705, 1122.3809523809523, 1122.4137931034484, 1122.5, 1122.6315789473683, 1122.6666666666667, 1122.7272727272727, 1122.7777777777778, 1122.857142857143, 1123.125, 1123.2142857142858, 1123.3333333333333, 1123.4782608695652, 1123.6363636363637, 1123.75, 1123.8461538461538, 1123.888888888889, 1124.0, 1124.1176470588234, 1124.1379310344828, 1124.2857142857142, 1124.4444444444443, 1124.5454545454545, 1124.6153846153845, 1124.6666666666667, 1124.7368421052631, 1124.7826086956522, 1125.0, 1125.2380952380952, 1125.2631578947369, 1125.3846153846155, 1125.4545454545455, 1125.5555555555557, 1125.625, 1125.6410256410256, 1125.7142857142858, 1125.909090909091, 1125.9259259259259, 1125.945945945946, 1126.0, 1126.046511627907, 1126.0869565217392, 1126.1538461538462, 1126.25, 1126.3157894736842, 1126.4705882352941, 1126.6666666666667, 1126.888888888889, 1126.923076923077, 1127.0, 1127.0588235294117, 1127.142857142857, 1127.2, 1127.2093023255813, 1127.3076923076924, 1127.3333333333333, 1127.5, 1127.6190476190477, 1127.7777777777778, 1127.857142857143, 1127.9166666666667, 1128.0, 1128.095238095238, 1128.125, 1128.1818181818182, 1128.2142857142858, 1128.3333333333333, 1128.4615384615386, 1128.5185185185185, 1128.5714285714287, 1128.7179487179487, 1128.75, 1128.888888888889, 1128.918918918919, 1128.9473684210527, 1129.047619047619, 1129.090909090909, 1129.1666666666667, 1129.2307692307693, 1129.2857142857142, 1129.3333333333333, 1129.6153846153845, 1129.655172413793, 1130.0, 1130.2564102564102, 1130.3846153846155, 1130.5882352941176, 1130.625, 1130.7142857142858, 1130.7692307692307, 1130.8333333333333, 1130.909090909091, 1131.0, 1131.111111111111, 1131.1764705882354, 1131.25, 1131.4285714285713, 1131.6666666666667, 1131.7391304347825, 1131.904761904762, 1132.0, 1132.1052631578948, 1132.2222222222222, 1132.3529411764705, 1132.4, 1132.5, 1132.6315789473683, 1132.6666666666667, 1132.7272727272727, 1132.857142857143, 1132.9032258064517, 1133.0, 1133.076923076923, 1133.3333333333333, 1133.6363636363637, 1133.75, 1134.0, 1134.1666666666667, 1134.2105263157894, 1134.2857142857142, 1134.375, 1134.4444444444443, 1134.5, 1134.6666666666667, 1134.7368421052631, 1135.0, 1135.3333333333333, 1135.3846153846155, 1135.4545454545455, 1135.5, 1135.5555555555557, 1135.625, 1135.7142857142858, 1135.8333333333333, 1135.8823529411766, 1136.0, 1136.111111111111, 1136.1538461538462, 1136.25, 1136.3636363636363, 1136.4, 1136.4516129032259, 1136.4705882352941, 1136.6666666666667, 1136.8, 1136.923076923077, 1137.0, 1137.0833333333333, 1137.142857142857, 1137.2222222222222, 1137.2727272727273, 1137.5, 1137.6190476190477, 1137.6470588235295, 1137.7272727272727, 1137.7777777777778, 1137.8260869565217, 1137.9166666666667, 1137.9545454545455, 1138.0, 1138.095238095238, 1138.1818181818182, 1138.3333333333333, 1138.421052631579, 1138.5714285714287, 1138.6666666666667, 1138.75, 1138.8235294117646, 1139.0, 1139.090909090909, 1139.2307692307693, 1139.2857142857142, 1139.3333333333333, 1139.3548387096773, 1139.7727272727273, 1140.0, 1140.4761904761904, 1140.5555555555557, 1140.625, 1140.6382978723404, 1140.6666666666667, 1140.7894736842106, 1140.8333333333333, 1141.0, 1141.0526315789473, 1141.111111111111, 1141.25, 1141.4285714285713, 1141.5384615384614, 1141.6666666666667, 1141.7391304347825, 1141.8181818181818, 1141.904761904762, 1142.0, 1142.0833333333333, 1142.2222222222222, 1142.3333333333333, 1142.5, 1142.7272727272727, 1142.857142857143, 1142.9032258064517, 1142.9411764705883, 1143.0, 1143.125, 1143.3333333333333, 1143.5, 1143.5714285714287, 1143.611111111111, 1143.6363636363637, 1143.75, 1144.0, 1144.1666666666667, 1144.2307692307693, 1144.2857142857142, 1144.375, 1144.4444444444443, 1144.5945945945946, 1144.7619047619048, 1144.7692307692307, 1145.0, 1145.2941176470588, 1145.3846153846155, 1145.5555555555557, 1145.625, 1145.7142857142858, 1146.0, 1146.25, 1146.3157894736842, 1146.4705882352941, 1146.6666666666667, 1146.774193548387, 1147.0, 1147.142857142857, 1147.3333333333333, 1147.5, 1147.6315789473683, 1147.6470588235295, 1147.7777777777778, 1147.857142857143, 1147.9545454545455, 1148.0, 1148.3333333333333, 1148.4375, 1148.5714285714287, 1148.6363636363637, 1148.75, 1148.8235294117646, 1148.888888888889, 1149.0, 1149.047619047619, 1149.090909090909, 1149.111111111111, 1149.1666666666667, 1149.1891891891892, 1149.264705882353, 1149.3333333333333, 1149.6296296296296, 1150.0, 1151.0, 1151.1538461538462, 1151.1627906976744, 1151.25, 1151.4285714285713, 1151.578947368421, 1151.6666666666667, 1151.7142857142858, 1151.7391304347825, 1151.764705882353, 1151.9354838709678, 1152.142857142857, 1152.1739130434783, 1152.2222222222222, 1152.258064516129, 1152.3809523809523, 1152.5, 1152.7272727272727, 1152.7777777777778, 1152.857142857143, 1152.9032258064517, 1152.9411764705883, 1153.0, 1153.0434782608695, 1153.157894736842, 1153.3333333333333, 1153.5, 1153.5714285714287, 1153.6842105263158, 1153.75, 1153.8095238095239, 1153.8461538461538, 1153.888888888889, 1154.2857142857142, 1154.4117647058824, 1154.4444444444443, 1154.6153846153845, 1154.7368421052631, 1154.7826086956522, 1155.0, 1155.1515151515152, 1155.2, 1155.2941176470588, 1155.3333333333333, 1155.4285714285713, 1155.4545454545455, 1155.531914893617, 1155.5555555555557, 1155.7142857142858, 1155.8823529411766, 1156.0, 1156.0869565217392, 1156.25, 1156.4285714285713, 1156.6666666666667, 1156.923076923077, 1157.0, 1157.037037037037, 1157.0588235294117, 1157.142857142857, 1157.2727272727273, 1157.3469387755101, 1157.5, 1157.6, 1157.6923076923076, 1157.7777777777778, 1158.0, 1158.1818181818182, 1158.3333333333333, 1158.4615384615386, 1158.5714285714287, 1158.6666666666667, 1158.75, 1158.8461538461538, 1158.888888888889, 1158.918918918919, 1159.0, 1159.090909090909, 1159.2307692307693, 1159.4736842105262, 1159.622641509434, 1160.0, 1160.3703703703704, 1160.4, 1160.4545454545455, 1160.4761904761904, 1160.5714285714287, 1160.909090909091, 1160.952380952381, 1161.0, 1161.0344827586207, 1161.111111111111, 1161.25, 1161.304347826087, 1161.388888888889, 1161.4285714285713, 1161.5384615384614, 1161.6666666666667, 1161.7073170731708, 1161.764705882353, 1162.0, 1162.037037037037, 1162.1739130434783, 1162.2222222222222, 1162.5, 1162.608695652174, 1162.75, 1162.8, 1162.857142857143, 1163.0, 1163.030303030303, 1163.157894736842, 1163.3333333333333, 1163.5714285714287, 1163.6363636363637, 1163.75, 1163.8095238095239, 1164.0, 1164.1666666666667, 1164.2857142857142, 1164.4262295081967, 1164.4444444444443, 1164.5, 1164.5454545454545, 1164.5652173913043, 1164.6153846153845, 1165.0, 1165.2631578947369, 1165.3125, 1165.4545454545455, 1165.5555555555557, 1165.7142857142858, 1165.8333333333333, 1166.0, 1166.0714285714287, 1166.111111111111, 1166.1538461538462, 1166.25, 1166.3636363636363, 1166.4285714285713, 1166.4705882352941, 1166.6666666666667, 1166.875, 1166.923076923077, 1167.0, 1167.142857142857, 1167.2727272727273, 1167.3333333333333, 1167.5, 1167.7777777777778, 1167.8260869565217, 1167.857142857143, 1167.9166666666667, 1168.0, 1168.1818181818182, 1168.3333333333333, 1168.4, 1168.421052631579, 1168.4615384615386, 1168.5714285714287, 1168.6206896551723, 1168.75, 1168.888888888889, 1168.9473684210527, 1169.0, 1169.090909090909, 1169.142857142857, 1169.1666666666667, 1169.3103448275863, 1169.3333333333333, 1169.4736842105262, 1170.0, 1170.212765957447, 1170.2941176470588, 1170.3333333333333, 1170.625, 1170.6666666666667, 1170.7142857142858, 1170.7692307692307, 1170.8, 1170.8695652173913, 1170.909090909091, 1171.0, 1171.0714285714287, 1171.111111111111, 1171.1764705882354, 1171.25, 1171.276595744681, 1171.304347826087, 1171.3333333333333, 1171.4285714285713, 1171.6, 1171.6666666666667, 1171.764705882353, 1171.8181818181818, 1171.875, 1172.0, 1172.2222222222222, 1172.3076923076924, 1172.5, 1172.7272727272727, 1172.8, 1172.857142857143, 1173.0, 1173.0434782608695, 1173.076923076923, 1173.125, 1173.2, 1173.3333333333333, 1173.421052631579, 1173.5714285714287, 1173.6363636363637, 1173.8095238095239, 1173.8461538461538, 1174.0, 1174.1176470588234, 1174.2105263157894, 1174.2857142857142, 1174.3478260869565, 1174.375, 1174.4444444444443, 1174.4827586206898, 1174.5454545454545, 1174.6153846153845, 1174.6666666666667, 1174.7058823529412, 1174.7727272727273, 1175.0, 1175.1162790697674, 1175.1515151515152, 1175.2631578947369, 1175.4545454545455, 1175.5, 1175.5555555555557, 1175.625, 1175.7142857142858, 1175.8064516129032, 1175.8333333333333, 1175.8823529411766, 1176.0, 1176.111111111111, 1176.5217391304348, 1176.551724137931, 1176.6666666666667, 1176.842105263158, 1176.923076923077, 1177.0, 1177.0588235294117, 1177.142857142857, 1177.2, 1177.5, 1177.6470588235295, 1177.6923076923076, 1177.7777777777778, 1177.857142857143, 1178.0, 1178.095238095238, 1178.1818181818182, 1178.3333333333333, 1178.409090909091, 1178.4615384615386, 1178.5714285714287, 1178.6666666666667, 1178.75, 1178.888888888889, 1179.090909090909, 1179.1666666666667, 1179.2307692307693, 1179.245283018868, 1179.2857142857142, 1179.3333333333333, 1179.4117647058824, 1179.5121951219512, 1180.0, 1180.3703703703704, 1180.4166666666667, 1180.4444444444443, 1180.5172413793102, 1180.625, 1180.8333333333333, 1180.909090909091, 1181.111111111111, 1181.25, 1181.3333333333333, 1181.4285714285713, 1181.6666666666667, 1181.764705882353, 1181.8181818181818, 1181.923076923077, 1182.0, 1182.0689655172414, 1182.0833333333333, 1182.1052631578948, 1182.1739130434783, 1182.2222222222222, 1182.3076923076924, 1182.3529411764705, 1182.4, 1182.5, 1182.5714285714287, 1182.5925925925926, 1182.857142857143, 1183.0, 1183.3333333333333, 1183.5294117647059, 1183.6363636363637, 1183.75, 1183.8461538461538, 1183.9130434782608, 1184.0, 1184.0740740740741, 1184.1666666666667, 1184.2105263157894, 1184.2857142857142, 1184.3333333333333, 1184.4444444444443, 1184.6153846153845, 1184.6666666666667, 1184.7058823529412, 1184.7368421052631, 1185.0, 1185.3333333333333, 1185.375, 1185.3846153846155, 1185.4166666666667, 1185.5, 1185.5555555555557, 1185.6666666666667, 1185.7142857142858, 1185.8333333333333, 1186.0, 1186.111111111111, 1186.25, 1186.2790697674418, 1186.3157894736842, 1186.3636363636363, 1186.4, 1186.6666666666667, 1186.774193548387, 1187.142857142857, 1187.2222222222222, 1187.2727272727273, 1187.3170731707316, 1187.3529411764705, 1187.5, 1187.6, 1187.6744186046512, 1187.7777777777778, 1187.857142857143, 1187.9310344827586, 1188.0, 1188.076923076923, 1188.125, 1188.1818181818182, 1188.3333333333333, 1188.3870967741937, 1188.5714285714287, 1188.75, 1188.8235294117646, 1189.0, 1189.032258064516, 1189.0625, 1189.090909090909, 1189.25, 1189.2857142857142, 1189.3333333333333, 1189.4117647058824, 1189.4285714285713, 1189.4444444444443, 1189.4736842105262, 1189.4871794871794, 1189.5238095238096, 1189.6153846153845, 1190.0, 1190.7142857142858, 1190.7692307692307, 1190.8333333333333, 1190.909090909091, 1190.9302325581396, 1191.0, 1191.111111111111, 1191.1538461538462, 1191.25, 1191.3333333333333, 1191.3636363636363, 1191.4285714285713, 1191.5384615384614, 1191.6666666666667, 1191.7142857142858, 1191.875, 1192.0, 1192.0833333333333, 1192.2222222222222, 1192.2727272727273, 1192.4242424242425, 1192.5, 1192.7272727272727, 1192.857142857143, 1193.0, 1193.076923076923, 1193.125, 1193.1818181818182, 1193.3333333333333, 1193.5, 1193.5714285714287, 1193.6363636363637, 1193.75, 1193.8461538461538, 1194.0, 1194.0625, 1194.090909090909, 1194.1176470588234, 1194.1666666666667, 1194.2857142857142, 1194.4444444444443, 1194.4827586206898, 1194.5454545454545, 1194.5714285714287, 1194.6153846153845, 1194.6666666666667, 1194.7368421052631, 1194.7619047619048, 1195.0, 1195.2941176470588, 1195.3333333333333, 1195.3846153846155, 1195.4545454545455, 1195.483870967742, 1195.5, 1195.5555555555557, 1195.7142857142858, 1195.8333333333333, 1196.0, 1196.1904761904761, 1196.2068965517242, 1196.25, 1196.4285714285713, 1196.5, 1196.6666666666667, 1196.764705882353, 1196.842105263158, 1196.875, 1197.0, 1197.142857142857, 1197.2727272727273, 1197.4074074074074, 1197.5, 1197.6470588235295, 1197.7142857142858, 1197.7777777777778, 1197.857142857143, 1198.0, 1198.3333333333333, 1198.4615384615386, 1198.5714285714287, 1198.75, 1198.7878787878788, 1198.888888888889, 1199.0, 1199.1666666666667, 1199.2, 1199.2857142857142, 1199.3333333333333, 1199.4117647058824, 1199.5833333333333, 1200.0, 1200.6666666666667, 1200.6896551724137, 1200.8333333333333, 1200.909090909091, 1201.0, 1201.111111111111, 1201.142857142857, 1201.1764705882354, 1201.25, 1201.4285714285713, 1201.4634146341464, 1201.5384615384614, 1201.6666666666667, 1201.764705882353, 1201.8181818181818, 1201.923076923077, 1202.0, 1202.1739130434783, 1202.3529411764705, 1202.4, 1202.5, 1202.6315789473683, 1202.6923076923076, 1202.857142857143, 1202.9411764705883, 1203.0, 1203.125, 1203.142857142857, 1203.3333333333333, 1203.4285714285713, 1203.4782608695652, 1203.6363636363637, 1203.75, 1203.8461538461538, 1203.888888888889, 1204.0, 1204.0740740740741, 1204.1666666666667, 1204.2857142857142, 1204.3478260869565, 1204.4444444444443, 1204.5454545454545, 1204.6153846153845, 1204.7619047619048, 1205.0, 1205.2631578947369, 1205.2941176470588, 1205.3846153846155, 1205.4545454545455, 1205.5555555555557, 1205.625, 1205.7142857142858, 1205.7692307692307, 1205.7894736842106, 1205.8333333333333, 1205.8823529411766, 1205.909090909091, 1205.945945945946, 1206.0, 1206.0869565217392, 1206.111111111111, 1206.1538461538462, 1206.1764705882354, 1206.1971830985915, 1206.25, 1206.2962962962963, 1206.3636363636363, 1206.388888888889, 1206.6666666666667, 1206.842105263158, 1206.875, 1206.923076923077, 1207.0, 1207.0588235294117, 1207.142857142857, 1207.2727272727273, 1207.3333333333333, 1207.5, 1207.7777777777778, 1208.0, 1208.1818181818182, 1208.2142857142858, 1208.3333333333333, 1208.4615384615386, 1208.4848484848485, 1208.5714285714287, 1208.75, 1208.8235294117646, 1208.888888888889, 1209.0, 1209.090909090909, 1209.2857142857142, 1209.3333333333333, 1209.375, 1209.4444444444443, 1209.5, 1209.5652173913043, 1209.7297297297298, 1210.0, 1210.5882352941176, 1210.7142857142858, 1210.8333333333333, 1210.967741935484, 1211.0, 1211.0526315789473, 1211.111111111111, 1211.2, 1211.2903225806451, 1211.3333333333333, 1211.4285714285713, 1211.5384615384614, 1211.6666666666667, 1211.8181818181818, 1211.851851851852, 1212.0, 1212.0454545454545, 1212.2222222222222, 1212.3076923076924, 1212.3529411764705, 1212.5, 1212.5714285714287, 1212.6315789473683, 1212.7272727272727, 1212.857142857143, 1213.0, 1213.235294117647, 1213.3333333333333, 1213.5294117647059, 1213.75, 1213.8709677419354, 1214.0, 1214.1176470588234, 1214.2105263157894, 1214.2857142857142, 1214.3478260869565, 1214.375, 1214.4444444444443, 1214.5454545454545, 1214.7368421052631, 1214.7619047619048, 1215.0, 1215.2173913043478, 1215.2941176470588, 1215.3333333333333, 1215.3846153846155, 1215.5555555555557, 1215.625, 1215.7142857142858, 1215.7894736842106, 1215.8333333333333, 1216.0, 1216.060606060606, 1216.111111111111, 1216.1538461538462, 1216.1904761904761, 1216.25, 1216.4285714285713, 1216.551724137931, 1216.6666666666667, 1216.75, 1216.842105263158, 1216.9444444444443, 1216.9767441860465, 1217.0, 1217.142857142857, 1217.2, 1217.2093023255813, 1217.2727272727273, 1217.4193548387098, 1217.5, 1217.6923076923076, 1217.7777777777778, 1217.8846153846155, 1218.0, 1218.1818181818182, 1218.3333333333333, 1218.4615384615386, 1218.5, 1218.5185185185185, 1218.5714285714287, 1218.695652173913, 1218.75, 1218.8235294117646, 1218.8461538461538, 1218.888888888889, 1218.9473684210527, 1219.1666666666667, 1219.2857142857142, 1219.4444444444443, 1219.642857142857, 1219.6666666666667, 1220.0, 1220.2222222222222, 1220.4, 1220.625, 1220.7407407407406, 1220.8333333333333, 1221.0, 1221.111111111111, 1221.25, 1221.3333333333333, 1221.4285714285713, 1221.5384615384614, 1221.6666666666667, 1221.8181818181818, 1221.875, 1221.923076923077, 1222.0, 1222.142857142857, 1222.2222222222222, 1222.2857142857142, 1222.3076923076924, 1222.3684210526317, 1222.5, 1222.6315789473683, 1222.6666666666667, 1222.7272727272727, 1222.7777777777778, 1222.857142857143, 1222.9411764705883, 1223.0, 1223.0357142857142, 1223.076923076923, 1223.3333333333333, 1223.4782608695652, 1223.5714285714287, 1223.75, 1223.7931034482758, 1224.0, 1224.0740740740741, 1224.1666666666667, 1224.2857142857142, 1224.4444444444443, 1224.5454545454545, 1225.0, 1225.1612903225807, 1225.2380952380952, 1225.5555555555557, 1225.7142857142858, 1225.7575757575758, 1225.8333333333333, 1226.0, 1226.25, 1226.3636363636363, 1226.4285714285713, 1226.6666666666667, 1226.875, 1226.923076923077, 1226.969696969697, 1227.0, 1227.1052631578948, 1227.142857142857, 1227.2, 1227.2727272727273, 1227.3333333333333, 1227.3684210526317, 1227.5, 1227.6923076923076, 1227.7142857142858, 1227.7777777777778, 1228.0, 1228.125, 1228.1818181818182, 1228.235294117647, 1228.3333333333333, 1228.4375, 1228.4615384615386, 1228.5714285714287, 1228.75, 1228.8235294117646, 1228.9655172413793, 1229.090909090909, 1229.2857142857142, 1229.4594594594594, 1229.4736842105262, 1230.0, 1230.3225806451612, 1230.4, 1230.5555555555557, 1230.6666666666667, 1230.7142857142858, 1230.7692307692307, 1230.909090909091, 1231.0, 1231.111111111111, 1231.1538461538462, 1231.1764705882354, 1231.2, 1231.25, 1231.4285714285713, 1231.6666666666667, 1231.8181818181818, 1231.904761904762, 1232.0, 1232.142857142857, 1232.1538461538462, 1232.2222222222222, 1232.3076923076924, 1232.5, 1232.5714285714287, 1232.7272727272727, 1232.857142857143, 1232.9411764705883, 1233.1818181818182, 1233.3333333333333, 1233.3823529411766, 1233.4782608695652, 1233.5, 1233.5294117647059, 1233.5483870967741, 1233.5714285714287, 1233.75, 1233.888888888889, 1234.0, 1234.1666666666667, 1234.2105263157894, 1234.2857142857142, 1234.5454545454545, 1234.6153846153845, 1234.6666666666667, 1234.7058823529412, 1234.7619047619048, 1235.0, 1235.4545454545455, 1235.5555555555557, 1235.7142857142858, 1235.7894736842106, 1235.8823529411766, 1235.909090909091, 1235.9375, 1236.0, 1236.111111111111, 1236.1538461538462, 1236.1764705882354, 1236.1904761904761, 1236.25, 1236.2790697674418, 1236.3157894736842, 1236.3636363636363, 1236.388888888889, 1236.6666666666667, 1236.875, 1237.0, 1237.0833333333333, 1237.142857142857, 1237.2727272727273, 1237.3076923076924, 1237.5, 1237.5862068965516, 1237.6470588235295, 1237.7777777777778, 1238.0, 1238.095238095238, 1238.1818181818182, 1238.3333333333333, 1238.421052631579, 1238.5714285714287, 1238.6666666666667, 1238.75, 1238.8235294117646, 1238.888888888889, 1238.918918918919, 1239.1666666666667, 1239.375, 1239.4736842105262, 1239.5454545454545, 1240.0, 1240.2564102564102, 1240.5555555555557, 1240.625, 1240.6666666666667, 1240.7692307692307, 1241.0, 1241.0526315789473, 1241.111111111111, 1241.25, 1241.2903225806451, 1241.3725490196077, 1241.4285714285713, 1241.5384615384614, 1241.6666666666667, 1241.875, 1241.904761904762, 1241.923076923077, 1242.0, 1242.142857142857, 1242.2222222222222, 1242.3076923076924, 1242.5, 1242.6666666666667, 1242.7272727272727, 1242.7777777777778, 1242.857142857143, 1242.888888888889, 1242.962962962963, 1243.0, 1243.076923076923, 1243.103448275862, 1243.125, 1243.157894736842, 1243.3333333333333, 1243.4375, 1243.695652173913, 1243.75, 1244.0, 1244.1176470588234, 1244.1666666666667, 1244.2105263157894, 1244.2857142857142, 1244.3333333333333, 1244.4444444444443, 1244.6153846153845, 1244.7058823529412, 1244.7368421052631, 1245.0, 1245.3333333333333, 1245.4545454545455, 1245.5555555555557, 1245.625, 1245.7142857142858, 1245.7575757575758, 1245.8333333333333, 1245.8823529411766, 1246.0, 1246.1538461538462, 1246.25, 1246.3636363636363, 1246.4285714285713, 1246.5, 1246.5217391304348, 1246.6666666666667, 1246.875, 1246.923076923077, 1247.0, 1247.0588235294117, 1247.142857142857, 1247.2222222222222, 1247.2727272727273, 1247.3333333333333, 1247.391304347826, 1247.5, 1247.6923076923076, 1247.7777777777778, 1247.857142857143, 1247.8947368421052, 1248.0, 1248.1818181818182, 1248.235294117647, 1248.3333333333333, 1248.4615384615386, 1248.5, 1248.5714285714287, 1248.888888888889, 1248.9473684210527, 1249.1304347826087, 1249.1666666666667, 1249.2307692307693, 1249.2857142857142, 1249.3333333333333, 1249.375, 1249.4444444444443, 1249.5, 1249.5454545454545, 1249.6, 1250.0, 1250.4, 1250.5, 1250.5263157894738, 1250.6451612903227, 1250.6666666666667, 1250.7142857142858, 1250.8333333333333, 1250.909090909091, 1251.0, 1251.25, 1251.304347826087, 1251.4285714285713, 1251.6666666666667, 1252.0, 1252.2222222222222, 1252.3076923076924, 1252.5, 1252.6666666666667, 1252.857142857143, 1252.962962962963, 1253.0, 1253.076923076923, 1253.125, 1253.142857142857, 1253.3333333333333, 1253.4375, 1253.5294117647059, 1253.5714285714287, 1253.75, 1253.8095238095239, 1253.8461538461538, 1253.888888888889, 1254.0, 1254.1176470588234, 1254.1666666666667, 1254.2857142857142, 1254.4444444444443, 1254.5454545454545, 1254.6153846153845, 1254.6666666666667, 1254.7058823529412, 1254.7222222222222, 1255.0, 1255.4545454545455, 1255.5, 1255.5555555555557, 1255.7142857142858, 1256.0, 1256.1538461538462, 1256.25, 1256.2962962962963, 1256.3636363636363, 1256.5384615384614, 1256.6666666666667, 1257.0, 1257.0588235294117, 1257.0833333333333, 1257.142857142857, 1257.2413793103449, 1257.2727272727273, 1257.3333333333333, 1257.5, 1257.7777777777778, 1258.0, 1258.1818181818182, 1258.235294117647, 1258.2608695652175, 1258.2857142857142, 1258.3333333333333, 1258.4375, 1258.4615384615386, 1258.5714285714287, 1258.6666666666667, 1258.75, 1259.090909090909, 1259.1666666666667, 1259.2307692307693, 1259.2857142857142, 1259.7826086956522, 1260.0, 1260.3030303030303, 1260.7692307692307, 1260.909090909091, 1261.0869565217392, 1261.111111111111, 1261.2, 1261.25, 1261.3513513513512, 1261.4285714285713, 1261.6666666666667, 1261.7391304347825, 1261.8181818181818, 1261.860465116279, 1262.0, 1262.142857142857, 1262.2222222222222, 1262.2727272727273, 1262.3809523809523, 1262.5, 1262.608695652174, 1262.6470588235295, 1262.6666666666667, 1262.7272727272727, 1262.857142857143, 1262.9032258064517, 1263.125, 1263.3333333333333, 1263.6363636363637, 1263.8095238095239, 1263.888888888889, 1264.0, 1264.1666666666667, 1264.2105263157894, 1264.2857142857142, 1264.375, 1264.4117647058824, 1264.4444444444443, 1264.5454545454545, 1264.642857142857, 1264.7058823529412, 1264.9180327868853, 1265.0, 1265.2380952380952, 1265.2631578947369, 1265.3846153846155, 1265.4545454545455, 1265.5555555555557, 1265.7142857142858, 1266.0, 1266.1538461538462, 1266.25, 1266.2820512820513, 1266.3636363636363, 1266.4705882352941, 1266.6666666666667, 1266.8181818181818, 1267.0588235294117, 1267.142857142857, 1267.2, 1267.2727272727273, 1267.3684210526317, 1267.5, 1267.7777777777778, 1268.0, 1268.148148148148, 1268.1818181818182, 1268.2142857142858, 1268.235294117647, 1268.3333333333333, 1268.4615384615386, 1268.5294117647059, 1268.5714285714287, 1268.857142857143, 1268.888888888889, 1269.0, 1269.090909090909, 1269.1666666666667, 1269.2857142857142, 1270.0, 1270.1960784313726, 1270.3225806451612, 1270.344827586207, 1270.5263157894738, 1270.625, 1270.6666666666667, 1270.7142857142858, 1270.8333333333333, 1270.952380952381, 1270.967741935484, 1270.9756097560976, 1271.0, 1271.111111111111, 1271.25, 1271.304347826087, 1271.3513513513512, 1271.4285714285713, 1271.5384615384614, 1271.6666666666667, 1271.8181818181818, 1272.0, 1272.2222222222222, 1272.5, 1272.6, 1272.7777777777778, 1272.857142857143, 1273.0, 1273.076923076923, 1273.1818181818182, 1273.3333333333333, 1273.5294117647059, 1273.5714285714287, 1273.6363636363637, 1273.75, 1274.0, 1274.2857142857142, 1274.6153846153845, 1274.6511627906978, 1274.7058823529412, 1275.0, 1275.2173913043478, 1275.2380952380952, 1275.3333333333333, 1275.4545454545455, 1275.4761904761904, 1275.5, 1275.7142857142858, 1275.8333333333333, 1276.0, 1276.111111111111, 1276.1904761904761, 1276.25, 1276.3333333333333, 1276.3636363636363, 1276.4285714285713, 1276.4705882352941, 1276.5217391304348, 1276.5384615384614, 1276.6666666666667, 1276.774193548387, 1276.8181818181818, 1277.0, 1277.142857142857, 1277.2222222222222, 1277.2727272727273, 1277.5, 1277.6923076923076, 1277.7777777777778, 1277.857142857143, 1278.0, 1278.095238095238, 1278.2222222222222, 1278.3333333333333, 1278.4615384615386, 1278.5, 1278.5714285714287, 1278.75, 1278.8235294117646, 1278.888888888889, 1279.0, 1279.2857142857142, 1279.3333333333333, 1279.3939393939395, 1279.4736842105262, 1279.5238095238096, 1279.5454545454545, 1280.0, 1280.357142857143, 1280.4347826086957, 1280.5882352941176, 1280.6, 1281.0, 1281.111111111111, 1281.1764705882354, 1281.25, 1281.3333333333333, 1281.4285714285713, 1281.5384615384614, 1281.578947368421, 1281.6666666666667, 1281.8181818181818, 1282.0, 1282.1052631578948, 1282.121212121212, 1282.1875, 1282.2222222222222, 1282.5, 1282.857142857143, 1282.9411764705883, 1283.0, 1283.076923076923, 1283.125, 1283.2142857142858, 1283.3333333333333, 1283.5294117647059, 1283.5714285714287, 1283.6206896551723, 1283.6363636363637, 1283.6666666666667, 1283.75, 1283.888888888889, 1284.0, 1284.1666666666667, 1284.2857142857142, 1284.4444444444443, 1284.5454545454545, 1284.6153846153845, 1284.6666666666667, 1284.7368421052631, 1284.8484848484848, 1285.0, 1285.2631578947369, 1285.2941176470588, 1285.3846153846155, 1285.5555555555557, 1285.5813953488373, 1285.5882352941176, 1285.7142857142858, 1285.8333333333333, 1286.0, 1286.25, 1286.4705882352941, 1286.6666666666667, 1286.8, 1286.896551724138, 1286.9565217391305, 1287.0, 1287.0588235294117, 1287.0967741935483, 1287.142857142857, 1287.2222222222222, 1287.2727272727273, 1287.3333333333333, 1287.391304347826, 1287.5, 1288.0, 1288.1818181818182, 1288.2758620689656, 1288.3333333333333, 1288.421052631579, 1288.4615384615386, 1288.5714285714287, 1288.75, 1288.888888888889, 1289.0, 1289.090909090909, 1289.1666666666667, 1289.2592592592594, 1289.2857142857142, 1289.375, 1289.5121951219512, 1289.5238095238096, 1289.5652173913043, 1289.6875, 1290.0, 1290.3225806451612, 1290.3508771929824, 1290.4545454545455, 1290.5263157894738, 1290.6896551724137, 1290.7692307692307, 1290.8333333333333, 1290.909090909091, 1291.0, 1291.25, 1291.3333333333333, 1291.4285714285713, 1291.4814814814815, 1291.5, 1291.5384615384614, 1291.6666666666667, 1291.764705882353, 1291.7857142857142, 1291.8181818181818, 1292.0, 1292.1739130434783, 1292.2222222222222, 1292.3076923076924, 1292.3529411764705, 1292.463768115942, 1292.5, 1292.7272727272727, 1292.7777777777778, 1292.857142857143, 1292.9411764705883, 1293.225806451613, 1293.3333333333333, 1293.8095238095239, 1293.888888888889, 1294.0, 1294.1935483870968, 1294.2424242424242, 1294.2857142857142, 1294.4444444444443, 1294.5, 1294.5454545454545, 1294.6153846153845, 1294.6666666666667, 1294.7058823529412, 1295.0, 1295.3846153846155, 1295.4545454545455, 1295.5172413793102, 1295.5555555555557, 1295.5882352941176, 1295.7142857142858, 1295.8823529411766, 1296.0, 1296.25, 1296.3636363636363, 1296.4285714285713, 1296.5, 1296.6666666666667, 1296.875, 1296.923076923077, 1297.142857142857, 1297.3333333333333, 1297.5, 1297.7777777777778, 1297.857142857143, 1298.0, 1298.125, 1298.1818181818182, 1298.3333333333333, 1298.5714285714287, 1298.75, 1298.888888888889, 1299.0, 1299.090909090909, 1299.2307692307693, 1299.375, 1299.5, 1299.5238095238096, 1299.7058823529412, 1300.0, 1300.5263157894738, 1300.7142857142858, 1300.8823529411766, 1301.025641025641, 1301.111111111111, 1301.1764705882354, 1301.25, 1301.4285714285713, 1301.4814814814815, 1301.5, 1301.578947368421, 1301.6666666666667, 1301.875, 1301.923076923077, 1302.0, 1302.1052631578948, 1302.142857142857, 1302.2222222222222, 1302.3076923076924, 1302.3529411764705, 1302.5, 1302.6666666666667, 1302.7272727272727, 1302.857142857143, 1302.9032258064517, 1302.962962962963, 1303.0434782608695, 1303.076923076923, 1303.3333333333333, 1303.5, 1303.6363636363637, 1303.75, 1303.8461538461538, 1304.0, 1304.1666666666667, 1304.2857142857142, 1304.375, 1304.4444444444443, 1304.5, 1304.5454545454545, 1304.6666666666667, 1304.7058823529412, 1304.7619047619048, 1304.7826086956522, 1305.0, 1305.2173913043478, 1305.3125, 1305.3333333333333, 1305.3846153846155, 1305.5555555555557, 1305.6, 1305.7142857142858, 1305.7894736842106, 1305.8064516129032, 1305.8333333333333, 1305.8823529411766, 1306.0, 1306.25, 1306.4705882352941, 1306.5, 1306.6666666666667, 1306.8, 1306.923076923077, 1307.0, 1307.037037037037, 1307.0731707317073, 1307.142857142857, 1307.2413793103449, 1307.2727272727273, 1307.5, 1307.6, 1307.6923076923076, 1307.7777777777778, 1307.8947368421052, 1307.9310344827586, 1308.0, 1308.1818181818182, 1308.3333333333333, 1308.4615384615386, 1308.5714285714287, 1308.75, 1308.8235294117646, 1308.888888888889, 1308.9473684210527, 1309.0, 1309.1666666666667, 1309.3055555555557, 1309.5454545454545, 1309.6774193548388, 1310.0, 1310.3636363636363, 1310.5882352941176, 1310.7142857142858, 1310.8, 1310.8333333333333, 1310.909090909091, 1311.0, 1311.0526315789473, 1311.25, 1311.3157894736842, 1311.4285714285713, 1311.5, 1311.6666666666667, 1311.764705882353, 1311.875, 1312.0, 1312.121212121212, 1312.2222222222222, 1312.3529411764705, 1312.4242424242425, 1312.4444444444443, 1312.5, 1312.608695652174, 1312.6732673267327, 1312.7272727272727, 1312.857142857143, 1312.9411764705883, 1313.0, 1313.103448275862, 1313.157894736842, 1313.1818181818182, 1313.2, 1313.25, 1313.3333333333333, 1313.4615384615386, 1313.4782608695652, 1313.5294117647059, 1313.5714285714287, 1313.6363636363637, 1313.8095238095239, 1313.8235294117646, 1313.8461538461538, 1314.0, 1314.090909090909, 1314.1176470588234, 1314.1379310344828, 1314.2857142857142, 1314.4444444444443, 1314.5454545454545, 1314.6153846153845, 1314.6666666666667, 1314.7058823529412, 1314.7368421052631, 1315.0, 1315.1162790697674, 1315.2380952380952, 1315.3333333333333, 1315.4545454545455, 1315.5555555555557, 1315.7142857142858, 1315.7894736842106, 1315.8333333333333, 1316.0, 1316.111111111111, 1316.1538461538462, 1316.25, 1316.4705882352941, 1316.5714285714287, 1316.6666666666667, 1316.774193548387, 1316.923076923077, 1317.0, 1317.142857142857, 1317.2727272727273, 1317.5, 1317.5862068965516, 1317.6, 1317.6744186046512, 1317.7777777777778, 1318.0, 1318.1818181818182, 1318.3333333333333, 1318.4615384615386, 1318.5714285714287, 1318.75, 1318.8, 1318.8235294117646, 1318.888888888889, 1318.9473684210527, 1318.974358974359, 1319.2307692307693, 1319.642857142857, 1319.7222222222222, 1319.75, 1319.7560975609756, 1320.0, 1320.3125, 1320.3846153846155, 1320.5357142857142, 1320.625, 1320.909090909091, 1321.0, 1321.25, 1321.3157894736842, 1321.4285714285713, 1321.4814814814815, 1321.6666666666667, 1321.923076923077, 1322.0, 1322.2222222222222, 1322.5, 1322.6315789473683, 1322.6666666666667, 1322.7777777777778, 1322.857142857143, 1323.0, 1323.1818181818182, 1323.2, 1323.3333333333333, 1323.448275862069, 1323.6363636363637, 1323.75, 1323.8461538461538, 1323.888888888889, 1324.0, 1324.1176470588234, 1324.1666666666667, 1324.2857142857142, 1324.4444444444443, 1324.6153846153845, 1324.6666666666667, 1324.7058823529412, 1324.7619047619048, 1325.0, 1325.2380952380952, 1325.2631578947369, 1325.3846153846155, 1325.5, 1325.7142857142858, 1325.909090909091, 1326.0, 1326.111111111111, 1326.1538461538462, 1326.25, 1326.2857142857142, 1326.3636363636363, 1326.4285714285713, 1326.6666666666667, 1326.923076923077, 1327.0, 1327.0967741935483, 1327.142857142857, 1327.2727272727273, 1327.3684210526317, 1327.5, 1327.7777777777778, 1327.8048780487804, 1328.0, 1328.1818181818182, 1328.3333333333333, 1328.5365853658536, 1328.5714285714287, 1328.6486486486488, 1328.6666666666667, 1328.75, 1329.2307692307693, 1329.3333333333333, 1329.375, 1329.4117647058824, 1329.4444444444443, 1329.5454545454545, 1330.0, 1330.4545454545455, 1330.6666666666667, 1330.7692307692307, 1330.909090909091, 1331.0, 1331.111111111111, 1331.4285714285713, 1331.5384615384614, 1331.6666666666667, 1331.8181818181818, 1331.923076923077, 1332.0, 1332.142857142857, 1332.2222222222222, 1332.3076923076924, 1332.3529411764705, 1332.3684210526317, 1332.5, 1332.6530612244899, 1332.6666666666667, 1332.7777777777778, 1332.857142857143, 1332.9411764705883, 1333.0, 1333.3333333333333, 1333.5294117647059, 1333.5483870967741, 1333.75, 1333.8461538461538, 1334.0, 1334.1666666666667, 1334.2105263157894, 1334.2857142857142, 1334.4444444444443, 1334.5454545454545, 1334.7619047619048, 1335.0, 1335.3846153846155, 1335.5, 1335.5555555555557, 1335.7142857142858, 1335.8333333333333, 1335.8823529411766, 1336.0, 1336.1538461538462, 1336.25, 1336.4285714285713, 1336.4705882352941, 1336.6666666666667, 1336.875, 1337.0, 1337.142857142857, 1337.2222222222222, 1337.2413793103449, 1337.5, 1337.6470588235295, 1337.7777777777778, 1337.8947368421052, 1338.0, 1338.125, 1338.1818181818182, 1338.235294117647, 1338.2608695652175, 1338.3333333333333, 1338.421052631579, 1338.5714285714287, 1338.6666666666667, 1338.695652173913, 1338.75, 1338.888888888889, 1339.0, 1339.090909090909, 1339.2, 1339.2307692307693, 1339.3103448275863, 1339.4117647058824, 1339.5555555555557, 1339.6774193548388, 1340.0, 1340.5, 1340.625, 1340.7692307692307, 1341.0, 1341.25, 1341.304347826087, 1341.4285714285713, 1341.5384615384614, 1341.6666666666667, 1341.6949152542372, 1341.8181818181818, 1341.875, 1341.904761904762, 1342.0, 1342.142857142857, 1342.2222222222222, 1342.258064516129, 1342.4, 1342.5, 1342.6315789473683, 1342.7272727272727, 1342.857142857143, 1343.0, 1343.125, 1343.1818181818182, 1343.3333333333333, 1343.4375, 1343.6363636363637, 1343.75, 1344.0, 1344.090909090909, 1344.1176470588234, 1344.1666666666667, 1344.2105263157894, 1344.2857142857142, 1344.375, 1344.4444444444443, 1344.5454545454545, 1344.6153846153845, 1344.6666666666667, 1345.0, 1345.2941176470588, 1345.3333333333333, 1345.3846153846155, 1345.4166666666667, 1345.4545454545455, 1345.5555555555557, 1345.625, 1345.7142857142858, 1346.0, 1346.1538461538462, 1346.1904761904761, 1346.25, 1346.3636363636363, 1346.4285714285713, 1346.5, 1346.6666666666667, 1346.8, 1346.875, 1347.142857142857, 1347.2727272727273, 1347.391304347826, 1347.5, 1347.6470588235295, 1347.7777777777778, 1347.857142857143, 1348.0, 1348.095238095238, 1348.1818181818182, 1348.3333333333333, 1348.5714285714287, 1348.6666666666667, 1348.7837837837837, 1349.090909090909, 1349.1666666666667, 1349.2307692307693, 1349.5, 1349.7297297297298, 1350.0, 1350.4347826086957, 1350.5882352941176, 1350.6666666666667, 1350.7142857142858, 1350.7692307692307, 1350.8333333333333, 1350.909090909091, 1351.0, 1351.111111111111, 1351.1538461538462, 1351.1627906976744, 1351.1764705882354, 1351.25, 1351.3333333333333, 1351.4285714285713, 1351.578947368421, 1351.6666666666667, 1351.7391304347825, 1351.875, 1351.904761904762, 1352.0, 1352.1052631578948, 1352.142857142857, 1352.2222222222222, 1352.2727272727273, 1352.3076923076924, 1352.3529411764705, 1352.5, 1352.7272727272727, 1352.820512820513, 1352.857142857143, 1352.9166666666667, 1353.0, 1353.076923076923, 1353.125, 1353.157894736842, 1353.1707317073171, 1353.3333333333333, 1353.4782608695652, 1353.5, 1353.6363636363637, 1353.75, 1353.8461538461538, 1354.0, 1354.2857142857142, 1354.3478260869565, 1354.375, 1354.4444444444443, 1354.871794871795, 1355.0, 1355.2173913043478, 1355.4166666666667, 1355.5172413793102, 1355.5555555555557, 1355.7142857142858, 1355.7894736842106, 1355.8333333333333, 1355.8823529411766, 1356.0, 1356.0869565217392, 1356.111111111111, 1356.25, 1356.3157894736842, 1356.3636363636363, 1356.5, 1356.5384615384614, 1356.6037735849056, 1356.6666666666667, 1356.875, 1356.923076923077, 1357.2727272727273, 1357.3076923076924, 1357.3684210526317, 1357.5, 1357.5675675675675, 1357.6190476190477, 1357.6315789473683, 1357.6923076923076, 1357.7777777777778, 1357.857142857143, 1357.8947368421052, 1358.0, 1358.076923076923, 1358.125, 1358.1818181818182, 1358.3333333333333, 1358.3870967741937, 1358.5714285714287, 1358.6666666666667, 1358.75, 1358.8, 1358.8235294117646, 1358.888888888889, 1359.0, 1359.090909090909, 1359.142857142857, 1359.2307692307693, 1359.375, 1359.4736842105262, 1359.7058823529412, 1360.0, 1360.5555555555557, 1360.625, 1360.909090909091, 1361.0, 1361.111111111111, 1361.25, 1361.3333333333333, 1361.4285714285713, 1361.5, 1361.5384615384614, 1361.578947368421, 1361.6666666666667, 1361.7777777777778, 1361.8181818181818, 1361.875, 1362.0, 1362.2222222222222, 1362.3076923076924, 1362.5, 1362.608695652174, 1362.6315789473683, 1362.6666666666667, 1362.857142857143, 1363.103448275862, 1363.125, 1363.1818181818182, 1363.3333333333333, 1363.5714285714287, 1363.6, 1363.6363636363637, 1363.75, 1364.0, 1364.1025641025642, 1364.2857142857142, 1364.4444444444443, 1364.5454545454545, 1364.6666666666667, 1364.7619047619048, 1365.0, 1365.2941176470588, 1365.4545454545455, 1365.5555555555557, 1365.7142857142858, 1365.8823529411766, 1366.0, 1366.111111111111, 1366.2162162162163, 1366.25, 1366.3636363636363, 1366.4285714285713, 1366.4516129032259, 1366.4864864864865, 1366.5, 1366.5217391304348, 1366.6666666666667, 1366.923076923077, 1367.0, 1367.0967741935483, 1367.142857142857, 1367.2727272727273, 1367.3333333333333, 1367.4074074074074, 1367.5, 1367.7777777777778, 1368.0, 1368.095238095238, 1368.125, 1368.1818181818182, 1368.3333333333333, 1368.5714285714287, 1368.6486486486488, 1368.8461538461538, 1368.888888888889, 1369.0, 1369.090909090909, 1369.3333333333333, 1369.4444444444443, 1369.6969696969697, 1370.0, 1370.5, 1370.5882352941176, 1370.7142857142858, 1370.8333333333333, 1370.909090909091, 1370.952380952381, 1371.0, 1371.111111111111, 1371.25, 1371.304347826087, 1371.3207547169811, 1371.4285714285713, 1371.6666666666667, 1371.764705882353, 1371.904761904762, 1372.0, 1372.2222222222222, 1372.4, 1372.5, 1372.5714285714287, 1372.6923076923076, 1372.857142857143, 1373.0, 1373.076923076923, 1373.125, 1373.3333333333333, 1373.4375, 1373.5294117647059, 1373.5714285714287, 1373.6363636363637, 1373.75, 1373.8461538461538, 1373.9285714285713, 1374.0, 1374.1666666666667, 1374.2857142857142, 1374.375, 1374.4444444444443, 1374.5454545454545, 1374.7619047619048, 1374.8, 1375.0, 1375.5555555555557, 1375.7142857142858, 1375.8974358974358, 1375.909090909091, 1376.0, 1376.111111111111, 1376.1290322580646, 1376.1538461538462, 1376.25, 1376.2962962962963, 1376.3157894736842, 1376.6666666666667, 1376.8181818181818, 1377.0, 1377.027027027027, 1377.0588235294117, 1377.142857142857, 1377.2727272727273, 1377.3170731707316, 1377.3333333333333, 1377.5, 1377.5862068965516, 1377.6923076923076, 1377.7272727272727, 1377.7777777777778, 1377.857142857143, 1377.9166666666667, 1378.0, 1378.095238095238, 1378.1818181818182, 1378.235294117647, 1378.3333333333333, 1378.5714285714287, 1378.6486486486488, 1378.695652173913, 1378.75, 1378.8235294117646, 1379.0, 1379.032258064516, 1379.090909090909, 1379.1304347826087, 1379.4444444444443, 1379.5, 1379.5652173913043, 1379.642857142857, 1379.6666666666667, 1380.0, 1380.2631578947369, 1380.5263157894738, 1380.5882352941176, 1380.6666666666667, 1380.6976744186047, 1380.7692307692307, 1380.8333333333333, 1380.909090909091, 1380.952380952381, 1381.0344827586207, 1381.25, 1381.2903225806451, 1381.304347826087, 1381.3333333333333, 1381.4285714285713, 1381.5384615384614, 1381.6, 1381.6666666666667, 1381.764705882353, 1381.8181818181818, 1382.0, 1382.2222222222222, 1382.3684210526317, 1382.5, 1382.6666666666667, 1382.7586206896551, 1382.7777777777778, 1382.857142857143, 1383.0, 1383.125, 1383.1818181818182, 1383.3333333333333, 1383.5, 1383.5714285714287, 1383.6363636363637, 1383.75, 1383.8235294117646, 1384.0, 1384.090909090909, 1384.2857142857142, 1384.4444444444443, 1384.5454545454545, 1384.6666666666667, 1384.7826086956522, 1384.8275862068965, 1385.0, 1385.3333333333333, 1385.4166666666667, 1385.5172413793102, 1385.6, 1385.7142857142858, 1385.8333333333333, 1386.0, 1386.0869565217392, 1386.25, 1386.4150943396226, 1386.6666666666667, 1387.142857142857, 1387.2222222222222, 1387.2727272727273, 1387.391304347826, 1387.5, 1387.6923076923076, 1387.7777777777778, 1387.857142857143, 1387.8947368421052, 1388.0, 1388.095238095238, 1388.1818181818182, 1388.3333333333333, 1388.5714285714287, 1388.6666666666667, 1388.8235294117646, 1388.888888888889, 1389.0, 1389.090909090909, 1389.1666666666667, 1389.2307692307693, 1389.2857142857142, 1389.4736842105262, 1389.642857142857, 1389.6875, 1390.0, 1390.5555555555557, 1390.7692307692307, 1390.909090909091, 1391.0, 1391.1764705882354, 1391.25, 1391.3333333333333, 1391.4285714285713, 1391.578947368421, 1391.6216216216217, 1391.6666666666667, 1391.764705882353, 1392.0, 1392.0588235294117, 1392.142857142857, 1392.2222222222222, 1392.5, 1392.608695652174, 1392.7272727272727, 1392.7777777777778, 1392.8, 1392.857142857143, 1392.9411764705883, 1392.962962962963, 1393.0, 1393.103448275862, 1393.157894736842, 1393.2142857142858, 1393.3333333333333, 1393.6363636363637, 1393.75, 1394.0, 1394.2857142857142, 1394.375, 1394.4117647058824, 1394.5454545454545, 1394.7368421052631, 1395.0, 1395.3333333333333, 1395.4166666666667, 1395.4545454545455, 1395.5555555555557, 1395.8333333333333, 1395.909090909091, 1396.0, 1396.25, 1396.3636363636363, 1396.4285714285713, 1396.6666666666667, 1397.0588235294117, 1397.142857142857, 1397.2727272727273, 1397.3684210526317, 1397.5, 1397.6744186046512, 1397.7777777777778, 1398.0, 1398.3333333333333, 1398.4, 1398.5185185185185, 1398.5714285714287, 1398.6666666666667, 1398.75, 1398.888888888889, 1399.0, 1399.047619047619, 1399.090909090909, 1399.1304347826087, 1399.245283018868, 1399.375, 1399.4444444444443, 1399.6296296296296, 1400.0, 1400.4545454545455, 1400.6666666666667, 1400.7142857142858, 1400.7692307692307, 1400.8333333333333, 1400.909090909091, 1401.0, 1401.0526315789473, 1401.1764705882354, 1401.2, 1401.25, 1401.3333333333333, 1401.3636363636363, 1401.4285714285713, 1401.6666666666667, 1401.764705882353, 1401.8181818181818, 1401.875, 1402.0, 1402.2222222222222, 1402.3076923076924, 1402.3529411764705, 1402.439024390244, 1402.5, 1402.6315789473683, 1402.6923076923076, 1402.7272727272727, 1402.857142857143, 1403.0, 1403.076923076923, 1403.0882352941176, 1403.3333333333333, 1403.5, 1403.5294117647059, 1403.6363636363637, 1403.6842105263158, 1403.75, 1404.0, 1404.2857142857142, 1404.5454545454545, 1404.6153846153845, 1404.7222222222222, 1404.7368421052631, 1405.0, 1405.2, 1405.4545454545455, 1405.625, 1405.7142857142858, 1406.0, 1406.1538461538462, 1406.1904761904761, 1406.25, 1406.3636363636363, 1406.4, 1406.4285714285713, 1406.6666666666667, 1406.923076923077, 1407.0, 1407.142857142857, 1407.2, 1407.2222222222222, 1407.2727272727273, 1407.2972972972973, 1407.3333333333333, 1407.4285714285713, 1407.5, 1407.6190476190477, 1407.6470588235295, 1407.6923076923076, 1407.7777777777778, 1407.857142857143, 1407.878787878788, 1408.0, 1408.139534883721, 1408.1818181818182, 1408.1967213114754, 1408.3333333333333, 1408.4615384615386, 1408.5, 1408.5714285714287, 1408.6363636363637, 1408.75, 1408.888888888889, 1409.090909090909, 1409.1666666666667, 1409.2307692307693, 1409.4117647058824, 1409.5454545454545, 1409.6, 1410.0, 1410.4761904761904, 1410.5263157894738, 1410.625, 1410.7142857142858, 1410.7692307692307, 1410.8, 1410.8333333333333, 1410.909090909091, 1411.0, 1411.111111111111, 1411.1764705882354, 1411.25, 1411.4285714285713, 1411.5384615384614, 1411.6666666666667, 1411.8181818181818, 1411.875, 1411.904761904762, 1411.923076923077, 1412.0, 1412.0833333333333, 1412.142857142857, 1412.2222222222222, 1412.5, 1412.6666666666667, 1412.6923076923076, 1412.7272727272727, 1412.8, 1412.857142857143, 1412.9032258064517, 1412.9411764705883, 1413.076923076923, 1413.103448275862, 1413.125, 1413.225806451613, 1413.3333333333333, 1413.5714285714287, 1413.6363636363637, 1413.75, 1414.0, 1414.2857142857142, 1414.3478260869565, 1414.4444444444443, 1414.5, 1414.6153846153845, 1414.6666666666667, 1415.0, 1415.2631578947369, 1415.2941176470588, 1415.4545454545455, 1415.5555555555557, 1415.8695652173913, 1416.0, 1416.1538461538462, 1416.25, 1416.3636363636363, 1416.4102564102564, 1416.5, 1416.6666666666667, 1416.857142857143, 1417.142857142857, 1417.2727272727273, 1417.3170731707316, 1417.3333333333333, 1417.4074074074074, 1417.5, 1417.7777777777778, 1417.8260869565217, 1417.8947368421052, 1418.0, 1418.076923076923, 1418.1818181818182, 1418.3333333333333, 1418.4, 1418.5714285714287, 1418.8235294117646, 1418.888888888889, 1419.047619047619, 1419.0625, 1419.2, 1419.2857142857142, 1419.375, 1419.5238095238096, 1420.0, 1420.6666666666667, 1420.6818181818182, 1421.0, 1421.0526315789473, 1421.111111111111, 1421.1764705882354, 1421.25, 1421.304347826087, 1421.6666666666667, 1421.764705882353, 1422.0, 1422.2222222222222, 1422.5, 1422.7272727272727, 1422.857142857143, 1423.0, 1423.076923076923, 1423.125, 1423.3333333333333, 1423.6363636363637, 1423.75, 1423.8095238095239, 1424.0, 1424.090909090909, 1424.2857142857142, 1424.3333333333333, 1424.375, 1424.4444444444443, 1424.5, 1424.6153846153845, 1424.7619047619048, 1424.9019607843138, 1425.0, 1425.2941176470588, 1425.3846153846155, 1425.5172413793102, 1425.5555555555557, 1425.7142857142858, 1425.7777777777778, 1425.8333333333333, 1426.0, 1426.1538461538462, 1426.25, 1426.3157894736842, 1426.6666666666667, 1426.8, 1427.0, 1427.142857142857, 1427.2727272727273, 1427.3333333333333, 1427.391304347826, 1427.5, 1427.7777777777778, 1427.9166666666667, 1428.0, 1428.235294117647, 1428.3333333333333, 1428.421052631579, 1428.5714285714287, 1428.695652173913, 1428.75, 1428.888888888889, 1429.0, 1429.032258064516, 1429.090909090909, 1429.2, 1429.2307692307693, 1429.2857142857142, 1430.0, 1430.625, 1430.7142857142858, 1430.8695652173913, 1430.909090909091, 1431.0526315789473, 1431.1764705882354, 1431.3333333333333, 1431.4285714285713, 1431.5384615384614, 1431.578947368421, 1431.6666666666667, 1431.7391304347825, 1431.8181818181818, 1431.875, 1432.0, 1432.0833333333333, 1432.1052631578948, 1432.142857142857, 1432.2222222222222, 1432.5, 1432.6315789473683, 1432.7272727272727, 1432.857142857143, 1433.0, 1433.076923076923, 1433.125, 1433.3333333333333, 1433.4285714285713, 1433.6363636363637, 1433.75, 1433.8461538461538, 1434.0, 1434.1176470588234, 1434.2857142857142, 1434.4444444444443, 1434.6153846153845, 1434.6875, 1434.7058823529412, 1434.8, 1435.0, 1435.2941176470588, 1435.3846153846155, 1435.7142857142858, 1435.8333333333333, 1435.9574468085107, 1436.0, 1436.25, 1436.3636363636363, 1436.551724137931, 1436.625, 1436.6666666666667, 1436.8181818181818, 1436.875, 1436.923076923077, 1437.142857142857, 1437.2727272727273, 1437.3333333333333, 1437.391304347826, 1437.5, 1437.6470588235295, 1437.6923076923076, 1437.7777777777778, 1437.857142857143, 1437.8947368421052, 1438.0, 1438.3333333333333, 1438.4615384615386, 1438.5714285714287, 1438.6666666666667, 1438.75, 1438.8235294117646, 1438.888888888889, 1439.032258064516, 1439.090909090909, 1439.1304347826087, 1439.2, 1439.2307692307693, 1439.6153846153845, 1440.0, 1440.6666666666667, 1440.7692307692307, 1440.952380952381, 1441.0, 1441.111111111111, 1441.1764705882354, 1441.25, 1441.4285714285713, 1441.6666666666667, 1441.75, 1441.8181818181818, 1441.875, 1442.0, 1442.1052631578948, 1442.142857142857, 1442.2222222222222, 1442.3076923076924, 1442.4, 1442.5, 1442.6315789473683, 1442.7272727272727, 1442.7777777777778, 1442.857142857143, 1443.0, 1443.076923076923, 1443.2142857142858, 1443.3333333333333, 1443.6363636363637, 1443.75, 1443.8461538461538, 1444.0, 1444.090909090909, 1444.1463414634147, 1444.2105263157894, 1444.2857142857142, 1444.375, 1444.5454545454545, 1445.0, 1445.2380952380952, 1445.2941176470588, 1445.3846153846155, 1445.5, 1445.5555555555557, 1445.625, 1445.8333333333333, 1446.0, 1446.25, 1446.6666666666667, 1446.875, 1446.923076923077, 1447.0, 1447.142857142857, 1447.2222222222222, 1447.2727272727273, 1447.5, 1447.7272727272727, 1447.7777777777778, 1447.857142857143, 1448.0, 1448.1818181818182, 1448.3333333333333, 1448.5, 1448.5714285714287, 1448.6666666666667, 1448.695652173913, 1448.75, 1448.8235294117646, 1448.888888888889, 1449.0, 1449.090909090909, 1449.1666666666667, 1449.2307692307693, 1449.3333333333333, 1450.0, 1450.4, 1450.5084745762713, 1450.5263157894738, 1450.5882352941176, 1450.6451612903227, 1450.7407407407406, 1450.7692307692307, 1450.8333333333333, 1450.909090909091, 1450.9375, 1450.952380952381, 1451.111111111111, 1451.25, 1451.5384615384614, 1451.578947368421, 1451.6666666666667, 1452.0, 1452.2222222222222, 1452.295081967213, 1452.3076923076924, 1452.3809523809523, 1452.4137931034484, 1452.5, 1452.6666666666667, 1452.7272727272727, 1452.7777777777778, 1452.857142857143, 1452.9411764705883, 1453.0, 1453.157894736842, 1453.2692307692307, 1453.3333333333333, 1453.5714285714287, 1453.5849056603774, 1453.6363636363637, 1453.75, 1453.8461538461538, 1454.0, 1454.2857142857142, 1454.375, 1454.4444444444443, 1454.5454545454545, 1454.7368421052631, 1454.7619047619048, 1454.8333333333333, 1455.0, 1455.2631578947369, 1455.2941176470588, 1455.5882352941176, 1455.7142857142858, 1455.8333333333333, 1456.0, 1456.25, 1456.3333333333333, 1456.3636363636363, 1456.6666666666667, 1456.857142857143, 1457.0, 1457.142857142857, 1457.2222222222222, 1457.3076923076924, 1457.3333333333333, 1457.391304347826, 1457.5, 1457.6470588235295, 1457.6923076923076, 1457.7777777777778, 1457.857142857143, 1458.0, 1458.0555555555557, 1458.235294117647, 1458.2456140350878, 1458.3333333333333, 1458.421052631579, 1458.4615384615386, 1458.5714285714287, 1458.75, 1458.8235294117646, 1458.888888888889, 1459.0, 1459.2, 1459.3333333333333, 1459.4117647058824, 1459.4736842105262, 1459.5833333333333, 1459.6363636363637, 1460.0, 1460.4347826086957, 1460.625, 1460.909090909091, 1461.0, 1461.111111111111, 1461.1764705882354, 1461.25, 1461.3333333333333, 1461.5, 1461.6666666666667, 1461.7241379310344, 1461.8181818181818, 1462.0, 1462.3076923076924, 1462.5, 1462.5925925925926, 1462.608695652174, 1462.7272727272727, 1462.857142857143, 1463.0, 1463.0434782608695, 1463.3333333333333, 1463.6666666666667, 1463.75, 1464.0, 1464.2307692307693, 1464.2857142857142, 1464.3478260869565, 1464.4444444444443, 1464.5454545454545, 1464.6153846153845, 1464.7619047619048, 1465.0, 1465.1724137931035, 1465.2, 1465.2173913043478, 1465.2631578947369, 1465.5555555555557, 1465.7142857142858, 1465.8333333333333, 1465.8823529411766, 1466.0, 1466.1538461538462, 1466.25, 1466.3636363636363, 1466.4285714285713, 1466.590909090909, 1466.6666666666667, 1466.8181818181818, 1466.923076923077, 1466.9565217391305, 1467.0, 1467.2, 1467.2093023255813, 1467.5, 1467.5757575757575, 1467.6470588235295, 1467.6923076923076, 1467.7777777777778, 1468.0, 1468.125, 1468.1818181818182, 1468.3333333333333, 1468.5714285714287, 1468.6363636363637, 1468.75, 1469.0, 1469.090909090909, 1469.375, 1469.4444444444443, 1469.4736842105262, 1470.0, 1470.5, 1470.5263157894738, 1470.6896551724137, 1470.8333333333333, 1471.3636363636363, 1471.4285714285713, 1471.5384615384614, 1471.6666666666667, 1471.7391304347825, 1471.875, 1471.9444444444443, 1472.0, 1472.1052631578948, 1472.2727272727273, 1472.3076923076924, 1472.5, 1472.6666666666667, 1472.7272727272727, 1472.7777777777778, 1472.857142857143, 1472.962962962963, 1473.125, 1473.3333333333333, 1473.448275862069, 1473.6363636363637, 1473.8461538461538, 1474.0, 1474.2105263157894, 1474.2857142857142, 1474.4444444444443, 1474.7058823529412, 1474.7619047619048, 1474.8275862068965, 1474.8837209302326, 1475.0, 1475.3846153846155, 1475.5555555555557, 1475.7142857142858, 1475.8823529411766, 1475.909090909091, 1476.0, 1476.0869565217392, 1476.140350877193, 1476.1538461538462, 1476.2962962962963, 1476.3333333333333, 1476.3636363636363, 1476.5217391304348, 1476.6666666666667, 1476.8181818181818, 1476.875, 1476.969696969697, 1477.0, 1477.0588235294117, 1477.142857142857, 1477.2727272727273, 1477.391304347826, 1477.4074074074074, 1477.5, 1477.6923076923076, 1477.7777777777778, 1477.857142857143, 1478.0, 1478.148148148148, 1478.1818181818182, 1478.3333333333333, 1478.421052631579, 1478.5185185185185, 1478.5507246376812, 1478.5714285714287, 1478.75, 1479.090909090909, 1479.107142857143, 1479.4117647058824, 1479.5, 1479.5652173913043, 1480.0, 1480.6060606060605, 1480.6666666666667, 1480.7692307692307, 1480.952380952381, 1481.0, 1481.111111111111, 1481.25, 1481.2903225806451, 1481.3333333333333, 1481.4285714285713, 1481.5686274509803, 1481.6129032258063, 1481.6666666666667, 1481.8181818181818, 1481.875, 1482.0, 1482.2222222222222, 1482.3076923076924, 1482.5, 1482.6666666666667, 1482.857142857143, 1482.9411764705883, 1482.962962962963, 1483.0, 1483.061224489796, 1483.157894736842, 1483.3333333333333, 1483.75, 1483.888888888889, 1483.9285714285713, 1483.939393939394, 1484.0, 1484.054054054054, 1484.1176470588234, 1484.1666666666667, 1484.2857142857142, 1484.375, 1484.4444444444443, 1485.0, 1485.2631578947369, 1485.3333333333333, 1485.3846153846155, 1485.4545454545455, 1485.5, 1485.5555555555557, 1485.7142857142858, 1486.0, 1486.0869565217392, 1486.1538461538462, 1486.25, 1486.2857142857142, 1486.6666666666667, 1486.8181818181818, 1486.923076923077, 1487.0, 1487.142857142857, 1487.2727272727273, 1487.5, 1487.5675675675675, 1487.6, 1487.7777777777778, 1487.857142857143, 1488.0, 1488.3333333333333, 1488.4615384615386, 1488.5714285714287, 1488.6666666666667, 1488.75, 1488.8, 1488.8461538461538, 1488.888888888889, 1489.0, 1489.1666666666667, 1489.2307692307693, 1489.2857142857142, 1489.3333333333333, 1489.3939393939395, 1489.6969696969697, 1490.0, 1490.4347826086957, 1490.6666666666667, 1490.7142857142858, 1490.8333333333333, 1490.909090909091, 1491.0, 1491.111111111111, 1491.25, 1491.3333333333333, 1491.4285714285713, 1491.5384615384614, 1491.6129032258063, 1491.6666666666667, 1491.7391304347825, 1491.8181818181818, 1491.875, 1492.0, 1492.142857142857, 1492.2222222222222, 1492.3809523809523, 1492.5, 1492.638888888889, 1492.7272727272727, 1492.857142857143, 1492.972972972973, 1493.0, 1493.3333333333333, 1493.5294117647059, 1493.6363636363637, 1493.75, 1493.888888888889, 1494.2105263157894, 1494.2857142857142, 1494.375, 1494.4444444444443, 1494.5, 1494.642857142857, 1494.7619047619048, 1495.0, 1495.1063829787233, 1495.2380952380952, 1495.2941176470588, 1495.3846153846155, 1495.4545454545455, 1495.5555555555557, 1495.7142857142858, 1495.8333333333333, 1496.0, 1496.25, 1496.3636363636363, 1496.6666666666667, 1497.0, 1497.142857142857, 1497.2, 1497.2222222222222, 1497.2727272727273, 1497.3333333333333, 1497.5, 1497.7777777777778, 1498.0, 1498.076923076923, 1498.1818181818182, 1498.3333333333333, 1498.4615384615386, 1498.5714285714287, 1498.75, 1498.888888888889, 1498.9285714285713, 1499.0, 1499.090909090909, 1499.1666666666667, 1499.2592592592594, 1499.3333333333333, 1499.6296296296296, 1500.0, 1500.5405405405406, 1500.5555555555557, 1500.5882352941176, 1500.6666666666667, 1500.6896551724137, 1500.7142857142858, 1500.7692307692307, 1500.8695652173913, 1501.0204081632653, 1501.111111111111, 1501.1764705882354, 1501.25, 1501.4285714285713, 1501.5, 1501.5384615384614, 1501.5625, 1501.6666666666667, 1502.0, 1502.142857142857, 1502.2222222222222, 1502.3529411764705, 1502.5, 1502.608695652174, 1502.7272727272727, 1502.8, 1502.9411764705883, 1503.0, 1503.3333333333333, 1503.5294117647059, 1503.75, 1503.888888888889, 1504.0, 1504.090909090909, 1504.2857142857142, 1504.4444444444443, 1504.5454545454545, 1504.6153846153845, 1504.7058823529412, 1504.8484848484848, 1505.0, 1505.4545454545455, 1505.5555555555557, 1505.7142857142858, 1506.0, 1506.0869565217392, 1506.1538461538462, 1506.3636363636363, 1506.4285714285713, 1506.6666666666667, 1506.842105263158, 1507.0, 1507.0588235294117, 1507.142857142857, 1507.2727272727273, 1507.3170731707316, 1507.5, 1507.6190476190477, 1507.7777777777778, 1507.8260869565217, 1507.857142857143, 1508.0, 1508.125, 1508.1818181818182, 1508.235294117647, 1508.3333333333333, 1508.5714285714287, 1508.75, 1508.8235294117646, 1508.888888888889, 1509.090909090909, 1509.2307692307693, 1509.2857142857142, 1509.5, 1510.0, 1510.5263157894738, 1510.6666666666667, 1510.7692307692307, 1510.8333333333333, 1510.909090909091, 1511.0, 1511.0526315789473, 1511.111111111111, 1511.25, 1511.4285714285713, 1511.5384615384614, 1511.578947368421, 1511.7391304347825, 1511.8181818181818, 1511.8367346938776, 1511.904761904762, 1512.0, 1512.1052631578948, 1512.2222222222222, 1512.3333333333333, 1512.3529411764705, 1512.3809523809523, 1512.5, 1512.6666666666667, 1512.6923076923076, 1512.7272727272727, 1512.857142857143, 1513.0, 1513.157894736842, 1513.3333333333333, 1513.5897435897436, 1514.0, 1514.1666666666667, 1514.2857142857142, 1514.3478260869565, 1514.4444444444443, 1514.5, 1514.6153846153845, 1514.6666666666667, 1514.7058823529412, 1515.0, 1515.483870967742, 1515.5555555555557, 1515.7142857142858, 1516.0, 1516.0526315789473, 1516.1538461538462, 1516.25, 1516.3636363636363, 1516.5, 1516.6666666666667, 1516.896551724138, 1516.923076923077, 1517.0, 1517.142857142857, 1517.5, 1517.6923076923076, 1517.7777777777778, 1518.0, 1518.125, 1518.1818181818182, 1518.3333333333333, 1518.4, 1518.5714285714287, 1518.6666666666667, 1518.75, 1518.888888888889, 1518.918918918919, 1518.9473684210527, 1519.0, 1519.090909090909, 1519.1666666666667, 1519.3333333333333, 1519.4444444444443, 1520.0, 1520.2857142857142, 1520.5263157894738, 1520.5454545454545, 1520.5882352941176, 1520.7692307692307, 1520.909090909091, 1520.952380952381, 1521.111111111111, 1521.1764705882354, 1521.25, 1521.4285714285713, 1521.6666666666667, 1521.764705882353, 1522.0, 1522.2222222222222, 1522.2727272727273, 1522.3076923076924, 1522.5, 1522.6666666666667, 1522.75, 1523.0, 1523.076923076923, 1523.2432432432433, 1523.3333333333333, 1523.5714285714287, 1523.6363636363637, 1524.0, 1524.1176470588234, 1524.1666666666667, 1524.2857142857142, 1524.4444444444443, 1524.7222222222222, 1524.7368421052631, 1524.8275862068965, 1525.0, 1525.1162790697674, 1525.3846153846155, 1525.5555555555557, 1525.6521739130435, 1525.7142857142858, 1525.8333333333333, 1525.9375, 1526.0, 1526.1538461538462, 1526.25, 1526.3157894736842, 1526.4285714285713, 1526.5, 1526.6666666666667, 1526.888888888889, 1527.142857142857, 1527.2727272727273, 1527.3684210526317, 1527.4074074074074, 1527.5, 1527.6470588235295, 1527.6666666666667, 1527.7777777777778, 1528.0, 1528.076923076923, 1528.148148148148, 1528.235294117647, 1528.2608695652175, 1528.3333333333333, 1528.421052631579, 1528.4848484848485, 1528.5714285714287, 1528.6486486486488, 1528.75, 1528.888888888889, 1528.9655172413793, 1529.0, 1529.1666666666667, 1529.2857142857142, 1529.3333333333333, 1529.642857142857, 1530.0, 1530.6060606060605, 1530.7142857142858, 1530.7407407407406, 1530.967741935484, 1531.0, 1531.111111111111, 1531.25, 1531.3333333333333, 1531.4285714285713, 1531.5384615384614, 1531.6666666666667, 1531.7391304347825, 1531.9354838709678, 1532.0, 1532.2222222222222, 1532.3076923076924, 1532.5, 1532.6666666666667, 1533.0, 1533.3333333333333, 1533.6363636363637, 1533.75, 1534.0, 1534.1176470588234, 1534.2857142857142, 1534.3333333333333, 1534.4444444444443, 1534.4736842105262, 1534.5454545454545, 1534.6153846153845, 1534.8387096774193, 1535.0, 1535.2631578947369, 1535.2941176470588, 1535.3333333333333, 1535.3846153846155, 1535.4545454545455, 1535.483870967742, 1535.5555555555557, 1535.7142857142858, 1535.8823529411766, 1536.0, 1536.1904761904761, 1536.4705882352941, 1536.5217391304348, 1536.5384615384614, 1536.6666666666667, 1536.764705882353, 1536.842105263158, 1536.923076923077, 1537.0, 1537.142857142857, 1537.2727272727273, 1537.5, 1537.7777777777778, 1537.857142857143, 1538.0, 1538.1818181818182, 1538.3333333333333, 1538.4, 1538.5714285714287, 1538.6363636363637, 1538.6666666666667, 1538.75, 1538.888888888889, 1539.0, 1539.090909090909, 1539.2857142857142, 1539.3103448275863, 1539.5833333333333, 1540.0, 1540.5882352941176, 1540.7692307692307, 1540.8333333333333, 1540.909090909091, 1541.0, 1541.111111111111, 1541.1764705882354, 1541.25, 1541.4285714285713, 1541.578947368421, 1541.6666666666667, 1541.7857142857142, 1541.875, 1542.0, 1542.2222222222222, 1542.5, 1543.0, 1543.076923076923, 1543.3333333333333, 1543.5294117647059, 1543.6363636363637, 1543.8095238095239, 1544.0, 1544.2105263157894, 1544.2857142857142, 1544.375, 1544.4444444444443, 1544.5454545454545, 1544.6153846153845, 1545.0, 1545.2380952380952, 1545.2941176470588, 1545.4545454545455, 1545.5555555555557, 1545.625, 1545.7142857142858, 1546.0, 1546.1538461538462, 1546.25, 1546.6666666666667, 1546.842105263158, 1546.875, 1547.0, 1547.142857142857, 1547.3333333333333, 1547.3684210526317, 1547.5, 1547.7777777777778, 1548.0, 1548.0645161290322, 1548.1818181818182, 1548.235294117647, 1548.3333333333333, 1548.421052631579, 1548.5714285714287, 1548.75, 1548.888888888889, 1549.0, 1549.047619047619, 1549.090909090909, 1549.1666666666667, 1549.2, 1549.2307692307693, 1549.5454545454545, 1550.0, 1550.4, 1550.6666666666667, 1550.909090909091, 1551.081081081081, 1551.25, 1551.4285714285713, 1551.5384615384614, 1551.6666666666667, 1551.8181818181818, 1551.875, 1551.923076923077, 1552.0, 1552.2222222222222, 1552.2727272727273, 1552.3076923076924, 1552.3529411764705, 1552.5, 1552.6666666666667, 1552.7272727272727, 1552.857142857143, 1552.9411764705883, 1553.125, 1553.3333333333333, 1553.75, 1553.888888888889, 1554.0, 1554.2857142857142, 1554.5454545454545, 1554.5833333333333, 1554.6153846153845, 1555.0, 1555.3846153846155, 1555.4545454545455, 1555.5555555555557, 1555.6521739130435, 1555.8333333333333, 1555.8974358974358, 1556.0, 1556.25, 1556.3636363636363, 1556.6666666666667, 1556.842105263158, 1557.0, 1557.142857142857, 1557.2727272727273, 1557.5, 1557.6190476190477, 1557.6470588235295, 1557.7777777777778, 1558.0, 1558.125, 1558.2608695652175, 1558.3333333333333, 1558.4, 1558.6666666666667, 1558.695652173913, 1558.75, 1559.0, 1559.1666666666667, 1559.2307692307693, 1559.4117647058824, 1559.5454545454545, 1560.0, 1560.3703703703704, 1560.5, 1560.5263157894738, 1560.6666666666667, 1561.0, 1561.111111111111, 1561.1764705882354, 1561.25, 1561.3333333333333, 1561.3793103448277, 1561.4285714285713, 1561.6666666666667, 1561.7391304347825, 1561.764705882353, 1561.875, 1562.0, 1562.2222222222222, 1562.3076923076924, 1562.3333333333333, 1562.5, 1562.7272727272727, 1562.857142857143, 1563.076923076923, 1563.2727272727273, 1563.3333333333333, 1563.5714285714287, 1563.6363636363637, 1563.75, 1563.9130434782608, 1564.0, 1564.1666666666667, 1564.1791044776119, 1564.2857142857142, 1564.4444444444443, 1564.6666666666667, 1564.7058823529412, 1564.7368421052631, 1565.0, 1565.2941176470588, 1565.3846153846155, 1565.4545454545455, 1565.5882352941176, 1565.7142857142858, 1565.8333333333333, 1565.8823529411766, 1566.0, 1566.1538461538462, 1566.25, 1566.3333333333333, 1566.4, 1566.6666666666667, 1566.875, 1567.142857142857, 1567.5, 1567.7777777777778, 1568.0, 1568.1818181818182, 1568.3333333333333, 1568.4615384615386, 1568.7096774193549, 1568.75, 1568.888888888889, 1569.0, 1569.090909090909, 1569.2307692307693, 1569.4545454545455, 1569.4736842105262, 1570.0, 1570.3846153846155, 1570.6666666666667, 1570.7692307692307, 1570.9375, 1571.111111111111, 1571.1764705882354, 1571.25, 1571.6666666666667, 1571.83908045977, 1571.8918918918919, 1572.0, 1572.162162162162, 1572.2222222222222, 1572.5, 1572.7272727272727, 1572.857142857143, 1572.9411764705883, 1573.0, 1573.125, 1573.1818181818182, 1573.3333333333333, 1573.5714285714287, 1573.6363636363637, 1573.75, 1573.8095238095239, 1573.888888888889, 1574.0, 1574.2857142857142, 1574.5, 1575.0, 1575.2631578947369, 1575.4545454545455, 1575.625, 1575.7142857142858, 1575.8695652173913, 1575.8823529411766, 1575.9259259259259, 1576.0, 1576.111111111111, 1576.25, 1576.4285714285713, 1576.6666666666667, 1576.875, 1577.0, 1577.0833333333333, 1577.142857142857, 1577.5, 1577.6923076923076, 1577.7777777777778, 1578.0, 1578.1818181818182, 1578.3870967741937, 1578.421052631579, 1578.5714285714287, 1578.75, 1578.888888888889, 1579.090909090909, 1579.142857142857, 1579.1666666666667, 1579.2592592592594, 1580.0, 1580.3846153846155, 1580.4347826086957, 1580.6666666666667, 1580.8333333333333, 1580.952380952381, 1581.1764705882354, 1581.25, 1581.3333333333333, 1581.4285714285713, 1581.5384615384614, 1581.6666666666667, 1581.764705882353, 1581.8181818181818, 1581.875, 1582.0, 1582.2222222222222, 1582.3076923076924, 1582.5, 1582.608695652174, 1582.6666666666667, 1582.7272727272727, 1582.857142857143, 1582.962962962963, 1583.0, 1583.157894736842, 1583.3333333333333, 1583.5714285714287, 1583.6363636363637, 1583.75, 1584.0, 1584.1666666666667, 1584.2857142857142, 1584.3478260869565, 1584.375, 1584.4444444444443, 1584.5454545454545, 1585.0, 1585.2631578947369, 1585.4545454545455, 1585.5555555555557, 1585.625, 1585.7142857142858, 1585.9259259259259, 1586.0, 1586.25, 1586.4285714285713, 1586.4705882352941, 1586.6666666666667, 1586.8, 1586.923076923077, 1587.0, 1587.0833333333333, 1587.142857142857, 1587.5, 1587.6923076923076, 1588.0, 1588.125, 1588.1818181818182, 1588.3333333333333, 1588.5714285714287, 1588.75, 1589.3939393939395, 1589.4736842105262, 1589.5238095238096, 1589.5833333333333, 1590.0, 1590.2325581395348, 1590.4545454545455, 1590.4761904761904, 1590.7692307692307, 1590.9259259259259, 1591.0, 1591.111111111111, 1591.25, 1591.304347826087, 1591.5384615384614, 1591.6666666666667, 1591.851851851852, 1592.0, 1592.142857142857, 1592.2222222222222, 1592.2857142857142, 1592.3076923076924, 1592.5, 1592.6666666666667, 1592.7272727272727, 1592.857142857143, 1593.0232558139535, 1593.125, 1593.3333333333333, 1593.4146341463415, 1593.5294117647059, 1593.6363636363637, 1593.75, 1593.8461538461538, 1594.0, 1594.2222222222222, 1594.2857142857142, 1594.4444444444443, 1594.5454545454545, 1594.5833333333333, 1594.6153846153845, 1594.7826086956522, 1595.0, 1595.2941176470588, 1595.483870967742, 1595.5, 1595.5555555555557, 1595.625, 1595.6521739130435, 1595.7142857142858, 1596.0, 1596.25, 1596.3333333333333, 1596.5217391304348, 1596.6666666666667, 1596.764705882353, 1596.8181818181818, 1597.2727272727273, 1597.3684210526317, 1597.5, 1597.6470588235295, 1597.7777777777778, 1598.0, 1598.125, 1598.3333333333333, 1598.5714285714287, 1598.75, 1598.8235294117646, 1599.0, 1599.047619047619, 1599.090909090909, 1599.1666666666667, 1599.3333333333333, 1599.3939393939395, 1599.5, 1600.0, 1600.625, 1600.8, 1600.8333333333333, 1600.909090909091, 1601.0, 1601.111111111111, 1601.25, 1601.4285714285713, 1601.5384615384614, 1601.578947368421, 1601.6666666666667, 1601.8181818181818, 1601.851851851852, 1602.0, 1602.2222222222222, 1602.5, 1602.7272727272727, 1602.8125, 1602.857142857143, 1603.0, 1603.3333333333333, 1603.75, 1603.8461538461538, 1604.0, 1604.090909090909, 1604.2857142857142, 1604.4444444444443, 1604.5454545454545, 1604.8275862068965, 1605.0, 1605.2631578947369, 1605.3333333333333, 1605.4545454545455, 1605.625, 1605.7142857142858, 1605.8333333333333, 1605.9259259259259, 1606.0, 1606.111111111111, 1606.3636363636363, 1606.5, 1606.5384615384614, 1606.6666666666667, 1606.774193548387, 1606.9117647058824, 1607.0, 1607.142857142857, 1607.1875, 1607.2727272727273, 1607.3684210526317, 1607.5, 1607.7272727272727, 1607.7777777777778, 1608.0, 1608.3333333333333, 1608.5714285714287, 1608.695652173913, 1608.75, 1608.8235294117646, 1608.888888888889, 1608.9473684210527, 1609.0, 1609.090909090909, 1609.2307692307693, 1609.375, 1609.5, 1609.7727272727273, 1610.0, 1610.7142857142858, 1610.7692307692307, 1610.909090909091, 1611.111111111111, 1611.2, 1611.3333333333333, 1611.4285714285713, 1611.5384615384614, 1611.6666666666667, 1611.8181818181818, 1611.851851851852, 1611.875, 1612.0, 1612.2222222222222, 1612.3529411764705, 1612.5, 1612.6315789473683, 1612.857142857143, 1613.076923076923, 1613.3333333333333, 1613.5, 1613.6, 1613.6363636363637, 1613.75, 1613.8461538461538, 1614.0, 1614.1666666666667, 1614.4444444444443, 1614.5454545454545, 1614.6666666666667, 1615.0, 1615.142857142857, 1615.5, 1615.5263157894738, 1615.8333333333333, 1616.0, 1616.111111111111, 1616.25, 1616.3636363636363, 1616.6666666666667, 1616.774193548387, 1616.896551724138, 1617.142857142857, 1617.2222222222222, 1617.2727272727273, 1617.5, 1617.7777777777778, 1617.857142857143, 1618.0, 1618.3333333333333, 1618.4615384615386, 1618.5714285714287, 1618.75, 1618.888888888889, 1619.090909090909, 1619.3333333333333, 1619.3548387096773, 1619.4444444444443, 1620.0, 1620.625, 1620.6666666666667, 1620.7692307692307, 1621.0, 1621.25, 1621.276595744681, 1621.304347826087, 1621.4285714285713, 1621.5625, 1621.6666666666667, 1621.7857142857142, 1621.8181818181818, 1622.0, 1622.1875, 1622.2222222222222, 1622.3076923076924, 1622.3529411764705, 1622.5, 1622.5925925925926, 1622.608695652174, 1622.6666666666667, 1622.7272727272727, 1622.7777777777778, 1622.857142857143, 1623.076923076923, 1623.225806451613, 1623.3333333333333, 1623.75, 1623.8461538461538, 1624.0, 1624.2857142857142, 1624.4, 1624.4444444444443, 1624.6153846153845, 1624.642857142857, 1625.0, 1625.5555555555557, 1625.7142857142858, 1626.0, 1626.1538461538462, 1626.25, 1626.4285714285713, 1626.6666666666667, 1627.0, 1627.142857142857, 1627.3076923076924, 1627.5, 1627.6923076923076, 1627.7777777777778, 1628.0, 1628.1818181818182, 1628.2608695652175, 1628.3333333333333, 1628.4, 1628.4615384615386, 1628.5714285714287, 1628.7179487179487, 1628.888888888889, 1629.0243902439024, 1629.1666666666667, 1629.2857142857142, 1629.3333333333333, 1630.0, 1630.357142857143, 1630.7692307692307, 1630.909090909091, 1631.1764705882354, 1631.25, 1631.5384615384614, 1631.6666666666667, 1632.0, 1632.2222222222222, 1632.2727272727273, 1632.3809523809523, 1632.5, 1632.6315789473683, 1632.7272727272727, 1632.7777777777778, 1632.857142857143, 1633.0, 1633.157894736842, 1633.3333333333333, 1633.6363636363637, 1633.75, 1634.0, 1634.1666666666667, 1634.2857142857142, 1634.4444444444443, 1634.5454545454545, 1634.6153846153845, 1634.7058823529412, 1635.0, 1635.2941176470588, 1635.3333333333333, 1635.3846153846155, 1635.4545454545455, 1635.5555555555557, 1635.7142857142858, 1635.909090909091, 1636.0, 1636.1904761904761, 1636.25, 1636.3157894736842, 1636.3636363636363, 1636.6666666666667, 1636.923076923077, 1637.090909090909, 1637.142857142857, 1637.2222222222222, 1637.3333333333333, 1637.5, 1637.6190476190477, 1637.6923076923076, 1637.7777777777778, 1638.0, 1638.0487804878048, 1638.095238095238, 1638.125, 1638.3333333333333, 1638.4615384615386, 1638.5714285714287, 1638.75, 1638.888888888889, 1639.0, 1639.090909090909, 1639.3333333333333, 1639.375, 1639.5454545454545, 1640.0, 1640.5555555555557, 1640.7142857142858, 1640.8333333333333, 1640.8695652173913, 1640.909090909091, 1641.0, 1641.25, 1641.4285714285713, 1641.5384615384614, 1641.6666666666667, 1641.8181818181818, 1642.0, 1642.3076923076924, 1642.5, 1642.7272727272727, 1642.7777777777778, 1642.8, 1643.0, 1643.125, 1643.157894736842, 1643.3333333333333, 1643.5, 1643.6363636363637, 1643.75, 1644.0, 1644.0625, 1644.1666666666667, 1644.2105263157894, 1644.2857142857142, 1644.375, 1644.5454545454545, 1644.6666666666667, 1645.0, 1645.5555555555557, 1645.6923076923076, 1645.7142857142858, 1646.0, 1646.3636363636363, 1646.6666666666667, 1646.842105263158, 1646.923076923077, 1647.0, 1647.0833333333333, 1647.142857142857, 1647.3333333333333, 1647.3684210526317, 1647.4468085106382, 1647.5, 1647.5862068965516, 1648.0, 1648.125, 1648.235294117647, 1648.3333333333333, 1648.5714285714287, 1648.75, 1648.936170212766, 1649.0, 1649.090909090909, 1649.375, 1649.4736842105262, 1649.5, 1649.5833333333333, 1650.0, 1650.6666666666667, 1650.7142857142858, 1650.909090909091, 1651.0, 1651.111111111111, 1651.1627906976744, 1651.1764705882354, 1651.25, 1651.4285714285713, 1651.5, 1651.5384615384614, 1651.6666666666667, 1652.0, 1652.142857142857, 1652.2727272727273, 1652.3529411764705, 1652.5, 1652.608695652174, 1652.6315789473683, 1652.6666666666667, 1652.7272727272727, 1652.7777777777778, 1652.8, 1652.857142857143, 1653.0, 1653.076923076923, 1653.3333333333333, 1653.448275862069, 1653.6363636363637, 1653.75, 1654.0, 1654.090909090909, 1654.1176470588234, 1654.2105263157894, 1654.2857142857142, 1654.4444444444443, 1655.0, 1655.2631578947369, 1655.357142857143, 1655.4545454545455, 1655.5555555555557, 1655.625, 1655.7142857142858, 1655.8823529411766, 1656.0, 1656.111111111111, 1656.1538461538462, 1656.6666666666667, 1657.027027027027, 1657.142857142857, 1657.5, 1657.6190476190477, 1657.6923076923076, 1657.7272727272727, 1657.7777777777778, 1657.857142857143, 1658.0, 1658.1818181818182, 1658.2608695652175, 1658.3333333333333, 1658.5714285714287, 1658.6666666666667, 1658.695652173913, 1658.75, 1658.780487804878, 1659.2592592592594, 1659.5652173913043, 1659.6296296296296, 1660.0, 1660.8333333333333, 1660.909090909091, 1661.0, 1661.111111111111, 1661.4285714285713, 1661.5384615384614, 1661.6, 1661.6666666666667, 1661.8181818181818, 1662.0, 1662.2222222222222, 1662.5, 1662.608695652174, 1662.7272727272727, 1662.857142857143, 1662.9166666666667, 1662.9411764705883, 1663.3333333333333, 1663.5294117647059, 1663.75, 1663.8461538461538, 1664.0, 1664.2857142857142, 1664.4444444444443, 1664.6153846153845, 1665.0, 1665.3333333333333, 1665.4545454545455, 1665.5555555555557, 1665.6521739130435, 1665.7142857142858, 1665.909090909091, 1666.0, 1666.3636363636363, 1666.4285714285713, 1666.551724137931, 1666.6666666666667, 1666.923076923077, 1667.0, 1667.0588235294117, 1667.142857142857, 1667.2727272727273, 1667.5, 1667.6470588235295, 1667.6923076923076, 1667.857142857143, 1667.9166666666667, 1668.0, 1668.3333333333333, 1668.4615384615386, 1668.5714285714287, 1668.8, 1668.8235294117646, 1668.888888888889, 1668.9473684210527, 1669.1666666666667, 1669.5238095238096, 1669.6153846153845, 1670.0, 1670.7692307692307, 1670.909090909091, 1671.0, 1671.111111111111, 1671.25, 1671.3333333333333, 1671.4285714285713, 1671.6666666666667, 1671.8181818181818, 1671.9354838709678, 1672.0, 1672.5, 1672.9411764705883, 1672.962962962963, 1673.3333333333333, 1673.5294117647059, 1673.5714285714287, 1673.7037037037037, 1673.75, 1674.0, 1674.1666666666667, 1674.2307692307693, 1674.2857142857142, 1674.4444444444443, 1674.5454545454545, 1674.6153846153845, 1675.0, 1675.2173913043478, 1675.3333333333333, 1675.5555555555557, 1675.7142857142858, 1675.8333333333333, 1675.909090909091, 1676.0, 1676.1538461538462, 1676.25, 1676.3636363636363, 1676.4285714285713, 1676.578947368421, 1676.6666666666667, 1677.0588235294117, 1677.142857142857, 1677.5, 1677.7777777777778, 1678.0, 1678.2608695652175, 1678.3333333333333, 1678.5714285714287, 1678.6666666666667, 1678.75, 1678.888888888889, 1679.090909090909, 1679.3333333333333, 1679.3548387096773, 1679.375, 1679.4736842105262, 1679.5238095238096, 1680.0, 1680.6060606060605, 1680.7692307692307, 1680.909090909091, 1681.6666666666667, 1682.0, 1682.0689655172414, 1682.1052631578948, 1682.2222222222222, 1682.3333333333333, 1682.3529411764705, 1682.5, 1682.7272727272727, 1682.857142857143, 1683.3333333333333, 1683.5714285714287, 1683.7142857142858, 1684.0, 1684.2857142857142, 1684.4444444444443, 1684.6153846153845, 1685.0, 1685.2, 1685.7142857142858, 1685.7894736842106, 1685.8823529411766, 1686.0, 1686.111111111111, 1686.25, 1686.5, 1686.6666666666667, 1686.9565217391305, 1687.0, 1687.0833333333333, 1687.142857142857, 1687.2727272727273, 1687.5, 1688.0, 1688.1081081081081, 1688.3333333333333, 1688.5714285714287, 1688.888888888889, 1689.090909090909, 1689.1666666666667, 1689.2, 1690.0, 1690.2380952380952, 1690.3125, 1690.4166666666667, 1690.5263157894738, 1690.625, 1690.909090909091, 1691.0, 1691.111111111111, 1691.25, 1691.4285714285713, 1691.6666666666667, 1691.875, 1692.0, 1692.142857142857, 1692.5, 1692.7272727272727, 1692.857142857143, 1693.3333333333333, 1693.75, 1694.0, 1694.1666666666667, 1694.2857142857142, 1694.375, 1694.5, 1694.5454545454545, 1694.6666666666667, 1694.7368421052631, 1695.0, 1695.3333333333333, 1695.7142857142858, 1695.8333333333333, 1695.8823529411766, 1696.0, 1696.111111111111, 1696.25, 1696.4705882352941, 1696.5, 1696.5116279069769, 1696.6666666666667, 1697.0, 1697.0588235294117, 1697.142857142857, 1697.2727272727273, 1697.5, 1697.6923076923076, 1697.7777777777778, 1697.857142857143, 1698.0, 1698.235294117647, 1698.3333333333333, 1698.4905660377358, 1698.5714285714287, 1698.695652173913, 1698.8235294117646, 1698.888888888889, 1699.0, 1699.090909090909, 1699.3333333333333, 1700.0, 1700.5263157894738, 1700.5555555555557, 1700.7692307692307, 1700.8333333333333, 1700.8823529411766, 1701.0, 1701.3157894736842, 1701.4285714285713, 1701.6666666666667, 1701.8181818181818, 1702.0, 1702.121212121212, 1702.1739130434783, 1702.5, 1702.6666666666667, 1702.857142857143, 1703.0, 1703.0434782608695, 1703.2142857142858, 1703.3333333333333, 1703.5294117647059, 1703.5714285714287, 1703.75, 1704.0, 1704.2857142857142, 1704.4444444444443, 1705.0, 1705.2380952380952, 1705.3333333333333, 1705.3658536585365, 1705.4545454545455, 1705.5555555555557, 1706.0, 1706.25, 1706.3636363636363, 1706.6666666666667, 1706.969696969697, 1707.142857142857, 1707.5, 1707.6923076923076, 1708.0, 1708.3333333333333, 1708.5714285714287, 1708.6666666666667, 1708.75, 1708.888888888889, 1709.0, 1709.047619047619, 1709.1304347826087, 1709.3333333333333, 1709.4117647058824, 1709.5, 1709.6774193548388, 1710.0, 1710.4545454545455, 1710.625, 1710.7692307692307, 1711.111111111111, 1711.2, 1711.3333333333333, 1711.3513513513512, 1711.4285714285713, 1711.6666666666667, 1712.0, 1712.2222222222222, 1712.5, 1712.857142857143, 1713.076923076923, 1713.157894736842, 1713.3333333333333, 1713.5294117647059, 1713.6363636363637, 1713.75, 1713.8461538461538, 1714.0, 1714.2857142857142, 1714.4444444444443, 1714.6666666666667, 1715.0, 1715.2941176470588, 1715.357142857143, 1715.4545454545455, 1715.5555555555557, 1715.7142857142858, 1716.0, 1716.3157894736842, 1716.3636363636363, 1716.4285714285713, 1716.6666666666667, 1717.142857142857, 1717.3684210526317, 1717.5, 1717.6470588235295, 1717.6923076923076, 1717.7777777777778, 1718.0, 1718.125, 1718.1818181818182, 1718.3333333333333, 1718.5714285714287, 1718.75, 1718.888888888889, 1719.0, 1719.1666666666667, 1719.2857142857142, 1720.0, 1720.5882352941176, 1720.6666666666667, 1720.8333333333333, 1721.4285714285713, 1721.5384615384614, 1721.6666666666667, 1721.764705882353, 1721.8181818181818, 1722.0, 1722.5, 1722.6666666666667, 1722.7272727272727, 1722.857142857143, 1723.0, 1723.3333333333333, 1723.5, 1723.6363636363637, 1723.75, 1724.0, 1724.5454545454545, 1725.0, 1725.4545454545455, 1726.0, 1726.0869565217392, 1726.3636363636363, 1726.6666666666667, 1726.923076923077, 1727.142857142857, 1727.5, 1727.7777777777778, 1728.0, 1728.1818181818182, 1728.3333333333333, 1728.5714285714287, 1729.090909090909, 1729.1836734693877, 1729.3333333333333, 1730.0, 1730.5882352941176, 1730.7692307692307, 1730.8333333333333, 1731.0, 1731.025641025641, 1731.111111111111, 1731.1764705882354, 1731.2, 1731.25, 1731.6666666666667, 1731.7142857142858, 1732.0, 1732.142857142857, 1732.2222222222222, 1732.5, 1732.6666666666667, 1732.7272727272727, 1732.857142857143, 1733.125, 1733.3333333333333, 1733.5, 1733.75, 1734.0, 1734.2857142857142, 1734.5454545454545, 1735.0, 1735.3846153846155, 1735.5555555555557, 1735.7142857142858, 1736.0, 1736.25, 1736.4285714285713, 1736.4705882352941, 1736.6666666666667, 1736.923076923077, 1737.142857142857, 1737.4285714285713, 1737.5, 1737.7272727272727, 1737.7777777777778, 1737.8260869565217, 1738.0, 1738.2758620689656, 1738.5, 1738.5714285714287, 1739.0, 1739.090909090909, 1739.2857142857142, 1739.3333333333333, 1739.375, 1739.5238095238096, 1739.5652173913043, 1740.0, 1740.5, 1740.5555555555557, 1740.6666666666667, 1740.7142857142858, 1740.8333333333333, 1741.25, 1741.5, 1741.6666666666667, 1741.7391304347825, 1741.8181818181818, 1742.0, 1742.3529411764705, 1742.5, 1742.7272727272727, 1742.857142857143, 1742.9411764705883, 1743.3333333333333, 1743.5714285714287, 1743.6363636363637, 1744.0, 1744.090909090909, 1744.1666666666667, 1744.2857142857142, 1744.4444444444443, 1744.5454545454545, 1745.0, 1745.2941176470588, 1745.4545454545455, 1745.7142857142858, 1745.7894736842106, 1745.8064516129032, 1746.0, 1746.1904761904761, 1746.3636363636363, 1746.4705882352941, 1746.6666666666667, 1746.842105263158, 1747.5, 1747.5757575757575, 1747.6470588235295, 1748.0, 1748.125, 1748.3333333333333, 1748.5714285714287, 1748.6666666666667, 1749.090909090909, 1749.5, 1750.0, 1750.357142857143, 1750.625, 1750.6666666666667, 1750.857142857143, 1750.909090909091, 1751.111111111111, 1751.25, 1751.4285714285713, 1751.5384615384614, 1751.6666666666667, 1752.0, 1752.1052631578948, 1752.2222222222222, 1752.5, 1752.7272727272727, 1752.857142857143, 1752.9411764705883, 1753.125, 1753.2608695652175, 1753.3333333333333, 1753.6363636363637, 1753.75, 1753.888888888889, 1754.0, 1754.2857142857142, 1754.4444444444443, 1754.4827586206898, 1754.5454545454545, 1754.6153846153845, 1755.0, 1755.2631578947369, 1755.5, 1755.5555555555557, 1755.7142857142858, 1756.0, 1756.1538461538462, 1756.25, 1756.3636363636363, 1756.6666666666667, 1757.0, 1757.142857142857, 1757.2727272727273, 1757.5, 1757.5555555555557, 1757.6470588235295, 1758.0, 1758.095238095238, 1758.3333333333333, 1758.5714285714287, 1759.1666666666667, 1759.4444444444443, 1760.0, 1760.8108108108108, 1760.8333333333333, 1760.888888888889, 1760.909090909091, 1761.25, 1761.4285714285713, 1761.6666666666667, 1762.0, 1762.2222222222222, 1762.3529411764705, 1762.5, 1762.7272727272727, 1763.0, 1763.076923076923, 1763.3333333333333, 1763.4782608695652, 1763.75, 1764.0, 1764.2857142857142, 1764.4736842105262, 1764.7058823529412, 1765.0, 1765.2941176470588, 1765.3333333333333, 1765.5555555555557, 1765.7142857142858, 1765.8823529411766, 1766.0, 1766.1764705882354, 1766.3636363636363, 1766.6666666666667, 1767.0, 1767.0588235294117, 1767.142857142857, 1767.2222222222222, 1767.5, 1767.7777777777778, 1767.857142857143, 1768.0, 1768.1818181818182, 1768.235294117647, 1768.3333333333333, 1768.421052631579, 1768.4848484848485, 1768.5714285714287, 1768.75, 1769.0, 1769.1666666666667, 1769.3333333333333, 1770.0, 1770.3703703703704, 1770.5405405405406, 1770.6666666666667, 1770.909090909091, 1771.0, 1771.111111111111, 1771.1538461538462, 1771.25, 1771.4285714285713, 1771.5384615384614, 1771.6666666666667, 1771.842105263158, 1771.875, 1772.0, 1772.2222222222222, 1772.3076923076924, 1772.4, 1772.5, 1772.7272727272727, 1772.857142857143, 1773.076923076923, 1773.3333333333333, 1773.75, 1773.9130434782608, 1774.0, 1774.0740740740741, 1774.1176470588234, 1774.2553191489362, 1774.2857142857142, 1774.4444444444443, 1774.5454545454545, 1774.7368421052631, 1775.0, 1775.4166666666667, 1775.5555555555557, 1775.7142857142858, 1776.0, 1776.25, 1776.3157894736842, 1776.6666666666667, 1776.774193548387, 1777.0, 1777.3529411764705, 1777.5, 1777.6923076923076, 1777.7777777777778, 1778.0, 1778.1818181818182, 1778.3333333333333, 1778.5714285714287, 1778.780487804878, 1778.888888888889, 1779.090909090909, 1779.1666666666667, 1779.2307692307693, 1779.5238095238096, 1780.0, 1780.4347826086957, 1780.7142857142858, 1780.909090909091, 1781.111111111111, 1781.25, 1781.3333333333333, 1781.5625, 1781.6666666666667, 1781.8181818181818, 1782.0, 1782.5, 1782.7272727272727, 1782.7586206896551, 1782.857142857143, 1783.0, 1783.076923076923, 1783.3333333333333, 1783.6363636363637, 1783.75, 1783.9473684210527, 1784.0, 1784.4444444444443, 1784.6153846153845, 1784.6666666666667, 1784.8275862068965, 1785.0, 1785.357142857143, 1786.0, 1786.6666666666667, 1786.875, 1787.0588235294117, 1787.142857142857, 1787.5, 1787.741935483871, 1787.857142857143, 1788.0, 1788.2978723404256, 1788.3333333333333, 1788.4615384615386, 1788.5714285714287, 1788.9473684210527, 1789.090909090909, 1789.2307692307693, 1789.2857142857142, 1789.3333333333333, 1789.6296296296296, 1790.0, 1790.5405405405406, 1790.857142857143, 1790.909090909091, 1790.9756097560976, 1791.0714285714287, 1791.111111111111, 1791.25, 1791.4285714285713, 1791.6666666666667, 1791.7857142857142, 1792.0, 1792.5, 1792.857142857143, 1792.962962962963, 1793.3333333333333, 1793.75, 1794.0, 1794.0740740740741, 1794.4444444444443, 1795.0, 1795.2631578947369, 1795.7142857142858, 1795.8333333333333, 1795.9375, 1796.0, 1796.1538461538462, 1796.25, 1796.6666666666667, 1796.923076923077, 1797.142857142857, 1797.5, 1797.6, 1797.8947368421052, 1798.0, 1798.1818181818182, 1798.3333333333333, 1798.4615384615386, 1798.75, 1798.888888888889, 1799.0, 1800.0, 1800.5555555555557, 1800.7142857142858, 1800.952380952381, 1801.0, 1801.1538461538462, 1801.25, 1801.6666666666667, 1801.8181818181818, 1802.0, 1802.142857142857, 1802.5, 1802.857142857143, 1803.3333333333333, 1803.6363636363637, 1803.75, 1803.9130434782608, 1804.0, 1804.1176470588234, 1804.2857142857142, 1804.4444444444443, 1805.0, 1805.5555555555557, 1805.7142857142858, 1805.8333333333333, 1806.0, 1806.060606060606, 1806.111111111111, 1806.1290322580646, 1806.6666666666667, 1806.875, 1807.5, 1807.8947368421052, 1808.0, 1808.3333333333333, 1808.5714285714287, 1808.6046511627908, 1808.75, 1809.0, 1809.1666666666667, 1809.3333333333333, 1809.375, 1809.6666666666667, 1810.0, 1810.5882352941176, 1810.7692307692307, 1810.9302325581396, 1811.25, 1811.4285714285713, 1811.6666666666667, 1812.0, 1812.5, 1812.7777777777778, 1812.9411764705883, 1813.0, 1813.3333333333333, 1813.75, 1814.0, 1814.2857142857142, 1814.6666666666667, 1815.0, 1815.3846153846155, 1815.4166666666667, 1815.5555555555557, 1815.625, 1815.7142857142858, 1815.8333333333333, 1816.0, 1816.25, 1816.6666666666667, 1816.7567567567567, 1817.142857142857, 1817.5, 1817.6923076923076, 1818.0, 1818.4615384615386, 1818.5714285714287, 1819.0, 1819.5454545454545, 1820.0, 1820.5555555555557, 1820.7692307692307, 1820.8333333333333, 1821.111111111111, 1821.304347826087, 1821.6666666666667, 1822.0, 1822.2222222222222, 1822.5, 1823.076923076923, 1823.125, 1823.3333333333333, 1823.6363636363637, 1823.7254901960785, 1824.0, 1825.0, 1825.3333333333333, 1825.3846153846155, 1825.7142857142858, 1826.0, 1826.4285714285713, 1826.6666666666667, 1826.923076923077, 1827.5, 1828.0, 1828.1818181818182, 1828.3333333333333, 1828.5714285714287, 1828.75, 1829.0, 1829.090909090909, 1829.1304347826087, 1830.0, 1830.7692307692307, 1831.111111111111, 1831.25, 1831.3333333333333, 1831.4285714285713, 1831.5384615384614, 1831.6666666666667, 1832.0, 1832.121212121212, 1832.2222222222222, 1832.5, 1832.7777777777778, 1832.857142857143, 1833.2432432432433, 1833.3333333333333, 1833.6, 1834.0, 1834.1176470588234, 1834.2857142857142, 1834.4444444444443, 1834.5454545454545, 1834.6153846153845, 1835.0, 1835.4545454545455, 1835.5555555555557, 1836.0, 1836.111111111111, 1836.1538461538462, 1836.5384615384614, 1836.6666666666667, 1837.0, 1837.0212765957447, 1837.142857142857, 1837.5, 1838.0, 1838.3333333333333, 1838.4615384615386, 1838.5714285714287, 1838.75, 1838.8235294117646, 1839.4444444444443, 1839.4871794871794, 1840.0, 1840.625, 1841.111111111111, 1841.3333333333333, 1841.4285714285713, 1841.578947368421, 1841.6666666666667, 1841.764705882353, 1842.0, 1842.5, 1842.608695652174, 1842.857142857143, 1843.3333333333333, 1843.6363636363637, 1843.7142857142858, 1843.8461538461538, 1844.5, 1844.5454545454545, 1845.0, 1845.4166666666667, 1845.7142857142858, 1846.0, 1846.1538461538462, 1846.25, 1846.6666666666667, 1847.0, 1847.5, 1848.0, 1848.125, 1848.3333333333333, 1848.421052631579, 1848.4615384615386, 1848.5714285714287, 1848.6666666666667, 1848.75, 1848.9655172413793, 1849.0, 1849.1304347826087, 1849.1666666666667, 1850.0, 1850.6666666666667, 1851.25, 1851.4285714285713, 1851.6666666666667, 1851.851851851852, 1852.0, 1852.3076923076924, 1852.5, 1853.3333333333333, 1853.75, 1853.8461538461538, 1854.0, 1854.2857142857142, 1854.4444444444443, 1854.7058823529412, 1855.0, 1855.3125, 1855.625, 1855.7142857142858, 1856.0, 1856.25, 1856.6666666666667, 1857.0588235294117, 1857.5, 1857.7777777777778, 1857.8947368421052, 1858.0, 1858.5714285714287, 1858.723404255319, 1858.75, 1858.888888888889, 1859.375, 1860.0, 1860.625, 1860.7692307692307, 1861.4285714285713, 1861.6666666666667, 1862.0, 1862.2222222222222, 1862.3076923076924, 1862.5, 1863.157894736842, 1863.3333333333333, 1864.0, 1865.0, 1865.2631578947369, 1865.3333333333333, 1865.3488372093022, 1865.7142857142858, 1866.0, 1866.3636363636363, 1866.6666666666667, 1867.0, 1867.5, 1867.7777777777778, 1868.0, 1868.3333333333333, 1868.4615384615386, 1868.5714285714287, 1869.047619047619, 1869.2307692307693, 1869.5, 1870.0, 1870.2173913043478, 1870.5882352941176, 1871.0, 1872.0, 1872.5, 1872.7777777777778, 1873.0, 1873.3333333333333, 1873.6363636363637, 1873.6842105263158, 1874.0, 1874.2857142857142, 1875.0, 1875.4545454545455, 1876.0, 1876.25, 1876.3333333333333, 1876.3636363636363, 1876.6666666666667, 1876.842105263158, 1877.142857142857, 1877.2727272727273, 1877.4074074074074, 1877.5, 1877.8260869565217, 1877.857142857143, 1878.0, 1878.076923076923, 1878.3333333333333, 1878.5714285714287, 1878.75, 1878.888888888889, 1880.0, 1880.7692307692307, 1881.6666666666667, 1882.0, 1882.0833333333333, 1882.5, 1882.857142857143, 1883.3333333333333, 1883.8461538461538, 1883.9285714285713, 1884.0, 1884.4444444444443, 1884.5454545454545, 1884.6153846153845, 1885.0, 1885.5555555555557, 1885.7142857142858, 1885.7894736842106, 1886.0, 1886.3157894736842, 1886.6666666666667, 1886.923076923077, 1887.0, 1887.5, 1888.0, 1888.3333333333333, 1888.75, 1888.8, 1889.090909090909, 1889.2307692307693, 1889.7222222222222, 1890.0, 1890.7692307692307, 1890.909090909091, 1891.0, 1891.25, 1891.4285714285713, 1892.0, 1892.5, 1892.857142857143, 1893.0, 1893.3333333333333, 1893.5294117647059, 1893.75, 1894.0, 1894.2857142857142, 1894.4444444444443, 1895.0, 1895.4545454545455, 1895.5555555555557, 1895.7142857142858, 1895.8333333333333, 1896.0, 1896.3636363636363, 1896.6666666666667, 1897.142857142857, 1897.4285714285713, 1897.5, 1898.0, 1898.3333333333333, 1898.5714285714287, 1898.8235294117646, 1898.888888888889, 1899.1666666666667, 1899.5, 1899.7674418604652, 1900.0, 1901.0, 1901.111111111111, 1901.25, 1901.2903225806451, 1901.4285714285713, 1901.5384615384614, 1901.6666666666667, 1902.0, 1902.3809523809523, 1902.5, 1903.125, 1903.3333333333333, 1903.888888888889, 1904.0, 1904.2857142857142, 1905.0, 1905.4545454545455, 1905.7142857142858, 1906.111111111111, 1906.6666666666667, 1907.142857142857, 1907.5, 1907.6, 1908.0, 1908.6666666666667, 1908.75, 1908.888888888889, 1909.3181818181818, 1910.0, 1911.4285714285713, 1911.6666666666667, 1912.0, 1912.5, 1913.0, 1913.3333333333333, 1913.6363636363637, 1914.0, 1914.2857142857142, 1914.4444444444443, 1914.6666666666667, 1915.0, 1915.4166666666667, 1915.4545454545455, 1915.5555555555557, 1915.7142857142858, 1916.0, 1916.3157894736842, 1916.6666666666667, 1917.0, 1917.2727272727273, 1917.5, 1918.125, 1918.3333333333333, 1918.5714285714287, 1918.75, 1919.4117647058824, 1920.0, 1920.5263157894738, 1921.8181818181818, 1922.0, 1922.5, 1922.857142857143, 1923.3333333333333, 1923.888888888889, 1924.0, 1924.2857142857142, 1925.0, 1925.7142857142858, 1926.0, 1926.3636363636363, 1926.6666666666667, 1927.142857142857, 1928.0, 1928.3333333333333, 1929.111111111111, 1929.4117647058824, 1930.0, 1930.4545454545455, 1930.8333333333333, 1931.4285714285713, 1931.6666666666667, 1932.0, 1932.1052631578948, 1932.3529411764705, 1932.5, 1933.3333333333333, 1934.0, 1935.0, 1935.3333333333333, 1935.8333333333333, 1936.0, 1936.6666666666667, 1937.0, 1937.0588235294117, 1937.4074074074074, 1937.5, 1937.7777777777778, 1938.0, 1938.3333333333333, 1938.75, 1939.0, 1939.090909090909, 1939.5, 1940.0, 1941.111111111111, 1941.25, 1941.4285714285713, 1941.6666666666667, 1942.0, 1942.1052631578948, 1942.5, 1942.857142857143, 1942.9411764705883, 1943.125, 1943.3333333333333, 1943.6363636363637, 1944.0, 1944.2857142857142, 1944.4444444444443, 1945.0, 1945.5555555555557, 1945.7142857142858, 1945.7894736842106, 1946.0, 1946.25, 1946.6666666666667, 1947.5, 1948.3333333333333, 1948.5714285714287, 1948.75, 1949.375, 1950.0, 1950.909090909091, 1951.0714285714287, 1951.1627906976744, 1951.8181818181818, 1952.0, 1952.5, 1952.857142857143, 1953.3333333333333, 1953.75, 1953.8461538461538, 1954.0, 1954.2857142857142, 1955.0, 1955.2173913043478, 1955.4545454545455, 1955.7142857142858, 1956.0, 1956.060606060606, 1956.6666666666667, 1957.3333333333333, 1957.5, 1958.0, 1958.3333333333333, 1958.4615384615386, 1958.5185185185185, 1958.888888888889, 1959.2857142857142, 1959.3333333333333, 1959.4117647058824, 1960.0, 1960.8333333333333, 1962.0, 1962.5, 1962.857142857143, 1963.3333333333333, 1964.0, 1964.1176470588234, 1964.2857142857142, 1964.7368421052631, 1965.0, 1965.7142857142858, 1966.0, 1966.25, 1966.5384615384614, 1966.6666666666667, 1967.142857142857, 1967.5, 1967.7777777777778, 1968.0, 1968.1818181818182, 1969.0, 1970.0, 1970.5555555555557, 1971.0, 1971.4285714285713, 1971.7391304347825, 1972.5, 1973.3333333333333, 1973.8461538461538, 1974.0, 1974.2857142857142, 1975.0, 1975.1724137931035, 1975.7142857142858, 1976.0, 1976.6666666666667, 1977.2222222222222, 1977.5, 1977.7777777777778, 1978.3333333333333, 1978.888888888889, 1978.9285714285713, 1980.0, 1980.8333333333333, 1980.952380952381, 1981.4285714285713, 1981.6666666666667, 1982.0, 1982.1739130434783, 1982.962962962963, 1983.157894736842, 1983.3333333333333, 1984.3478260869565, 1984.4444444444443, 1985.0, 1986.0, 1986.111111111111, 1986.6666666666667, 1986.875, 1987.142857142857, 1987.5, 1989.090909090909, 1989.1666666666667, 1989.2307692307693, 1989.2857142857142, 1989.5833333333333, 1990.0, 1990.4545454545455, 1991.111111111111, 1991.25, 1991.6666666666667, 1991.7948717948718, 1992.0, 1992.857142857143, 1993.2, 1993.3333333333333, 1993.6363636363637, 1994.2857142857142, 1994.5454545454545, 1995.0, 1995.7142857142858, 1996.0, 1996.25, 1996.3636363636363, 1996.6666666666667, 1997.142857142857, 1997.5, 1998.0, 1998.3333333333333, 1998.75, 2000.0, 2000.2325581395348, 2000.7692307692307, 2001.0, 2001.25, 2001.4285714285713, 2001.6666666666667, 2002.0, 2002.2222222222222, 2002.5, 2003.3333333333333, 2003.8461538461538, 2005.0, 2005.7692307692307, 2006.0, 2006.6666666666667, 2007.5, 2008.0, 2008.235294117647, 2008.5714285714287, 2010.0, 2010.909090909091, 2011.111111111111, 2012.0, 2012.5, 2012.7272727272727, 2012.857142857143, 2012.9166666666667, 2013.0, 2013.3333333333333, 2013.75, 2014.1666666666667, 2014.2857142857142, 2014.4444444444443, 2015.0, 2016.6666666666667, 2017.5, 2018.75, 2019.3333333333333, 2019.5833333333333, 2020.0, 2020.5, 2021.0, 2021.111111111111, 2021.6666666666667, 2022.0, 2022.5, 2023.3333333333333, 2024.0, 2024.2857142857142, 2025.0, 2025.7142857142858, 2026.0, 2026.111111111111, 2026.6666666666667, 2027.0833333333333, 2027.5, 2027.7777777777778, 2028.0, 2028.095238095238, 2028.4615384615386, 2028.5714285714287, 2028.888888888889, 2028.9473684210527, 2030.0, 2031.4285714285713, 2031.6666666666667, 2031.8181818181818, 2032.0, 2032.5, 2033.3333333333333, 2034.0, 2034.4444444444443, 2035.0, 2035.7142857142858, 2035.8333333333333, 2036.6666666666667, 2037.5, 2038.0, 2038.125, 2038.3333333333333, 2039.142857142857, 2040.0, 2040.7692307692307, 2040.8333333333333, 2042.0, 2042.2222222222222, 2042.3809523809523, 2042.5, 2042.857142857143, 2043.3333333333333, 2043.6363636363637, 2043.75, 2044.4444444444443, 2044.6153846153845, 2045.0, 2046.0, 2046.6666666666667, 2047.5, 2047.7777777777778, 2048.0, 2048.3333333333335, 2048.75, 2050.0, 2050.769230769231, 2052.0, 2052.5, 2053.3333333333335, 2055.0, 2055.5555555555557, 2055.714285714286, 2056.0, 2056.25, 2056.6666666666665, 2057.5, 2057.8571428571427, 2058.0, 2058.3333333333335, 2058.4444444444443, 2060.0, 2061.1111111111113, 2061.25, 2061.5384615384614, 2061.6666666666665, 2062.0, 2062.5, 2062.8571428571427, 2063.0, 2063.3333333333335, 2065.0, 2066.0, 2067.5, 2067.777777777778, 2069.090909090909, 2069.285714285714, 2070.0, 2071.4285714285716, 2071.6666666666665, 2071.818181818182, 2072.5, 2072.8571428571427, 2073.3333333333335, 2074.0, 2074.285714285714, 2075.0, 2075.3333333333335, 2076.0, 2076.3636363636365, 2076.4285714285716, 2076.6666666666665, 2076.842105263158, 2077.1428571428573, 2077.5, 2078.5714285714284, 2080.0, 2081.0, 2082.0, 2082.1428571428573, 2082.5, 2082.8571428571427, 2083.3333333333335, 2083.684210526316, 2084.0, 2084.285714285714, 2085.0, 2085.714285714286, 2086.0, 2086.25, 2086.6666666666665, 2087.5, 2088.0, 2088.3333333333335, 2088.5714285714284, 2088.695652173913, 2090.0, 2091.6666666666665, 2092.5, 2093.3333333333335, 2093.529411764706, 2094.0, 2094.285714285714, 2095.0, 2095.121951219512, 2095.5555555555557, 2096.0, 2096.6666666666665, 2097.0, 2097.1428571428573, 2097.2727272727275, 2097.5, 2098.0, 2098.3333333333335, 2099.090909090909, 2100.0, 2101.5384615384614, 2102.0, 2102.5, 2102.8571428571427, 2103.3333333333335, 2104.0, 2104.285714285714, 2105.0, 2105.714285714286, 2106.0, 2106.3636363636365, 2106.6666666666665, 2107.5, 2107.6470588235293, 2108.0, 2108.3333333333335, 2108.75, 2108.8888888888887, 2110.0, 2112.0, 2112.5, 2113.3333333333335, 2113.6363636363635, 2113.846153846154, 2114.0, 2115.0, 2115.5555555555557, 2115.777777777778, 2116.0, 2116.6666666666665, 2117.0, 2117.5, 2118.0, 2118.3333333333335, 2118.5714285714284, 2120.0, 2120.5555555555557, 2121.1111111111113, 2122.5, 2122.608695652174, 2123.3333333333335, 2125.0, 2125.8333333333335, 2126.0, 2126.6666666666665, 2127.5, 2128.6666666666665, 2128.684210526316, 2130.0, 2130.4166666666665, 2130.9523809523807, 2131.1111111111113, 2131.6666666666665, 2132.3529411764707, 2132.5, 2132.6666666666665, 2133.3333333333335, 2133.75, 2133.793103448276, 2134.285714285714, 2134.4444444444443, 2135.0, 2135.714285714286, 2136.0, 2136.25, 2136.6666666666665, 2137.5, 2140.0, 2140.4761904761904, 2142.0, 2142.5, 2143.3333333333335, 2143.529411764706, 2143.75, 2144.0, 2145.0, 2146.3636363636365, 2146.6666666666665, 2147.5, 2148.0, 2148.125, 2148.4210526315787, 2149.230769230769, 2150.0, 2151.764705882353, 2152.5, 2153.3333333333335, 2154.0, 2155.0, 2156.6666666666665, 2158.3333333333335, 2160.0, 2160.4938271604938, 2161.25, 2161.304347826087, 2161.4285714285716, 2162.0, 2162.222222222222, 2162.5, 2162.8571428571427, 2164.1666666666665, 2164.285714285714, 2165.0, 2166.6666666666665, 2167.5, 2169.4736842105262, 2170.0, 2171.25, 2171.6666666666665, 2172.5, 2173.3333333333335, 2174.0, 2174.705882352941, 2175.0, 2175.714285714286, 2176.25, 2176.6666666666665, 2177.5, 2178.5714285714284, 2178.75, 2178.8888888888887, 2180.0, 2181.0, 2181.1111111111113, 2182.1428571428573, 2182.5, 2182.7272727272725, 2183.3333333333335, 2184.285714285714, 2185.0, 2185.714285714286, 2186.0, 2186.6666666666665, 2187.1428571428573, 2187.5, 2189.0, 2190.0, 2190.5555555555557, 2192.0, 2192.5, 2194.0, 2195.0, 2195.3846153846152, 2196.6666666666665, 2197.1428571428573, 2197.4193548387098, 2197.5, 2198.181818181818, 2198.3333333333335, 2198.5714285714284, 2198.6666666666665, 2200.0, 2201.0, 2201.1111111111113, 2201.3793103448274, 2202.1052631578946, 2202.5, 2203.076923076923, 2203.3333333333335, 2204.0, 2204.285714285714, 2205.0, 2206.0, 2206.1111111111113, 2206.6666666666665, 2209.0, 2210.0, 2211.3333333333335, 2212.5, 2212.8571428571427, 2213.3333333333335, 2214.1666666666665, 2215.0, 2216.0, 2216.6666666666665, 2218.0, 2220.0, 2221.6666666666665, 2222.5, 2223.3333333333335, 2223.3928571428573, 2223.75, 2224.0, 2225.0, 2226.0, 2226.6666666666665, 2227.5, 2228.0, 2228.1481481481483, 2230.0, 2230.5882352941176, 2231.1627906976746, 2231.6666666666665, 2232.0, 2232.5, 2233.3333333333335, 2234.0, 2235.0, 2236.6666666666665, 2237.5, 2240.0, 2241.6666666666665, 2243.3333333333335, 2244.285714285714, 2244.4444444444443, 2245.0, 2245.714285714286, 2247.5, 2247.777777777778, 2248.75, 2250.0, 2251.25, 2251.6666666666665, 2252.0, 2252.5, 2252.8571428571427, 2254.0, 2254.285714285714, 2254.7368421052633, 2255.0, 2256.0, 2256.6666666666665, 2257.5, 2258.0, 2260.0, 2261.6666666666665, 2263.3333333333335, 2263.6363636363635, 2263.75, 2265.0, 2265.217391304348, 2266.6666666666665, 2268.0, 2269.0, 2270.0, 2270.909090909091, 2271.6666666666665, 2272.5, 2273.3333333333335, 2274.4444444444443, 2274.705882352941, 2275.0, 2276.6666666666665, 2277.1428571428573, 2277.5, 2278.0, 2278.3333333333335, 2280.0, 2282.5, 2283.3333333333335, 2285.0, 2286.25, 2286.6666666666665, 2287.5, 2288.0, 2290.0, 2292.5, 2293.3333333333335, 2293.75, 2295.0, 2295.714285714286, 2296.6666666666665, 2299.655172413793, 2300.0, 2302.5, 2302.8571428571427, 2303.75, 2305.0, 2305.2631578947367, 2305.714285714286, 2306.0, 2306.6666666666665, 2307.5, 2310.0, 2311.0, 2311.6666666666665, 2312.3076923076924, 2313.3333333333335, 2314.285714285714, 2315.0, 2317.5, 2320.0, 2322.0, 2322.777777777778, 2323.6363636363635, 2325.0, 2330.0, 2333.3333333333335, 2334.0, 2334.5454545454545, 2335.0, 2335.714285714286, 2336.6666666666665, 2337.5, 2338.4615384615386, 2340.0, 2342.5, 2343.3333333333335, 2344.1666666666665, 2345.0, 2345.5, 2345.714285714286, 2346.6666666666665, 2346.9565217391305, 2350.0, 2353.3333333333335, 2354.285714285714, 2355.0, 2356.6666666666665, 2357.5, 2360.0, 2364.4444444444443, 2365.0, 2365.3333333333335, 2366.6666666666665, 2367.5, 2368.5714285714284, 2370.0, 2372.5, 2374.285714285714, 2374.4, 2374.4444444444443, 2375.0, 2376.0, 2376.6666666666665, 2378.3333333333335, 2380.0, 2381.6666666666665, 2385.0, 2387.1428571428573, 2390.0, 2391.176470588235, 2392.0, 2392.222222222222, 2393.3333333333335, 2395.714285714286, 2396.6666666666665, 2397.5, 2398.0, 2398.3333333333335, 2400.0, 2401.0526315789475, 2404.0, 2405.0, 2410.0, 2412.5, 2413.3333333333335, 2415.0, 2415.4285714285716, 2416.3636363636365, 2416.6666666666665, 2420.0, 2422.0, 2422.4, 2422.5, 2423.75, 2425.0, 2425.4545454545455, 2426.6666666666665, 2427.5, 2428.3333333333335, 2430.0, 2431.8367346938776, 2433.3333333333335, 2434.0, 2435.0, 2436.0, 2436.25, 2436.6666666666665, 2440.0, 2442.6666666666665, 2443.3333333333335, 2445.0, 2448.8888888888887, 2450.0, 2450.5714285714284, 2450.909090909091, 2452.0, 2455.0, 2456.4285714285716, 2458.214285714286, 2459.090909090909, 2460.0, 2460.6666666666665, 2462.0, 2462.5, 2465.0, 2466.6666666666665, 2470.0, 2472.222222222222, 2473.3333333333335, 2474.0, 2474.285714285714, 2475.0, 2475.3846153846152, 2475.862068965517, 2476.6666666666665, 2477.1428571428573, 2478.0, 2480.0, 2487.777777777778, 2490.0, 2491.6666666666665, 2492.0, 2492.6315789473683, 2493.3333333333335, 2493.75, 2493.846153846154, 2495.0, 2500.0, 2504.285714285714, 2505.0, 2506.6666666666665, 2507.5, 2508.235294117647, 2510.0, 2510.909090909091, 2515.0, 2518.3333333333335, 2520.0, 2524.0, 2525.0, 2527.5, 2527.8260869565215, 2530.0, 2532.5, 2533.3333333333335, 2534.0, 2535.0, 2535.714285714286, 2537.5, 2538.0, 2539.4444444444443, 2540.0, 2545.0, 2545.714285714286, 2549.0476190476193, 2550.0, 2553.3333333333335, 2554.285714285714, 2555.0, 2556.3636363636365, 2556.6666666666665, 2560.0, 2561.176470588235, 2561.818181818182, 2565.0, 2565.5555555555557, 2566.6666666666665, 2570.0, 2571.5151515151515, 2573.3333333333335, 2575.0, 2580.0, 2581.25, 2582.5, 2583.3333333333335, 2583.529411764706, 2585.0, 2590.0, 2593.3333333333335, 2595.0, 2595.714285714286, 2596.6666666666665, 2598.0, 2600.0, 2600.4166666666665, 2602.6666666666665, 2603.3333333333335, 2605.0, 2605.217391304348, 2607.5, 2610.0, 2611.6666666666665, 2612.6315789473683, 2615.0, 2616.3636363636365, 2620.0, 2620.714285714286, 2622.222222222222, 2622.5, 2627.8947368421054, 2630.0, 2631.1111111111113, 2632.0, 2632.7272727272725, 2633.75, 2635.0, 2636.0, 2636.6666666666665, 2637.1428571428573, 2640.0, 2645.0, 2646.6666666666665, 2647.777777777778, 2648.5714285714284, 2648.75, 2650.0, 2652.4137931034484, 2655.0, 2656.6666666666665, 2660.0, 2661.875, 2662.9032258064517, 2663.3333333333335, 2665.0, 2667.5, 2670.0, 2673.75, 2675.0, 2675.714285714286, 2678.0, 2680.0, 2685.0, 2686.0, 2687.5, 2690.0, 2693.3333333333335, 2695.0, 2696.6666666666665, 2700.0, 2702.3529411764707, 2705.0, 2706.6666666666665, 2709.230769230769, 2710.0, 2715.0, 2720.0, 2725.0, 2730.0, 2736.6666666666665, 2740.0, 2741.6666666666665, 2743.3333333333335, 2744.0, 2747.3333333333335, 2750.0, 2751.6666666666665, 2754.285714285714, 2755.0, 2756.923076923077, 2760.0, 2763.3333333333335, 2765.0, 2770.0, 2780.0, 2782.0, 2789.032258064516, 2790.0, 2797.5757575757575, 2800.0, 2805.0, 2808.3333333333335, 2808.8888888888887, 2810.0, 2810.4347826086955, 2813.3333333333335, 2815.0, 2820.0, 2825.714285714286, 2826.6666666666665, 2830.0, 2835.0, 2837.1428571428573, 2838.0, 2840.0, 2843.3333333333335, 2845.0, 2846.6666666666665, 2850.0, 2851.1111111111113, 2852.5, 2852.7272727272725, 2857.5, 2860.0, 2862.5, 2865.0, 2870.0, 2877.5, 2880.0, 2884.0, 2885.0, 2890.0, 2891.176470588235, 2895.0, 2900.0, 2901.6, 2910.0, 2913.3333333333335, 2916.0, 2919.0, 2920.0, 2930.0, 2940.0, 2945.0, 2950.0, 2950.909090909091, 2960.0, 2965.0, 2970.0, 2973.157894736842, 2975.0, 2980.0, 2990.0, 2995.0, 2996.6666666666665, 3000.0, 3002.0, 3005.0, 3010.0, 3014.285714285714, 3016.6666666666665, 3026.6666666666665, 3030.0, 3032.0, 3033.3333333333335, 3035.0, 3039.285714285714, 3040.0, 3044.1666666666665, 3050.0, 3056.4285714285716, 3056.923076923077, 3058.5714285714284, 3060.0, 3062.222222222222, 3064.1935483870966, 3070.0, 3072.5925925925926, 3072.6315789473683, 3073.3333333333335, 3075.0, 3075.294117647059, 3075.9375, 3080.0, 3082.5, 3084.8, 3090.0, 3096.6666666666665, 3097.777777777778, 3098.5714285714284, 3100.0, 3101.1111111111113, 3105.714285714286, 3110.0, 3115.0, 3120.0, 3120.5882352941176, 3122.5, 3130.0, 3131.6666666666665, 3140.0, 3150.0, 3152.5, 3160.0, 3163.3333333333335, 3165.0, 3170.0, 3180.0, 3185.0, 3185.4545454545455, 3190.0, 3191.4285714285716, 3195.0, 3196.6666666666665, 3200.0, 3201.1111111111113, 3210.0, 3213.3333333333335, 3220.0, 3230.0, 3230.909090909091, 3231.0, 3231.25, 3235.0, 3240.0, 3241.904761904762, 3244.0, 3247.5, 3250.0, 3253.3333333333335, 3260.0, 3260.909090909091, 3270.0, 3278.0, 3280.0, 3290.0, 3292.5, 3296.0, 3299.4444444444443, 3300.0, 3306.6666666666665, 3313.3333333333335, 3313.684210526316, 3317.8947368421054, 3320.0, 3325.714285714286, 3330.0, 3332.6315789473683, 3332.7272727272725, 3340.0, 3345.0, 3346.6666666666665, 3350.0, 3360.0, 3366.6666666666665, 3370.0, 3373.3333333333335, 3375.0, 3380.0, 3388.5714285714284, 3390.0, 3396.923076923077, 3400.0, 3410.0, 3420.0, 3426.6666666666665, 3430.0, 3440.0, 3446.6666666666665, 3450.0, 3452.0, 3470.0, 3473.684210526316, 3475.0, 3480.0, 3490.0, 3495.0, 3500.0, 3510.0, 3515.0, 3515.8333333333335, 3517.1428571428573, 3520.0, 3522.8571428571427, 3530.0, 3540.0, 3546.6666666666665, 3550.0, 3550.6666666666665, 3555.0, 3560.0, 3562.0, 3562.5, 3565.714285714286, 3580.0, 3582.0, 3590.0, 3600.0, 3603.3333333333335, 3623.75, 3643.3333333333335, 3654.0, 3670.0, 3684.0, 3690.0, 3693.3333333333335, 3702.8571428571427, 3720.0, 3728.0, 3755.0, 3797.1428571428573, 3800.0, 3835.1724137931033, 3848.0, 3856.8, 3864.4444444444443, 3880.0, 3886.6666666666665, 3900.0, 3910.0, 3920.0, 3925.0, 3945.0, 3950.0, 3952.0, 3956.0, 3960.0, 3964.0, 3985.0, 4005.0, 4025.0, 4050.0, 4100.0, 4120.0, 4143.076923076923, 4160.0, 4190.0, 4245.0, 4250.0, 4265.0, 4300.0, 4330.0, 4331.428571428572, 4440.0, 4460.0, 4463.333333333333, 4468.333333333333, 4632.0, 4688.571428571428, 4706.086956521739, 4760.0, 5000.0, 5290.0, 5340.0, 5446.666666666667]\n",
      "CH_CNT =  [1, 2, 3, 4]\n",
      "PRG_CNT =  [1, 2, 3, 4, 5, 6, 7, 8, 9, 10, 11, 12, 13, 14, 15, 16, 17, 18, 19, 20, 21, 22, 23, 24, 25, 26, 27, 28, 30, 32, 33, 34, 35, 36, 42, 55, 60, 63, 89]\n",
      "DEV_CNT =  [1, 2, 3, 4, 5, 6, 7]\n"
     ]
    }
   ],
   "source": [
    "# 변수 생성(Feature Extraction) (예시)\n",
    "#   (1) 고객별 서비스 가입 이력 수\n",
    "#   (2) 고객별 서비스 가입 이력 상품 수\n",
    "#   (3) 고객별 시청 건수 (1시간 단위)\n",
    "#   (4) 고객별 시청 총 시간\n",
    "#   (5) 고객별 시청 평균 시간\n",
    "#   (6) 고객별 시청 채널 수\n",
    "#   (7) 고객별 시청 프로그램 수\n",
    "#   (8) 고객별 시청 디바이스 수\n",
    "\n",
    "# (1) 고객별 서비스 가입 이력 수\n",
    "df_feature_1 = df_service.groupby(by='uno', as_index=False).registerdate.count()\n",
    "df_feature_1.rename(columns={'registerdate':'REG_CNT'}, inplace=True)\n",
    "print('REG_CNT = ', sorted(df_feature_1.REG_CNT.unique().tolist()))\n",
    "#print('REG_CNT = ', df_feature_1.REG_CNT.value_counts())\n",
    "\n",
    "# (2) 고객별 서비스 가입 이력 상품 수\n",
    "df_feature_2 = df_service[['uno','productcode']]\n",
    "df_feature_2 = df_feature_2.drop_duplicates() # 고객별 동일 상품 제거\n",
    "df_feature_2 = df_feature_2.groupby(by='uno', as_index=False).productcode.count()\n",
    "df_feature_2.rename(columns={'productcode':'PRD_CNT'}, inplace=True)\n",
    "print('PRD_CNT = ', sorted(df_feature_2.PRD_CNT.unique().tolist()))\n",
    "#print('PRD_CNT = ', df_feature_2.PRD_CNT.value_counts())\n",
    "\n",
    "# (3) 고객별 시청 건수 (1시간 단위)\n",
    "df_feature_3 = df_bookmark.groupby(by='uno', as_index=False).dates.count()\n",
    "df_feature_3.rename(columns={'dates':'BM_CNT'}, inplace=True)\n",
    "\n",
    "print('BM_CNT = ', sorted(df_feature_3.BM_CNT.unique().tolist()))\n",
    "#print('BM_CNT = ', df_feature_3.BM_CNT.value_counts())\n",
    "\n",
    "# (4) 고객별 시청 총 시간\n",
    "df_feature_4 = df_bookmark.groupby(by='uno', as_index=False).viewtime.sum()\n",
    "df_feature_4.rename(columns={'viewtime':'VT_TOT'}, inplace=True)\n",
    "print('VT_TOT = ', sorted(df_feature_4.VT_TOT.unique().tolist()))\n",
    "#print('VT_TOT = ', df_feature_4.VT_TOT.value_counts())\n",
    "\n",
    "# (5) 고객별 시청 평균 시간\n",
    "df_feature_5 = df_bookmark.groupby(by='uno', as_index=False).viewtime.mean()\n",
    "df_feature_5.rename(columns={'viewtime':'VT_AVG'}, inplace=True)\n",
    "print('VT_AVG = ', sorted(df_feature_5.VT_AVG.unique().tolist()))\n",
    "#print('VT_AVG = ', df_feature_5.VT_AVG.value_counts())\n",
    "\n",
    "# (6) 고객별 시청 채널 수\n",
    "df_feature_6 = df_bookmark[['uno','channeltype']]\n",
    "df_feature_6 = df_feature_6.drop_duplicates() # 고객별 동일 채널 제거\n",
    "df_feature_6 = df_feature_6.groupby(by='uno', as_index=False).channeltype.count()\n",
    "df_feature_6.rename(columns={'channeltype':'CH_CNT'}, inplace=True)\n",
    "print('CH_CNT = ', sorted(df_feature_6.CH_CNT.unique().tolist()))\n",
    "#print('CH_CNT = ', df_feature_6.CH_CNT.value_counts())\n",
    "\n",
    "# (7) 고객별 시청 프로그램 수\n",
    "df_feature_7 = df_bookmark[['uno','programid']]\n",
    "df_feature_7 = df_feature_7.drop_duplicates() # 고객별 동일 프로그램 제거\n",
    "df_feature_7 = df_feature_7.groupby(by='uno', as_index=False).programid.count()\n",
    "df_feature_7.rename(columns={'programid':'PRG_CNT'}, inplace=True)\n",
    "print('PRG_CNT = ', sorted(df_feature_7.PRG_CNT.unique().tolist()))\n",
    "#print('PRG_CNT = ', df_feature_7.PRG_CNT.value_counts())\n",
    "\n",
    "# (8) 고객별 시청 디바이스 수\n",
    "df_feature_8 = df_bookmark[['uno','devicetype']]\n",
    "df_feature_8 = df_feature_8.drop_duplicates() # 고객별 동일 프로그램 제거\n",
    "df_feature_8 = df_feature_8.groupby(by='uno', as_index=False).devicetype.count()\n",
    "df_feature_8.rename(columns={'devicetype':'DEV_CNT'}, inplace=True)\n",
    "print('DEV_CNT = ', sorted(df_feature_8.DEV_CNT.unique().tolist()))\n",
    "#print('DEV_CNT = ', df_feature_8.DEV_CNT.value_counts())"
   ]
  },
  {
   "cell_type": "code",
   "execution_count": 19,
   "metadata": {
    "colab": {
     "base_uri": "https://localhost:8080/"
    },
    "executionInfo": {
     "elapsed": 217,
     "status": "ok",
     "timestamp": 1624877304448,
     "user": {
      "displayName": "neo Kim",
      "photoUrl": "https://lh3.googleusercontent.com/a-/AOh14GgWQvWV5JkiXORXRjJv2qrXP7Wjjt7dwd1NNozs=s64",
      "userId": "11635445716711956826"
     },
     "user_tz": -540
    },
    "id": "ZmROkJwo_bib",
    "outputId": "1918958c-93a4-4e99-cf40-dcf8a4623c32"
   },
   "outputs": [
    {
     "name": "stdout",
     "output_type": "stream",
     "text": [
      "df_feature_1 =  69145\n",
      "df_feature_2 =  69145\n",
      "df_feature_3 =  43608\n",
      "df_feature_4 =  43608\n",
      "df_feature_5 =  43608\n",
      "df_feature_6 =  43608\n",
      "df_feature_7 =  43608\n",
      "df_feature_8 =  43608\n"
     ]
    }
   ],
   "source": [
    "print('df_feature_1 = ', df_feature_1.shape[0])\n",
    "print('df_feature_2 = ', df_feature_2.shape[0])\n",
    "print('df_feature_3 = ', df_feature_3.shape[0])\n",
    "print('df_feature_4 = ', df_feature_4.shape[0])\n",
    "print('df_feature_5 = ', df_feature_5.shape[0])\n",
    "print('df_feature_6 = ', df_feature_6.shape[0])\n",
    "print('df_feature_7 = ', df_feature_7.shape[0])\n",
    "print('df_feature_8 = ', df_feature_8.shape[0])"
   ]
  },
  {
   "cell_type": "code",
   "execution_count": 20,
   "metadata": {
    "executionInfo": {
     "elapsed": 613,
     "status": "ok",
     "timestamp": 1624877313440,
     "user": {
      "displayName": "neo Kim",
      "photoUrl": "https://lh3.googleusercontent.com/a-/AOh14GgWQvWV5JkiXORXRjJv2qrXP7Wjjt7dwd1NNozs=s64",
      "userId": "11635445716711956826"
     },
     "user_tz": -540
    },
    "id": "BodKNdsAc0a8"
   },
   "outputs": [],
   "source": [
    "# 해지 예측 대상 서비스에 생성한 변수 연결\n",
    "df_svc_target = pd.merge(df_svc_target, df_feature_1, on='uno', how='left')\n",
    "df_svc_target = pd.merge(df_svc_target, df_feature_2, on='uno', how='left')\n",
    "df_svc_target = pd.merge(df_svc_target, df_feature_3, on='uno', how='left')\n",
    "df_svc_target = pd.merge(df_svc_target, df_feature_4, on='uno', how='left')\n",
    "df_svc_target = pd.merge(df_svc_target, df_feature_5, on='uno', how='left')\n",
    "df_svc_target = pd.merge(df_svc_target, df_feature_6, on='uno', how='left')\n",
    "df_svc_target = pd.merge(df_svc_target, df_feature_7, on='uno', how='left')\n",
    "df_svc_target = pd.merge(df_svc_target, df_feature_8, on='uno', how='left')"
   ]
  },
  {
   "cell_type": "code",
   "execution_count": 21,
   "metadata": {
    "executionInfo": {
     "elapsed": 206,
     "status": "ok",
     "timestamp": 1624877319909,
     "user": {
      "displayName": "neo Kim",
      "photoUrl": "https://lh3.googleusercontent.com/a-/AOh14GgWQvWV5JkiXORXRjJv2qrXP7Wjjt7dwd1NNozs=s64",
      "userId": "11635445716711956826"
     },
     "user_tz": -540
    },
    "id": "ZaIiKPFvFM7f"
   },
   "outputs": [],
   "source": [
    "# 추가 생성 컬럼들의 결측치 처리\n",
    "df_svc_target = df_svc_target.fillna(0)\n",
    "df_svc_target = df_svc_target.astype({'BM_CNT':'int', 'VT_TOT':'int', 'CH_CNT':'int', 'PRG_CNT':'int', 'DEV_CNT':'int'})"
   ]
  },
  {
   "cell_type": "code",
   "execution_count": 22,
   "metadata": {
    "colab": {
     "base_uri": "https://localhost:8080/",
     "height": 887
    },
    "executionInfo": {
     "elapsed": 222,
     "status": "ok",
     "timestamp": 1624877325479,
     "user": {
      "displayName": "neo Kim",
      "photoUrl": "https://lh3.googleusercontent.com/a-/AOh14GgWQvWV5JkiXORXRjJv2qrXP7Wjjt7dwd1NNozs=s64",
      "userId": "11635445716711956826"
     },
     "user_tz": -540
    },
    "id": "TLIyTi7OYKYS",
    "outputId": "808fd60b-fc4d-4944-f96c-25bf49a8bd87"
   },
   "outputs": [
    {
     "name": "stdout",
     "output_type": "stream",
     "text": [
      "<class 'pandas.core.frame.DataFrame'>\n",
      "Int64Index: 69145 entries, 0 to 69144\n",
      "Data columns (total 22 columns):\n",
      " #   Column                Non-Null Count  Dtype         \n",
      "---  ------                --------------  -----         \n",
      " 0   uno                   69145 non-null  object        \n",
      " 1   registerdate          69145 non-null  datetime64[ns]\n",
      " 2   enddate               69145 non-null  datetime64[ns]\n",
      " 3   productcode           69145 non-null  object        \n",
      " 4   pgamount              69145 non-null  float64       \n",
      " 5   chargetypeid          69145 non-null  int64         \n",
      " 6   concurrentwatchcount  69145 non-null  int64         \n",
      " 7   promo_100             69145 non-null  object        \n",
      " 8   coinReceived          69145 non-null  object        \n",
      " 9   Repurchase            69145 non-null  object        \n",
      " 10  devicetypeid          69145 non-null  object        \n",
      " 11  isauth                69145 non-null  object        \n",
      " 12  gender                69145 non-null  object        \n",
      " 13  agegroup              69145 non-null  int64         \n",
      " 14  REG_CNT               69145 non-null  int64         \n",
      " 15  PRD_CNT               69145 non-null  int64         \n",
      " 16  BM_CNT                69145 non-null  int64         \n",
      " 17  VT_TOT                69145 non-null  int64         \n",
      " 18  VT_AVG                69145 non-null  float64       \n",
      " 19  CH_CNT                69145 non-null  int64         \n",
      " 20  PRG_CNT               69145 non-null  int64         \n",
      " 21  DEV_CNT               69145 non-null  int64         \n",
      "dtypes: datetime64[ns](2), float64(2), int64(10), object(8)\n",
      "memory usage: 12.1+ MB\n"
     ]
    },
    {
     "data": {
      "text/html": [
       "<div>\n",
       "<style scoped>\n",
       "    .dataframe tbody tr th:only-of-type {\n",
       "        vertical-align: middle;\n",
       "    }\n",
       "\n",
       "    .dataframe tbody tr th {\n",
       "        vertical-align: top;\n",
       "    }\n",
       "\n",
       "    .dataframe thead th {\n",
       "        text-align: right;\n",
       "    }\n",
       "</style>\n",
       "<table border=\"1\" class=\"dataframe\">\n",
       "  <thead>\n",
       "    <tr style=\"text-align: right;\">\n",
       "      <th></th>\n",
       "      <th>uno</th>\n",
       "      <th>registerdate</th>\n",
       "      <th>enddate</th>\n",
       "      <th>productcode</th>\n",
       "      <th>pgamount</th>\n",
       "      <th>chargetypeid</th>\n",
       "      <th>concurrentwatchcount</th>\n",
       "      <th>promo_100</th>\n",
       "      <th>coinReceived</th>\n",
       "      <th>Repurchase</th>\n",
       "      <th>devicetypeid</th>\n",
       "      <th>isauth</th>\n",
       "      <th>gender</th>\n",
       "      <th>agegroup</th>\n",
       "      <th>REG_CNT</th>\n",
       "      <th>PRD_CNT</th>\n",
       "      <th>BM_CNT</th>\n",
       "      <th>VT_TOT</th>\n",
       "      <th>VT_AVG</th>\n",
       "      <th>CH_CNT</th>\n",
       "      <th>PRG_CNT</th>\n",
       "      <th>DEV_CNT</th>\n",
       "    </tr>\n",
       "  </thead>\n",
       "  <tbody>\n",
       "    <tr>\n",
       "      <th>51000</th>\n",
       "      <td>360ded9f8cb4f87656e78aea375a861f21578c6ed5d094...</td>\n",
       "      <td>2021-03-04 11:27:57</td>\n",
       "      <td>2021-04-04 11:27:57</td>\n",
       "      <td>pk_1489</td>\n",
       "      <td>100.0</td>\n",
       "      <td>134</td>\n",
       "      <td>4</td>\n",
       "      <td>O</td>\n",
       "      <td>X</td>\n",
       "      <td>O</td>\n",
       "      <td>pc</td>\n",
       "      <td>Y</td>\n",
       "      <td>M</td>\n",
       "      <td>30</td>\n",
       "      <td>1</td>\n",
       "      <td>1</td>\n",
       "      <td>20</td>\n",
       "      <td>26250</td>\n",
       "      <td>1312.500000</td>\n",
       "      <td>1</td>\n",
       "      <td>4</td>\n",
       "      <td>1</td>\n",
       "    </tr>\n",
       "    <tr>\n",
       "      <th>50090</th>\n",
       "      <td>95ba3391c230cf029e27bf09a7d120875e9c77bf3920b6...</td>\n",
       "      <td>2021-03-11 22:41:53</td>\n",
       "      <td>2021-04-11 22:41:53</td>\n",
       "      <td>pk_2025</td>\n",
       "      <td>100.0</td>\n",
       "      <td>151</td>\n",
       "      <td>1</td>\n",
       "      <td>O</td>\n",
       "      <td>X</td>\n",
       "      <td>X</td>\n",
       "      <td>android</td>\n",
       "      <td>Y</td>\n",
       "      <td>M</td>\n",
       "      <td>25</td>\n",
       "      <td>1</td>\n",
       "      <td>1</td>\n",
       "      <td>9</td>\n",
       "      <td>6070</td>\n",
       "      <td>674.444444</td>\n",
       "      <td>1</td>\n",
       "      <td>1</td>\n",
       "      <td>1</td>\n",
       "    </tr>\n",
       "    <tr>\n",
       "      <th>8737</th>\n",
       "      <td>4564a1bb3d664a325924760b16a51ab6b2c5f22da27d51...</td>\n",
       "      <td>2021-03-12 05:29:32</td>\n",
       "      <td>2021-04-12 05:29:32</td>\n",
       "      <td>pk_1488</td>\n",
       "      <td>10900.0</td>\n",
       "      <td>132</td>\n",
       "      <td>2</td>\n",
       "      <td>X</td>\n",
       "      <td>X</td>\n",
       "      <td>O</td>\n",
       "      <td>pc</td>\n",
       "      <td>Y</td>\n",
       "      <td>M</td>\n",
       "      <td>45</td>\n",
       "      <td>1</td>\n",
       "      <td>1</td>\n",
       "      <td>65</td>\n",
       "      <td>80090</td>\n",
       "      <td>1232.153846</td>\n",
       "      <td>1</td>\n",
       "      <td>4</td>\n",
       "      <td>1</td>\n",
       "    </tr>\n",
       "    <tr>\n",
       "      <th>39672</th>\n",
       "      <td>e8a4a41c7b1f98dcffaa4581ce43e2574f91bdf289efda...</td>\n",
       "      <td>2021-03-12 19:39:13</td>\n",
       "      <td>2021-04-12 19:39:13</td>\n",
       "      <td>pk_1488</td>\n",
       "      <td>10900.0</td>\n",
       "      <td>131</td>\n",
       "      <td>2</td>\n",
       "      <td>X</td>\n",
       "      <td>X</td>\n",
       "      <td>O</td>\n",
       "      <td>android</td>\n",
       "      <td>Y</td>\n",
       "      <td>M</td>\n",
       "      <td>35</td>\n",
       "      <td>1</td>\n",
       "      <td>1</td>\n",
       "      <td>6</td>\n",
       "      <td>2330</td>\n",
       "      <td>388.333333</td>\n",
       "      <td>1</td>\n",
       "      <td>1</td>\n",
       "      <td>1</td>\n",
       "    </tr>\n",
       "    <tr>\n",
       "      <th>32816</th>\n",
       "      <td>79f5d952eb5da9d64ce289c5a4a55730e0b76f9549d0ed...</td>\n",
       "      <td>2021-03-06 09:14:10</td>\n",
       "      <td>2021-04-06 09:14:10</td>\n",
       "      <td>pk_1487</td>\n",
       "      <td>100.0</td>\n",
       "      <td>180</td>\n",
       "      <td>1</td>\n",
       "      <td>O</td>\n",
       "      <td>X</td>\n",
       "      <td>O</td>\n",
       "      <td>mobile</td>\n",
       "      <td>Y</td>\n",
       "      <td>F</td>\n",
       "      <td>40</td>\n",
       "      <td>1</td>\n",
       "      <td>1</td>\n",
       "      <td>25</td>\n",
       "      <td>34960</td>\n",
       "      <td>1398.400000</td>\n",
       "      <td>1</td>\n",
       "      <td>6</td>\n",
       "      <td>2</td>\n",
       "    </tr>\n",
       "  </tbody>\n",
       "</table>\n",
       "</div>"
      ],
      "text/plain": [
       "                                                     uno  ... DEV_CNT\n",
       "51000  360ded9f8cb4f87656e78aea375a861f21578c6ed5d094...  ...       1\n",
       "50090  95ba3391c230cf029e27bf09a7d120875e9c77bf3920b6...  ...       1\n",
       "8737   4564a1bb3d664a325924760b16a51ab6b2c5f22da27d51...  ...       1\n",
       "39672  e8a4a41c7b1f98dcffaa4581ce43e2574f91bdf289efda...  ...       1\n",
       "32816  79f5d952eb5da9d64ce289c5a4a55730e0b76f9549d0ed...  ...       2\n",
       "\n",
       "[5 rows x 22 columns]"
      ]
     },
     "execution_count": 22,
     "metadata": {
      "tags": []
     },
     "output_type": "execute_result"
    }
   ],
   "source": [
    "# 최종 분석 대상 데이터\n",
    "df_T = df_svc_target.copy()\n",
    "df_T.info()\n",
    "df_T.sample(5)"
   ]
  },
  {
   "cell_type": "markdown",
   "metadata": {
    "id": "araA9spqnLhv"
   },
   "source": [
    "> ### 4) 상관관계/분포도 확인 "
   ]
  },
  {
   "cell_type": "code",
   "execution_count": 23,
   "metadata": {
    "colab": {
     "base_uri": "https://localhost:8080/",
     "height": 632
    },
    "executionInfo": {
     "elapsed": 575,
     "status": "ok",
     "timestamp": 1624877347332,
     "user": {
      "displayName": "neo Kim",
      "photoUrl": "https://lh3.googleusercontent.com/a-/AOh14GgWQvWV5JkiXORXRjJv2qrXP7Wjjt7dwd1NNozs=s64",
      "userId": "11635445716711956826"
     },
     "user_tz": -540
    },
    "id": "N5tGgofHa0T6",
    "outputId": "47fffa99-450a-4a45-8c0f-8c1f021d166a"
   },
   "outputs": [
    {
     "name": "stdout",
     "output_type": "stream",
     "text": [
      "Repurchase =  ['X', 'O']\n",
      "O    47352\n",
      "X    21793\n",
      "Name: Repurchase, dtype: int64\n",
      "CHURN =  [1, 0]\n",
      "0    47352\n",
      "1    21793\n",
      "Name: CHURN, dtype: int64\n",
      "promo_100\n",
      "coinReceived\n",
      "Repurchase\n",
      "devicetypeid\n",
      "isauth\n",
      "gender\n"
     ]
    },
    {
     "data": {
      "text/html": [
       "<div>\n",
       "<style scoped>\n",
       "    .dataframe tbody tr th:only-of-type {\n",
       "        vertical-align: middle;\n",
       "    }\n",
       "\n",
       "    .dataframe tbody tr th {\n",
       "        vertical-align: top;\n",
       "    }\n",
       "\n",
       "    .dataframe thead th {\n",
       "        text-align: right;\n",
       "    }\n",
       "</style>\n",
       "<table border=\"1\" class=\"dataframe\">\n",
       "  <thead>\n",
       "    <tr style=\"text-align: right;\">\n",
       "      <th></th>\n",
       "      <th>uno</th>\n",
       "      <th>registerdate</th>\n",
       "      <th>enddate</th>\n",
       "      <th>productcode</th>\n",
       "      <th>pgamount</th>\n",
       "      <th>chargetypeid</th>\n",
       "      <th>concurrentwatchcount</th>\n",
       "      <th>promo_100</th>\n",
       "      <th>coinReceived</th>\n",
       "      <th>Repurchase</th>\n",
       "      <th>devicetypeid</th>\n",
       "      <th>isauth</th>\n",
       "      <th>gender</th>\n",
       "      <th>agegroup</th>\n",
       "      <th>REG_CNT</th>\n",
       "      <th>PRD_CNT</th>\n",
       "      <th>BM_CNT</th>\n",
       "      <th>VT_TOT</th>\n",
       "      <th>VT_AVG</th>\n",
       "      <th>CH_CNT</th>\n",
       "      <th>PRG_CNT</th>\n",
       "      <th>DEV_CNT</th>\n",
       "      <th>CHURN</th>\n",
       "    </tr>\n",
       "  </thead>\n",
       "  <tbody>\n",
       "    <tr>\n",
       "      <th>48312</th>\n",
       "      <td>0bb9d12ec9edc8cd492869e8e0f43908a6fa583fefbd04...</td>\n",
       "      <td>2021-03-09 22:55:21</td>\n",
       "      <td>2021-04-09 22:55:21</td>\n",
       "      <td>pk_2025</td>\n",
       "      <td>100.0</td>\n",
       "      <td>151</td>\n",
       "      <td>1</td>\n",
       "      <td>0</td>\n",
       "      <td>1</td>\n",
       "      <td>1</td>\n",
       "      <td>0</td>\n",
       "      <td>1</td>\n",
       "      <td>1</td>\n",
       "      <td>45</td>\n",
       "      <td>1</td>\n",
       "      <td>1</td>\n",
       "      <td>0</td>\n",
       "      <td>0</td>\n",
       "      <td>0.000000</td>\n",
       "      <td>0</td>\n",
       "      <td>0</td>\n",
       "      <td>0</td>\n",
       "      <td>1</td>\n",
       "    </tr>\n",
       "    <tr>\n",
       "      <th>2117</th>\n",
       "      <td>a718607f994750c9953579123be4680c206707d1245914...</td>\n",
       "      <td>2021-03-03 16:27:29</td>\n",
       "      <td>2021-04-03 16:27:29</td>\n",
       "      <td>pk_1487</td>\n",
       "      <td>100.0</td>\n",
       "      <td>180</td>\n",
       "      <td>1</td>\n",
       "      <td>0</td>\n",
       "      <td>1</td>\n",
       "      <td>0</td>\n",
       "      <td>4</td>\n",
       "      <td>1</td>\n",
       "      <td>1</td>\n",
       "      <td>20</td>\n",
       "      <td>1</td>\n",
       "      <td>1</td>\n",
       "      <td>0</td>\n",
       "      <td>0</td>\n",
       "      <td>0.000000</td>\n",
       "      <td>0</td>\n",
       "      <td>0</td>\n",
       "      <td>0</td>\n",
       "      <td>0</td>\n",
       "    </tr>\n",
       "    <tr>\n",
       "      <th>61205</th>\n",
       "      <td>ef6affc6b470fe52f3ee99644191c5e9ac09037c415af9...</td>\n",
       "      <td>2021-03-06 15:33:42</td>\n",
       "      <td>2021-04-06 15:33:42</td>\n",
       "      <td>pk_1487</td>\n",
       "      <td>7900.0</td>\n",
       "      <td>134</td>\n",
       "      <td>1</td>\n",
       "      <td>1</td>\n",
       "      <td>1</td>\n",
       "      <td>0</td>\n",
       "      <td>0</td>\n",
       "      <td>1</td>\n",
       "      <td>1</td>\n",
       "      <td>35</td>\n",
       "      <td>1</td>\n",
       "      <td>1</td>\n",
       "      <td>10</td>\n",
       "      <td>9680</td>\n",
       "      <td>968.000000</td>\n",
       "      <td>1</td>\n",
       "      <td>5</td>\n",
       "      <td>1</td>\n",
       "      <td>0</td>\n",
       "    </tr>\n",
       "    <tr>\n",
       "      <th>66200</th>\n",
       "      <td>035efd71b9b996f421d74a2b312cea71d910cf3adcd7c9...</td>\n",
       "      <td>2021-03-10 00:44:45</td>\n",
       "      <td>2021-04-10 00:44:45</td>\n",
       "      <td>pk_1508</td>\n",
       "      <td>11188.8</td>\n",
       "      <td>140</td>\n",
       "      <td>1</td>\n",
       "      <td>1</td>\n",
       "      <td>1</td>\n",
       "      <td>0</td>\n",
       "      <td>1</td>\n",
       "      <td>0</td>\n",
       "      <td>0</td>\n",
       "      <td>40</td>\n",
       "      <td>1</td>\n",
       "      <td>1</td>\n",
       "      <td>3</td>\n",
       "      <td>4250</td>\n",
       "      <td>1416.666667</td>\n",
       "      <td>1</td>\n",
       "      <td>1</td>\n",
       "      <td>1</td>\n",
       "      <td>0</td>\n",
       "    </tr>\n",
       "    <tr>\n",
       "      <th>43629</th>\n",
       "      <td>3bd960961d5d22aefe879186c24cda8f308f39c7ac07d1...</td>\n",
       "      <td>2021-03-07 03:54:34</td>\n",
       "      <td>2021-04-07 03:54:34</td>\n",
       "      <td>pk_1487</td>\n",
       "      <td>100.0</td>\n",
       "      <td>134</td>\n",
       "      <td>1</td>\n",
       "      <td>0</td>\n",
       "      <td>1</td>\n",
       "      <td>1</td>\n",
       "      <td>4</td>\n",
       "      <td>1</td>\n",
       "      <td>1</td>\n",
       "      <td>25</td>\n",
       "      <td>1</td>\n",
       "      <td>1</td>\n",
       "      <td>2</td>\n",
       "      <td>4120</td>\n",
       "      <td>2060.000000</td>\n",
       "      <td>1</td>\n",
       "      <td>1</td>\n",
       "      <td>1</td>\n",
       "      <td>1</td>\n",
       "    </tr>\n",
       "  </tbody>\n",
       "</table>\n",
       "</div>"
      ],
      "text/plain": [
       "                                                     uno  ... CHURN\n",
       "48312  0bb9d12ec9edc8cd492869e8e0f43908a6fa583fefbd04...  ...     1\n",
       "2117   a718607f994750c9953579123be4680c206707d1245914...  ...     0\n",
       "61205  ef6affc6b470fe52f3ee99644191c5e9ac09037c415af9...  ...     0\n",
       "66200  035efd71b9b996f421d74a2b312cea71d910cf3adcd7c9...  ...     0\n",
       "43629  3bd960961d5d22aefe879186c24cda8f308f39c7ac07d1...  ...     1\n",
       "\n",
       "[5 rows x 23 columns]"
      ]
     },
     "execution_count": 23,
     "metadata": {
      "tags": []
     },
     "output_type": "execute_result"
    }
   ],
   "source": [
    "# Encoding categorical variables to numeric ones\n",
    "\n",
    "# Label 컬럼은 직접 변환\n",
    "print('Repurchase = ', df_T.Repurchase.unique().tolist())\n",
    "print(df_T.Repurchase.value_counts())\n",
    "df_T['CHURN'] = np.where(df_T.Repurchase == 'X', 1, 0)   # 재결제('O') -> Churn Negative(0), 미결제('X') -> Churn Positive(1)\n",
    "print('CHURN = ', df_T.CHURN.unique().tolist())\n",
    "print(df_T.CHURN.value_counts())\n",
    "\n",
    "# 이외 컬럼들은 일괄 자동 변환\n",
    "col_lst = df_T.columns.values.tolist()\n",
    "col_lst.remove('uno')\n",
    "col_lst.remove('productcode')\n",
    "for c in col_lst:\n",
    "    if df_T[c].dtype == 'object':\n",
    "        print(c)\n",
    "        lbl = LabelEncoder()\n",
    "        lbl.fit(list(df_T[c].values))\n",
    "        df_T[c] = lbl.transform(df_T[c].values)\n",
    "df_T.sample(5)"
   ]
  },
  {
   "cell_type": "code",
   "execution_count": 24,
   "metadata": {
    "colab": {
     "base_uri": "https://localhost:8080/",
     "height": 317
    },
    "executionInfo": {
     "elapsed": 500,
     "status": "ok",
     "timestamp": 1624877363267,
     "user": {
      "displayName": "neo Kim",
      "photoUrl": "https://lh3.googleusercontent.com/a-/AOh14GgWQvWV5JkiXORXRjJv2qrXP7Wjjt7dwd1NNozs=s64",
      "userId": "11635445716711956826"
     },
     "user_tz": -540
    },
    "id": "u_tS55vJaN7d",
    "outputId": "ab87aac7-dc26-48af-dc32-d4c9460c7ef0"
   },
   "outputs": [
    {
     "data": {
      "text/html": [
       "<div>\n",
       "<style scoped>\n",
       "    .dataframe tbody tr th:only-of-type {\n",
       "        vertical-align: middle;\n",
       "    }\n",
       "\n",
       "    .dataframe tbody tr th {\n",
       "        vertical-align: top;\n",
       "    }\n",
       "\n",
       "    .dataframe thead th {\n",
       "        text-align: right;\n",
       "    }\n",
       "</style>\n",
       "<table border=\"1\" class=\"dataframe\">\n",
       "  <thead>\n",
       "    <tr style=\"text-align: right;\">\n",
       "      <th></th>\n",
       "      <th>pgamount</th>\n",
       "      <th>chargetypeid</th>\n",
       "      <th>concurrentwatchcount</th>\n",
       "      <th>promo_100</th>\n",
       "      <th>coinReceived</th>\n",
       "      <th>Repurchase</th>\n",
       "      <th>devicetypeid</th>\n",
       "      <th>isauth</th>\n",
       "      <th>gender</th>\n",
       "      <th>agegroup</th>\n",
       "      <th>REG_CNT</th>\n",
       "      <th>PRD_CNT</th>\n",
       "      <th>BM_CNT</th>\n",
       "      <th>VT_TOT</th>\n",
       "      <th>VT_AVG</th>\n",
       "      <th>CH_CNT</th>\n",
       "      <th>PRG_CNT</th>\n",
       "      <th>DEV_CNT</th>\n",
       "      <th>CHURN</th>\n",
       "    </tr>\n",
       "  </thead>\n",
       "  <tbody>\n",
       "    <tr>\n",
       "      <th>count</th>\n",
       "      <td>69145.000000</td>\n",
       "      <td>69145.000000</td>\n",
       "      <td>69145.000000</td>\n",
       "      <td>69145.000000</td>\n",
       "      <td>69145.000000</td>\n",
       "      <td>69145.000000</td>\n",
       "      <td>69145.000000</td>\n",
       "      <td>69145.000000</td>\n",
       "      <td>69145.000000</td>\n",
       "      <td>69145.000000</td>\n",
       "      <td>69145.000000</td>\n",
       "      <td>69145.000000</td>\n",
       "      <td>69145.000000</td>\n",
       "      <td>69145.000000</td>\n",
       "      <td>69145.000000</td>\n",
       "      <td>69145.000000</td>\n",
       "      <td>69145.000000</td>\n",
       "      <td>69145.000000</td>\n",
       "      <td>69145.000000</td>\n",
       "    </tr>\n",
       "    <tr>\n",
       "      <th>mean</th>\n",
       "      <td>5081.745474</td>\n",
       "      <td>146.837255</td>\n",
       "      <td>1.691778</td>\n",
       "      <td>0.484966</td>\n",
       "      <td>0.819900</td>\n",
       "      <td>0.315178</td>\n",
       "      <td>2.251327</td>\n",
       "      <td>0.743394</td>\n",
       "      <td>0.638123</td>\n",
       "      <td>33.425193</td>\n",
       "      <td>1.008142</td>\n",
       "      <td>1.007896</td>\n",
       "      <td>5.959014</td>\n",
       "      <td>6528.766216</td>\n",
       "      <td>730.745662</td>\n",
       "      <td>0.751435</td>\n",
       "      <td>1.537002</td>\n",
       "      <td>0.848926</td>\n",
       "      <td>0.315178</td>\n",
       "    </tr>\n",
       "    <tr>\n",
       "      <th>std</th>\n",
       "      <td>5489.790373</td>\n",
       "      <td>18.873183</td>\n",
       "      <td>1.088627</td>\n",
       "      <td>0.499778</td>\n",
       "      <td>0.384273</td>\n",
       "      <td>0.464590</td>\n",
       "      <td>2.805912</td>\n",
       "      <td>0.436763</td>\n",
       "      <td>0.747176</td>\n",
       "      <td>10.944240</td>\n",
       "      <td>0.096089</td>\n",
       "      <td>0.090451</td>\n",
       "      <td>10.193466</td>\n",
       "      <td>10782.807718</td>\n",
       "      <td>732.290109</td>\n",
       "      <td>0.669008</td>\n",
       "      <td>2.240925</td>\n",
       "      <td>0.830144</td>\n",
       "      <td>0.464590</td>\n",
       "    </tr>\n",
       "    <tr>\n",
       "      <th>min</th>\n",
       "      <td>100.000000</td>\n",
       "      <td>121.000000</td>\n",
       "      <td>1.000000</td>\n",
       "      <td>0.000000</td>\n",
       "      <td>0.000000</td>\n",
       "      <td>0.000000</td>\n",
       "      <td>0.000000</td>\n",
       "      <td>0.000000</td>\n",
       "      <td>0.000000</td>\n",
       "      <td>0.000000</td>\n",
       "      <td>1.000000</td>\n",
       "      <td>1.000000</td>\n",
       "      <td>0.000000</td>\n",
       "      <td>0.000000</td>\n",
       "      <td>0.000000</td>\n",
       "      <td>0.000000</td>\n",
       "      <td>0.000000</td>\n",
       "      <td>0.000000</td>\n",
       "      <td>0.000000</td>\n",
       "    </tr>\n",
       "    <tr>\n",
       "      <th>25%</th>\n",
       "      <td>100.000000</td>\n",
       "      <td>134.000000</td>\n",
       "      <td>1.000000</td>\n",
       "      <td>0.000000</td>\n",
       "      <td>1.000000</td>\n",
       "      <td>0.000000</td>\n",
       "      <td>0.000000</td>\n",
       "      <td>0.000000</td>\n",
       "      <td>0.000000</td>\n",
       "      <td>25.000000</td>\n",
       "      <td>1.000000</td>\n",
       "      <td>1.000000</td>\n",
       "      <td>0.000000</td>\n",
       "      <td>0.000000</td>\n",
       "      <td>0.000000</td>\n",
       "      <td>0.000000</td>\n",
       "      <td>0.000000</td>\n",
       "      <td>0.000000</td>\n",
       "      <td>0.000000</td>\n",
       "    </tr>\n",
       "    <tr>\n",
       "      <th>50%</th>\n",
       "      <td>100.000000</td>\n",
       "      <td>140.000000</td>\n",
       "      <td>1.000000</td>\n",
       "      <td>0.000000</td>\n",
       "      <td>1.000000</td>\n",
       "      <td>0.000000</td>\n",
       "      <td>1.000000</td>\n",
       "      <td>1.000000</td>\n",
       "      <td>0.000000</td>\n",
       "      <td>35.000000</td>\n",
       "      <td>1.000000</td>\n",
       "      <td>1.000000</td>\n",
       "      <td>2.000000</td>\n",
       "      <td>2490.000000</td>\n",
       "      <td>673.181818</td>\n",
       "      <td>1.000000</td>\n",
       "      <td>1.000000</td>\n",
       "      <td>1.000000</td>\n",
       "      <td>0.000000</td>\n",
       "    </tr>\n",
       "    <tr>\n",
       "      <th>75%</th>\n",
       "      <td>10900.000000</td>\n",
       "      <td>151.000000</td>\n",
       "      <td>2.000000</td>\n",
       "      <td>1.000000</td>\n",
       "      <td>1.000000</td>\n",
       "      <td>1.000000</td>\n",
       "      <td>4.000000</td>\n",
       "      <td>1.000000</td>\n",
       "      <td>1.000000</td>\n",
       "      <td>40.000000</td>\n",
       "      <td>1.000000</td>\n",
       "      <td>1.000000</td>\n",
       "      <td>8.000000</td>\n",
       "      <td>8450.000000</td>\n",
       "      <td>1290.000000</td>\n",
       "      <td>1.000000</td>\n",
       "      <td>2.000000</td>\n",
       "      <td>1.000000</td>\n",
       "      <td>1.000000</td>\n",
       "    </tr>\n",
       "    <tr>\n",
       "      <th>max</th>\n",
       "      <td>36948.800000</td>\n",
       "      <td>190.000000</td>\n",
       "      <td>4.000000</td>\n",
       "      <td>1.000000</td>\n",
       "      <td>1.000000</td>\n",
       "      <td>1.000000</td>\n",
       "      <td>10.000000</td>\n",
       "      <td>1.000000</td>\n",
       "      <td>2.000000</td>\n",
       "      <td>120.000000</td>\n",
       "      <td>7.000000</td>\n",
       "      <td>4.000000</td>\n",
       "      <td>359.000000</td>\n",
       "      <td>175000.000000</td>\n",
       "      <td>5446.666667</td>\n",
       "      <td>4.000000</td>\n",
       "      <td>89.000000</td>\n",
       "      <td>7.000000</td>\n",
       "      <td>1.000000</td>\n",
       "    </tr>\n",
       "  </tbody>\n",
       "</table>\n",
       "</div>"
      ],
      "text/plain": [
       "           pgamount  chargetypeid  ...       DEV_CNT         CHURN\n",
       "count  69145.000000  69145.000000  ...  69145.000000  69145.000000\n",
       "mean    5081.745474    146.837255  ...      0.848926      0.315178\n",
       "std     5489.790373     18.873183  ...      0.830144      0.464590\n",
       "min      100.000000    121.000000  ...      0.000000      0.000000\n",
       "25%      100.000000    134.000000  ...      0.000000      0.000000\n",
       "50%      100.000000    140.000000  ...      1.000000      0.000000\n",
       "75%    10900.000000    151.000000  ...      1.000000      1.000000\n",
       "max    36948.800000    190.000000  ...      7.000000      1.000000\n",
       "\n",
       "[8 rows x 19 columns]"
      ]
     },
     "execution_count": 24,
     "metadata": {
      "tags": []
     },
     "output_type": "execute_result"
    }
   ],
   "source": [
    "# 기술 통계 현황 확인\n",
    "df_T.describe()"
   ]
  },
  {
   "cell_type": "code",
   "execution_count": 25,
   "metadata": {
    "colab": {
     "base_uri": "https://localhost:8080/",
     "height": 715
    },
    "executionInfo": {
     "elapsed": 2772,
     "status": "ok",
     "timestamp": 1624877374679,
     "user": {
      "displayName": "neo Kim",
      "photoUrl": "https://lh3.googleusercontent.com/a-/AOh14GgWQvWV5JkiXORXRjJv2qrXP7Wjjt7dwd1NNozs=s64",
      "userId": "11635445716711956826"
     },
     "user_tz": -540
    },
    "id": "RTtqtleCnUZ6",
    "outputId": "80f20217-15d7-46b8-959e-8280a013ad5f"
   },
   "outputs": [
    {
     "data": {
      "text/plain": [
       "<matplotlib.axes._subplots.AxesSubplot at 0x7f6ddd96b310>"
      ]
     },
     "execution_count": 25,
     "metadata": {
      "tags": []
     },
     "output_type": "execute_result"
    },
    {
     "data": {
      "image/png": "[encoded data removed]",
      "text/plain": [
       "<Figure size 1296x720 with 2 Axes>"
      ]
     },
     "metadata": {
      "needs_background": "light",
      "tags": []
     },
     "output_type": "display_data"
    }
   ],
   "source": [
    "# Basic correlation plot to understand which features are correlated\n",
    "import matplotlib.pyplot as plt\n",
    "import seaborn as sns\n",
    "\n",
    "%matplotlib inline\n",
    "\n",
    "plt.figure(figsize=(18,10))\n",
    "sns.heatmap(df_T.corr(), annot=True)   "
   ]
  },
  {
   "cell_type": "code",
   "execution_count": 26,
   "metadata": {
    "colab": {
     "base_uri": "https://localhost:8080/",
     "height": 934
    },
    "executionInfo": {
     "elapsed": 3274,
     "status": "ok",
     "timestamp": 1624877384315,
     "user": {
      "displayName": "neo Kim",
      "photoUrl": "https://lh3.googleusercontent.com/a-/AOh14GgWQvWV5JkiXORXRjJv2qrXP7Wjjt7dwd1NNozs=s64",
      "userId": "11635445716711956826"
     },
     "user_tz": -540
    },
    "id": "2zhnder4nbSF",
    "outputId": "08d90443-fbf2-4b6a-cbcf-d42e6afb09ac"
   },
   "outputs": [
    {
     "data": {
      "image/png": "[encoded data removed]",
      "text/plain": [
       "<Figure size 1440x1152 with 20 Axes>"
      ]
     },
     "metadata": {
      "needs_background": "light",
      "tags": []
     },
     "output_type": "display_data"
    }
   ],
   "source": [
    "# This also helps in finding number of counts in each column\n",
    "df_T.hist(figsize=(20,16))\n",
    "plt.show()  # showing the charts of different columns"
   ]
  },
  {
   "cell_type": "markdown",
   "metadata": {
    "id": "aJG3H-80BtFI"
   },
   "source": [
    "## **4. 모델 훈련**"
   ]
  },
  {
   "cell_type": "markdown",
   "metadata": {
    "id": "FWNed8V7uHyb"
   },
   "source": [
    "> ### 1) Train/Test 데이터 설정 "
   ]
  },
  {
   "cell_type": "code",
   "execution_count": null,
   "metadata": {
    "id": "c6yMZAFFdBd9"
   },
   "outputs": [],
   "source": [
    "# 베이스라인 모델에서는 특정 월정액만 기준으로 진행 \n",
    "# 실제 경연에서는 전체 월정액 대상\n",
    "#df_T['productcode'].value_counts()\n",
    "#df_T = df_T.loc[(df_T['productcode'] == 55)] # productcode = pk_1489"
   ]
  },
  {
   "cell_type": "code",
   "execution_count": 27,
   "metadata": {
    "executionInfo": {
     "elapsed": 210,
     "status": "ok",
     "timestamp": 1624877411042,
     "user": {
      "displayName": "neo Kim",
      "photoUrl": "https://lh3.googleusercontent.com/a-/AOh14GgWQvWV5JkiXORXRjJv2qrXP7Wjjt7dwd1NNozs=s64",
      "userId": "11635445716711956826"
     },
     "user_tz": -540
    },
    "id": "9ATDi3HqFWF0"
   },
   "outputs": [],
   "source": [
    "# Train/Test 데이터 분리 \n",
    "X = df_T.drop([\"uno\",\"registerdate\",\"enddate\",\"productcode\",\"Repurchase\",\"CHURN\"], axis=1)\n",
    "#X = df_T.drop([\"registerdate\",\"enddate\",\"productcode\",\"Repurchase\",\"CHURN\"], axis=1)\n",
    "y = df_T[\"CHURN\"]\n",
    "\n",
    "X_train, X_test, y_train, y_test = train_test_split(X, y, test_size = 0.2, random_state = 111)"
   ]
  },
  {
   "cell_type": "code",
   "execution_count": 28,
   "metadata": {
    "colab": {
     "base_uri": "https://localhost:8080/"
    },
    "executionInfo": {
     "elapsed": 211,
     "status": "ok",
     "timestamp": 1624877417808,
     "user": {
      "displayName": "neo Kim",
      "photoUrl": "https://lh3.googleusercontent.com/a-/AOh14GgWQvWV5JkiXORXRjJv2qrXP7Wjjt7dwd1NNozs=s64",
      "userId": "11635445716711956826"
     },
     "user_tz": -540
    },
    "id": "JHPMpyfdptxv",
    "outputId": "1a63ed27-342b-4a18-e9da-44d0b4bef77f"
   },
   "outputs": [
    {
     "name": "stdout",
     "output_type": "stream",
     "text": [
      "Traing X     =  55316 , Training Y   =  55316\n",
      "Validation X =  13829 , Validation Y =  13829\n"
     ]
    }
   ],
   "source": [
    "print('Traing X     = ', len(X_train), ', Training Y   = ', len(y_train))\n",
    "print('Validation X = ', len(X_test),  ', Validation Y = ', len(y_test))"
   ]
  },
  {
   "cell_type": "markdown",
   "metadata": {
    "id": "78MZTHs0uwwt"
   },
   "source": [
    "> ### 2) 모델 생성 "
   ]
  },
  {
   "cell_type": "code",
   "execution_count": 29,
   "metadata": {
    "colab": {
     "base_uri": "https://localhost:8080/"
    },
    "executionInfo": {
     "elapsed": 3622,
     "status": "ok",
     "timestamp": 1624877440630,
     "user": {
      "displayName": "neo Kim",
      "photoUrl": "https://lh3.googleusercontent.com/a-/AOh14GgWQvWV5JkiXORXRjJv2qrXP7Wjjt7dwd1NNozs=s64",
      "userId": "11635445716711956826"
     },
     "user_tz": -540
    },
    "id": "DScJwUOYYc6E",
    "outputId": "4ff6b59d-1db0-47fe-ac0c-25bef2f3b04d"
   },
   "outputs": [
    {
     "data": {
      "text/plain": [
       "XGBClassifier(base_score=0.5, booster='gbtree', colsample_bylevel=1,\n",
       "              colsample_bynode=1, colsample_bytree=1, eval_metric='aucpr',\n",
       "              gamma=0, learning_rate=0.3, max_delta_step=0, max_depth=3,\n",
       "              min_child_weight=1, missing=None, n_estimators=100, n_jobs=1,\n",
       "              nthread=None, objective='binary:logistic', random_state=1,\n",
       "              reg_alpha=0, reg_lambda=1, scale_pos_weight=1, seed=None,\n",
       "              silent=None, subsample=1, use_label_encoder=False, verbosity=1)"
      ]
     },
     "execution_count": 29,
     "metadata": {
      "tags": []
     },
     "output_type": "execute_result"
    }
   ],
   "source": [
    "###\n",
    "###        모델 학습 시 검증(평가) 지표 설정\n",
    "###           ㅇ 본 경연의 평가 지표\n",
    "###              - 1 순위 : F1\n",
    "###              - 2 순위 : Accuracy\n",
    "###\n",
    "\n",
    "from sklearn.model_selection import RandomizedSearchCV, GridSearchCV\n",
    "from xgboost import XGBClassifier\n",
    "\n",
    "#got the best parameters above\n",
    "xgb = XGBClassifier(learning_rate = 0.3, max_depth = 3, n_estimators = 100,\n",
    "                    eval_metric = 'aucpr', \n",
    "                    use_label_encoder=False, \n",
    "                    objective = 'binary:logistic', random_state = 1)\n",
    "xgb.fit(X_train, y_train)"
   ]
  },
  {
   "cell_type": "markdown",
   "metadata": {
    "id": "14Y-O40gu4oN"
   },
   "source": [
    "> ### 3) 학습 모델 예측력 검증"
   ]
  },
  {
   "cell_type": "code",
   "execution_count": 30,
   "metadata": {
    "colab": {
     "base_uri": "https://localhost:8080/"
    },
    "executionInfo": {
     "elapsed": 246,
     "status": "ok",
     "timestamp": 1624877484472,
     "user": {
      "displayName": "neo Kim",
      "photoUrl": "https://lh3.googleusercontent.com/a-/AOh14GgWQvWV5JkiXORXRjJv2qrXP7Wjjt7dwd1NNozs=s64",
      "userId": "11635445716711956826"
     },
     "user_tz": -540
    },
    "id": "qpa9sqJcYhkO",
    "outputId": "7373ced5-3513-49e9-aec9-3241e08a5ce2"
   },
   "outputs": [
    {
     "name": "stdout",
     "output_type": "stream",
     "text": [
      "              precision    recall  f1-score   support\n",
      "\n",
      "           0       0.73      0.95      0.82      9545\n",
      "           1       0.65      0.20      0.31      4284\n",
      "\n",
      "    accuracy                           0.72     13829\n",
      "   macro avg       0.69      0.58      0.57     13829\n",
      "weighted avg       0.70      0.72      0.66     13829\n",
      "\n"
     ]
    }
   ],
   "source": [
    "y_pred = xgb.predict(X_test)\n",
    "\n",
    "# printing the classification report\n",
    "from sklearn.metrics import classification_report\n",
    "print(classification_report(y_test, y_pred))"
   ]
  },
  {
   "cell_type": "markdown",
   "metadata": {
    "id": "RL5EgGNBu9x7"
   },
   "source": [
    "> ### 4) 학습 모델 평가(Validation) "
   ]
  },
  {
   "cell_type": "markdown",
   "metadata": {
    "id": "14mID44au34B"
   },
   "source": []
  },
  {
   "cell_type": "code",
   "execution_count": 31,
   "metadata": {
    "colab": {
     "base_uri": "https://localhost:8080/"
    },
    "executionInfo": {
     "elapsed": 222,
     "status": "ok",
     "timestamp": 1624877510372,
     "user": {
      "displayName": "neo Kim",
      "photoUrl": "https://lh3.googleusercontent.com/a-/AOh14GgWQvWV5JkiXORXRjJv2qrXP7Wjjt7dwd1NNozs=s64",
      "userId": "11635445716711956826"
     },
     "user_tz": -540
    },
    "id": "5Wqe3yrXYxD6",
    "outputId": "feb76896-001e-4bd7-e9da-42f8b5c34a28"
   },
   "outputs": [
    {
     "data": {
      "text/plain": [
       "array([[9082,  463],\n",
       "       [3414,  870]])"
      ]
     },
     "execution_count": 31,
     "metadata": {
      "tags": []
     },
     "output_type": "execute_result"
    }
   ],
   "source": [
    "# confusion matrics to find precision and recall\n",
    "from sklearn.metrics import confusion_matrix\n",
    "confusion_matrix(y_test, y_pred)"
   ]
  },
  {
   "cell_type": "markdown",
   "metadata": {
    "id": "HCwN1unUu9Vw"
   },
   "source": []
  },
  {
   "cell_type": "code",
   "execution_count": 32,
   "metadata": {
    "colab": {
     "base_uri": "https://localhost:8080/"
    },
    "executionInfo": {
     "elapsed": 344,
     "status": "ok",
     "timestamp": 1624877555967,
     "user": {
      "displayName": "neo Kim",
      "photoUrl": "https://lh3.googleusercontent.com/a-/AOh14GgWQvWV5JkiXORXRjJv2qrXP7Wjjt7dwd1NNozs=s64",
      "userId": "11635445716711956826"
     },
     "user_tz": -540
    },
    "id": "h7qwyhmcYxHa",
    "outputId": "d2044cb5-e9cc-4d23-a77d-60b6f1753844"
   },
   "outputs": [
    {
     "name": "stdout",
     "output_type": "stream",
     "text": [
      "accuracy 0.7196471183744305\n",
      "precision 0.6526631657914479\n",
      "recall 0.2030812324929972\n",
      "f1 0.30977390065871463\n",
      "              precision    recall  f1-score   support\n",
      "\n",
      "           0       0.73      0.95      0.82      9545\n",
      "           1       0.65      0.20      0.31      4284\n",
      "\n",
      "    accuracy                           0.72     13829\n",
      "   macro avg       0.69      0.58      0.57     13829\n",
      "weighted avg       0.70      0.72      0.66     13829\n",
      "\n",
      "[[9082  463]\n",
      " [3414  870]]\n"
     ]
    }
   ],
   "source": [
    "###       예측 주제 관련 평가 지표 사용\n",
    "###           ㅇ 예측 주제\n",
    "###              - 이탈 즉, 2개월차 제결제하지 않음\n",
    "###           ㅇ 이탈 여부 코딩\n",
    "###              - 이탈 : 1 (= 재결제하지 않음)\n",
    "###              - 유지 : 0 (= 재결제함)\n",
    "###           ㅇ 평가 지표\n",
    "###              - 이탈(1)에 대한 평가 지표로 Leaderboard 순위 부여\n",
    "\n",
    "import sklearn.metrics as metrics\n",
    "\n",
    "print('accuracy', metrics.accuracy_score(y_test,y_pred) )\n",
    "print('precision', metrics.precision_score(y_test,y_pred) )\n",
    "print('recall', metrics.recall_score(y_test,y_pred) )\n",
    "print('f1', metrics.f1_score(y_test,y_pred) )\n",
    "print(metrics.classification_report(y_test,y_pred))\n",
    "print(metrics.confusion_matrix(y_test,y_pred))"
   ]
  },
  {
   "cell_type": "markdown",
   "metadata": {
    "id": "X7K4J59AvUgG"
   },
   "source": [
    "## **5. 예측 결과 파일 제출**"
   ]
  },
  {
   "cell_type": "code",
   "execution_count": 33,
   "metadata": {
    "colab": {
     "base_uri": "https://localhost:8080/"
    },
    "executionInfo": {
     "elapsed": 551,
     "status": "ok",
     "timestamp": 1624877589449,
     "user": {
      "displayName": "neo Kim",
      "photoUrl": "https://lh3.googleusercontent.com/a-/AOh14GgWQvWV5JkiXORXRjJv2qrXP7Wjjt7dwd1NNozs=s64",
      "userId": "11635445716711956826"
     },
     "user_tz": -540
    },
    "id": "roYyfNoyW7hS",
    "outputId": "efb7260a-6e43-488b-ad76-7a3cbe929c84"
   },
   "outputs": [
    {
     "name": "stdout",
     "output_type": "stream",
     "text": [
      "<class 'pandas.core.frame.DataFrame'>\n",
      "RangeIndex: 19001 entries, 0 to 19000\n",
      "Data columns (total 14 columns):\n",
      " #   Column                Non-Null Count  Dtype         \n",
      "---  ------                --------------  -----         \n",
      " 0   uno                   19001 non-null  object        \n",
      " 1   registerdate          19001 non-null  datetime64[ns]\n",
      " 2   enddate               19001 non-null  datetime64[ns]\n",
      " 3   productcode           19001 non-null  object        \n",
      " 4   pgamount              19001 non-null  float64       \n",
      " 5   chargetypeid          19001 non-null  int64         \n",
      " 6   concurrentwatchcount  19001 non-null  int64         \n",
      " 7   promo_100             10019 non-null  object        \n",
      " 8   coinReceived          3220 non-null   object        \n",
      " 9   Repurchase            248 non-null    object        \n",
      " 10  devicetypeid          19001 non-null  object        \n",
      " 11  isauth                14219 non-null  object        \n",
      " 12  gender                16056 non-null  object        \n",
      " 13  agegroup              19001 non-null  int64         \n",
      "dtypes: datetime64[ns](2), float64(1), int64(3), object(8)\n",
      "memory usage: 2.0+ MB\n"
     ]
    }
   ],
   "source": [
    "# Predict Input 파일 읽기 - 서비스 파일\n",
    "ds_P_service = \"predict_service.csv\"\n",
    "df_P_service = pd.read_csv(ds_P_service, parse_dates=['registerdate','enddate'], infer_datetime_format=True)\n",
    "\n",
    "df_P_service.info()\n",
    "#df_P_service.sample(5)"
   ]
  },
  {
   "cell_type": "code",
   "execution_count": 34,
   "metadata": {
    "colab": {
     "base_uri": "https://localhost:8080/"
    },
    "executionInfo": {
     "elapsed": 1239,
     "status": "ok",
     "timestamp": 1624877728571,
     "user": {
      "displayName": "neo Kim",
      "photoUrl": "https://lh3.googleusercontent.com/a-/AOh14GgWQvWV5JkiXORXRjJv2qrXP7Wjjt7dwd1NNozs=s64",
      "userId": "11635445716711956826"
     },
     "user_tz": -540
    },
    "id": "eY0S8kYomDc6",
    "outputId": "65ac4410-80e4-4d54-d78a-ba0535564d69"
   },
   "outputs": [
    {
     "name": "stdout",
     "output_type": "stream",
     "text": [
      "<class 'pandas.core.frame.DataFrame'>\n",
      "RangeIndex: 120986 entries, 0 to 120985\n",
      "Data columns (total 11 columns):\n",
      " #   Column         Non-Null Count   Dtype         \n",
      "---  ------         --------------   -----         \n",
      " 0   uno            120986 non-null  object        \n",
      " 1   dates          120986 non-null  datetime64[ns]\n",
      " 2   hour           120986 non-null  int64         \n",
      " 3   channeltype    120986 non-null  object        \n",
      " 4   programid      120975 non-null  object        \n",
      " 5   title          114533 non-null  object        \n",
      " 6   contentid      115026 non-null  object        \n",
      " 7   contentnumber  108145 non-null  object        \n",
      " 8   section        114524 non-null  object        \n",
      " 9   viewtime       120986 non-null  int64         \n",
      " 10  devicetype     120986 non-null  int64         \n",
      "dtypes: datetime64[ns](1), int64(3), object(7)\n",
      "memory usage: 10.2+ MB\n"
     ]
    }
   ],
   "source": [
    "# Predict Input 파일 읽기 - 북마크 파일\n",
    "ds_P_bookmark = \"predict_bookmark.csv\"\n",
    "df_P_bookmark = pd.read_csv(ds_P_bookmark, parse_dates=['dates'], infer_datetime_format=True)\n",
    "\n",
    "df_P_bookmark.info()\n",
    "#df_pbook.sample(5)"
   ]
  },
  {
   "cell_type": "markdown",
   "metadata": {
    "id": "nhG_lK27oTYN"
   },
   "source": [
    "**학습 데이터 전처리 기준 동일 적용**"
   ]
  },
  {
   "cell_type": "code",
   "execution_count": 35,
   "metadata": {
    "colab": {
     "base_uri": "https://localhost:8080/"
    },
    "executionInfo": {
     "elapsed": 841,
     "status": "ok",
     "timestamp": 1624877808381,
     "user": {
      "displayName": "neo Kim",
      "photoUrl": "https://lh3.googleusercontent.com/a-/AOh14GgWQvWV5JkiXORXRjJv2qrXP7Wjjt7dwd1NNozs=s64",
      "userId": "11635445716711956826"
     },
     "user_tz": -540
    },
    "id": "lXZmuas2tiBY",
    "outputId": "8f87e927-0f2a-4e51-ac2a-1d2a7506380f"
   },
   "outputs": [
    {
     "name": "stdout",
     "output_type": "stream",
     "text": [
      "<class 'pandas.core.frame.DataFrame'>\n",
      "Int64Index: 18753 entries, 0 to 18752\n",
      "Data columns (total 22 columns):\n",
      " #   Column                Non-Null Count  Dtype         \n",
      "---  ------                --------------  -----         \n",
      " 0   uno                   18753 non-null  object        \n",
      " 1   registerdate          18753 non-null  datetime64[ns]\n",
      " 2   enddate               18753 non-null  datetime64[ns]\n",
      " 3   productcode           18753 non-null  object        \n",
      " 4   pgamount              18753 non-null  float64       \n",
      " 5   chargetypeid          18753 non-null  int64         \n",
      " 6   concurrentwatchcount  18753 non-null  int64         \n",
      " 7   promo_100             18753 non-null  object        \n",
      " 8   coinReceived          18753 non-null  object        \n",
      " 9   Repurchase            18753 non-null  object        \n",
      " 10  devicetypeid          18753 non-null  object        \n",
      " 11  isauth                18753 non-null  object        \n",
      " 12  gender                18753 non-null  object        \n",
      " 13  agegroup              18753 non-null  int64         \n",
      " 14  REG_CNT               18753 non-null  int64         \n",
      " 15  PRD_CNT               18753 non-null  int64         \n",
      " 16  BM_CNT                12456 non-null  float64       \n",
      " 17  VT_TOT                12456 non-null  float64       \n",
      " 18  VT_AVG                12456 non-null  float64       \n",
      " 19  CH_CNT                12456 non-null  float64       \n",
      " 20  PRG_CNT               12456 non-null  float64       \n",
      " 21  DEV_CNT               12456 non-null  float64       \n",
      "dtypes: datetime64[ns](2), float64(7), int64(5), object(8)\n",
      "memory usage: 3.3+ MB\n"
     ]
    }
   ],
   "source": [
    "# gender null 값을 N 으로 변경 후 확인\n",
    "df_P_service['gender'] = df_P_service['gender'].fillna('N')\n",
    "\n",
    "# agegroup 950 값을 0 으로 변환\n",
    "df_P_service['agegroup'] = df_P_service['agegroup'].replace(950, 0)\n",
    "\n",
    "# pgamount 금액 중에 달러로 결제된 것 원화로 변경 (pgamount 100원 미만인 건은 Appstore에서 달러 결제 건임)\n",
    "df_P_service.loc[(df_P_service['pgamount'] <  100), 'pgamount'] = df_P_service['pgamount'] * 1120\n",
    "\n",
    "# 기타 컬럼들의 결측치 처리\n",
    "df_P_service = df_P_service.fillna('X')\n",
    "\n",
    "# 해지 예측 대상 서비스 추출\n",
    "# 즉, 예측시점(가입일+3주)에 해지하지 않은 서비스 추출\n",
    "df_P_svc_target = df_P_service[df_P_service.enddate >= df_P_service.registerdate + pd.DateOffset(weeks=3)]\n",
    "\n",
    "# 변수 생성(Feature Extraction) (예시)\n",
    "# (1) 고객별 서비스 가입 이력 수\n",
    "df_P_feature_1 = df_P_service.groupby(by='uno', as_index=False).registerdate.count()\n",
    "df_P_feature_1.rename(columns={'registerdate':'REG_CNT'}, inplace=True)\n",
    "\n",
    "# (2) 고객별 서비스 가입 이력 상품 수\n",
    "df_P_feature_2 = df_P_service[['uno','productcode']]\n",
    "df_P_feature_2 = df_P_feature_2.drop_duplicates() # 고객별 동일 상품 제거\n",
    "df_P_feature_2 = df_P_feature_2.groupby(by='uno', as_index=False).productcode.count()\n",
    "df_P_feature_2.rename(columns={'productcode':'PRD_CNT'}, inplace=True)\n",
    "\n",
    "# (3) 고객별 시청 건수 (1시간 단위)\n",
    "df_P_feature_3 = df_P_bookmark.groupby(by='uno', as_index=False).dates.count()\n",
    "df_P_feature_3.rename(columns={'dates':'BM_CNT'}, inplace=True)\n",
    "\n",
    "# (4) 고객별 시청 총 시간\n",
    "df_P_feature_4 = df_P_bookmark.groupby(by='uno', as_index=False).viewtime.sum()\n",
    "df_P_feature_4.rename(columns={'viewtime':'VT_TOT'}, inplace=True)\n",
    "\n",
    "# (5) 고객별 시청 평균 시간\n",
    "df_P_feature_5 = df_P_bookmark.groupby(by='uno', as_index=False).viewtime.mean()\n",
    "df_P_feature_5.rename(columns={'viewtime':'VT_AVG'}, inplace=True)\n",
    "\n",
    "# (6) 고객별 시청 채널 수\n",
    "df_P_feature_6 = df_P_bookmark[['uno','channeltype']]\n",
    "df_P_feature_6 = df_P_feature_6.drop_duplicates() # 고객별 동일 채널 제거\n",
    "df_P_feature_6 = df_P_feature_6.groupby(by='uno', as_index=False).channeltype.count()\n",
    "df_P_feature_6.rename(columns={'channeltype':'CH_CNT'}, inplace=True)\n",
    "\n",
    "# (7) 고객별 시청 프로그램 수\n",
    "df_P_feature_7 = df_P_bookmark[['uno','programid']]\n",
    "df_P_feature_7 = df_P_feature_7.drop_duplicates() # 고객별 동일 프로그램 제거\n",
    "df_P_feature_7 = df_P_feature_7.groupby(by='uno', as_index=False).programid.count()\n",
    "df_P_feature_7.rename(columns={'programid':'PRG_CNT'}, inplace=True)\n",
    "\n",
    "# (8) 고객별 시청 디바이스 수\n",
    "df_P_feature_8 = df_P_bookmark[['uno','devicetype']]\n",
    "df_P_feature_8 = df_P_feature_8.drop_duplicates() # 고객별 동일 프로그램 제거\n",
    "df_P_feature_8 = df_P_feature_8.groupby(by='uno', as_index=False).devicetype.count()\n",
    "df_P_feature_8.rename(columns={'devicetype':'DEV_CNT'}, inplace=True)\n",
    "\n",
    "# 해지 예측 대상 서비스에 생성한 변수 연결\n",
    "df_P_svc_target = pd.merge(df_P_svc_target, df_P_feature_1, on='uno', how='left')\n",
    "df_P_svc_target = pd.merge(df_P_svc_target, df_P_feature_2, on='uno', how='left')\n",
    "df_P_svc_target = pd.merge(df_P_svc_target, df_P_feature_3, on='uno', how='left')\n",
    "df_P_svc_target = pd.merge(df_P_svc_target, df_P_feature_4, on='uno', how='left')\n",
    "df_P_svc_target = pd.merge(df_P_svc_target, df_P_feature_5, on='uno', how='left')\n",
    "df_P_svc_target = pd.merge(df_P_svc_target, df_P_feature_6, on='uno', how='left')\n",
    "df_P_svc_target = pd.merge(df_P_svc_target, df_P_feature_7, on='uno', how='left')\n",
    "df_P_svc_target = pd.merge(df_P_svc_target, df_P_feature_8, on='uno', how='left')\n",
    "\n",
    "# 추가 생성 컬럼들의 결측치 처리\n",
    "df_svc_target = df_svc_target.fillna(0)\n",
    "df_svc_target = df_svc_target.astype({'BM_CNT':'int', 'VT_TOT':'int', 'CH_CNT':'int', 'PRG_CNT':'int', 'DEV_CNT':'int'})\n",
    "\n",
    "df_P_svc_target.info()"
   ]
  },
  {
   "cell_type": "code",
   "execution_count": 36,
   "metadata": {
    "colab": {
     "base_uri": "https://localhost:8080/"
    },
    "executionInfo": {
     "elapsed": 231,
     "status": "ok",
     "timestamp": 1624877822309,
     "user": {
      "displayName": "neo Kim",
      "photoUrl": "https://lh3.googleusercontent.com/a-/AOh14GgWQvWV5JkiXORXRjJv2qrXP7Wjjt7dwd1NNozs=s64",
      "userId": "11635445716711956826"
     },
     "user_tz": -540
    },
    "id": "0U1gUXzQ36ey",
    "outputId": "0e3a7b74-61a5-48db-dd64-3893e3b5f276"
   },
   "outputs": [
    {
     "name": "stdout",
     "output_type": "stream",
     "text": [
      "<class 'pandas.core.frame.DataFrame'>\n",
      "Int64Index: 18753 entries, 0 to 18752\n",
      "Data columns (total 22 columns):\n",
      " #   Column                Non-Null Count  Dtype         \n",
      "---  ------                --------------  -----         \n",
      " 0   uno                   18753 non-null  object        \n",
      " 1   registerdate          18753 non-null  datetime64[ns]\n",
      " 2   enddate               18753 non-null  datetime64[ns]\n",
      " 3   productcode           18753 non-null  object        \n",
      " 4   pgamount              18753 non-null  float64       \n",
      " 5   chargetypeid          18753 non-null  int64         \n",
      " 6   concurrentwatchcount  18753 non-null  int64         \n",
      " 7   promo_100             18753 non-null  int64         \n",
      " 8   coinReceived          18753 non-null  int64         \n",
      " 9   Repurchase            18753 non-null  int64         \n",
      " 10  devicetypeid          18753 non-null  int64         \n",
      " 11  isauth                18753 non-null  int64         \n",
      " 12  gender                18753 non-null  int64         \n",
      " 13  agegroup              18753 non-null  int64         \n",
      " 14  REG_CNT               18753 non-null  int64         \n",
      " 15  PRD_CNT               18753 non-null  int64         \n",
      " 16  BM_CNT                12456 non-null  float64       \n",
      " 17  VT_TOT                12456 non-null  float64       \n",
      " 18  VT_AVG                12456 non-null  float64       \n",
      " 19  CH_CNT                12456 non-null  float64       \n",
      " 20  PRG_CNT               12456 non-null  float64       \n",
      " 21  DEV_CNT               12456 non-null  float64       \n",
      "dtypes: datetime64[ns](2), float64(7), int64(11), object(2)\n",
      "memory usage: 3.3+ MB\n"
     ]
    }
   ],
   "source": [
    "# 최종 분석 대상 데이터\n",
    "df_P = df_P_svc_target.copy()\n",
    "\n",
    "# Encoding categorical variables to numeric ones\n",
    "col_lst = df_P.columns.values.tolist()\n",
    "col_lst.remove('uno')\n",
    "col_lst.remove('productcode')\n",
    "for c in col_lst:\n",
    "    if df_P[c].dtype == 'object':\n",
    "        lbl = LabelEncoder()\n",
    "        lbl.fit(list(df_P[c].values))\n",
    "        df_P[c] = lbl.transform(df_P[c].values)\n",
    "\n",
    "df_P.info()"
   ]
  },
  {
   "cell_type": "code",
   "execution_count": 37,
   "metadata": {
    "executionInfo": {
     "elapsed": 272,
     "status": "ok",
     "timestamp": 1624877837354,
     "user": {
      "displayName": "neo Kim",
      "photoUrl": "https://lh3.googleusercontent.com/a-/AOh14GgWQvWV5JkiXORXRjJv2qrXP7Wjjt7dwd1NNozs=s64",
      "userId": "11635445716711956826"
     },
     "user_tz": -540
    },
    "id": "d3MmbmKctiPi"
   },
   "outputs": [],
   "source": [
    "# 예측 모델 입력을 위한 최종 데이터\n",
    "X_predict = df_P.drop([\"uno\",\"registerdate\",\"enddate\",\"productcode\",\"Repurchase\"], axis=1)"
   ]
  },
  {
   "cell_type": "markdown",
   "metadata": {
    "id": "LTopcKTd48_U"
   },
   "source": [
    "**예측 모델에 의핸 해지 예측**"
   ]
  },
  {
   "cell_type": "code",
   "execution_count": 38,
   "metadata": {
    "executionInfo": {
     "elapsed": 327,
     "status": "ok",
     "timestamp": 1624877841938,
     "user": {
      "displayName": "neo Kim",
      "photoUrl": "https://lh3.googleusercontent.com/a-/AOh14GgWQvWV5JkiXORXRjJv2qrXP7Wjjt7dwd1NNozs=s64",
      "userId": "11635445716711956826"
     },
     "user_tz": -540
    },
    "id": "eRmGs-KIw_Pw"
   },
   "outputs": [],
   "source": [
    "# 예측 모델에 최종 데이터 입력\n",
    "y_pred = xgb.predict(X_predict)"
   ]
  },
  {
   "cell_type": "code",
   "execution_count": 39,
   "metadata": {
    "colab": {
     "base_uri": "https://localhost:8080/"
    },
    "executionInfo": {
     "elapsed": 3,
     "status": "ok",
     "timestamp": 1624877844736,
     "user": {
      "displayName": "neo Kim",
      "photoUrl": "https://lh3.googleusercontent.com/a-/AOh14GgWQvWV5JkiXORXRjJv2qrXP7Wjjt7dwd1NNozs=s64",
      "userId": "11635445716711956826"
     },
     "user_tz": -540
    },
    "id": "_OeRuIIQtibY",
    "outputId": "a08f851d-2512-4d8b-e5eb-7dfa4600850f"
   },
   "outputs": [
    {
     "name": "stdout",
     "output_type": "stream",
     "text": [
      "예측 대상 건수 =  18753 , 예측 결과 건수 =  18753\n"
     ]
    }
   ],
   "source": [
    "# 데이터 건수 확인\n",
    "print('예측 대상 건수 = ', len(X_predict), ', 예측 결과 건수 = ', len(y_pred))"
   ]
  },
  {
   "cell_type": "markdown",
   "metadata": {
    "id": "xkcxWZNG5GLx"
   },
   "source": [
    "**예측 결과 답안지 제출**"
   ]
  },
  {
   "cell_type": "code",
   "execution_count": 40,
   "metadata": {
    "colab": {
     "base_uri": "https://localhost:8080/"
    },
    "executionInfo": {
     "elapsed": 547,
     "status": "ok",
     "timestamp": 1624877900373,
     "user": {
      "displayName": "neo Kim",
      "photoUrl": "https://lh3.googleusercontent.com/a-/AOh14GgWQvWV5JkiXORXRjJv2qrXP7Wjjt7dwd1NNozs=s64",
      "userId": "11635445716711956826"
     },
     "user_tz": -540
    },
    "id": "i5QT0-ZTG6TD",
    "outputId": "a561a5d5-14fa-43fc-ec74-9aaaf095dad2"
   },
   "outputs": [
    {
     "name": "stdout",
     "output_type": "stream",
     "text": [
      "<class 'pandas.core.frame.DataFrame'>\n",
      "RangeIndex: 18753 entries, 0 to 18752\n",
      "Data columns (total 1 columns):\n",
      " #   Column  Non-Null Count  Dtype \n",
      "---  ------  --------------  ----- \n",
      " 0   KEY     18753 non-null  object\n",
      "dtypes: object(1)\n",
      "memory usage: 146.6+ KB\n",
      "<class 'pandas.core.frame.DataFrame'>\n",
      "Int64Index: 18753 entries, 0 to 18752\n",
      "Data columns (total 2 columns):\n",
      " #   Column  Non-Null Count  Dtype \n",
      "---  ------  --------------  ----- \n",
      " 0   KEY     18753 non-null  object\n",
      " 1   CHURN   18753 non-null  int64 \n",
      "dtypes: int64(1), object(1)\n",
      "memory usage: 439.5+ KB\n"
     ]
    }
   ],
   "source": [
    "# 결과 제출 답안지 불러오기\n",
    "ds_sheet = \"CDS_submission.csv\"\n",
    "df_sheet = pd.read_csv(ds_sheet)\n",
    "df_sheet.drop('CHURN', axis=1, inplace=True)\n",
    "df_sheet.info()\n",
    "\n",
    "# 답안지에 답안 표기\n",
    "df_result = df_P.loc[:,('uno','registerdate','productcode')]\n",
    "df_result['KEY']   = df_result['uno'] + '|' + df_result['registerdate'].dt.strftime('%y-%m-%d %I:%M:%S') + '|' + df_result['productcode']   # 판다스 strftime()\n",
    "df_result['CHURN'] = pd.DataFrame(y_pred)\n",
    "df_result = df_result.loc[:,('KEY','CHURN')]\n",
    "df_answer_sheet = pd.merge(df_sheet, df_result, on='KEY', how='left')\n",
    "df_answer_sheet.info()"
   ]
  },
  {
   "cell_type": "code",
   "execution_count": 41,
   "metadata": {
    "executionInfo": {
     "elapsed": 235,
     "status": "ok",
     "timestamp": 1624877988957,
     "user": {
      "displayName": "neo Kim",
      "photoUrl": "https://lh3.googleusercontent.com/a-/AOh14GgWQvWV5JkiXORXRjJv2qrXP7Wjjt7dwd1NNozs=s64",
      "userId": "11635445716711956826"
     },
     "user_tz": -540
    },
    "id": "dKrgb48Fyt2r"
   },
   "outputs": [],
   "source": [
    "# 답안지 제출 파일 생성하기\n",
    "ds_answer_sheet = \"CDS_submission_팀명_차수.csv\"\n",
    "df_answer_sheet.to_csv(ds_answer_sheet, index=False, encoding='utf8')"
   ]
  },
  {
   "cell_type": "markdown",
   "metadata": {
    "id": "rEZ9Gsl0ZI6_"
   },
   "source": [
    "# End"
   ]
  }
 ],
 "metadata": {
  "accelerator": "TPU",
  "colab": {
   "collapsed_sections": [],
   "machine_shape": "hm",
   "name": "이천포럼_CDS리그_베이스라인모델_최종.ipynb",
   "provenance": [
    {
     "file_id": "1QaSBDucgtFMvGXL0CNNVi1vKcHvJ0oqo",
     "timestamp": 1624876634252
    }
   ]
  },
  "kernelspec": {
   "display_name": "Python 3",
   "language": "python",
   "name": "python3"
  },
  "language_info": {
   "codemirror_mode": {
    "name": "ipython",
    "version": 3
   },
   "file_extension": ".py",
   "mimetype": "text/x-python",
   "name": "python",
   "nbconvert_exporter": "python",
   "pygments_lexer": "ipython3",
   "version": "3.8.8"
  },
  "toc": {
   "base_numbering": 1,
   "nav_menu": {},
   "number_sections": true,
   "sideBar": true,
   "skip_h1_title": false,
   "title_cell": "Table of Contents",
   "title_sidebar": "Contents",
   "toc_cell": false,
   "toc_position": {
    "height": "calc(100% - 180px)",
    "left": "10px",
    "top": "150px",
    "width": "354.391px"
   },
   "toc_section_display": true,
   "toc_window_display": true
  },
  "varInspector": {
   "cols": {
    "lenName": 16,
    "lenType": 16,
    "lenVar": 40
   },
   "kernels_config": {
    "python": {
     "delete_cmd_postfix": "",
     "delete_cmd_prefix": "del ",
     "library": "var_list.py",
     "varRefreshCmd": "print(var_dic_list())"
    },
    "r": {
     "delete_cmd_postfix": ") ",
     "delete_cmd_prefix": "rm(",
     "library": "var_list.r",
     "varRefreshCmd": "cat(var_dic_list()) "
    }
   },
   "types_to_exclude": [
    "module",
    "function",
    "builtin_function_or_method",
    "instance",
    "_Feature"
   ],
   "window_display": false
  }
 },
 "nbformat": 4,
 "nbformat_minor": 1
}
