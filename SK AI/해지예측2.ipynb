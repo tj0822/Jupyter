{
 "cells": [
  {
   "cell_type": "markdown",
   "id": "ba99ee0f",
   "metadata": {
    "id": "ba99ee0f"
   },
   "source": [
    "# Data Load"
   ]
  },
  {
   "cell_type": "code",
   "execution_count": 1,
   "id": "d810b703",
   "metadata": {
    "id": "d810b703"
   },
   "outputs": [],
   "source": [
    "import pandas as pd\n",
    "import warnings\n",
    "warnings.filterwarnings('ignore')\n",
    "\n",
    "train_bookmark = pd.read_csv('Train/train_bookmark.csv', parse_dates=['dates'], infer_datetime_format=True)\n",
    "train_service = pd.read_csv('Train/train_service.csv', parse_dates=['registerdate','enddate'], infer_datetime_format=True)\n",
    "coin = pd.read_csv('Code/coin.csv')\n",
    "content_info = pd.read_csv('Code/content_info.csv')\n",
    "movie_info = pd.read_csv('Code/movie_info.csv')\n",
    "predict_bookmark = pd.read_csv('Predict/predict_bookmark.csv', parse_dates=['dates'], infer_datetime_format=True)\n",
    "predict_service = pd.read_csv('Predict/predict_service.csv', parse_dates=['registerdate','enddate'], infer_datetime_format=True)"
   ]
  },
  {
   "cell_type": "markdown",
   "id": "b8f9e4c6",
   "metadata": {
    "id": "b8f9e4c6"
   },
   "source": [
    "# 전처리, 결측치 처리"
   ]
  },
  {
   "cell_type": "code",
   "execution_count": 2,
   "id": "12925f66",
   "metadata": {
    "id": "12925f66"
   },
   "outputs": [],
   "source": [
    "exchange_rate = 1138.5\n",
    "\n",
    "train_service['promo_100'] = train_service['promo_100'].apply(lambda x: 0 if pd.isna(x) else 1 )\n",
    "train_service['coinReceived'] = train_service['coinReceived'].apply(lambda x: 0 if pd.isna(x) else 1 )\n",
    "train_service['isauth'] = train_service['isauth'].apply(lambda x: 0 if pd.isna(x) else 1 )\n",
    "train_service['Repurchase'] = train_service['Repurchase'].apply(lambda x: 1 if x=='X' else 0)\n",
    "train_service['gender'] = train_service['gender'].fillna('N')\n",
    "train_service['pgamount'] = train_service['pgamount'].apply(lambda x: x * exchange_rate if x<100 else x)\n",
    "\n",
    "predict_service['promo_100'] = predict_service['promo_100'].apply(lambda x: 0 if pd.isna(x) else 1 )\n",
    "predict_service['coinReceived'] = predict_service['coinReceived'].apply(lambda x: 0 if pd.isna(x) else 1 )\n",
    "predict_service['isauth'] = predict_service['isauth'].apply(lambda x: 0 if pd.isna(x) else 1 )\n",
    "# predict_service['Repurchase'] = predict_service['Repurchase'].apply(lambda x: int(1) if x=='X' else int(np.nan))\n",
    "predict_service['gender'] = predict_service['gender'].fillna('N')\n",
    "predict_service['pgamount'] = predict_service['pgamount'].apply(lambda x: x * exchange_rate if x<100 else x)"
   ]
  },
  {
   "cell_type": "code",
   "execution_count": null,
   "id": "61cabce4",
   "metadata": {
    "colab": {
     "base_uri": "https://localhost:8080/",
     "height": 779
    },
    "id": "61cabce4",
    "outputId": "0e2c0c10-9aaa-45ce-fbea-193c42bd5ce2"
   },
   "outputs": [],
   "source": [
    "train_service[train_service.enddate >= train_service.registerdate + pd.DateOffset(weeks=3)]"
   ]
  },
  {
   "cell_type": "code",
   "execution_count": null,
   "id": "5fc8ca6d",
   "metadata": {
    "id": "5fc8ca6d"
   },
   "outputs": [],
   "source": [
    "predict_service[predict_service.enddate >= predict_service.registerdate + pd.DateOffset(weeks=3)]"
   ]
  },
  {
   "cell_type": "markdown",
   "id": "8948277a",
   "metadata": {
    "id": "8948277a"
   },
   "source": [
    "# EDA"
   ]
  },
  {
   "cell_type": "code",
   "execution_count": null,
   "id": "3c3e05b1",
   "metadata": {
    "id": "3c3e05b1",
    "outputId": "8613c115-4bfc-4d63-b0bf-28a54d60fdf7",
    "scrolled": false
   },
   "outputs": [],
   "source": [
    "# train_service.groupby('uno')['registerdate'].count().sort_values(ascending=False)\n",
    "train_service[train_service['uno'] == 'a02a14ff1ab86edbfe46ad5a6a7fce054dc83c39aa7c362622171c550dcfe7099733a95d986e379eedfcb8edb5adc79c3f2439a56104f63410b83a10131c8ea5'].sort_values(by='registerdate')"
   ]
  },
  {
   "cell_type": "code",
   "execution_count": null,
   "id": "c7a368d9",
   "metadata": {
    "id": "c7a368d9",
    "outputId": "1683647d-b224-4ea1-a1c0-cffbcb48227a"
   },
   "outputs": [],
   "source": [
    "train_bookmark[train_bookmark['uno'] == 'a02a14ff1ab86edbfe46ad5a6a7fce054dc83c39aa7c362622171c550dcfe7099733a95d986e379eedfcb8edb5adc79c3f2439a56104f63410b83a10131c8ea5'].sort_values(by=['dates', 'hour'])"
   ]
  },
  {
   "cell_type": "code",
   "execution_count": null,
   "id": "a520558f",
   "metadata": {
    "colab": {
     "base_uri": "https://localhost:8080/",
     "height": 35
    },
    "id": "a520558f",
    "outputId": "f8d1a485-f85c-4287-9c1b-d96201d915e4"
   },
   "outputs": [],
   "source": [
    "train_service[train_service['registerdate'].isna()]['uno']\n",
    "train_service.loc[15219]['uno']"
   ]
  },
  {
   "cell_type": "code",
   "execution_count": null,
   "id": "41fb901b",
   "metadata": {
    "id": "41fb901b"
   },
   "outputs": [],
   "source": [
    "train_service['promo_100'].unique()"
   ]
  },
  {
   "cell_type": "code",
   "execution_count": null,
   "id": "bc2ce9ff",
   "metadata": {
    "id": "bc2ce9ff"
   },
   "outputs": [],
   "source": [
    "predict_service.head()"
   ]
  },
  {
   "cell_type": "code",
   "execution_count": null,
   "id": "7320d410",
   "metadata": {
    "id": "7320d410"
   },
   "outputs": [],
   "source": [
    "coin.head()"
   ]
  },
  {
   "cell_type": "code",
   "execution_count": null,
   "id": "6ce702dc",
   "metadata": {
    "id": "6ce702dc"
   },
   "outputs": [],
   "source": [
    "content_info.head()"
   ]
  },
  {
   "cell_type": "code",
   "execution_count": null,
   "id": "1db35ecf",
   "metadata": {
    "id": "1db35ecf"
   },
   "outputs": [],
   "source": [
    "movie_info.head()"
   ]
  },
  {
   "cell_type": "markdown",
   "id": "d1e0d3ca",
   "metadata": {
    "id": "d1e0d3ca"
   },
   "source": [
    "# Feature 추가"
   ]
  },
  {
   "cell_type": "markdown",
   "id": "52bc27f0",
   "metadata": {
    "id": "52bc27f0"
   },
   "source": [
    "## View Info"
   ]
  },
  {
   "cell_type": "code",
   "execution_count": null,
   "id": "EUUhoP7nQAXJ",
   "metadata": {
    "id": "EUUhoP7nQAXJ"
   },
   "outputs": [],
   "source": [
    "import numpy as np\n",
    "from datetime import timedelta\n",
    "\n",
    "# pd.to_datetime((train_service.loc[0, 'registerdate'].date() + timedelta(days=1)))"
   ]
  },
  {
   "cell_type": "code",
   "execution_count": 3,
   "id": "JkQywaVJaNif",
   "metadata": {
    "colab": {
     "base_uri": "https://localhost:8080/",
     "height": 419
    },
    "id": "JkQywaVJaNif",
    "outputId": "5d9de0bb-e356-4a6a-f9e0-8f8e3b52aedd"
   },
   "outputs": [
    {
     "data": {
      "text/html": [
       "<div>\n",
       "<style scoped>\n",
       "    .dataframe tbody tr th:only-of-type {\n",
       "        vertical-align: middle;\n",
       "    }\n",
       "\n",
       "    .dataframe tbody tr th {\n",
       "        vertical-align: top;\n",
       "    }\n",
       "\n",
       "    .dataframe thead th {\n",
       "        text-align: right;\n",
       "    }\n",
       "</style>\n",
       "<table border=\"1\" class=\"dataframe\">\n",
       "  <thead>\n",
       "    <tr style=\"text-align: right;\">\n",
       "      <th></th>\n",
       "      <th>uno</th>\n",
       "      <th>tot_view_count</th>\n",
       "      <th>tot_viewtime_sum</th>\n",
       "      <th>tot_viewtime_mean</th>\n",
       "      <th>tot_viewtime_std</th>\n",
       "    </tr>\n",
       "  </thead>\n",
       "  <tbody>\n",
       "    <tr>\n",
       "      <th>0</th>\n",
       "      <td>0000555c21e7942b8281c8068c2b5be0a628b8a1a3cbea...</td>\n",
       "      <td>1122</td>\n",
       "      <td>600960</td>\n",
       "      <td>535.614973</td>\n",
       "      <td>747.631661</td>\n",
       "    </tr>\n",
       "    <tr>\n",
       "      <th>1</th>\n",
       "      <td>0000660c47ef815351301bf15ec9bccb8deeb10083e3c8...</td>\n",
       "      <td>61</td>\n",
       "      <td>69000</td>\n",
       "      <td>1131.147541</td>\n",
       "      <td>981.838579</td>\n",
       "    </tr>\n",
       "    <tr>\n",
       "      <th>2</th>\n",
       "      <td>00012d296d8a780358116414b0dcb64b74dfebf3200cbe...</td>\n",
       "      <td>1</td>\n",
       "      <td>230</td>\n",
       "      <td>230.000000</td>\n",
       "      <td>NaN</td>\n",
       "    </tr>\n",
       "    <tr>\n",
       "      <th>3</th>\n",
       "      <td>00016a195056fe7ff99b890eb5ad7cf83617498b6fbdbc...</td>\n",
       "      <td>140</td>\n",
       "      <td>119110</td>\n",
       "      <td>850.785714</td>\n",
       "      <td>674.277730</td>\n",
       "    </tr>\n",
       "    <tr>\n",
       "      <th>4</th>\n",
       "      <td>0001d4be392f82bf5b8b912418c7981f2507341c8cbe17...</td>\n",
       "      <td>106</td>\n",
       "      <td>115300</td>\n",
       "      <td>1087.735849</td>\n",
       "      <td>694.018365</td>\n",
       "    </tr>\n",
       "    <tr>\n",
       "      <th>...</th>\n",
       "      <td>...</td>\n",
       "      <td>...</td>\n",
       "      <td>...</td>\n",
       "      <td>...</td>\n",
       "      <td>...</td>\n",
       "    </tr>\n",
       "    <tr>\n",
       "      <th>67301</th>\n",
       "      <td>fffced43deaf4457c319b20066d48e7448366892bbbb9b...</td>\n",
       "      <td>54</td>\n",
       "      <td>57630</td>\n",
       "      <td>1067.222222</td>\n",
       "      <td>945.967443</td>\n",
       "    </tr>\n",
       "    <tr>\n",
       "      <th>67302</th>\n",
       "      <td>fffe8c58d0b918895b55bd7907f5f510fbe11c4b8f6515...</td>\n",
       "      <td>275</td>\n",
       "      <td>425220</td>\n",
       "      <td>1546.254545</td>\n",
       "      <td>1056.796292</td>\n",
       "    </tr>\n",
       "    <tr>\n",
       "      <th>67303</th>\n",
       "      <td>ffff0d42a9cb0c7ba43546929d3c0dc0b141a2ec00fd59...</td>\n",
       "      <td>302</td>\n",
       "      <td>434350</td>\n",
       "      <td>1438.245033</td>\n",
       "      <td>1100.996785</td>\n",
       "    </tr>\n",
       "    <tr>\n",
       "      <th>67304</th>\n",
       "      <td>ffff49a60e9440a42fbfb9592aa4dfae10e9493d941b85...</td>\n",
       "      <td>128</td>\n",
       "      <td>121930</td>\n",
       "      <td>952.578125</td>\n",
       "      <td>818.995204</td>\n",
       "    </tr>\n",
       "    <tr>\n",
       "      <th>67305</th>\n",
       "      <td>ffff9c0f57144ef69706a726ffc1a5092f11c098af3bc9...</td>\n",
       "      <td>75</td>\n",
       "      <td>69090</td>\n",
       "      <td>921.200000</td>\n",
       "      <td>746.307958</td>\n",
       "    </tr>\n",
       "  </tbody>\n",
       "</table>\n",
       "<p>67306 rows × 5 columns</p>\n",
       "</div>"
      ],
      "text/plain": [
       "                                                     uno  tot_view_count  \\\n",
       "0      0000555c21e7942b8281c8068c2b5be0a628b8a1a3cbea...            1122   \n",
       "1      0000660c47ef815351301bf15ec9bccb8deeb10083e3c8...              61   \n",
       "2      00012d296d8a780358116414b0dcb64b74dfebf3200cbe...               1   \n",
       "3      00016a195056fe7ff99b890eb5ad7cf83617498b6fbdbc...             140   \n",
       "4      0001d4be392f82bf5b8b912418c7981f2507341c8cbe17...             106   \n",
       "...                                                  ...             ...   \n",
       "67301  fffced43deaf4457c319b20066d48e7448366892bbbb9b...              54   \n",
       "67302  fffe8c58d0b918895b55bd7907f5f510fbe11c4b8f6515...             275   \n",
       "67303  ffff0d42a9cb0c7ba43546929d3c0dc0b141a2ec00fd59...             302   \n",
       "67304  ffff49a60e9440a42fbfb9592aa4dfae10e9493d941b85...             128   \n",
       "67305  ffff9c0f57144ef69706a726ffc1a5092f11c098af3bc9...              75   \n",
       "\n",
       "       tot_viewtime_sum  tot_viewtime_mean  tot_viewtime_std  \n",
       "0                600960         535.614973        747.631661  \n",
       "1                 69000        1131.147541        981.838579  \n",
       "2                   230         230.000000               NaN  \n",
       "3                119110         850.785714        674.277730  \n",
       "4                115300        1087.735849        694.018365  \n",
       "...                 ...                ...               ...  \n",
       "67301             57630        1067.222222        945.967443  \n",
       "67302            425220        1546.254545       1056.796292  \n",
       "67303            434350        1438.245033       1100.996785  \n",
       "67304            121930         952.578125        818.995204  \n",
       "67305             69090         921.200000        746.307958  \n",
       "\n",
       "[67306 rows x 5 columns]"
      ]
     },
     "execution_count": 3,
     "metadata": {},
     "output_type": "execute_result"
    }
   ],
   "source": [
    "train_bookmark_grb_tot = pd.DataFrame(train_bookmark.groupby(['uno'])['dates'].count())\n",
    "train_bookmark_grb_tot.rename(columns={'dates':'tot_view_count'}, inplace=True)\n",
    "train_bookmark_grb_tot.reset_index(drop=False, inplace=True)\n",
    "\n",
    "\n",
    "train_bookmark_grb_tot = pd.merge(train_bookmark_grb_tot, pd.DataFrame(train_bookmark.groupby(['uno'])['viewtime'].sum()), on=['uno'])\n",
    "train_bookmark_grb_tot.rename(columns={'viewtime':'tot_viewtime_sum'}, inplace=True)\n",
    "\n",
    "train_bookmark_grb_tot = pd.merge(train_bookmark_grb_tot, pd.DataFrame(train_bookmark.groupby(['uno'])['viewtime'].mean()), on=['uno'])\n",
    "train_bookmark_grb_tot.rename(columns={'viewtime':'tot_viewtime_mean'}, inplace=True)\n",
    "\n",
    "train_bookmark_grb_tot = pd.merge(train_bookmark_grb_tot, pd.DataFrame(train_bookmark.groupby(['uno'])['viewtime'].std()), on=['uno'])\n",
    "train_bookmark_grb_tot.rename(columns={'viewtime':'tot_viewtime_std'}, inplace=True)\n",
    "\n",
    "train_bookmark_grb_tot"
   ]
  },
  {
   "cell_type": "code",
   "execution_count": 4,
   "id": "LhJ9bJ58angk",
   "metadata": {
    "id": "LhJ9bJ58angk"
   },
   "outputs": [],
   "source": [
    "train_service = pd.merge(train_service, train_bookmark_grb_tot, on='uno', how='left')\n",
    "train_service['tot_view_count'].fillna(0, inplace=True)\n",
    "train_service['tot_viewtime_sum'].fillna(0, inplace=True)\n",
    "train_service['tot_viewtime_mean'].fillna(0, inplace=True)\n",
    "train_service['tot_viewtime_std'].fillna(0, inplace=True)"
   ]
  },
  {
   "cell_type": "code",
   "execution_count": 5,
   "id": "hqzn3blta2y5",
   "metadata": {
    "colab": {
     "base_uri": "https://localhost:8080/",
     "height": 419
    },
    "id": "hqzn3blta2y5",
    "outputId": "0294ab0f-a807-4ef8-8690-2eda5af4439f"
   },
   "outputs": [
    {
     "data": {
      "text/html": [
       "<div>\n",
       "<style scoped>\n",
       "    .dataframe tbody tr th:only-of-type {\n",
       "        vertical-align: middle;\n",
       "    }\n",
       "\n",
       "    .dataframe tbody tr th {\n",
       "        vertical-align: top;\n",
       "    }\n",
       "\n",
       "    .dataframe thead th {\n",
       "        text-align: right;\n",
       "    }\n",
       "</style>\n",
       "<table border=\"1\" class=\"dataframe\">\n",
       "  <thead>\n",
       "    <tr style=\"text-align: right;\">\n",
       "      <th></th>\n",
       "      <th>uno</th>\n",
       "      <th>tot_view_count</th>\n",
       "      <th>tot_viewtime_sum</th>\n",
       "      <th>tot_viewtime_mean</th>\n",
       "      <th>tot_viewtime_std</th>\n",
       "    </tr>\n",
       "  </thead>\n",
       "  <tbody>\n",
       "    <tr>\n",
       "      <th>0</th>\n",
       "      <td>00005933bf5b80f52ee0981778d9be8c410bb662d2e78c...</td>\n",
       "      <td>111</td>\n",
       "      <td>280130</td>\n",
       "      <td>2523.693694</td>\n",
       "      <td>2121.187030</td>\n",
       "    </tr>\n",
       "    <tr>\n",
       "      <th>1</th>\n",
       "      <td>0002d606e81dfbf6445cf96f9d54f4577dda8361ffe2b1...</td>\n",
       "      <td>481</td>\n",
       "      <td>643140</td>\n",
       "      <td>1337.089397</td>\n",
       "      <td>1003.673799</td>\n",
       "    </tr>\n",
       "    <tr>\n",
       "      <th>2</th>\n",
       "      <td>00100c30414d08d69679faa672754c92965b81a2cd4b13...</td>\n",
       "      <td>368</td>\n",
       "      <td>474550</td>\n",
       "      <td>1289.538043</td>\n",
       "      <td>851.818413</td>\n",
       "    </tr>\n",
       "    <tr>\n",
       "      <th>3</th>\n",
       "      <td>0019156e67468401eff62e992d581d721c2f2d68d78dc6...</td>\n",
       "      <td>67</td>\n",
       "      <td>79270</td>\n",
       "      <td>1183.134328</td>\n",
       "      <td>965.409646</td>\n",
       "    </tr>\n",
       "    <tr>\n",
       "      <th>4</th>\n",
       "      <td>0019ebcf13ea62a20b0e6626103f4d2164e61c64355b9d...</td>\n",
       "      <td>31</td>\n",
       "      <td>41250</td>\n",
       "      <td>1330.645161</td>\n",
       "      <td>1159.804396</td>\n",
       "    </tr>\n",
       "    <tr>\n",
       "      <th>...</th>\n",
       "      <td>...</td>\n",
       "      <td>...</td>\n",
       "      <td>...</td>\n",
       "      <td>...</td>\n",
       "      <td>...</td>\n",
       "    </tr>\n",
       "    <tr>\n",
       "      <th>18306</th>\n",
       "      <td>ffe4649641ec7255718ea6498c1228971486b07c08495a...</td>\n",
       "      <td>424</td>\n",
       "      <td>537680</td>\n",
       "      <td>1268.113208</td>\n",
       "      <td>855.380538</td>\n",
       "    </tr>\n",
       "    <tr>\n",
       "      <th>18307</th>\n",
       "      <td>ffe61ff67fdfdbd6dc26ce0dbbd0be4b8a6d400bd8f47e...</td>\n",
       "      <td>162</td>\n",
       "      <td>271850</td>\n",
       "      <td>1678.086420</td>\n",
       "      <td>1230.284790</td>\n",
       "    </tr>\n",
       "    <tr>\n",
       "      <th>18308</th>\n",
       "      <td>ffef5515f5136b7db04522aa06927601eee80d6e33aff4...</td>\n",
       "      <td>5</td>\n",
       "      <td>4530</td>\n",
       "      <td>906.000000</td>\n",
       "      <td>511.888660</td>\n",
       "    </tr>\n",
       "    <tr>\n",
       "      <th>18309</th>\n",
       "      <td>fff7166dc78cbafa2d528b60c8ad3a02de0c801d67671f...</td>\n",
       "      <td>206</td>\n",
       "      <td>78280</td>\n",
       "      <td>380.000000</td>\n",
       "      <td>489.201440</td>\n",
       "    </tr>\n",
       "    <tr>\n",
       "      <th>18310</th>\n",
       "      <td>fffb23b224fafad73121af8440f0b60aa794d18278f20b...</td>\n",
       "      <td>207</td>\n",
       "      <td>126410</td>\n",
       "      <td>610.676329</td>\n",
       "      <td>774.200199</td>\n",
       "    </tr>\n",
       "  </tbody>\n",
       "</table>\n",
       "<p>18311 rows × 5 columns</p>\n",
       "</div>"
      ],
      "text/plain": [
       "                                                     uno  tot_view_count  \\\n",
       "0      00005933bf5b80f52ee0981778d9be8c410bb662d2e78c...             111   \n",
       "1      0002d606e81dfbf6445cf96f9d54f4577dda8361ffe2b1...             481   \n",
       "2      00100c30414d08d69679faa672754c92965b81a2cd4b13...             368   \n",
       "3      0019156e67468401eff62e992d581d721c2f2d68d78dc6...              67   \n",
       "4      0019ebcf13ea62a20b0e6626103f4d2164e61c64355b9d...              31   \n",
       "...                                                  ...             ...   \n",
       "18306  ffe4649641ec7255718ea6498c1228971486b07c08495a...             424   \n",
       "18307  ffe61ff67fdfdbd6dc26ce0dbbd0be4b8a6d400bd8f47e...             162   \n",
       "18308  ffef5515f5136b7db04522aa06927601eee80d6e33aff4...               5   \n",
       "18309  fff7166dc78cbafa2d528b60c8ad3a02de0c801d67671f...             206   \n",
       "18310  fffb23b224fafad73121af8440f0b60aa794d18278f20b...             207   \n",
       "\n",
       "       tot_viewtime_sum  tot_viewtime_mean  tot_viewtime_std  \n",
       "0                280130        2523.693694       2121.187030  \n",
       "1                643140        1337.089397       1003.673799  \n",
       "2                474550        1289.538043        851.818413  \n",
       "3                 79270        1183.134328        965.409646  \n",
       "4                 41250        1330.645161       1159.804396  \n",
       "...                 ...                ...               ...  \n",
       "18306            537680        1268.113208        855.380538  \n",
       "18307            271850        1678.086420       1230.284790  \n",
       "18308              4530         906.000000        511.888660  \n",
       "18309             78280         380.000000        489.201440  \n",
       "18310            126410         610.676329        774.200199  \n",
       "\n",
       "[18311 rows x 5 columns]"
      ]
     },
     "execution_count": 5,
     "metadata": {},
     "output_type": "execute_result"
    }
   ],
   "source": [
    "predict_bookmark_grb_tot = pd.DataFrame(predict_bookmark.groupby(['uno'])['dates'].count())\n",
    "predict_bookmark_grb_tot.rename(columns={'dates':'tot_view_count'}, inplace=True)\n",
    "predict_bookmark_grb_tot.reset_index(drop=False, inplace=True)\n",
    "\n",
    "\n",
    "predict_bookmark_grb_tot = pd.merge(predict_bookmark_grb_tot, pd.DataFrame(predict_bookmark.groupby(['uno'])['viewtime'].sum()), on=['uno'])\n",
    "predict_bookmark_grb_tot.rename(columns={'viewtime':'tot_viewtime_sum'}, inplace=True)\n",
    "\n",
    "predict_bookmark_grb_tot = pd.merge(predict_bookmark_grb_tot, pd.DataFrame(predict_bookmark.groupby(['uno'])['viewtime'].mean()), on=['uno'])\n",
    "predict_bookmark_grb_tot.rename(columns={'viewtime':'tot_viewtime_mean'}, inplace=True)\n",
    "\n",
    "predict_bookmark_grb_tot = pd.merge(predict_bookmark_grb_tot, pd.DataFrame(predict_bookmark.groupby(['uno'])['viewtime'].std()), on=['uno'])\n",
    "predict_bookmark_grb_tot.rename(columns={'viewtime':'tot_viewtime_std'}, inplace=True)\n",
    "\n",
    "predict_bookmark_grb_tot"
   ]
  },
  {
   "cell_type": "code",
   "execution_count": 6,
   "id": "bfdflr-NbC7M",
   "metadata": {
    "id": "bfdflr-NbC7M"
   },
   "outputs": [],
   "source": [
    "predict_service = pd.merge(predict_service, predict_bookmark_grb_tot, on='uno', how='left')\n",
    "predict_service['tot_view_count'].fillna(0, inplace=True)\n",
    "predict_service['tot_viewtime_sum'].fillna(0, inplace=True)\n",
    "predict_service['tot_viewtime_mean'].fillna(0, inplace=True)\n",
    "predict_service['tot_viewtime_std'].fillna(0, inplace=True)"
   ]
  },
  {
   "cell_type": "code",
   "execution_count": null,
   "id": "bA505YKgbgoD",
   "metadata": {
    "colab": {
     "base_uri": "https://localhost:8080/",
     "height": 394
    },
    "id": "bA505YKgbgoD",
    "outputId": "bc7ac116-7fec-4e6e-c8cd-540a61df64bd"
   },
   "outputs": [],
   "source": [
    "predict_service.head()"
   ]
  },
  {
   "cell_type": "code",
   "execution_count": 7,
   "id": "6OETGFI4AqYx",
   "metadata": {
    "colab": {
     "base_uri": "https://localhost:8080/",
     "height": 419
    },
    "id": "6OETGFI4AqYx",
    "outputId": "0aa3eba2-f1a7-448e-af19-6c6b8c580522"
   },
   "outputs": [],
   "source": [
    "train_bookmark_grb = pd.DataFrame(train_bookmark.groupby(['uno', 'dates'])['dates'].count())\n",
    "train_bookmark_grb.rename(columns={'dates':'view_count'}, inplace=True)\n",
    "train_bookmark_grb.reset_index(drop=False, inplace=True)\n",
    "\n",
    "\n",
    "train_bookmark_grb = pd.merge(train_bookmark_grb, pd.DataFrame(train_bookmark.groupby(['uno', 'dates'])['viewtime'].sum()), on=['uno', 'dates'])\n",
    "train_bookmark_grb.rename(columns={'viewtime':'viewtime_sum'}, inplace=True)\n",
    "\n",
    "train_bookmark_grb = pd.merge(train_bookmark_grb, pd.DataFrame(train_bookmark.groupby(['uno', 'dates'])['viewtime'].mean()), on=['uno', 'dates'])\n",
    "train_bookmark_grb.rename(columns={'viewtime':'viewtime_mean'}, inplace=True)\n",
    "\n",
    "train_bookmark_grb = pd.merge(train_bookmark_grb, pd.DataFrame(train_bookmark.groupby(['uno', 'dates'])['viewtime'].std()), on=['uno', 'dates'])\n",
    "train_bookmark_grb.rename(columns={'viewtime':'viewtime_std'}, inplace=True)\n",
    "\n",
    "import sqlite3\n",
    "\n",
    "conn = sqlite3.connect(':memory:')\n",
    "\n",
    "train_service.to_sql('train_service', conn, index=False)\n",
    "train_bookmark_grb.to_sql('train_bookmark_grb', conn, index=False)\n",
    "\n",
    "query = '''\n",
    "select train_service.uno,\n",
    "       registerdate, \n",
    "       enddate, \n",
    "       sum(view_count) view_count, \n",
    "       sum(viewtime_sum) viewtime_sum, \n",
    "       sum(viewtime_mean) viewtime_mean, \n",
    "       sum(viewtime_std) viewtime_std\n",
    "from train_service\n",
    "left join train_bookmark_grb\n",
    "on train_bookmark_grb.dates >= registerdate and train_bookmark_grb.dates <= enddate\n",
    "and train_service.uno = train_bookmark_grb.uno \n",
    "group by train_service.uno, registerdate, enddate\n",
    "'''\n",
    "sqlDf = pd.read_sql_query(query, conn)\n",
    "sqlDf['registerdate'] = pd.to_datetime(sqlDf['registerdate'])\n",
    "sqlDf['enddate'] = pd.to_datetime(sqlDf['enddate'])\n",
    "train_service = pd.merge(train_service, sqlDf, on=['uno', 'registerdate', 'enddate'])"
   ]
  },
  {
   "cell_type": "code",
   "execution_count": 8,
   "id": "ds5bT6zvGSYO",
   "metadata": {
    "id": "ds5bT6zvGSYO"
   },
   "outputs": [],
   "source": [
    "predict_bookmark_grp = pd.DataFrame(predict_bookmark.groupby(['uno', 'dates'])['dates'].count())\n",
    "predict_bookmark_grp.rename(columns={'dates':'view_count'}, inplace=True)\n",
    "predict_bookmark_grp.reset_index(drop=False, inplace=True)\n",
    "\n",
    "\n",
    "predict_bookmark_grp = pd.merge(predict_bookmark_grp, pd.DataFrame(predict_bookmark.groupby(['uno', 'dates'])['viewtime'].sum()), on=['uno', 'dates'])\n",
    "predict_bookmark_grp.rename(columns={'viewtime':'viewtime_sum'}, inplace=True)\n",
    "\n",
    "predict_bookmark_grp = pd.merge(predict_bookmark_grp, pd.DataFrame(predict_bookmark.groupby(['uno', 'dates'])['viewtime'].mean()), on=['uno', 'dates'])\n",
    "predict_bookmark_grp.rename(columns={'viewtime':'viewtime_mean'}, inplace=True)\n",
    "\n",
    "predict_bookmark_grp = pd.merge(predict_bookmark_grp, pd.DataFrame(predict_bookmark.groupby(['uno', 'dates'])['viewtime'].std()), on=['uno', 'dates'])\n",
    "predict_bookmark_grp.rename(columns={'viewtime':'viewtime_std'}, inplace=True)\n",
    "\n",
    "import sqlite3\n",
    "\n",
    "conn = sqlite3.connect(':memory:')\n",
    "\n",
    "predict_service.to_sql('predict_service', conn, index=False)\n",
    "predict_bookmark_grp.to_sql('predict_bookmark_grp', conn, index=False)\n",
    "\n",
    "query = '''\n",
    "select predict_service.uno,\n",
    "       registerdate, \n",
    "       enddate, \n",
    "       sum(view_count) view_count, \n",
    "       sum(viewtime_sum) viewtime_sum, \n",
    "       sum(viewtime_mean) viewtime_mean, \n",
    "       sum(viewtime_std) viewtime_std\n",
    "from predict_service\n",
    "left join predict_bookmark_grp\n",
    "on predict_bookmark_grp.dates >= registerdate and predict_bookmark_grp.dates <= enddate\n",
    "and predict_service.uno = predict_bookmark_grp.uno \n",
    "group by predict_service.uno, registerdate, enddate\n",
    "'''\n",
    "sqlDf = pd.read_sql_query(query, conn)\n",
    "sqlDf['registerdate'] = pd.to_datetime(sqlDf['registerdate'])\n",
    "sqlDf['enddate'] = pd.to_datetime(sqlDf['enddate'])\n",
    "predict_service = pd.merge(predict_service, sqlDf, on=['uno', 'registerdate', 'enddate'])"
   ]
  },
  {
   "cell_type": "code",
   "execution_count": null,
   "id": "OwJ-wk1HgFDW",
   "metadata": {
    "colab": {
     "base_uri": "https://localhost:8080/",
     "height": 394
    },
    "id": "OwJ-wk1HgFDW",
    "outputId": "d8b75e15-26f4-4e10-8a72-f5921c25b225"
   },
   "outputs": [],
   "source": [
    "predict_service.head()"
   ]
  },
  {
   "cell_type": "markdown",
   "id": "8ebec82d",
   "metadata": {
    "id": "8ebec82d"
   },
   "source": [
    "## Productcode별 해지율"
   ]
  },
  {
   "cell_type": "code",
   "execution_count": 9,
   "id": "14490720",
   "metadata": {
    "colab": {
     "base_uri": "https://localhost:8080/",
     "height": 394
    },
    "id": "14490720",
    "outputId": "3b687b43-78b2-4d7e-d760-036aa381e48a"
   },
   "outputs": [
    {
     "data": {
      "text/html": [
       "<div>\n",
       "<style scoped>\n",
       "    .dataframe tbody tr th:only-of-type {\n",
       "        vertical-align: middle;\n",
       "    }\n",
       "\n",
       "    .dataframe tbody tr th {\n",
       "        vertical-align: top;\n",
       "    }\n",
       "\n",
       "    .dataframe thead th {\n",
       "        text-align: right;\n",
       "    }\n",
       "</style>\n",
       "<table border=\"1\" class=\"dataframe\">\n",
       "  <thead>\n",
       "    <tr style=\"text-align: right;\">\n",
       "      <th></th>\n",
       "      <th>uno</th>\n",
       "      <th>registerdate</th>\n",
       "      <th>enddate</th>\n",
       "      <th>productcode</th>\n",
       "      <th>pgamount</th>\n",
       "      <th>chargetypeid</th>\n",
       "      <th>concurrentwatchcount</th>\n",
       "      <th>promo_100</th>\n",
       "      <th>coinReceived</th>\n",
       "      <th>Repurchase</th>\n",
       "      <th>...</th>\n",
       "      <th>agegroup</th>\n",
       "      <th>tot_view_count</th>\n",
       "      <th>tot_viewtime_sum</th>\n",
       "      <th>tot_viewtime_mean</th>\n",
       "      <th>tot_viewtime_std</th>\n",
       "      <th>view_count</th>\n",
       "      <th>viewtime_sum</th>\n",
       "      <th>viewtime_mean</th>\n",
       "      <th>viewtime_std</th>\n",
       "      <th>ChurnRateByProductcode</th>\n",
       "    </tr>\n",
       "  </thead>\n",
       "  <tbody>\n",
       "    <tr>\n",
       "      <th>0</th>\n",
       "      <td>9c1c04380d3ec71c9ea55cb99ad803ab7c0037a3482b9b...</td>\n",
       "      <td>2021-03-14 16:44:57</td>\n",
       "      <td>2021-04-14 16:44:57</td>\n",
       "      <td>pk_1487</td>\n",
       "      <td>100.0</td>\n",
       "      <td>190</td>\n",
       "      <td>1</td>\n",
       "      <td>1</td>\n",
       "      <td>0</td>\n",
       "      <td>NaN</td>\n",
       "      <td>...</td>\n",
       "      <td>20</td>\n",
       "      <td>87.0</td>\n",
       "      <td>96890.0</td>\n",
       "      <td>1113.678161</td>\n",
       "      <td>948.960404</td>\n",
       "      <td>87.0</td>\n",
       "      <td>96890.0</td>\n",
       "      <td>15847.277778</td>\n",
       "      <td>11693.723742</td>\n",
       "      <td>0.319453</td>\n",
       "    </tr>\n",
       "    <tr>\n",
       "      <th>1</th>\n",
       "      <td>b725d844efdb214963a6ccae004778d0fe40f8a0b5e901...</td>\n",
       "      <td>2021-03-14 21:33:10</td>\n",
       "      <td>2021-04-14 21:33:10</td>\n",
       "      <td>pk_1488</td>\n",
       "      <td>100.0</td>\n",
       "      <td>134</td>\n",
       "      <td>2</td>\n",
       "      <td>1</td>\n",
       "      <td>0</td>\n",
       "      <td>NaN</td>\n",
       "      <td>...</td>\n",
       "      <td>35</td>\n",
       "      <td>48.0</td>\n",
       "      <td>24240.0</td>\n",
       "      <td>505.000000</td>\n",
       "      <td>488.684731</td>\n",
       "      <td>41.0</td>\n",
       "      <td>20970.0</td>\n",
       "      <td>5508.378788</td>\n",
       "      <td>3402.540033</td>\n",
       "      <td>0.213888</td>\n",
       "    </tr>\n",
       "    <tr>\n",
       "      <th>2</th>\n",
       "      <td>7de6c80c6cb5c5098bbfef8d9da75dfdd338b681d96691...</td>\n",
       "      <td>2021-03-14 10:55:38</td>\n",
       "      <td>2021-04-14 10:55:38</td>\n",
       "      <td>pk_2025</td>\n",
       "      <td>100.0</td>\n",
       "      <td>151</td>\n",
       "      <td>1</td>\n",
       "      <td>1</td>\n",
       "      <td>0</td>\n",
       "      <td>NaN</td>\n",
       "      <td>...</td>\n",
       "      <td>40</td>\n",
       "      <td>13.0</td>\n",
       "      <td>9460.0</td>\n",
       "      <td>727.692308</td>\n",
       "      <td>1304.077924</td>\n",
       "      <td>NaN</td>\n",
       "      <td>NaN</td>\n",
       "      <td>NaN</td>\n",
       "      <td>NaN</td>\n",
       "      <td>0.293849</td>\n",
       "    </tr>\n",
       "    <tr>\n",
       "      <th>3</th>\n",
       "      <td>a5a209071166d24243bf47955ca91bb590a9d3bee46d71...</td>\n",
       "      <td>2021-03-14 00:19:21</td>\n",
       "      <td>2021-04-14 00:19:21</td>\n",
       "      <td>pk_1488</td>\n",
       "      <td>10900.0</td>\n",
       "      <td>190</td>\n",
       "      <td>2</td>\n",
       "      <td>0</td>\n",
       "      <td>0</td>\n",
       "      <td>NaN</td>\n",
       "      <td>...</td>\n",
       "      <td>40</td>\n",
       "      <td>151.0</td>\n",
       "      <td>178570.0</td>\n",
       "      <td>1182.582781</td>\n",
       "      <td>1022.527238</td>\n",
       "      <td>147.0</td>\n",
       "      <td>173160.0</td>\n",
       "      <td>20966.731962</td>\n",
       "      <td>16397.213048</td>\n",
       "      <td>0.213888</td>\n",
       "    </tr>\n",
       "    <tr>\n",
       "      <th>4</th>\n",
       "      <td>7a6960912bebe03c6e4c770eb1aa91329c3497f18f90ca...</td>\n",
       "      <td>2021-03-14 20:08:31</td>\n",
       "      <td>2021-04-14 20:08:31</td>\n",
       "      <td>pk_1489</td>\n",
       "      <td>100.0</td>\n",
       "      <td>134</td>\n",
       "      <td>4</td>\n",
       "      <td>1</td>\n",
       "      <td>0</td>\n",
       "      <td>NaN</td>\n",
       "      <td>...</td>\n",
       "      <td>20</td>\n",
       "      <td>36.0</td>\n",
       "      <td>27890.0</td>\n",
       "      <td>774.722222</td>\n",
       "      <td>645.660176</td>\n",
       "      <td>33.0</td>\n",
       "      <td>25890.0</td>\n",
       "      <td>7201.818182</td>\n",
       "      <td>4224.081604</td>\n",
       "      <td>0.439507</td>\n",
       "    </tr>\n",
       "  </tbody>\n",
       "</table>\n",
       "<p>5 rows × 23 columns</p>\n",
       "</div>"
      ],
      "text/plain": [
       "                                                 uno        registerdate  \\\n",
       "0  9c1c04380d3ec71c9ea55cb99ad803ab7c0037a3482b9b... 2021-03-14 16:44:57   \n",
       "1  b725d844efdb214963a6ccae004778d0fe40f8a0b5e901... 2021-03-14 21:33:10   \n",
       "2  7de6c80c6cb5c5098bbfef8d9da75dfdd338b681d96691... 2021-03-14 10:55:38   \n",
       "3  a5a209071166d24243bf47955ca91bb590a9d3bee46d71... 2021-03-14 00:19:21   \n",
       "4  7a6960912bebe03c6e4c770eb1aa91329c3497f18f90ca... 2021-03-14 20:08:31   \n",
       "\n",
       "              enddate productcode  pgamount  chargetypeid  \\\n",
       "0 2021-04-14 16:44:57     pk_1487     100.0           190   \n",
       "1 2021-04-14 21:33:10     pk_1488     100.0           134   \n",
       "2 2021-04-14 10:55:38     pk_2025     100.0           151   \n",
       "3 2021-04-14 00:19:21     pk_1488   10900.0           190   \n",
       "4 2021-04-14 20:08:31     pk_1489     100.0           134   \n",
       "\n",
       "   concurrentwatchcount  promo_100  coinReceived Repurchase  ... agegroup  \\\n",
       "0                     1          1             0        NaN  ...       20   \n",
       "1                     2          1             0        NaN  ...       35   \n",
       "2                     1          1             0        NaN  ...       40   \n",
       "3                     2          0             0        NaN  ...       40   \n",
       "4                     4          1             0        NaN  ...       20   \n",
       "\n",
       "   tot_view_count tot_viewtime_sum  tot_viewtime_mean  tot_viewtime_std  \\\n",
       "0            87.0          96890.0        1113.678161        948.960404   \n",
       "1            48.0          24240.0         505.000000        488.684731   \n",
       "2            13.0           9460.0         727.692308       1304.077924   \n",
       "3           151.0         178570.0        1182.582781       1022.527238   \n",
       "4            36.0          27890.0         774.722222        645.660176   \n",
       "\n",
       "   view_count  viewtime_sum  viewtime_mean  viewtime_std  \\\n",
       "0        87.0       96890.0   15847.277778  11693.723742   \n",
       "1        41.0       20970.0    5508.378788   3402.540033   \n",
       "2         NaN           NaN            NaN           NaN   \n",
       "3       147.0      173160.0   20966.731962  16397.213048   \n",
       "4        33.0       25890.0    7201.818182   4224.081604   \n",
       "\n",
       "   ChurnRateByProductcode  \n",
       "0                0.319453  \n",
       "1                0.213888  \n",
       "2                0.293849  \n",
       "3                0.213888  \n",
       "4                0.439507  \n",
       "\n",
       "[5 rows x 23 columns]"
      ]
     },
     "execution_count": 9,
     "metadata": {},
     "output_type": "execute_result"
    }
   ],
   "source": [
    "rateByproductcode = pd.DataFrame(train_service.groupby(['productcode', 'Repurchase'])['Repurchase'].count()) / pd.DataFrame(train_service.groupby(['productcode'])['Repurchase'].count())\n",
    "rateByproductcode.columns = ['ChurnRateByProductcode']\n",
    "rateByproductcode.reset_index(inplace=True)\n",
    "\n",
    "train_service = pd.merge(train_service, \n",
    "                 rateByproductcode[rateByproductcode['Repurchase'] == 1][['productcode', 'ChurnRateByProductcode']], \n",
    "                 on='productcode', how='left')\n",
    "\n",
    "predict_service = pd.merge(predict_service, \n",
    "                 rateByproductcode[rateByproductcode['Repurchase'] == 1][['productcode', 'ChurnRateByProductcode']], \n",
    "                 on='productcode', how='left')\n",
    "predict_service.head()"
   ]
  },
  {
   "cell_type": "markdown",
   "id": "3b706d11",
   "metadata": {
    "id": "3b706d11"
   },
   "source": [
    "## chargetypeid별 해지율"
   ]
  },
  {
   "cell_type": "code",
   "execution_count": 10,
   "id": "2039c241",
   "metadata": {
    "colab": {
     "base_uri": "https://localhost:8080/",
     "height": 394
    },
    "id": "2039c241",
    "outputId": "6ab13be6-49c7-4e6c-e2ce-7f18d869acef"
   },
   "outputs": [],
   "source": [
    "rateByChargetypeid = pd.DataFrame(train_service.groupby(['chargetypeid', 'Repurchase'])['Repurchase'].count()) / pd.DataFrame(train_service.groupby(['chargetypeid'])['Repurchase'].count())\n",
    "rateByChargetypeid.columns = ['ChurnRateByChargetypeid']\n",
    "rateByChargetypeid.reset_index(inplace=True)\n",
    "\n",
    "train_service = pd.merge(train_service, \n",
    "                 rateByChargetypeid[rateByChargetypeid['Repurchase'] == 1][['chargetypeid', 'ChurnRateByChargetypeid']], \n",
    "                 on='chargetypeid', how='left')\n",
    "train_service['ChurnRateByChargetypeid'].fillna(0, inplace=True)\n",
    "\n",
    "predict_service = pd.merge(predict_service, \n",
    "                 rateByChargetypeid[rateByChargetypeid['Repurchase'] == 1][['chargetypeid', 'ChurnRateByChargetypeid']], \n",
    "                 on='chargetypeid', how='left')\n",
    "predict_service['ChurnRateByChargetypeid'].fillna(0, inplace=True)"
   ]
  },
  {
   "cell_type": "code",
   "execution_count": null,
   "id": "e10cee8c",
   "metadata": {},
   "outputs": [],
   "source": [
    "rateByChargetypeid"
   ]
  },
  {
   "cell_type": "markdown",
   "id": "2f553edc",
   "metadata": {
    "id": "2f553edc"
   },
   "source": [
    "## Device Count"
   ]
  },
  {
   "cell_type": "code",
   "execution_count": 11,
   "id": "fb4adccc",
   "metadata": {
    "id": "fb4adccc"
   },
   "outputs": [],
   "source": [
    "train_service = pd.merge(train_service, \n",
    "                 train_bookmark.groupby('uno')['devicetype'].nunique(), \n",
    "                 on='uno', how='left')\n",
    "\n",
    "train_service.rename(columns={'devicetype':'devicetype_cnt'}, inplace=True)\n",
    "\n",
    "predict_service = pd.merge(predict_service, \n",
    "                 predict_bookmark.groupby('uno')['devicetype'].nunique(), \n",
    "                 on='uno', how='left')\n",
    "predict_service.rename(columns={'devicetype':'devicetype_cnt'}, inplace=True)"
   ]
  },
  {
   "cell_type": "markdown",
   "id": "78861d2e",
   "metadata": {
    "id": "78861d2e"
   },
   "source": [
    "## 고객별 가입이력"
   ]
  },
  {
   "cell_type": "code",
   "execution_count": null,
   "id": "0f080a8a",
   "metadata": {
    "id": "0f080a8a"
   },
   "outputs": [],
   "source": [
    "pd.DataFrame(train_service.groupby('uno')['registerdate'].count()).sort_values(by='registerdate', ascending=False)"
   ]
  },
  {
   "cell_type": "code",
   "execution_count": null,
   "id": "688e8e26",
   "metadata": {
    "id": "688e8e26"
   },
   "outputs": [],
   "source": [
    "train_service.groupby(['uno'])['Repurchase'].sum() / train_service.groupby(['uno'])['registerdate'].count()"
   ]
  },
  {
   "cell_type": "code",
   "execution_count": null,
   "id": "efce9fa4",
   "metadata": {},
   "outputs": [],
   "source": [
    "# 가입횟수\n",
    "df_join_info = pd.DataFrame()\n",
    "df_join_info['join_count'] = train_service.groupby(['uno'])['registerdate'].count()\n",
    "\n",
    "# 해지횟수\n",
    "df_join_info['chrun_count'] = train_service.groupby(['uno'])['registerdate'].count() - train_service.groupby(['uno'])['Repurchase'].sum()\n",
    "\n",
    "# 해지율\n",
    "df_join_info['churn_rate'] = df_join_info['chrun_count'] / df_join_info['join_count']"
   ]
  },
  {
   "cell_type": "code",
   "execution_count": null,
   "id": "15edac9b",
   "metadata": {},
   "outputs": [],
   "source": [
    "df_join_info[(df_join_info['churn_rate'] > 0) & (df_join_info['churn_rate'] < 1)].sort_values(by='churn_rate')"
   ]
  },
  {
   "cell_type": "code",
   "execution_count": null,
   "id": "713c9b15",
   "metadata": {},
   "outputs": [],
   "source": [
    "train_service[train_service['uno'] == '9dbaa030c6b2e1617537475b85dd57d7d6b993fa2387b61db8d05dc57e86f650fb10c003859b12fa7f7adda43142cac7c8a8aa12713ce1ef498a37e9e05202b7']"
   ]
  },
  {
   "cell_type": "code",
   "execution_count": null,
   "id": "4294a320",
   "metadata": {},
   "outputs": [],
   "source": [
    "train_service['rateByChargetypeid'].unique()"
   ]
  },
  {
   "cell_type": "code",
   "execution_count": null,
   "id": "dc8fa276",
   "metadata": {},
   "outputs": [],
   "source": [
    "train_service[train_service['chargetypeid'] == 121]"
   ]
  },
  {
   "cell_type": "markdown",
   "id": "50f92d62",
   "metadata": {
    "id": "50f92d62"
   },
   "source": [
    "## 시리즈물 시청 정보"
   ]
  },
  {
   "cell_type": "code",
   "execution_count": null,
   "id": "a6456664",
   "metadata": {
    "id": "a6456664",
    "scrolled": false
   },
   "outputs": [],
   "source": [
    "train_bookmark.head()"
   ]
  },
  {
   "cell_type": "code",
   "execution_count": null,
   "id": "fa07dd60",
   "metadata": {
    "id": "fa07dd60"
   },
   "outputs": [],
   "source": [
    "content_info[content_info['contentid'].str.contains('S01_E454434902')]"
   ]
  },
  {
   "cell_type": "code",
   "execution_count": null,
   "id": "ace28b46",
   "metadata": {
    "id": "ace28b46"
   },
   "outputs": [],
   "source": [
    "movie_info.head()"
   ]
  },
  {
   "cell_type": "markdown",
   "id": "049c7304",
   "metadata": {
    "id": "049c7304"
   },
   "source": [
    "# Feature Select"
   ]
  },
  {
   "cell_type": "code",
   "execution_count": null,
   "id": "bf5c9aba",
   "metadata": {
    "colab": {
     "base_uri": "https://localhost:8080/",
     "height": 758
    },
    "id": "bf5c9aba",
    "outputId": "7c9514fd-34e7-4574-8bee-3258c6e172d8"
   },
   "outputs": [],
   "source": [
    "import matplotlib.pyplot as plt\n",
    "import seaborn as sns\n",
    "\n",
    "%matplotlib inline\n",
    "\n",
    "plt.figure(figsize=(18,10))\n",
    "sns.heatmap(train_service.corr(), annot=True)   "
   ]
  },
  {
   "cell_type": "code",
   "execution_count": null,
   "id": "e70eeb31",
   "metadata": {
    "colab": {
     "base_uri": "https://localhost:8080/"
    },
    "id": "e70eeb31",
    "outputId": "d4aeb14b-f90a-4ca8-f320-bb34b2d28dfa"
   },
   "outputs": [],
   "source": [
    "train_columns = list(train_service.columns)\n",
    "train_columns.remove('Repurchase')\n",
    "train_columns"
   ]
  },
  {
   "cell_type": "markdown",
   "id": "f5376cf2",
   "metadata": {
    "id": "f5376cf2"
   },
   "source": [
    "# Model"
   ]
  },
  {
   "cell_type": "markdown",
   "id": "16e26f3e",
   "metadata": {
    "id": "16e26f3e"
   },
   "source": [
    "## KNN"
   ]
  },
  {
   "cell_type": "code",
   "execution_count": null,
   "id": "yRwLyLq-n24T",
   "metadata": {
    "id": "yRwLyLq-n24T"
   },
   "outputs": [],
   "source": [
    "train_service_target = train_service[train_service.enddate >= (train_service.registerdate + pd.DateOffset(weeks=3))]\n",
    "predict_service_target = predict_service[predict_service.enddate >= (predict_service.registerdate + pd.DateOffset(weeks=3))]\n"
   ]
  },
  {
   "cell_type": "code",
   "execution_count": null,
   "id": "jfGSpw0hkFLy",
   "metadata": {
    "id": "jfGSpw0hkFLy"
   },
   "outputs": [],
   "source": [
    "for c in train_service[train_columns].select_dtypes(['float64', 'int64']).columns:\n",
    "  train_service.fillna(0, inplace=True)\n",
    "\n",
    "for c in predict_service[train_columns].select_dtypes(['float64', 'int64']).columns:\n",
    "  predict_service.fillna(0, inplace=True)  "
   ]
  },
  {
   "cell_type": "code",
   "execution_count": null,
   "id": "1f227fa9",
   "metadata": {
    "colab": {
     "base_uri": "https://localhost:8080/"
    },
    "id": "1f227fa9",
    "outputId": "bcca3805-b45e-4512-915a-c8497f85cb3e"
   },
   "outputs": [],
   "source": [
    "from sklearn.neighbors import KNeighborsClassifier\n",
    "from sklearn.model_selection import train_test_split\n",
    "from sklearn.metrics import classification_report\n",
    "from sklearn.model_selection import GridSearchCV\n",
    "from sklearn.preprocessing import MinMaxScaler\n",
    "\n",
    "X_train, X_test, y_train, y_test = train_test_split(train_service[train_columns].select_dtypes(['float64', 'int64']), \n",
    "                                                    train_service['Repurchase'], \n",
    "                                                    test_size=0.2, \n",
    "                                                    stratify=train_service['Repurchase'])\n",
    "\n",
    "scaler = MinMaxScaler()\n",
    "X_train_norm = scaler.fit_transform(X_train)\n",
    "X_test_norm = scaler.transform(X_test)\n",
    "\n",
    "params = {\n",
    "    'n_neighbors' : range(1, 21, 1)   \n",
    "}\n",
    "clf = KNeighborsClassifier()\n",
    "grid_cv = GridSearchCV(clf, param_grid=params, scoring='f1', cv=5, verbose=1)\n",
    "grid_cv.fit(X_train_norm, y_train)\n",
    "\n",
    "# clf.fit(X_train, y_train)\n",
    "pred = grid_cv.best_estimator_.predict(X_test_norm)\n",
    "print(grid_cv.best_score_)\n",
    "print(grid_cv.best_params_)\n",
    "print(classification_report(y_test, pred))\n"
   ]
  },
  {
   "cell_type": "code",
   "execution_count": null,
   "id": "j55iwP4E1B1o",
   "metadata": {
    "colab": {
     "base_uri": "https://localhost:8080/"
    },
    "id": "j55iwP4E1B1o",
    "outputId": "057bc9a9-4e81-4ae6-971c-46b0afc42aa0"
   },
   "outputs": [],
   "source": [
    "from sklearn.neighbors import KNeighborsClassifier\n",
    "from sklearn.model_selection import train_test_split\n",
    "from sklearn.metrics import classification_report\n",
    "from sklearn.model_selection import GridSearchCV\n",
    "from sklearn.preprocessing import MinMaxScaler\n",
    "\n",
    "X_train, X_test, y_train, y_test = train_test_split(train_service_target[train_columns].select_dtypes(['float64', 'int64']), \n",
    "                                                    train_service_target['Repurchase'], \n",
    "                                                    test_size=0.2, \n",
    "                                                    stratify=train_service_target['Repurchase'])\n",
    "\n",
    "scaler = MinMaxScaler()\n",
    "X_train_norm = scaler.fit_transform(X_train)\n",
    "X_test_norm = scaler.transform(X_test)\n",
    "\n",
    "params = {\n",
    "    'n_neighbors' : range(1, 21, 1)   \n",
    "}\n",
    "clf = KNeighborsClassifier()\n",
    "grid_cv = GridSearchCV(clf, param_grid=params, scoring='f1', cv=5, verbose=1)\n",
    "grid_cv.fit(X_train_norm, y_train)\n",
    "\n",
    "# clf.fit(X_train, y_train)\n",
    "pred = grid_cv.best_estimator_.predict(X_test_norm)\n",
    "print(grid_cv.best_score_)\n",
    "print(grid_cv.best_params_)\n",
    "print(classification_report(y_test, pred))\n"
   ]
  },
  {
   "cell_type": "markdown",
   "id": "14bcbace",
   "metadata": {
    "id": "14bcbace"
   },
   "source": [
    "## Decision Tree"
   ]
  },
  {
   "cell_type": "code",
   "execution_count": null,
   "id": "I2hw-UDCnxVr",
   "metadata": {
    "id": "I2hw-UDCnxVr"
   },
   "outputs": [],
   "source": []
  },
  {
   "cell_type": "code",
   "execution_count": null,
   "id": "02eec8d3",
   "metadata": {
    "colab": {
     "base_uri": "https://localhost:8080/"
    },
    "id": "02eec8d3",
    "outputId": "9edea40b-8297-4134-aa1b-cced45c86bbf",
    "scrolled": false
   },
   "outputs": [],
   "source": [
    "from sklearn.model_selection import train_test_split\n",
    "from sklearn.tree import DecisionTreeClassifier\n",
    "from sklearn.metrics import classification_report\n",
    "from sklearn.model_selection import GridSearchCV\n",
    "\n",
    "X_train, X_test, y_train, y_test = train_test_split(train_service[train_columns].select_dtypes(['float64', 'int64']), \n",
    "                                                    train_service['Repurchase'], \n",
    "                                                    test_size=0.2, \n",
    "                                                    stratify=train_service['Repurchase'])\n",
    "\n",
    "params = {\n",
    "    'max_depth' : range(1, 21, 2),\n",
    "    'min_samples_split' : range(1, 11, 1)    \n",
    "}\n",
    "clf = DecisionTreeClassifier()\n",
    "grid_cv = GridSearchCV(clf, param_grid=params, scoring='f1', cv=5, verbose=1)\n",
    "grid_cv.fit(X_train, y_train)\n",
    "\n",
    "# clf.fit(X_train, y_train)\n",
    "pred = grid_cv.best_estimator_.predict(X_test)\n",
    "print(grid_cv.best_score_)\n",
    "print(grid_cv.best_params_)\n",
    "print(classification_report(y_test, pred))"
   ]
  },
  {
   "cell_type": "code",
   "execution_count": null,
   "id": "9ZO1DT971JZB",
   "metadata": {
    "colab": {
     "base_uri": "https://localhost:8080/"
    },
    "id": "9ZO1DT971JZB",
    "outputId": "157e1c67-144c-435d-c850-9ae7a0e53563"
   },
   "outputs": [],
   "source": [
    "from sklearn.model_selection import train_test_split\n",
    "from sklearn.tree import DecisionTreeClassifier\n",
    "from sklearn.metrics import classification_report\n",
    "from sklearn.model_selection import GridSearchCV\n",
    "\n",
    "X_train, X_test, y_train, y_test = train_test_split(train_service_target[train_columns].select_dtypes(['float64', 'int64']), \n",
    "                                                    train_service_target['Repurchase'], \n",
    "                                                    test_size=0.2, \n",
    "                                                    stratify=train_service_target['Repurchase'])\n",
    "\n",
    "params = {\n",
    "    'max_depth' : range(1, 21, 2),\n",
    "    'min_samples_split' : range(1, 11, 1)    \n",
    "}\n",
    "clf = DecisionTreeClassifier()\n",
    "grid_cv = GridSearchCV(clf, param_grid=params, scoring='f1', cv=5, verbose=1)\n",
    "grid_cv.fit(X_train, y_train)\n",
    "\n",
    "# clf.fit(X_train, y_train)\n",
    "pred = grid_cv.best_estimator_.predict(X_test)\n",
    "print(grid_cv.best_score_)\n",
    "print(grid_cv.best_params_)\n",
    "print(classification_report(y_test, pred))"
   ]
  },
  {
   "cell_type": "code",
   "execution_count": null,
   "id": "1c8fbe67",
   "metadata": {
    "id": "1c8fbe67"
   },
   "outputs": [],
   "source": [
    "pred_submission = clf.predict(predict_service[train_columns].select_dtypes(['float64', 'int64']))\n",
    "predict_service['pred'] = pred_submission\n",
    "predict_service.head()"
   ]
  },
  {
   "cell_type": "markdown",
   "id": "6658cdff",
   "metadata": {
    "id": "6658cdff"
   },
   "source": [
    "## RandomForestClassifier"
   ]
  },
  {
   "cell_type": "code",
   "execution_count": null,
   "id": "376f5b05",
   "metadata": {
    "colab": {
     "base_uri": "https://localhost:8080/"
    },
    "id": "376f5b05",
    "outputId": "0aef3e19-ce60-4ce8-8e8b-323d67c4d874"
   },
   "outputs": [],
   "source": [
    "from sklearn.model_selection import GridSearchCV\n",
    "from sklearn.model_selection import train_test_split\n",
    "from sklearn.ensemble import RandomForestClassifier\n",
    "from sklearn.metrics import classification_report\n",
    "\n",
    "X_train, X_test, y_train, y_test = train_test_split(train_service[train_columns].select_dtypes(['float64', 'int64']), \n",
    "                                                    train_service['Repurchase'], \n",
    "                                                    test_size=0.2, \n",
    "                                                    stratify=train_service['Repurchase'])\n",
    "\n",
    "from sklearn.ensemble import RandomForestClassifier\n",
    "from sklearn.model_selection import cross_val_score\n",
    "from sklearn.metrics import f1_score\n",
    "\n",
    "rcf = RandomForestClassifier()\n",
    "rcf.fit(X_train, y_train)\n",
    "pred = rcf.predict(X_test)\n",
    "print(classification_report(y_test, pred))"
   ]
  },
  {
   "cell_type": "code",
   "execution_count": null,
   "id": "sy-CPsM31R_M",
   "metadata": {
    "colab": {
     "base_uri": "https://localhost:8080/"
    },
    "id": "sy-CPsM31R_M",
    "outputId": "d1cd138f-5903-4a89-9f16-1fefdf470dfb"
   },
   "outputs": [],
   "source": [
    "from sklearn.model_selection import GridSearchCV\n",
    "from sklearn.model_selection import train_test_split\n",
    "from sklearn.ensemble import RandomForestClassifier\n",
    "from sklearn.metrics import classification_report\n",
    "\n",
    "X_train, X_test, y_train, y_test = train_test_split(train_service_target[train_columns].select_dtypes(['float64', 'int64']), \n",
    "                                                    train_service_target['Repurchase'], \n",
    "                                                    test_size=0.2, \n",
    "                                                    stratify=train_service_target['Repurchase'])\n",
    "\n",
    "from sklearn.ensemble import RandomForestClassifier\n",
    "from sklearn.model_selection import cross_val_score\n",
    "from sklearn.metrics import f1_score\n",
    "\n",
    "rcf = RandomForestClassifier()\n",
    "rcf.fit(X_train, y_train)\n",
    "pred = rcf.predict(X_test)\n",
    "print(classification_report(y_test, pred))"
   ]
  },
  {
   "cell_type": "code",
   "execution_count": null,
   "id": "a5823917",
   "metadata": {
    "id": "a5823917"
   },
   "outputs": [],
   "source": [
    "pred_submission = rcf.predict(predict_service[train_columns].select_dtypes(['float64', 'int64']))\n",
    "predict_service['pred'] = pred_submission\n",
    "predict_service.head()"
   ]
  },
  {
   "cell_type": "markdown",
   "id": "fa52ec77",
   "metadata": {
    "id": "fa52ec77"
   },
   "source": [
    "## Randomforest GridSearchCV"
   ]
  },
  {
   "cell_type": "code",
   "execution_count": null,
   "id": "75db923d",
   "metadata": {
    "colab": {
     "base_uri": "https://localhost:8080/"
    },
    "id": "75db923d",
    "outputId": "72bdc02f-1d27-407e-d7e4-2a51e66a3e1c"
   },
   "outputs": [],
   "source": [
    "from sklearn.model_selection import GridSearchCV\n",
    "from sklearn.model_selection import train_test_split\n",
    "from sklearn.ensemble import RandomForestClassifier\n",
    "\n",
    "X_train, X_test, y_train, y_test = train_test_split(train_service[train_columns].select_dtypes(['float64', 'int64']), \n",
    "                                                    train_service['Repurchase'], \n",
    "                                                    test_size=0.2, \n",
    "                                                    stratify=train_service['Repurchase'])\n",
    "\n",
    "params = {\n",
    "    'n_estimators': [300], #list(range(100, 501, 100)),\n",
    "#     'max_features' : [int(np.sqrt(len(train_columns)))],\n",
    "    'max_depth' : [6], #range(1, 10, 1),\n",
    "    'min_samples_leaf': [5], #range(1, 11, 1),\n",
    "    'min_samples_split': [2] #list(range(1, 11, 1))\n",
    "}\n",
    "\n",
    "rf_clf = RandomForestClassifier(random_state=0, n_jobs=-1)\n",
    "grid_cv = GridSearchCV(rf_clf, param_grid=params, cv=5, n_jobs=-1, scoring='f1')\n",
    "grid_cv.fit(X_train, y_train)\n",
    "pred = grid_cv.best_estimator_.predict(X_test)\n",
    "print(grid_cv.best_score_)\n",
    "print(grid_cv.best_params_)\n",
    "print(classification_report(y_test, pred))"
   ]
  },
  {
   "cell_type": "code",
   "execution_count": null,
   "id": "1PE-jRvK81lC",
   "metadata": {
    "colab": {
     "base_uri": "https://localhost:8080/"
    },
    "id": "1PE-jRvK81lC",
    "outputId": "d17b2aac-9052-4c80-f2df-be7b97f41431"
   },
   "outputs": [],
   "source": [
    "from sklearn.model_selection import GridSearchCV\n",
    "from sklearn.model_selection import train_test_split\n",
    "from sklearn.ensemble import RandomForestClassifier\n",
    "\n",
    "X_train, X_test, y_train, y_test = train_test_split(train_service_target[train_columns].select_dtypes(['float64', 'int64']), \n",
    "                                                    train_service_target['Repurchase'], \n",
    "                                                    test_size=0.2, \n",
    "                                                    stratify=train_service_target['Repurchase'])\n",
    "\n",
    "params = {\n",
    "    'n_estimators': [300], #list(range(100, 501, 100)),\n",
    "#     'max_features' : [int(np.sqrt(len(train_columns)))],\n",
    "    'max_depth' : [6], #range(1, 10, 1),\n",
    "    'min_samples_leaf': [5], #range(1, 11, 1),\n",
    "    'min_samples_split': [2] #list(range(1, 11, 1))\n",
    "}\n",
    "\n",
    "rf_clf = RandomForestClassifier(random_state=0, n_jobs=-1)\n",
    "grid_cv = GridSearchCV(rf_clf, param_grid=params, cv=5, n_jobs=-1, scoring='f1')\n",
    "grid_cv.fit(X_train, y_train)\n",
    "pred = grid_cv.best_estimator_.predict(X_test)\n",
    "print(grid_cv.best_score_)\n",
    "print(grid_cv.best_params_)\n",
    "print(classification_report(y_test, pred))"
   ]
  },
  {
   "cell_type": "code",
   "execution_count": null,
   "id": "521dc4b7",
   "metadata": {
    "id": "521dc4b7"
   },
   "outputs": [],
   "source": [
    "pred_submission = grid_cv.predict(predict_service[train_columns].select_dtypes(['float64', 'int64']))\n",
    "predict_service['pred'] = pred_submission\n",
    "predict_service.head()"
   ]
  },
  {
   "cell_type": "markdown",
   "id": "e44c6551",
   "metadata": {
    "id": "e44c6551"
   },
   "source": [
    "## SVM"
   ]
  },
  {
   "cell_type": "code",
   "execution_count": null,
   "id": "35ba20d8",
   "metadata": {
    "colab": {
     "base_uri": "https://localhost:8080/",
     "height": 375
    },
    "id": "35ba20d8",
    "outputId": "64a9a3dc-26b9-4bcf-c42e-1ff9159b096a"
   },
   "outputs": [],
   "source": [
    "from sklearn.svm import SVC\n",
    "from sklearn.model_selection import train_test_split\n",
    "from sklearn.metrics import classification_report\n",
    "from sklearn.model_selection import GridSearchCV\n",
    "\n",
    "import warnings\n",
    "warnings.filterwarnings('ignore')\n",
    "\n",
    "X_train, X_test, y_train, y_test = train_test_split(train_service[train_columns].select_dtypes(['float64', 'int64']), \n",
    "                                                    train_service['Repurchase'], \n",
    "                                                    test_size=0.2, \n",
    "                                                    stratify=train_service['Repurchase'])\n",
    "\n",
    "svm = SVC(kernel='rbf', gamma=0.10, C=10.0)\n",
    "svm.fit(X_train, y_train)\n",
    "pred = svm.predict(X_test)\n",
    "print(classification_report(y_test, pred))"
   ]
  },
  {
   "cell_type": "markdown",
   "id": "5395e901",
   "metadata": {
    "id": "5395e901"
   },
   "source": [
    "## XGBClassifier"
   ]
  },
  {
   "cell_type": "code",
   "execution_count": null,
   "id": "ac576da7",
   "metadata": {
    "colab": {
     "base_uri": "https://localhost:8080/"
    },
    "id": "ac576da7",
    "outputId": "61ee6db3-71d6-4dbb-f4c7-4b787a04e4eb"
   },
   "outputs": [],
   "source": [
    "from sklearn.model_selection import train_test_split\n",
    "from xgboost import XGBClassifier\n",
    "from sklearn.metrics import classification_report\n",
    "from sklearn.model_selection import GridSearchCV\n",
    "\n",
    "import warnings\n",
    "warnings.filterwarnings('ignore')\n",
    "\n",
    "X_train, X_test, y_train, y_test = train_test_split(train_service[train_columns].select_dtypes(['float64', 'int64']), \n",
    "                                                    train_service['Repurchase'], \n",
    "                                                    test_size=0.2, \n",
    "                                                    stratify=train_service['Repurchase'])\n",
    "\n",
    "# xgb_wrapper = XGBRFClassifier(n_estimators=400, learning_rate=0.1, max_depth=15)\n",
    "# xgb_wrapper.fit(X_train, y_train)\n",
    "# pred = xgb_wrapper.predict(X_test)\n",
    "\n",
    "xgb_wrapper = XGBClassifier(objective = 'binary:logistic')\n",
    "params = {\n",
    "     'n_estimators': [300],\n",
    "    'learning_rate' : [0.1],\n",
    "    'max_depth': [20],\n",
    "    'min_samples_split': [1]\n",
    "}\n",
    "\n",
    "grid_cv = GridSearchCV(xgb_wrapper, param_grid=params, cv=5, n_jobs=-1, scoring='f1')\n",
    "grid_cv.fit(X_train, y_train)\n",
    "pred = grid_cv.best_estimator_.predict(X_test)\n",
    "print(grid_cv.best_score_)\n",
    "print(grid_cv.best_params_)\n",
    "print(classification_report(y_test, pred))"
   ]
  },
  {
   "cell_type": "code",
   "execution_count": null,
   "id": "mAUmIqC41kjC",
   "metadata": {
    "colab": {
     "base_uri": "https://localhost:8080/"
    },
    "id": "mAUmIqC41kjC",
    "outputId": "d142a64f-cc6c-4934-81a9-cf8a19a8deaa"
   },
   "outputs": [],
   "source": [
    "from sklearn.model_selection import train_test_split\n",
    "from xgboost import XGBClassifier\n",
    "from sklearn.metrics import classification_report\n",
    "from sklearn.model_selection import GridSearchCV\n",
    "\n",
    "import warnings\n",
    "warnings.filterwarnings('ignore')\n",
    "\n",
    "X_train, X_test, y_train, y_test = train_test_split(train_service_target[train_columns].select_dtypes(['float64', 'int64']), \n",
    "                                                    train_service_target['Repurchase'], \n",
    "                                                    test_size=0.2, \n",
    "                                                    stratify=train_service_target['Repurchase'])\n",
    "\n",
    "xgb_wrapper = XGBClassifier(objective = 'binary:logistic')\n",
    "params = {\n",
    "     'n_estimators': [300],\n",
    "    'learning_rate' : [0.1],\n",
    "    'max_depth': [20],\n",
    "    'min_samples_split': [1]\n",
    "}\n",
    "\n",
    "grid_cv = GridSearchCV(xgb_wrapper, param_grid=params, cv=5, n_jobs=-1, scoring='f1')\n",
    "grid_cv.fit(X_train, y_train)\n",
    "pred = grid_cv.best_estimator_.predict(X_test)\n",
    "print(grid_cv.best_score_)\n",
    "print(grid_cv.best_params_)\n",
    "print(classification_report(y_test, pred))"
   ]
  },
  {
   "cell_type": "code",
   "execution_count": 15,
   "id": "45cd0f98",
   "metadata": {},
   "outputs": [
    {
     "data": {
      "text/plain": [
       "['viewtime_mean', 'ChurnRateByProductcode', 'viewtime_std']"
      ]
     },
     "execution_count": 15,
     "metadata": {},
     "output_type": "execute_result"
    }
   ],
   "source": [
    "col_list[:3]"
   ]
  },
  {
   "cell_type": "code",
   "execution_count": 16,
   "id": "1d685985",
   "metadata": {
    "scrolled": true
   },
   "outputs": [
    {
     "name": "stdout",
     "output_type": "stream",
     "text": [
      "[14:15:33] WARNING: /opt/concourse/worker/volumes/live/7a2b9f41-3287-451b-6691-43e9a6c0910f/volume/xgboost-split_1619728204606/work/src/learner.cc:541: \n",
      "Parameters: { min_samples_split } might not be used.\n",
      "\n",
      "  This may not be accurate due to some parameters are only used in language bindings but\n",
      "  passed down to XGBoost core.  Or some parameters are not used but slip through this\n",
      "  verification. Please open an issue if you find above cases.\n",
      "\n",
      "\n",
      "[14:15:33] WARNING: /opt/concourse/worker/volumes/live/7a2b9f41-3287-451b-6691-43e9a6c0910f/volume/xgboost-split_1619728204606/work/src/learner.cc:1061: Starting in XGBoost 1.3.0, the default evaluation metric used with the objective 'binary:logistic' was changed from 'error' to 'logloss'. Explicitly set eval_metric if you'd like to restore the old behavior.\n",
      "['viewtime_mean'] 0.78 0.16\n",
      "[14:16:36] WARNING: /opt/concourse/worker/volumes/live/7a2b9f41-3287-451b-6691-43e9a6c0910f/volume/xgboost-split_1619728204606/work/src/learner.cc:541: \n",
      "Parameters: { min_samples_split } might not be used.\n",
      "\n",
      "  This may not be accurate due to some parameters are only used in language bindings but\n",
      "  passed down to XGBoost core.  Or some parameters are not used but slip through this\n",
      "  verification. Please open an issue if you find above cases.\n",
      "\n",
      "\n",
      "[14:16:36] WARNING: /opt/concourse/worker/volumes/live/7a2b9f41-3287-451b-6691-43e9a6c0910f/volume/xgboost-split_1619728204606/work/src/learner.cc:1061: Starting in XGBoost 1.3.0, the default evaluation metric used with the objective 'binary:logistic' was changed from 'error' to 'logloss'. Explicitly set eval_metric if you'd like to restore the old behavior.\n",
      "['viewtime_mean', 'ChurnRateByProductcode'] 0.78 0.25\n",
      "[14:17:57] WARNING: /opt/concourse/worker/volumes/live/7a2b9f41-3287-451b-6691-43e9a6c0910f/volume/xgboost-split_1619728204606/work/src/learner.cc:541: \n",
      "Parameters: { min_samples_split } might not be used.\n",
      "\n",
      "  This may not be accurate due to some parameters are only used in language bindings but\n",
      "  passed down to XGBoost core.  Or some parameters are not used but slip through this\n",
      "  verification. Please open an issue if you find above cases.\n",
      "\n",
      "\n",
      "[14:17:58] WARNING: /opt/concourse/worker/volumes/live/7a2b9f41-3287-451b-6691-43e9a6c0910f/volume/xgboost-split_1619728204606/work/src/learner.cc:1061: Starting in XGBoost 1.3.0, the default evaluation metric used with the objective 'binary:logistic' was changed from 'error' to 'logloss'. Explicitly set eval_metric if you'd like to restore the old behavior.\n",
      "['viewtime_mean', 'ChurnRateByProductcode', 'viewtime_std'] 0.78 0.27\n",
      "[14:19:29] WARNING: /opt/concourse/worker/volumes/live/7a2b9f41-3287-451b-6691-43e9a6c0910f/volume/xgboost-split_1619728204606/work/src/learner.cc:541: \n",
      "Parameters: { min_samples_split } might not be used.\n",
      "\n",
      "  This may not be accurate due to some parameters are only used in language bindings but\n",
      "  passed down to XGBoost core.  Or some parameters are not used but slip through this\n",
      "  verification. Please open an issue if you find above cases.\n",
      "\n",
      "\n",
      "[14:19:29] WARNING: /opt/concourse/worker/volumes/live/7a2b9f41-3287-451b-6691-43e9a6c0910f/volume/xgboost-split_1619728204606/work/src/learner.cc:1061: Starting in XGBoost 1.3.0, the default evaluation metric used with the objective 'binary:logistic' was changed from 'error' to 'logloss'. Explicitly set eval_metric if you'd like to restore the old behavior.\n",
      "['viewtime_mean', 'ChurnRateByProductcode', 'viewtime_std', 'agegroup'] 0.78 0.32\n",
      "[14:21:07] WARNING: /opt/concourse/worker/volumes/live/7a2b9f41-3287-451b-6691-43e9a6c0910f/volume/xgboost-split_1619728204606/work/src/learner.cc:541: \n",
      "Parameters: { min_samples_split } might not be used.\n",
      "\n",
      "  This may not be accurate due to some parameters are only used in language bindings but\n",
      "  passed down to XGBoost core.  Or some parameters are not used but slip through this\n",
      "  verification. Please open an issue if you find above cases.\n",
      "\n",
      "\n",
      "[14:21:07] WARNING: /opt/concourse/worker/volumes/live/7a2b9f41-3287-451b-6691-43e9a6c0910f/volume/xgboost-split_1619728204606/work/src/learner.cc:1061: Starting in XGBoost 1.3.0, the default evaluation metric used with the objective 'binary:logistic' was changed from 'error' to 'logloss'. Explicitly set eval_metric if you'd like to restore the old behavior.\n",
      "['viewtime_mean', 'ChurnRateByProductcode', 'viewtime_std', 'agegroup', 'promo_100'] 0.78 0.34\n",
      "[14:22:52] WARNING: /opt/concourse/worker/volumes/live/7a2b9f41-3287-451b-6691-43e9a6c0910f/volume/xgboost-split_1619728204606/work/src/learner.cc:541: \n",
      "Parameters: { min_samples_split } might not be used.\n",
      "\n",
      "  This may not be accurate due to some parameters are only used in language bindings but\n",
      "  passed down to XGBoost core.  Or some parameters are not used but slip through this\n",
      "  verification. Please open an issue if you find above cases.\n",
      "\n",
      "\n",
      "[14:22:52] WARNING: /opt/concourse/worker/volumes/live/7a2b9f41-3287-451b-6691-43e9a6c0910f/volume/xgboost-split_1619728204606/work/src/learner.cc:1061: Starting in XGBoost 1.3.0, the default evaluation metric used with the objective 'binary:logistic' was changed from 'error' to 'logloss'. Explicitly set eval_metric if you'd like to restore the old behavior.\n",
      "['viewtime_mean', 'ChurnRateByProductcode', 'viewtime_std', 'agegroup', 'promo_100', 'pgamount'] 0.78 0.34\n",
      "[14:24:42] WARNING: /opt/concourse/worker/volumes/live/7a2b9f41-3287-451b-6691-43e9a6c0910f/volume/xgboost-split_1619728204606/work/src/learner.cc:541: \n",
      "Parameters: { min_samples_split } might not be used.\n",
      "\n",
      "  This may not be accurate due to some parameters are only used in language bindings but\n",
      "  passed down to XGBoost core.  Or some parameters are not used but slip through this\n",
      "  verification. Please open an issue if you find above cases.\n",
      "\n",
      "\n",
      "[14:24:42] WARNING: /opt/concourse/worker/volumes/live/7a2b9f41-3287-451b-6691-43e9a6c0910f/volume/xgboost-split_1619728204606/work/src/learner.cc:1061: Starting in XGBoost 1.3.0, the default evaluation metric used with the objective 'binary:logistic' was changed from 'error' to 'logloss'. Explicitly set eval_metric if you'd like to restore the old behavior.\n",
      "['viewtime_mean', 'ChurnRateByProductcode', 'viewtime_std', 'agegroup', 'promo_100', 'pgamount', 'ChurnRateByChargetypeid'] 0.78 0.36\n",
      "[14:26:58] WARNING: /opt/concourse/worker/volumes/live/7a2b9f41-3287-451b-6691-43e9a6c0910f/volume/xgboost-split_1619728204606/work/src/learner.cc:541: \n",
      "Parameters: { min_samples_split } might not be used.\n",
      "\n",
      "  This may not be accurate due to some parameters are only used in language bindings but\n",
      "  passed down to XGBoost core.  Or some parameters are not used but slip through this\n",
      "  verification. Please open an issue if you find above cases.\n",
      "\n",
      "\n",
      "[14:26:58] WARNING: /opt/concourse/worker/volumes/live/7a2b9f41-3287-451b-6691-43e9a6c0910f/volume/xgboost-split_1619728204606/work/src/learner.cc:1061: Starting in XGBoost 1.3.0, the default evaluation metric used with the objective 'binary:logistic' was changed from 'error' to 'logloss'. Explicitly set eval_metric if you'd like to restore the old behavior.\n",
      "['viewtime_mean', 'ChurnRateByProductcode', 'viewtime_std', 'agegroup', 'promo_100', 'pgamount', 'ChurnRateByChargetypeid', 'viewtime_sum'] 0.78 0.36\n",
      "[14:29:12] WARNING: /opt/concourse/worker/volumes/live/7a2b9f41-3287-451b-6691-43e9a6c0910f/volume/xgboost-split_1619728204606/work/src/learner.cc:541: \n",
      "Parameters: { min_samples_split } might not be used.\n",
      "\n",
      "  This may not be accurate due to some parameters are only used in language bindings but\n",
      "  passed down to XGBoost core.  Or some parameters are not used but slip through this\n",
      "  verification. Please open an issue if you find above cases.\n",
      "\n",
      "\n",
      "[14:29:12] WARNING: /opt/concourse/worker/volumes/live/7a2b9f41-3287-451b-6691-43e9a6c0910f/volume/xgboost-split_1619728204606/work/src/learner.cc:1061: Starting in XGBoost 1.3.0, the default evaluation metric used with the objective 'binary:logistic' was changed from 'error' to 'logloss'. Explicitly set eval_metric if you'd like to restore the old behavior.\n",
      "['viewtime_mean', 'ChurnRateByProductcode', 'viewtime_std', 'agegroup', 'promo_100', 'pgamount', 'ChurnRateByChargetypeid', 'viewtime_sum', 'chargetypeid'] 0.78 0.35\n",
      "[14:31:36] WARNING: /opt/concourse/worker/volumes/live/7a2b9f41-3287-451b-6691-43e9a6c0910f/volume/xgboost-split_1619728204606/work/src/learner.cc:541: \n",
      "Parameters: { min_samples_split } might not be used.\n",
      "\n",
      "  This may not be accurate due to some parameters are only used in language bindings but\n",
      "  passed down to XGBoost core.  Or some parameters are not used but slip through this\n",
      "  verification. Please open an issue if you find above cases.\n",
      "\n",
      "\n",
      "[14:31:36] WARNING: /opt/concourse/worker/volumes/live/7a2b9f41-3287-451b-6691-43e9a6c0910f/volume/xgboost-split_1619728204606/work/src/learner.cc:1061: Starting in XGBoost 1.3.0, the default evaluation metric used with the objective 'binary:logistic' was changed from 'error' to 'logloss'. Explicitly set eval_metric if you'd like to restore the old behavior.\n"
     ]
    },
    {
     "name": "stdout",
     "output_type": "stream",
     "text": [
      "['viewtime_mean', 'ChurnRateByProductcode', 'viewtime_std', 'agegroup', 'promo_100', 'pgamount', 'ChurnRateByChargetypeid', 'viewtime_sum', 'chargetypeid', 'tot_viewtime_sum'] 0.79 0.38\n",
      "[14:34:11] WARNING: /opt/concourse/worker/volumes/live/7a2b9f41-3287-451b-6691-43e9a6c0910f/volume/xgboost-split_1619728204606/work/src/learner.cc:541: \n",
      "Parameters: { min_samples_split } might not be used.\n",
      "\n",
      "  This may not be accurate due to some parameters are only used in language bindings but\n",
      "  passed down to XGBoost core.  Or some parameters are not used but slip through this\n",
      "  verification. Please open an issue if you find above cases.\n",
      "\n",
      "\n",
      "[14:34:12] WARNING: /opt/concourse/worker/volumes/live/7a2b9f41-3287-451b-6691-43e9a6c0910f/volume/xgboost-split_1619728204606/work/src/learner.cc:1061: Starting in XGBoost 1.3.0, the default evaluation metric used with the objective 'binary:logistic' was changed from 'error' to 'logloss'. Explicitly set eval_metric if you'd like to restore the old behavior.\n",
      "['viewtime_mean', 'ChurnRateByProductcode', 'viewtime_std', 'agegroup', 'promo_100', 'pgamount', 'ChurnRateByChargetypeid', 'viewtime_sum', 'chargetypeid', 'tot_viewtime_sum', 'view_count'] 0.79 0.36\n",
      "[14:36:57] WARNING: /opt/concourse/worker/volumes/live/7a2b9f41-3287-451b-6691-43e9a6c0910f/volume/xgboost-split_1619728204606/work/src/learner.cc:541: \n",
      "Parameters: { min_samples_split } might not be used.\n",
      "\n",
      "  This may not be accurate due to some parameters are only used in language bindings but\n",
      "  passed down to XGBoost core.  Or some parameters are not used but slip through this\n",
      "  verification. Please open an issue if you find above cases.\n",
      "\n",
      "\n",
      "[14:36:57] WARNING: /opt/concourse/worker/volumes/live/7a2b9f41-3287-451b-6691-43e9a6c0910f/volume/xgboost-split_1619728204606/work/src/learner.cc:1061: Starting in XGBoost 1.3.0, the default evaluation metric used with the objective 'binary:logistic' was changed from 'error' to 'logloss'. Explicitly set eval_metric if you'd like to restore the old behavior.\n",
      "['viewtime_mean', 'ChurnRateByProductcode', 'viewtime_std', 'agegroup', 'promo_100', 'pgamount', 'ChurnRateByChargetypeid', 'viewtime_sum', 'chargetypeid', 'tot_viewtime_sum', 'view_count', 'tot_view_count'] 0.79 0.35\n",
      "[14:39:46] WARNING: /opt/concourse/worker/volumes/live/7a2b9f41-3287-451b-6691-43e9a6c0910f/volume/xgboost-split_1619728204606/work/src/learner.cc:541: \n",
      "Parameters: { min_samples_split } might not be used.\n",
      "\n",
      "  This may not be accurate due to some parameters are only used in language bindings but\n",
      "  passed down to XGBoost core.  Or some parameters are not used but slip through this\n",
      "  verification. Please open an issue if you find above cases.\n",
      "\n",
      "\n",
      "[14:39:46] WARNING: /opt/concourse/worker/volumes/live/7a2b9f41-3287-451b-6691-43e9a6c0910f/volume/xgboost-split_1619728204606/work/src/learner.cc:1061: Starting in XGBoost 1.3.0, the default evaluation metric used with the objective 'binary:logistic' was changed from 'error' to 'logloss'. Explicitly set eval_metric if you'd like to restore the old behavior.\n",
      "['viewtime_mean', 'ChurnRateByProductcode', 'viewtime_std', 'agegroup', 'promo_100', 'pgamount', 'ChurnRateByChargetypeid', 'viewtime_sum', 'chargetypeid', 'tot_viewtime_sum', 'view_count', 'tot_view_count', 'concurrentwatchcount'] 0.79 0.37\n",
      "[14:42:39] WARNING: /opt/concourse/worker/volumes/live/7a2b9f41-3287-451b-6691-43e9a6c0910f/volume/xgboost-split_1619728204606/work/src/learner.cc:541: \n",
      "Parameters: { min_samples_split } might not be used.\n",
      "\n",
      "  This may not be accurate due to some parameters are only used in language bindings but\n",
      "  passed down to XGBoost core.  Or some parameters are not used but slip through this\n",
      "  verification. Please open an issue if you find above cases.\n",
      "\n",
      "\n",
      "[14:42:39] WARNING: /opt/concourse/worker/volumes/live/7a2b9f41-3287-451b-6691-43e9a6c0910f/volume/xgboost-split_1619728204606/work/src/learner.cc:1061: Starting in XGBoost 1.3.0, the default evaluation metric used with the objective 'binary:logistic' was changed from 'error' to 'logloss'. Explicitly set eval_metric if you'd like to restore the old behavior.\n",
      "['viewtime_mean', 'ChurnRateByProductcode', 'viewtime_std', 'agegroup', 'promo_100', 'pgamount', 'ChurnRateByChargetypeid', 'viewtime_sum', 'chargetypeid', 'tot_viewtime_sum', 'view_count', 'tot_view_count', 'concurrentwatchcount', 'coinReceived'] 0.79 0.37\n",
      "[14:45:39] WARNING: /opt/concourse/worker/volumes/live/7a2b9f41-3287-451b-6691-43e9a6c0910f/volume/xgboost-split_1619728204606/work/src/learner.cc:541: \n",
      "Parameters: { min_samples_split } might not be used.\n",
      "\n",
      "  This may not be accurate due to some parameters are only used in language bindings but\n",
      "  passed down to XGBoost core.  Or some parameters are not used but slip through this\n",
      "  verification. Please open an issue if you find above cases.\n",
      "\n",
      "\n",
      "[14:45:39] WARNING: /opt/concourse/worker/volumes/live/7a2b9f41-3287-451b-6691-43e9a6c0910f/volume/xgboost-split_1619728204606/work/src/learner.cc:1061: Starting in XGBoost 1.3.0, the default evaluation metric used with the objective 'binary:logistic' was changed from 'error' to 'logloss'. Explicitly set eval_metric if you'd like to restore the old behavior.\n",
      "['viewtime_mean', 'ChurnRateByProductcode', 'viewtime_std', 'agegroup', 'promo_100', 'pgamount', 'ChurnRateByChargetypeid', 'viewtime_sum', 'chargetypeid', 'tot_viewtime_sum', 'view_count', 'tot_view_count', 'concurrentwatchcount', 'coinReceived', 'devicetype_cnt'] 0.79 0.38\n",
      "[14:48:41] WARNING: /opt/concourse/worker/volumes/live/7a2b9f41-3287-451b-6691-43e9a6c0910f/volume/xgboost-split_1619728204606/work/src/learner.cc:541: \n",
      "Parameters: { min_samples_split } might not be used.\n",
      "\n",
      "  This may not be accurate due to some parameters are only used in language bindings but\n",
      "  passed down to XGBoost core.  Or some parameters are not used but slip through this\n",
      "  verification. Please open an issue if you find above cases.\n",
      "\n",
      "\n",
      "[14:48:41] WARNING: /opt/concourse/worker/volumes/live/7a2b9f41-3287-451b-6691-43e9a6c0910f/volume/xgboost-split_1619728204606/work/src/learner.cc:1061: Starting in XGBoost 1.3.0, the default evaluation metric used with the objective 'binary:logistic' was changed from 'error' to 'logloss'. Explicitly set eval_metric if you'd like to restore the old behavior.\n",
      "['viewtime_mean', 'ChurnRateByProductcode', 'viewtime_std', 'agegroup', 'promo_100', 'pgamount', 'ChurnRateByChargetypeid', 'viewtime_sum', 'chargetypeid', 'tot_viewtime_sum', 'view_count', 'tot_view_count', 'concurrentwatchcount', 'coinReceived', 'devicetype_cnt', 'isauth'] 0.80 0.40\n",
      "[14:51:50] WARNING: /opt/concourse/worker/volumes/live/7a2b9f41-3287-451b-6691-43e9a6c0910f/volume/xgboost-split_1619728204606/work/src/learner.cc:541: \n",
      "Parameters: { min_samples_split } might not be used.\n",
      "\n",
      "  This may not be accurate due to some parameters are only used in language bindings but\n",
      "  passed down to XGBoost core.  Or some parameters are not used but slip through this\n",
      "  verification. Please open an issue if you find above cases.\n",
      "\n",
      "\n",
      "[14:51:50] WARNING: /opt/concourse/worker/volumes/live/7a2b9f41-3287-451b-6691-43e9a6c0910f/volume/xgboost-split_1619728204606/work/src/learner.cc:1061: Starting in XGBoost 1.3.0, the default evaluation metric used with the objective 'binary:logistic' was changed from 'error' to 'logloss'. Explicitly set eval_metric if you'd like to restore the old behavior.\n",
      "['viewtime_mean', 'ChurnRateByProductcode', 'viewtime_std', 'agegroup', 'promo_100', 'pgamount', 'ChurnRateByChargetypeid', 'viewtime_sum', 'chargetypeid', 'tot_viewtime_sum', 'view_count', 'tot_view_count', 'concurrentwatchcount', 'coinReceived', 'devicetype_cnt', 'isauth', 'tot_viewtime_std'] 0.80 0.39\n",
      "[14:55:06] WARNING: /opt/concourse/worker/volumes/live/7a2b9f41-3287-451b-6691-43e9a6c0910f/volume/xgboost-split_1619728204606/work/src/learner.cc:541: \n",
      "Parameters: { min_samples_split } might not be used.\n",
      "\n",
      "  This may not be accurate due to some parameters are only used in language bindings but\n",
      "  passed down to XGBoost core.  Or some parameters are not used but slip through this\n",
      "  verification. Please open an issue if you find above cases.\n",
      "\n",
      "\n",
      "[14:55:06] WARNING: /opt/concourse/worker/volumes/live/7a2b9f41-3287-451b-6691-43e9a6c0910f/volume/xgboost-split_1619728204606/work/src/learner.cc:1061: Starting in XGBoost 1.3.0, the default evaluation metric used with the objective 'binary:logistic' was changed from 'error' to 'logloss'. Explicitly set eval_metric if you'd like to restore the old behavior.\n"
     ]
    },
    {
     "name": "stdout",
     "output_type": "stream",
     "text": [
      "['viewtime_mean', 'ChurnRateByProductcode', 'viewtime_std', 'agegroup', 'promo_100', 'pgamount', 'ChurnRateByChargetypeid', 'viewtime_sum', 'chargetypeid', 'tot_viewtime_sum', 'view_count', 'tot_view_count', 'concurrentwatchcount', 'coinReceived', 'devicetype_cnt', 'isauth', 'tot_viewtime_std', 'tot_viewtime_mean'] 0.80 0.39\n"
     ]
    },
    {
     "data": {
      "text/html": [
       "<div>\n",
       "<style scoped>\n",
       "    .dataframe tbody tr th:only-of-type {\n",
       "        vertical-align: middle;\n",
       "    }\n",
       "\n",
       "    .dataframe tbody tr th {\n",
       "        vertical-align: top;\n",
       "    }\n",
       "\n",
       "    .dataframe thead th {\n",
       "        text-align: right;\n",
       "    }\n",
       "</style>\n",
       "<table border=\"1\" class=\"dataframe\">\n",
       "  <thead>\n",
       "    <tr style=\"text-align: right;\">\n",
       "      <th></th>\n",
       "      <th>columns</th>\n",
       "      <th>f1-0</th>\n",
       "      <th>f1-1</th>\n",
       "    </tr>\n",
       "  </thead>\n",
       "  <tbody>\n",
       "    <tr>\n",
       "      <th>0</th>\n",
       "      <td>[viewtime_mean]</td>\n",
       "      <td>0.78</td>\n",
       "      <td>0.16</td>\n",
       "    </tr>\n",
       "    <tr>\n",
       "      <th>1</th>\n",
       "      <td>[viewtime_mean, ChurnRateByProductcode]</td>\n",
       "      <td>0.78</td>\n",
       "      <td>0.25</td>\n",
       "    </tr>\n",
       "    <tr>\n",
       "      <th>2</th>\n",
       "      <td>[viewtime_mean, ChurnRateByProductcode, viewti...</td>\n",
       "      <td>0.78</td>\n",
       "      <td>0.27</td>\n",
       "    </tr>\n",
       "    <tr>\n",
       "      <th>3</th>\n",
       "      <td>[viewtime_mean, ChurnRateByProductcode, viewti...</td>\n",
       "      <td>0.78</td>\n",
       "      <td>0.32</td>\n",
       "    </tr>\n",
       "    <tr>\n",
       "      <th>4</th>\n",
       "      <td>[viewtime_mean, ChurnRateByProductcode, viewti...</td>\n",
       "      <td>0.78</td>\n",
       "      <td>0.34</td>\n",
       "    </tr>\n",
       "    <tr>\n",
       "      <th>5</th>\n",
       "      <td>[viewtime_mean, ChurnRateByProductcode, viewti...</td>\n",
       "      <td>0.78</td>\n",
       "      <td>0.34</td>\n",
       "    </tr>\n",
       "    <tr>\n",
       "      <th>6</th>\n",
       "      <td>[viewtime_mean, ChurnRateByProductcode, viewti...</td>\n",
       "      <td>0.78</td>\n",
       "      <td>0.36</td>\n",
       "    </tr>\n",
       "    <tr>\n",
       "      <th>7</th>\n",
       "      <td>[viewtime_mean, ChurnRateByProductcode, viewti...</td>\n",
       "      <td>0.78</td>\n",
       "      <td>0.36</td>\n",
       "    </tr>\n",
       "    <tr>\n",
       "      <th>8</th>\n",
       "      <td>[viewtime_mean, ChurnRateByProductcode, viewti...</td>\n",
       "      <td>0.78</td>\n",
       "      <td>0.35</td>\n",
       "    </tr>\n",
       "    <tr>\n",
       "      <th>9</th>\n",
       "      <td>[viewtime_mean, ChurnRateByProductcode, viewti...</td>\n",
       "      <td>0.79</td>\n",
       "      <td>0.38</td>\n",
       "    </tr>\n",
       "    <tr>\n",
       "      <th>10</th>\n",
       "      <td>[viewtime_mean, ChurnRateByProductcode, viewti...</td>\n",
       "      <td>0.79</td>\n",
       "      <td>0.36</td>\n",
       "    </tr>\n",
       "    <tr>\n",
       "      <th>11</th>\n",
       "      <td>[viewtime_mean, ChurnRateByProductcode, viewti...</td>\n",
       "      <td>0.79</td>\n",
       "      <td>0.35</td>\n",
       "    </tr>\n",
       "    <tr>\n",
       "      <th>12</th>\n",
       "      <td>[viewtime_mean, ChurnRateByProductcode, viewti...</td>\n",
       "      <td>0.79</td>\n",
       "      <td>0.37</td>\n",
       "    </tr>\n",
       "    <tr>\n",
       "      <th>13</th>\n",
       "      <td>[viewtime_mean, ChurnRateByProductcode, viewti...</td>\n",
       "      <td>0.79</td>\n",
       "      <td>0.37</td>\n",
       "    </tr>\n",
       "    <tr>\n",
       "      <th>14</th>\n",
       "      <td>[viewtime_mean, ChurnRateByProductcode, viewti...</td>\n",
       "      <td>0.79</td>\n",
       "      <td>0.38</td>\n",
       "    </tr>\n",
       "    <tr>\n",
       "      <th>15</th>\n",
       "      <td>[viewtime_mean, ChurnRateByProductcode, viewti...</td>\n",
       "      <td>0.80</td>\n",
       "      <td>0.40</td>\n",
       "    </tr>\n",
       "    <tr>\n",
       "      <th>16</th>\n",
       "      <td>[viewtime_mean, ChurnRateByProductcode, viewti...</td>\n",
       "      <td>0.80</td>\n",
       "      <td>0.39</td>\n",
       "    </tr>\n",
       "    <tr>\n",
       "      <th>17</th>\n",
       "      <td>[viewtime_mean, ChurnRateByProductcode, viewti...</td>\n",
       "      <td>0.80</td>\n",
       "      <td>0.39</td>\n",
       "    </tr>\n",
       "  </tbody>\n",
       "</table>\n",
       "</div>"
      ],
      "text/plain": [
       "                                              columns  f1-0  f1-1\n",
       "0                                     [viewtime_mean]  0.78  0.16\n",
       "1             [viewtime_mean, ChurnRateByProductcode]  0.78  0.25\n",
       "2   [viewtime_mean, ChurnRateByProductcode, viewti...  0.78  0.27\n",
       "3   [viewtime_mean, ChurnRateByProductcode, viewti...  0.78  0.32\n",
       "4   [viewtime_mean, ChurnRateByProductcode, viewti...  0.78  0.34\n",
       "5   [viewtime_mean, ChurnRateByProductcode, viewti...  0.78  0.34\n",
       "6   [viewtime_mean, ChurnRateByProductcode, viewti...  0.78  0.36\n",
       "7   [viewtime_mean, ChurnRateByProductcode, viewti...  0.78  0.36\n",
       "8   [viewtime_mean, ChurnRateByProductcode, viewti...  0.78  0.35\n",
       "9   [viewtime_mean, ChurnRateByProductcode, viewti...  0.79  0.38\n",
       "10  [viewtime_mean, ChurnRateByProductcode, viewti...  0.79  0.36\n",
       "11  [viewtime_mean, ChurnRateByProductcode, viewti...  0.79  0.35\n",
       "12  [viewtime_mean, ChurnRateByProductcode, viewti...  0.79  0.37\n",
       "13  [viewtime_mean, ChurnRateByProductcode, viewti...  0.79  0.37\n",
       "14  [viewtime_mean, ChurnRateByProductcode, viewti...  0.79  0.38\n",
       "15  [viewtime_mean, ChurnRateByProductcode, viewti...  0.80  0.40\n",
       "16  [viewtime_mean, ChurnRateByProductcode, viewti...  0.80  0.39\n",
       "17  [viewtime_mean, ChurnRateByProductcode, viewti...  0.80  0.39"
      ]
     },
     "execution_count": 16,
     "metadata": {},
     "output_type": "execute_result"
    }
   ],
   "source": [
    "from sklearn.model_selection import train_test_split\n",
    "from xgboost import XGBClassifier\n",
    "from sklearn.metrics import classification_report\n",
    "from sklearn.model_selection import GridSearchCV\n",
    "\n",
    "import warnings\n",
    "warnings.filterwarnings('ignore')\n",
    "\n",
    "import numpy as np\n",
    "from itertools import combinations\n",
    "\n",
    "list(combinations(list(np.abs(train_service.corrwith(train_service['Repurchase'])).sort_values(ascending=False).index), 2))\n",
    "\n",
    "col_list = list(np.abs(train_service.corrwith(train_service['Repurchase'])).sort_values(ascending=False).index)\n",
    "col_list.remove('Repurchase')\n",
    "\n",
    "scoreList = []\n",
    "for i in range(1, len(col_list)+1):  \n",
    "#     train_columns_comb = list(combinations(col_list, i))\n",
    "#     for c in train_columns_comb:\n",
    "    train_columns = col_list[:i]\n",
    "    X_train, X_test, y_train, y_test = train_test_split(train_service[train_columns].select_dtypes(['float64', 'int64']), \n",
    "                                                        train_service['Repurchase'], \n",
    "                                                        test_size=0.2, \n",
    "                                                        stratify=train_service['Repurchase'])\n",
    "\n",
    "    xgb_wrapper = XGBClassifier(objective = 'binary:logistic')\n",
    "    params = {\n",
    "        'n_estimators': [300],\n",
    "        'learning_rate' : [0.1],\n",
    "        'max_depth': [20],\n",
    "        'min_samples_split': [1]\n",
    "    }\n",
    "\n",
    "    grid_cv = GridSearchCV(xgb_wrapper, param_grid=params, cv=5, n_jobs=-1, scoring='f1')\n",
    "    grid_cv.fit(X_train, y_train)\n",
    "    pred = grid_cv.best_estimator_.predict(X_test)\n",
    "    # print(grid_cv.best_score_)\n",
    "    # print(grid_cv.best_params_)\n",
    "    # print(train_columns, ':', classification_report(y_test, pred))\n",
    "    print(train_columns, classification_report(y_test, pred).split('\\n')[2].split(' ')[30], classification_report(y_test, pred).split('\\n')[3].split(' ')[30])\n",
    "    scoreList.append([train_columns, classification_report(y_test, pred).split('\\n')[2].split(' ')[30], classification_report(y_test, pred).split('\\n')[3].split(' ')[30]])\n",
    "\n",
    "pd.DataFrame(scoreList, columns=['columns', 'f1-0', 'f1-1'])"
   ]
  },
  {
   "cell_type": "code",
   "execution_count": 19,
   "id": "daa117f8",
   "metadata": {},
   "outputs": [
    {
     "data": {
      "text/html": [
       "<div>\n",
       "<style scoped>\n",
       "    .dataframe tbody tr th:only-of-type {\n",
       "        vertical-align: middle;\n",
       "    }\n",
       "\n",
       "    .dataframe tbody tr th {\n",
       "        vertical-align: top;\n",
       "    }\n",
       "\n",
       "    .dataframe thead th {\n",
       "        text-align: right;\n",
       "    }\n",
       "</style>\n",
       "<table border=\"1\" class=\"dataframe\">\n",
       "  <thead>\n",
       "    <tr style=\"text-align: right;\">\n",
       "      <th></th>\n",
       "      <th>columns</th>\n",
       "      <th>f1-0</th>\n",
       "      <th>f1-1</th>\n",
       "    </tr>\n",
       "  </thead>\n",
       "  <tbody>\n",
       "    <tr>\n",
       "      <th>0</th>\n",
       "      <td>[viewtime_mean]</td>\n",
       "      <td>0.78</td>\n",
       "      <td>0.16</td>\n",
       "    </tr>\n",
       "    <tr>\n",
       "      <th>1</th>\n",
       "      <td>[viewtime_mean, ChurnRateByProductcode]</td>\n",
       "      <td>0.78</td>\n",
       "      <td>0.25</td>\n",
       "    </tr>\n",
       "    <tr>\n",
       "      <th>2</th>\n",
       "      <td>[viewtime_mean, ChurnRateByProductcode, viewti...</td>\n",
       "      <td>0.78</td>\n",
       "      <td>0.27</td>\n",
       "    </tr>\n",
       "    <tr>\n",
       "      <th>3</th>\n",
       "      <td>[viewtime_mean, ChurnRateByProductcode, viewti...</td>\n",
       "      <td>0.78</td>\n",
       "      <td>0.32</td>\n",
       "    </tr>\n",
       "    <tr>\n",
       "      <th>4</th>\n",
       "      <td>[viewtime_mean, ChurnRateByProductcode, viewti...</td>\n",
       "      <td>0.78</td>\n",
       "      <td>0.34</td>\n",
       "    </tr>\n",
       "    <tr>\n",
       "      <th>5</th>\n",
       "      <td>[viewtime_mean, ChurnRateByProductcode, viewti...</td>\n",
       "      <td>0.78</td>\n",
       "      <td>0.34</td>\n",
       "    </tr>\n",
       "    <tr>\n",
       "      <th>6</th>\n",
       "      <td>[viewtime_mean, ChurnRateByProductcode, viewti...</td>\n",
       "      <td>0.78</td>\n",
       "      <td>0.36</td>\n",
       "    </tr>\n",
       "    <tr>\n",
       "      <th>7</th>\n",
       "      <td>[viewtime_mean, ChurnRateByProductcode, viewti...</td>\n",
       "      <td>0.78</td>\n",
       "      <td>0.36</td>\n",
       "    </tr>\n",
       "    <tr>\n",
       "      <th>8</th>\n",
       "      <td>[viewtime_mean, ChurnRateByProductcode, viewti...</td>\n",
       "      <td>0.78</td>\n",
       "      <td>0.35</td>\n",
       "    </tr>\n",
       "    <tr>\n",
       "      <th>9</th>\n",
       "      <td>[viewtime_mean, ChurnRateByProductcode, viewti...</td>\n",
       "      <td>0.79</td>\n",
       "      <td>0.38</td>\n",
       "    </tr>\n",
       "    <tr>\n",
       "      <th>10</th>\n",
       "      <td>[viewtime_mean, ChurnRateByProductcode, viewti...</td>\n",
       "      <td>0.79</td>\n",
       "      <td>0.36</td>\n",
       "    </tr>\n",
       "    <tr>\n",
       "      <th>11</th>\n",
       "      <td>[viewtime_mean, ChurnRateByProductcode, viewti...</td>\n",
       "      <td>0.79</td>\n",
       "      <td>0.35</td>\n",
       "    </tr>\n",
       "    <tr>\n",
       "      <th>12</th>\n",
       "      <td>[viewtime_mean, ChurnRateByProductcode, viewti...</td>\n",
       "      <td>0.79</td>\n",
       "      <td>0.37</td>\n",
       "    </tr>\n",
       "    <tr>\n",
       "      <th>13</th>\n",
       "      <td>[viewtime_mean, ChurnRateByProductcode, viewti...</td>\n",
       "      <td>0.79</td>\n",
       "      <td>0.37</td>\n",
       "    </tr>\n",
       "    <tr>\n",
       "      <th>14</th>\n",
       "      <td>[viewtime_mean, ChurnRateByProductcode, viewti...</td>\n",
       "      <td>0.79</td>\n",
       "      <td>0.38</td>\n",
       "    </tr>\n",
       "    <tr>\n",
       "      <th>15</th>\n",
       "      <td>[viewtime_mean, ChurnRateByProductcode, viewti...</td>\n",
       "      <td>0.80</td>\n",
       "      <td>0.40</td>\n",
       "    </tr>\n",
       "    <tr>\n",
       "      <th>16</th>\n",
       "      <td>[viewtime_mean, ChurnRateByProductcode, viewti...</td>\n",
       "      <td>0.80</td>\n",
       "      <td>0.39</td>\n",
       "    </tr>\n",
       "    <tr>\n",
       "      <th>17</th>\n",
       "      <td>[viewtime_mean, ChurnRateByProductcode, viewti...</td>\n",
       "      <td>0.80</td>\n",
       "      <td>0.39</td>\n",
       "    </tr>\n",
       "  </tbody>\n",
       "</table>\n",
       "</div>"
      ],
      "text/plain": [
       "                                              columns  f1-0  f1-1\n",
       "0                                     [viewtime_mean]  0.78  0.16\n",
       "1             [viewtime_mean, ChurnRateByProductcode]  0.78  0.25\n",
       "2   [viewtime_mean, ChurnRateByProductcode, viewti...  0.78  0.27\n",
       "3   [viewtime_mean, ChurnRateByProductcode, viewti...  0.78  0.32\n",
       "4   [viewtime_mean, ChurnRateByProductcode, viewti...  0.78  0.34\n",
       "5   [viewtime_mean, ChurnRateByProductcode, viewti...  0.78  0.34\n",
       "6   [viewtime_mean, ChurnRateByProductcode, viewti...  0.78  0.36\n",
       "7   [viewtime_mean, ChurnRateByProductcode, viewti...  0.78  0.36\n",
       "8   [viewtime_mean, ChurnRateByProductcode, viewti...  0.78  0.35\n",
       "9   [viewtime_mean, ChurnRateByProductcode, viewti...  0.79  0.38\n",
       "10  [viewtime_mean, ChurnRateByProductcode, viewti...  0.79  0.36\n",
       "11  [viewtime_mean, ChurnRateByProductcode, viewti...  0.79  0.35\n",
       "12  [viewtime_mean, ChurnRateByProductcode, viewti...  0.79  0.37\n",
       "13  [viewtime_mean, ChurnRateByProductcode, viewti...  0.79  0.37\n",
       "14  [viewtime_mean, ChurnRateByProductcode, viewti...  0.79  0.38\n",
       "15  [viewtime_mean, ChurnRateByProductcode, viewti...  0.80  0.40\n",
       "16  [viewtime_mean, ChurnRateByProductcode, viewti...  0.80  0.39\n",
       "17  [viewtime_mean, ChurnRateByProductcode, viewti...  0.80  0.39"
      ]
     },
     "execution_count": 19,
     "metadata": {},
     "output_type": "execute_result"
    }
   ],
   "source": [
    "resultDf"
   ]
  },
  {
   "cell_type": "code",
   "execution_count": 18,
   "id": "9c20e97d",
   "metadata": {},
   "outputs": [],
   "source": [
    "resultDf = pd.DataFrame(scoreList, columns=['columns', 'f1-0', 'f1-1'])\n",
    "resultDf.to_csv('result.csv')"
   ]
  },
  {
   "cell_type": "code",
   "execution_count": null,
   "id": "RG2kU8K1HRwX",
   "metadata": {
    "colab": {
     "base_uri": "https://localhost:8080/",
     "height": 394
    },
    "id": "RG2kU8K1HRwX",
    "outputId": "3f96d27a-b268-455d-b60b-a33057178738"
   },
   "outputs": [],
   "source": [
    "pred_submission = grid_cv.best_estimator_.predict(predict_service_target[train_columns].select_dtypes(['float64', 'int64']))\n",
    "predict_service_target['pred'] = pred_submission\n",
    "predict_service_target.head()"
   ]
  },
  {
   "cell_type": "markdown",
   "id": "49c53285",
   "metadata": {
    "id": "49c53285"
   },
   "source": [
    "## XGBRFClassifier"
   ]
  },
  {
   "cell_type": "markdown",
   "id": "42d5f48a",
   "metadata": {
    "id": "42d5f48a"
   },
   "source": [
    "### 1"
   ]
  },
  {
   "cell_type": "code",
   "execution_count": null,
   "id": "2d5a082e",
   "metadata": {
    "colab": {
     "base_uri": "https://localhost:8080/"
    },
    "id": "2d5a082e",
    "outputId": "9d6986c9-05df-4d38-ffd0-84f827edf4e8"
   },
   "outputs": [],
   "source": [
    "from sklearn.model_selection import train_test_split\n",
    "from xgboost import XGBRFClassifier\n",
    "from sklearn.metrics import classification_report\n",
    "from sklearn.model_selection import GridSearchCV\n",
    "\n",
    "import warnings\n",
    "warnings.filterwarnings('ignore')\n",
    "\n",
    "X_train, X_test, y_train, y_test = train_test_split(train_service[train_columns].select_dtypes(['float64', 'int64']), \n",
    "                                                    train_service['Repurchase'], \n",
    "                                                    test_size=0.2, \n",
    "                                                    stratify=train_service['Repurchase'])\n",
    "\n",
    "# xgb_wrapper = XGBRFClassifier(n_estimators=400, learning_rate=0.1, max_depth=15)\n",
    "# xgb_wrapper.fit(X_train, y_train)\n",
    "# pred = xgb_wrapper.predict(X_test)\n",
    "\n",
    "xgb_wrapper = XGBRFClassifier(objective = 'binary:logistic')\n",
    "params = {\n",
    "     'n_estimators': [300],\n",
    "    'learning_rate' : [0.1],\n",
    "    'max_depth': [20],\n",
    "    'min_samples_split': [1, 2, 3, 4, 5]\n",
    "}\n",
    "\n",
    "grid_cv = GridSearchCV(xgb_wrapper, param_grid=params, cv=5, n_jobs=-1, scoring='f1')\n",
    "grid_cv.fit(X_train, y_train)\n",
    "pred = grid_cv.best_estimator_.predict(X_test)\n",
    "print(grid_cv.best_score_)\n",
    "print(grid_cv.best_params_)\n",
    "print(classification_report(y_test, pred))"
   ]
  },
  {
   "cell_type": "code",
   "execution_count": null,
   "id": "1H0rKEOi1udW",
   "metadata": {
    "colab": {
     "base_uri": "https://localhost:8080/"
    },
    "id": "1H0rKEOi1udW",
    "outputId": "820aaeca-071e-4300-d7b7-5730495c78e9"
   },
   "outputs": [],
   "source": [
    "from sklearn.model_selection import train_test_split\n",
    "from xgboost import XGBRFClassifier\n",
    "from sklearn.metrics import classification_report\n",
    "from sklearn.model_selection import GridSearchCV\n",
    "\n",
    "import warnings\n",
    "warnings.filterwarnings('ignore')\n",
    "\n",
    "X_train, X_test, y_train, y_test = train_test_split(train_service_target[train_columns].select_dtypes(['float64', 'int64']), \n",
    "                                                    train_service_target['Repurchase'], \n",
    "                                                    test_size=0.2, \n",
    "                                                    stratify=train_service_target['Repurchase'])\n",
    "\n",
    "# xgb_wrapper = XGBRFClassifier(n_estimators=400, learning_rate=0.1, max_depth=15)\n",
    "# xgb_wrapper.fit(X_train, y_train)\n",
    "# pred = xgb_wrapper.predict(X_test)\n",
    "\n",
    "xgb_wrapper = XGBRFClassifier(objective = 'binary:logistic')\n",
    "params = {\n",
    "     'n_estimators': [300],\n",
    "    'learning_rate' : [0.1],\n",
    "    'max_depth': [20],\n",
    "    'min_samples_split': [1]\n",
    "}\n",
    "\n",
    "grid_cv = GridSearchCV(xgb_wrapper, param_grid=params, cv=5, n_jobs=-1, scoring='f1')\n",
    "grid_cv.fit(X_train, y_train)\n",
    "pred = grid_cv.best_estimator_.predict(X_test)\n",
    "print(grid_cv.best_score_)\n",
    "print(grid_cv.best_params_)\n",
    "print(classification_report(y_test, pred))"
   ]
  },
  {
   "cell_type": "code",
   "execution_count": null,
   "id": "bCpXD62LiAiU",
   "metadata": {
    "colab": {
     "base_uri": "https://localhost:8080/"
    },
    "id": "bCpXD62LiAiU",
    "outputId": "761e1a52-83d4-4979-fb7d-27b30da48fda"
   },
   "outputs": [],
   "source": [
    "predict_service.shape"
   ]
  },
  {
   "cell_type": "code",
   "execution_count": null,
   "id": "dbb6eb98",
   "metadata": {
    "colab": {
     "base_uri": "https://localhost:8080/",
     "height": 394
    },
    "id": "dbb6eb98",
    "outputId": "f8a9409e-d3f9-4f8e-8ff5-105f78509e22",
    "scrolled": true
   },
   "outputs": [],
   "source": [
    "pred_submission = grid_cv.best_estimator_.predict(predict_service[train_columns].select_dtypes(['float64', 'int64']))\n",
    "predict_service['pred'] = pred_submission\n",
    "predict_service.head()"
   ]
  },
  {
   "cell_type": "markdown",
   "id": "8145e215",
   "metadata": {
    "id": "8145e215"
   },
   "source": [
    "# Submission"
   ]
  },
  {
   "cell_type": "code",
   "execution_count": null,
   "id": "9e9c4a88",
   "metadata": {
    "colab": {
     "base_uri": "https://localhost:8080/"
    },
    "id": "9e9c4a88",
    "outputId": "aa18ae1c-a29a-4e1c-baa2-ea242ab235d1"
   },
   "outputs": [],
   "source": [
    "# 결과 제출 답안지 불러오기\n",
    "# predict_service['Churn'] = predict_service['pred'].apply(lambda x: 0 if x==1 else 1)\n",
    "predict_service['Churn'] = predict_service['pred']\n",
    "\n",
    "ds_sheet = \"/content/drive/MyDrive/SK_AI/CDS_submission.csv\"\n",
    "df_sheet = pd.read_csv(ds_sheet)\n",
    "df_sheet.drop('CHURN', axis=1, inplace=True)\n",
    "df_sheet.info()\n",
    "\n",
    "# 답안지에 답안 표기\n",
    "df_result = predict_service.loc[:,('uno','registerdate','productcode')]\n",
    "df_result['KEY']   = df_result['uno'] + '|' + df_result['registerdate'].dt.strftime('%y-%m-%d %I:%M:%S') + '|' + df_result['productcode']   # 판다스 strftime()\n",
    "df_result['CHURN'] = predict_service['Churn']\n",
    "df_result = df_result.loc[:,('KEY','CHURN')]\n",
    "df_answer_sheet = pd.merge(df_sheet, df_result, on='KEY', how='left')\n",
    "\n",
    "\n",
    "# 답안지 제출 파일 생성하기\n",
    "ds_answer_sheet = \"CDS_submission_XGBRFClassifier.csv\"\n",
    "df_answer_sheet.to_csv(ds_answer_sheet, index=False, encoding='utf8')"
   ]
  },
  {
   "cell_type": "code",
   "execution_count": null,
   "id": "5783f560",
   "metadata": {
    "colab": {
     "base_uri": "https://localhost:8080/"
    },
    "id": "5783f560",
    "outputId": "c455c089-5b45-4eb7-f326-9d5cfff90f88"
   },
   "outputs": [],
   "source": [
    "# 결과 제출 답안지 불러오기\n",
    "# predict_service['Churn'] = predict_service['pred'].apply(lambda x: 0 if x==1 else 1)\n",
    "predict_service_target['Churn'] = predict_service_target['pred']\n",
    "\n",
    "ds_sheet = \"/content/drive/MyDrive/SK_AI/CDS_submission.csv\"\n",
    "df_sheet = pd.read_csv(ds_sheet)\n",
    "df_sheet.drop('CHURN', axis=1, inplace=True)\n",
    "df_sheet.info()\n",
    "\n",
    "# 답안지에 답안 표기\n",
    "df_result = predict_service.loc[:,('uno','registerdate','productcode')]\n",
    "df_result['KEY']   = df_result['uno'] + '|' + df_result['registerdate'].dt.strftime('%y-%m-%d %I:%M:%S') + '|' + df_result['productcode']   # 판다스 strftime()\n",
    "df_result['CHURN'] = predict_service_target['Churn']\n",
    "df_result = df_result.loc[:,('KEY','CHURN')]\n",
    "df_answer_sheet = pd.merge(df_sheet, df_result, on='KEY', how='left')\n",
    "df_answer_sheet['CHURN'] = df_answer_sheet['CHURN'].apply(int)\n",
    "# 답안지 제출 파일 생성하기\n",
    "ds_answer_sheet = \"CDS_submission_XGBClassifier_target.csv\"\n",
    "df_answer_sheet.to_csv(ds_answer_sheet, index=False, encoding='utf8')"
   ]
  },
  {
   "cell_type": "code",
   "execution_count": null,
   "id": "1b812021",
   "metadata": {
    "colab": {
     "base_uri": "https://localhost:8080/",
     "height": 204
    },
    "id": "1b812021",
    "outputId": "023def97-f2f3-43e0-b4f1-6e0116e6d981"
   },
   "outputs": [],
   "source": [
    "df_answer_sheet.head()"
   ]
  },
  {
   "cell_type": "code",
   "execution_count": null,
   "id": "85ea9cf7",
   "metadata": {
    "id": "85ea9cf7"
   },
   "outputs": [],
   "source": [
    "predict_service[predict_service['uno'] == '7de6c80c6cb5c5098bbfef8d9da75dfdd338b681d96691b420cbddbf35b2cb878a07272fd1a3d9eb2506a19f27738f05dfc8627da765152ccc1a44e565b4a86e|21-03-14 10:55:38|pk_2025']"
   ]
  },
  {
   "cell_type": "code",
   "execution_count": null,
   "id": "cfb2f1e5",
   "metadata": {
    "id": "cfb2f1e5"
   },
   "outputs": [],
   "source": [
    "predict_service[predict_service['uno'] == '7de6c80c6cb5c5098bbfef8d9da75dfdd338b681d96691b420cbddbf35b2cb878a07272fd1a3d9eb2506a19f27738f05dfc8627da765152ccc1a44e565b4a86e']"
   ]
  },
  {
   "cell_type": "code",
   "execution_count": null,
   "id": "8b33369c",
   "metadata": {
    "id": "8b33369c"
   },
   "outputs": [],
   "source": [
    "predict_service.head(10)"
   ]
  },
  {
   "cell_type": "code",
   "execution_count": null,
   "id": "10c8bb16",
   "metadata": {
    "id": "10c8bb16"
   },
   "outputs": [],
   "source": [
    "predict_service.shape"
   ]
  },
  {
   "cell_type": "code",
   "execution_count": null,
   "id": "4e2cd678",
   "metadata": {
    "id": "4e2cd678"
   },
   "outputs": [],
   "source": []
  }
 ],
 "metadata": {
  "colab": {
   "collapsed_sections": [
    "16e26f3e",
    "14bcbace",
    "6658cdff",
    "fa52ec77",
    "e44c6551",
    "5395e901",
    "49c53285",
    "42d5f48a"
   ],
   "name": "해지예측.ipynb",
   "provenance": [],
   "toc_visible": true
  },
  "kernelspec": {
   "display_name": "Python 3",
   "language": "python",
   "name": "python3"
  },
  "language_info": {
   "codemirror_mode": {
    "name": "ipython",
    "version": 3
   },
   "file_extension": ".py",
   "mimetype": "text/x-python",
   "name": "python",
   "nbconvert_exporter": "python",
   "pygments_lexer": "ipython3",
   "version": "3.8.8"
  },
  "toc": {
   "base_numbering": 1,
   "nav_menu": {},
   "number_sections": true,
   "sideBar": true,
   "skip_h1_title": false,
   "title_cell": "Table of Contents",
   "title_sidebar": "Contents",
   "toc_cell": false,
   "toc_position": {
    "height": "calc(100% - 180px)",
    "left": "10px",
    "top": "150px",
    "width": "205.188px"
   },
   "toc_section_display": true,
   "toc_window_display": true
  },
  "varInspector": {
   "cols": {
    "lenName": 16,
    "lenType": 16,
    "lenVar": 40
   },
   "kernels_config": {
    "python": {
     "delete_cmd_postfix": "",
     "delete_cmd_prefix": "del ",
     "library": "var_list.py",
     "varRefreshCmd": "print(var_dic_list())"
    },
    "r": {
     "delete_cmd_postfix": ") ",
     "delete_cmd_prefix": "rm(",
     "library": "var_list.r",
     "varRefreshCmd": "cat(var_dic_list()) "
    }
   },
   "types_to_exclude": [
    "module",
    "function",
    "builtin_function_or_method",
    "instance",
    "_Feature"
   ],
   "window_display": false
  }
 },
 "nbformat": 4,
 "nbformat_minor": 5
}
