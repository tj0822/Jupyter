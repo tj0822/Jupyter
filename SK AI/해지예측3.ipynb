{
 "cells": [
  {
   "cell_type": "markdown",
   "id": "ba99ee0f",
   "metadata": {
    "id": "ba99ee0f"
   },
   "source": [
    "# Data Load"
   ]
  },
  {
   "cell_type": "code",
   "execution_count": 1,
   "id": "QqM-caV8TF_6",
   "metadata": {
    "colab": {
     "base_uri": "https://localhost:8080/"
    },
    "id": "QqM-caV8TF_6",
    "outputId": "a4945cca-0413-427e-cedc-35e633ca8047"
   },
   "outputs": [
    {
     "name": "stdout",
     "output_type": "stream",
     "text": [
      "Drive already mounted at /content/drive; to attempt to forcibly remount, call drive.mount(\"/content/drive\", force_remount=True).\n"
     ]
    }
   ],
   "source": [
    "from google.colab import drive\n",
    "drive.mount('/content/drive')"
   ]
  },
  {
   "cell_type": "code",
   "execution_count": 1,
   "id": "d810b703",
   "metadata": {
    "id": "d810b703"
   },
   "outputs": [],
   "source": [
    "import pandas as pd\n",
    "import warnings\n",
    "warnings.filterwarnings('ignore')\n",
    "\n",
    "train_bookmark = pd.read_csv('Train/train_bookmark.csv', parse_dates=['dates'], infer_datetime_format=True)\n",
    "train_service = pd.read_csv('Train/train_service.csv', parse_dates=['registerdate','enddate'], infer_datetime_format=True)\n",
    "coin = pd.read_csv('Code/coin.csv')\n",
    "content_info = pd.read_csv('Code/content_info.csv')\n",
    "movie_info = pd.read_csv('Code/movie_info.csv')\n",
    "predict_bookmark = pd.read_csv('Predict/predict_bookmark.csv', parse_dates=['dates'], infer_datetime_format=True)\n",
    "predict_service = pd.read_csv('Predict/predict_service.csv', parse_dates=['registerdate','enddate'], infer_datetime_format=True)"
   ]
  },
  {
   "cell_type": "code",
   "execution_count": 2,
   "id": "MoT9HFH0pucV",
   "metadata": {
    "id": "MoT9HFH0pucV"
   },
   "outputs": [],
   "source": [
    "column_code_info_Productcode = pd.read_excel('column_code_info.xlsx', sheet_name='Productcode')\n",
    "column_code_info_Coin_Productcode = pd.read_excel('column_code_info.xlsx', sheet_name='Coin_Productcode')\n",
    "column_code_info_payment = pd.read_excel('column_code_info.xlsx', sheet_name='payment')\n",
    "column_code_info_charge = pd.read_excel('column_code_info.xlsx', sheet_name='charge')\n",
    "column_code_info_device = pd.read_excel('column_code_info.xlsx', sheet_name='device')\n",
    "column_code_info_genre = pd.read_excel('column_code_info.xlsx', sheet_name='genre')\n",
    "column_code_info_section = pd.read_excel('column_code_info.xlsx', sheet_name='section')\n",
    "column_code_info_channel = pd.read_excel('column_code_info.xlsx', sheet_name='channel')"
   ]
  },
  {
   "cell_type": "markdown",
   "id": "b8f9e4c6",
   "metadata": {
    "id": "b8f9e4c6"
   },
   "source": [
    "# 전처리, 결측치 처리"
   ]
  },
  {
   "cell_type": "code",
   "execution_count": 3,
   "id": "12925f66",
   "metadata": {
    "id": "12925f66"
   },
   "outputs": [],
   "source": [
    "exchange_rate = 1138.5\n",
    "\n",
    "train_service['promo_100'] = train_service['promo_100'].apply(lambda x: 0 if pd.isna(x) else 1 )\n",
    "train_service['coinReceived'] = train_service['coinReceived'].apply(lambda x: 0 if pd.isna(x) else 1 )\n",
    "train_service['isauth'] = train_service['isauth'].apply(lambda x: 0 if pd.isna(x) else 1 )\n",
    "train_service['Repurchase'] = train_service['Repurchase'].apply(lambda x: 1 if x=='O' else 0)\n",
    "train_service['gender'] = train_service['gender'].fillna('N')\n",
    "train_service['pgamount'] = train_service['pgamount'].apply(lambda x: x * exchange_rate if x<100 else x)\n",
    "\n",
    "predict_service['promo_100'] = predict_service['promo_100'].apply(lambda x: 0 if pd.isna(x) else 1 )\n",
    "predict_service['coinReceived'] = predict_service['coinReceived'].apply(lambda x: 0 if pd.isna(x) else 1 )\n",
    "predict_service['isauth'] = predict_service['isauth'].apply(lambda x: 0 if pd.isna(x) else 1 )\n",
    "# predict_service['Repurchase'] = predict_service['Repurchase'].apply(lambda x: int(1) if x=='X' else int(np.nan))\n",
    "predict_service['gender'] = predict_service['gender'].fillna('N')\n",
    "predict_service['pgamount'] = predict_service['pgamount'].apply(lambda x: x * exchange_rate if x<100 else x)"
   ]
  },
  {
   "cell_type": "code",
   "execution_count": 4,
   "id": "61cabce4",
   "metadata": {
    "id": "61cabce4"
   },
   "outputs": [],
   "source": [
    "train_service_target = train_service[train_service.enddate >= train_service.registerdate + pd.DateOffset(weeks=3)]\n",
    "predict_service_target = predict_service[predict_service.enddate >= predict_service.registerdate + pd.DateOffset(weeks=3)]"
   ]
  },
  {
   "cell_type": "markdown",
   "id": "8948277a",
   "metadata": {
    "id": "8948277a"
   },
   "source": [
    "# EDA"
   ]
  },
  {
   "cell_type": "code",
   "execution_count": 26,
   "id": "HNYwpunGtCDE",
   "metadata": {
    "colab": {
     "base_uri": "https://localhost:8080/",
     "height": 394
    },
    "id": "HNYwpunGtCDE",
    "outputId": "70e099d2-cea9-48ca-91da-91c0a2443dae"
   },
   "outputs": [
    {
     "data": {
      "text/html": [
       "<div>\n",
       "<style scoped>\n",
       "    .dataframe tbody tr th:only-of-type {\n",
       "        vertical-align: middle;\n",
       "    }\n",
       "\n",
       "    .dataframe tbody tr th {\n",
       "        vertical-align: top;\n",
       "    }\n",
       "\n",
       "    .dataframe thead th {\n",
       "        text-align: right;\n",
       "    }\n",
       "</style>\n",
       "<table border=\"1\" class=\"dataframe\">\n",
       "  <thead>\n",
       "    <tr style=\"text-align: right;\">\n",
       "      <th></th>\n",
       "      <th>uno</th>\n",
       "      <th>registerdate</th>\n",
       "      <th>enddate</th>\n",
       "      <th>productcode</th>\n",
       "      <th>pgamount</th>\n",
       "      <th>chargetypeid</th>\n",
       "      <th>concurrentwatchcount</th>\n",
       "      <th>promo_100</th>\n",
       "      <th>coinReceived</th>\n",
       "      <th>Repurchase</th>\n",
       "      <th>devicetypeid</th>\n",
       "      <th>isauth</th>\n",
       "      <th>gender</th>\n",
       "      <th>agegroup</th>\n",
       "      <th>tot_view_count</th>\n",
       "      <th>tot_viewtime_sum</th>\n",
       "      <th>tot_viewtime_mean</th>\n",
       "      <th>tot_viewtime_std</th>\n",
       "      <th>view_count</th>\n",
       "      <th>viewtime_sum</th>\n",
       "      <th>viewtime_mean</th>\n",
       "      <th>viewtime_std</th>\n",
       "      <th>RepurchaseRateByProductcode</th>\n",
       "      <th>rateByChargetypeid</th>\n",
       "      <th>devicetype_cnt</th>\n",
       "      <th>auto_pay_yn</th>\n",
       "      <th>coin_productcode</th>\n",
       "      <th>paymenttypeid</th>\n",
       "      <th>currencytypeid</th>\n",
       "      <th>totalamount</th>\n",
       "      <th>coin_pgamount</th>\n",
       "      <th>coinamount</th>\n",
       "      <th>bonusamount</th>\n",
       "      <th>discountamount</th>\n",
       "      <th>productname</th>\n",
       "      <th>coinexpiredate</th>\n",
       "      <th>coin_autopay_yn</th>\n",
       "      <th>run_rate</th>\n",
       "    </tr>\n",
       "  </thead>\n",
       "  <tbody>\n",
       "    <tr>\n",
       "      <th>0</th>\n",
       "      <td>b3d6846338d0e98b7e0fcf735c49271ff59df86bfd78f3...</td>\n",
       "      <td>2021-03-09 16:31:15</td>\n",
       "      <td>2021-04-09 16:31:15</td>\n",
       "      <td>pk_1487</td>\n",
       "      <td>7900.0</td>\n",
       "      <td>134</td>\n",
       "      <td>1</td>\n",
       "      <td>0</td>\n",
       "      <td>0</td>\n",
       "      <td>0</td>\n",
       "      <td>android</td>\n",
       "      <td>1</td>\n",
       "      <td>F</td>\n",
       "      <td>45</td>\n",
       "      <td>59.0</td>\n",
       "      <td>55940.0</td>\n",
       "      <td>948.135593</td>\n",
       "      <td>828.766168</td>\n",
       "      <td>57.0</td>\n",
       "      <td>53230.0</td>\n",
       "      <td>10947.666667</td>\n",
       "      <td>9358.456573</td>\n",
       "      <td>0.680547</td>\n",
       "      <td>0.704986</td>\n",
       "      <td>1.0</td>\n",
       "      <td>0</td>\n",
       "      <td>NaN</td>\n",
       "      <td>NaN</td>\n",
       "      <td>NaN</td>\n",
       "      <td>NaN</td>\n",
       "      <td>NaN</td>\n",
       "      <td>NaN</td>\n",
       "      <td>NaN</td>\n",
       "      <td>NaN</td>\n",
       "      <td>NaN</td>\n",
       "      <td>NaT</td>\n",
       "      <td>NaN</td>\n",
       "      <td>0.713182</td>\n",
       "    </tr>\n",
       "    <tr>\n",
       "      <th>1</th>\n",
       "      <td>4ec765db76545c1d6dda9f421590bf9d02f584009f8d92...</td>\n",
       "      <td>2021-03-09 14:33:07</td>\n",
       "      <td>2021-04-09 14:33:07</td>\n",
       "      <td>pk_1487</td>\n",
       "      <td>100.0</td>\n",
       "      <td>190</td>\n",
       "      <td>1</td>\n",
       "      <td>1</td>\n",
       "      <td>1</td>\n",
       "      <td>0</td>\n",
       "      <td>pc</td>\n",
       "      <td>1</td>\n",
       "      <td>F</td>\n",
       "      <td>25</td>\n",
       "      <td>27.0</td>\n",
       "      <td>36420.0</td>\n",
       "      <td>1348.888889</td>\n",
       "      <td>1067.622568</td>\n",
       "      <td>18.0</td>\n",
       "      <td>26190.0</td>\n",
       "      <td>14448.333333</td>\n",
       "      <td>4599.236399</td>\n",
       "      <td>0.680547</td>\n",
       "      <td>0.584037</td>\n",
       "      <td>1.0</td>\n",
       "      <td>0</td>\n",
       "      <td>NaN</td>\n",
       "      <td>NaN</td>\n",
       "      <td>NaN</td>\n",
       "      <td>NaN</td>\n",
       "      <td>NaN</td>\n",
       "      <td>NaN</td>\n",
       "      <td>NaN</td>\n",
       "      <td>NaN</td>\n",
       "      <td>NaN</td>\n",
       "      <td>NaT</td>\n",
       "      <td>NaN</td>\n",
       "      <td>0.742686</td>\n",
       "    </tr>\n",
       "    <tr>\n",
       "      <th>2</th>\n",
       "      <td>4f86d917c53cb6bd8949f76dba7260311e8c1748748a02...</td>\n",
       "      <td>2021-03-09 22:23:12</td>\n",
       "      <td>2021-04-09 22:23:12</td>\n",
       "      <td>pk_1487</td>\n",
       "      <td>100.0</td>\n",
       "      <td>132</td>\n",
       "      <td>1</td>\n",
       "      <td>1</td>\n",
       "      <td>0</td>\n",
       "      <td>0</td>\n",
       "      <td>android</td>\n",
       "      <td>0</td>\n",
       "      <td>F</td>\n",
       "      <td>55</td>\n",
       "      <td>132.0</td>\n",
       "      <td>109020.0</td>\n",
       "      <td>825.909091</td>\n",
       "      <td>965.055039</td>\n",
       "      <td>132.0</td>\n",
       "      <td>109020.0</td>\n",
       "      <td>14358.589257</td>\n",
       "      <td>16227.440700</td>\n",
       "      <td>0.680547</td>\n",
       "      <td>0.696782</td>\n",
       "      <td>3.0</td>\n",
       "      <td>0</td>\n",
       "      <td>NaN</td>\n",
       "      <td>NaN</td>\n",
       "      <td>NaN</td>\n",
       "      <td>NaN</td>\n",
       "      <td>NaN</td>\n",
       "      <td>NaN</td>\n",
       "      <td>NaN</td>\n",
       "      <td>NaN</td>\n",
       "      <td>NaN</td>\n",
       "      <td>NaT</td>\n",
       "      <td>NaN</td>\n",
       "      <td>0.853055</td>\n",
       "    </tr>\n",
       "    <tr>\n",
       "      <th>3</th>\n",
       "      <td>6722de45f1c29af6057973492fed22c05e63a7bc90203d...</td>\n",
       "      <td>2021-03-10 21:31:39</td>\n",
       "      <td>2021-04-10 21:31:39</td>\n",
       "      <td>pk_1487</td>\n",
       "      <td>100.0</td>\n",
       "      <td>132</td>\n",
       "      <td>1</td>\n",
       "      <td>1</td>\n",
       "      <td>0</td>\n",
       "      <td>1</td>\n",
       "      <td>android</td>\n",
       "      <td>1</td>\n",
       "      <td>M</td>\n",
       "      <td>40</td>\n",
       "      <td>43.0</td>\n",
       "      <td>20770.0</td>\n",
       "      <td>483.023256</td>\n",
       "      <td>456.156484</td>\n",
       "      <td>32.0</td>\n",
       "      <td>14710.0</td>\n",
       "      <td>1521.666667</td>\n",
       "      <td>701.345933</td>\n",
       "      <td>0.680547</td>\n",
       "      <td>0.696782</td>\n",
       "      <td>1.0</td>\n",
       "      <td>0</td>\n",
       "      <td>NaN</td>\n",
       "      <td>NaN</td>\n",
       "      <td>NaN</td>\n",
       "      <td>NaN</td>\n",
       "      <td>NaN</td>\n",
       "      <td>NaN</td>\n",
       "      <td>NaN</td>\n",
       "      <td>NaN</td>\n",
       "      <td>NaN</td>\n",
       "      <td>NaT</td>\n",
       "      <td>NaN</td>\n",
       "      <td>0.741085</td>\n",
       "    </tr>\n",
       "    <tr>\n",
       "      <th>4</th>\n",
       "      <td>be6700cb07cb7f428d536f6b1bc88e9e37844ab634286d...</td>\n",
       "      <td>2021-03-10 13:35:57</td>\n",
       "      <td>2021-04-10 13:35:57</td>\n",
       "      <td>pk_1487</td>\n",
       "      <td>100.0</td>\n",
       "      <td>180</td>\n",
       "      <td>1</td>\n",
       "      <td>1</td>\n",
       "      <td>0</td>\n",
       "      <td>1</td>\n",
       "      <td>android</td>\n",
       "      <td>1</td>\n",
       "      <td>M</td>\n",
       "      <td>25</td>\n",
       "      <td>10.0</td>\n",
       "      <td>14690.0</td>\n",
       "      <td>1469.000000</td>\n",
       "      <td>1500.877151</td>\n",
       "      <td>4.0</td>\n",
       "      <td>4920.0</td>\n",
       "      <td>2460.000000</td>\n",
       "      <td>1654.629868</td>\n",
       "      <td>0.680547</td>\n",
       "      <td>0.622226</td>\n",
       "      <td>2.0</td>\n",
       "      <td>0</td>\n",
       "      <td>NaN</td>\n",
       "      <td>NaN</td>\n",
       "      <td>NaN</td>\n",
       "      <td>NaN</td>\n",
       "      <td>NaN</td>\n",
       "      <td>NaN</td>\n",
       "      <td>NaN</td>\n",
       "      <td>NaN</td>\n",
       "      <td>NaN</td>\n",
       "      <td>NaT</td>\n",
       "      <td>NaN</td>\n",
       "      <td>0.994526</td>\n",
       "    </tr>\n",
       "  </tbody>\n",
       "</table>\n",
       "</div>"
      ],
      "text/plain": [
       "                                                 uno  ...  run_rate\n",
       "0  b3d6846338d0e98b7e0fcf735c49271ff59df86bfd78f3...  ...  0.713182\n",
       "1  4ec765db76545c1d6dda9f421590bf9d02f584009f8d92...  ...  0.742686\n",
       "2  4f86d917c53cb6bd8949f76dba7260311e8c1748748a02...  ...  0.853055\n",
       "3  6722de45f1c29af6057973492fed22c05e63a7bc90203d...  ...  0.741085\n",
       "4  be6700cb07cb7f428d536f6b1bc88e9e37844ab634286d...  ...  0.994526\n",
       "\n",
       "[5 rows x 38 columns]"
      ]
     },
     "execution_count": 26,
     "metadata": {
      "tags": []
     },
     "output_type": "execute_result"
    }
   ],
   "source": [
    "train_service.head()"
   ]
  },
  {
   "cell_type": "code",
   "execution_count": 27,
   "id": "JarHvKNXtEvm",
   "metadata": {
    "colab": {
     "base_uri": "https://localhost:8080/",
     "height": 289
    },
    "id": "JarHvKNXtEvm",
    "outputId": "5c1c883d-03bc-45c0-faf4-61d0e007a120"
   },
   "outputs": [
    {
     "data": {
      "text/html": [
       "<div>\n",
       "<style scoped>\n",
       "    .dataframe tbody tr th:only-of-type {\n",
       "        vertical-align: middle;\n",
       "    }\n",
       "\n",
       "    .dataframe tbody tr th {\n",
       "        vertical-align: top;\n",
       "    }\n",
       "\n",
       "    .dataframe thead th {\n",
       "        text-align: right;\n",
       "    }\n",
       "</style>\n",
       "<table border=\"1\" class=\"dataframe\">\n",
       "  <thead>\n",
       "    <tr style=\"text-align: right;\">\n",
       "      <th></th>\n",
       "      <th>uno</th>\n",
       "      <th>dates</th>\n",
       "      <th>hour</th>\n",
       "      <th>channeltype</th>\n",
       "      <th>programid</th>\n",
       "      <th>title</th>\n",
       "      <th>contentid</th>\n",
       "      <th>contentnumber</th>\n",
       "      <th>section</th>\n",
       "      <th>viewtime</th>\n",
       "      <th>devicetype</th>\n",
       "    </tr>\n",
       "  </thead>\n",
       "  <tbody>\n",
       "    <tr>\n",
       "      <th>0</th>\n",
       "      <td>b3d6846338d0e98b7e0fcf735c49271ff59df86bfd78f3...</td>\n",
       "      <td>2021-03-20</td>\n",
       "      <td>17</td>\n",
       "      <td>V</td>\n",
       "      <td>S01_P453505934</td>\n",
       "      <td>펜트하우스 2</td>\n",
       "      <td>S01_E454434900.1</td>\n",
       "      <td>9</td>\n",
       "      <td>1</td>\n",
       "      <td>1650</td>\n",
       "      <td>4</td>\n",
       "    </tr>\n",
       "    <tr>\n",
       "      <th>1</th>\n",
       "      <td>b3d6846338d0e98b7e0fcf735c49271ff59df86bfd78f3...</td>\n",
       "      <td>2021-03-13</td>\n",
       "      <td>15</td>\n",
       "      <td>V</td>\n",
       "      <td>M_T60403G</td>\n",
       "      <td>밥이 되어라</td>\n",
       "      <td>M_EP202103053628.1</td>\n",
       "      <td>42</td>\n",
       "      <td>1</td>\n",
       "      <td>1670</td>\n",
       "      <td>4</td>\n",
       "    </tr>\n",
       "    <tr>\n",
       "      <th>2</th>\n",
       "      <td>b3d6846338d0e98b7e0fcf735c49271ff59df86bfd78f3...</td>\n",
       "      <td>2021-03-13</td>\n",
       "      <td>6</td>\n",
       "      <td>V</td>\n",
       "      <td>S01_P453505934</td>\n",
       "      <td>펜트하우스 2</td>\n",
       "      <td>S01_E454336041.1</td>\n",
       "      <td>7</td>\n",
       "      <td>1</td>\n",
       "      <td>1800</td>\n",
       "      <td>4</td>\n",
       "    </tr>\n",
       "    <tr>\n",
       "      <th>3</th>\n",
       "      <td>b3d6846338d0e98b7e0fcf735c49271ff59df86bfd78f3...</td>\n",
       "      <td>2021-03-16</td>\n",
       "      <td>19</td>\n",
       "      <td>V</td>\n",
       "      <td>K02_T2020-0370</td>\n",
       "      <td>오! 삼광빌라!</td>\n",
       "      <td>K02_PS-2021033047-01-000.1</td>\n",
       "      <td>50</td>\n",
       "      <td>1</td>\n",
       "      <td>2080</td>\n",
       "      <td>4</td>\n",
       "    </tr>\n",
       "    <tr>\n",
       "      <th>4</th>\n",
       "      <td>b3d6846338d0e98b7e0fcf735c49271ff59df86bfd78f3...</td>\n",
       "      <td>2021-03-18</td>\n",
       "      <td>7</td>\n",
       "      <td>V</td>\n",
       "      <td>M_T60403G</td>\n",
       "      <td>밥이 되어라</td>\n",
       "      <td>M_EP202103123716.1</td>\n",
       "      <td>43</td>\n",
       "      <td>1</td>\n",
       "      <td>1680</td>\n",
       "      <td>4</td>\n",
       "    </tr>\n",
       "  </tbody>\n",
       "</table>\n",
       "</div>"
      ],
      "text/plain": [
       "                                                 uno  ... devicetype\n",
       "0  b3d6846338d0e98b7e0fcf735c49271ff59df86bfd78f3...  ...          4\n",
       "1  b3d6846338d0e98b7e0fcf735c49271ff59df86bfd78f3...  ...          4\n",
       "2  b3d6846338d0e98b7e0fcf735c49271ff59df86bfd78f3...  ...          4\n",
       "3  b3d6846338d0e98b7e0fcf735c49271ff59df86bfd78f3...  ...          4\n",
       "4  b3d6846338d0e98b7e0fcf735c49271ff59df86bfd78f3...  ...          4\n",
       "\n",
       "[5 rows x 11 columns]"
      ]
     },
     "execution_count": 27,
     "metadata": {
      "tags": []
     },
     "output_type": "execute_result"
    }
   ],
   "source": [
    "train_bookmark.head()"
   ]
  },
  {
   "cell_type": "code",
   "execution_count": 4,
   "id": "zEi6nphrug-o",
   "metadata": {
    "id": "zEi6nphrug-o"
   },
   "outputs": [],
   "source": [
    "import sqlite3\n",
    "\n",
    "conn = sqlite3.connect(':memory:')\n",
    "\n",
    "train_service.to_sql('train_service', conn, index=False)\n",
    "train_bookmark.to_sql('train_bookmark', conn, index=False)"
   ]
  },
  {
   "cell_type": "code",
   "execution_count": 5,
   "id": "KEFcswXNuiZb",
   "metadata": {
    "id": "KEFcswXNuiZb"
   },
   "outputs": [
    {
     "ename": "KeyboardInterrupt",
     "evalue": "",
     "output_type": "error",
     "traceback": [
      "\u001b[0;31m---------------------------------------------------------------------------\u001b[0m",
      "\u001b[0;31mKeyboardInterrupt\u001b[0m                         Traceback (most recent call last)",
      "    \u001b[0;31m[... skipping hidden 1 frame]\u001b[0m\n",
      "\u001b[0;32m<ipython-input-5-2c28d972c6eb>\u001b[0m in \u001b[0;36m<module>\u001b[0;34m\u001b[0m\n\u001b[1;32m     17\u001b[0m '''\n\u001b[0;32m---> 18\u001b[0;31m \u001b[0mtrain_merge\u001b[0m \u001b[0;34m=\u001b[0m \u001b[0mpd\u001b[0m\u001b[0;34m.\u001b[0m\u001b[0mread_sql_query\u001b[0m\u001b[0;34m(\u001b[0m\u001b[0mquery\u001b[0m\u001b[0;34m,\u001b[0m \u001b[0mconn\u001b[0m\u001b[0;34m)\u001b[0m\u001b[0;34m\u001b[0m\u001b[0;34m\u001b[0m\u001b[0m\n\u001b[0m\u001b[1;32m     19\u001b[0m \u001b[0mtrain_merge\u001b[0m\u001b[0;34m.\u001b[0m\u001b[0mhead\u001b[0m\u001b[0;34m(\u001b[0m\u001b[0;34m)\u001b[0m\u001b[0;34m\u001b[0m\u001b[0;34m\u001b[0m\u001b[0m\n",
      "\u001b[0;32m~/opt/anaconda3/lib/python3.8/site-packages/pandas/io/sql.py\u001b[0m in \u001b[0;36mread_sql_query\u001b[0;34m(sql, con, index_col, coerce_float, params, parse_dates, chunksize)\u001b[0m\n\u001b[1;32m    387\u001b[0m     \u001b[0mpandas_sql\u001b[0m \u001b[0;34m=\u001b[0m \u001b[0mpandasSQL_builder\u001b[0m\u001b[0;34m(\u001b[0m\u001b[0mcon\u001b[0m\u001b[0;34m)\u001b[0m\u001b[0;34m\u001b[0m\u001b[0;34m\u001b[0m\u001b[0m\n\u001b[0;32m--> 388\u001b[0;31m     return pandas_sql.read_query(\n\u001b[0m\u001b[1;32m    389\u001b[0m         \u001b[0msql\u001b[0m\u001b[0;34m,\u001b[0m\u001b[0;34m\u001b[0m\u001b[0;34m\u001b[0m\u001b[0m\n",
      "\u001b[0;31mKeyboardInterrupt\u001b[0m: ",
      "\nDuring handling of the above exception, another exception occurred:\n",
      "\u001b[0;31mKeyboardInterrupt\u001b[0m                         Traceback (most recent call last)",
      "\u001b[0;31mKeyboardInterrupt\u001b[0m: "
     ]
    }
   ],
   "source": [
    "query = '''\n",
    "select train_bookmark.dates, \n",
    "       train_bookmark.hour, \n",
    "       train_bookmark.channeltype,\n",
    "       train_bookmark.programid, \n",
    "       train_bookmark.title,\n",
    "       train_bookmark.contentid, \n",
    "       train_bookmark.contentnumber,\n",
    "       train_bookmark.section,\n",
    "       train_bookmark.viewtime,\n",
    "       train_bookmark.devicetype,\n",
    "       train_service.*\n",
    "from train_bookmark\n",
    "left join train_service\n",
    "on train_bookmark.dates >= train_service.registerdate and train_bookmark.dates <= train_service.enddate\n",
    "and train_service.uno = train_bookmark.uno \n",
    "'''\n",
    "train_merge = pd.read_sql_query(query, conn)\n",
    "train_merge.head()"
   ]
  },
  {
   "cell_type": "code",
   "execution_count": 9,
   "id": "4_J7XJv31w5m",
   "metadata": {
    "colab": {
     "base_uri": "https://localhost:8080/",
     "height": 204
    },
    "id": "4_J7XJv31w5m",
    "outputId": "cdd3e104-32ae-47ab-ee59-745bcf5c67a9"
   },
   "outputs": [
    {
     "data": {
      "text/html": [
       "<div>\n",
       "<style scoped>\n",
       "    .dataframe tbody tr th:only-of-type {\n",
       "        vertical-align: middle;\n",
       "    }\n",
       "\n",
       "    .dataframe tbody tr th {\n",
       "        vertical-align: top;\n",
       "    }\n",
       "\n",
       "    .dataframe thead th {\n",
       "        text-align: right;\n",
       "    }\n",
       "</style>\n",
       "<table border=\"1\" class=\"dataframe\">\n",
       "  <thead>\n",
       "    <tr style=\"text-align: right;\">\n",
       "      <th></th>\n",
       "      <th>Repurchase</th>\n",
       "      <th>dates</th>\n",
       "      <th>channeltype</th>\n",
       "      <th>programid</th>\n",
       "      <th>title</th>\n",
       "      <th>contentid</th>\n",
       "      <th>contentnumber</th>\n",
       "      <th>section</th>\n",
       "      <th>viewtime</th>\n",
       "      <th>devicetype</th>\n",
       "    </tr>\n",
       "  </thead>\n",
       "  <tbody>\n",
       "    <tr>\n",
       "      <th>0</th>\n",
       "      <td>X</td>\n",
       "      <td>2021-03-20 00:00:00</td>\n",
       "      <td>V</td>\n",
       "      <td>S01_P453505934</td>\n",
       "      <td>펜트하우스 2</td>\n",
       "      <td>S01_E454434900.1</td>\n",
       "      <td>9</td>\n",
       "      <td>1</td>\n",
       "      <td>1650</td>\n",
       "      <td>4</td>\n",
       "    </tr>\n",
       "    <tr>\n",
       "      <th>1</th>\n",
       "      <td>X</td>\n",
       "      <td>2021-03-13 00:00:00</td>\n",
       "      <td>V</td>\n",
       "      <td>M_T60403G</td>\n",
       "      <td>밥이 되어라</td>\n",
       "      <td>M_EP202103053628.1</td>\n",
       "      <td>42</td>\n",
       "      <td>1</td>\n",
       "      <td>1670</td>\n",
       "      <td>4</td>\n",
       "    </tr>\n",
       "    <tr>\n",
       "      <th>2</th>\n",
       "      <td>X</td>\n",
       "      <td>2021-03-13 00:00:00</td>\n",
       "      <td>V</td>\n",
       "      <td>S01_P453505934</td>\n",
       "      <td>펜트하우스 2</td>\n",
       "      <td>S01_E454336041.1</td>\n",
       "      <td>7</td>\n",
       "      <td>1</td>\n",
       "      <td>1800</td>\n",
       "      <td>4</td>\n",
       "    </tr>\n",
       "    <tr>\n",
       "      <th>3</th>\n",
       "      <td>X</td>\n",
       "      <td>2021-03-16 00:00:00</td>\n",
       "      <td>V</td>\n",
       "      <td>K02_T2020-0370</td>\n",
       "      <td>오! 삼광빌라!</td>\n",
       "      <td>K02_PS-2021033047-01-000.1</td>\n",
       "      <td>50</td>\n",
       "      <td>1</td>\n",
       "      <td>2080</td>\n",
       "      <td>4</td>\n",
       "    </tr>\n",
       "    <tr>\n",
       "      <th>4</th>\n",
       "      <td>X</td>\n",
       "      <td>2021-03-18 00:00:00</td>\n",
       "      <td>V</td>\n",
       "      <td>M_T60403G</td>\n",
       "      <td>밥이 되어라</td>\n",
       "      <td>M_EP202103123716.1</td>\n",
       "      <td>43</td>\n",
       "      <td>1</td>\n",
       "      <td>1680</td>\n",
       "      <td>4</td>\n",
       "    </tr>\n",
       "  </tbody>\n",
       "</table>\n",
       "</div>"
      ],
      "text/plain": [
       "  Repurchase                dates channeltype  ... section viewtime devicetype\n",
       "0          X  2021-03-20 00:00:00           V  ...       1     1650          4\n",
       "1          X  2021-03-13 00:00:00           V  ...       1     1670          4\n",
       "2          X  2021-03-13 00:00:00           V  ...       1     1800          4\n",
       "3          X  2021-03-16 00:00:00           V  ...       1     2080          4\n",
       "4          X  2021-03-18 00:00:00           V  ...       1     1680          4\n",
       "\n",
       "[5 rows x 10 columns]"
      ]
     },
     "execution_count": 9,
     "metadata": {
      "tags": []
     },
     "output_type": "execute_result"
    }
   ],
   "source": [
    "conn.close()"
   ]
  },
  {
   "cell_type": "markdown",
   "id": "d1e0d3ca",
   "metadata": {
    "id": "d1e0d3ca"
   },
   "source": [
    "# Feature 추가"
   ]
  },
  {
   "cell_type": "markdown",
   "id": "52bc27f0",
   "metadata": {
    "id": "52bc27f0"
   },
   "source": [
    "## View Info"
   ]
  },
  {
   "cell_type": "code",
   "execution_count": 6,
   "id": "JkQywaVJaNif",
   "metadata": {
    "id": "JkQywaVJaNif"
   },
   "outputs": [],
   "source": [
    "train_bookmark_grb_tot = pd.DataFrame(train_bookmark.groupby(['uno'])['dates'].count())\n",
    "train_bookmark_grb_tot.rename(columns={'dates':'tot_view_count'}, inplace=True)\n",
    "train_bookmark_grb_tot.reset_index(drop=False, inplace=True)\n",
    "\n",
    "\n",
    "train_bookmark_grb_tot = pd.merge(train_bookmark_grb_tot, pd.DataFrame(train_bookmark.groupby(['uno'])['viewtime'].sum()), on=['uno'])\n",
    "train_bookmark_grb_tot.rename(columns={'viewtime':'tot_viewtime_sum'}, inplace=True)\n",
    "\n",
    "train_bookmark_grb_tot = pd.merge(train_bookmark_grb_tot, pd.DataFrame(train_bookmark.groupby(['uno'])['viewtime'].mean()), on=['uno'])\n",
    "train_bookmark_grb_tot.rename(columns={'viewtime':'tot_viewtime_mean'}, inplace=True)\n",
    "\n",
    "train_bookmark_grb_tot = pd.merge(train_bookmark_grb_tot, pd.DataFrame(train_bookmark.groupby(['uno'])['viewtime'].std()), on=['uno'])\n",
    "train_bookmark_grb_tot.rename(columns={'viewtime':'tot_viewtime_std'}, inplace=True)"
   ]
  },
  {
   "cell_type": "code",
   "execution_count": 7,
   "id": "LhJ9bJ58angk",
   "metadata": {
    "id": "LhJ9bJ58angk"
   },
   "outputs": [],
   "source": [
    "train_service = pd.merge(train_service, train_bookmark_grb_tot, on='uno', how='left')\n",
    "train_service['tot_view_count'].fillna(0, inplace=True)\n",
    "train_service['tot_viewtime_sum'].fillna(0, inplace=True)\n",
    "train_service['tot_viewtime_mean'].fillna(0, inplace=True)\n",
    "train_service['tot_viewtime_std'].fillna(0, inplace=True)"
   ]
  },
  {
   "cell_type": "code",
   "execution_count": 8,
   "id": "hqzn3blta2y5",
   "metadata": {
    "id": "hqzn3blta2y5"
   },
   "outputs": [],
   "source": [
    "predict_bookmark_grb_tot = pd.DataFrame(predict_bookmark.groupby(['uno'])['dates'].count())\n",
    "predict_bookmark_grb_tot.rename(columns={'dates':'tot_view_count'}, inplace=True)\n",
    "predict_bookmark_grb_tot.reset_index(drop=False, inplace=True)\n",
    "\n",
    "\n",
    "predict_bookmark_grb_tot = pd.merge(predict_bookmark_grb_tot, pd.DataFrame(predict_bookmark.groupby(['uno'])['viewtime'].sum()), on=['uno'])\n",
    "predict_bookmark_grb_tot.rename(columns={'viewtime':'tot_viewtime_sum'}, inplace=True)\n",
    "\n",
    "predict_bookmark_grb_tot = pd.merge(predict_bookmark_grb_tot, pd.DataFrame(predict_bookmark.groupby(['uno'])['viewtime'].mean()), on=['uno'])\n",
    "predict_bookmark_grb_tot.rename(columns={'viewtime':'tot_viewtime_mean'}, inplace=True)\n",
    "\n",
    "predict_bookmark_grb_tot = pd.merge(predict_bookmark_grb_tot, pd.DataFrame(predict_bookmark.groupby(['uno'])['viewtime'].std()), on=['uno'])\n",
    "predict_bookmark_grb_tot.rename(columns={'viewtime':'tot_viewtime_std'}, inplace=True)"
   ]
  },
  {
   "cell_type": "code",
   "execution_count": 9,
   "id": "bfdflr-NbC7M",
   "metadata": {
    "id": "bfdflr-NbC7M"
   },
   "outputs": [],
   "source": [
    "predict_service = pd.merge(predict_service, predict_bookmark_grb_tot, on='uno', how='left')\n",
    "predict_service['tot_view_count'].fillna(0, inplace=True)\n",
    "predict_service['tot_viewtime_sum'].fillna(0, inplace=True)\n",
    "predict_service['tot_viewtime_mean'].fillna(0, inplace=True)\n",
    "predict_service['tot_viewtime_std'].fillna(0, inplace=True)"
   ]
  },
  {
   "cell_type": "code",
   "execution_count": 10,
   "id": "6OETGFI4AqYx",
   "metadata": {
    "id": "6OETGFI4AqYx"
   },
   "outputs": [],
   "source": [
    "train_bookmark_grb = pd.DataFrame(train_bookmark.groupby(['uno', 'dates'])['dates'].count())\n",
    "train_bookmark_grb.rename(columns={'dates':'view_count'}, inplace=True)\n",
    "train_bookmark_grb.reset_index(drop=False, inplace=True)\n",
    "\n",
    "\n",
    "train_bookmark_grb = pd.merge(train_bookmark_grb, pd.DataFrame(train_bookmark.groupby(['uno', 'dates'])['viewtime'].sum()), on=['uno', 'dates'])\n",
    "train_bookmark_grb.rename(columns={'viewtime':'viewtime_sum'}, inplace=True)\n",
    "\n",
    "train_bookmark_grb = pd.merge(train_bookmark_grb, pd.DataFrame(train_bookmark.groupby(['uno', 'dates'])['viewtime'].mean()), on=['uno', 'dates'])\n",
    "train_bookmark_grb.rename(columns={'viewtime':'viewtime_mean'}, inplace=True)\n",
    "\n",
    "train_bookmark_grb = pd.merge(train_bookmark_grb, pd.DataFrame(train_bookmark.groupby(['uno', 'dates'])['viewtime'].std()), on=['uno', 'dates'])\n",
    "train_bookmark_grb.rename(columns={'viewtime':'viewtime_std'}, inplace=True)\n",
    "\n",
    "import sqlite3\n",
    "\n",
    "conn = sqlite3.connect(':memory:')\n",
    "\n",
    "train_service.to_sql('train_service', conn, index=False)\n",
    "train_bookmark_grb.to_sql('train_bookmark_grb', conn, index=False)\n",
    "\n",
    "query = '''\n",
    "select train_service.uno,\n",
    "       registerdate, \n",
    "       enddate, \n",
    "       sum(view_count) view_count, \n",
    "       sum(viewtime_sum) viewtime_sum, \n",
    "       sum(viewtime_mean) viewtime_mean, \n",
    "       sum(viewtime_std) viewtime_std\n",
    "from train_service\n",
    "left join train_bookmark_grb\n",
    "on train_bookmark_grb.dates >= registerdate and train_bookmark_grb.dates <= enddate\n",
    "and train_service.uno = train_bookmark_grb.uno \n",
    "group by train_service.uno, registerdate, enddate\n",
    "'''\n",
    "sqlDf = pd.read_sql_query(query, conn)\n",
    "sqlDf['registerdate'] = pd.to_datetime(sqlDf['registerdate'])\n",
    "sqlDf['enddate'] = pd.to_datetime(sqlDf['enddate'])\n",
    "train_service = pd.merge(train_service, sqlDf, on=['uno', 'registerdate', 'enddate'])"
   ]
  },
  {
   "cell_type": "code",
   "execution_count": 11,
   "id": "ds5bT6zvGSYO",
   "metadata": {
    "id": "ds5bT6zvGSYO"
   },
   "outputs": [],
   "source": [
    "predict_bookmark_grp = pd.DataFrame(predict_bookmark.groupby(['uno', 'dates'])['dates'].count())\n",
    "predict_bookmark_grp.rename(columns={'dates':'view_count'}, inplace=True)\n",
    "predict_bookmark_grp.reset_index(drop=False, inplace=True)\n",
    "\n",
    "\n",
    "predict_bookmark_grp = pd.merge(predict_bookmark_grp, pd.DataFrame(predict_bookmark.groupby(['uno', 'dates'])['viewtime'].sum()), on=['uno', 'dates'])\n",
    "predict_bookmark_grp.rename(columns={'viewtime':'viewtime_sum'}, inplace=True)\n",
    "\n",
    "predict_bookmark_grp = pd.merge(predict_bookmark_grp, pd.DataFrame(predict_bookmark.groupby(['uno', 'dates'])['viewtime'].mean()), on=['uno', 'dates'])\n",
    "predict_bookmark_grp.rename(columns={'viewtime':'viewtime_mean'}, inplace=True)\n",
    "\n",
    "predict_bookmark_grp = pd.merge(predict_bookmark_grp, pd.DataFrame(predict_bookmark.groupby(['uno', 'dates'])['viewtime'].std()), on=['uno', 'dates'])\n",
    "predict_bookmark_grp.rename(columns={'viewtime':'viewtime_std'}, inplace=True)\n",
    "\n",
    "import sqlite3\n",
    "\n",
    "conn = sqlite3.connect(':memory:')\n",
    "\n",
    "predict_service.to_sql('predict_service', conn, index=False)\n",
    "predict_bookmark_grp.to_sql('predict_bookmark_grp', conn, index=False)\n",
    "\n",
    "query = '''\n",
    "select predict_service.uno,\n",
    "       registerdate, \n",
    "       enddate, \n",
    "       sum(view_count) view_count, \n",
    "       sum(viewtime_sum) viewtime_sum, \n",
    "       sum(viewtime_mean) viewtime_mean, \n",
    "       sum(viewtime_std) viewtime_std\n",
    "from predict_service\n",
    "left join predict_bookmark_grp\n",
    "on predict_bookmark_grp.dates >= registerdate and predict_bookmark_grp.dates <= enddate\n",
    "and predict_service.uno = predict_bookmark_grp.uno \n",
    "group by predict_service.uno, registerdate, enddate\n",
    "'''\n",
    "sqlDf = pd.read_sql_query(query, conn)\n",
    "sqlDf['registerdate'] = pd.to_datetime(sqlDf['registerdate'])\n",
    "sqlDf['enddate'] = pd.to_datetime(sqlDf['enddate'])\n",
    "predict_service = pd.merge(predict_service, sqlDf, on=['uno', 'registerdate', 'enddate'])"
   ]
  },
  {
   "cell_type": "markdown",
   "id": "8ebec82d",
   "metadata": {
    "id": "8ebec82d"
   },
   "source": [
    "## Productcode별 해지율"
   ]
  },
  {
   "cell_type": "code",
   "execution_count": 12,
   "id": "14490720",
   "metadata": {
    "id": "14490720"
   },
   "outputs": [],
   "source": [
    "rateByproductcode = pd.DataFrame(train_service.groupby(['productcode', 'Repurchase'])['Repurchase'].count()) / pd.DataFrame(train_service.groupby(['productcode'])['Repurchase'].count())\n",
    "rateByproductcode.columns = ['RepurchaseRateByProductcode']\n",
    "rateByproductcode.reset_index(inplace=True)\n",
    "\n",
    "train_service = pd.merge(train_service, \n",
    "                 rateByproductcode[rateByproductcode['Repurchase'] == 1][['productcode', 'RepurchaseRateByProductcode']], \n",
    "                 on='productcode', how='left')\n",
    "\n",
    "predict_service = pd.merge(predict_service, \n",
    "                 rateByproductcode[rateByproductcode['Repurchase'] == 1][['productcode', 'RepurchaseRateByProductcode']], \n",
    "                 on='productcode', how='left')"
   ]
  },
  {
   "cell_type": "markdown",
   "id": "3b706d11",
   "metadata": {
    "id": "3b706d11"
   },
   "source": [
    "## chargetypeid별 해지율"
   ]
  },
  {
   "cell_type": "code",
   "execution_count": 13,
   "id": "2039c241",
   "metadata": {
    "id": "2039c241"
   },
   "outputs": [],
   "source": [
    "rateByChargetypeid = pd.DataFrame(train_service.groupby(['chargetypeid', 'Repurchase'])['Repurchase'].count()) / pd.DataFrame(train_service.groupby(['chargetypeid'])['Repurchase'].count())\n",
    "rateByChargetypeid.columns = ['rateByChargetypeid']\n",
    "rateByChargetypeid.reset_index(inplace=True)\n",
    "\n",
    "train_service = pd.merge(train_service, \n",
    "                 rateByChargetypeid[rateByChargetypeid['Repurchase'] == 1][['chargetypeid', 'rateByChargetypeid']], \n",
    "                 on='chargetypeid', how='left')\n",
    "\n",
    "predict_service = pd.merge(predict_service, \n",
    "                 rateByChargetypeid[rateByChargetypeid['Repurchase'] == 1][['chargetypeid', 'rateByChargetypeid']], \n",
    "                 on='chargetypeid', how='left')"
   ]
  },
  {
   "cell_type": "markdown",
   "id": "2f553edc",
   "metadata": {
    "id": "2f553edc"
   },
   "source": [
    "## Device Count"
   ]
  },
  {
   "cell_type": "code",
   "execution_count": 14,
   "id": "fb4adccc",
   "metadata": {
    "id": "fb4adccc"
   },
   "outputs": [],
   "source": [
    "train_service = pd.merge(train_service, \n",
    "                 train_bookmark.groupby('uno')['devicetype'].nunique(), \n",
    "                 on='uno', how='left')\n",
    "\n",
    "train_service.rename(columns={'devicetype':'devicetype_cnt'}, inplace=True)\n",
    "\n",
    "predict_service = pd.merge(predict_service, \n",
    "                 predict_bookmark.groupby('uno')['devicetype'].nunique(), \n",
    "                 on='uno', how='left')\n",
    "predict_service.rename(columns={'devicetype':'devicetype_cnt'}, inplace=True)"
   ]
  },
  {
   "cell_type": "markdown",
   "id": "uWDKoeJg_n_9",
   "metadata": {
    "id": "uWDKoeJg_n_9"
   },
   "source": [
    "## 자동결제 여부"
   ]
  },
  {
   "cell_type": "code",
   "execution_count": 15,
   "id": "_X80J3KJ7t9Q",
   "metadata": {
    "id": "_X80J3KJ7t9Q"
   },
   "outputs": [],
   "source": [
    "column_code_info_Productcode['auto_pay_yn'] = column_code_info_Productcode['description'].str.contains('자동결제')\n",
    "column_code_info_Productcode['auto_pay_yn'] = column_code_info_Productcode['auto_pay_yn'].apply(lambda x: 1 if x==True else 0)"
   ]
  },
  {
   "cell_type": "code",
   "execution_count": 16,
   "id": "vNxnAYMc_nCh",
   "metadata": {
    "id": "vNxnAYMc_nCh"
   },
   "outputs": [],
   "source": [
    "train_service = pd.merge(train_service, column_code_info_Productcode[['Productcode', 'auto_pay_yn']], left_on='productcode', right_on='Productcode')\n",
    "train_service.drop('Productcode', axis=1, inplace=True)\n",
    "\n",
    "predict_service = pd.merge(predict_service, column_code_info_Productcode[['Productcode', 'auto_pay_yn']], left_on='productcode', right_on='Productcode')\n",
    "predict_service.drop('Productcode', axis=1, inplace=True)"
   ]
  },
  {
   "cell_type": "markdown",
   "id": "uIcky35NP5gW",
   "metadata": {
    "id": "uIcky35NP5gW"
   },
   "source": [
    "## Coin Info"
   ]
  },
  {
   "cell_type": "code",
   "execution_count": 17,
   "id": "00JGCjoDQGyQ",
   "metadata": {
    "id": "00JGCjoDQGyQ"
   },
   "outputs": [],
   "source": [
    "for column in list(coin.columns):\n",
    "  if column !='uno' and column != 'registerdate':\n",
    "    if column in list(train_service.columns):\n",
    "      coin.rename(columns={column:'coin_'+column}, inplace=True)"
   ]
  },
  {
   "cell_type": "code",
   "execution_count": 18,
   "id": "IwEDr45Y_UsU",
   "metadata": {
    "id": "IwEDr45Y_UsU"
   },
   "outputs": [],
   "source": [
    "column_code_info_Coin_Productcode['coin_autopay_yn'] = column_code_info_Coin_Productcode[['productname']].apply(lambda x:x.str.contains('자동결제'))\n",
    "column_code_info_Coin_Productcode['coin_autopay_yn'] = column_code_info_Coin_Productcode['coin_autopay_yn'].apply(lambda x:1 if x==True else 0)"
   ]
  },
  {
   "cell_type": "code",
   "execution_count": 19,
   "id": "BBgRgMHARCu5",
   "metadata": {
    "id": "BBgRgMHARCu5"
   },
   "outputs": [],
   "source": [
    "coin = pd.merge(coin, column_code_info_Coin_Productcode[['productcode', 'coin_autopay_yn']] , left_on='coin_productcode', right_on='productcode', how='left')\n",
    "coin.drop('productcode', axis=1, inplace=True)"
   ]
  },
  {
   "cell_type": "code",
   "execution_count": 20,
   "id": "jFda6H9hP7v9",
   "metadata": {
    "id": "jFda6H9hP7v9"
   },
   "outputs": [],
   "source": [
    "train_service = pd.merge(train_service, coin, on=['uno', 'registerdate'], how='left')\n",
    "predict_service = pd.merge(predict_service, coin, on=['uno', 'registerdate'], how='left')"
   ]
  },
  {
   "cell_type": "markdown",
   "id": "50f92d62",
   "metadata": {
    "id": "50f92d62"
   },
   "source": [
    "## 시리즈물 시청 정보"
   ]
  },
  {
   "cell_type": "code",
   "execution_count": 21,
   "id": "a6456664",
   "metadata": {
    "id": "a6456664",
    "scrolled": false
   },
   "outputs": [],
   "source": [
    "import numpy as np\n",
    "train_bookmark_series = train_bookmark[train_bookmark['contentnumber'].apply(lambda x:str(x).isdigit())]\n",
    "train_bookmark_series['contentnumber'] = train_bookmark_series['contentnumber'].apply(int)\n",
    "\n",
    "series_maxnum = train_bookmark_series.groupby('programid')['contentnumber'].max()\n",
    "series_maxnum = pd.DataFrame(series_maxnum)\n",
    "series_maxnum.reset_index(inplace=True)\n",
    "series_maxnum.rename(columns={'contentnumber':'max_contentnumber'}, inplace=True)\n",
    "\n",
    "train_bookmark_series = pd.merge(train_bookmark_series, series_maxnum, on='programid', how='left')\n",
    "train_bookmark_series['run_rate'] = train_bookmark_series['contentnumber'] / train_bookmark_series['max_contentnumber']\n",
    "\n",
    "train_bookmark_series_grp = train_bookmark_series.groupby('uno')['run_rate'].mean()"
   ]
  },
  {
   "cell_type": "code",
   "execution_count": 22,
   "id": "nOhj1vhJouqL",
   "metadata": {
    "id": "nOhj1vhJouqL"
   },
   "outputs": [],
   "source": [
    "predict_bookmark_series = predict_bookmark[predict_bookmark['contentnumber'].apply(lambda x:str(x).isdigit())]\n",
    "predict_bookmark_series['contentnumber'] = predict_bookmark_series['contentnumber'].apply(int)\n",
    "\n",
    "series_maxnum = predict_bookmark_series.groupby('programid')['contentnumber'].max()\n",
    "series_maxnum = pd.DataFrame(series_maxnum)\n",
    "series_maxnum.reset_index(inplace=True)\n",
    "series_maxnum.rename(columns={'contentnumber':'max_contentnumber'}, inplace=True)\n",
    "\n",
    "predict_bookmark_series = pd.merge(predict_bookmark_series, series_maxnum, on='programid', how='left')\n",
    "predict_bookmark_series['run_rate'] = predict_bookmark_series['contentnumber'] / predict_bookmark_series['max_contentnumber']\n",
    "\n",
    "predict_bookmark_series_grp = predict_bookmark_series.groupby('uno')['run_rate'].mean()"
   ]
  },
  {
   "cell_type": "code",
   "execution_count": 23,
   "id": "iTC6_txZ1e51",
   "metadata": {
    "id": "iTC6_txZ1e51"
   },
   "outputs": [],
   "source": [
    "train_service = pd.merge(train_service, train_bookmark_series_grp, on='uno')\n",
    "predict_service = pd.merge(predict_service, predict_bookmark_series_grp, on='uno')"
   ]
  },
  {
   "cell_type": "markdown",
   "id": "78861d2e",
   "metadata": {
    "id": "78861d2e"
   },
   "source": [
    "## 고객별 가입이력"
   ]
  },
  {
   "cell_type": "code",
   "execution_count": 24,
   "id": "0f080a8a",
   "metadata": {
    "colab": {
     "base_uri": "https://localhost:8080/",
     "height": 0
    },
    "id": "0f080a8a",
    "outputId": "46f15c45-8cd4-4ecc-881a-e7420b8a27cb"
   },
   "outputs": [
    {
     "data": {
      "text/html": [
       "<div>\n",
       "<style scoped>\n",
       "    .dataframe tbody tr th:only-of-type {\n",
       "        vertical-align: middle;\n",
       "    }\n",
       "\n",
       "    .dataframe tbody tr th {\n",
       "        vertical-align: top;\n",
       "    }\n",
       "\n",
       "    .dataframe thead th {\n",
       "        text-align: right;\n",
       "    }\n",
       "</style>\n",
       "<table border=\"1\" class=\"dataframe\">\n",
       "  <thead>\n",
       "    <tr style=\"text-align: right;\">\n",
       "      <th></th>\n",
       "      <th>registerdate</th>\n",
       "    </tr>\n",
       "    <tr>\n",
       "      <th>uno</th>\n",
       "      <th></th>\n",
       "    </tr>\n",
       "  </thead>\n",
       "  <tbody>\n",
       "    <tr>\n",
       "      <th>a02a14ff1ab86edbfe46ad5a6a7fce054dc83c39aa7c362622171c550dcfe7099733a95d986e379eedfcb8edb5adc79c3f2439a56104f63410b83a10131c8ea5</th>\n",
       "      <td>7</td>\n",
       "    </tr>\n",
       "    <tr>\n",
       "      <th>6513fff57e32407ab087206e57186ee4cbde4888a5f79702f9caee7d23d008d30360c95fe000694668cd0c5fd557fb0e1a6d4473abbb18652a717ebf2d5c471e</th>\n",
       "      <td>5</td>\n",
       "    </tr>\n",
       "    <tr>\n",
       "      <th>9f0e82544e63feb3fbd0eeb81c749932f9aa0be13d5082805cae93dadda5277be3bc4bbdc8af145edab5d890b53b4768e15d2358d58dfb76bb509ad430f732a2</th>\n",
       "      <td>5</td>\n",
       "    </tr>\n",
       "    <tr>\n",
       "      <th>b31c10e7354a7eb3b6316780993a1eaf6c4da9023af8462e9583cdc25dffea5aac33f0c47832c6095cff6515748df4b0502d4c048db479b72391d5f64b3b77ba</th>\n",
       "      <td>3</td>\n",
       "    </tr>\n",
       "    <tr>\n",
       "      <th>a6e6e6128f41e37c3fab8276d6861b58a12e2f99976df1f55bc736bdb52db94c58487e29a9cef71c7045834409303e02f24127af76d1d08091312406fcfa3bd5</th>\n",
       "      <td>3</td>\n",
       "    </tr>\n",
       "    <tr>\n",
       "      <th>...</th>\n",
       "      <td>...</td>\n",
       "    </tr>\n",
       "    <tr>\n",
       "      <th>558978dc90e55d270f25d51dce48630264e3d3429012afdc6ec0f973f3f456ba65a008946a9517abe4f7a0a6f74960d8a6064469a07cdd2d7847f4426a842e63</th>\n",
       "      <td>1</td>\n",
       "    </tr>\n",
       "    <tr>\n",
       "      <th>5589f3e4774f4e6e199cf75b7162dd9d8c514f6ba0be17189c5d671de9452175707faff829efe05cf4ec9f8191563b4c9d33a765326574efe82cb2bcb707c959</th>\n",
       "      <td>1</td>\n",
       "    </tr>\n",
       "    <tr>\n",
       "      <th>558a01ab3054de33706b0962145ba1d668487828ad623e22d3c889459cff6b90d3d154133d90eb4dab45d583d9fbc952c5102cf131341540c689bb5ddc4b0ec2</th>\n",
       "      <td>1</td>\n",
       "    </tr>\n",
       "    <tr>\n",
       "      <th>558d454ae275549741366b83ccf52115bc56d182984ba0284f3d2f15832bb205a9dab2c2be6c02501bcee54d195eda3a6f43cf1375d674b5a17c782933fe69ec</th>\n",
       "      <td>1</td>\n",
       "    </tr>\n",
       "    <tr>\n",
       "      <th>ffff9c0f57144ef69706a726ffc1a5092f11c098af3bc969c2452a66e43992f4f2cfead051a1bd1fb3bb9e071b41515fd346091bc40a0f9cbcef90708945b476</th>\n",
       "      <td>1</td>\n",
       "    </tr>\n",
       "  </tbody>\n",
       "</table>\n",
       "<p>65910 rows × 1 columns</p>\n",
       "</div>"
      ],
      "text/plain": [
       "                                                    registerdate\n",
       "uno                                                             \n",
       "a02a14ff1ab86edbfe46ad5a6a7fce054dc83c39aa7c362...             7\n",
       "6513fff57e32407ab087206e57186ee4cbde4888a5f7970...             5\n",
       "9f0e82544e63feb3fbd0eeb81c749932f9aa0be13d50828...             5\n",
       "b31c10e7354a7eb3b6316780993a1eaf6c4da9023af8462...             3\n",
       "a6e6e6128f41e37c3fab8276d6861b58a12e2f99976df1f...             3\n",
       "...                                                          ...\n",
       "558978dc90e55d270f25d51dce48630264e3d3429012afd...             1\n",
       "5589f3e4774f4e6e199cf75b7162dd9d8c514f6ba0be171...             1\n",
       "558a01ab3054de33706b0962145ba1d668487828ad623e2...             1\n",
       "558d454ae275549741366b83ccf52115bc56d182984ba02...             1\n",
       "ffff9c0f57144ef69706a726ffc1a5092f11c098af3bc96...             1\n",
       "\n",
       "[65910 rows x 1 columns]"
      ]
     },
     "execution_count": 24,
     "metadata": {
      "tags": []
     },
     "output_type": "execute_result"
    }
   ],
   "source": [
    "pd.DataFrame(train_service.groupby('uno')['registerdate'].count()).sort_values(by='registerdate', ascending=False)"
   ]
  },
  {
   "cell_type": "code",
   "execution_count": 25,
   "id": "688e8e26",
   "metadata": {
    "colab": {
     "base_uri": "https://localhost:8080/",
     "height": 0
    },
    "id": "688e8e26",
    "outputId": "d3a09a54-77c1-4767-83d5-8737779a754a"
   },
   "outputs": [
    {
     "data": {
      "text/html": [
       "<div>\n",
       "<style scoped>\n",
       "    .dataframe tbody tr th:only-of-type {\n",
       "        vertical-align: middle;\n",
       "    }\n",
       "\n",
       "    .dataframe tbody tr th {\n",
       "        vertical-align: top;\n",
       "    }\n",
       "\n",
       "    .dataframe thead th {\n",
       "        text-align: right;\n",
       "    }\n",
       "</style>\n",
       "<table border=\"1\" class=\"dataframe\">\n",
       "  <thead>\n",
       "    <tr style=\"text-align: right;\">\n",
       "      <th></th>\n",
       "      <th>uno</th>\n",
       "      <th>registerdate</th>\n",
       "      <th>enddate</th>\n",
       "      <th>productcode</th>\n",
       "      <th>pgamount</th>\n",
       "      <th>chargetypeid</th>\n",
       "      <th>concurrentwatchcount</th>\n",
       "      <th>promo_100</th>\n",
       "      <th>coinReceived</th>\n",
       "      <th>Repurchase</th>\n",
       "      <th>devicetypeid</th>\n",
       "      <th>isauth</th>\n",
       "      <th>gender</th>\n",
       "      <th>agegroup</th>\n",
       "      <th>tot_view_count</th>\n",
       "      <th>tot_viewtime_sum</th>\n",
       "      <th>tot_viewtime_mean</th>\n",
       "      <th>tot_viewtime_std</th>\n",
       "      <th>view_count</th>\n",
       "      <th>viewtime_sum</th>\n",
       "      <th>viewtime_mean</th>\n",
       "      <th>viewtime_std</th>\n",
       "      <th>RepurchaseRateByProductcode</th>\n",
       "      <th>rateByChargetypeid</th>\n",
       "      <th>devicetype_cnt</th>\n",
       "      <th>auto_pay_yn</th>\n",
       "      <th>coin_productcode</th>\n",
       "      <th>paymenttypeid</th>\n",
       "      <th>currencytypeid</th>\n",
       "      <th>totalamount</th>\n",
       "      <th>coin_pgamount</th>\n",
       "      <th>coinamount</th>\n",
       "      <th>bonusamount</th>\n",
       "      <th>discountamount</th>\n",
       "      <th>productname</th>\n",
       "      <th>coinexpiredate</th>\n",
       "      <th>coin_autopay_yn</th>\n",
       "      <th>run_rate</th>\n",
       "    </tr>\n",
       "  </thead>\n",
       "  <tbody>\n",
       "    <tr>\n",
       "      <th>1215</th>\n",
       "      <td>a02a14ff1ab86edbfe46ad5a6a7fce054dc83c39aa7c36...</td>\n",
       "      <td>2021-03-09 22:29:36</td>\n",
       "      <td>2021-03-12 23:06:30</td>\n",
       "      <td>pk_1487</td>\n",
       "      <td>7900.0</td>\n",
       "      <td>180</td>\n",
       "      <td>1</td>\n",
       "      <td>0</td>\n",
       "      <td>0</td>\n",
       "      <td>0</td>\n",
       "      <td>pc</td>\n",
       "      <td>0</td>\n",
       "      <td>N</td>\n",
       "      <td>40</td>\n",
       "      <td>26.0</td>\n",
       "      <td>132570.0</td>\n",
       "      <td>5098.846154</td>\n",
       "      <td>2947.293439</td>\n",
       "      <td>NaN</td>\n",
       "      <td>NaN</td>\n",
       "      <td>NaN</td>\n",
       "      <td>NaN</td>\n",
       "      <td>0.680547</td>\n",
       "      <td>0.622226</td>\n",
       "      <td>1.0</td>\n",
       "      <td>0</td>\n",
       "      <td>NaN</td>\n",
       "      <td>NaN</td>\n",
       "      <td>NaN</td>\n",
       "      <td>NaN</td>\n",
       "      <td>NaN</td>\n",
       "      <td>NaN</td>\n",
       "      <td>NaN</td>\n",
       "      <td>NaN</td>\n",
       "      <td>NaN</td>\n",
       "      <td>NaT</td>\n",
       "      <td>NaN</td>\n",
       "      <td>0.654969</td>\n",
       "    </tr>\n",
       "    <tr>\n",
       "      <th>1216</th>\n",
       "      <td>a02a14ff1ab86edbfe46ad5a6a7fce054dc83c39aa7c36...</td>\n",
       "      <td>2021-03-07 15:17:04</td>\n",
       "      <td>2021-03-08 14:43:20</td>\n",
       "      <td>pk_1487</td>\n",
       "      <td>7900.0</td>\n",
       "      <td>180</td>\n",
       "      <td>1</td>\n",
       "      <td>0</td>\n",
       "      <td>0</td>\n",
       "      <td>0</td>\n",
       "      <td>pc</td>\n",
       "      <td>0</td>\n",
       "      <td>N</td>\n",
       "      <td>40</td>\n",
       "      <td>26.0</td>\n",
       "      <td>132570.0</td>\n",
       "      <td>5098.846154</td>\n",
       "      <td>2947.293439</td>\n",
       "      <td>NaN</td>\n",
       "      <td>NaN</td>\n",
       "      <td>NaN</td>\n",
       "      <td>NaN</td>\n",
       "      <td>0.680547</td>\n",
       "      <td>0.622226</td>\n",
       "      <td>1.0</td>\n",
       "      <td>0</td>\n",
       "      <td>NaN</td>\n",
       "      <td>NaN</td>\n",
       "      <td>NaN</td>\n",
       "      <td>NaN</td>\n",
       "      <td>NaN</td>\n",
       "      <td>NaN</td>\n",
       "      <td>NaN</td>\n",
       "      <td>NaN</td>\n",
       "      <td>NaN</td>\n",
       "      <td>NaT</td>\n",
       "      <td>NaN</td>\n",
       "      <td>0.654969</td>\n",
       "    </tr>\n",
       "    <tr>\n",
       "      <th>1217</th>\n",
       "      <td>a02a14ff1ab86edbfe46ad5a6a7fce054dc83c39aa7c36...</td>\n",
       "      <td>2021-03-04 15:35:46</td>\n",
       "      <td>2021-03-05 08:03:44</td>\n",
       "      <td>pk_1487</td>\n",
       "      <td>7900.0</td>\n",
       "      <td>180</td>\n",
       "      <td>1</td>\n",
       "      <td>0</td>\n",
       "      <td>0</td>\n",
       "      <td>0</td>\n",
       "      <td>pc</td>\n",
       "      <td>0</td>\n",
       "      <td>N</td>\n",
       "      <td>40</td>\n",
       "      <td>26.0</td>\n",
       "      <td>132570.0</td>\n",
       "      <td>5098.846154</td>\n",
       "      <td>2947.293439</td>\n",
       "      <td>NaN</td>\n",
       "      <td>NaN</td>\n",
       "      <td>NaN</td>\n",
       "      <td>NaN</td>\n",
       "      <td>0.680547</td>\n",
       "      <td>0.622226</td>\n",
       "      <td>1.0</td>\n",
       "      <td>0</td>\n",
       "      <td>NaN</td>\n",
       "      <td>NaN</td>\n",
       "      <td>NaN</td>\n",
       "      <td>NaN</td>\n",
       "      <td>NaN</td>\n",
       "      <td>NaN</td>\n",
       "      <td>NaN</td>\n",
       "      <td>NaN</td>\n",
       "      <td>NaN</td>\n",
       "      <td>NaT</td>\n",
       "      <td>NaN</td>\n",
       "      <td>0.654969</td>\n",
       "    </tr>\n",
       "    <tr>\n",
       "      <th>1218</th>\n",
       "      <td>a02a14ff1ab86edbfe46ad5a6a7fce054dc83c39aa7c36...</td>\n",
       "      <td>2021-03-12 23:06:30</td>\n",
       "      <td>2021-04-12 23:06:30</td>\n",
       "      <td>pk_1488</td>\n",
       "      <td>10900.0</td>\n",
       "      <td>180</td>\n",
       "      <td>2</td>\n",
       "      <td>0</td>\n",
       "      <td>0</td>\n",
       "      <td>0</td>\n",
       "      <td>pc</td>\n",
       "      <td>0</td>\n",
       "      <td>N</td>\n",
       "      <td>40</td>\n",
       "      <td>26.0</td>\n",
       "      <td>132570.0</td>\n",
       "      <td>5098.846154</td>\n",
       "      <td>2947.293439</td>\n",
       "      <td>22.0</td>\n",
       "      <td>130960.0</td>\n",
       "      <td>11871.607143</td>\n",
       "      <td>4733.659908</td>\n",
       "      <td>0.786112</td>\n",
       "      <td>0.622226</td>\n",
       "      <td>1.0</td>\n",
       "      <td>0</td>\n",
       "      <td>NaN</td>\n",
       "      <td>NaN</td>\n",
       "      <td>NaN</td>\n",
       "      <td>NaN</td>\n",
       "      <td>NaN</td>\n",
       "      <td>NaN</td>\n",
       "      <td>NaN</td>\n",
       "      <td>NaN</td>\n",
       "      <td>NaN</td>\n",
       "      <td>NaT</td>\n",
       "      <td>NaN</td>\n",
       "      <td>0.654969</td>\n",
       "    </tr>\n",
       "    <tr>\n",
       "      <th>1219</th>\n",
       "      <td>a02a14ff1ab86edbfe46ad5a6a7fce054dc83c39aa7c36...</td>\n",
       "      <td>2021-03-08 14:43:20</td>\n",
       "      <td>2021-03-09 22:29:36</td>\n",
       "      <td>pk_1488</td>\n",
       "      <td>10900.0</td>\n",
       "      <td>180</td>\n",
       "      <td>2</td>\n",
       "      <td>0</td>\n",
       "      <td>0</td>\n",
       "      <td>0</td>\n",
       "      <td>pc</td>\n",
       "      <td>0</td>\n",
       "      <td>N</td>\n",
       "      <td>40</td>\n",
       "      <td>26.0</td>\n",
       "      <td>132570.0</td>\n",
       "      <td>5098.846154</td>\n",
       "      <td>2947.293439</td>\n",
       "      <td>NaN</td>\n",
       "      <td>NaN</td>\n",
       "      <td>NaN</td>\n",
       "      <td>NaN</td>\n",
       "      <td>0.786112</td>\n",
       "      <td>0.622226</td>\n",
       "      <td>1.0</td>\n",
       "      <td>0</td>\n",
       "      <td>NaN</td>\n",
       "      <td>NaN</td>\n",
       "      <td>NaN</td>\n",
       "      <td>NaN</td>\n",
       "      <td>NaN</td>\n",
       "      <td>NaN</td>\n",
       "      <td>NaN</td>\n",
       "      <td>NaN</td>\n",
       "      <td>NaN</td>\n",
       "      <td>NaT</td>\n",
       "      <td>NaN</td>\n",
       "      <td>0.654969</td>\n",
       "    </tr>\n",
       "    <tr>\n",
       "      <th>1220</th>\n",
       "      <td>a02a14ff1ab86edbfe46ad5a6a7fce054dc83c39aa7c36...</td>\n",
       "      <td>2021-03-05 09:03:44</td>\n",
       "      <td>2021-03-07 14:17:04</td>\n",
       "      <td>pk_1488</td>\n",
       "      <td>10900.0</td>\n",
       "      <td>180</td>\n",
       "      <td>2</td>\n",
       "      <td>0</td>\n",
       "      <td>0</td>\n",
       "      <td>0</td>\n",
       "      <td>pc</td>\n",
       "      <td>0</td>\n",
       "      <td>N</td>\n",
       "      <td>40</td>\n",
       "      <td>26.0</td>\n",
       "      <td>132570.0</td>\n",
       "      <td>5098.846154</td>\n",
       "      <td>2947.293439</td>\n",
       "      <td>1.0</td>\n",
       "      <td>140.0</td>\n",
       "      <td>140.000000</td>\n",
       "      <td>NaN</td>\n",
       "      <td>0.786112</td>\n",
       "      <td>0.622226</td>\n",
       "      <td>1.0</td>\n",
       "      <td>0</td>\n",
       "      <td>NaN</td>\n",
       "      <td>NaN</td>\n",
       "      <td>NaN</td>\n",
       "      <td>NaN</td>\n",
       "      <td>NaN</td>\n",
       "      <td>NaN</td>\n",
       "      <td>NaN</td>\n",
       "      <td>NaN</td>\n",
       "      <td>NaN</td>\n",
       "      <td>NaT</td>\n",
       "      <td>NaN</td>\n",
       "      <td>0.654969</td>\n",
       "    </tr>\n",
       "    <tr>\n",
       "      <th>1221</th>\n",
       "      <td>a02a14ff1ab86edbfe46ad5a6a7fce054dc83c39aa7c36...</td>\n",
       "      <td>2021-03-02 20:26:09</td>\n",
       "      <td>2021-03-04 14:35:46</td>\n",
       "      <td>pk_1488</td>\n",
       "      <td>10900.0</td>\n",
       "      <td>180</td>\n",
       "      <td>2</td>\n",
       "      <td>0</td>\n",
       "      <td>0</td>\n",
       "      <td>0</td>\n",
       "      <td>pc</td>\n",
       "      <td>0</td>\n",
       "      <td>N</td>\n",
       "      <td>40</td>\n",
       "      <td>26.0</td>\n",
       "      <td>132570.0</td>\n",
       "      <td>5098.846154</td>\n",
       "      <td>2947.293439</td>\n",
       "      <td>1.0</td>\n",
       "      <td>1330.0</td>\n",
       "      <td>1330.000000</td>\n",
       "      <td>NaN</td>\n",
       "      <td>0.786112</td>\n",
       "      <td>0.622226</td>\n",
       "      <td>1.0</td>\n",
       "      <td>0</td>\n",
       "      <td>NaN</td>\n",
       "      <td>NaN</td>\n",
       "      <td>NaN</td>\n",
       "      <td>NaN</td>\n",
       "      <td>NaN</td>\n",
       "      <td>NaN</td>\n",
       "      <td>NaN</td>\n",
       "      <td>NaN</td>\n",
       "      <td>NaN</td>\n",
       "      <td>NaT</td>\n",
       "      <td>NaN</td>\n",
       "      <td>0.654969</td>\n",
       "    </tr>\n",
       "  </tbody>\n",
       "</table>\n",
       "</div>"
      ],
      "text/plain": [
       "                                                    uno  ...  run_rate\n",
       "1215  a02a14ff1ab86edbfe46ad5a6a7fce054dc83c39aa7c36...  ...  0.654969\n",
       "1216  a02a14ff1ab86edbfe46ad5a6a7fce054dc83c39aa7c36...  ...  0.654969\n",
       "1217  a02a14ff1ab86edbfe46ad5a6a7fce054dc83c39aa7c36...  ...  0.654969\n",
       "1218  a02a14ff1ab86edbfe46ad5a6a7fce054dc83c39aa7c36...  ...  0.654969\n",
       "1219  a02a14ff1ab86edbfe46ad5a6a7fce054dc83c39aa7c36...  ...  0.654969\n",
       "1220  a02a14ff1ab86edbfe46ad5a6a7fce054dc83c39aa7c36...  ...  0.654969\n",
       "1221  a02a14ff1ab86edbfe46ad5a6a7fce054dc83c39aa7c36...  ...  0.654969\n",
       "\n",
       "[7 rows x 38 columns]"
      ]
     },
     "execution_count": 25,
     "metadata": {
      "tags": []
     },
     "output_type": "execute_result"
    }
   ],
   "source": [
    "train_service[train_service['uno']=='a02a14ff1ab86edbfe46ad5a6a7fce054dc83c39aa7c362622171c550dcfe7099733a95d986e379eedfcb8edb5adc79c3f2439a56104f63410b83a10131c8ea5']"
   ]
  },
  {
   "cell_type": "markdown",
   "id": "049c7304",
   "metadata": {
    "id": "049c7304"
   },
   "source": [
    "# Feature Select"
   ]
  },
  {
   "cell_type": "code",
   "execution_count": null,
   "id": "e70eeb31",
   "metadata": {
    "id": "e70eeb31"
   },
   "outputs": [],
   "source": [
    "train_columns = list(train_service.columns)\n",
    "train_columns.remove('Repurchase')"
   ]
  },
  {
   "cell_type": "code",
   "execution_count": null,
   "id": "jfGSpw0hkFLy",
   "metadata": {
    "id": "jfGSpw0hkFLy"
   },
   "outputs": [],
   "source": [
    "for c in train_service[train_columns].select_dtypes(['float64', 'int64']).columns:\n",
    "  train_service.fillna(0, inplace=True)\n",
    "\n",
    "for c in predict_service[train_columns].select_dtypes(['float64', 'int64']).columns:\n",
    "  predict_service.fillna(0, inplace=True)  "
   ]
  },
  {
   "cell_type": "code",
   "execution_count": null,
   "id": "bf5c9aba",
   "metadata": {
    "colab": {
     "base_uri": "https://localhost:8080/",
     "height": 758
    },
    "id": "bf5c9aba",
    "outputId": "7ef43127-1da0-48c8-be90-99304c2b23a8"
   },
   "outputs": [
    {
     "data": {
      "text/plain": [
       "<matplotlib.axes._subplots.AxesSubplot at 0x7f3efb191bd0>"
      ]
     },
     "execution_count": 29,
     "metadata": {
      "tags": []
     },
     "output_type": "execute_result"
    },
    {
     "data": {
      "image/png": "[encoded data removed]",
      "text/plain": [
       "<Figure size 1296x720 with 2 Axes>"
      ]
     },
     "metadata": {
      "needs_background": "light",
      "tags": []
     },
     "output_type": "display_data"
    }
   ],
   "source": [
    "import matplotlib.pyplot as plt\n",
    "import seaborn as sns\n",
    "\n",
    "%matplotlib inline\n",
    "\n",
    "plt.figure(figsize=(18,10))\n",
    "sns.heatmap(train_service.corr(), annot=True)   "
   ]
  },
  {
   "cell_type": "markdown",
   "id": "f5376cf2",
   "metadata": {
    "id": "f5376cf2"
   },
   "source": [
    "# Model"
   ]
  },
  {
   "cell_type": "markdown",
   "id": "16e26f3e",
   "metadata": {
    "id": "16e26f3e"
   },
   "source": [
    "## KNN"
   ]
  },
  {
   "cell_type": "code",
   "execution_count": null,
   "id": "yRwLyLq-n24T",
   "metadata": {
    "id": "yRwLyLq-n24T"
   },
   "outputs": [],
   "source": [
    "train_service_target = train_service[train_service.enddate >= (train_service.registerdate + pd.DateOffset(weeks=3))]\n",
    "predict_service_target = predict_service[predict_service.enddate >= (predict_service.registerdate + pd.DateOffset(weeks=3))]"
   ]
  },
  {
   "cell_type": "code",
   "execution_count": null,
   "id": "1f227fa9",
   "metadata": {
    "colab": {
     "base_uri": "https://localhost:8080/"
    },
    "id": "1f227fa9",
    "outputId": "07209f20-2a3b-49bf-ae88-a8c13e9ccc1a"
   },
   "outputs": [
    {
     "name": "stdout",
     "output_type": "stream",
     "text": [
      "Fitting 5 folds for each of 20 candidates, totalling 100 fits\n"
     ]
    },
    {
     "name": "stderr",
     "output_type": "stream",
     "text": [
      "[Parallel(n_jobs=1)]: Using backend SequentialBackend with 1 concurrent workers.\n",
      "[Parallel(n_jobs=1)]: Done 100 out of 100 | elapsed:  7.1min finished\n"
     ]
    },
    {
     "name": "stdout",
     "output_type": "stream",
     "text": [
      "0.807398415128012\n",
      "{'n_neighbors': 19}\n",
      "              precision    recall  f1-score   support\n",
      "\n",
      "           0       0.60      0.28      0.38      4471\n",
      "           1       0.73      0.91      0.81      9471\n",
      "\n",
      "    accuracy                           0.71     13942\n",
      "   macro avg       0.66      0.60      0.60     13942\n",
      "weighted avg       0.69      0.71      0.67     13942\n",
      "\n"
     ]
    }
   ],
   "source": [
    "from sklearn.neighbors import KNeighborsClassifier\n",
    "from sklearn.model_selection import train_test_split\n",
    "from sklearn.metrics import classification_report\n",
    "from sklearn.model_selection import GridSearchCV\n",
    "from sklearn.preprocessing import MinMaxScaler\n",
    "\n",
    "X_train, X_test, y_train, y_test = train_test_split(train_service[train_columns].select_dtypes(['float64', 'int64']), \n",
    "                                                    train_service['Repurchase'], \n",
    "                                                    test_size=0.2, \n",
    "                                                    stratify=train_service['Repurchase'])\n",
    "\n",
    "scaler = MinMaxScaler()\n",
    "X_train_norm = scaler.fit_transform(X_train)\n",
    "X_test_norm = scaler.transform(X_test)\n",
    "\n",
    "params = {\n",
    "    'n_neighbors' : range(1, 21, 1)   \n",
    "}\n",
    "clf = KNeighborsClassifier()\n",
    "grid_cv = GridSearchCV(clf, param_grid=params, scoring='f1', cv=5, verbose=1)\n",
    "grid_cv.fit(X_train_norm, y_train)\n",
    "\n",
    "# clf.fit(X_train, y_train)\n",
    "pred = grid_cv.best_estimator_.predict(X_test_norm)\n",
    "print(grid_cv.best_score_)\n",
    "print(grid_cv.best_params_)\n",
    "print(classification_report(y_test, pred))\n"
   ]
  },
  {
   "cell_type": "code",
   "execution_count": null,
   "id": "j55iwP4E1B1o",
   "metadata": {
    "colab": {
     "base_uri": "https://localhost:8080/"
    },
    "id": "j55iwP4E1B1o",
    "outputId": "057bc9a9-4e81-4ae6-971c-46b0afc42aa0"
   },
   "outputs": [
    {
     "name": "stdout",
     "output_type": "stream",
     "text": [
      "Fitting 5 folds for each of 20 candidates, totalling 100 fits\n"
     ]
    },
    {
     "name": "stderr",
     "output_type": "stream",
     "text": [
      "[Parallel(n_jobs=1)]: Using backend SequentialBackend with 1 concurrent workers.\n",
      "[Parallel(n_jobs=1)]: Done 100 out of 100 | elapsed:  3.9min finished\n"
     ]
    },
    {
     "name": "stdout",
     "output_type": "stream",
     "text": [
      "0.3859388666150304\n",
      "{'n_neighbors': 1}\n",
      "              precision    recall  f1-score   support\n",
      "\n",
      "           0       0.72      0.73      0.72      9470\n",
      "           1       0.39      0.38      0.39      4359\n",
      "\n",
      "    accuracy                           0.62     13829\n",
      "   macro avg       0.56      0.55      0.55     13829\n",
      "weighted avg       0.62      0.62      0.62     13829\n",
      "\n"
     ]
    }
   ],
   "source": [
    "from sklearn.neighbors import KNeighborsClassifier\n",
    "from sklearn.model_selection import train_test_split\n",
    "from sklearn.metrics import classification_report\n",
    "from sklearn.model_selection import GridSearchCV\n",
    "from sklearn.preprocessing import MinMaxScaler\n",
    "\n",
    "X_train, X_test, y_train, y_test = train_test_split(train_service_target[train_columns].select_dtypes(['float64', 'int64']), \n",
    "                                                    train_service_target['Repurchase'], \n",
    "                                                    test_size=0.2, \n",
    "                                                    stratify=train_service_target['Repurchase'])\n",
    "\n",
    "scaler = MinMaxScaler()\n",
    "X_train_norm = scaler.fit_transform(X_train)\n",
    "X_test_norm = scaler.transform(X_test)\n",
    "\n",
    "params = {\n",
    "    'n_neighbors' : range(1, 21, 1)   \n",
    "}\n",
    "clf = KNeighborsClassifier()\n",
    "grid_cv = GridSearchCV(clf, param_grid=params, scoring='f1', cv=5, verbose=1)\n",
    "grid_cv.fit(X_train_norm, y_train)\n",
    "\n",
    "# clf.fit(X_train, y_train)\n",
    "pred = grid_cv.best_estimator_.predict(X_test_norm)\n",
    "print(grid_cv.best_score_)\n",
    "print(grid_cv.best_params_)\n",
    "print(classification_report(y_test, pred))\n"
   ]
  },
  {
   "cell_type": "markdown",
   "id": "14bcbace",
   "metadata": {
    "id": "14bcbace"
   },
   "source": [
    "## Decision Tree"
   ]
  },
  {
   "cell_type": "code",
   "execution_count": null,
   "id": "02eec8d3",
   "metadata": {
    "colab": {
     "base_uri": "https://localhost:8080/"
    },
    "id": "02eec8d3",
    "outputId": "3a34981a-aa28-4aab-9cf6-15f5791eb369",
    "scrolled": false
   },
   "outputs": [
    {
     "name": "stdout",
     "output_type": "stream",
     "text": [
      "Fitting 5 folds for each of 100 candidates, totalling 500 fits\n"
     ]
    },
    {
     "name": "stderr",
     "output_type": "stream",
     "text": [
      "[Parallel(n_jobs=1)]: Using backend SequentialBackend with 1 concurrent workers.\n",
      "[Parallel(n_jobs=1)]: Done 500 out of 500 | elapsed:  3.8min finished\n"
     ]
    },
    {
     "name": "stdout",
     "output_type": "stream",
     "text": [
      "0.8181200858779236\n",
      "{'max_depth': 5, 'min_samples_split': 3}\n",
      "              precision    recall  f1-score   support\n",
      "\n",
      "           0       0.66      0.17      0.27      4210\n",
      "           1       0.71      0.96      0.82      9082\n",
      "\n",
      "    accuracy                           0.71     13292\n",
      "   macro avg       0.69      0.56      0.54     13292\n",
      "weighted avg       0.70      0.71      0.64     13292\n",
      "\n"
     ]
    }
   ],
   "source": [
    "from sklearn.model_selection import train_test_split\n",
    "from sklearn.tree import DecisionTreeClassifier\n",
    "from sklearn.metrics import classification_report\n",
    "from sklearn.model_selection import GridSearchCV\n",
    "\n",
    "X_train, X_test, y_train, y_test = train_test_split(train_service[train_columns].select_dtypes(['float64', 'int64']), \n",
    "                                                    train_service['Repurchase'], \n",
    "                                                    test_size=0.2, \n",
    "                                                    stratify=train_service['Repurchase'])\n",
    "\n",
    "params = {\n",
    "    'max_depth' : range(1, 21, 2),\n",
    "    'min_samples_split' : range(1, 11, 1)    \n",
    "}\n",
    "clf = DecisionTreeClassifier()\n",
    "grid_cv = GridSearchCV(clf, param_grid=params, scoring='f1', cv=5, verbose=1)\n",
    "grid_cv.fit(X_train, y_train)\n",
    "\n",
    "# clf.fit(X_train, y_train)\n",
    "pred = grid_cv.best_estimator_.predict(X_test)\n",
    "print(grid_cv.best_score_)\n",
    "print(grid_cv.best_params_)\n",
    "print(classification_report(y_test, pred))"
   ]
  },
  {
   "cell_type": "code",
   "execution_count": null,
   "id": "9ZO1DT971JZB",
   "metadata": {
    "colab": {
     "base_uri": "https://localhost:8080/"
    },
    "id": "9ZO1DT971JZB",
    "outputId": "157e1c67-144c-435d-c850-9ae7a0e53563"
   },
   "outputs": [
    {
     "name": "stdout",
     "output_type": "stream",
     "text": [
      "Fitting 5 folds for each of 100 candidates, totalling 500 fits\n"
     ]
    },
    {
     "name": "stderr",
     "output_type": "stream",
     "text": [
      "[Parallel(n_jobs=1)]: Using backend SequentialBackend with 1 concurrent workers.\n",
      "[Parallel(n_jobs=1)]: Done 500 out of 500 | elapsed:  3.3min finished\n"
     ]
    },
    {
     "name": "stdout",
     "output_type": "stream",
     "text": [
      "0.37715020991833964\n",
      "{'max_depth': 19, 'min_samples_split': 2}\n",
      "              precision    recall  f1-score   support\n",
      "\n",
      "           0       0.72      0.81      0.76      9470\n",
      "           1       0.44      0.32      0.37      4359\n",
      "\n",
      "    accuracy                           0.66     13829\n",
      "   macro avg       0.58      0.57      0.57     13829\n",
      "weighted avg       0.63      0.66      0.64     13829\n",
      "\n"
     ]
    }
   ],
   "source": [
    "from sklearn.model_selection import train_test_split\n",
    "from sklearn.tree import DecisionTreeClassifier\n",
    "from sklearn.metrics import classification_report\n",
    "from sklearn.model_selection import GridSearchCV\n",
    "\n",
    "X_train, X_test, y_train, y_test = train_test_split(train_service_target[train_columns].select_dtypes(['float64', 'int64']), \n",
    "                                                    train_service_target['Repurchase'], \n",
    "                                                    test_size=0.2, \n",
    "                                                    stratify=train_service_target['Repurchase'])\n",
    "\n",
    "params = {\n",
    "    'max_depth' : range(1, 21, 2),\n",
    "    'min_samples_split' : range(1, 11, 1)    \n",
    "}\n",
    "clf = DecisionTreeClassifier()\n",
    "grid_cv = GridSearchCV(clf, param_grid=params, scoring='f1', cv=5, verbose=1)\n",
    "grid_cv.fit(X_train, y_train)\n",
    "\n",
    "# clf.fit(X_train, y_train)\n",
    "pred = grid_cv.best_estimator_.predict(X_test)\n",
    "print(grid_cv.best_score_)\n",
    "print(grid_cv.best_params_)\n",
    "print(classification_report(y_test, pred))"
   ]
  },
  {
   "cell_type": "code",
   "execution_count": null,
   "id": "1c8fbe67",
   "metadata": {
    "id": "1c8fbe67"
   },
   "outputs": [],
   "source": [
    "pred_submission = clf.predict(predict_service[train_columns].select_dtypes(['float64', 'int64']))\n",
    "predict_service['pred'] = pred_submission\n",
    "predict_service.head()"
   ]
  },
  {
   "cell_type": "markdown",
   "id": "6658cdff",
   "metadata": {
    "id": "6658cdff"
   },
   "source": [
    "## RandomForestClassifier"
   ]
  },
  {
   "cell_type": "code",
   "execution_count": null,
   "id": "376f5b05",
   "metadata": {
    "colab": {
     "base_uri": "https://localhost:8080/"
    },
    "id": "376f5b05",
    "outputId": "fb4e3eb6-337d-4f54-b441-b68200774bf4"
   },
   "outputs": [
    {
     "name": "stdout",
     "output_type": "stream",
     "text": [
      "              precision    recall  f1-score   support\n",
      "\n",
      "           0       0.59      0.28      0.38      4210\n",
      "           1       0.73      0.91      0.81      9082\n",
      "\n",
      "    accuracy                           0.71     13292\n",
      "   macro avg       0.66      0.60      0.60     13292\n",
      "weighted avg       0.69      0.71      0.68     13292\n",
      "\n"
     ]
    }
   ],
   "source": [
    "from sklearn.model_selection import GridSearchCV\n",
    "from sklearn.model_selection import train_test_split\n",
    "from sklearn.ensemble import RandomForestClassifier\n",
    "from sklearn.metrics import classification_report\n",
    "\n",
    "X_train, X_test, y_train, y_test = train_test_split(train_service[train_columns].select_dtypes(['float64', 'int64']), \n",
    "                                                    train_service['Repurchase'], \n",
    "                                                    test_size=0.2, \n",
    "                                                    stratify=train_service['Repurchase'])\n",
    "\n",
    "from sklearn.ensemble import RandomForestClassifier\n",
    "from sklearn.model_selection import cross_val_score\n",
    "from sklearn.metrics import f1_score\n",
    "\n",
    "rcf = RandomForestClassifier()\n",
    "rcf.fit(X_train, y_train)\n",
    "pred = rcf.predict(X_test)\n",
    "print(classification_report(y_test, pred))"
   ]
  },
  {
   "cell_type": "code",
   "execution_count": null,
   "id": "sy-CPsM31R_M",
   "metadata": {
    "colab": {
     "base_uri": "https://localhost:8080/"
    },
    "id": "sy-CPsM31R_M",
    "outputId": "54c8902c-0c97-4639-e8e7-27c85558477e"
   },
   "outputs": [
    {
     "name": "stdout",
     "output_type": "stream",
     "text": [
      "              precision    recall  f1-score   support\n",
      "\n",
      "           0       0.57      0.26      0.36      4101\n",
      "           1       0.73      0.91      0.81      9081\n",
      "\n",
      "    accuracy                           0.71     13182\n",
      "   macro avg       0.65      0.59      0.59     13182\n",
      "weighted avg       0.68      0.71      0.67     13182\n",
      "\n"
     ]
    }
   ],
   "source": [
    "from sklearn.model_selection import GridSearchCV\n",
    "from sklearn.model_selection import train_test_split\n",
    "from sklearn.ensemble import RandomForestClassifier\n",
    "from sklearn.metrics import classification_report\n",
    "\n",
    "X_train, X_test, y_train, y_test = train_test_split(train_service_target[train_columns].select_dtypes(['float64', 'int64']), \n",
    "                                                    train_service_target['Repurchase'], \n",
    "                                                    test_size=0.2, \n",
    "                                                    stratify=train_service_target['Repurchase'])\n",
    "\n",
    "from sklearn.ensemble import RandomForestClassifier\n",
    "from sklearn.model_selection import cross_val_score\n",
    "from sklearn.metrics import f1_score\n",
    "\n",
    "rcf = RandomForestClassifier()\n",
    "rcf.fit(X_train, y_train)\n",
    "pred = rcf.predict(X_test)\n",
    "print(classification_report(y_test, pred))"
   ]
  },
  {
   "cell_type": "code",
   "execution_count": null,
   "id": "Wlf5FxmeXk_W",
   "metadata": {
    "colab": {
     "base_uri": "https://localhost:8080/"
    },
    "id": "Wlf5FxmeXk_W",
    "outputId": "613a6d11-7f03-4264-e1ce-4d7539c89353"
   },
   "outputs": [
    {
     "name": "stdout",
     "output_type": "stream",
     "text": [
      "['viewtime_mean']               precision    recall  f1-score   support\n",
      "\n",
      "           0       0.34      0.35      0.34      4210\n",
      "           1       0.69      0.68      0.69      9082\n",
      "\n",
      "    accuracy                           0.58     13292\n",
      "   macro avg       0.52      0.52      0.52     13292\n",
      "weighted avg       0.58      0.58      0.58     13292\n",
      "\n",
      "['viewtime_mean', 'viewtime_std']               precision    recall  f1-score   support\n",
      "\n",
      "           0       0.38      0.24      0.29      4210\n",
      "           1       0.70      0.82      0.75      9082\n",
      "\n",
      "    accuracy                           0.64     13292\n",
      "   macro avg       0.54      0.53      0.52     13292\n",
      "weighted avg       0.60      0.64      0.61     13292\n",
      "\n",
      "['viewtime_mean', 'viewtime_std', 'RepurchaseRateByProductcode']               precision    recall  f1-score   support\n",
      "\n",
      "           0       0.40      0.28      0.33      4210\n",
      "           1       0.71      0.81      0.75      9082\n",
      "\n",
      "    accuracy                           0.64     13292\n",
      "   macro avg       0.55      0.54      0.54     13292\n",
      "weighted avg       0.61      0.64      0.62     13292\n",
      "\n",
      "['viewtime_mean', 'viewtime_std', 'RepurchaseRateByProductcode', 'promo_100']               precision    recall  f1-score   support\n",
      "\n",
      "           0       0.43      0.30      0.35      4210\n",
      "           1       0.72      0.82      0.76      9082\n",
      "\n",
      "    accuracy                           0.65     13292\n",
      "   macro avg       0.57      0.56      0.56     13292\n",
      "weighted avg       0.63      0.65      0.63     13292\n",
      "\n",
      "['viewtime_mean', 'viewtime_std', 'RepurchaseRateByProductcode', 'promo_100', 'agegroup']               precision    recall  f1-score   support\n",
      "\n",
      "           0       0.44      0.30      0.35      4210\n",
      "           1       0.72      0.83      0.77      9082\n",
      "\n",
      "    accuracy                           0.66     13292\n",
      "   macro avg       0.58      0.56      0.56     13292\n",
      "weighted avg       0.63      0.66      0.64     13292\n",
      "\n",
      "['viewtime_mean', 'viewtime_std', 'RepurchaseRateByProductcode', 'promo_100', 'agegroup', 'pgamount']               precision    recall  f1-score   support\n",
      "\n",
      "           0       0.44      0.30      0.36      4210\n",
      "           1       0.72      0.82      0.77      9082\n",
      "\n",
      "    accuracy                           0.66     13292\n",
      "   macro avg       0.58      0.56      0.56     13292\n",
      "weighted avg       0.63      0.66      0.64     13292\n",
      "\n",
      "['viewtime_mean', 'viewtime_std', 'RepurchaseRateByProductcode', 'promo_100', 'agegroup', 'pgamount', 'viewtime_sum']               precision    recall  f1-score   support\n",
      "\n",
      "           0       0.49      0.27      0.35      4210\n",
      "           1       0.72      0.87      0.79      9082\n",
      "\n",
      "    accuracy                           0.68     13292\n",
      "   macro avg       0.60      0.57      0.57     13292\n",
      "weighted avg       0.65      0.68      0.65     13292\n",
      "\n",
      "['viewtime_mean', 'viewtime_std', 'RepurchaseRateByProductcode', 'promo_100', 'agegroup', 'pgamount', 'viewtime_sum', 'rateByChargetypeid']               precision    recall  f1-score   support\n",
      "\n",
      "           0       0.49      0.28      0.35      4210\n",
      "           1       0.72      0.86      0.79      9082\n",
      "\n",
      "    accuracy                           0.68     13292\n",
      "   macro avg       0.60      0.57      0.57     13292\n",
      "weighted avg       0.65      0.68      0.65     13292\n",
      "\n",
      "['viewtime_mean', 'viewtime_std', 'RepurchaseRateByProductcode', 'promo_100', 'agegroup', 'pgamount', 'viewtime_sum', 'rateByChargetypeid', 'run_rate']               precision    recall  f1-score   support\n",
      "\n",
      "           0       0.53      0.27      0.35      4210\n",
      "           1       0.72      0.89      0.80      9082\n",
      "\n",
      "    accuracy                           0.69     13292\n",
      "   macro avg       0.63      0.58      0.58     13292\n",
      "weighted avg       0.66      0.69      0.66     13292\n",
      "\n",
      "['viewtime_mean', 'viewtime_std', 'RepurchaseRateByProductcode', 'promo_100', 'agegroup', 'pgamount', 'viewtime_sum', 'rateByChargetypeid', 'run_rate', 'view_count']               precision    recall  f1-score   support\n",
      "\n",
      "           0       0.54      0.26      0.35      4210\n",
      "           1       0.72      0.90      0.80      9082\n",
      "\n",
      "    accuracy                           0.69     13292\n",
      "   macro avg       0.63      0.58      0.58     13292\n",
      "weighted avg       0.66      0.69      0.66     13292\n",
      "\n",
      "['viewtime_mean', 'viewtime_std', 'RepurchaseRateByProductcode', 'promo_100', 'agegroup', 'pgamount', 'viewtime_sum', 'rateByChargetypeid', 'run_rate', 'view_count', 'chargetypeid']               precision    recall  f1-score   support\n",
      "\n",
      "           0       0.52      0.25      0.34      4210\n",
      "           1       0.72      0.89      0.80      9082\n",
      "\n",
      "    accuracy                           0.69     13292\n",
      "   macro avg       0.62      0.57      0.57     13292\n",
      "weighted avg       0.66      0.69      0.65     13292\n",
      "\n",
      "['viewtime_mean', 'viewtime_std', 'RepurchaseRateByProductcode', 'promo_100', 'agegroup', 'pgamount', 'viewtime_sum', 'rateByChargetypeid', 'run_rate', 'view_count', 'chargetypeid', 'currencytypeid']               precision    recall  f1-score   support\n",
      "\n",
      "           0       0.54      0.25      0.34      4210\n",
      "           1       0.72      0.90      0.80      9082\n",
      "\n",
      "    accuracy                           0.69     13292\n",
      "   macro avg       0.63      0.58      0.57     13292\n",
      "weighted avg       0.66      0.69      0.66     13292\n",
      "\n",
      "['viewtime_mean', 'viewtime_std', 'RepurchaseRateByProductcode', 'promo_100', 'agegroup', 'pgamount', 'viewtime_sum', 'rateByChargetypeid', 'run_rate', 'view_count', 'chargetypeid', 'currencytypeid', 'paymenttypeid']               precision    recall  f1-score   support\n",
      "\n",
      "           0       0.52      0.27      0.35      4210\n",
      "           1       0.72      0.88      0.80      9082\n",
      "\n",
      "    accuracy                           0.69     13292\n",
      "   macro avg       0.62      0.58      0.57     13292\n",
      "weighted avg       0.66      0.69      0.65     13292\n",
      "\n",
      "['viewtime_mean', 'viewtime_std', 'RepurchaseRateByProductcode', 'promo_100', 'agegroup', 'pgamount', 'viewtime_sum', 'rateByChargetypeid', 'run_rate', 'view_count', 'chargetypeid', 'currencytypeid', 'paymenttypeid', 'tot_viewtime_sum']               precision    recall  f1-score   support\n",
      "\n",
      "           0       0.55      0.26      0.35      4210\n",
      "           1       0.72      0.90      0.80      9082\n",
      "\n",
      "    accuracy                           0.70     13292\n",
      "   macro avg       0.64      0.58      0.58     13292\n",
      "weighted avg       0.67      0.70      0.66     13292\n",
      "\n",
      "['viewtime_mean', 'viewtime_std', 'RepurchaseRateByProductcode', 'promo_100', 'agegroup', 'pgamount', 'viewtime_sum', 'rateByChargetypeid', 'run_rate', 'view_count', 'chargetypeid', 'currencytypeid', 'paymenttypeid', 'tot_viewtime_sum', 'tot_view_count']               precision    recall  f1-score   support\n",
      "\n",
      "           0       0.55      0.26      0.35      4210\n",
      "           1       0.72      0.90      0.80      9082\n",
      "\n",
      "    accuracy                           0.70     13292\n",
      "   macro avg       0.64      0.58      0.58     13292\n",
      "weighted avg       0.67      0.70      0.66     13292\n",
      "\n",
      "['viewtime_mean', 'viewtime_std', 'RepurchaseRateByProductcode', 'promo_100', 'agegroup', 'pgamount', 'viewtime_sum', 'rateByChargetypeid', 'run_rate', 'view_count', 'chargetypeid', 'currencytypeid', 'paymenttypeid', 'tot_viewtime_sum', 'tot_view_count', 'concurrentwatchcount']               precision    recall  f1-score   support\n",
      "\n",
      "           0       0.54      0.26      0.35      4210\n",
      "           1       0.72      0.90      0.80      9082\n",
      "\n",
      "    accuracy                           0.70     13292\n",
      "   macro avg       0.63      0.58      0.58     13292\n",
      "weighted avg       0.67      0.70      0.66     13292\n",
      "\n",
      "['viewtime_mean', 'viewtime_std', 'RepurchaseRateByProductcode', 'promo_100', 'agegroup', 'pgamount', 'viewtime_sum', 'rateByChargetypeid', 'run_rate', 'view_count', 'chargetypeid', 'currencytypeid', 'paymenttypeid', 'tot_viewtime_sum', 'tot_view_count', 'concurrentwatchcount', 'coinamount']               precision    recall  f1-score   support\n",
      "\n",
      "           0       0.55      0.27      0.36      4210\n",
      "           1       0.73      0.90      0.80      9082\n",
      "\n",
      "    accuracy                           0.70     13292\n",
      "   macro avg       0.64      0.58      0.58     13292\n",
      "weighted avg       0.67      0.70      0.66     13292\n",
      "\n",
      "['viewtime_mean', 'viewtime_std', 'RepurchaseRateByProductcode', 'promo_100', 'agegroup', 'pgamount', 'viewtime_sum', 'rateByChargetypeid', 'run_rate', 'view_count', 'chargetypeid', 'currencytypeid', 'paymenttypeid', 'tot_viewtime_sum', 'tot_view_count', 'concurrentwatchcount', 'coinamount', 'totalamount']               precision    recall  f1-score   support\n",
      "\n",
      "           0       0.55      0.25      0.34      4210\n",
      "           1       0.72      0.90      0.80      9082\n",
      "\n",
      "    accuracy                           0.70     13292\n",
      "   macro avg       0.63      0.58      0.57     13292\n",
      "weighted avg       0.67      0.70      0.66     13292\n",
      "\n",
      "['viewtime_mean', 'viewtime_std', 'RepurchaseRateByProductcode', 'promo_100', 'agegroup', 'pgamount', 'viewtime_sum', 'rateByChargetypeid', 'run_rate', 'view_count', 'chargetypeid', 'currencytypeid', 'paymenttypeid', 'tot_viewtime_sum', 'tot_view_count', 'concurrentwatchcount', 'coinamount', 'totalamount', 'coinReceived']               precision    recall  f1-score   support\n",
      "\n",
      "           0       0.56      0.28      0.37      4210\n",
      "           1       0.73      0.90      0.81      9082\n",
      "\n",
      "    accuracy                           0.70     13292\n",
      "   macro avg       0.65      0.59      0.59     13292\n",
      "weighted avg       0.68      0.70      0.67     13292\n",
      "\n",
      "['viewtime_mean', 'viewtime_std', 'RepurchaseRateByProductcode', 'promo_100', 'agegroup', 'pgamount', 'viewtime_sum', 'rateByChargetypeid', 'run_rate', 'view_count', 'chargetypeid', 'currencytypeid', 'paymenttypeid', 'tot_viewtime_sum', 'tot_view_count', 'concurrentwatchcount', 'coinamount', 'totalamount', 'coinReceived', 'devicetype_cnt']               precision    recall  f1-score   support\n",
      "\n",
      "           0       0.57      0.28      0.37      4210\n",
      "           1       0.73      0.90      0.81      9082\n",
      "\n",
      "    accuracy                           0.70     13292\n",
      "   macro avg       0.65      0.59      0.59     13292\n",
      "weighted avg       0.68      0.70      0.67     13292\n",
      "\n",
      "['viewtime_mean', 'viewtime_std', 'RepurchaseRateByProductcode', 'promo_100', 'agegroup', 'pgamount', 'viewtime_sum', 'rateByChargetypeid', 'run_rate', 'view_count', 'chargetypeid', 'currencytypeid', 'paymenttypeid', 'tot_viewtime_sum', 'tot_view_count', 'concurrentwatchcount', 'coinamount', 'totalamount', 'coinReceived', 'devicetype_cnt', 'isauth']               precision    recall  f1-score   support\n",
      "\n",
      "           0       0.58      0.27      0.37      4210\n",
      "           1       0.73      0.91      0.81      9082\n",
      "\n",
      "    accuracy                           0.71     13292\n",
      "   macro avg       0.65      0.59      0.59     13292\n",
      "weighted avg       0.68      0.71      0.67     13292\n",
      "\n",
      "['viewtime_mean', 'viewtime_std', 'RepurchaseRateByProductcode', 'promo_100', 'agegroup', 'pgamount', 'viewtime_sum', 'rateByChargetypeid', 'run_rate', 'view_count', 'chargetypeid', 'currencytypeid', 'paymenttypeid', 'tot_viewtime_sum', 'tot_view_count', 'concurrentwatchcount', 'coinamount', 'totalamount', 'coinReceived', 'devicetype_cnt', 'isauth', 'tot_viewtime_std']               precision    recall  f1-score   support\n",
      "\n",
      "           0       0.59      0.27      0.37      4210\n",
      "           1       0.73      0.91      0.81      9082\n",
      "\n",
      "    accuracy                           0.71     13292\n",
      "   macro avg       0.66      0.59      0.59     13292\n",
      "weighted avg       0.69      0.71      0.67     13292\n",
      "\n",
      "['viewtime_mean', 'viewtime_std', 'RepurchaseRateByProductcode', 'promo_100', 'agegroup', 'pgamount', 'viewtime_sum', 'rateByChargetypeid', 'run_rate', 'view_count', 'chargetypeid', 'currencytypeid', 'paymenttypeid', 'tot_viewtime_sum', 'tot_view_count', 'concurrentwatchcount', 'coinamount', 'totalamount', 'coinReceived', 'devicetype_cnt', 'isauth', 'tot_viewtime_std', 'auto_pay_yn']               precision    recall  f1-score   support\n",
      "\n",
      "           0       0.59      0.28      0.38      4210\n",
      "           1       0.73      0.91      0.81      9082\n",
      "\n",
      "    accuracy                           0.71     13292\n",
      "   macro avg       0.66      0.59      0.59     13292\n",
      "weighted avg       0.69      0.71      0.67     13292\n",
      "\n",
      "['viewtime_mean', 'viewtime_std', 'RepurchaseRateByProductcode', 'promo_100', 'agegroup', 'pgamount', 'viewtime_sum', 'rateByChargetypeid', 'run_rate', 'view_count', 'chargetypeid', 'currencytypeid', 'paymenttypeid', 'tot_viewtime_sum', 'tot_view_count', 'concurrentwatchcount', 'coinamount', 'totalamount', 'coinReceived', 'devicetype_cnt', 'isauth', 'tot_viewtime_std', 'auto_pay_yn', 'tot_viewtime_mean']               precision    recall  f1-score   support\n",
      "\n",
      "           0       0.59      0.27      0.37      4210\n",
      "           1       0.73      0.91      0.81      9082\n",
      "\n",
      "    accuracy                           0.71     13292\n",
      "   macro avg       0.66      0.59      0.59     13292\n",
      "weighted avg       0.69      0.71      0.67     13292\n",
      "\n",
      "['viewtime_mean', 'viewtime_std', 'RepurchaseRateByProductcode', 'promo_100', 'agegroup', 'pgamount', 'viewtime_sum', 'rateByChargetypeid', 'run_rate', 'view_count', 'chargetypeid', 'currencytypeid', 'paymenttypeid', 'tot_viewtime_sum', 'tot_view_count', 'concurrentwatchcount', 'coinamount', 'totalamount', 'coinReceived', 'devicetype_cnt', 'isauth', 'tot_viewtime_std', 'auto_pay_yn', 'tot_viewtime_mean', 'coin_pgamount']               precision    recall  f1-score   support\n",
      "\n",
      "           0       0.60      0.29      0.39      4210\n",
      "           1       0.73      0.91      0.81      9082\n",
      "\n",
      "    accuracy                           0.71     13292\n",
      "   macro avg       0.67      0.60      0.60     13292\n",
      "weighted avg       0.69      0.71      0.68     13292\n",
      "\n",
      "['viewtime_mean', 'viewtime_std', 'RepurchaseRateByProductcode', 'promo_100', 'agegroup', 'pgamount', 'viewtime_sum', 'rateByChargetypeid', 'run_rate', 'view_count', 'chargetypeid', 'currencytypeid', 'paymenttypeid', 'tot_viewtime_sum', 'tot_view_count', 'concurrentwatchcount', 'coinamount', 'totalamount', 'coinReceived', 'devicetype_cnt', 'isauth', 'tot_viewtime_std', 'auto_pay_yn', 'tot_viewtime_mean', 'coin_pgamount', 'bonusamount']               precision    recall  f1-score   support\n",
      "\n",
      "           0       0.59      0.28      0.38      4210\n",
      "           1       0.73      0.91      0.81      9082\n",
      "\n",
      "    accuracy                           0.71     13292\n",
      "   macro avg       0.66      0.60      0.60     13292\n",
      "weighted avg       0.69      0.71      0.68     13292\n",
      "\n",
      "['viewtime_mean', 'viewtime_std', 'RepurchaseRateByProductcode', 'promo_100', 'agegroup', 'pgamount', 'viewtime_sum', 'rateByChargetypeid', 'run_rate', 'view_count', 'chargetypeid', 'currencytypeid', 'paymenttypeid', 'tot_viewtime_sum', 'tot_view_count', 'concurrentwatchcount', 'coinamount', 'totalamount', 'coinReceived', 'devicetype_cnt', 'isauth', 'tot_viewtime_std', 'auto_pay_yn', 'tot_viewtime_mean', 'coin_pgamount', 'bonusamount', 'discountamount']               precision    recall  f1-score   support\n",
      "\n",
      "           0       0.60      0.28      0.38      4210\n",
      "           1       0.73      0.92      0.81      9082\n",
      "\n",
      "    accuracy                           0.71     13292\n",
      "   macro avg       0.67      0.60      0.60     13292\n",
      "weighted avg       0.69      0.71      0.68     13292\n",
      "\n",
      "['viewtime_mean', 'viewtime_std', 'RepurchaseRateByProductcode', 'promo_100', 'agegroup', 'pgamount', 'viewtime_sum', 'rateByChargetypeid', 'run_rate', 'view_count', 'chargetypeid', 'currencytypeid', 'paymenttypeid', 'tot_viewtime_sum', 'tot_view_count', 'concurrentwatchcount', 'coinamount', 'totalamount', 'coinReceived', 'devicetype_cnt', 'isauth', 'tot_viewtime_std', 'auto_pay_yn', 'tot_viewtime_mean', 'coin_pgamount', 'bonusamount', 'discountamount', 'coinexpiredate']               precision    recall  f1-score   support\n",
      "\n",
      "           0       0.60      0.28      0.39      4210\n",
      "           1       0.73      0.91      0.81      9082\n",
      "\n",
      "    accuracy                           0.71     13292\n",
      "   macro avg       0.67      0.60      0.60     13292\n",
      "weighted avg       0.69      0.71      0.68     13292\n",
      "\n",
      "['viewtime_mean', 'viewtime_std', 'RepurchaseRateByProductcode', 'promo_100', 'agegroup', 'pgamount', 'viewtime_sum', 'rateByChargetypeid', 'run_rate', 'view_count', 'chargetypeid', 'currencytypeid', 'paymenttypeid', 'tot_viewtime_sum', 'tot_view_count', 'concurrentwatchcount', 'coinamount', 'totalamount', 'coinReceived', 'devicetype_cnt', 'isauth', 'tot_viewtime_std', 'auto_pay_yn', 'tot_viewtime_mean', 'coin_pgamount', 'bonusamount', 'discountamount', 'coinexpiredate', 'coin_autopay_yn']               precision    recall  f1-score   support\n",
      "\n",
      "           0       0.59      0.28      0.38      4210\n",
      "           1       0.73      0.91      0.81      9082\n",
      "\n",
      "    accuracy                           0.71     13292\n",
      "   macro avg       0.66      0.59      0.60     13292\n",
      "weighted avg       0.69      0.71      0.67     13292\n",
      "\n"
     ]
    }
   ],
   "source": [
    "import numpy as np\n",
    "from sklearn.model_selection import GridSearchCV\n",
    "from sklearn.model_selection import train_test_split\n",
    "from sklearn.ensemble import RandomForestClassifier\n",
    "from sklearn.metrics import classification_report\n",
    "from sklearn.ensemble import RandomForestClassifier\n",
    "from sklearn.model_selection import cross_val_score\n",
    "from sklearn.metrics import f1_score\n",
    "\n",
    "col_list = list(np.abs(train_service.corrwith(train_service['Repurchase'])).sort_values(ascending=False).index)\n",
    "col_list.remove('Repurchase')\n",
    "\n",
    "for i in range(1, len(col_list)+1):  \n",
    "  train_columns = col_list[:i]\n",
    "  X_train, X_test, y_train, y_test = train_test_split(train_service[train_columns].select_dtypes(['float64', 'int64']), \n",
    "                                                      train_service['Repurchase'], \n",
    "                                                      test_size=0.2, \n",
    "                                                      stratify=train_service['Repurchase'])\n",
    "\n",
    "  rcf = RandomForestClassifier()\n",
    "  rcf.fit(X_train, y_train)\n",
    "  pred = rcf.predict(X_test)\n",
    "  print(train_columns, classification_report(y_test, pred))"
   ]
  },
  {
   "cell_type": "code",
   "execution_count": null,
   "id": "a5823917",
   "metadata": {
    "id": "a5823917"
   },
   "outputs": [],
   "source": [
    "pred_submission = rcf.predict(predict_service[train_columns].select_dtypes(['float64', 'int64']))\n",
    "predict_service['pred'] = pred_submission\n",
    "predict_service.head()"
   ]
  },
  {
   "cell_type": "markdown",
   "id": "fa52ec77",
   "metadata": {
    "id": "fa52ec77"
   },
   "source": [
    "## Randomforest GridSearchCV"
   ]
  },
  {
   "cell_type": "code",
   "execution_count": null,
   "id": "75db923d",
   "metadata": {
    "colab": {
     "base_uri": "https://localhost:8080/"
    },
    "id": "75db923d",
    "outputId": "72bdc02f-1d27-407e-d7e4-2a51e66a3e1c"
   },
   "outputs": [
    {
     "name": "stdout",
     "output_type": "stream",
     "text": [
      "0.2614135182735909\n",
      "{'max_depth': 6, 'min_samples_leaf': 5, 'min_samples_split': 2, 'n_estimators': 300}\n",
      "              precision    recall  f1-score   support\n",
      "\n",
      "           0       0.71      0.97      0.82      9471\n",
      "           1       0.72      0.17      0.27      4471\n",
      "\n",
      "    accuracy                           0.71     13942\n",
      "   macro avg       0.72      0.57      0.55     13942\n",
      "weighted avg       0.72      0.71      0.64     13942\n",
      "\n"
     ]
    }
   ],
   "source": [
    "from sklearn.model_selection import GridSearchCV\n",
    "from sklearn.model_selection import train_test_split\n",
    "from sklearn.ensemble import RandomForestClassifier\n",
    "\n",
    "X_train, X_test, y_train, y_test = train_test_split(train_service[train_columns].select_dtypes(['float64', 'int64']), \n",
    "                                                    train_service['Repurchase'], \n",
    "                                                    test_size=0.2, \n",
    "                                                    stratify=train_service['Repurchase'])\n",
    "\n",
    "params = {\n",
    "    'n_estimators': [300], #list(range(100, 501, 100)),\n",
    "#     'max_features' : [int(np.sqrt(len(train_columns)))],\n",
    "    'max_depth' : [6], #range(1, 10, 1),\n",
    "    'min_samples_leaf': [5], #range(1, 11, 1),\n",
    "    'min_samples_split': [2] #list(range(1, 11, 1))\n",
    "}\n",
    "\n",
    "rf_clf = RandomForestClassifier(random_state=0, n_jobs=-1)\n",
    "grid_cv = GridSearchCV(rf_clf, param_grid=params, cv=5, n_jobs=-1, scoring='f1')\n",
    "grid_cv.fit(X_train, y_train)\n",
    "pred = grid_cv.best_estimator_.predict(X_test)\n",
    "print(grid_cv.best_score_)\n",
    "print(grid_cv.best_params_)\n",
    "print(classification_report(y_test, pred))"
   ]
  },
  {
   "cell_type": "code",
   "execution_count": null,
   "id": "1PE-jRvK81lC",
   "metadata": {
    "colab": {
     "base_uri": "https://localhost:8080/"
    },
    "id": "1PE-jRvK81lC",
    "outputId": "d17b2aac-9052-4c80-f2df-be7b97f41431"
   },
   "outputs": [
    {
     "name": "stdout",
     "output_type": "stream",
     "text": [
      "0.24538040201509212\n",
      "{'max_depth': 6, 'min_samples_leaf': 5, 'min_samples_split': 2, 'n_estimators': 300}\n",
      "              precision    recall  f1-score   support\n",
      "\n",
      "           0       0.71      0.97      0.82      9470\n",
      "           1       0.70      0.14      0.23      4359\n",
      "\n",
      "    accuracy                           0.71     13829\n",
      "   macro avg       0.70      0.56      0.53     13829\n",
      "weighted avg       0.71      0.71      0.64     13829\n",
      "\n"
     ]
    }
   ],
   "source": [
    "from sklearn.model_selection import GridSearchCV\n",
    "from sklearn.model_selection import train_test_split\n",
    "from sklearn.ensemble import RandomForestClassifier\n",
    "\n",
    "X_train, X_test, y_train, y_test = train_test_split(train_service_target[train_columns].select_dtypes(['float64', 'int64']), \n",
    "                                                    train_service_target['Repurchase'], \n",
    "                                                    test_size=0.2, \n",
    "                                                    stratify=train_service_target['Repurchase'])\n",
    "\n",
    "params = {\n",
    "    'n_estimators': [300], #list(range(100, 501, 100)),\n",
    "#     'max_features' : [int(np.sqrt(len(train_columns)))],\n",
    "    'max_depth' : [6], #range(1, 10, 1),\n",
    "    'min_samples_leaf': [5], #range(1, 11, 1),\n",
    "    'min_samples_split': [2] #list(range(1, 11, 1))\n",
    "}\n",
    "\n",
    "rf_clf = RandomForestClassifier(random_state=0, n_jobs=-1)\n",
    "grid_cv = GridSearchCV(rf_clf, param_grid=params, cv=5, n_jobs=-1, scoring='f1')\n",
    "grid_cv.fit(X_train, y_train)\n",
    "pred = grid_cv.best_estimator_.predict(X_test)\n",
    "print(grid_cv.best_score_)\n",
    "print(grid_cv.best_params_)\n",
    "print(classification_report(y_test, pred))"
   ]
  },
  {
   "cell_type": "code",
   "execution_count": null,
   "id": "521dc4b7",
   "metadata": {
    "id": "521dc4b7"
   },
   "outputs": [],
   "source": [
    "pred_submission = grid_cv.predict(predict_service[train_columns].select_dtypes(['float64', 'int64']))\n",
    "predict_service['pred'] = pred_submission\n",
    "predict_service.head()"
   ]
  },
  {
   "cell_type": "markdown",
   "id": "e44c6551",
   "metadata": {
    "id": "e44c6551"
   },
   "source": [
    "## SVM"
   ]
  },
  {
   "cell_type": "code",
   "execution_count": null,
   "id": "35ba20d8",
   "metadata": {
    "colab": {
     "base_uri": "https://localhost:8080/",
     "height": 375
    },
    "id": "35ba20d8",
    "outputId": "64a9a3dc-26b9-4bcf-c42e-1ff9159b096a"
   },
   "outputs": [
    {
     "ename": "KeyboardInterrupt",
     "evalue": "ignored",
     "output_type": "error",
     "traceback": [
      "\u001b[0;31m---------------------------------------------------------------------------\u001b[0m",
      "\u001b[0;31mKeyboardInterrupt\u001b[0m                         Traceback (most recent call last)",
      "\u001b[0;32m<ipython-input-52-0beb9595681a>\u001b[0m in \u001b[0;36m<module>\u001b[0;34m()\u001b[0m\n\u001b[1;32m     13\u001b[0m \u001b[0;34m\u001b[0m\u001b[0m\n\u001b[1;32m     14\u001b[0m \u001b[0msvm\u001b[0m \u001b[0;34m=\u001b[0m \u001b[0mSVC\u001b[0m\u001b[0;34m(\u001b[0m\u001b[0mkernel\u001b[0m\u001b[0;34m=\u001b[0m\u001b[0;34m'rbf'\u001b[0m\u001b[0;34m,\u001b[0m \u001b[0mgamma\u001b[0m\u001b[0;34m=\u001b[0m\u001b[0;36m0.10\u001b[0m\u001b[0;34m,\u001b[0m \u001b[0mC\u001b[0m\u001b[0;34m=\u001b[0m\u001b[0;36m10.0\u001b[0m\u001b[0;34m)\u001b[0m\u001b[0;34m\u001b[0m\u001b[0;34m\u001b[0m\u001b[0m\n\u001b[0;32m---> 15\u001b[0;31m \u001b[0msvm\u001b[0m\u001b[0;34m.\u001b[0m\u001b[0mfit\u001b[0m\u001b[0;34m(\u001b[0m\u001b[0mX_train\u001b[0m\u001b[0;34m,\u001b[0m \u001b[0my_train\u001b[0m\u001b[0;34m)\u001b[0m\u001b[0;34m\u001b[0m\u001b[0;34m\u001b[0m\u001b[0m\n\u001b[0m\u001b[1;32m     16\u001b[0m \u001b[0mpred\u001b[0m \u001b[0;34m=\u001b[0m \u001b[0msvm\u001b[0m\u001b[0;34m.\u001b[0m\u001b[0mpredict\u001b[0m\u001b[0;34m(\u001b[0m\u001b[0mX_test\u001b[0m\u001b[0;34m)\u001b[0m\u001b[0;34m\u001b[0m\u001b[0;34m\u001b[0m\u001b[0m\n\u001b[1;32m     17\u001b[0m \u001b[0mprint\u001b[0m\u001b[0;34m(\u001b[0m\u001b[0mclassification_report\u001b[0m\u001b[0;34m(\u001b[0m\u001b[0my_test\u001b[0m\u001b[0;34m,\u001b[0m \u001b[0mpred\u001b[0m\u001b[0;34m)\u001b[0m\u001b[0;34m)\u001b[0m\u001b[0;34m\u001b[0m\u001b[0;34m\u001b[0m\u001b[0m\n",
      "\u001b[0;32m/usr/local/lib/python3.7/dist-packages/sklearn/svm/_base.py\u001b[0m in \u001b[0;36mfit\u001b[0;34m(self, X, y, sample_weight)\u001b[0m\n\u001b[1;32m    197\u001b[0m \u001b[0;34m\u001b[0m\u001b[0m\n\u001b[1;32m    198\u001b[0m         \u001b[0mseed\u001b[0m \u001b[0;34m=\u001b[0m \u001b[0mrnd\u001b[0m\u001b[0;34m.\u001b[0m\u001b[0mrandint\u001b[0m\u001b[0;34m(\u001b[0m\u001b[0mnp\u001b[0m\u001b[0;34m.\u001b[0m\u001b[0miinfo\u001b[0m\u001b[0;34m(\u001b[0m\u001b[0;34m'i'\u001b[0m\u001b[0;34m)\u001b[0m\u001b[0;34m.\u001b[0m\u001b[0mmax\u001b[0m\u001b[0;34m)\u001b[0m\u001b[0;34m\u001b[0m\u001b[0;34m\u001b[0m\u001b[0m\n\u001b[0;32m--> 199\u001b[0;31m         \u001b[0mfit\u001b[0m\u001b[0;34m(\u001b[0m\u001b[0mX\u001b[0m\u001b[0;34m,\u001b[0m \u001b[0my\u001b[0m\u001b[0;34m,\u001b[0m \u001b[0msample_weight\u001b[0m\u001b[0;34m,\u001b[0m \u001b[0msolver_type\u001b[0m\u001b[0;34m,\u001b[0m \u001b[0mkernel\u001b[0m\u001b[0;34m,\u001b[0m \u001b[0mrandom_seed\u001b[0m\u001b[0;34m=\u001b[0m\u001b[0mseed\u001b[0m\u001b[0;34m)\u001b[0m\u001b[0;34m\u001b[0m\u001b[0;34m\u001b[0m\u001b[0m\n\u001b[0m\u001b[1;32m    200\u001b[0m         \u001b[0;31m# see comment on the other call to np.iinfo in this file\u001b[0m\u001b[0;34m\u001b[0m\u001b[0;34m\u001b[0m\u001b[0;34m\u001b[0m\u001b[0m\n\u001b[1;32m    201\u001b[0m \u001b[0;34m\u001b[0m\u001b[0m\n",
      "\u001b[0;32m/usr/local/lib/python3.7/dist-packages/sklearn/svm/_base.py\u001b[0m in \u001b[0;36m_dense_fit\u001b[0;34m(self, X, y, sample_weight, solver_type, kernel, random_seed)\u001b[0m\n\u001b[1;32m    256\u001b[0m                 \u001b[0mcache_size\u001b[0m\u001b[0;34m=\u001b[0m\u001b[0mself\u001b[0m\u001b[0;34m.\u001b[0m\u001b[0mcache_size\u001b[0m\u001b[0;34m,\u001b[0m \u001b[0mcoef0\u001b[0m\u001b[0;34m=\u001b[0m\u001b[0mself\u001b[0m\u001b[0;34m.\u001b[0m\u001b[0mcoef0\u001b[0m\u001b[0;34m,\u001b[0m\u001b[0;34m\u001b[0m\u001b[0;34m\u001b[0m\u001b[0m\n\u001b[1;32m    257\u001b[0m                 \u001b[0mgamma\u001b[0m\u001b[0;34m=\u001b[0m\u001b[0mself\u001b[0m\u001b[0;34m.\u001b[0m\u001b[0m_gamma\u001b[0m\u001b[0;34m,\u001b[0m \u001b[0mepsilon\u001b[0m\u001b[0;34m=\u001b[0m\u001b[0mself\u001b[0m\u001b[0;34m.\u001b[0m\u001b[0mepsilon\u001b[0m\u001b[0;34m,\u001b[0m\u001b[0;34m\u001b[0m\u001b[0;34m\u001b[0m\u001b[0m\n\u001b[0;32m--> 258\u001b[0;31m                 max_iter=self.max_iter, random_seed=random_seed)\n\u001b[0m\u001b[1;32m    259\u001b[0m \u001b[0;34m\u001b[0m\u001b[0m\n\u001b[1;32m    260\u001b[0m         \u001b[0mself\u001b[0m\u001b[0;34m.\u001b[0m\u001b[0m_warn_from_fit_status\u001b[0m\u001b[0;34m(\u001b[0m\u001b[0;34m)\u001b[0m\u001b[0;34m\u001b[0m\u001b[0;34m\u001b[0m\u001b[0m\n",
      "\u001b[0;31mKeyboardInterrupt\u001b[0m: "
     ]
    }
   ],
   "source": [
    "from sklearn.svm import SVC\n",
    "from sklearn.model_selection import train_test_split\n",
    "from sklearn.metrics import classification_report\n",
    "from sklearn.model_selection import GridSearchCV\n",
    "\n",
    "import warnings\n",
    "warnings.filterwarnings('ignore')\n",
    "\n",
    "X_train, X_test, y_train, y_test = train_test_split(train_service[train_columns].select_dtypes(['float64', 'int64']), \n",
    "                                                    train_service['Repurchase'], \n",
    "                                                    test_size=0.2, \n",
    "                                                    stratify=train_service['Repurchase'])\n",
    "\n",
    "svm = SVC(kernel='rbf', gamma=0.10, C=10.0)\n",
    "svm.fit(X_train, y_train)\n",
    "pred = svm.predict(X_test)\n",
    "print(classification_report(y_test, pred))"
   ]
  },
  {
   "cell_type": "markdown",
   "id": "5395e901",
   "metadata": {
    "id": "5395e901"
   },
   "source": [
    "## XGBClassifier"
   ]
  },
  {
   "cell_type": "code",
   "execution_count": null,
   "id": "ac576da7",
   "metadata": {
    "colab": {
     "base_uri": "https://localhost:8080/"
    },
    "id": "ac576da7",
    "outputId": "d6604733-7ea2-4975-cca8-f610ac0a4f86"
   },
   "outputs": [
    {
     "name": "stdout",
     "output_type": "stream",
     "text": [
      "0.8018302575196061\n",
      "{'learning_rate': 0.1, 'max_depth': 20, 'min_samples_split': 1, 'n_estimators': 300}\n",
      "              precision    recall  f1-score   support\n",
      "\n",
      "           0       0.56      0.29      0.38      4210\n",
      "           1       0.73      0.89      0.80      9082\n",
      "\n",
      "    accuracy                           0.70     13292\n",
      "   macro avg       0.64      0.59      0.59     13292\n",
      "weighted avg       0.68      0.70      0.67     13292\n",
      "\n"
     ]
    }
   ],
   "source": [
    "from sklearn.model_selection import train_test_split\n",
    "from xgboost import XGBClassifier\n",
    "from sklearn.metrics import classification_report\n",
    "from sklearn.model_selection import GridSearchCV\n",
    "\n",
    "import warnings\n",
    "warnings.filterwarnings('ignore')\n",
    "\n",
    "X_train, X_test, y_train, y_test = train_test_split(train_service[train_columns].select_dtypes(['float64', 'int64']), \n",
    "                                                    train_service['Repurchase'], \n",
    "                                                    test_size=0.2, \n",
    "                                                    stratify=train_service['Repurchase'])\n",
    "\n",
    "# xgb_wrapper = XGBRFClassifier(n_estimators=400, learning_rate=0.1, max_depth=15)\n",
    "# xgb_wrapper.fit(X_train, y_train)\n",
    "# pred = xgb_wrapper.predict(X_test)\n",
    "\n",
    "xgb_wrapper = XGBClassifier(objective = 'binary:logistic')\n",
    "params = {\n",
    "     'n_estimators': [300],\n",
    "    'learning_rate' : [0.1],\n",
    "    'max_depth': [20],\n",
    "    'min_samples_split': [1]\n",
    "}\n",
    "\n",
    "grid_cv = GridSearchCV(xgb_wrapper, param_grid=params, cv=5, n_jobs=-1, scoring='f1')\n",
    "grid_cv.fit(X_train, y_train)\n",
    "pred = grid_cv.best_estimator_.predict(X_test)\n",
    "print(grid_cv.best_score_)\n",
    "print(grid_cv.best_params_)\n",
    "print(classification_report(y_test, pred))"
   ]
  },
  {
   "cell_type": "code",
   "execution_count": null,
   "id": "H4mWuhFkFBNV",
   "metadata": {
    "colab": {
     "base_uri": "https://localhost:8080/",
     "height": 1000
    },
    "id": "H4mWuhFkFBNV",
    "outputId": "44f1afd7-ab40-4022-bfca-5ce4dc0c7212"
   },
   "outputs": [
    {
     "name": "stdout",
     "output_type": "stream",
     "text": [
      "['viewtime_mean'] 0.20 0.79\n",
      "['viewtime_mean', 'viewtime_std'] 0.23 0.79\n",
      "['viewtime_mean', 'viewtime_std', 'RepurchaseRateByProductcode'] 0.27 0.78\n",
      "['viewtime_mean', 'viewtime_std', 'RepurchaseRateByProductcode', 'promo_100'] 0.32 0.78\n",
      "['viewtime_mean', 'viewtime_std', 'RepurchaseRateByProductcode', 'promo_100', 'agegroup'] 0.35 0.79\n",
      "['viewtime_mean', 'viewtime_std', 'RepurchaseRateByProductcode', 'promo_100', 'agegroup', 'pgamount'] 0.34 0.79\n",
      "['viewtime_mean', 'viewtime_std', 'RepurchaseRateByProductcode', 'promo_100', 'agegroup', 'pgamount', 'viewtime_sum'] 0.34 0.79\n",
      "['viewtime_mean', 'viewtime_std', 'RepurchaseRateByProductcode', 'promo_100', 'agegroup', 'pgamount', 'viewtime_sum', 'rateByChargetypeid'] 0.34 0.78\n",
      "['viewtime_mean', 'viewtime_std', 'RepurchaseRateByProductcode', 'promo_100', 'agegroup', 'pgamount', 'viewtime_sum', 'rateByChargetypeid', 'run_rate'] 0.34 0.79\n",
      "['viewtime_mean', 'viewtime_std', 'RepurchaseRateByProductcode', 'promo_100', 'agegroup', 'pgamount', 'viewtime_sum', 'rateByChargetypeid', 'run_rate', 'view_count'] 0.35 0.79\n",
      "['viewtime_mean', 'viewtime_std', 'RepurchaseRateByProductcode', 'promo_100', 'agegroup', 'pgamount', 'viewtime_sum', 'rateByChargetypeid', 'run_rate', 'view_count', 'chargetypeid'] 0.36 0.79\n",
      "['viewtime_mean', 'viewtime_std', 'RepurchaseRateByProductcode', 'promo_100', 'agegroup', 'pgamount', 'viewtime_sum', 'rateByChargetypeid', 'run_rate', 'view_count', 'chargetypeid', 'currencytypeid'] 0.35 0.79\n",
      "['viewtime_mean', 'viewtime_std', 'RepurchaseRateByProductcode', 'promo_100', 'agegroup', 'pgamount', 'viewtime_sum', 'rateByChargetypeid', 'run_rate', 'view_count', 'chargetypeid', 'currencytypeid', 'paymenttypeid'] 0.36 0.80\n",
      "['viewtime_mean', 'viewtime_std', 'RepurchaseRateByProductcode', 'promo_100', 'agegroup', 'pgamount', 'viewtime_sum', 'rateByChargetypeid', 'run_rate', 'view_count', 'chargetypeid', 'currencytypeid', 'paymenttypeid', 'tot_viewtime_sum'] 0.37 0.80\n",
      "['viewtime_mean', 'viewtime_std', 'RepurchaseRateByProductcode', 'promo_100', 'agegroup', 'pgamount', 'viewtime_sum', 'rateByChargetypeid', 'run_rate', 'view_count', 'chargetypeid', 'currencytypeid', 'paymenttypeid', 'tot_viewtime_sum', 'tot_view_count'] 0.36 0.80\n",
      "['viewtime_mean', 'viewtime_std', 'RepurchaseRateByProductcode', 'promo_100', 'agegroup', 'pgamount', 'viewtime_sum', 'rateByChargetypeid', 'run_rate', 'view_count', 'chargetypeid', 'currencytypeid', 'paymenttypeid', 'tot_viewtime_sum', 'tot_view_count', 'concurrentwatchcount'] 0.36 0.80\n",
      "['viewtime_mean', 'viewtime_std', 'RepurchaseRateByProductcode', 'promo_100', 'agegroup', 'pgamount', 'viewtime_sum', 'rateByChargetypeid', 'run_rate', 'view_count', 'chargetypeid', 'currencytypeid', 'paymenttypeid', 'tot_viewtime_sum', 'tot_view_count', 'concurrentwatchcount', 'coinamount'] 0.35 0.80\n",
      "['viewtime_mean', 'viewtime_std', 'RepurchaseRateByProductcode', 'promo_100', 'agegroup', 'pgamount', 'viewtime_sum', 'rateByChargetypeid', 'run_rate', 'view_count', 'chargetypeid', 'currencytypeid', 'paymenttypeid', 'tot_viewtime_sum', 'tot_view_count', 'concurrentwatchcount', 'coinamount', 'totalamount'] 0.35 0.80\n",
      "['viewtime_mean', 'viewtime_std', 'RepurchaseRateByProductcode', 'promo_100', 'agegroup', 'pgamount', 'viewtime_sum', 'rateByChargetypeid', 'run_rate', 'view_count', 'chargetypeid', 'currencytypeid', 'paymenttypeid', 'tot_viewtime_sum', 'tot_view_count', 'concurrentwatchcount', 'coinamount', 'totalamount', 'coinReceived'] 0.36 0.80\n",
      "['viewtime_mean', 'viewtime_std', 'RepurchaseRateByProductcode', 'promo_100', 'agegroup', 'pgamount', 'viewtime_sum', 'rateByChargetypeid', 'run_rate', 'view_count', 'chargetypeid', 'currencytypeid', 'paymenttypeid', 'tot_viewtime_sum', 'tot_view_count', 'concurrentwatchcount', 'coinamount', 'totalamount', 'coinReceived', 'devicetype_cnt'] 0.38 0.80\n",
      "['viewtime_mean', 'viewtime_std', 'RepurchaseRateByProductcode', 'promo_100', 'agegroup', 'pgamount', 'viewtime_sum', 'rateByChargetypeid', 'run_rate', 'view_count', 'chargetypeid', 'currencytypeid', 'paymenttypeid', 'tot_viewtime_sum', 'tot_view_count', 'concurrentwatchcount', 'coinamount', 'totalamount', 'coinReceived', 'devicetype_cnt', 'isauth'] 0.40 0.81\n",
      "['viewtime_mean', 'viewtime_std', 'RepurchaseRateByProductcode', 'promo_100', 'agegroup', 'pgamount', 'viewtime_sum', 'rateByChargetypeid', 'run_rate', 'view_count', 'chargetypeid', 'currencytypeid', 'paymenttypeid', 'tot_viewtime_sum', 'tot_view_count', 'concurrentwatchcount', 'coinamount', 'totalamount', 'coinReceived', 'devicetype_cnt', 'isauth', 'tot_viewtime_std'] 0.38 0.80\n",
      "['viewtime_mean', 'viewtime_std', 'RepurchaseRateByProductcode', 'promo_100', 'agegroup', 'pgamount', 'viewtime_sum', 'rateByChargetypeid', 'run_rate', 'view_count', 'chargetypeid', 'currencytypeid', 'paymenttypeid', 'tot_viewtime_sum', 'tot_view_count', 'concurrentwatchcount', 'coinamount', 'totalamount', 'coinReceived', 'devicetype_cnt', 'isauth', 'tot_viewtime_std', 'auto_pay_yn'] 0.39 0.80\n",
      "['viewtime_mean', 'viewtime_std', 'RepurchaseRateByProductcode', 'promo_100', 'agegroup', 'pgamount', 'viewtime_sum', 'rateByChargetypeid', 'run_rate', 'view_count', 'chargetypeid', 'currencytypeid', 'paymenttypeid', 'tot_viewtime_sum', 'tot_view_count', 'concurrentwatchcount', 'coinamount', 'totalamount', 'coinReceived', 'devicetype_cnt', 'isauth', 'tot_viewtime_std', 'auto_pay_yn', 'tot_viewtime_mean'] 0.39 0.81\n",
      "['viewtime_mean', 'viewtime_std', 'RepurchaseRateByProductcode', 'promo_100', 'agegroup', 'pgamount', 'viewtime_sum', 'rateByChargetypeid', 'run_rate', 'view_count', 'chargetypeid', 'currencytypeid', 'paymenttypeid', 'tot_viewtime_sum', 'tot_view_count', 'concurrentwatchcount', 'coinamount', 'totalamount', 'coinReceived', 'devicetype_cnt', 'isauth', 'tot_viewtime_std', 'auto_pay_yn', 'tot_viewtime_mean', 'coin_pgamount'] 0.39 0.80\n",
      "['viewtime_mean', 'viewtime_std', 'RepurchaseRateByProductcode', 'promo_100', 'agegroup', 'pgamount', 'viewtime_sum', 'rateByChargetypeid', 'run_rate', 'view_count', 'chargetypeid', 'currencytypeid', 'paymenttypeid', 'tot_viewtime_sum', 'tot_view_count', 'concurrentwatchcount', 'coinamount', 'totalamount', 'coinReceived', 'devicetype_cnt', 'isauth', 'tot_viewtime_std', 'auto_pay_yn', 'tot_viewtime_mean', 'coin_pgamount', 'bonusamount'] 0.39 0.81\n",
      "['viewtime_mean', 'viewtime_std', 'RepurchaseRateByProductcode', 'promo_100', 'agegroup', 'pgamount', 'viewtime_sum', 'rateByChargetypeid', 'run_rate', 'view_count', 'chargetypeid', 'currencytypeid', 'paymenttypeid', 'tot_viewtime_sum', 'tot_view_count', 'concurrentwatchcount', 'coinamount', 'totalamount', 'coinReceived', 'devicetype_cnt', 'isauth', 'tot_viewtime_std', 'auto_pay_yn', 'tot_viewtime_mean', 'coin_pgamount', 'bonusamount', 'discountamount'] 0.39 0.81\n",
      "['viewtime_mean', 'viewtime_std', 'RepurchaseRateByProductcode', 'promo_100', 'agegroup', 'pgamount', 'viewtime_sum', 'rateByChargetypeid', 'run_rate', 'view_count', 'chargetypeid', 'currencytypeid', 'paymenttypeid', 'tot_viewtime_sum', 'tot_view_count', 'concurrentwatchcount', 'coinamount', 'totalamount', 'coinReceived', 'devicetype_cnt', 'isauth', 'tot_viewtime_std', 'auto_pay_yn', 'tot_viewtime_mean', 'coin_pgamount', 'bonusamount', 'discountamount', 'coinexpiredate'] 0.37 0.81\n",
      "['viewtime_mean', 'viewtime_std', 'RepurchaseRateByProductcode', 'promo_100', 'agegroup', 'pgamount', 'viewtime_sum', 'rateByChargetypeid', 'run_rate', 'view_count', 'chargetypeid', 'currencytypeid', 'paymenttypeid', 'tot_viewtime_sum', 'tot_view_count', 'concurrentwatchcount', 'coinamount', 'totalamount', 'coinReceived', 'devicetype_cnt', 'isauth', 'tot_viewtime_std', 'auto_pay_yn', 'tot_viewtime_mean', 'coin_pgamount', 'bonusamount', 'discountamount', 'coinexpiredate', 'coin_autopay_yn'] 0.39 0.80\n"
     ]
    },
    {
     "data": {
      "text/html": [
       "<div>\n",
       "<style scoped>\n",
       "    .dataframe tbody tr th:only-of-type {\n",
       "        vertical-align: middle;\n",
       "    }\n",
       "\n",
       "    .dataframe tbody tr th {\n",
       "        vertical-align: top;\n",
       "    }\n",
       "\n",
       "    .dataframe thead th {\n",
       "        text-align: right;\n",
       "    }\n",
       "</style>\n",
       "<table border=\"1\" class=\"dataframe\">\n",
       "  <thead>\n",
       "    <tr style=\"text-align: right;\">\n",
       "      <th></th>\n",
       "      <th>columns</th>\n",
       "      <th>f1-0</th>\n",
       "      <th>f1-1</th>\n",
       "    </tr>\n",
       "  </thead>\n",
       "  <tbody>\n",
       "    <tr>\n",
       "      <th>0</th>\n",
       "      <td>[viewtime_mean]</td>\n",
       "      <td>0.20</td>\n",
       "      <td>0.79</td>\n",
       "    </tr>\n",
       "    <tr>\n",
       "      <th>1</th>\n",
       "      <td>[viewtime_mean, viewtime_std]</td>\n",
       "      <td>0.23</td>\n",
       "      <td>0.79</td>\n",
       "    </tr>\n",
       "    <tr>\n",
       "      <th>2</th>\n",
       "      <td>[viewtime_mean, viewtime_std, RepurchaseRateBy...</td>\n",
       "      <td>0.27</td>\n",
       "      <td>0.78</td>\n",
       "    </tr>\n",
       "    <tr>\n",
       "      <th>3</th>\n",
       "      <td>[viewtime_mean, viewtime_std, RepurchaseRateBy...</td>\n",
       "      <td>0.32</td>\n",
       "      <td>0.78</td>\n",
       "    </tr>\n",
       "    <tr>\n",
       "      <th>4</th>\n",
       "      <td>[viewtime_mean, viewtime_std, RepurchaseRateBy...</td>\n",
       "      <td>0.35</td>\n",
       "      <td>0.79</td>\n",
       "    </tr>\n",
       "    <tr>\n",
       "      <th>5</th>\n",
       "      <td>[viewtime_mean, viewtime_std, RepurchaseRateBy...</td>\n",
       "      <td>0.34</td>\n",
       "      <td>0.79</td>\n",
       "    </tr>\n",
       "    <tr>\n",
       "      <th>6</th>\n",
       "      <td>[viewtime_mean, viewtime_std, RepurchaseRateBy...</td>\n",
       "      <td>0.34</td>\n",
       "      <td>0.79</td>\n",
       "    </tr>\n",
       "    <tr>\n",
       "      <th>7</th>\n",
       "      <td>[viewtime_mean, viewtime_std, RepurchaseRateBy...</td>\n",
       "      <td>0.34</td>\n",
       "      <td>0.78</td>\n",
       "    </tr>\n",
       "    <tr>\n",
       "      <th>8</th>\n",
       "      <td>[viewtime_mean, viewtime_std, RepurchaseRateBy...</td>\n",
       "      <td>0.34</td>\n",
       "      <td>0.79</td>\n",
       "    </tr>\n",
       "    <tr>\n",
       "      <th>9</th>\n",
       "      <td>[viewtime_mean, viewtime_std, RepurchaseRateBy...</td>\n",
       "      <td>0.35</td>\n",
       "      <td>0.79</td>\n",
       "    </tr>\n",
       "    <tr>\n",
       "      <th>10</th>\n",
       "      <td>[viewtime_mean, viewtime_std, RepurchaseRateBy...</td>\n",
       "      <td>0.36</td>\n",
       "      <td>0.79</td>\n",
       "    </tr>\n",
       "    <tr>\n",
       "      <th>11</th>\n",
       "      <td>[viewtime_mean, viewtime_std, RepurchaseRateBy...</td>\n",
       "      <td>0.35</td>\n",
       "      <td>0.79</td>\n",
       "    </tr>\n",
       "    <tr>\n",
       "      <th>12</th>\n",
       "      <td>[viewtime_mean, viewtime_std, RepurchaseRateBy...</td>\n",
       "      <td>0.36</td>\n",
       "      <td>0.80</td>\n",
       "    </tr>\n",
       "    <tr>\n",
       "      <th>13</th>\n",
       "      <td>[viewtime_mean, viewtime_std, RepurchaseRateBy...</td>\n",
       "      <td>0.37</td>\n",
       "      <td>0.80</td>\n",
       "    </tr>\n",
       "    <tr>\n",
       "      <th>14</th>\n",
       "      <td>[viewtime_mean, viewtime_std, RepurchaseRateBy...</td>\n",
       "      <td>0.36</td>\n",
       "      <td>0.80</td>\n",
       "    </tr>\n",
       "    <tr>\n",
       "      <th>15</th>\n",
       "      <td>[viewtime_mean, viewtime_std, RepurchaseRateBy...</td>\n",
       "      <td>0.36</td>\n",
       "      <td>0.80</td>\n",
       "    </tr>\n",
       "    <tr>\n",
       "      <th>16</th>\n",
       "      <td>[viewtime_mean, viewtime_std, RepurchaseRateBy...</td>\n",
       "      <td>0.35</td>\n",
       "      <td>0.80</td>\n",
       "    </tr>\n",
       "    <tr>\n",
       "      <th>17</th>\n",
       "      <td>[viewtime_mean, viewtime_std, RepurchaseRateBy...</td>\n",
       "      <td>0.35</td>\n",
       "      <td>0.80</td>\n",
       "    </tr>\n",
       "    <tr>\n",
       "      <th>18</th>\n",
       "      <td>[viewtime_mean, viewtime_std, RepurchaseRateBy...</td>\n",
       "      <td>0.36</td>\n",
       "      <td>0.80</td>\n",
       "    </tr>\n",
       "    <tr>\n",
       "      <th>19</th>\n",
       "      <td>[viewtime_mean, viewtime_std, RepurchaseRateBy...</td>\n",
       "      <td>0.38</td>\n",
       "      <td>0.80</td>\n",
       "    </tr>\n",
       "    <tr>\n",
       "      <th>20</th>\n",
       "      <td>[viewtime_mean, viewtime_std, RepurchaseRateBy...</td>\n",
       "      <td>0.40</td>\n",
       "      <td>0.81</td>\n",
       "    </tr>\n",
       "    <tr>\n",
       "      <th>21</th>\n",
       "      <td>[viewtime_mean, viewtime_std, RepurchaseRateBy...</td>\n",
       "      <td>0.38</td>\n",
       "      <td>0.80</td>\n",
       "    </tr>\n",
       "    <tr>\n",
       "      <th>22</th>\n",
       "      <td>[viewtime_mean, viewtime_std, RepurchaseRateBy...</td>\n",
       "      <td>0.39</td>\n",
       "      <td>0.80</td>\n",
       "    </tr>\n",
       "    <tr>\n",
       "      <th>23</th>\n",
       "      <td>[viewtime_mean, viewtime_std, RepurchaseRateBy...</td>\n",
       "      <td>0.39</td>\n",
       "      <td>0.81</td>\n",
       "    </tr>\n",
       "    <tr>\n",
       "      <th>24</th>\n",
       "      <td>[viewtime_mean, viewtime_std, RepurchaseRateBy...</td>\n",
       "      <td>0.39</td>\n",
       "      <td>0.80</td>\n",
       "    </tr>\n",
       "    <tr>\n",
       "      <th>25</th>\n",
       "      <td>[viewtime_mean, viewtime_std, RepurchaseRateBy...</td>\n",
       "      <td>0.39</td>\n",
       "      <td>0.81</td>\n",
       "    </tr>\n",
       "    <tr>\n",
       "      <th>26</th>\n",
       "      <td>[viewtime_mean, viewtime_std, RepurchaseRateBy...</td>\n",
       "      <td>0.39</td>\n",
       "      <td>0.81</td>\n",
       "    </tr>\n",
       "    <tr>\n",
       "      <th>27</th>\n",
       "      <td>[viewtime_mean, viewtime_std, RepurchaseRateBy...</td>\n",
       "      <td>0.37</td>\n",
       "      <td>0.81</td>\n",
       "    </tr>\n",
       "    <tr>\n",
       "      <th>28</th>\n",
       "      <td>[viewtime_mean, viewtime_std, RepurchaseRateBy...</td>\n",
       "      <td>0.39</td>\n",
       "      <td>0.80</td>\n",
       "    </tr>\n",
       "  </tbody>\n",
       "</table>\n",
       "</div>"
      ],
      "text/plain": [
       "                                              columns  f1-0  f1-1\n",
       "0                                     [viewtime_mean]  0.20  0.79\n",
       "1                       [viewtime_mean, viewtime_std]  0.23  0.79\n",
       "2   [viewtime_mean, viewtime_std, RepurchaseRateBy...  0.27  0.78\n",
       "3   [viewtime_mean, viewtime_std, RepurchaseRateBy...  0.32  0.78\n",
       "4   [viewtime_mean, viewtime_std, RepurchaseRateBy...  0.35  0.79\n",
       "5   [viewtime_mean, viewtime_std, RepurchaseRateBy...  0.34  0.79\n",
       "6   [viewtime_mean, viewtime_std, RepurchaseRateBy...  0.34  0.79\n",
       "7   [viewtime_mean, viewtime_std, RepurchaseRateBy...  0.34  0.78\n",
       "8   [viewtime_mean, viewtime_std, RepurchaseRateBy...  0.34  0.79\n",
       "9   [viewtime_mean, viewtime_std, RepurchaseRateBy...  0.35  0.79\n",
       "10  [viewtime_mean, viewtime_std, RepurchaseRateBy...  0.36  0.79\n",
       "11  [viewtime_mean, viewtime_std, RepurchaseRateBy...  0.35  0.79\n",
       "12  [viewtime_mean, viewtime_std, RepurchaseRateBy...  0.36  0.80\n",
       "13  [viewtime_mean, viewtime_std, RepurchaseRateBy...  0.37  0.80\n",
       "14  [viewtime_mean, viewtime_std, RepurchaseRateBy...  0.36  0.80\n",
       "15  [viewtime_mean, viewtime_std, RepurchaseRateBy...  0.36  0.80\n",
       "16  [viewtime_mean, viewtime_std, RepurchaseRateBy...  0.35  0.80\n",
       "17  [viewtime_mean, viewtime_std, RepurchaseRateBy...  0.35  0.80\n",
       "18  [viewtime_mean, viewtime_std, RepurchaseRateBy...  0.36  0.80\n",
       "19  [viewtime_mean, viewtime_std, RepurchaseRateBy...  0.38  0.80\n",
       "20  [viewtime_mean, viewtime_std, RepurchaseRateBy...  0.40  0.81\n",
       "21  [viewtime_mean, viewtime_std, RepurchaseRateBy...  0.38  0.80\n",
       "22  [viewtime_mean, viewtime_std, RepurchaseRateBy...  0.39  0.80\n",
       "23  [viewtime_mean, viewtime_std, RepurchaseRateBy...  0.39  0.81\n",
       "24  [viewtime_mean, viewtime_std, RepurchaseRateBy...  0.39  0.80\n",
       "25  [viewtime_mean, viewtime_std, RepurchaseRateBy...  0.39  0.81\n",
       "26  [viewtime_mean, viewtime_std, RepurchaseRateBy...  0.39  0.81\n",
       "27  [viewtime_mean, viewtime_std, RepurchaseRateBy...  0.37  0.81\n",
       "28  [viewtime_mean, viewtime_std, RepurchaseRateBy...  0.39  0.80"
      ]
     },
     "execution_count": 41,
     "metadata": {
      "tags": []
     },
     "output_type": "execute_result"
    }
   ],
   "source": [
    "\n",
    "from sklearn.model_selection import train_test_split\n",
    "from xgboost import XGBClassifier\n",
    "from sklearn.metrics import classification_report\n",
    "from sklearn.model_selection import GridSearchCV\n",
    "\n",
    "import warnings\n",
    "warnings.filterwarnings('ignore')\n",
    "\n",
    "import numpy as np\n",
    "from itertools import combinations\n",
    "\n",
    "col_list = list(np.abs(train_service.corrwith(train_service['Repurchase'])).sort_values(ascending=False).index)\n",
    "col_list.remove('Repurchase')\n",
    "\n",
    "scoreList = []\n",
    "for i in range(1, len(col_list)+1):  \n",
    "  # train_columns_comb = list(combinations(col_list, i))\n",
    "  # for c in train_columns_comb:\n",
    "    train_columns = col_list[:i]\n",
    "    X_train, X_test, y_train, y_test = train_test_split(train_service[train_columns].select_dtypes(['float64', 'int64']), \n",
    "                                                        train_service['Repurchase'], \n",
    "                                                        test_size=0.2, \n",
    "                                                        stratify=train_service['Repurchase'])\n",
    "\n",
    "    xgb_wrapper = XGBClassifier(objective = 'binary:logistic')\n",
    "    params = {\n",
    "        'n_estimators': [300],\n",
    "        'learning_rate' : [0.1],\n",
    "        'max_depth': [20],\n",
    "        'min_samples_split': [1]\n",
    "    }\n",
    "\n",
    "    grid_cv = GridSearchCV(xgb_wrapper, param_grid=params, cv=5, n_jobs=-1, scoring='f1')\n",
    "    grid_cv.fit(X_train, y_train)\n",
    "    pred = grid_cv.best_estimator_.predict(X_test)\n",
    "    # print(grid_cv.best_score_)\n",
    "    # print(grid_cv.best_params_)\n",
    "    # print(train_columns, ':', classification_report(y_test, pred))\n",
    "    print(train_columns, classification_report(y_test, pred).split('\\n')[2].split(' ')[30], classification_report(y_test, pred).split('\\n')[3].split(' ')[30])\n",
    "    scoreList.append([train_columns, classification_report(y_test, pred).split('\\n')[2].split(' ')[30], classification_report(y_test, pred).split('\\n')[3].split(' ')[30]])\n",
    "\n",
    "pd.DataFrame(scoreList, columns=['columns', 'f1-0', 'f1-1'])"
   ]
  },
  {
   "cell_type": "code",
   "execution_count": null,
   "id": "TU6M1SjndNKU",
   "metadata": {
    "id": "TU6M1SjndNKU"
   },
   "outputs": [],
   "source": [
    "resultDf = pd.DataFrame(scoreList, columns=['columns', 'f1-0', 'f1-1'])\n",
    "resultDf.to_csv('result.csv')"
   ]
  },
  {
   "cell_type": "code",
   "execution_count": null,
   "id": "Ad0ydO2tcZ6F",
   "metadata": {
    "id": "Ad0ydO2tcZ6F"
   },
   "outputs": [],
   "source": [
    "train_columns = list(set(train_columns))"
   ]
  },
  {
   "cell_type": "code",
   "execution_count": null,
   "id": "mAUmIqC41kjC",
   "metadata": {
    "colab": {
     "base_uri": "https://localhost:8080/"
    },
    "id": "mAUmIqC41kjC",
    "outputId": "e3759710-466d-4d87-957e-495bd7cc963c"
   },
   "outputs": [
    {
     "name": "stdout",
     "output_type": "stream",
     "text": [
      "0.8005553764411257\n",
      "{'learning_rate': 0.1, 'max_depth': 20, 'min_samples_split': 1, 'n_estimators': 300}\n",
      "              precision    recall  f1-score   support\n",
      "\n",
      "           0       0.53      0.29      0.37      4359\n",
      "           1       0.73      0.88      0.80      9470\n",
      "\n",
      "    accuracy                           0.69     13829\n",
      "   macro avg       0.63      0.58      0.58     13829\n",
      "weighted avg       0.67      0.69      0.66     13829\n",
      "\n"
     ]
    }
   ],
   "source": [
    "from sklearn.model_selection import train_test_split\n",
    "from xgboost import XGBClassifier\n",
    "from sklearn.metrics import classification_report\n",
    "from sklearn.model_selection import GridSearchCV\n",
    "\n",
    "import warnings\n",
    "warnings.filterwarnings('ignore')\n",
    "\n",
    "X_train, X_test, y_train, y_test = train_test_split(train_service_target[train_columns].select_dtypes(['float64', 'int64']), \n",
    "                                                    train_service_target['Repurchase'], \n",
    "                                                    test_size=0.2, \n",
    "                                                    stratify=train_service_target['Repurchase'])\n",
    "\n",
    "xgb_wrapper = XGBClassifier(objective = 'binary:logistic')\n",
    "params = {\n",
    "     'n_estimators': [300],\n",
    "    'learning_rate' : [0.1],\n",
    "    'max_depth': [20],\n",
    "    'min_samples_split': [1]\n",
    "}\n",
    "\n",
    "grid_cv = GridSearchCV(xgb_wrapper, param_grid=params, cv=5, n_jobs=-1, scoring='f1')\n",
    "grid_cv.fit(X_train, y_train)\n",
    "pred = grid_cv.best_estimator_.predict(X_test)\n",
    "print(grid_cv.best_score_)\n",
    "print(grid_cv.best_params_)\n",
    "print(classification_report(y_test, pred))"
   ]
  },
  {
   "cell_type": "code",
   "execution_count": null,
   "id": "RG2kU8K1HRwX",
   "metadata": {
    "colab": {
     "base_uri": "https://localhost:8080/",
     "height": 394
    },
    "id": "RG2kU8K1HRwX",
    "outputId": "3f96d27a-b268-455d-b60b-a33057178738"
   },
   "outputs": [
    {
     "data": {
      "text/html": [
       "<div>\n",
       "<style scoped>\n",
       "    .dataframe tbody tr th:only-of-type {\n",
       "        vertical-align: middle;\n",
       "    }\n",
       "\n",
       "    .dataframe tbody tr th {\n",
       "        vertical-align: top;\n",
       "    }\n",
       "\n",
       "    .dataframe thead th {\n",
       "        text-align: right;\n",
       "    }\n",
       "</style>\n",
       "<table border=\"1\" class=\"dataframe\">\n",
       "  <thead>\n",
       "    <tr style=\"text-align: right;\">\n",
       "      <th></th>\n",
       "      <th>uno</th>\n",
       "      <th>registerdate</th>\n",
       "      <th>enddate</th>\n",
       "      <th>productcode</th>\n",
       "      <th>pgamount</th>\n",
       "      <th>chargetypeid</th>\n",
       "      <th>concurrentwatchcount</th>\n",
       "      <th>promo_100</th>\n",
       "      <th>coinReceived</th>\n",
       "      <th>Repurchase</th>\n",
       "      <th>devicetypeid</th>\n",
       "      <th>isauth</th>\n",
       "      <th>gender</th>\n",
       "      <th>agegroup</th>\n",
       "      <th>tot_view_count</th>\n",
       "      <th>tot_viewtime_sum</th>\n",
       "      <th>tot_viewtime_mean</th>\n",
       "      <th>tot_viewtime_std</th>\n",
       "      <th>view_count</th>\n",
       "      <th>viewtime_sum</th>\n",
       "      <th>viewtime_mean</th>\n",
       "      <th>viewtime_std</th>\n",
       "      <th>RepurchaseRateByProductcode</th>\n",
       "      <th>rateByChargetypeid</th>\n",
       "      <th>devicetype_cnt</th>\n",
       "      <th>pred</th>\n",
       "    </tr>\n",
       "  </thead>\n",
       "  <tbody>\n",
       "    <tr>\n",
       "      <th>0</th>\n",
       "      <td>9c1c04380d3ec71c9ea55cb99ad803ab7c0037a3482b9b...</td>\n",
       "      <td>2021-03-14 16:44:57</td>\n",
       "      <td>2021-04-14 16:44:57</td>\n",
       "      <td>pk_1487</td>\n",
       "      <td>100.0</td>\n",
       "      <td>190</td>\n",
       "      <td>1</td>\n",
       "      <td>1</td>\n",
       "      <td>0</td>\n",
       "      <td>0</td>\n",
       "      <td>mobile</td>\n",
       "      <td>1</td>\n",
       "      <td>F</td>\n",
       "      <td>20</td>\n",
       "      <td>87.0</td>\n",
       "      <td>96890.0</td>\n",
       "      <td>1113.678161</td>\n",
       "      <td>948.960404</td>\n",
       "      <td>87.0</td>\n",
       "      <td>96890.0</td>\n",
       "      <td>15847.277778</td>\n",
       "      <td>11693.723742</td>\n",
       "      <td>0.319453</td>\n",
       "      <td>0.415963</td>\n",
       "      <td>2.0</td>\n",
       "      <td>0</td>\n",
       "    </tr>\n",
       "    <tr>\n",
       "      <th>1</th>\n",
       "      <td>b725d844efdb214963a6ccae004778d0fe40f8a0b5e901...</td>\n",
       "      <td>2021-03-14 21:33:10</td>\n",
       "      <td>2021-04-14 21:33:10</td>\n",
       "      <td>pk_1488</td>\n",
       "      <td>100.0</td>\n",
       "      <td>134</td>\n",
       "      <td>2</td>\n",
       "      <td>1</td>\n",
       "      <td>0</td>\n",
       "      <td>0</td>\n",
       "      <td>android</td>\n",
       "      <td>1</td>\n",
       "      <td>M</td>\n",
       "      <td>35</td>\n",
       "      <td>48.0</td>\n",
       "      <td>24240.0</td>\n",
       "      <td>505.000000</td>\n",
       "      <td>488.684731</td>\n",
       "      <td>41.0</td>\n",
       "      <td>20970.0</td>\n",
       "      <td>5508.378788</td>\n",
       "      <td>3402.540033</td>\n",
       "      <td>0.213888</td>\n",
       "      <td>0.295014</td>\n",
       "      <td>2.0</td>\n",
       "      <td>0</td>\n",
       "    </tr>\n",
       "    <tr>\n",
       "      <th>2</th>\n",
       "      <td>7de6c80c6cb5c5098bbfef8d9da75dfdd338b681d96691...</td>\n",
       "      <td>2021-03-14 10:55:38</td>\n",
       "      <td>2021-04-14 10:55:38</td>\n",
       "      <td>pk_2025</td>\n",
       "      <td>100.0</td>\n",
       "      <td>151</td>\n",
       "      <td>1</td>\n",
       "      <td>1</td>\n",
       "      <td>0</td>\n",
       "      <td>0</td>\n",
       "      <td>android</td>\n",
       "      <td>1</td>\n",
       "      <td>M</td>\n",
       "      <td>40</td>\n",
       "      <td>13.0</td>\n",
       "      <td>9460.0</td>\n",
       "      <td>727.692308</td>\n",
       "      <td>1304.077924</td>\n",
       "      <td>0.0</td>\n",
       "      <td>0.0</td>\n",
       "      <td>0.000000</td>\n",
       "      <td>0.000000</td>\n",
       "      <td>0.293849</td>\n",
       "      <td>0.304445</td>\n",
       "      <td>2.0</td>\n",
       "      <td>1</td>\n",
       "    </tr>\n",
       "    <tr>\n",
       "      <th>3</th>\n",
       "      <td>a5a209071166d24243bf47955ca91bb590a9d3bee46d71...</td>\n",
       "      <td>2021-03-14 00:19:21</td>\n",
       "      <td>2021-04-14 00:19:21</td>\n",
       "      <td>pk_1488</td>\n",
       "      <td>10900.0</td>\n",
       "      <td>190</td>\n",
       "      <td>2</td>\n",
       "      <td>0</td>\n",
       "      <td>0</td>\n",
       "      <td>0</td>\n",
       "      <td>android</td>\n",
       "      <td>0</td>\n",
       "      <td>M</td>\n",
       "      <td>40</td>\n",
       "      <td>151.0</td>\n",
       "      <td>178570.0</td>\n",
       "      <td>1182.582781</td>\n",
       "      <td>1022.527238</td>\n",
       "      <td>147.0</td>\n",
       "      <td>173160.0</td>\n",
       "      <td>20966.731962</td>\n",
       "      <td>16397.213048</td>\n",
       "      <td>0.213888</td>\n",
       "      <td>0.415963</td>\n",
       "      <td>3.0</td>\n",
       "      <td>0</td>\n",
       "    </tr>\n",
       "    <tr>\n",
       "      <th>4</th>\n",
       "      <td>7a6960912bebe03c6e4c770eb1aa91329c3497f18f90ca...</td>\n",
       "      <td>2021-03-14 20:08:31</td>\n",
       "      <td>2021-04-14 20:08:31</td>\n",
       "      <td>pk_1489</td>\n",
       "      <td>100.0</td>\n",
       "      <td>134</td>\n",
       "      <td>4</td>\n",
       "      <td>1</td>\n",
       "      <td>0</td>\n",
       "      <td>0</td>\n",
       "      <td>pc</td>\n",
       "      <td>1</td>\n",
       "      <td>F</td>\n",
       "      <td>20</td>\n",
       "      <td>36.0</td>\n",
       "      <td>27890.0</td>\n",
       "      <td>774.722222</td>\n",
       "      <td>645.660176</td>\n",
       "      <td>33.0</td>\n",
       "      <td>25890.0</td>\n",
       "      <td>7201.818182</td>\n",
       "      <td>4224.081604</td>\n",
       "      <td>0.439507</td>\n",
       "      <td>0.295014</td>\n",
       "      <td>2.0</td>\n",
       "      <td>1</td>\n",
       "    </tr>\n",
       "  </tbody>\n",
       "</table>\n",
       "</div>"
      ],
      "text/plain": [
       "                                                 uno  ... pred\n",
       "0  9c1c04380d3ec71c9ea55cb99ad803ab7c0037a3482b9b...  ...    0\n",
       "1  b725d844efdb214963a6ccae004778d0fe40f8a0b5e901...  ...    0\n",
       "2  7de6c80c6cb5c5098bbfef8d9da75dfdd338b681d96691...  ...    1\n",
       "3  a5a209071166d24243bf47955ca91bb590a9d3bee46d71...  ...    0\n",
       "4  7a6960912bebe03c6e4c770eb1aa91329c3497f18f90ca...  ...    1\n",
       "\n",
       "[5 rows x 26 columns]"
      ]
     },
     "execution_count": 64,
     "metadata": {
      "tags": []
     },
     "output_type": "execute_result"
    }
   ],
   "source": [
    "pred_submission = grid_cv.best_estimator_.predict(predict_service_target[train_columns].select_dtypes(['float64', 'int64']))\n",
    "predict_service_target['pred'] = pred_submission\n",
    "predict_service_target.head()"
   ]
  },
  {
   "cell_type": "markdown",
   "id": "49c53285",
   "metadata": {
    "id": "49c53285"
   },
   "source": [
    "## XGBRFClassifier"
   ]
  },
  {
   "cell_type": "code",
   "execution_count": null,
   "id": "2d5a082e",
   "metadata": {
    "colab": {
     "base_uri": "https://localhost:8080/",
     "height": 375
    },
    "id": "2d5a082e",
    "outputId": "bb6a08bb-5225-4916-8d1a-832a092f29fe"
   },
   "outputs": [
    {
     "ename": "KeyboardInterrupt",
     "evalue": "ignored",
     "output_type": "error",
     "traceback": [
      "\u001b[0;31m---------------------------------------------------------------------------\u001b[0m",
      "\u001b[0;31mKeyboardInterrupt\u001b[0m                         Traceback (most recent call last)",
      "\u001b[0;32m<ipython-input-30-8d3a8a5fcc0b>\u001b[0m in \u001b[0;36m<module>\u001b[0;34m()\u001b[0m\n\u001b[1;32m     25\u001b[0m \u001b[0;34m\u001b[0m\u001b[0m\n\u001b[1;32m     26\u001b[0m \u001b[0mgrid_cv\u001b[0m \u001b[0;34m=\u001b[0m \u001b[0mGridSearchCV\u001b[0m\u001b[0;34m(\u001b[0m\u001b[0mxgb_wrapper\u001b[0m\u001b[0;34m,\u001b[0m \u001b[0mparam_grid\u001b[0m\u001b[0;34m=\u001b[0m\u001b[0mparams\u001b[0m\u001b[0;34m,\u001b[0m \u001b[0mcv\u001b[0m\u001b[0;34m=\u001b[0m\u001b[0;36m5\u001b[0m\u001b[0;34m,\u001b[0m \u001b[0mn_jobs\u001b[0m\u001b[0;34m=\u001b[0m\u001b[0;34m-\u001b[0m\u001b[0;36m1\u001b[0m\u001b[0;34m,\u001b[0m \u001b[0mscoring\u001b[0m\u001b[0;34m=\u001b[0m\u001b[0;34m'f1'\u001b[0m\u001b[0;34m)\u001b[0m\u001b[0;34m\u001b[0m\u001b[0;34m\u001b[0m\u001b[0m\n\u001b[0;32m---> 27\u001b[0;31m \u001b[0mgrid_cv\u001b[0m\u001b[0;34m.\u001b[0m\u001b[0mfit\u001b[0m\u001b[0;34m(\u001b[0m\u001b[0mX_train\u001b[0m\u001b[0;34m,\u001b[0m \u001b[0my_train\u001b[0m\u001b[0;34m)\u001b[0m\u001b[0;34m\u001b[0m\u001b[0;34m\u001b[0m\u001b[0m\n\u001b[0m\u001b[1;32m     28\u001b[0m \u001b[0mpred\u001b[0m \u001b[0;34m=\u001b[0m \u001b[0mgrid_cv\u001b[0m\u001b[0;34m.\u001b[0m\u001b[0mbest_estimator_\u001b[0m\u001b[0;34m.\u001b[0m\u001b[0mpredict\u001b[0m\u001b[0;34m(\u001b[0m\u001b[0mX_test\u001b[0m\u001b[0;34m)\u001b[0m\u001b[0;34m\u001b[0m\u001b[0;34m\u001b[0m\u001b[0m\n\u001b[1;32m     29\u001b[0m \u001b[0mprint\u001b[0m\u001b[0;34m(\u001b[0m\u001b[0mgrid_cv\u001b[0m\u001b[0;34m.\u001b[0m\u001b[0mbest_score_\u001b[0m\u001b[0;34m)\u001b[0m\u001b[0;34m\u001b[0m\u001b[0;34m\u001b[0m\u001b[0m\n",
      "\u001b[0;32m/usr/local/lib/python3.7/dist-packages/sklearn/model_selection/_search.py\u001b[0m in \u001b[0;36mfit\u001b[0;34m(self, X, y, groups, **fit_params)\u001b[0m\n\u001b[1;32m    708\u001b[0m                 \u001b[0;32mreturn\u001b[0m \u001b[0mresults\u001b[0m\u001b[0;34m\u001b[0m\u001b[0;34m\u001b[0m\u001b[0m\n\u001b[1;32m    709\u001b[0m \u001b[0;34m\u001b[0m\u001b[0m\n\u001b[0;32m--> 710\u001b[0;31m             \u001b[0mself\u001b[0m\u001b[0;34m.\u001b[0m\u001b[0m_run_search\u001b[0m\u001b[0;34m(\u001b[0m\u001b[0mevaluate_candidates\u001b[0m\u001b[0;34m)\u001b[0m\u001b[0;34m\u001b[0m\u001b[0;34m\u001b[0m\u001b[0m\n\u001b[0m\u001b[1;32m    711\u001b[0m \u001b[0;34m\u001b[0m\u001b[0m\n\u001b[1;32m    712\u001b[0m         \u001b[0;31m# For multi-metric evaluation, store the best_index_, best_params_ and\u001b[0m\u001b[0;34m\u001b[0m\u001b[0;34m\u001b[0m\u001b[0;34m\u001b[0m\u001b[0m\n",
      "\u001b[0;32m/usr/local/lib/python3.7/dist-packages/sklearn/model_selection/_search.py\u001b[0m in \u001b[0;36m_run_search\u001b[0;34m(self, evaluate_candidates)\u001b[0m\n\u001b[1;32m   1149\u001b[0m     \u001b[0;32mdef\u001b[0m \u001b[0m_run_search\u001b[0m\u001b[0;34m(\u001b[0m\u001b[0mself\u001b[0m\u001b[0;34m,\u001b[0m \u001b[0mevaluate_candidates\u001b[0m\u001b[0;34m)\u001b[0m\u001b[0;34m:\u001b[0m\u001b[0;34m\u001b[0m\u001b[0;34m\u001b[0m\u001b[0m\n\u001b[1;32m   1150\u001b[0m         \u001b[0;34m\"\"\"Search all candidates in param_grid\"\"\"\u001b[0m\u001b[0;34m\u001b[0m\u001b[0;34m\u001b[0m\u001b[0m\n\u001b[0;32m-> 1151\u001b[0;31m         \u001b[0mevaluate_candidates\u001b[0m\u001b[0;34m(\u001b[0m\u001b[0mParameterGrid\u001b[0m\u001b[0;34m(\u001b[0m\u001b[0mself\u001b[0m\u001b[0;34m.\u001b[0m\u001b[0mparam_grid\u001b[0m\u001b[0;34m)\u001b[0m\u001b[0;34m)\u001b[0m\u001b[0;34m\u001b[0m\u001b[0;34m\u001b[0m\u001b[0m\n\u001b[0m\u001b[1;32m   1152\u001b[0m \u001b[0;34m\u001b[0m\u001b[0m\n\u001b[1;32m   1153\u001b[0m \u001b[0;34m\u001b[0m\u001b[0m\n",
      "\u001b[0;32m/usr/local/lib/python3.7/dist-packages/sklearn/model_selection/_search.py\u001b[0m in \u001b[0;36mevaluate_candidates\u001b[0;34m(candidate_params)\u001b[0m\n\u001b[1;32m    687\u001b[0m                                \u001b[0;32mfor\u001b[0m \u001b[0mparameters\u001b[0m\u001b[0;34m,\u001b[0m \u001b[0;34m(\u001b[0m\u001b[0mtrain\u001b[0m\u001b[0;34m,\u001b[0m \u001b[0mtest\u001b[0m\u001b[0;34m)\u001b[0m\u001b[0;34m\u001b[0m\u001b[0;34m\u001b[0m\u001b[0m\n\u001b[1;32m    688\u001b[0m                                in product(candidate_params,\n\u001b[0;32m--> 689\u001b[0;31m                                           cv.split(X, y, groups)))\n\u001b[0m\u001b[1;32m    690\u001b[0m \u001b[0;34m\u001b[0m\u001b[0m\n\u001b[1;32m    691\u001b[0m                 \u001b[0;32mif\u001b[0m \u001b[0mlen\u001b[0m\u001b[0;34m(\u001b[0m\u001b[0mout\u001b[0m\u001b[0;34m)\u001b[0m \u001b[0;34m<\u001b[0m \u001b[0;36m1\u001b[0m\u001b[0;34m:\u001b[0m\u001b[0;34m\u001b[0m\u001b[0;34m\u001b[0m\u001b[0m\n",
      "\u001b[0;32m/usr/local/lib/python3.7/dist-packages/joblib/parallel.py\u001b[0m in \u001b[0;36m__call__\u001b[0;34m(self, iterable)\u001b[0m\n\u001b[1;32m   1052\u001b[0m \u001b[0;34m\u001b[0m\u001b[0m\n\u001b[1;32m   1053\u001b[0m             \u001b[0;32mwith\u001b[0m \u001b[0mself\u001b[0m\u001b[0;34m.\u001b[0m\u001b[0m_backend\u001b[0m\u001b[0;34m.\u001b[0m\u001b[0mretrieval_context\u001b[0m\u001b[0;34m(\u001b[0m\u001b[0;34m)\u001b[0m\u001b[0;34m:\u001b[0m\u001b[0;34m\u001b[0m\u001b[0;34m\u001b[0m\u001b[0m\n\u001b[0;32m-> 1054\u001b[0;31m                 \u001b[0mself\u001b[0m\u001b[0;34m.\u001b[0m\u001b[0mretrieve\u001b[0m\u001b[0;34m(\u001b[0m\u001b[0;34m)\u001b[0m\u001b[0;34m\u001b[0m\u001b[0;34m\u001b[0m\u001b[0m\n\u001b[0m\u001b[1;32m   1055\u001b[0m             \u001b[0;31m# Make sure that we get a last message telling us we are done\u001b[0m\u001b[0;34m\u001b[0m\u001b[0;34m\u001b[0m\u001b[0;34m\u001b[0m\u001b[0m\n\u001b[1;32m   1056\u001b[0m             \u001b[0melapsed_time\u001b[0m \u001b[0;34m=\u001b[0m \u001b[0mtime\u001b[0m\u001b[0;34m.\u001b[0m\u001b[0mtime\u001b[0m\u001b[0;34m(\u001b[0m\u001b[0;34m)\u001b[0m \u001b[0;34m-\u001b[0m \u001b[0mself\u001b[0m\u001b[0;34m.\u001b[0m\u001b[0m_start_time\u001b[0m\u001b[0;34m\u001b[0m\u001b[0;34m\u001b[0m\u001b[0m\n",
      "\u001b[0;32m/usr/local/lib/python3.7/dist-packages/joblib/parallel.py\u001b[0m in \u001b[0;36mretrieve\u001b[0;34m(self)\u001b[0m\n\u001b[1;32m    931\u001b[0m             \u001b[0;32mtry\u001b[0m\u001b[0;34m:\u001b[0m\u001b[0;34m\u001b[0m\u001b[0;34m\u001b[0m\u001b[0m\n\u001b[1;32m    932\u001b[0m                 \u001b[0;32mif\u001b[0m \u001b[0mgetattr\u001b[0m\u001b[0;34m(\u001b[0m\u001b[0mself\u001b[0m\u001b[0;34m.\u001b[0m\u001b[0m_backend\u001b[0m\u001b[0;34m,\u001b[0m \u001b[0;34m'supports_timeout'\u001b[0m\u001b[0;34m,\u001b[0m \u001b[0;32mFalse\u001b[0m\u001b[0;34m)\u001b[0m\u001b[0;34m:\u001b[0m\u001b[0;34m\u001b[0m\u001b[0;34m\u001b[0m\u001b[0m\n\u001b[0;32m--> 933\u001b[0;31m                     \u001b[0mself\u001b[0m\u001b[0;34m.\u001b[0m\u001b[0m_output\u001b[0m\u001b[0;34m.\u001b[0m\u001b[0mextend\u001b[0m\u001b[0;34m(\u001b[0m\u001b[0mjob\u001b[0m\u001b[0;34m.\u001b[0m\u001b[0mget\u001b[0m\u001b[0;34m(\u001b[0m\u001b[0mtimeout\u001b[0m\u001b[0;34m=\u001b[0m\u001b[0mself\u001b[0m\u001b[0;34m.\u001b[0m\u001b[0mtimeout\u001b[0m\u001b[0;34m)\u001b[0m\u001b[0;34m)\u001b[0m\u001b[0;34m\u001b[0m\u001b[0;34m\u001b[0m\u001b[0m\n\u001b[0m\u001b[1;32m    934\u001b[0m                 \u001b[0;32melse\u001b[0m\u001b[0;34m:\u001b[0m\u001b[0;34m\u001b[0m\u001b[0;34m\u001b[0m\u001b[0m\n\u001b[1;32m    935\u001b[0m                     \u001b[0mself\u001b[0m\u001b[0;34m.\u001b[0m\u001b[0m_output\u001b[0m\u001b[0;34m.\u001b[0m\u001b[0mextend\u001b[0m\u001b[0;34m(\u001b[0m\u001b[0mjob\u001b[0m\u001b[0;34m.\u001b[0m\u001b[0mget\u001b[0m\u001b[0;34m(\u001b[0m\u001b[0;34m)\u001b[0m\u001b[0;34m)\u001b[0m\u001b[0;34m\u001b[0m\u001b[0;34m\u001b[0m\u001b[0m\n",
      "\u001b[0;32m/usr/local/lib/python3.7/dist-packages/joblib/_parallel_backends.py\u001b[0m in \u001b[0;36mwrap_future_result\u001b[0;34m(future, timeout)\u001b[0m\n\u001b[1;32m    540\u001b[0m         AsyncResults.get from multiprocessing.\"\"\"\n\u001b[1;32m    541\u001b[0m         \u001b[0;32mtry\u001b[0m\u001b[0;34m:\u001b[0m\u001b[0;34m\u001b[0m\u001b[0;34m\u001b[0m\u001b[0m\n\u001b[0;32m--> 542\u001b[0;31m             \u001b[0;32mreturn\u001b[0m \u001b[0mfuture\u001b[0m\u001b[0;34m.\u001b[0m\u001b[0mresult\u001b[0m\u001b[0;34m(\u001b[0m\u001b[0mtimeout\u001b[0m\u001b[0;34m=\u001b[0m\u001b[0mtimeout\u001b[0m\u001b[0;34m)\u001b[0m\u001b[0;34m\u001b[0m\u001b[0;34m\u001b[0m\u001b[0m\n\u001b[0m\u001b[1;32m    543\u001b[0m         \u001b[0;32mexcept\u001b[0m \u001b[0mCfTimeoutError\u001b[0m \u001b[0;32mas\u001b[0m \u001b[0me\u001b[0m\u001b[0;34m:\u001b[0m\u001b[0;34m\u001b[0m\u001b[0;34m\u001b[0m\u001b[0m\n\u001b[1;32m    544\u001b[0m             \u001b[0;32mraise\u001b[0m \u001b[0mTimeoutError\u001b[0m \u001b[0;32mfrom\u001b[0m \u001b[0me\u001b[0m\u001b[0;34m\u001b[0m\u001b[0;34m\u001b[0m\u001b[0m\n",
      "\u001b[0;32m/usr/lib/python3.7/concurrent/futures/_base.py\u001b[0m in \u001b[0;36mresult\u001b[0;34m(self, timeout)\u001b[0m\n\u001b[1;32m    428\u001b[0m                 \u001b[0;32mreturn\u001b[0m \u001b[0mself\u001b[0m\u001b[0;34m.\u001b[0m\u001b[0m__get_result\u001b[0m\u001b[0;34m(\u001b[0m\u001b[0;34m)\u001b[0m\u001b[0;34m\u001b[0m\u001b[0;34m\u001b[0m\u001b[0m\n\u001b[1;32m    429\u001b[0m \u001b[0;34m\u001b[0m\u001b[0m\n\u001b[0;32m--> 430\u001b[0;31m             \u001b[0mself\u001b[0m\u001b[0;34m.\u001b[0m\u001b[0m_condition\u001b[0m\u001b[0;34m.\u001b[0m\u001b[0mwait\u001b[0m\u001b[0;34m(\u001b[0m\u001b[0mtimeout\u001b[0m\u001b[0;34m)\u001b[0m\u001b[0;34m\u001b[0m\u001b[0;34m\u001b[0m\u001b[0m\n\u001b[0m\u001b[1;32m    431\u001b[0m \u001b[0;34m\u001b[0m\u001b[0m\n\u001b[1;32m    432\u001b[0m             \u001b[0;32mif\u001b[0m \u001b[0mself\u001b[0m\u001b[0;34m.\u001b[0m\u001b[0m_state\u001b[0m \u001b[0;32min\u001b[0m \u001b[0;34m[\u001b[0m\u001b[0mCANCELLED\u001b[0m\u001b[0;34m,\u001b[0m \u001b[0mCANCELLED_AND_NOTIFIED\u001b[0m\u001b[0;34m]\u001b[0m\u001b[0;34m:\u001b[0m\u001b[0;34m\u001b[0m\u001b[0;34m\u001b[0m\u001b[0m\n",
      "\u001b[0;32m/usr/lib/python3.7/threading.py\u001b[0m in \u001b[0;36mwait\u001b[0;34m(self, timeout)\u001b[0m\n\u001b[1;32m    294\u001b[0m         \u001b[0;32mtry\u001b[0m\u001b[0;34m:\u001b[0m    \u001b[0;31m# restore state no matter what (e.g., KeyboardInterrupt)\u001b[0m\u001b[0;34m\u001b[0m\u001b[0;34m\u001b[0m\u001b[0m\n\u001b[1;32m    295\u001b[0m             \u001b[0;32mif\u001b[0m \u001b[0mtimeout\u001b[0m \u001b[0;32mis\u001b[0m \u001b[0;32mNone\u001b[0m\u001b[0;34m:\u001b[0m\u001b[0;34m\u001b[0m\u001b[0;34m\u001b[0m\u001b[0m\n\u001b[0;32m--> 296\u001b[0;31m                 \u001b[0mwaiter\u001b[0m\u001b[0;34m.\u001b[0m\u001b[0macquire\u001b[0m\u001b[0;34m(\u001b[0m\u001b[0;34m)\u001b[0m\u001b[0;34m\u001b[0m\u001b[0;34m\u001b[0m\u001b[0m\n\u001b[0m\u001b[1;32m    297\u001b[0m                 \u001b[0mgotit\u001b[0m \u001b[0;34m=\u001b[0m \u001b[0;32mTrue\u001b[0m\u001b[0;34m\u001b[0m\u001b[0;34m\u001b[0m\u001b[0m\n\u001b[1;32m    298\u001b[0m             \u001b[0;32melse\u001b[0m\u001b[0;34m:\u001b[0m\u001b[0;34m\u001b[0m\u001b[0;34m\u001b[0m\u001b[0m\n",
      "\u001b[0;31mKeyboardInterrupt\u001b[0m: "
     ]
    }
   ],
   "source": [
    "from sklearn.model_selection import train_test_split\n",
    "from xgboost import XGBRFClassifier\n",
    "from sklearn.metrics import classification_report\n",
    "from sklearn.model_selection import GridSearchCV\n",
    "\n",
    "import warnings\n",
    "warnings.filterwarnings('ignore')\n",
    "\n",
    "X_train, X_test, y_train, y_test = train_test_split(train_service[train_columns].select_dtypes(['float64', 'int64']), \n",
    "                                                    train_service['Repurchase'], \n",
    "                                                    test_size=0.2, \n",
    "                                                    stratify=train_service['Repurchase'])\n",
    "\n",
    "# xgb_wrapper = XGBRFClassifier(n_estimators=400, learning_rate=0.1, max_depth=15)\n",
    "# xgb_wrapper.fit(X_train, y_train)\n",
    "# pred = xgb_wrapper.predict(X_test)\n",
    "\n",
    "xgb_wrapper = XGBRFClassifier(objective = 'binary:logistic')\n",
    "params = {\n",
    "     'n_estimators': [300],\n",
    "    'learning_rate' : [0.1],\n",
    "    'max_depth': [20],\n",
    "    'min_samples_split': [1, 2, 3, 4, 5]\n",
    "}\n",
    "\n",
    "grid_cv = GridSearchCV(xgb_wrapper, param_grid=params, cv=5, n_jobs=-1, scoring='f1')\n",
    "grid_cv.fit(X_train, y_train)\n",
    "pred = grid_cv.best_estimator_.predict(X_test)\n",
    "print(grid_cv.best_score_)\n",
    "print(grid_cv.best_params_)\n",
    "print(classification_report(y_test, pred))"
   ]
  },
  {
   "cell_type": "code",
   "execution_count": null,
   "id": "1H0rKEOi1udW",
   "metadata": {
    "colab": {
     "base_uri": "https://localhost:8080/"
    },
    "id": "1H0rKEOi1udW",
    "outputId": "820aaeca-071e-4300-d7b7-5730495c78e9"
   },
   "outputs": [
    {
     "name": "stdout",
     "output_type": "stream",
     "text": [
      "0.3603004609184606\n",
      "{'learning_rate': 0.1, 'max_depth': 20, 'min_samples_split': 1, 'n_estimators': 300}\n",
      "              precision    recall  f1-score   support\n",
      "\n",
      "           0       0.73      0.91      0.81      9470\n",
      "           1       0.59      0.28      0.38      4359\n",
      "\n",
      "    accuracy                           0.71     13829\n",
      "   macro avg       0.66      0.59      0.59     13829\n",
      "weighted avg       0.69      0.71      0.67     13829\n",
      "\n"
     ]
    }
   ],
   "source": [
    "from sklearn.model_selection import train_test_split\n",
    "from xgboost import XGBRFClassifier\n",
    "from sklearn.metrics import classification_report\n",
    "from sklearn.model_selection import GridSearchCV\n",
    "\n",
    "import warnings\n",
    "warnings.filterwarnings('ignore')\n",
    "\n",
    "X_train, X_test, y_train, y_test = train_test_split(train_service_target[train_columns].select_dtypes(['float64', 'int64']), \n",
    "                                                    train_service_target['Repurchase'], \n",
    "                                                    test_size=0.2, \n",
    "                                                    stratify=train_service_target['Repurchase'])\n",
    "\n",
    "# xgb_wrapper = XGBRFClassifier(n_estimators=400, learning_rate=0.1, max_depth=15)\n",
    "# xgb_wrapper.fit(X_train, y_train)\n",
    "# pred = xgb_wrapper.predict(X_test)\n",
    "\n",
    "xgb_wrapper = XGBRFClassifier(objective = 'binary:logistic')\n",
    "params = {\n",
    "     'n_estimators': [300],\n",
    "    'learning_rate' : [0.1],\n",
    "    'max_depth': [20],\n",
    "    'min_samples_split': [1]\n",
    "}\n",
    "\n",
    "grid_cv = GridSearchCV(xgb_wrapper, param_grid=params, cv=5, n_jobs=-1, scoring='f1')\n",
    "grid_cv.fit(X_train, y_train)\n",
    "pred = grid_cv.best_estimator_.predict(X_test)\n",
    "print(grid_cv.best_score_)\n",
    "print(grid_cv.best_params_)\n",
    "print(classification_report(y_test, pred))"
   ]
  },
  {
   "cell_type": "code",
   "execution_count": null,
   "id": "bCpXD62LiAiU",
   "metadata": {
    "colab": {
     "base_uri": "https://localhost:8080/"
    },
    "id": "bCpXD62LiAiU",
    "outputId": "761e1a52-83d4-4979-fb7d-27b30da48fda"
   },
   "outputs": [
    {
     "data": {
      "text/plain": [
       "(290, 27)"
      ]
     },
     "execution_count": 53,
     "metadata": {
      "tags": []
     },
     "output_type": "execute_result"
    }
   ],
   "source": [
    "predict_service.shape"
   ]
  },
  {
   "cell_type": "code",
   "execution_count": null,
   "id": "dbb6eb98",
   "metadata": {
    "colab": {
     "base_uri": "https://localhost:8080/",
     "height": 394
    },
    "id": "dbb6eb98",
    "outputId": "f8a9409e-d3f9-4f8e-8ff5-105f78509e22",
    "scrolled": true
   },
   "outputs": [
    {
     "data": {
      "text/html": [
       "<div>\n",
       "<style scoped>\n",
       "    .dataframe tbody tr th:only-of-type {\n",
       "        vertical-align: middle;\n",
       "    }\n",
       "\n",
       "    .dataframe tbody tr th {\n",
       "        vertical-align: top;\n",
       "    }\n",
       "\n",
       "    .dataframe thead th {\n",
       "        text-align: right;\n",
       "    }\n",
       "</style>\n",
       "<table border=\"1\" class=\"dataframe\">\n",
       "  <thead>\n",
       "    <tr style=\"text-align: right;\">\n",
       "      <th></th>\n",
       "      <th>uno</th>\n",
       "      <th>registerdate</th>\n",
       "      <th>enddate</th>\n",
       "      <th>productcode</th>\n",
       "      <th>pgamount</th>\n",
       "      <th>chargetypeid</th>\n",
       "      <th>concurrentwatchcount</th>\n",
       "      <th>promo_100</th>\n",
       "      <th>coinReceived</th>\n",
       "      <th>Repurchase</th>\n",
       "      <th>devicetypeid</th>\n",
       "      <th>isauth</th>\n",
       "      <th>gender</th>\n",
       "      <th>agegroup</th>\n",
       "      <th>tot_view_count</th>\n",
       "      <th>tot_viewtime_sum</th>\n",
       "      <th>tot_viewtime_mean</th>\n",
       "      <th>tot_viewtime_std</th>\n",
       "      <th>view_count</th>\n",
       "      <th>viewtime_sum</th>\n",
       "      <th>viewtime_mean</th>\n",
       "      <th>viewtime_std</th>\n",
       "      <th>RepurchaseRateByProductcode</th>\n",
       "      <th>rateByChargetypeid</th>\n",
       "      <th>devicetype_cnt</th>\n",
       "      <th>pred</th>\n",
       "    </tr>\n",
       "  </thead>\n",
       "  <tbody>\n",
       "    <tr>\n",
       "      <th>0</th>\n",
       "      <td>9c1c04380d3ec71c9ea55cb99ad803ab7c0037a3482b9b...</td>\n",
       "      <td>2021-03-14 16:44:57</td>\n",
       "      <td>2021-04-14 16:44:57</td>\n",
       "      <td>pk_1487</td>\n",
       "      <td>100.0</td>\n",
       "      <td>190</td>\n",
       "      <td>1</td>\n",
       "      <td>1</td>\n",
       "      <td>0</td>\n",
       "      <td>NaN</td>\n",
       "      <td>mobile</td>\n",
       "      <td>1</td>\n",
       "      <td>F</td>\n",
       "      <td>20</td>\n",
       "      <td>87.0</td>\n",
       "      <td>96890.0</td>\n",
       "      <td>1113.678161</td>\n",
       "      <td>948.960404</td>\n",
       "      <td>87.0</td>\n",
       "      <td>96890.0</td>\n",
       "      <td>1113.678161</td>\n",
       "      <td>948.960404</td>\n",
       "      <td>0.317885</td>\n",
       "      <td>0.429221</td>\n",
       "      <td>2</td>\n",
       "      <td>0</td>\n",
       "    </tr>\n",
       "    <tr>\n",
       "      <th>1</th>\n",
       "      <td>0c8318c090133aa5e354b88ebfe3d392e226d919a3e5e7...</td>\n",
       "      <td>2021-03-13 12:41:42</td>\n",
       "      <td>2021-04-13 12:41:42</td>\n",
       "      <td>pk_1487</td>\n",
       "      <td>100.0</td>\n",
       "      <td>190</td>\n",
       "      <td>1</td>\n",
       "      <td>1</td>\n",
       "      <td>0</td>\n",
       "      <td>NaN</td>\n",
       "      <td>pc</td>\n",
       "      <td>1</td>\n",
       "      <td>M</td>\n",
       "      <td>40</td>\n",
       "      <td>89.0</td>\n",
       "      <td>113730.0</td>\n",
       "      <td>842.444444</td>\n",
       "      <td>809.227074</td>\n",
       "      <td>135.0</td>\n",
       "      <td>113730.0</td>\n",
       "      <td>842.444444</td>\n",
       "      <td>809.227074</td>\n",
       "      <td>0.317885</td>\n",
       "      <td>0.429221</td>\n",
       "      <td>4</td>\n",
       "      <td>0</td>\n",
       "    </tr>\n",
       "    <tr>\n",
       "      <th>2</th>\n",
       "      <td>f4fbd206eb9c6bee476a2d25b16a18eaaa05690b48a6de...</td>\n",
       "      <td>2021-03-13 22:13:29</td>\n",
       "      <td>2021-04-13 22:13:29</td>\n",
       "      <td>pk_1487</td>\n",
       "      <td>7900.0</td>\n",
       "      <td>190</td>\n",
       "      <td>1</td>\n",
       "      <td>0</td>\n",
       "      <td>0</td>\n",
       "      <td>NaN</td>\n",
       "      <td>android</td>\n",
       "      <td>1</td>\n",
       "      <td>F</td>\n",
       "      <td>20</td>\n",
       "      <td>74.0</td>\n",
       "      <td>87090.0</td>\n",
       "      <td>1131.038961</td>\n",
       "      <td>893.061830</td>\n",
       "      <td>77.0</td>\n",
       "      <td>87090.0</td>\n",
       "      <td>1131.038961</td>\n",
       "      <td>893.061830</td>\n",
       "      <td>0.317885</td>\n",
       "      <td>0.429221</td>\n",
       "      <td>2</td>\n",
       "      <td>0</td>\n",
       "    </tr>\n",
       "    <tr>\n",
       "      <th>3</th>\n",
       "      <td>b50bc7481c7a916afca744f4adf5d1fb48b6096c9592a4...</td>\n",
       "      <td>2021-03-14 04:30:56</td>\n",
       "      <td>2021-04-14 04:30:56</td>\n",
       "      <td>pk_1487</td>\n",
       "      <td>100.0</td>\n",
       "      <td>190</td>\n",
       "      <td>1</td>\n",
       "      <td>1</td>\n",
       "      <td>0</td>\n",
       "      <td>NaN</td>\n",
       "      <td>mobile</td>\n",
       "      <td>1</td>\n",
       "      <td>F</td>\n",
       "      <td>30</td>\n",
       "      <td>14.0</td>\n",
       "      <td>19890.0</td>\n",
       "      <td>1420.714286</td>\n",
       "      <td>1092.312045</td>\n",
       "      <td>14.0</td>\n",
       "      <td>19890.0</td>\n",
       "      <td>1420.714286</td>\n",
       "      <td>1092.312045</td>\n",
       "      <td>0.317885</td>\n",
       "      <td>0.429221</td>\n",
       "      <td>3</td>\n",
       "      <td>0</td>\n",
       "    </tr>\n",
       "    <tr>\n",
       "      <th>4</th>\n",
       "      <td>abbdfb282e09f9b9a1fa43ced47806f15cb7e65cde4e19...</td>\n",
       "      <td>2021-03-14 07:35:31</td>\n",
       "      <td>2021-04-14 07:35:31</td>\n",
       "      <td>pk_1487</td>\n",
       "      <td>100.0</td>\n",
       "      <td>190</td>\n",
       "      <td>1</td>\n",
       "      <td>1</td>\n",
       "      <td>0</td>\n",
       "      <td>NaN</td>\n",
       "      <td>mobile</td>\n",
       "      <td>1</td>\n",
       "      <td>M</td>\n",
       "      <td>20</td>\n",
       "      <td>27.0</td>\n",
       "      <td>26320.0</td>\n",
       "      <td>974.814815</td>\n",
       "      <td>850.363589</td>\n",
       "      <td>27.0</td>\n",
       "      <td>26320.0</td>\n",
       "      <td>974.814815</td>\n",
       "      <td>850.363589</td>\n",
       "      <td>0.317885</td>\n",
       "      <td>0.429221</td>\n",
       "      <td>2</td>\n",
       "      <td>0</td>\n",
       "    </tr>\n",
       "  </tbody>\n",
       "</table>\n",
       "</div>"
      ],
      "text/plain": [
       "                                                 uno  ... pred\n",
       "0  9c1c04380d3ec71c9ea55cb99ad803ab7c0037a3482b9b...  ...    0\n",
       "1  0c8318c090133aa5e354b88ebfe3d392e226d919a3e5e7...  ...    0\n",
       "2  f4fbd206eb9c6bee476a2d25b16a18eaaa05690b48a6de...  ...    0\n",
       "3  b50bc7481c7a916afca744f4adf5d1fb48b6096c9592a4...  ...    0\n",
       "4  abbdfb282e09f9b9a1fa43ced47806f15cb7e65cde4e19...  ...    0\n",
       "\n",
       "[5 rows x 26 columns]"
      ]
     },
     "execution_count": 41,
     "metadata": {
      "tags": []
     },
     "output_type": "execute_result"
    }
   ],
   "source": [
    "pred_submission = grid_cv.best_estimator_.predict(predict_service[train_columns].select_dtypes(['float64', 'int64']))\n",
    "predict_service['pred'] = pred_submission\n",
    "predict_service.head()"
   ]
  },
  {
   "cell_type": "markdown",
   "id": "aiz3Gd-YrNd8",
   "metadata": {
    "id": "aiz3Gd-YrNd8"
   },
   "source": [
    "## Voting"
   ]
  },
  {
   "cell_type": "code",
   "execution_count": null,
   "id": "CaeE6UndrPKt",
   "metadata": {
    "colab": {
     "base_uri": "https://localhost:8080/"
    },
    "id": "CaeE6UndrPKt",
    "outputId": "8857d2f0-524a-4db6-e64c-ec484c5dea6c"
   },
   "outputs": [
    {
     "name": "stdout",
     "output_type": "stream",
     "text": [
      "              precision    recall  f1-score   support\n",
      "\n",
      "           0       0.63      0.21      0.31      4210\n",
      "           1       0.72      0.94      0.82      9082\n",
      "\n",
      "    accuracy                           0.71     13292\n",
      "   macro avg       0.67      0.57      0.56     13292\n",
      "weighted avg       0.69      0.71      0.66     13292\n",
      "\n"
     ]
    }
   ],
   "source": [
    "import pandas as pd\n",
    "\n",
    "from sklearn.ensemble import VotingClassifier\n",
    "from sklearn.linear_model import LogisticRegression\n",
    "from sklearn.neighbors import KNeighborsClassifier\n",
    "from sklearn.ensemble import RandomForestClassifier\n",
    "from sklearn.tree import DecisionTreeClassifier\n",
    "from xgboost import XGBClassifier\n",
    "from sklearn.metrics import classification_report\n",
    "from sklearn.model_selection import GridSearchCV\n",
    "\n",
    "import warnings\n",
    "warnings.filterwarnings('ignore')\n",
    "\n",
    "X_train, X_test, y_train, y_test = train_test_split(train_service[train_columns].select_dtypes(['float64', 'int64']), \n",
    "                                                    train_service['Repurchase'], \n",
    "                                                    test_size=0.2, \n",
    "                                                    stratify=train_service['Repurchase'])\n",
    "\n",
    "lr_clf = LogisticRegression()\n",
    "knn_clf = KNeighborsClassifier(n_neighbors=8)\n",
    "rf_clf = RandomForestClassifier()\n",
    "xgv_clf = XGBClassifier(n_estimators=300, learning_rate=0.1, max_depth=20, min_samples_split=1)\n",
    "vo_clf = VotingClassifier(estimators=[('LR', lr_clf), ('KNN', knn_clf), ('RF', rf_clf), ('XGB', xgv_clf)], voting='soft')\n",
    "\n",
    "vo_clf.fit(X_train, y_train)\n",
    "pred = vo_clf.predict(X_test)\n",
    "\n",
    "print(classification_report(y_test, pred))\n"
   ]
  },
  {
   "cell_type": "markdown",
   "id": "8145e215",
   "metadata": {
    "id": "8145e215"
   },
   "source": [
    "# Submission"
   ]
  },
  {
   "cell_type": "code",
   "execution_count": null,
   "id": "9e9c4a88",
   "metadata": {
    "colab": {
     "base_uri": "https://localhost:8080/"
    },
    "id": "9e9c4a88",
    "outputId": "aa18ae1c-a29a-4e1c-baa2-ea242ab235d1"
   },
   "outputs": [
    {
     "name": "stdout",
     "output_type": "stream",
     "text": [
      "<class 'pandas.core.frame.DataFrame'>\n",
      "RangeIndex: 18753 entries, 0 to 18752\n",
      "Data columns (total 1 columns):\n",
      " #   Column  Non-Null Count  Dtype \n",
      "---  ------  --------------  ----- \n",
      " 0   KEY     18753 non-null  object\n",
      "dtypes: object(1)\n",
      "memory usage: 146.6+ KB\n"
     ]
    }
   ],
   "source": [
    "# 결과 제출 답안지 불러오기\n",
    "predict_service['Churn'] = predict_service['pred'].apply(lambda x: 0 if x==1 else 1)\n",
    "# predict_service['Churn'] = predict_service['pred']\n",
    "\n",
    "ds_sheet = \"/content/drive/MyDrive/SK_AI/CDS_submission.csv\"\n",
    "df_sheet = pd.read_csv(ds_sheet)\n",
    "df_sheet.drop('CHURN', axis=1, inplace=True)\n",
    "df_sheet.info()\n",
    "\n",
    "# 답안지에 답안 표기\n",
    "df_result = predict_service.loc[:,('uno','registerdate','productcode')]\n",
    "df_result['KEY']   = df_result['uno'] + '|' + df_result['registerdate'].dt.strftime('%y-%m-%d %I:%M:%S') + '|' + df_result['productcode']   # 판다스 strftime()\n",
    "df_result['CHURN'] = predict_service['Churn']\n",
    "df_result = df_result.loc[:,('KEY','CHURN')]\n",
    "df_answer_sheet = pd.merge(df_sheet, df_result, on='KEY', how='left')\n",
    "df_answer_sheet['CHURN'] = df_answer_sheet['CHURN'].apply(int)\n",
    "\n",
    "# 답안지 제출 파일 생성하기\n",
    "ds_answer_sheet = \"CDS_submission_XGBRFClassifier.csv\"\n",
    "df_answer_sheet.to_csv(ds_answer_sheet, index=False, encoding='utf8')"
   ]
  }
 ],
 "metadata": {
  "colab": {
   "collapsed_sections": [
    "52bc27f0",
    "8ebec82d",
    "3b706d11",
    "2f553edc",
    "uWDKoeJg_n_9",
    "uIcky35NP5gW",
    "78861d2e",
    "049c7304",
    "16e26f3e",
    "14bcbace",
    "6658cdff",
    "fa52ec77",
    "e44c6551",
    "5395e901",
    "49c53285",
    "aiz3Gd-YrNd8"
   ],
   "name": "해지예측.ipynb",
   "provenance": [],
   "toc_visible": true
  },
  "kernelspec": {
   "display_name": "Python 3 (ipykernel)",
   "language": "python",
   "name": "python3"
  },
  "language_info": {
   "codemirror_mode": {
    "name": "ipython",
    "version": 3
   },
   "file_extension": ".py",
   "mimetype": "text/x-python",
   "name": "python",
   "nbconvert_exporter": "python",
   "pygments_lexer": "ipython3",
   "version": "3.9.7"
  },
  "toc": {
   "base_numbering": 1,
   "nav_menu": {},
   "number_sections": true,
   "sideBar": true,
   "skip_h1_title": false,
   "title_cell": "Table of Contents",
   "title_sidebar": "Contents",
   "toc_cell": false,
   "toc_position": {
    "height": "calc(100% - 180px)",
    "left": "10px",
    "top": "150px",
    "width": "269.188px"
   },
   "toc_section_display": true,
   "toc_window_display": true
  },
  "varInspector": {
   "cols": {
    "lenName": 16,
    "lenType": 16,
    "lenVar": 40
   },
   "kernels_config": {
    "python": {
     "delete_cmd_postfix": "",
     "delete_cmd_prefix": "del ",
     "library": "var_list.py",
     "varRefreshCmd": "print(var_dic_list())"
    },
    "r": {
     "delete_cmd_postfix": ") ",
     "delete_cmd_prefix": "rm(",
     "library": "var_list.r",
     "varRefreshCmd": "cat(var_dic_list()) "
    }
   },
   "types_to_exclude": [
    "module",
    "function",
    "builtin_function_or_method",
    "instance",
    "_Feature"
   ],
   "window_display": false
  }
 },
 "nbformat": 4,
 "nbformat_minor": 5
}
