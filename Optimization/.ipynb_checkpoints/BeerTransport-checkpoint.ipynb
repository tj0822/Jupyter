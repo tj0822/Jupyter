{
 "cells": [
  {
   "cell_type": "code",
   "execution_count": 14,
   "metadata": {},
   "outputs": [
    {
     "data": {
      "text/html": [
       "<div>\n",
       "<style scoped>\n",
       "    .dataframe tbody tr th:only-of-type {\n",
       "        vertical-align: middle;\n",
       "    }\n",
       "\n",
       "    .dataframe tbody tr th {\n",
       "        vertical-align: top;\n",
       "    }\n",
       "\n",
       "    .dataframe thead th {\n",
       "        text-align: right;\n",
       "    }\n",
       "</style>\n",
       "<table border=\"1\" class=\"dataframe\">\n",
       "  <thead>\n",
       "    <tr style=\"text-align: right;\">\n",
       "      <th></th>\n",
       "      <th>Amsterdam</th>\n",
       "      <th>Berda</th>\n",
       "      <th>Gouda</th>\n",
       "      <th>Amesfoort</th>\n",
       "      <th>Den Bosch</th>\n",
       "    </tr>\n",
       "  </thead>\n",
       "  <tbody>\n",
       "    <tr>\n",
       "      <th>Haarlem</th>\n",
       "      <td>131</td>\n",
       "      <td>405</td>\n",
       "      <td>188</td>\n",
       "      <td>396</td>\n",
       "      <td>485</td>\n",
       "    </tr>\n",
       "    <tr>\n",
       "      <th>Eindhoven</th>\n",
       "      <td>554</td>\n",
       "      <td>351</td>\n",
       "      <td>479</td>\n",
       "      <td>366</td>\n",
       "      <td>155</td>\n",
       "    </tr>\n",
       "  </tbody>\n",
       "</table>\n",
       "</div>"
      ],
      "text/plain": [
       "           Amsterdam  Berda  Gouda  Amesfoort  Den Bosch\n",
       "Haarlem          131    405    188        396        485\n",
       "Eindhoven        554    351    479        366        155"
      ]
     },
     "execution_count": 14,
     "metadata": {},
     "output_type": "execute_result"
    }
   ],
   "source": [
    "from scipy.optimize import linprog\n",
    "import pandas as pd\n",
    "import numpy as np\n",
    "\n",
    "Plants = ['Haarlem', 'Eindhoven']\n",
    "Supply = [47, 64]\n",
    "\n",
    "Customer = ['Amsterdam', 'Berda', 'Gouda', 'Amesfoort', 'Den Bosch']\n",
    "Demand = [28, 16, 22, 31, 12]\n",
    "\n",
    "UnitCost = [131, 405, 188, 396, 485, 554, 351, 479, 366, 155]\n",
    "pd.DataFrame(np.array(UnitCost).reshape(2, 5), index=Plants, columns=Customer)"
   ]
  },
  {
   "cell_type": "code",
   "execution_count": 29,
   "metadata": {},
   "outputs": [
    {
     "data": {
      "text/plain": [
       "[-131, -405, -188, -396, -485, -554, -351, -479, -366, -155]"
      ]
     },
     "execution_count": 29,
     "metadata": {},
     "output_type": "execute_result"
    }
   ],
   "source": [
    "list(map(lambda x: x*-1,  UnitCost))"
   ]
  },
  {
   "cell_type": "code",
   "execution_count": 12,
   "metadata": {},
   "outputs": [
    {
     "data": {
      "text/plain": [
       "     con: array([], dtype=float64)\n",
       "     fun: 27498.998839569253\n",
       " message: 'Optimization terminated successfully.'\n",
       "     nit: 6\n",
       "   slack: array([ 2.03414120e-06,  1.00000257e+00, -1.24991516e-06, -6.56043031e-07,\n",
       "       -9.62624373e-07, -1.39223645e-06, -3.38812891e-07])\n",
       "  status: 0\n",
       " success: True\n",
       "       x: array([2.79999986e+01, 1.44280409e-08, 1.89999993e+01, 1.27004274e-08,\n",
       "       9.40494079e-09, 1.03379557e-07, 1.59999993e+01, 2.99999975e+00,\n",
       "       3.09999986e+01, 1.19999997e+01])"
      ]
     },
     "execution_count": 12,
     "metadata": {},
     "output_type": "execute_result"
    }
   ],
   "source": [
    "c = list(map(lambda x: x,  UnitCost))\n",
    "A = [[1, 1, 1, 1, 1, 0, 0, 0, 0, 0],\n",
    "     [0, 0, 0, 0, 0, 1, 1, 1, 1, 1] ,\n",
    "     [-1, 0, 0, 0, 0, -1, 0, 0, 0, 0],\n",
    "     [0, -1, 0, 0, 0, 0, -1, 0, 0, 0],\n",
    "     [0, 0, -1, 0, 0, 0, 0, -1, 0, 0],\n",
    "     [0, 0, 0, -1, 0, 0, 0, 0, -1, 0],\n",
    "     [0, 0, 0, 0, -1, 0, 0, 0, 0, -1]]\n",
    "\n",
    "b = [47, 63, -28, -16, -22, -31, -12]\n",
    "\n",
    "x0_bounds = (0, None)\n",
    "x1_bounds = (0, None)\n",
    "x2_bounds = (0, None)\n",
    "x3_bounds = (0, None)\n",
    "x4_bounds = (0, None)\n",
    "x5_bounds = (0, None)\n",
    "x6_bounds = (0, None)\n",
    "x7_bounds = (0, None)\n",
    "x8_bounds = (0, None)\n",
    "x9_bounds = (0, None)\n",
    "\n",
    "res = linprog(c, A_ub=A, b_ub=b, bounds=[x0_bounds, x1_bounds, x2_bounds, x3_bounds, x4_bounds, x5_bounds, x6_bounds, x7_bounds, x8_bounds, x9_bounds])\n",
    "res"
   ]
  },
  {
   "cell_type": "code",
   "execution_count": 10,
   "metadata": {},
   "outputs": [
    {
     "data": {
      "text/plain": [
       "     con: array([], dtype=float64)\n",
       "     fun: -3265.5075172222723\n",
       " message: 'The algorithm terminated successfully and determined that the problem is infeasible.'\n",
       "     nit: 4\n",
       "   slack: array([-50.47596358, -69.53857508,  26.95634241,  13.48062326,\n",
       "        20.23113596,  28.48678335,   9.83057635])\n",
       "  status: 2\n",
       " success: False\n",
       "       x: array([0.64339966, 0.99308907, 0.62021867, 1.01234506, 0.20691112,\n",
       "       0.40025793, 1.52628767, 1.14864537, 1.50087159, 1.96251252])"
      ]
     },
     "execution_count": 10,
     "metadata": {},
     "output_type": "execute_result"
    }
   ],
   "source": [
    "res"
   ]
  },
  {
   "cell_type": "code",
   "execution_count": 22,
   "metadata": {},
   "outputs": [
    {
     "data": {
      "text/html": [
       "<div>\n",
       "<style scoped>\n",
       "    .dataframe tbody tr th:only-of-type {\n",
       "        vertical-align: middle;\n",
       "    }\n",
       "\n",
       "    .dataframe tbody tr th {\n",
       "        vertical-align: top;\n",
       "    }\n",
       "\n",
       "    .dataframe thead th {\n",
       "        text-align: right;\n",
       "    }\n",
       "</style>\n",
       "<table border=\"1\" class=\"dataframe\">\n",
       "  <thead>\n",
       "    <tr style=\"text-align: right;\">\n",
       "      <th></th>\n",
       "      <th>index</th>\n",
       "      <th>variable</th>\n",
       "      <th>value</th>\n",
       "    </tr>\n",
       "  </thead>\n",
       "  <tbody>\n",
       "    <tr>\n",
       "      <th>0</th>\n",
       "      <td>Haarlem</td>\n",
       "      <td>Amsterdam</td>\n",
       "      <td>28</td>\n",
       "    </tr>\n",
       "    <tr>\n",
       "      <th>1</th>\n",
       "      <td>Eindhoven</td>\n",
       "      <td>Amsterdam</td>\n",
       "      <td>0</td>\n",
       "    </tr>\n",
       "    <tr>\n",
       "      <th>2</th>\n",
       "      <td>Haarlem</td>\n",
       "      <td>Berda</td>\n",
       "      <td>0</td>\n",
       "    </tr>\n",
       "    <tr>\n",
       "      <th>3</th>\n",
       "      <td>Eindhoven</td>\n",
       "      <td>Berda</td>\n",
       "      <td>16</td>\n",
       "    </tr>\n",
       "    <tr>\n",
       "      <th>4</th>\n",
       "      <td>Haarlem</td>\n",
       "      <td>Gouda</td>\n",
       "      <td>19</td>\n",
       "    </tr>\n",
       "    <tr>\n",
       "      <th>5</th>\n",
       "      <td>Eindhoven</td>\n",
       "      <td>Gouda</td>\n",
       "      <td>3</td>\n",
       "    </tr>\n",
       "    <tr>\n",
       "      <th>6</th>\n",
       "      <td>Haarlem</td>\n",
       "      <td>Amesfoort</td>\n",
       "      <td>0</td>\n",
       "    </tr>\n",
       "    <tr>\n",
       "      <th>7</th>\n",
       "      <td>Eindhoven</td>\n",
       "      <td>Amesfoort</td>\n",
       "      <td>31</td>\n",
       "    </tr>\n",
       "    <tr>\n",
       "      <th>8</th>\n",
       "      <td>Haarlem</td>\n",
       "      <td>Den Bosch</td>\n",
       "      <td>0</td>\n",
       "    </tr>\n",
       "    <tr>\n",
       "      <th>9</th>\n",
       "      <td>Eindhoven</td>\n",
       "      <td>Den Bosch</td>\n",
       "      <td>12</td>\n",
       "    </tr>\n",
       "  </tbody>\n",
       "</table>\n",
       "</div>"
      ],
      "text/plain": [
       "       index   variable  value\n",
       "0    Haarlem  Amsterdam     28\n",
       "1  Eindhoven  Amsterdam      0\n",
       "2    Haarlem      Berda      0\n",
       "3  Eindhoven      Berda     16\n",
       "4    Haarlem      Gouda     19\n",
       "5  Eindhoven      Gouda      3\n",
       "6    Haarlem  Amesfoort      0\n",
       "7  Eindhoven  Amesfoort     31\n",
       "8    Haarlem  Den Bosch      0\n",
       "9  Eindhoven  Den Bosch     12"
      ]
     },
     "execution_count": 22,
     "metadata": {},
     "output_type": "execute_result"
    }
   ],
   "source": [
    "resultDF = pd.DataFrame(np.array(list(map(round, res.x))).reshape(2, 5), index=Plants, columns=Customer)\n",
    "resultDF = resultDF.reset_index()\n",
    "resultDF = resultDF.melt(id_vars=\"index\")\n",
    "resultDF"
   ]
  },
  {
   "cell_type": "code",
   "execution_count": 37,
   "metadata": {},
   "outputs": [
    {
     "data": {
      "text/plain": [
       "index      variable \n",
       "Eindhoven  Amesfoort    31\n",
       "           Amsterdam     0\n",
       "           Berda        16\n",
       "           Den Bosch    12\n",
       "           Gouda         3\n",
       "Haarlem    Amesfoort     0\n",
       "           Amsterdam    28\n",
       "           Berda         0\n",
       "           Den Bosch     0\n",
       "           Gouda        19\n",
       "Name: value, dtype: int64"
      ]
     },
     "execution_count": 37,
     "metadata": {},
     "output_type": "execute_result"
    }
   ],
   "source": [
    "resultDF.groupby([\"index\", \"variable\"])[\"value\"].mean()"
   ]
  },
  {
   "cell_type": "code",
   "execution_count": 43,
   "metadata": {},
   "outputs": [
    {
     "data": {
      "text/plain": [
       "<AxesSubplot:>"
      ]
     },
     "execution_count": 43,
     "metadata": {},
     "output_type": "execute_result"
    },
    {
     "data": {
      "image/png": "[encoded data removed]",
      "text/plain": [
       "<Figure size 432x288 with 1 Axes>"
      ]
     },
     "metadata": {
      "needs_background": "light"
     },
     "output_type": "display_data"
    }
   ],
   "source": [
    "import seaborn as sns\n",
    "\n",
    "sns.barplot(data=resultDF.groupby([\"index\", \"variable\"])[\"value\"].mean())"
   ]
  }
 ],
 "metadata": {
  "kernelspec": {
   "display_name": "Python 3",
   "language": "python",
   "name": "python3"
  },
  "language_info": {
   "codemirror_mode": {
    "name": "ipython",
    "version": 3
   },
   "file_extension": ".py",
   "mimetype": "text/x-python",
   "name": "python",
   "nbconvert_exporter": "python",
   "pygments_lexer": "ipython3",
   "version": "3.8.5"
  },
  "toc": {
   "base_numbering": 1,
   "nav_menu": {},
   "number_sections": true,
   "sideBar": true,
   "skip_h1_title": false,
   "title_cell": "Table of Contents",
   "title_sidebar": "Contents",
   "toc_cell": false,
   "toc_position": {},
   "toc_section_display": true,
   "toc_window_display": true
  },
  "varInspector": {
   "cols": {
    "lenName": 16,
    "lenType": 16,
    "lenVar": 40
   },
   "kernels_config": {
    "python": {
     "delete_cmd_postfix": "",
     "delete_cmd_prefix": "del ",
     "library": "var_list.py",
     "varRefreshCmd": "print(var_dic_list())"
    },
    "r": {
     "delete_cmd_postfix": ") ",
     "delete_cmd_prefix": "rm(",
     "library": "var_list.r",
     "varRefreshCmd": "cat(var_dic_list()) "
    }
   },
   "types_to_exclude": [
    "module",
    "function",
    "builtin_function_or_method",
    "instance",
    "_Feature"
   ],
   "window_display": false
  }
 },
 "nbformat": 4,
 "nbformat_minor": 4
}
