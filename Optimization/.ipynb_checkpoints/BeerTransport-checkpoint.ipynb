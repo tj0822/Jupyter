{
 "cells": [
  {
   "cell_type": "code",
   "execution_count": 2,
   "metadata": {
    "scrolled": true
   },
   "outputs": [
    {
     "data": {
      "text/html": [
       "<div>\n",
       "<style scoped>\n",
       "    .dataframe tbody tr th:only-of-type {\n",
       "        vertical-align: middle;\n",
       "    }\n",
       "\n",
       "    .dataframe tbody tr th {\n",
       "        vertical-align: top;\n",
       "    }\n",
       "\n",
       "    .dataframe thead th {\n",
       "        text-align: right;\n",
       "    }\n",
       "</style>\n",
       "<table border=\"1\" class=\"dataframe\">\n",
       "  <thead>\n",
       "    <tr style=\"text-align: right;\">\n",
       "      <th></th>\n",
       "      <th>Amsterdam</th>\n",
       "      <th>Berda</th>\n",
       "      <th>Gouda</th>\n",
       "      <th>Amesfoort</th>\n",
       "      <th>Den Bosch</th>\n",
       "    </tr>\n",
       "  </thead>\n",
       "  <tbody>\n",
       "    <tr>\n",
       "      <th>Haarlem</th>\n",
       "      <td>131</td>\n",
       "      <td>405</td>\n",
       "      <td>188</td>\n",
       "      <td>396</td>\n",
       "      <td>485</td>\n",
       "    </tr>\n",
       "    <tr>\n",
       "      <th>Eindhoven</th>\n",
       "      <td>554</td>\n",
       "      <td>351</td>\n",
       "      <td>479</td>\n",
       "      <td>366</td>\n",
       "      <td>155</td>\n",
       "    </tr>\n",
       "  </tbody>\n",
       "</table>\n",
       "</div>"
      ],
      "text/plain": [
       "           Amsterdam  Berda  Gouda  Amesfoort  Den Bosch\n",
       "Haarlem          131    405    188        396        485\n",
       "Eindhoven        554    351    479        366        155"
      ]
     },
     "execution_count": 2,
     "metadata": {},
     "output_type": "execute_result"
    }
   ],
   "source": [
    "from scipy.optimize import linprog\n",
    "import pandas as pd\n",
    "import numpy as np\n",
    "\n",
    "Plants = ['Haarlem', 'Eindhoven']\n",
    "Supply = [47, 64]\n",
    "\n",
    "Customer = ['Amsterdam', 'Berda', 'Gouda', 'Amesfoort', 'Den Bosch']\n",
    "Demand = [28, 16, 22, 31, 12]\n",
    "\n",
    "UnitCost = [131, 405, 188, 396, 485, 554, 351, 479, 366, 155]\n",
    "pd.DataFrame(np.array(UnitCost).reshape(2, 5), index=Plants, columns=Customer)"
   ]
  },
  {
   "cell_type": "code",
   "execution_count": 29,
   "metadata": {},
   "outputs": [
    {
     "data": {
      "text/plain": [
       "[-131, -405, -188, -396, -485, -554, -351, -479, -366, -155]"
      ]
     },
     "execution_count": 29,
     "metadata": {},
     "output_type": "execute_result"
    }
   ],
   "source": [
    "list(map(lambda x: x*-1,  UnitCost))"
   ]
  },
  {
   "cell_type": "code",
   "execution_count": 31,
   "metadata": {},
   "outputs": [],
   "source": [
    "c = list(map(lambda x: x*-1,  UnitCost))\n",
    "A = [[1, 1, 1, 1, 1, 0, 0, 0, 0, 0],\n",
    "     [0, 0, 0, 0, 0, 1, 1, 1, 1, 1] ,\n",
    "     [1, 0, 0, 0, 0, 1, 0, 0, 0, 0],\n",
    "     [0, 1, 0, 0, 0, 0, 1, 0, 0, 0],\n",
    "     [0, 0, 1, 0, 0, 0, 0, 1, 0, 0],\n",
    "     [0, 0, 0, 1, 0, 0, 0, 0, 1, 0],\n",
    "     [0, 0, 0, 0, 1, 0, 0, 0, 0, 1]]\n",
    "\n",
    "b = [47, 63, 28, 16, 22, 31, 12]\n",
    "\n",
    "x0_bounds = (0, None)\n",
    "x1_bounds = (0, None)\n",
    "x2_bounds = (0, None)\n",
    "x3_bounds = (0, None)\n",
    "x4_bounds = (0, None)\n",
    "x5_bounds = (0, None)\n",
    "x6_bounds = (0, None)\n",
    "x7_bounds = (0, None)\n",
    "x8_bounds = (0, None)\n",
    "x9_bounds = (0, None)\n",
    "\n",
    "res = linprog(c, A_ub=A, b_ub=b, bounds=[x0_bounds, x1_bounds, x2_bounds, x3_bounds, x4_bounds, x5_bounds, x6_bounds, x7_bounds, x8_bounds, x9_bounds])"
   ]
  },
  {
   "cell_type": "code",
   "execution_count": 39,
   "metadata": {},
   "outputs": [
    {
     "data": {
      "text/plain": [
       "     con: array([], dtype=float64)\n",
       "     fun: -50265.99979159973\n",
       " message: 'Optimization terminated successfully.'\n",
       "     nit: 7\n",
       "   slack: array([1.91492781e-07, 1.00000026e+00, 1.16035029e-07, 6.68297737e-08,\n",
       "       9.20512413e-08, 1.30235055e-07, 4.26342623e-08])\n",
       "  status: 0\n",
       " success: True\n",
       "       x: array([9.57637830e-10, 1.59999999e+01, 2.25826948e-09, 1.89999999e+01,\n",
       "       1.20000000e+01, 2.79999999e+01, 1.65975671e-08, 2.19999999e+01,\n",
       "       1.19999999e+01, 1.98898424e-09])"
      ]
     },
     "execution_count": 39,
     "metadata": {},
     "output_type": "execute_result"
    }
   ],
   "source": [
    "res"
   ]
  },
  {
   "cell_type": "code",
   "execution_count": 38,
   "metadata": {},
   "outputs": [
    {
     "data": {
      "text/html": [
       "<div>\n",
       "<style scoped>\n",
       "    .dataframe tbody tr th:only-of-type {\n",
       "        vertical-align: middle;\n",
       "    }\n",
       "\n",
       "    .dataframe tbody tr th {\n",
       "        vertical-align: top;\n",
       "    }\n",
       "\n",
       "    .dataframe thead th {\n",
       "        text-align: right;\n",
       "    }\n",
       "</style>\n",
       "<table border=\"1\" class=\"dataframe\">\n",
       "  <thead>\n",
       "    <tr style=\"text-align: right;\">\n",
       "      <th></th>\n",
       "      <th>Amsterdam</th>\n",
       "      <th>Berda</th>\n",
       "      <th>Gouda</th>\n",
       "      <th>Amesfoort</th>\n",
       "      <th>Den Bosch</th>\n",
       "    </tr>\n",
       "  </thead>\n",
       "  <tbody>\n",
       "    <tr>\n",
       "      <th>Haarlem</th>\n",
       "      <td>0</td>\n",
       "      <td>16</td>\n",
       "      <td>0</td>\n",
       "      <td>19</td>\n",
       "      <td>12</td>\n",
       "    </tr>\n",
       "    <tr>\n",
       "      <th>Eindhoven</th>\n",
       "      <td>28</td>\n",
       "      <td>0</td>\n",
       "      <td>22</td>\n",
       "      <td>12</td>\n",
       "      <td>0</td>\n",
       "    </tr>\n",
       "  </tbody>\n",
       "</table>\n",
       "</div>"
      ],
      "text/plain": [
       "           Amsterdam  Berda  Gouda  Amesfoort  Den Bosch\n",
       "Haarlem            0     16      0         19         12\n",
       "Eindhoven         28      0     22         12          0"
      ]
     },
     "execution_count": 38,
     "metadata": {},
     "output_type": "execute_result"
    }
   ],
   "source": [
    "print(pd.DataFrame(np.array(list(map(round, res.x))).reshape(2, 5), index=Plants, columns=Customer))\n",
    "print(res.fun)"
   ]
  }
 ],
 "metadata": {
  "kernelspec": {
   "display_name": "Python 3",
   "language": "python",
   "name": "python3"
  },
  "language_info": {
   "codemirror_mode": {
    "name": "ipython",
    "version": 3
   },
   "file_extension": ".py",
   "mimetype": "text/x-python",
   "name": "python",
   "nbconvert_exporter": "python",
   "pygments_lexer": "ipython3",
   "version": "3.8.5"
  },
  "toc": {
   "base_numbering": 1,
   "nav_menu": {},
   "number_sections": true,
   "sideBar": true,
   "skip_h1_title": false,
   "title_cell": "Table of Contents",
   "title_sidebar": "Contents",
   "toc_cell": false,
   "toc_position": {},
   "toc_section_display": true,
   "toc_window_display": false
  },
  "varInspector": {
   "cols": {
    "lenName": 16,
    "lenType": 16,
    "lenVar": 40
   },
   "kernels_config": {
    "python": {
     "delete_cmd_postfix": "",
     "delete_cmd_prefix": "del ",
     "library": "var_list.py",
     "varRefreshCmd": "print(var_dic_list())"
    },
    "r": {
     "delete_cmd_postfix": ") ",
     "delete_cmd_prefix": "rm(",
     "library": "var_list.r",
     "varRefreshCmd": "cat(var_dic_list()) "
    }
   },
   "types_to_exclude": [
    "module",
    "function",
    "builtin_function_or_method",
    "instance",
    "_Feature"
   ],
   "window_display": false
  }
 },
 "nbformat": 4,
 "nbformat_minor": 4
}
