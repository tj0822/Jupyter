{
 "cells": [
  {
   "cell_type": "code",
   "execution_count": 76,
   "metadata": {},
   "outputs": [],
   "source": [
    "from scipy.optimize import linprog\n",
    "import pandas as pd\n",
    "import numpy as np\n",
    "\n",
    "# Math Problem : maximize 2*x0 + 1.5*x1 \n",
    "Chips = [\"Plain\", \"Mexican\"]\n",
    "c = [-2, -1.5]\n",
    "\n",
    "RequareTime = [\"slicing\", \"frying\", \"packing\"]\n",
    "A = [[2, 4], [4, 5], [4, 2]]\n",
    "\n",
    "# Constraints\n",
    "b = [345, 480, 330]\n",
    "x_bounds = [(0, None), (0, None)]\n",
    "\n",
    "res = linprog(c, A_ub=A, b_ub=b, bounds=x_bounds)\n",
    "print(res)\n",
    "print(list(map(round, res.x)))"
   ]
  },
  {
   "cell_type": "code",
   "execution_count": 86,
   "metadata": {},
   "outputs": [
    {
     "name": "stdout",
     "output_type": "stream",
     "text": [
      "     con: array([], dtype=float64)\n",
      "     fun: -189.9999999979894\n",
      " message: 'Optimization terminated successfully.'\n",
      "     nit: 5\n",
      "   slack: array([3.00000000e+01, 5.58151214e-09, 3.24104121e-09])\n",
      "  status: 0\n",
      " success: True\n",
      "       x: array([1.91666667, 1.66666667])\n",
      "[2, 2] -189.9999999979894\n"
     ]
    }
   ],
   "source": [
    "Chips = [\"Plain\", \"Mexican\"]\n",
    "c = [-60, -45]\n",
    "\n",
    "RequareTime = [\"slicing\", \"frying\", \"packing\"]\n",
    "A = [[60, 120], [120, 150], [120, 60]]\n",
    "\n",
    "# Constraints\n",
    "b = [345, 480, 330]\n",
    "x_bounds = [(0, None), (0, None)]\n",
    "\n",
    "res = linprog(c, A_ub=A, b_ub=b, bounds=x_bounds)\n",
    "print(res)\n",
    "print(list(map(round, res.x)), res.fun)"
   ]
  },
  {
   "cell_type": "code",
   "execution_count": null,
   "metadata": {},
   "outputs": [],
   "source": [
    "from scipy.optimize import minimize\n",
    "\n",
    "def function(x):\n",
    "    return -60 * x[0] + -45 * x[1]\n",
    "\n"
   ]
  }
 ],
 "metadata": {
  "kernelspec": {
   "display_name": "Python 3",
   "language": "python",
   "name": "python3"
  },
  "language_info": {
   "codemirror_mode": {
    "name": "ipython",
    "version": 3
   },
   "file_extension": ".py",
   "mimetype": "text/x-python",
   "name": "python",
   "nbconvert_exporter": "python",
   "pygments_lexer": "ipython3",
   "version": "3.8.5"
  },
  "toc": {
   "base_numbering": 1,
   "nav_menu": {},
   "number_sections": true,
   "sideBar": true,
   "skip_h1_title": false,
   "title_cell": "Table of Contents",
   "title_sidebar": "Contents",
   "toc_cell": false,
   "toc_position": {},
   "toc_section_display": true,
   "toc_window_display": false
  },
  "varInspector": {
   "cols": {
    "lenName": 16,
    "lenType": 16,
    "lenVar": 40
   },
   "kernels_config": {
    "python": {
     "delete_cmd_postfix": "",
     "delete_cmd_prefix": "del ",
     "library": "var_list.py",
     "varRefreshCmd": "print(var_dic_list())"
    },
    "r": {
     "delete_cmd_postfix": ") ",
     "delete_cmd_prefix": "rm(",
     "library": "var_list.r",
     "varRefreshCmd": "cat(var_dic_list()) "
    }
   },
   "types_to_exclude": [
    "module",
    "function",
    "builtin_function_or_method",
    "instance",
    "_Feature"
   ],
   "window_display": false
  }
 },
 "nbformat": 4,
 "nbformat_minor": 4
}
