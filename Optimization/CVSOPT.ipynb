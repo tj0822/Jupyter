{
 "cells": [
  {
   "cell_type": "code",
   "execution_count": 1,
   "metadata": {},
   "outputs": [
    {
     "name": "stdout",
     "output_type": "stream",
     "text": [
      "     pcost       dcost       gap    pres   dres   k/t\n",
      " 0:  2.6471e+00 -7.0588e-01  2e+01  8e-01  2e+00  1e+00\n",
      " 1:  3.0726e+00  2.8437e+00  1e+00  1e-01  2e-01  3e-01\n",
      " 2:  2.4891e+00  2.4808e+00  1e-01  1e-02  2e-02  5e-02\n",
      " 3:  2.4999e+00  2.4998e+00  1e-03  1e-04  2e-04  5e-04\n",
      " 4:  2.5000e+00  2.5000e+00  1e-05  1e-06  2e-06  5e-06\n",
      " 5:  2.5000e+00  2.5000e+00  1e-07  1e-08  2e-08  5e-08\n",
      "Optimal solution found.\n",
      "[ 5.00e-01]\n",
      "[ 1.50e+00]\n",
      "\n"
     ]
    }
   ],
   "source": [
    "from cvxopt import matrix, solvers\n",
    "\n",
    "G = matrix([ [-1.0, -1.0, 0.0, 1.0], \n",
    "            [1.0, -1.0, -1.0, -2.0] ])\n",
    "h = matrix([ 1.0, -2.0, 0.0, 4.0 ])\n",
    "c = matrix([ 2.0, 1.0 ])\n",
    "sol=solvers.lp(c=c,G=G,h=h)\n",
    "\n",
    "print(sol['x'])\n"
   ]
  },
  {
   "cell_type": "code",
   "execution_count": 2,
   "metadata": {},
   "outputs": [
    {
     "data": {
      "text/plain": [
       "{'x': <2x1 matrix, tc='d'>,\n",
       " 'y': <0x1 matrix, tc='d'>,\n",
       " 's': <4x1 matrix, tc='d'>,\n",
       " 'z': <4x1 matrix, tc='d'>,\n",
       " 'status': 'optimal',\n",
       " 'gap': 1.39749457373371e-07,\n",
       " 'relative gap': 5.5899783357835995e-08,\n",
       " 'primal objective': 2.4999999895543072,\n",
       " 'dual objective': 2.499999981731253,\n",
       " 'primal infeasibility': 1.1368786304556123e-08,\n",
       " 'dual infeasibility': 2.2578789570720846e-08,\n",
       " 'primal slack': 2.0388399546900582e-08,\n",
       " 'dual slack': 3.529915972509936e-09,\n",
       " 'residual as primal infeasibility certificate': None,\n",
       " 'residual as dual infeasibility certificate': None,\n",
       " 'iterations': 5}"
      ]
     },
     "execution_count": 2,
     "metadata": {},
     "output_type": "execute_result"
    }
   ],
   "source": [
    "sol"
   ]
  },
  {
   "cell_type": "code",
   "execution_count": 24,
   "metadata": {},
   "outputs": [
    {
     "name": "stdout",
     "output_type": "stream",
     "text": [
      "     pcost       dcost       gap    pres   dres   k/t\n",
      " 0:  3.4341e+04  3.4095e+04  5e+04  3e-01  6e-01  1e+00\n",
      " 1:  2.9983e+04  3.0052e+04  2e+04  1e-01  2e-01  2e+02\n",
      " 2:  2.7528e+04  2.7553e+04  2e+03  1e-02  3e-02  4e+01\n",
      " 3:  2.7572e+04  2.7582e+04  5e+02  3e-03  6e-03  1e+01\n",
      " 4:  2.7500e+04  2.7500e+04  8e+00  5e-05  1e-04  3e-01\n",
      " 5:  2.7499e+04  2.7499e+04  8e-02  5e-07  1e-06  3e-03\n",
      " 6:  2.7499e+04  2.7499e+04  8e-04  5e-09  1e-08  3e-05\n",
      "Optimal solution found.\n"
     ]
    },
    {
     "ename": "TypeError",
     "evalue": "int() argument must be a string, a bytes-like object or a number, not 'cvxopt.base.matrix'",
     "output_type": "error",
     "traceback": [
      "\u001b[0;31m---------------------------------------------------------------------------\u001b[0m",
      "\u001b[0;31mTypeError\u001b[0m                                 Traceback (most recent call last)",
      "\u001b[0;32m<ipython-input-24-5626e4260f7f>\u001b[0m in \u001b[0;36m<module>\u001b[0;34m\u001b[0m\n\u001b[1;32m     17\u001b[0m \u001b[0msol\u001b[0m\u001b[0;34m=\u001b[0m\u001b[0msolvers\u001b[0m\u001b[0;34m.\u001b[0m\u001b[0mlp\u001b[0m\u001b[0;34m(\u001b[0m\u001b[0mc\u001b[0m\u001b[0;34m=\u001b[0m\u001b[0mc\u001b[0m\u001b[0;34m,\u001b[0m\u001b[0mG\u001b[0m\u001b[0;34m=\u001b[0m\u001b[0mG\u001b[0m\u001b[0;34m,\u001b[0m\u001b[0mh\u001b[0m\u001b[0;34m=\u001b[0m\u001b[0mh\u001b[0m\u001b[0;34m)\u001b[0m\u001b[0;34m\u001b[0m\u001b[0;34m\u001b[0m\u001b[0m\n\u001b[1;32m     18\u001b[0m \u001b[0;34m\u001b[0m\u001b[0m\n\u001b[0;32m---> 19\u001b[0;31m \u001b[0mprint\u001b[0m\u001b[0;34m(\u001b[0m\u001b[0mint\u001b[0m\u001b[0;34m(\u001b[0m\u001b[0msol\u001b[0m\u001b[0;34m[\u001b[0m\u001b[0;34m'x'\u001b[0m\u001b[0;34m]\u001b[0m\u001b[0;34m)\u001b[0m\u001b[0;34m)\u001b[0m\u001b[0;34m\u001b[0m\u001b[0;34m\u001b[0m\u001b[0m\n\u001b[0m",
      "\u001b[0;31mTypeError\u001b[0m: int() argument must be a string, a bytes-like object or a number, not 'cvxopt.base.matrix'"
     ]
    }
   ],
   "source": [
    "from cvxopt import matrix, solvers\n",
    "\n",
    "c = matrix([131., 405., 188., 396., 485., 554., 351., 479., 366., 155.])\n",
    "\n",
    "G = matrix([ [1., 0., -1., 0., 0., 0., 0., -1., 0., 0., 0., 0., 0., 0., 0., 0., 0.],\n",
    "             [1., 0., 0., -1., 0., 0., 0., 0., -1., 0., 0., 0., 0., 0., 0., 0., 0.],\n",
    "             [1., 0., 0., 0., -1., 0., 0., 0., 0., -1., 0., 0., 0., 0., 0., 0., 0.],\n",
    "             [1., 0., 0., 0., 0., -1., 0., 0., 0., 0., -1., 0., 0., 0., 0., 0., 0.],\n",
    "             [1., 0., 0., 0., 0., 0., -1., 0., 0., 0., 0., -1., 0., 0., 0., 0., 0.],\n",
    "             [0., 1., -1., 0., 0., 0., 0., 0., 0., 0., 0., 0., -1., 0., 0., 0., 0.],\n",
    "             [0., 1., 0., -1., 0., 0., 0., 0., 0., 0., 0., 0., 0., -1., 0., 0., 0.],\n",
    "             [0., 1., 0., 0, -1., 0., 0., 0., 0., 0., 0., 0., 0., 0., -1., 0., 0.],\n",
    "             [0., 1., 0., 0, 0, -1., 0., 0., 0., 0., 0., 0., 0., 0., 0., -1., 0.],\n",
    "             [0., 1., 0., 0, 0, 0, -1., 0., 0., 0., 0., 0., 0., 0., 0., 0., -1.] ])\n",
    "h = matrix([47., 63., -28., -16., -22., -31., -12., 0., 0., 0., 0., 0., 0., 0., 0., 0., 0. ])\n",
    "\n",
    "sol=solvers.lp(c=c,G=G,h=h)\n",
    "\n",
    "print(sol['x'])\n"
   ]
  },
  {
   "cell_type": "code",
   "execution_count": 32,
   "metadata": {},
   "outputs": [
    {
     "data": {
      "text/plain": [
       "[28, 0, 19, 0, 0, 0, 16, 3, 31, 12]"
      ]
     },
     "execution_count": 32,
     "metadata": {},
     "output_type": "execute_result"
    }
   ],
   "source": [
    "list(map(round, list(sol['x'])))"
   ]
  },
  {
   "cell_type": "code",
   "execution_count": 33,
   "metadata": {
    "scrolled": true
   },
   "outputs": [
    {
     "data": {
      "text/plain": [
       "{'x': <10x1 matrix, tc='d'>,\n",
       " 'y': <0x1 matrix, tc='d'>,\n",
       " 's': <17x1 matrix, tc='d'>,\n",
       " 'z': <17x1 matrix, tc='d'>,\n",
       " 'status': 'optimal',\n",
       " 'gap': 0.0007812916517309056,\n",
       " 'relative gap': 2.8411638543814062e-08,\n",
       " 'primal objective': 27499.000096220654,\n",
       " 'dual objective': 27499.00012018183,\n",
       " 'primal infeasibility': 4.7203909662582035e-09,\n",
       " 'dual infeasibility': 1.0471588739294233e-08,\n",
       " 'primal slack': 8.17111478972165e-08,\n",
       " 'dual slack': 1.9023994148626135e-06,\n",
       " 'residual as primal infeasibility certificate': None,\n",
       " 'residual as dual infeasibility certificate': None,\n",
       " 'iterations': 6}"
      ]
     },
     "execution_count": 33,
     "metadata": {},
     "output_type": "execute_result"
    }
   ],
   "source": [
    "sol"
   ]
  },
  {
   "cell_type": "code",
   "execution_count": null,
   "metadata": {},
   "outputs": [],
   "source": []
  }
 ],
 "metadata": {
  "kernelspec": {
   "display_name": "Python 3",
   "language": "python",
   "name": "python3"
  },
  "language_info": {
   "codemirror_mode": {
    "name": "ipython",
    "version": 3
   },
   "file_extension": ".py",
   "mimetype": "text/x-python",
   "name": "python",
   "nbconvert_exporter": "python",
   "pygments_lexer": "ipython3",
   "version": "3.8.5"
  },
  "toc": {
   "base_numbering": 1,
   "nav_menu": {},
   "number_sections": true,
   "sideBar": true,
   "skip_h1_title": false,
   "title_cell": "Table of Contents",
   "title_sidebar": "Contents",
   "toc_cell": false,
   "toc_position": {},
   "toc_section_display": true,
   "toc_window_display": false
  },
  "varInspector": {
   "cols": {
    "lenName": 16,
    "lenType": 16,
    "lenVar": 40
   },
   "kernels_config": {
    "python": {
     "delete_cmd_postfix": "",
     "delete_cmd_prefix": "del ",
     "library": "var_list.py",
     "varRefreshCmd": "print(var_dic_list())"
    },
    "r": {
     "delete_cmd_postfix": ") ",
     "delete_cmd_prefix": "rm(",
     "library": "var_list.r",
     "varRefreshCmd": "cat(var_dic_list()) "
    }
   },
   "types_to_exclude": [
    "module",
    "function",
    "builtin_function_or_method",
    "instance",
    "_Feature"
   ],
   "window_display": false
  }
 },
 "nbformat": 4,
 "nbformat_minor": 4
}
