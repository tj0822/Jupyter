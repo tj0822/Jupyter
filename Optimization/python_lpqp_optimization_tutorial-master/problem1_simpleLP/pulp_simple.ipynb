{
 "cells": [
  {
   "cell_type": "code",
   "execution_count": 1,
   "metadata": {},
   "outputs": [
    {
     "name": "stdout",
     "output_type": "stream",
     "text": [
      "Simple LP:\n",
      "MINIMIZE\n",
      "2*x1 + 1*x2 + 0\n",
      "SUBJECT TO\n",
      "My_equality_contraint: x1 + x2 = 10\n",
      "\n",
      "My_inequality_contraint: x1 - x2 >= 2\n",
      "\n",
      "VARIABLES\n",
      "x1 Continuous\n",
      "x2 Continuous\n",
      "\n",
      "status: Optimal\n",
      "x1:  6.0\n",
      "x2:  4.0\n"
     ]
    }
   ],
   "source": [
    "from pulp import *\n",
    "\n",
    "prob = LpProblem(\"Simple LP\", LpMinimize)\n",
    "\n",
    "x1 = LpVariable(\"x1\", lowBound=0, upBound=None)\n",
    "x2 = LpVariable(\"x2\", lowBound=0, upBound=None)\n",
    "\n",
    "# 목적함수를 먼저 prob에 추가합니다.\n",
    "prob += lpSum(2 * x1 + x2), \"My Objective Function\"\n",
    "\n",
    "# 그 다음, 제약조건을 prob에 추가합니다.\n",
    "prob += lpSum(x1 + x2) == 10, \"My equality contraint\"\n",
    "prob += lpSum(x1 - x2) >= 2, \"My inequality contraint\"\n",
    "\n",
    "print(prob)\n",
    "\n",
    "\n",
    "prob.solve()\n",
    "print(\"status:\", LpStatus[prob.status])\n",
    "\n",
    "print('x1: ',value(x1))\n",
    "print('x2: ', value(x2))"
   ]
  }
 ],
 "metadata": {
  "kernelspec": {
   "display_name": "Python 3",
   "language": "python",
   "name": "python3"
  },
  "language_info": {
   "codemirror_mode": {
    "name": "ipython",
    "version": 3
   },
   "file_extension": ".py",
   "mimetype": "text/x-python",
   "name": "python",
   "nbconvert_exporter": "python",
   "pygments_lexer": "ipython3",
   "version": "3.8.5"
  },
  "toc": {
   "base_numbering": 1,
   "nav_menu": {},
   "number_sections": true,
   "sideBar": true,
   "skip_h1_title": false,
   "title_cell": "Table of Contents",
   "title_sidebar": "Contents",
   "toc_cell": false,
   "toc_position": {},
   "toc_section_display": true,
   "toc_window_display": false
  },
  "varInspector": {
   "cols": {
    "lenName": 16,
    "lenType": 16,
    "lenVar": 40
   },
   "kernels_config": {
    "python": {
     "delete_cmd_postfix": "",
     "delete_cmd_prefix": "del ",
     "library": "var_list.py",
     "varRefreshCmd": "print(var_dic_list())"
    },
    "r": {
     "delete_cmd_postfix": ") ",
     "delete_cmd_prefix": "rm(",
     "library": "var_list.r",
     "varRefreshCmd": "cat(var_dic_list()) "
    }
   },
   "types_to_exclude": [
    "module",
    "function",
    "builtin_function_or_method",
    "instance",
    "_Feature"
   ],
   "window_display": false
  }
 },
 "nbformat": 4,
 "nbformat_minor": 2
}
