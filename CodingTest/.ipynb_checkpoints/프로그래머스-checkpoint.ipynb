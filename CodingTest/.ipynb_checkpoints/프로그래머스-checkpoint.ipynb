{
 "cells": [
  {
   "cell_type": "markdown",
   "metadata": {
    "toc": true
   },
   "source": [
    "<h1>Table of Contents<span class=\"tocSkip\"></span></h1>\n",
    "<div class=\"toc\"><ul class=\"toc-item\"><li><span><a href=\"#완주하지-못한-선수\" data-toc-modified-id=\"완주하지-못한-선수-1\"><span class=\"toc-item-num\">1&nbsp;&nbsp;</span>완주하지 못한 선수</a></span></li><li><span><a href=\"#전화번호-목록\" data-toc-modified-id=\"전화번호-목록-2\"><span class=\"toc-item-num\">2&nbsp;&nbsp;</span>전화번호 목록</a></span></li><li><span><a href=\"#위장\" data-toc-modified-id=\"위장-3\"><span class=\"toc-item-num\">3&nbsp;&nbsp;</span>위장</a></span></li></ul></div>"
   ]
  },
  {
   "cell_type": "markdown",
   "metadata": {},
   "source": [
    "# 완주하지 못한 선수\n",
    "수많은 마라톤 선수들이 마라톤에 참여하였습니다. 단 한 명의 선수를 제외하고는 모든 선수가 마라톤을 완주하였습니다.\n",
    "\n",
    "마라톤에 참여한 선수들의 이름이 담긴 배열 participant와 완주한 선수들의 이름이 담긴 배열 completion이 주어질 때, 완주하지 못한 선수의 이름을 return 하도록 solution 함수를 작성해주세요.\n",
    "\n",
    "제한사항\n",
    "마라톤 경기에 참여한 선수의 수는 1명 이상 100,000명 이하입니다.\n",
    "completion의 길이는 participant의 길이보다 1 작습니다.\n",
    "참가자의 이름은 1개 이상 20개 이하의 알파벳 소문자로 이루어져 있습니다.\n",
    "참가자 중에는 동명이인이 있을 수 있습니다.\n",
    "입출력 예\n",
    "participant\tcompletion\treturn\n",
    "[\"leo\", \"kiki\", \"eden\"]\t[\"eden\", \"kiki\"]\t\"leo\"\n",
    "[\"marina\", \"josipa\", \"nikola\", \"vinko\", \"filipa\"]\t[\"josipa\", \"filipa\", \"marina\", \"nikola\"]\t\"vinko\"\n",
    "[\"mislav\", \"stanko\", \"mislav\", \"ana\"]\t[\"stanko\", \"ana\", \"mislav\"]\t\"mislav\"\n",
    "입출력 예 설명\n",
    "예제 #1\n",
    "\"leo\"는 참여자 명단에는 있지만, 완주자 명단에는 없기 때문에 완주하지 못했습니다.\n",
    "\n",
    "예제 #2\n",
    "\"vinko\"는 참여자 명단에는 있지만, 완주자 명단에는 없기 때문에 완주하지 못했습니다.\n",
    "\n",
    "예제 #3\n",
    "\"mislav\"는 참여자 명단에는 두 명이 있지만, 완주자 명단에는 한 명밖에 없기 때문에 한명은 완주하지 못했습니다."
   ]
  },
  {
   "cell_type": "code",
   "execution_count": 466,
   "metadata": {},
   "outputs": [],
   "source": [
    "participant = [\"leo\", \"kiki\", \"eden\"]\n",
    "completion = [\"eden\", \"kiki\"]"
   ]
  },
  {
   "cell_type": "code",
   "execution_count": 471,
   "metadata": {
    "scrolled": true
   },
   "outputs": [],
   "source": [
    "import collections\n",
    "def compare(p, c):  \n",
    "    if len(p) == 1:\n",
    "        return p[0]\n",
    "    else:\n",
    "        i = int(len(p)/2)\n",
    "        if p[:i] == c[:i]:\n",
    "            return compare(p[i:], c[i:])\n",
    "        else:\n",
    "            return compare(p[:i], c[:i])\n",
    "                \n",
    "        \n",
    "def solution(participant, completion):   \n",
    "    participant.sort()\n",
    "    completion.sort()\n",
    "    answer = compare(participant, completion)\n",
    "    print(answer)\n",
    "    return answer\n",
    "\n",
    "def solution2(participant, completion):\n",
    "    answer = collections.Counter(participant) - collections.Counter(completion)\n",
    "    return list(answer.keys())[0]"
   ]
  },
  {
   "cell_type": "markdown",
   "metadata": {},
   "source": [
    "# 전화번호 목록\n",
    "전화번호부에 적힌 전화번호 중, 한 번호가 다른 번호의 접두어인 경우가 있는지 확인하려 합니다.\n",
    "전화번호가 다음과 같을 경우, 구조대 전화번호는 영석이의 전화번호의 접두사입니다.\n",
    "\n",
    "구조대 : 119\n",
    "박준영 : 97 674 223\n",
    "지영석 : 11 9552 4421\n",
    "전화번호부에 적힌 전화번호를 담은 배열 phone_book 이 solution 함수의 매개변수로 주어질 때, 어떤 번호가 다른 번호의 접두어인 경우가 있으면 false를 그렇지 않으면 true를 return 하도록 solution 함수를 작성해주세요.\n",
    "\n",
    "제한 사항\n",
    "phone_book의 길이는 1 이상 1,000,000 이하입니다.\n",
    "각 전화번호의 길이는 1 이상 20 이하입니다.\n",
    "같은 전화번호가 중복해서 들어있지 않습니다.\n",
    "입출력 예제\n",
    "phone_book\treturn\n",
    "[\"119\", \"97674223\", \"1195524421\"]\tfalse\n",
    "[\"123\",\"456\",\"789\"]\ttrue\n",
    "[\"12\",\"123\",\"1235\",\"567\",\"88\"]\tfalse\n",
    "입출력 예 설명\n",
    "입출력 예 #1\n",
    "앞에서 설명한 예와 같습니다.\n",
    "\n",
    "입출력 예 #2\n",
    "한 번호가 다른 번호의 접두사인 경우가 없으므로, 답은 true입니다.\n",
    "\n",
    "입출력 예 #3\n",
    "첫 번째 전화번호, “12”가 두 번째 전화번호 “123”의 접두사입니다. 따라서 답은 false입니다.\n",
    "\n"
   ]
  },
  {
   "cell_type": "code",
   "execution_count": 204,
   "metadata": {},
   "outputs": [],
   "source": [
    "a = [\"119\", \"97674223\", \"1195524421\"]\n",
    "b = [\"123\",\"456\",\"789\"]\n",
    "c = [\"12\",\"123\",\"1235\",\"567\",\"88\"]"
   ]
  },
  {
   "cell_type": "code",
   "execution_count": 140,
   "metadata": {},
   "outputs": [
    {
     "data": {
      "text/plain": [
       "False"
      ]
     },
     "execution_count": 140,
     "metadata": {},
     "output_type": "execute_result"
    }
   ],
   "source": [
    "def solution(phone_book):\n",
    "    answer = True\n",
    "    phone_book.sort(key=len)\n",
    "    while phone_book:\n",
    "        key = phone_book.pop(0)\n",
    "#         print(key, phone_book)\n",
    "        if len(list(filter(lambda x: x.startswith(key), phone_book))) > 0:\n",
    "            return False\n",
    "    \n",
    "    return answer\n",
    "\n",
    "solution(c)"
   ]
  },
  {
   "cell_type": "code",
   "execution_count": 143,
   "metadata": {},
   "outputs": [
    {
     "data": {
      "text/plain": [
       "False"
      ]
     },
     "execution_count": 143,
     "metadata": {},
     "output_type": "execute_result"
    }
   ],
   "source": [
    "def solution2(phone_book):\n",
    "    answer = True\n",
    "    phone_book.sort(key=len)\n",
    "    while phone_book:\n",
    "        num = phone_book[0]\n",
    "        del phone_book[0]\n",
    "#         print(key, phone_book)\n",
    "        if len(list(filter(lambda x: x.startswith(num), phone_book))) > 0:\n",
    "            return False\n",
    "    \n",
    "    return answer\n",
    "\n",
    "solution2(a)"
   ]
  },
  {
   "cell_type": "code",
   "execution_count": 203,
   "metadata": {},
   "outputs": [
    {
     "data": {
      "text/plain": [
       "False"
      ]
     },
     "execution_count": 203,
     "metadata": {},
     "output_type": "execute_result"
    }
   ],
   "source": [
    "a = [\"119\", \"97674223\", \"1195524421\"]\n",
    "b = [\"123\",\"456\",\"789\"]\n",
    "c = [\"12\",\"123\",\"1235\",\"567\",\"88\"]\n",
    "\n",
    "def solution(phone_book):\n",
    "    answer = True\n",
    "    phone_book.sort(key=len)\n",
    "    while phone_book:\n",
    "        key = phone_book.pop(0)        \n",
    "        if len(list(filter(lambda x: len(x) > len(key) and x.find(key) == 0, phone_book))) > 0:\n",
    "            return False\n",
    "    \n",
    "    return answer\n",
    "\n",
    "solution(c)"
   ]
  },
  {
   "cell_type": "code",
   "execution_count": 216,
   "metadata": {},
   "outputs": [
    {
     "data": {
      "text/plain": [
       "False"
      ]
     },
     "execution_count": 216,
     "metadata": {},
     "output_type": "execute_result"
    }
   ],
   "source": [
    "a = [\"119\", \"97674223\", \"1195524421\"]\n",
    "b = [\"123\",\"456\",\"789\"]\n",
    "c = [\"12\",\"123\",\"1235\",\"567\",\"88\"]\n",
    "\n",
    "def solution(phone_book):\n",
    "    answer = True\n",
    "    phone_book.sort()\n",
    "    for i in range(0, len(phone_book)-1):\n",
    "        if (phone_book[i+1].startswith(phone_book[i])):\n",
    "            return False\n",
    "    \n",
    "    return answer\n",
    "\n",
    "solution(c)"
   ]
  },
  {
   "cell_type": "markdown",
   "metadata": {},
   "source": [
    "# 위장\n",
    "문제 설명\n",
    "스파이들은 매일 다른 옷을 조합하여 입어 자신을 위장합니다.\n",
    "\n",
    "예를 들어 스파이가 가진 옷이 아래와 같고 오늘 스파이가 동그란 안경, 긴 코트, 파란색 티셔츠를 입었다면 다음날은 청바지를 추가로 입거나 동그란 안경 대신 검정 선글라스를 착용하거나 해야 합니다.\n",
    "\n",
    "종류\t이름\n",
    "얼굴\t동그란 안경, 검정 선글라스\n",
    "상의\t파란색 티셔츠\n",
    "하의\t청바지\n",
    "겉옷\t긴 코트\n",
    "스파이가 가진 의상들이 담긴 2차원 배열 clothes가 주어질 때 서로 다른 옷의 조합의 수를 return 하도록 solution 함수를 작성해주세요.\n",
    "\n",
    "제한사항\n",
    "clothes의 각 행은 [의상의 이름, 의상의 종류]로 이루어져 있습니다.\n",
    "스파이가 가진 의상의 수는 1개 이상 30개 이하입니다.\n",
    "같은 이름을 가진 의상은 존재하지 않습니다.\n",
    "clothes의 모든 원소는 문자열로 이루어져 있습니다.\n",
    "모든 문자열의 길이는 1 이상 20 이하인 자연수이고 알파벳 소문자 또는 '_' 로만 이루어져 있습니다.\n",
    "스파이는 하루에 최소 한 개의 의상은 입습니다.\n",
    "입출력 예\n",
    "clothes\treturn\n",
    "[[\"yellowhat\", \"headgear\"], [\"bluesunglasses\", \"eyewear\"], [\"green_turban\", \"headgear\"]]\t5\n",
    "[[\"crowmask\", \"face\"], [\"bluesunglasses\", \"face\"], [\"smoky_makeup\", \"face\"]]\t3\n",
    "입출력 예 설명\n",
    "예제 #1\n",
    "headgear에 해당하는 의상이 yellow_hat, green_turban이고 eyewear에 해당하는 의상이 blue_sunglasses이므로 아래와 같이 5개의 조합이 가능합니다.\n",
    "\n",
    "1. yellow_hat\n",
    "2. blue_sunglasses\n",
    "3. green_turban\n",
    "4. yellow_hat + blue_sunglasses\n",
    "5. green_turban + blue_sunglasses"
   ]
  },
  {
   "cell_type": "code",
   "execution_count": 125,
   "metadata": {},
   "outputs": [],
   "source": [
    "import numpy as np\n",
    "\n",
    "clothes = [[\"yellowhat\", \"headgear\"], [\"bluesunglasses\", \"eyewear\"], [\"green_turban\", \"headgear\"]]\n",
    "clothes = [[\"crowmask\", \"face\"], [\"bluesunglasses\", \"face\"], [\"smoky_makeup\", \"face\"]]\n",
    "def solution(clothes):\n",
    "    lst = list(np.array(clothes)[:,1])\n",
    "    dic = {} \n",
    "    for key in set(lst):   \n",
    "        dic[key] = lst.count(key)\n",
    "\n",
    "    tot = 0\n",
    "    for i in w:\n",
    "        tot += i[0]*i[1]\n",
    "    \n",
    "    answer = tot + sum(dic.values())\n",
    "    return answer\n"
   ]
  },
  {
   "cell_type": "code",
   "execution_count": 151,
   "metadata": {},
   "outputs": [
    {
     "name": "stdout",
     "output_type": "stream",
     "text": [
      "3\n",
      "0\n"
     ]
    }
   ],
   "source": [
    "import numpy as np\n",
    "from itertools import combinations\n",
    "\n",
    "# clothes = [[\"yellowhat\", \"headgear\"], [\"bluesunglasses\", \"eyewear\"], [\"green_turban\", \"headgear\"]]\n",
    "clothes = [[\"crowmask\", \"face\"], [\"bluesunglasses\", \"face\"], [\"smoky_makeup\", \"face\"]]\n",
    "\n",
    "lst = list(np.array(clothes)[:,1])\n",
    "\n",
    "dic = {} \n",
    "for key in set(lst):   \n",
    "    dic[key] = lst.count(key)\n",
    "\n",
    "tot = 0\n",
    "prod = 1\n",
    "for i in range(2, len(dic.keys())+1):\n",
    "    comb = list(combinations(dic.keys(),i))   \n",
    "    for c in comb:\n",
    "        for j in range(0, len(c)):\n",
    "            prod = prod * dic[c[j]]\n",
    "        tot += prod\n",
    "print(sum(dic.values()))\n",
    "print(tot)\n"
   ]
  },
  {
   "cell_type": "code",
   "execution_count": 158,
   "metadata": {},
   "outputs": [
    {
     "name": "stdout",
     "output_type": "stream",
     "text": [
      "3\n",
      "2\n"
     ]
    }
   ],
   "source": [
    "import numpy as np\n",
    "from itertools import combinations\n",
    "from functools import reduce\n",
    "\n",
    "clothes = [[\"yellowhat\", \"headgear\"], [\"bluesunglasses\", \"eyewear\"], [\"green_turban\", \"headgear\"]]\n",
    "# clothes = [[\"crowmask\", \"face\"], [\"bluesunglasses\", \"face\"], [\"smoky_makeup\", \"face\"]]\n",
    "\n",
    "lst = list(np.array(clothes)[:,1])\n",
    "\n",
    "dic = {} \n",
    "for key in set(lst):   \n",
    "    dic[key] = lst.count(key)\n",
    "\n",
    "tot = 0\n",
    "prod = 1\n",
    "for i in range(2, len(dic.keys())+1):\n",
    "    comb = list(combinations(dic.keys(),i))     \n",
    "    for c in comb:\n",
    "        prod = reduce(lambda x, y: dic[x] * dic[y], c)            \n",
    "        tot += prod\n",
    "print(sum(dic.values()))\n",
    "print(tot)\n"
   ]
  },
  {
   "cell_type": "code",
   "execution_count": 43,
   "metadata": {},
   "outputs": [
    {
     "name": "stdout",
     "output_type": "stream",
     "text": [
      "3\n"
     ]
    }
   ],
   "source": [
    "import numpy as np\n",
    "from itertools import combinations\n",
    "from functools import reduce\n",
    "\n",
    "# clothes = [[\"yellowhat\", \"headgear\"], [\"bluesunglasses\", \"eyewear\"], [\"green_turban\", \"headgear\"]]\n",
    "clothes = [[\"crowmask\", \"face\"], [\"bluesunglasses\", \"face\"], [\"smoky_makeup\", \"face\"]]\n",
    "\n",
    "lst = list(np.array(clothes)[:,1])\n",
    "\n",
    "dic = {} \n",
    "for key in set(lst):   \n",
    "    dic[key] = lst.count(key)\n",
    "    \n",
    "tmpDic = dic.copy()\n",
    "tot = 0\n",
    "prod = 1\n",
    "\n",
    "for i in range(2, len(dic.keys())+1):\n",
    "    comb = list(combinations(dic.keys(),i))\n",
    "    for c in comb:\n",
    "        prod = 1\n",
    "        tmpKey = \"\"\n",
    "        print(c)\n",
    "        for a in c:           \n",
    "            tmpKey += a\n",
    "            if tmpKey in dic:\n",
    "                prod = tmpDic[a]\n",
    "            else:                    \n",
    "                prod = prod * dic[a]\n",
    "                tmpDic[tmpKey] = prod\n",
    "print(sum(tmpDic.values()))"
   ]
  },
  {
   "cell_type": "code",
   "execution_count": 356,
   "metadata": {},
   "outputs": [
    {
     "name": "stdout",
     "output_type": "stream",
     "text": [
      "{'5fe21a708ebf16ea4448e57d77066dfde8eb9ec57f20a34469664681047fcf9f7b1cc72bff06a238fb51746851d40f41c4b9c2fa7c3a8db6b0e2808b56e9dd0a': 2, 'cd47553403ee630ceba865db36244f093dfbf9c205dec38bdacf53b004c1e5d5970bd1669899598f5db4e430fbfa7f9ca2cb2d75c2b57c7e9c219b696e5208a4': 1, '536993e0f24261b58bff4b3b19512aeb822964f5c100296811180b1700c99e6541fc480c03d28bcb8bca773bb29e155c9b84729eeb5586293fb87246a9e453bd': 2}\n"
     ]
    }
   ],
   "source": [
    "from itertools import combinations\n",
    "from functools import reduce\n",
    "import hashlib\n",
    "import collections\n",
    "\n",
    "\n",
    "def get_hash(input_str):    \n",
    "    hash_obj = hashlib.blake2b(input_str.encode())\n",
    "    hash_value = hash_obj.hexdigest()\n",
    "    return hash_value\n",
    "\n",
    "\n",
    "\n",
    "clothes = [[\"yellowhat\", \"headgear\"], [\"bluesunglasses\", \"eyewear\"], [\"green_turban\", \"headgear\"]]\n",
    "# clothes = [[\"crowmask\", \"face\"], [\"bluesunglasses\", \"face\"], [\"smoky_makeup\", \"face\"]]\n",
    "\n",
    "lst = list(np.array(clothes)[:,1])\n",
    "\n",
    "\n",
    "dic = collections.Counter(lst)\n",
    "\n",
    "key = list(map(get_hash, dic.keys()))\n",
    "cnt = list(dic.values())\n",
    "hash_dic = dict(zip(key, cnt))\n",
    "\n",
    "\n",
    "# 2개이상 조합 의상 count\n",
    "for i in range(2, len(dic)+1):\n",
    "    for item in list(combinations(dic.keys(), i)):\n",
    "        new = get_hash(''.join(item))        \n",
    "        first = item[:-1][0]\n",
    "        end = get_hash(''.join(item[-1:]))        \n",
    "        hash_dic[new] = dic[first] * hash_dic[end]\n",
    "\n",
    "print(hash_dic)"
   ]
  },
  {
   "cell_type": "code",
   "execution_count": 358,
   "metadata": {},
   "outputs": [
    {
     "name": "stdout",
     "output_type": "stream",
     "text": [
      "2\n"
     ]
    }
   ],
   "source": [
    "from itertools import combinations\n",
    "from functools import reduce\n",
    "import hashlib\n",
    "import collections\n",
    "\n",
    "\n",
    "def get_hash(input_str):    \n",
    "    hash_obj = hashlib.blake2b(input_str.encode())\n",
    "    hash_value = hash_obj.hexdigest()\n",
    "    return hash_value\n",
    "\n",
    "\n",
    "\n",
    "clothes = [[\"yellowhat\", \"headgear\"], [\"bluesunglasses\", \"eyewear\"], [\"green_turban\", \"headgear\"]]\n",
    "# clothes = [[\"crowmask\", \"face\"], [\"bluesunglasses\", \"face\"], [\"smoky_makeup\", \"face\"]]\n",
    "\n",
    "lst = list(np.array(clothes)[:,1])\n",
    "\n",
    "\n",
    "dic = collections.Counter(lst)\n",
    "\n",
    "key = list(map(get_hash, dic.keys()))\n",
    "cnt = list(dic.values())\n",
    "hash_dic = dict(zip(key, cnt))\n",
    "\n",
    "\n",
    "# 2개이상 조합 의상 count\n",
    "for i in range(2, len(dic)+1):\n",
    "    for item in list(combinations(dic.items(), i)):\n",
    "        print(reduce(lambda x, y: x * y, dict(item).values()))\n",
    "\n",
    "        \n"
   ]
  },
  {
   "cell_type": "code",
   "execution_count": 343,
   "metadata": {},
   "outputs": [
    {
     "data": {
      "text/plain": [
       "[('a', 'b', 'c'),\n",
       " ('a', 'b', 'd'),\n",
       " ('a', 'b', 'e'),\n",
       " ('a', 'b', 'f'),\n",
       " ('a', 'b', 'g'),\n",
       " ('a', 'c', 'd'),\n",
       " ('a', 'c', 'e'),\n",
       " ('a', 'c', 'f'),\n",
       " ('a', 'c', 'g'),\n",
       " ('a', 'd', 'e'),\n",
       " ('a', 'd', 'f'),\n",
       " ('a', 'd', 'g'),\n",
       " ('a', 'e', 'f'),\n",
       " ('a', 'e', 'g'),\n",
       " ('a', 'f', 'g'),\n",
       " ('b', 'c', 'd'),\n",
       " ('b', 'c', 'e'),\n",
       " ('b', 'c', 'f'),\n",
       " ('b', 'c', 'g'),\n",
       " ('b', 'd', 'e'),\n",
       " ('b', 'd', 'f'),\n",
       " ('b', 'd', 'g'),\n",
       " ('b', 'e', 'f'),\n",
       " ('b', 'e', 'g'),\n",
       " ('b', 'f', 'g'),\n",
       " ('c', 'd', 'e'),\n",
       " ('c', 'd', 'f'),\n",
       " ('c', 'd', 'g'),\n",
       " ('c', 'e', 'f'),\n",
       " ('c', 'e', 'g'),\n",
       " ('c', 'f', 'g'),\n",
       " ('d', 'e', 'f'),\n",
       " ('d', 'e', 'g'),\n",
       " ('d', 'f', 'g'),\n",
       " ('e', 'f', 'g')]"
      ]
     },
     "execution_count": 343,
     "metadata": {},
     "output_type": "execute_result"
    }
   ],
   "source": [
    "from itertools import combinations\n",
    "lst = ['a', 'b', 'c', 'd', 'e', 'f', 'g']\n",
    "list(combinations(lst, 3))"
   ]
  },
  {
   "cell_type": "code",
   "execution_count": 328,
   "metadata": {},
   "outputs": [
    {
     "name": "stdout",
     "output_type": "stream",
     "text": [
      "['a', 'b', 'c', 'd', 'e', 'f', 'g']\n",
      "['g']\n",
      "['a', 'b', 'c', 'd', 'e', 'f']\n"
     ]
    }
   ],
   "source": [
    "lst = ['a', 'b', 'c', 'd', 'e', 'f', 'g']\n",
    "print(str(lst))\n",
    "print(str(lst[-1:]))\n",
    "print(str(lst[:-1]))"
   ]
  },
  {
   "cell_type": "code",
   "execution_count": null,
   "metadata": {},
   "outputs": [],
   "source": []
  }
 ],
 "metadata": {
  "kernelspec": {
   "display_name": "Python 3",
   "language": "python",
   "name": "python3"
  },
  "language_info": {
   "codemirror_mode": {
    "name": "ipython",
    "version": 3
   },
   "file_extension": ".py",
   "mimetype": "text/x-python",
   "name": "python",
   "nbconvert_exporter": "python",
   "pygments_lexer": "ipython3",
   "version": "3.8.5"
  },
  "toc": {
   "base_numbering": 1,
   "nav_menu": {},
   "number_sections": true,
   "sideBar": true,
   "skip_h1_title": false,
   "title_cell": "Table of Contents",
   "title_sidebar": "Contents",
   "toc_cell": true,
   "toc_position": {
    "height": "calc(100% - 180px)",
    "left": "10px",
    "top": "150px",
    "width": "319.531px"
   },
   "toc_section_display": true,
   "toc_window_display": true
  },
  "varInspector": {
   "cols": {
    "lenName": 16,
    "lenType": 16,
    "lenVar": 40
   },
   "kernels_config": {
    "python": {
     "delete_cmd_postfix": "",
     "delete_cmd_prefix": "del ",
     "library": "var_list.py",
     "varRefreshCmd": "print(var_dic_list())"
    },
    "r": {
     "delete_cmd_postfix": ") ",
     "delete_cmd_prefix": "rm(",
     "library": "var_list.r",
     "varRefreshCmd": "cat(var_dic_list()) "
    }
   },
   "types_to_exclude": [
    "module",
    "function",
    "builtin_function_or_method",
    "instance",
    "_Feature"
   ],
   "window_display": false
  }
 },
 "nbformat": 4,
 "nbformat_minor": 4
}
