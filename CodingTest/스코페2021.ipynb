{
 "cells": [
  {
   "cell_type": "code",
   "execution_count": 38,
   "metadata": {},
   "outputs": [
    {
     "name": "stdout",
     "output_type": "stream",
     "text": [
      "3\n",
      "['', '', '']\n"
     ]
    }
   ],
   "source": [
    "# -*- coding: utf-8 -*-\n",
    "# UTF-8 encoding when using korean\n",
    "import sys\n",
    "import numpy as np\n",
    "\n",
    "user_input = input()\n",
    "# print (\"Hello Goorm! Your input is \" + user_input)\n",
    "\n",
    "arr = []\n",
    "for i in range(0, int(user_input)):\n",
    "\tinput = sys.stdin.readline()\n",
    "\tarr.append(input.split(' ~ '))\n",
    "\t\n",
    "# print(arr)\n",
    "\n",
    "# print(max(list(np.array(arr)[:,0])), '~', min(list(np.array(arr)[:,1])))"
   ]
  },
  {
   "cell_type": "code",
   "execution_count": 231,
   "metadata": {},
   "outputs": [
    {
     "name": "stdout",
     "output_type": "stream",
     "text": [
      "3\n"
     ]
    }
   ],
   "source": [
    "import math\n",
    "\n",
    "\n",
    "input = \"1111\"\n",
    "\n",
    "arr = input.split('0')\n",
    "\n",
    "def check(oneCnt):\n",
    "    startN = int(oneCnt/2)\n",
    "    sum = 0\n",
    "    for n in range(startN, -1, -1):\n",
    "        m = oneCnt - 2*n\n",
    "        sum += (math.factorial(m+n) / math.factorial(m) / math.factorial(n))\n",
    "    return int(sum)\n",
    "\n",
    "s = 0\n",
    "for a in arr:\n",
    "    if a.count(\"1\") > 1:\n",
    "        s += check(a.count(\"1\")-1)\n",
    "print(s)\n",
    "\n",
    "# 1:m개, 2:n개\n",
    "\n"
   ]
  },
  {
   "cell_type": "code",
   "execution_count": 174,
   "metadata": {},
   "outputs": [
    {
     "name": "stdout",
     "output_type": "stream",
     "text": [
      "{1: 8, 2: 3, 3: 0, 4: 0}\n",
      "11\n",
      "size[1]: 8\n",
      "size[2]: 3\n"
     ]
    }
   ],
   "source": [
    "import numpy as np\n",
    "\n",
    "input_ = np.array([[1, 1, 1, 0], [1, 1, 1, 0], [0, 1, 1, 0], [0, 0, 0, 0]])\n",
    "# filter_ = np.array([[1, 1], [1, 1]])\n",
    "\n",
    "# print(input_)\n",
    "# print(filter_)\n",
    "\n",
    "from scipy import ndimage\n",
    "ndimage.convolve(input_, filter_, mode='constant', cval = 0.0).tolist()\n",
    "\n",
    "sol = {}\n",
    "for i in range(1, 5):\n",
    "    filter_ = np.ones((i, i)).tolist()\n",
    "    s = 0\n",
    "    for a in ndimage.convolve(input_, filter_, mode='constant', cval = 0.0).tolist():\n",
    "        s += a.count(i*i)\n",
    "    sol[i] = s\n",
    "print(sol)\n",
    "\n",
    "print(sum(sol.values()))\n",
    "\n",
    "for s in sol:\n",
    "    if sol[s] == 0:\n",
    "        break\n",
    "    print(\"size[{0}]: {1}\".format(s, sol[s]))"
   ]
  },
  {
   "cell_type": "code",
   "execution_count": 125,
   "metadata": {},
   "outputs": [
    {
     "data": {
      "text/plain": [
       "[1, 1, 1, 1]"
      ]
     },
     "execution_count": 125,
     "metadata": {},
     "output_type": "execute_result"
    }
   ],
   "source": [
    "list(map(int, list(\"1111\")))"
   ]
  },
  {
   "cell_type": "code",
   "execution_count": 138,
   "metadata": {},
   "outputs": [
    {
     "data": {
      "text/plain": [
       "[[1.0, 1.0], [1.0, 1.0]]"
      ]
     },
     "execution_count": 138,
     "metadata": {},
     "output_type": "execute_result"
    }
   ],
   "source": [
    "np.ones((2, 2)).tolist()"
   ]
  },
  {
   "cell_type": "code",
   "execution_count": 230,
   "metadata": {},
   "outputs": [
    {
     "name": "stdout",
     "output_type": "stream",
     "text": [
      "   index  x  y  a  b  priority  score\n",
      "0      1  1  0  Y  D         2    4.3\n",
      "1      0  0  1  Y  B         2    3.0\n",
      "2      2  1  1  Y  C         2    2.1\n",
      "3      4  1  2  O  E         1    5.0\n",
      "4      3  0  2  O  C         1    2.1\n",
      "D 4.3 1 0\n",
      "B 3.0 0 1\n",
      "C 2.1 1 1\n",
      "E 5.0 1 2\n",
      "C 2.1 0 2\n"
     ]
    }
   ],
   "source": [
    "# 4.0 3.0 2.1 4.3 5.0\n",
    "# 2 3\n",
    "import pandas as pd\n",
    "\n",
    "p = [['W', 0], ['O', 1], ['Y', 2]]\n",
    "df_priority = pd.DataFrame(p, columns=['a', 'priority'])\n",
    "\n",
    "score = \"4.0 3.0 2.1 4.3 5.0\"\n",
    "\n",
    "contents = [\"A\", \"B\", \"C\", \"D\", \"E\"]\n",
    "conzip = list(zip(contents, map(float, score.split(' '))))\n",
    "df_con = pd.DataFrame(conzip, columns=[\"b\", \"score\"])\n",
    "# print(df_con)\n",
    "log = \"WYO\\nYYO\\nABC\\nDCE\"\n",
    "\n",
    "a = ['WYO', 'YYO']\n",
    "b = ['ABC', 'DCE']\n",
    "\n",
    "l = []\n",
    "for i in range(0, len(a)):\n",
    "    for j in range(0, len(a[0])):\n",
    "        if a[i][j] != 'W':\n",
    "#             dic[i,j] = a[i][j] + b[i][j]\n",
    "            l.append([i, j, a[i][j], b[i][j]])\n",
    "\n",
    "df = pd.DataFrame(l, columns=[\"x\", \"y\", \"a\", \"b\"])\n",
    "df = pd.merge(df, df_priority, on='a')\n",
    "df = pd.merge(df, df_con, on='b')\n",
    "# print(df)\n",
    "# df['rank'] = df.groupby('a')['a', 'score'].rank(ascending=[False, False]).astype(int)\n",
    "df = df.sort_values(by=['priority', 'score', 'y'], ascending=[False, False,True]).reset_index()\n",
    "\n",
    "print(df)\n",
    "for i in df.index:\n",
    "    print(df.iloc[i]['b'], df.iloc[i]['score'], df.iloc[i]['x'], df.iloc[i]['y'])\n"
   ]
  }
 ],
 "metadata": {
  "kernelspec": {
   "display_name": "Python 3",
   "language": "python",
   "name": "python3"
  },
  "language_info": {
   "codemirror_mode": {
    "name": "ipython",
    "version": 3
   },
   "file_extension": ".py",
   "mimetype": "text/x-python",
   "name": "python",
   "nbconvert_exporter": "python",
   "pygments_lexer": "ipython3",
   "version": "3.8.5"
  },
  "toc": {
   "base_numbering": 1,
   "nav_menu": {},
   "number_sections": true,
   "sideBar": true,
   "skip_h1_title": false,
   "title_cell": "Table of Contents",
   "title_sidebar": "Contents",
   "toc_cell": false,
   "toc_position": {},
   "toc_section_display": true,
   "toc_window_display": false
  },
  "varInspector": {
   "cols": {
    "lenName": 16,
    "lenType": 16,
    "lenVar": 40
   },
   "kernels_config": {
    "python": {
     "delete_cmd_postfix": "",
     "delete_cmd_prefix": "del ",
     "library": "var_list.py",
     "varRefreshCmd": "print(var_dic_list())"
    },
    "r": {
     "delete_cmd_postfix": ") ",
     "delete_cmd_prefix": "rm(",
     "library": "var_list.r",
     "varRefreshCmd": "cat(var_dic_list()) "
    }
   },
   "types_to_exclude": [
    "module",
    "function",
    "builtin_function_or_method",
    "instance",
    "_Feature"
   ],
   "window_display": false
  }
 },
 "nbformat": 4,
 "nbformat_minor": 4
}
