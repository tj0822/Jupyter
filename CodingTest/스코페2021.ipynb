{
 "cells": [
  {
   "cell_type": "code",
   "execution_count": 38,
   "metadata": {},
   "outputs": [
    {
     "name": "stdout",
     "output_type": "stream",
     "text": [
      "3\n",
      "['', '', '']\n"
     ]
    }
   ],
   "source": [
    "# -*- coding: utf-8 -*-\n",
    "# UTF-8 encoding when using korean\n",
    "import sys\n",
    "import numpy as np\n",
    "\n",
    "user_input = input()\n",
    "# print (\"Hello Goorm! Your input is \" + user_input)\n",
    "\n",
    "arr = []\n",
    "for i in range(0, int(user_input)):\n",
    "\tinput = sys.stdin.readline()\n",
    "\tarr.append(input.split(' ~ '))\n",
    "\t\n",
    "# print(arr)\n",
    "\n",
    "# print(max(list(np.array(arr)[:,0])), '~', min(list(np.array(arr)[:,1])))"
   ]
  },
  {
   "cell_type": "code",
   "execution_count": 231,
   "metadata": {},
   "outputs": [
    {
     "name": "stdout",
     "output_type": "stream",
     "text": [
      "3\n"
     ]
    }
   ],
   "source": [
    "import math\n",
    "\n",
    "\n",
    "input = \"1111\"\n",
    "\n",
    "arr = input.split('0')\n",
    "\n",
    "def check(oneCnt):\n",
    "    startN = int(oneCnt/2)\n",
    "    sum = 0\n",
    "    for n in range(startN, -1, -1):\n",
    "        m = oneCnt - 2*n\n",
    "        sum += (math.factorial(m+n) / math.factorial(m) / math.factorial(n))\n",
    "    return int(sum)\n",
    "\n",
    "s = 0\n",
    "for a in arr:\n",
    "    if a.count(\"1\") > 1:\n",
    "        s += check(a.count(\"1\")-1)\n",
    "print(s)\n",
    "\n",
    "# 1:m개, 2:n개\n",
    "\n"
   ]
  },
  {
   "cell_type": "code",
   "execution_count": 174,
   "metadata": {},
   "outputs": [
    {
     "name": "stdout",
     "output_type": "stream",
     "text": [
      "{1: 8, 2: 3, 3: 0, 4: 0}\n",
      "11\n",
      "size[1]: 8\n",
      "size[2]: 3\n"
     ]
    }
   ],
   "source": [
    "import numpy as np\n",
    "\n",
    "input_ = np.array([[1, 1, 1, 0], [1, 1, 1, 0], [0, 1, 1, 0], [0, 0, 0, 0]])\n",
    "# filter_ = np.array([[1, 1], [1, 1]])\n",
    "\n",
    "# print(input_)\n",
    "# print(filter_)\n",
    "\n",
    "from scipy import ndimage\n",
    "ndimage.convolve(input_, filter_, mode='constant', cval = 0.0).tolist()\n",
    "\n",
    "sol = {}\n",
    "for i in range(1, 5):\n",
    "    filter_ = np.ones((i, i)).tolist()\n",
    "    s = 0\n",
    "    for a in ndimage.convolve(input_, filter_, mode='constant', cval = 0.0).tolist():\n",
    "        s += a.count(i*i)\n",
    "    sol[i] = s\n",
    "print(sol)\n",
    "\n",
    "print(sum(sol.values()))\n",
    "\n",
    "for s in sol:\n",
    "    if sol[s] == 0:\n",
    "        break\n",
    "    print(\"size[{0}]: {1}\".format(s, sol[s]))"
   ]
  },
  {
   "cell_type": "code",
   "execution_count": 125,
   "metadata": {},
   "outputs": [
    {
     "data": {
      "text/plain": [
       "[1, 1, 1, 1]"
      ]
     },
     "execution_count": 125,
     "metadata": {},
     "output_type": "execute_result"
    }
   ],
   "source": [
    "list(map(int, list(\"1111\")))"
   ]
  },
  {
   "cell_type": "code",
   "execution_count": 138,
   "metadata": {},
   "outputs": [
    {
     "data": {
      "text/plain": [
       "[[1.0, 1.0], [1.0, 1.0]]"
      ]
     },
     "execution_count": 138,
     "metadata": {},
     "output_type": "execute_result"
    }
   ],
   "source": [
    "np.ones((2, 2)).tolist()"
   ]
  },
  {
   "cell_type": "code",
   "execution_count": 230,
   "metadata": {
    "scrolled": true
   },
   "outputs": [
    {
     "name": "stdout",
     "output_type": "stream",
     "text": [
      "   index  x  y  a  b  priority  score\n",
      "0      1  1  0  Y  D         2    4.3\n",
      "1      0  0  1  Y  B         2    3.0\n",
      "2      2  1  1  Y  C         2    2.1\n",
      "3      4  1  2  O  E         1    5.0\n",
      "4      3  0  2  O  C         1    2.1\n",
      "D 4.3 1 0\n",
      "B 3.0 0 1\n",
      "C 2.1 1 1\n",
      "E 5.0 1 2\n",
      "C 2.1 0 2\n"
     ]
    }
   ],
   "source": [
    "# 4.0 3.0 2.1 4.3 5.0\n",
    "# 2 3\n",
    "import pandas as pd\n",
    "\n",
    "p = [['W', 0], ['O', 1], ['Y', 2]]\n",
    "df_priority = pd.DataFrame(p, columns=['a', 'priority'])\n",
    "\n",
    "score = \"4.0 3.0 2.1 4.3 5.0\"\n",
    "\n",
    "contents = [\"A\", \"B\", \"C\", \"D\", \"E\"]\n",
    "conzip = list(zip(contents, map(float, score.split(' '))))\n",
    "df_con = pd.DataFrame(conzip, columns=[\"b\", \"score\"])\n",
    "# print(df_con)\n",
    "log = \"WYO\\nYYO\\nABC\\nDCE\"\n",
    "\n",
    "a = ['WYO', 'YYO']\n",
    "b = ['ABC', 'DCE']\n",
    "\n",
    "l = []\n",
    "for i in range(0, len(a)):\n",
    "    for j in range(0, len(a[0])):\n",
    "        if a[i][j] != 'W':\n",
    "#             dic[i,j] = a[i][j] + b[i][j]\n",
    "            l.append([i, j, a[i][j], b[i][j]])\n",
    "\n",
    "df = pd.DataFrame(l, columns=[\"x\", \"y\", \"a\", \"b\"])\n",
    "df = pd.merge(df, df_priority, on='a')\n",
    "df = pd.merge(df, df_con, on='b')\n",
    "# print(df)\n",
    "# df['rank'] = df.groupby('a')['a', 'score'].rank(ascending=[False, False]).astype(int)\n",
    "df = df.sort_values(by=['priority', 'score', 'y'], ascending=[False, False,True]).reset_index()\n",
    "\n",
    "print(df)\n",
    "for i in df.index:\n",
    "    print(df.iloc[i]['b'], df.iloc[i]['score'], df.iloc[i]['x'], df.iloc[i]['y'])\n"
   ]
  },
  {
   "cell_type": "code",
   "execution_count": 31,
   "metadata": {},
   "outputs": [
    {
     "name": "stdout",
     "output_type": "stream",
     "text": [
      "[134, 214, 154, 225, 343, 94, 153]\n"
     ]
    }
   ],
   "source": [
    "# 7 00:05:48\n",
    "# 02:14\n",
    "# 03:34\n",
    "# 02:34\n",
    "# 03:45\n",
    "# 05:43\n",
    "# 01:34\n",
    "# 02:33\n",
    "user_input = [\"02:14\",\n",
    "\"03:34\",\n",
    "\"02:34\",\n",
    "\"03:45\",\n",
    "\"05:43\",\n",
    "\"01:34\",\n",
    "\"02:33\"]\n",
    "\n",
    "def convertTime(t):\n",
    "    time = t.split(':')\n",
    "    \n",
    "    return int(time[0])*60 + int(time[1])\n",
    "\n",
    "user_inputs = list(map(convertTime, user_input))\n",
    "\n",
    "print(user_inputs)\n"
   ]
  },
  {
   "cell_type": "code",
   "execution_count": 111,
   "metadata": {},
   "outputs": [
    {
     "name": "stdout",
     "output_type": "stream",
     "text": [
      "2 1\n"
     ]
    }
   ],
   "source": [
    "\n",
    "startIdx = 0\n",
    "maxCnt = 1\n",
    "base = convertTime(\"05:48\")\n",
    "for i in range(0, len(user_inputs)):\n",
    "    for j in range(maxCnt, len(user_inputs)+1):\n",
    "        if i+j > len(user_inputs):\n",
    "#             print('Index 초과')\n",
    "            break\n",
    "        else:          \n",
    "#             print(i, j, user_inputs[i:i+j])\n",
    "            if sum(user_inputs[i:i+j]) < base:                \n",
    "                if sum(user_inputs[i:i+j+1]) > base and j > maxCnt:\n",
    "                    print(i, j, user_inputs[i:i+j+1])\n",
    "                    startIdx = i\n",
    "                    maxCnt = j\n",
    "            else:\n",
    "                break\n",
    "    \n",
    "print(maxCnt+1, startIdx+1)"
   ]
  },
  {
   "cell_type": "code",
   "execution_count": 209,
   "metadata": {},
   "outputs": [
    {
     "name": "stdout",
     "output_type": "stream",
     "text": [
      "[['seoul', 'beijing', '3'], ['beijing', 'hawaii', '10'], ['seoul', 'tokyo', '4'], ['seoul', 'hawaii', '6'], ['tokyo', 'hawaii', '5'], ['beijing', 'tokyo', '5'], ['beijing', 'seoul', '3'], ['hawaii', 'beijing', '10'], ['tokyo', 'seoul', '4'], ['hawaii', 'seoul', '6'], ['hawaii', 'tokyo', '5'], ['tokyo', 'beijing', '5']]\n"
     ]
    }
   ],
   "source": [
    "inputArr = [['seoul', 'beijing', '3'], ['beijing', 'hawaii', '10'], ['seoul', 'tokyo', '4'], ['seoul', 'hawaii', '6'], ['tokyo', 'hawaii', '5'], ['beijing', 'tokyo', '5']]\n",
    "inputArrCopy = inputArr.copy()\n",
    "for a in inputArr:\n",
    "    inputArrCopy.append([a[1], a[0], a[2]])\n",
    "\n"
   ]
  },
  {
   "cell_type": "code",
   "execution_count": 204,
   "metadata": {
    "scrolled": true
   },
   "outputs": [
    {
     "name": "stdout",
     "output_type": "stream",
     "text": [
      "['seoul', 'beijing', '3']\n",
      "['beijing', 'hawaii', '10']\n",
      "['seoul', 'tokyo', '4']\n",
      "['seoul', 'hawaii', '6']\n",
      "['tokyo', 'hawaii', '5']\n",
      "['beijing', 'tokyo', '5']\n"
     ]
    },
    {
     "data": {
      "text/html": [
       "<div>\n",
       "<style scoped>\n",
       "    .dataframe tbody tr th:only-of-type {\n",
       "        vertical-align: middle;\n",
       "    }\n",
       "\n",
       "    .dataframe tbody tr th {\n",
       "        vertical-align: top;\n",
       "    }\n",
       "\n",
       "    .dataframe thead th {\n",
       "        text-align: right;\n",
       "    }\n",
       "</style>\n",
       "<table border=\"1\" class=\"dataframe\">\n",
       "  <thead>\n",
       "    <tr style=\"text-align: right;\">\n",
       "      <th></th>\n",
       "      <th>s</th>\n",
       "      <th>d</th>\n",
       "      <th>distance</th>\n",
       "    </tr>\n",
       "  </thead>\n",
       "  <tbody>\n",
       "    <tr>\n",
       "      <th>0</th>\n",
       "      <td>seoul</td>\n",
       "      <td>beijing</td>\n",
       "      <td>3</td>\n",
       "    </tr>\n",
       "    <tr>\n",
       "      <th>6</th>\n",
       "      <td>beijing</td>\n",
       "      <td>seoul</td>\n",
       "      <td>3</td>\n",
       "    </tr>\n",
       "    <tr>\n",
       "      <th>2</th>\n",
       "      <td>seoul</td>\n",
       "      <td>tokyo</td>\n",
       "      <td>4</td>\n",
       "    </tr>\n",
       "    <tr>\n",
       "      <th>8</th>\n",
       "      <td>tokyo</td>\n",
       "      <td>seoul</td>\n",
       "      <td>4</td>\n",
       "    </tr>\n",
       "    <tr>\n",
       "      <th>4</th>\n",
       "      <td>tokyo</td>\n",
       "      <td>hawaii</td>\n",
       "      <td>5</td>\n",
       "    </tr>\n",
       "    <tr>\n",
       "      <th>5</th>\n",
       "      <td>beijing</td>\n",
       "      <td>tokyo</td>\n",
       "      <td>5</td>\n",
       "    </tr>\n",
       "    <tr>\n",
       "      <th>10</th>\n",
       "      <td>hawaii</td>\n",
       "      <td>tokyo</td>\n",
       "      <td>5</td>\n",
       "    </tr>\n",
       "    <tr>\n",
       "      <th>11</th>\n",
       "      <td>tokyo</td>\n",
       "      <td>beijing</td>\n",
       "      <td>5</td>\n",
       "    </tr>\n",
       "    <tr>\n",
       "      <th>3</th>\n",
       "      <td>seoul</td>\n",
       "      <td>hawaii</td>\n",
       "      <td>6</td>\n",
       "    </tr>\n",
       "    <tr>\n",
       "      <th>9</th>\n",
       "      <td>hawaii</td>\n",
       "      <td>seoul</td>\n",
       "      <td>6</td>\n",
       "    </tr>\n",
       "    <tr>\n",
       "      <th>1</th>\n",
       "      <td>beijing</td>\n",
       "      <td>hawaii</td>\n",
       "      <td>10</td>\n",
       "    </tr>\n",
       "    <tr>\n",
       "      <th>7</th>\n",
       "      <td>hawaii</td>\n",
       "      <td>beijing</td>\n",
       "      <td>10</td>\n",
       "    </tr>\n",
       "  </tbody>\n",
       "</table>\n",
       "</div>"
      ],
      "text/plain": [
       "          s        d  distance\n",
       "0     seoul  beijing         3\n",
       "6   beijing    seoul         3\n",
       "2     seoul    tokyo         4\n",
       "8     tokyo    seoul         4\n",
       "4     tokyo   hawaii         5\n",
       "5   beijing    tokyo         5\n",
       "10   hawaii    tokyo         5\n",
       "11    tokyo  beijing         5\n",
       "3     seoul   hawaii         6\n",
       "9    hawaii    seoul         6\n",
       "1   beijing   hawaii        10\n",
       "7    hawaii  beijing        10"
      ]
     },
     "execution_count": 204,
     "metadata": {},
     "output_type": "execute_result"
    }
   ],
   "source": [
    "import numpy as np\n",
    "\n",
    "for a in inputArr:\n",
    "    print(a)\n",
    "# print(s)\n",
    "# print(d)\n",
    "# print(distance)\n",
    "# print(set(s + d))\n",
    "import pandas as pd\n",
    "df = pd.DataFrame(inputArrCopy, columns=[\"s\", \"d\", \"distance\"])\n",
    "df[\"distance\"] = df[\"distance\"].apply(int)\n",
    "df = df.sort_values(\"distance\", ascending=True)\n",
    "\n",
    "\n"
   ]
  },
  {
   "cell_type": "code",
   "execution_count": 176,
   "metadata": {},
   "outputs": [
    {
     "name": "stdout",
     "output_type": "stream",
     "text": [
      "{'hawaii', 'beijing', 'seoul', 'tokyo'}\n"
     ]
    }
   ],
   "source": [
    "citis = set(s+d)\n",
    "print(citis)\n",
    "    "
   ]
  },
  {
   "cell_type": "code",
   "execution_count": 208,
   "metadata": {},
   "outputs": [
    {
     "name": "stdout",
     "output_type": "stream",
     "text": [
      "hawaii beijing\n",
      "hawaii seoul\n",
      "hawaii tokyo\n",
      "beijing hawaii\n",
      "beijing seoul\n",
      "beijing tokyo\n",
      "seoul hawaii\n",
      "seoul beijing\n",
      "seoul tokyo\n",
      "tokyo hawaii\n",
      "tokyo beijing\n",
      "tokyo seoul\n"
     ]
    }
   ],
   "source": [
    "tmpSet = set()\n",
    "for citi1 in citis:\n",
    "    for city2 in citis:\n",
    "        if citi1 != city2:\n",
    "            print(citi1, city2)\n"
   ]
  },
  {
   "cell_type": "code",
   "execution_count": 211,
   "metadata": {
    "scrolled": true
   },
   "outputs": [
    {
     "data": {
      "text/plain": [
       "[('hawaii', 'beijing', 'seoul', 'tokyo'),\n",
       " ('hawaii', 'beijing', 'tokyo', 'seoul'),\n",
       " ('hawaii', 'seoul', 'beijing', 'tokyo'),\n",
       " ('hawaii', 'seoul', 'tokyo', 'beijing'),\n",
       " ('hawaii', 'tokyo', 'beijing', 'seoul'),\n",
       " ('hawaii', 'tokyo', 'seoul', 'beijing'),\n",
       " ('beijing', 'hawaii', 'seoul', 'tokyo'),\n",
       " ('beijing', 'hawaii', 'tokyo', 'seoul'),\n",
       " ('beijing', 'seoul', 'hawaii', 'tokyo'),\n",
       " ('beijing', 'seoul', 'tokyo', 'hawaii'),\n",
       " ('beijing', 'tokyo', 'hawaii', 'seoul'),\n",
       " ('beijing', 'tokyo', 'seoul', 'hawaii'),\n",
       " ('seoul', 'hawaii', 'beijing', 'tokyo'),\n",
       " ('seoul', 'hawaii', 'tokyo', 'beijing'),\n",
       " ('seoul', 'beijing', 'hawaii', 'tokyo'),\n",
       " ('seoul', 'beijing', 'tokyo', 'hawaii'),\n",
       " ('seoul', 'tokyo', 'hawaii', 'beijing'),\n",
       " ('seoul', 'tokyo', 'beijing', 'hawaii'),\n",
       " ('tokyo', 'hawaii', 'beijing', 'seoul'),\n",
       " ('tokyo', 'hawaii', 'seoul', 'beijing'),\n",
       " ('tokyo', 'beijing', 'hawaii', 'seoul'),\n",
       " ('tokyo', 'beijing', 'seoul', 'hawaii'),\n",
       " ('tokyo', 'seoul', 'hawaii', 'beijing'),\n",
       " ('tokyo', 'seoul', 'beijing', 'hawaii')]"
      ]
     },
     "execution_count": 211,
     "metadata": {},
     "output_type": "execute_result"
    }
   ],
   "source": [
    "from itertools import permutations\n",
    "\n",
    "list(permutations(citis, 4))"
   ]
  },
  {
   "cell_type": "code",
   "execution_count": 279,
   "metadata": {
    "scrolled": true
   },
   "outputs": [
    {
     "name": "stdout",
     "output_type": "stream",
     "text": [
      "{'6': ['4', '5'], '4': ['1', '2', '3']}\n"
     ]
    }
   ],
   "source": [
    "inArr = [\"6 4\",\n",
    "\"6 5\",\n",
    "\"4 1\",\n",
    "\"4 2\",\n",
    "\"4 3\"]\n",
    "\n",
    "dic = {}\n",
    "for a in inArr:\n",
    "    splitStr = a.split()\n",
    "    if splitStr[0] in dic.keys():\n",
    "        dic[splitStr[0]].append(splitStr[1][0])\n",
    "    else:\n",
    "        dic[splitStr[0]] = list(splitStr[1])\n",
    "\n",
    "print(dic)"
   ]
  },
  {
   "cell_type": "code",
   "execution_count": 268,
   "metadata": {},
   "outputs": [
    {
     "data": {
      "text/plain": [
       "{1: [1, 2]}"
      ]
     },
     "execution_count": 268,
     "metadata": {},
     "output_type": "execute_result"
    }
   ],
   "source": []
  },
  {
   "cell_type": "code",
   "execution_count": 317,
   "metadata": {},
   "outputs": [],
   "source": [
    "def check(u, d):\n",
    "    result = \"no\"\n",
    "    if u in dic.keys() and d in dic[u]:\n",
    "        result = \"yes\"\n",
    "        return result\n",
    "    else:\n",
    "        print([k for k, v in dic.items() if d in v])\n",
    "        for a in [k for k, v in dic.items() if d in v]:\n",
    "            if check(u, a) == \"yes\":\n",
    "                break\n",
    "    print('Not Find')\n",
    "    return result\n",
    "\n"
   ]
  },
  {
   "cell_type": "code",
   "execution_count": 318,
   "metadata": {},
   "outputs": [
    {
     "name": "stdout",
     "output_type": "stream",
     "text": [
      "['4']\n",
      "Not Find\n"
     ]
    },
    {
     "data": {
      "text/plain": [
       "'no'"
      ]
     },
     "execution_count": 318,
     "metadata": {},
     "output_type": "execute_result"
    }
   ],
   "source": [
    "check(\"6\", \"3\")"
   ]
  }
 ],
 "metadata": {
  "kernelspec": {
   "display_name": "Python 3",
   "language": "python",
   "name": "python3"
  },
  "language_info": {
   "codemirror_mode": {
    "name": "ipython",
    "version": 3
   },
   "file_extension": ".py",
   "mimetype": "text/x-python",
   "name": "python",
   "nbconvert_exporter": "python",
   "pygments_lexer": "ipython3",
   "version": "3.8.5"
  },
  "toc": {
   "base_numbering": 1,
   "nav_menu": {},
   "number_sections": true,
   "sideBar": true,
   "skip_h1_title": false,
   "title_cell": "Table of Contents",
   "title_sidebar": "Contents",
   "toc_cell": false,
   "toc_position": {},
   "toc_section_display": true,
   "toc_window_display": false
  },
  "varInspector": {
   "cols": {
    "lenName": 16,
    "lenType": 16,
    "lenVar": 40
   },
   "kernels_config": {
    "python": {
     "delete_cmd_postfix": "",
     "delete_cmd_prefix": "del ",
     "library": "var_list.py",
     "varRefreshCmd": "print(var_dic_list())"
    },
    "r": {
     "delete_cmd_postfix": ") ",
     "delete_cmd_prefix": "rm(",
     "library": "var_list.r",
     "varRefreshCmd": "cat(var_dic_list()) "
    }
   },
   "types_to_exclude": [
    "module",
    "function",
    "builtin_function_or_method",
    "instance",
    "_Feature"
   ],
   "window_display": false
  }
 },
 "nbformat": 4,
 "nbformat_minor": 4
}
