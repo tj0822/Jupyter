{
 "cells": [
  {
   "cell_type": "code",
   "execution_count": 27,
   "metadata": {},
   "outputs": [
    {
     "name": "stdout",
     "output_type": "stream",
     "text": [
      "['4', '12 0', '10 14', '4 20', '5 2147483648']\n",
      "12 0\n",
      "정답 :  1\n",
      "10 14\n",
      "정답 :  2\n",
      "4 20\n",
      "정답 :  0\n",
      "5 2147483648\n",
      "정답 :  1\n"
     ]
    }
   ],
   "source": [
    "import sys\n",
    "user_input = \"4\\n12 0\\n10 14\\n4 20\\n5 2147483648\"\n",
    "\n",
    "arr = user_input.split('\\n')\n",
    "print(arr)\n",
    "for a in arr[1:]:\n",
    "    print(a)\n",
    "    N = int(a.split(' ')[0])\n",
    "    M = int(a.split(' ')[1])\n",
    "    maxX = int(N/5)\n",
    "    bFlag = True\n",
    "    answer = 0\n",
    "    for x in range(maxX, 0, -1):\n",
    "        if not bFlag:\n",
    "            break\n",
    "        k = 5\n",
    "        while bFlag:\n",
    "            if k > 12:\n",
    "                break\n",
    "            elif k*x > N:\n",
    "                break\n",
    "            elif k*x <= N and (12-k)*x <= M:\n",
    "                answer = x\n",
    "                bFlag = False\n",
    "                break\n",
    "            else:\n",
    "                k += 1\n",
    "    print('정답 : ', answer)"
   ]
  },
  {
   "cell_type": "code",
   "execution_count": null,
   "metadata": {},
   "outputs": [],
   "source": [
    "# -*- coding: utf-8 -*-\n",
    "# UTF-8 encoding when using korean\n",
    "import math\n",
    "user_input = input()\n",
    "# print (\"Hello Goorm! Your input is \" + user_input)\n",
    "\n",
    "arr = user_input.split('\\n')\n",
    "N = int(arr[0].split(\" \")[0])\t\t# 입력 숫자의 갯수(N)\n",
    "K = int(arr[0].split(\" \")[1])\t\t# stride step 단위(K)\n",
    "answer = math.ceil((N-1) / (K-1))\t     # (K-1) * x + 1 >= N를 만족하는 가장 작은 x찾기\n",
    "\n",
    "\n",
    "print(answer)\n"
   ]
  },
  {
   "cell_type": "code",
   "execution_count": 2,
   "metadata": {},
   "outputs": [
    {
     "name": "stdout",
     "output_type": "stream",
     "text": [
      "[['1', '1', '1', '1'], ['1', '1', '1', '0'], ['0', '1', '1', '0'], ['0', '0', '0', '0']]\n"
     ]
    }
   ],
   "source": [
    "\n"
   ]
  },
  {
   "cell_type": "code",
   "execution_count": null,
   "metadata": {},
   "outputs": [],
   "source": []
  },
  {
   "cell_type": "code",
   "execution_count": null,
   "metadata": {},
   "outputs": [],
   "source": []
  },
  {
   "cell_type": "code",
   "execution_count": null,
   "metadata": {},
   "outputs": [],
   "source": []
  }
 ],
 "metadata": {
  "kernelspec": {
   "display_name": "Python 3",
   "language": "python",
   "name": "python3"
  },
  "language_info": {
   "codemirror_mode": {
    "name": "ipython",
    "version": 3
   },
   "file_extension": ".py",
   "mimetype": "text/x-python",
   "name": "python",
   "nbconvert_exporter": "python",
   "pygments_lexer": "ipython3",
   "version": "3.8.5"
  },
  "toc": {
   "base_numbering": 1,
   "nav_menu": {},
   "number_sections": true,
   "sideBar": true,
   "skip_h1_title": false,
   "title_cell": "Table of Contents",
   "title_sidebar": "Contents",
   "toc_cell": false,
   "toc_position": {},
   "toc_section_display": true,
   "toc_window_display": false
  },
  "varInspector": {
   "cols": {
    "lenName": 16,
    "lenType": 16,
    "lenVar": 40
   },
   "kernels_config": {
    "python": {
     "delete_cmd_postfix": "",
     "delete_cmd_prefix": "del ",
     "library": "var_list.py",
     "varRefreshCmd": "print(var_dic_list())"
    },
    "r": {
     "delete_cmd_postfix": ") ",
     "delete_cmd_prefix": "rm(",
     "library": "var_list.r",
     "varRefreshCmd": "cat(var_dic_list()) "
    }
   },
   "types_to_exclude": [
    "module",
    "function",
    "builtin_function_or_method",
    "instance",
    "_Feature"
   ],
   "window_display": false
  }
 },
 "nbformat": 4,
 "nbformat_minor": 4
}
