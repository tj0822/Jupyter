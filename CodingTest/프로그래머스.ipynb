{
 "cells": [
  {
   "cell_type": "markdown",
   "metadata": {
    "toc": true
   },
   "source": [
    "<h1>Table of Contents<span class=\"tocSkip\"></span></h1>\n",
    "<div class=\"toc\"><ul class=\"toc-item\"><li><span><a href=\"#해시\" data-toc-modified-id=\"해시-1\"><span class=\"toc-item-num\">1&nbsp;&nbsp;</span>해시</a></span><ul class=\"toc-item\"><li><span><a href=\"#완주하지-못한-선수\" data-toc-modified-id=\"완주하지-못한-선수-1.1\"><span class=\"toc-item-num\">1.1&nbsp;&nbsp;</span>완주하지 못한 선수</a></span></li><li><span><a href=\"#전화번호-목록\" data-toc-modified-id=\"전화번호-목록-1.2\"><span class=\"toc-item-num\">1.2&nbsp;&nbsp;</span>전화번호 목록</a></span></li><li><span><a href=\"#위장\" data-toc-modified-id=\"위장-1.3\"><span class=\"toc-item-num\">1.3&nbsp;&nbsp;</span>위장</a></span></li><li><span><a href=\"#베스트앨범\" data-toc-modified-id=\"베스트앨범-1.4\"><span class=\"toc-item-num\">1.4&nbsp;&nbsp;</span>베스트앨범</a></span></li></ul></li><li><span><a href=\"#정렬\" data-toc-modified-id=\"정렬-2\"><span class=\"toc-item-num\">2&nbsp;&nbsp;</span>정렬</a></span><ul class=\"toc-item\"><li><span><a href=\"#K번째수\" data-toc-modified-id=\"K번째수-2.1\"><span class=\"toc-item-num\">2.1&nbsp;&nbsp;</span>K번째수</a></span></li><li><span><a href=\"#가장-큰-수\" data-toc-modified-id=\"가장-큰-수-2.2\"><span class=\"toc-item-num\">2.2&nbsp;&nbsp;</span>가장 큰 수</a></span></li></ul></li></ul></div>"
   ]
  },
  {
   "cell_type": "markdown",
   "metadata": {},
   "source": [
    "# 해시"
   ]
  },
  {
   "cell_type": "markdown",
   "metadata": {},
   "source": [
    "## 완주하지 못한 선수\n",
    "수많은 마라톤 선수들이 마라톤에 참여하였습니다. 단 한 명의 선수를 제외하고는 모든 선수가 마라톤을 완주하였습니다.\n",
    "\n",
    "마라톤에 참여한 선수들의 이름이 담긴 배열 participant와 완주한 선수들의 이름이 담긴 배열 completion이 주어질 때, 완주하지 못한 선수의 이름을 return 하도록 solution 함수를 작성해주세요.\n",
    "\n",
    "제한사항\n",
    "마라톤 경기에 참여한 선수의 수는 1명 이상 100,000명 이하입니다.\n",
    "completion의 길이는 participant의 길이보다 1 작습니다.\n",
    "참가자의 이름은 1개 이상 20개 이하의 알파벳 소문자로 이루어져 있습니다.\n",
    "참가자 중에는 동명이인이 있을 수 있습니다.\n",
    "입출력 예\n",
    "participant\tcompletion\treturn\n",
    "[\"leo\", \"kiki\", \"eden\"]\t[\"eden\", \"kiki\"]\t\"leo\"\n",
    "[\"marina\", \"josipa\", \"nikola\", \"vinko\", \"filipa\"]\t[\"josipa\", \"filipa\", \"marina\", \"nikola\"]\t\"vinko\"\n",
    "[\"mislav\", \"stanko\", \"mislav\", \"ana\"]\t[\"stanko\", \"ana\", \"mislav\"]\t\"mislav\"\n",
    "입출력 예 설명\n",
    "예제 #1\n",
    "\"leo\"는 참여자 명단에는 있지만, 완주자 명단에는 없기 때문에 완주하지 못했습니다.\n",
    "\n",
    "예제 #2\n",
    "\"vinko\"는 참여자 명단에는 있지만, 완주자 명단에는 없기 때문에 완주하지 못했습니다.\n",
    "\n",
    "예제 #3\n",
    "\"mislav\"는 참여자 명단에는 두 명이 있지만, 완주자 명단에는 한 명밖에 없기 때문에 한명은 완주하지 못했습니다."
   ]
  },
  {
   "cell_type": "code",
   "execution_count": 466,
   "metadata": {},
   "outputs": [],
   "source": [
    "participant = [\"leo\", \"kiki\", \"eden\"]\n",
    "completion = [\"eden\", \"kiki\"]"
   ]
  },
  {
   "cell_type": "code",
   "execution_count": 471,
   "metadata": {
    "scrolled": true
   },
   "outputs": [],
   "source": [
    "import collections\n",
    "def compare(p, c):  \n",
    "    if len(p) == 1:\n",
    "        return p[0]\n",
    "    else:\n",
    "        i = int(len(p)/2)\n",
    "        if p[:i] == c[:i]:\n",
    "            return compare(p[i:], c[i:])\n",
    "        else:\n",
    "            return compare(p[:i], c[:i])\n",
    "                \n",
    "        \n",
    "def solution(participant, completion):   \n",
    "    participant.sort()\n",
    "    completion.sort()\n",
    "    answer = compare(participant, completion)\n",
    "    print(answer)\n",
    "    return answer\n",
    "\n",
    "def solution2(participant, completion):\n",
    "    answer = collections.Counter(participant) - collections.Counter(completion)\n",
    "    return list(answer.keys())[0]"
   ]
  },
  {
   "cell_type": "markdown",
   "metadata": {},
   "source": [
    "## 전화번호 목록\n",
    "전화번호부에 적힌 전화번호 중, 한 번호가 다른 번호의 접두어인 경우가 있는지 확인하려 합니다.\n",
    "전화번호가 다음과 같을 경우, 구조대 전화번호는 영석이의 전화번호의 접두사입니다.\n",
    "\n",
    "구조대 : 119\n",
    "박준영 : 97 674 223\n",
    "지영석 : 11 9552 4421\n",
    "전화번호부에 적힌 전화번호를 담은 배열 phone_book 이 solution 함수의 매개변수로 주어질 때, 어떤 번호가 다른 번호의 접두어인 경우가 있으면 false를 그렇지 않으면 true를 return 하도록 solution 함수를 작성해주세요.\n",
    "\n",
    "제한 사항\n",
    "phone_book의 길이는 1 이상 1,000,000 이하입니다.\n",
    "각 전화번호의 길이는 1 이상 20 이하입니다.\n",
    "같은 전화번호가 중복해서 들어있지 않습니다.\n",
    "입출력 예제\n",
    "phone_book\treturn\n",
    "[\"119\", \"97674223\", \"1195524421\"]\tfalse\n",
    "[\"123\",\"456\",\"789\"]\ttrue\n",
    "[\"12\",\"123\",\"1235\",\"567\",\"88\"]\tfalse\n",
    "입출력 예 설명\n",
    "입출력 예 #1\n",
    "앞에서 설명한 예와 같습니다.\n",
    "\n",
    "입출력 예 #2\n",
    "한 번호가 다른 번호의 접두사인 경우가 없으므로, 답은 true입니다.\n",
    "\n",
    "입출력 예 #3\n",
    "첫 번째 전화번호, “12”가 두 번째 전화번호 “123”의 접두사입니다. 따라서 답은 false입니다.\n",
    "\n"
   ]
  },
  {
   "cell_type": "code",
   "execution_count": 204,
   "metadata": {},
   "outputs": [],
   "source": [
    "a = [\"119\", \"97674223\", \"1195524421\"]\n",
    "b = [\"123\",\"456\",\"789\"]\n",
    "c = [\"12\",\"123\",\"1235\",\"567\",\"88\"]"
   ]
  },
  {
   "cell_type": "code",
   "execution_count": 140,
   "metadata": {},
   "outputs": [
    {
     "data": {
      "text/plain": [
       "False"
      ]
     },
     "execution_count": 140,
     "metadata": {},
     "output_type": "execute_result"
    }
   ],
   "source": [
    "def solution(phone_book):\n",
    "    answer = True\n",
    "    phone_book.sort(key=len)\n",
    "    while phone_book:\n",
    "        key = phone_book.pop(0)\n",
    "#         print(key, phone_book)\n",
    "        if len(list(filter(lambda x: x.startswith(key), phone_book))) > 0:\n",
    "            return False\n",
    "    \n",
    "    return answer\n",
    "\n",
    "solution(c)"
   ]
  },
  {
   "cell_type": "code",
   "execution_count": 143,
   "metadata": {},
   "outputs": [
    {
     "data": {
      "text/plain": [
       "False"
      ]
     },
     "execution_count": 143,
     "metadata": {},
     "output_type": "execute_result"
    }
   ],
   "source": [
    "def solution2(phone_book):\n",
    "    answer = True\n",
    "    phone_book.sort(key=len)\n",
    "    while phone_book:\n",
    "        num = phone_book[0]\n",
    "        del phone_book[0]\n",
    "#         print(key, phone_book)\n",
    "        if len(list(filter(lambda x: x.startswith(num), phone_book))) > 0:\n",
    "            return False\n",
    "    \n",
    "    return answer\n",
    "\n",
    "solution2(a)"
   ]
  },
  {
   "cell_type": "code",
   "execution_count": 203,
   "metadata": {},
   "outputs": [
    {
     "data": {
      "text/plain": [
       "False"
      ]
     },
     "execution_count": 203,
     "metadata": {},
     "output_type": "execute_result"
    }
   ],
   "source": [
    "a = [\"119\", \"97674223\", \"1195524421\"]\n",
    "b = [\"123\",\"456\",\"789\"]\n",
    "c = [\"12\",\"123\",\"1235\",\"567\",\"88\"]\n",
    "\n",
    "def solution(phone_book):\n",
    "    answer = True\n",
    "    phone_book.sort(key=len)\n",
    "    while phone_book:\n",
    "        key = phone_book.pop(0)        \n",
    "        if len(list(filter(lambda x: len(x) > len(key) and x.find(key) == 0, phone_book))) > 0:\n",
    "            return False\n",
    "    \n",
    "    return answer\n",
    "\n",
    "solution(c)"
   ]
  },
  {
   "cell_type": "code",
   "execution_count": 216,
   "metadata": {},
   "outputs": [
    {
     "data": {
      "text/plain": [
       "False"
      ]
     },
     "execution_count": 216,
     "metadata": {},
     "output_type": "execute_result"
    }
   ],
   "source": [
    "a = [\"119\", \"97674223\", \"1195524421\"]\n",
    "b = [\"123\",\"456\",\"789\"]\n",
    "c = [\"12\",\"123\",\"1235\",\"567\",\"88\"]\n",
    "\n",
    "def solution(phone_book):\n",
    "    answer = True\n",
    "    phone_book.sort()\n",
    "    for i in range(0, len(phone_book)-1):\n",
    "        if (phone_book[i+1].startswith(phone_book[i])):\n",
    "            return False\n",
    "    \n",
    "    return answer\n",
    "\n",
    "solution(c)"
   ]
  },
  {
   "cell_type": "markdown",
   "metadata": {},
   "source": [
    "## 위장\n",
    "문제 설명\n",
    "스파이들은 매일 다른 옷을 조합하여 입어 자신을 위장합니다.\n",
    "\n",
    "예를 들어 스파이가 가진 옷이 아래와 같고 오늘 스파이가 동그란 안경, 긴 코트, 파란색 티셔츠를 입었다면 다음날은 청바지를 추가로 입거나 동그란 안경 대신 검정 선글라스를 착용하거나 해야 합니다.\n",
    "\n",
    "종류\t이름\n",
    "얼굴\t동그란 안경, 검정 선글라스\n",
    "상의\t파란색 티셔츠\n",
    "하의\t청바지\n",
    "겉옷\t긴 코트\n",
    "스파이가 가진 의상들이 담긴 2차원 배열 clothes가 주어질 때 서로 다른 옷의 조합의 수를 return 하도록 solution 함수를 작성해주세요.\n",
    "\n",
    "제한사항\n",
    "clothes의 각 행은 [의상의 이름, 의상의 종류]로 이루어져 있습니다.\n",
    "스파이가 가진 의상의 수는 1개 이상 30개 이하입니다.\n",
    "같은 이름을 가진 의상은 존재하지 않습니다.\n",
    "clothes의 모든 원소는 문자열로 이루어져 있습니다.\n",
    "모든 문자열의 길이는 1 이상 20 이하인 자연수이고 알파벳 소문자 또는 '_' 로만 이루어져 있습니다.\n",
    "스파이는 하루에 최소 한 개의 의상은 입습니다.\n",
    "입출력 예\n",
    "clothes\treturn\n",
    "[[\"yellowhat\", \"headgear\"], [\"bluesunglasses\", \"eyewear\"], [\"green_turban\", \"headgear\"]]\t5\n",
    "[[\"crowmask\", \"face\"], [\"bluesunglasses\", \"face\"], [\"smoky_makeup\", \"face\"]]\t3\n",
    "입출력 예 설명\n",
    "예제 #1\n",
    "headgear에 해당하는 의상이 yellow_hat, green_turban이고 eyewear에 해당하는 의상이 blue_sunglasses이므로 아래와 같이 5개의 조합이 가능합니다.\n",
    "\n",
    "1. yellow_hat\n",
    "2. blue_sunglasses\n",
    "3. green_turban\n",
    "4. yellow_hat + blue_sunglasses\n",
    "5. green_turban + blue_sunglasses"
   ]
  },
  {
   "cell_type": "code",
   "execution_count": 125,
   "metadata": {},
   "outputs": [],
   "source": [
    "import numpy as np\n",
    "\n",
    "clothes = [[\"yellowhat\", \"headgear\"], [\"bluesunglasses\", \"eyewear\"], [\"green_turban\", \"headgear\"]]\n",
    "clothes = [[\"crowmask\", \"face\"], [\"bluesunglasses\", \"face\"], [\"smoky_makeup\", \"face\"]]\n",
    "def solution(clothes):\n",
    "    lst = list(np.array(clothes)[:,1])\n",
    "    dic = {} \n",
    "    for key in set(lst):   \n",
    "        dic[key] = lst.count(key)\n",
    "\n",
    "    tot = 0\n",
    "    for i in w:\n",
    "        tot += i[0]*i[1]\n",
    "    \n",
    "    answer = tot + sum(dic.values())\n",
    "    return answer\n"
   ]
  },
  {
   "cell_type": "code",
   "execution_count": 151,
   "metadata": {},
   "outputs": [
    {
     "name": "stdout",
     "output_type": "stream",
     "text": [
      "3\n",
      "0\n"
     ]
    }
   ],
   "source": [
    "import numpy as np\n",
    "from itertools import combinations\n",
    "\n",
    "# clothes = [[\"yellowhat\", \"headgear\"], [\"bluesunglasses\", \"eyewear\"], [\"green_turban\", \"headgear\"]]\n",
    "clothes = [[\"crowmask\", \"face\"], [\"bluesunglasses\", \"face\"], [\"smoky_makeup\", \"face\"]]\n",
    "\n",
    "lst = list(np.array(clothes)[:,1])\n",
    "\n",
    "dic = {} \n",
    "for key in set(lst):   \n",
    "    dic[key] = lst.count(key)\n",
    "\n",
    "tot = 0\n",
    "prod = 1\n",
    "for i in range(2, len(dic.keys())+1):\n",
    "    comb = list(combinations(dic.keys(),i))   \n",
    "    for c in comb:\n",
    "        for j in range(0, len(c)):\n",
    "            prod = prod * dic[c[j]]\n",
    "        tot += prod\n",
    "print(sum(dic.values()))\n",
    "print(tot)\n"
   ]
  },
  {
   "cell_type": "code",
   "execution_count": 158,
   "metadata": {},
   "outputs": [
    {
     "name": "stdout",
     "output_type": "stream",
     "text": [
      "3\n",
      "2\n"
     ]
    }
   ],
   "source": [
    "import numpy as np\n",
    "from itertools import combinations\n",
    "from functools import reduce\n",
    "\n",
    "clothes = [[\"yellowhat\", \"headgear\"], [\"bluesunglasses\", \"eyewear\"], [\"green_turban\", \"headgear\"]]\n",
    "# clothes = [[\"crowmask\", \"face\"], [\"bluesunglasses\", \"face\"], [\"smoky_makeup\", \"face\"]]\n",
    "\n",
    "lst = list(np.array(clothes)[:,1])\n",
    "\n",
    "dic = {} \n",
    "for key in set(lst):   \n",
    "    dic[key] = lst.count(key)\n",
    "\n",
    "tot = 0\n",
    "prod = 1\n",
    "for i in range(2, len(dic.keys())+1):\n",
    "    comb = list(combinations(dic.keys(),i))     \n",
    "    for c in comb:\n",
    "        prod = reduce(lambda x, y: dic[x] * dic[y], c)            \n",
    "        tot += prod\n",
    "print(sum(dic.values()))\n",
    "print(tot)\n"
   ]
  },
  {
   "cell_type": "code",
   "execution_count": 43,
   "metadata": {},
   "outputs": [
    {
     "name": "stdout",
     "output_type": "stream",
     "text": [
      "3\n"
     ]
    }
   ],
   "source": [
    "import numpy as np\n",
    "from itertools import combinations\n",
    "from functools import reduce\n",
    "\n",
    "# clothes = [[\"yellowhat\", \"headgear\"], [\"bluesunglasses\", \"eyewear\"], [\"green_turban\", \"headgear\"]]\n",
    "clothes = [[\"crowmask\", \"face\"], [\"bluesunglasses\", \"face\"], [\"smoky_makeup\", \"face\"]]\n",
    "\n",
    "lst = list(np.array(clothes)[:,1])\n",
    "\n",
    "dic = {} \n",
    "for key in set(lst):   \n",
    "    dic[key] = lst.count(key)\n",
    "    \n",
    "tmpDic = dic.copy()\n",
    "tot = 0\n",
    "prod = 1\n",
    "\n",
    "for i in range(2, len(dic.keys())+1):\n",
    "    comb = list(combinations(dic.keys(),i))\n",
    "    for c in comb:\n",
    "        prod = 1\n",
    "        tmpKey = \"\"\n",
    "        print(c)\n",
    "        for a in c:           \n",
    "            tmpKey += a\n",
    "            if tmpKey in dic:\n",
    "                prod = tmpDic[a]\n",
    "            else:                    \n",
    "                prod = prod * dic[a]\n",
    "                tmpDic[tmpKey] = prod\n",
    "print(sum(tmpDic.values()))"
   ]
  },
  {
   "cell_type": "code",
   "execution_count": 45,
   "metadata": {},
   "outputs": [
    {
     "name": "stdout",
     "output_type": "stream",
     "text": [
      "3\n"
     ]
    }
   ],
   "source": [
    "from itertools import combinations\n",
    "from functools import reduce\n",
    "import hashlib\n",
    "import collections\n",
    "\n",
    "\n",
    "def get_hash(input_str):    \n",
    "    hash_obj = hashlib.blake2b(input_str.encode())\n",
    "    hash_value = hash_obj.hexdigest()\n",
    "    return hash_value\n",
    "\n",
    "\n",
    "\n",
    "# clothes = [[\"yellowhat\", \"headgear\"], [\"bluesunglasses\", \"eyewear\"], [\"green_turban\", \"headgear\"]]\n",
    "clothes = [[\"crowmask\", \"face\"], [\"bluesunglasses\", \"face\"], [\"smoky_makeup\", \"face\"]]\n",
    "\n",
    "lst = list(np.array(clothes)[:,1])      # 리스트 원소의 2번째값(key)추출 : headgear, eyewear...    \n",
    "            \n",
    "# key별 count\n",
    "dic = collections.Counter(lst)\n",
    "key = list(map(get_hash, dic.keys()))\n",
    "cnt = list(dic.values())\n",
    "hash_dic = dict(zip(key, cnt))\n",
    "\n",
    "# 2개이상 조합 의상 count\n",
    "for i in range(2, len(dic)+1):\n",
    "    for item in list(combinations(dic.keys(), i)):\n",
    "        print(item)\n",
    "        new = get_hash(''.join(item))        \n",
    "        first = item[-1:][0]\n",
    "        end = get_hash(''.join(item[:-1]))        \n",
    "        hash_dic[new] = dic[first] * hash_dic[end]\n",
    "\n",
    "answer = sum(hash_dic.values())\n",
    "print(answer)"
   ]
  },
  {
   "cell_type": "code",
   "execution_count": 46,
   "metadata": {},
   "outputs": [
    {
     "name": "stdout",
     "output_type": "stream",
     "text": [
      "Counter({'5fe21a708ebf16ea4448e57d77066dfde8eb9ec57f20a34469664681047fcf9f7b1cc72bff06a238fb51746851d40f41c4b9c2fa7c3a8db6b0e2808b56e9dd0a': 2, 'cd47553403ee630ceba865db36244f093dfbf9c205dec38bdacf53b004c1e5d5970bd1669899598f5db4e430fbfa7f9ca2cb2d75c2b57c7e9c219b696e5208a4': 1})\n"
     ]
    }
   ],
   "source": [
    "from itertools import combinations\n",
    "from functools import reduce\n",
    "import hashlib\n",
    "import collections\n",
    "\n",
    "\n",
    "def get_hash(input_str):    \n",
    "    hash_obj = hashlib.blake2b(input_str.encode())\n",
    "    hash_value = hash_obj.hexdigest()\n",
    "    return hash_value\n",
    "\n",
    "\n",
    "\n",
    "clothes = [[\"yellowhat\", \"headgear\"], [\"bluesunglasses\", \"eyewear\"], [\"green_turban\", \"headgear\"]]\n",
    "# clothes = [[\"crowmask\", \"face\"], [\"bluesunglasses\", \"face\"], [\"smoky_makeup\", \"face\"]]\n",
    "\n",
    "lst = list(np.array(clothes)[:,1])\n",
    "\n",
    "dic = collections.Counter(lst)\n",
    "\n",
    "hash_dic = collections.Counter(map(get_hash, lst))\n",
    "\n",
    "print(hash_dic)"
   ]
  },
  {
   "cell_type": "code",
   "execution_count": 164,
   "metadata": {},
   "outputs": [
    {
     "name": "stdout",
     "output_type": "stream",
     "text": [
      "Counter({'headgear': 2, 'eyewear': 1})\n"
     ]
    }
   ],
   "source": [
    "from itertools import combinations\n",
    "from functools import reduce\n",
    "import hashlib\n",
    "import collections\n",
    "\n",
    "\n",
    "def get_hash(input_str):    \n",
    "    hash_obj = hashlib.blake2b(input_str.encode())\n",
    "    hash_value = hash_obj.hexdigest()\n",
    "    return hash_value\n",
    "\n",
    "\n",
    "\n",
    "clothes = [[\"yellowhat\", \"headgear\"], [\"bluesunglasses\", \"eyewear\"], [\"green_turban\", \"headgear\"]]\n",
    "# clothes = [[\"crowmask\", \"face\"], [\"bluesunglasses\", \"face\"], [\"smoky_makeup\", \"face\"]]\n",
    "lst = list(np.array(clothes)[:,1])      # 리스트 원소의 2번째값(key)추출 : headgear, eyewear...    \n",
    "            \n",
    "# key별 count\n",
    "dic = collections.Counter(lst)\n",
    "\n",
    "print(dic)"
   ]
  },
  {
   "cell_type": "code",
   "execution_count": 163,
   "metadata": {
    "scrolled": true
   },
   "outputs": [
    {
     "name": "stdout",
     "output_type": "stream",
     "text": [
      "(3, 5)\n",
      "15\n",
      "(3, 6)\n",
      "18\n",
      "(3, 7)\n",
      "21\n",
      "(5, 6)\n",
      "30\n",
      "(5, 7)\n",
      "35\n",
      "(6, 7)\n",
      "42\n",
      "(3, 5, 6)\n",
      "90\n",
      "(3, 5, 7)\n",
      "105\n",
      "(3, 6, 7)\n",
      "126\n",
      "(5, 6, 7)\n",
      "210\n",
      "(3, 5, 6, 7)\n",
      "630\n",
      "21 1322\n"
     ]
    }
   ],
   "source": [
    "dic = {\"a\": 3, \"b\":5, \"c\":6, \"d\": 7}\n",
    "\n",
    "from itertools import combinations\n",
    "from functools import reduce\n",
    "\n",
    "hash_dic = dict(zip(map(str, list(dic.values())), list(dic.values())))\n",
    "    \n",
    "tot = sum(hash_dic.values())\n",
    "tot2 = 0\n",
    "# 2개이상 조합 의상 count\n",
    "for i in range(2, len(dic)+1):\n",
    "    for a in list(combinations(dic.values(), i)):\n",
    "        print(a)\n",
    "        new = ''.join(map(str, a))      \n",
    "        first = new[:-1]\n",
    "        end = new[-1:] \n",
    "        if new not in hash_dic:                \n",
    "            hash_dic[new] = hash_dic[first] * hash_dic[end]            \n",
    "        print(hash_dic[new])\n",
    "        tot2 += hash_dic[new]\n",
    "\n",
    "print(tot, tot2)\n",
    "        "
   ]
  },
  {
   "cell_type": "code",
   "execution_count": 145,
   "metadata": {},
   "outputs": [
    {
     "name": "stdout",
     "output_type": "stream",
     "text": [
      "abcde\n",
      "f\n"
     ]
    }
   ],
   "source": [
    "a = \"abcdef\"\n",
    "print(a[:-1])\n",
    "print(a[-1:])"
   ]
  },
  {
   "cell_type": "markdown",
   "metadata": {},
   "source": [
    "## 베스트앨범\n",
    "스트리밍 사이트에서 장르 별로 가장 많이 재생된 노래를 두 개씩 모아 베스트 앨범을 출시하려 합니다. 노래는 고유 번호로 구분하며, 노래를 수록하는 기준은 다음과 같습니다.\n",
    "\n",
    "속한 노래가 많이 재생된 장르를 먼저 수록합니다.\n",
    "장르 내에서 많이 재생된 노래를 먼저 수록합니다.\n",
    "장르 내에서 재생 횟수가 같은 노래 중에서는 고유 번호가 낮은 노래를 먼저 수록합니다.\n",
    "노래의 장르를 나타내는 문자열 배열 genres와 노래별 재생 횟수를 나타내는 정수 배열 plays가 주어질 때, 베스트 앨범에 들어갈 노래의 고유 번호를 순서대로 return 하도록 solution 함수를 완성하세요.\n",
    "\n",
    "제한사항\n",
    "genres[i]는 고유번호가 i인 노래의 장르입니다.\n",
    "plays[i]는 고유번호가 i인 노래가 재생된 횟수입니다.\n",
    "genres와 plays의 길이는 같으며, 이는 1 이상 10,000 이하입니다.\n",
    "장르 종류는 100개 미만입니다.\n",
    "장르에 속한 곡이 하나라면, 하나의 곡만 선택합니다.\n",
    "모든 장르는 재생된 횟수가 다릅니다.\n",
    "입출력 예\n",
    "genres\tplays\treturn\n",
    "[\"classic\", \"pop\", \"classic\", \"classic\", \"pop\"]\t[500, 600, 150, 800, 2500]\t[4, 1, 3, 0]\n",
    "입출력 예 설명\n",
    "classic 장르는 1,450회 재생되었으며, classic 노래는 다음과 같습니다.\n",
    "\n",
    "고유 번호 3: 800회 재생\n",
    "고유 번호 0: 500회 재생\n",
    "고유 번호 2: 150회 재생\n",
    "pop 장르는 3,100회 재생되었으며, pop 노래는 다음과 같습니다.\n",
    "\n",
    "고유 번호 4: 2,500회 재생\n",
    "고유 번호 1: 600회 재생\n",
    "따라서 pop 장르의 [4, 1]번 노래를 먼저, classic 장르의 [3, 0]번 노래를 그다음에 수록합니다."
   ]
  },
  {
   "cell_type": "code",
   "execution_count": 1,
   "metadata": {
    "scrolled": true
   },
   "outputs": [
    {
     "name": "stdout",
     "output_type": "stream",
     "text": [
      "[4, 1, 3, 0]\n"
     ]
    }
   ],
   "source": [
    "import pandas as pd\n",
    "genres = [\"classic\", \"pop\", \"classic\", \"classic\", \"pop\"]\n",
    "plays = [500, 600, 150, 800, 2500]\n",
    "\n",
    "\n",
    "df = pd.DataFrame(zip(list(range(0, len(genres))), genres, plays), columns=['id', 'genres', 'plays'])\n",
    "df_sum = df.groupby('genres').sum('plays').sort_values(by=['plays'], ascending=[False]).drop(['id', 'plays'], axis=1).reset_index()\n",
    "df_sum['rank_sum'] = df_sum.index\n",
    "df = pd.merge(df, df_sum, on='genres')\n",
    "\n",
    "df['rank_by_genres'] = df.groupby('genres')['plays'].rank(ascending=[False]).astype(int)\n",
    "df = df.sort_values(by=['rank_sum', 'rank_by_genres', 'id'], ascending=[True,False,True])\n",
    "\n",
    "answer = list(df.groupby('genres').head(2)['id'])\n",
    "\n",
    "print(answer)"
   ]
  },
  {
   "cell_type": "markdown",
   "metadata": {},
   "source": [
    "# 정렬"
   ]
  },
  {
   "cell_type": "markdown",
   "metadata": {},
   "source": [
    "## K번째수\n",
    "배열 array의 i번째 숫자부터 j번째 숫자까지 자르고 정렬했을 때, k번째에 있는 수를 구하려 합니다.\n",
    "\n",
    "예를 들어 array가 [1, 5, 2, 6, 3, 7, 4], i = 2, j = 5, k = 3이라면\n",
    "\n",
    "array의 2번째부터 5번째까지 자르면 [5, 2, 6, 3]입니다.\n",
    "1에서 나온 배열을 정렬하면 [2, 3, 5, 6]입니다.\n",
    "2에서 나온 배열의 3번째 숫자는 5입니다.\n",
    "배열 array, [i, j, k]를 원소로 가진 2차원 배열 commands가 매개변수로 주어질 때, commands의 모든 원소에 대해 앞서 설명한 연산을 적용했을 때 나온 결과를 배열에 담아 return 하도록 solution 함수를 작성해주세요.\n",
    "\n",
    "제한사항\n",
    "array의 길이는 1 이상 100 이하입니다.\n",
    "array의 각 원소는 1 이상 100 이하입니다.\n",
    "commands의 길이는 1 이상 50 이하입니다.\n",
    "commands의 각 원소는 길이가 3입니다.\n",
    "입출력 예\n",
    "array\tcommands\treturn\n",
    "[1, 5, 2, 6, 3, 7, 4]\t[[2, 5, 3], [4, 4, 1], [1, 7, 3]]\t[5, 6, 3]\n",
    "입출력 예 설명\n",
    "[1, 5, 2, 6, 3, 7, 4]를 2번째부터 5번째까지 자른 후 정렬합니다. [2, 3, 5, 6]의 세 번째 숫자는 5입니다.\n",
    "[1, 5, 2, 6, 3, 7, 4]를 4번째부터 4번째까지 자른 후 정렬합니다. [6]의 첫 번째 숫자는 6입니다.\n",
    "[1, 5, 2, 6, 3, 7, 4]를 1번째부터 7번째까지 자릅니다. [1, 2, 3, 4, 5, 6, 7]의 세 번째 숫자는 3입니다."
   ]
  },
  {
   "cell_type": "code",
   "execution_count": 25,
   "metadata": {},
   "outputs": [
    {
     "name": "stdout",
     "output_type": "stream",
     "text": [
      "5\n",
      "6\n",
      "3\n"
     ]
    }
   ],
   "source": [
    "array = [1, 5, 2, 6, 3, 7, 4]\n",
    "commands = [[2, 5, 3], [4, 4, 1], [1, 7, 3]]\n",
    "\n",
    "for cmd in commands:\n",
    "    print(sorted(array[cmd[0]-1:cmd[1]])[cmd[2]-1])\n"
   ]
  },
  {
   "cell_type": "markdown",
   "metadata": {},
   "source": [
    "## 가장 큰 수\n",
    "0 또는 양의 정수가 주어졌을 때, 정수를 이어 붙여 만들 수 있는 가장 큰 수를 알아내 주세요.\n",
    "\n",
    "예를 들어, 주어진 정수가 [6, 10, 2]라면 [6102, 6210, 1062, 1026, 2610, 2106]를 만들 수 있고, 이중 가장 큰 수는 6210입니다.\n",
    "\n",
    "0 또는 양의 정수가 담긴 배열 numbers가 매개변수로 주어질 때, 순서를 재배치하여 만들 수 있는 가장 큰 수를 문자열로 바꾸어 return 하도록 solution 함수를 작성해주세요.\n",
    "\n",
    "제한 사항\n",
    "numbers의 길이는 1 이상 100,000 이하입니다.\n",
    "numbers의 원소는 0 이상 1,000 이하입니다.\n",
    "정답이 너무 클 수 있으니 문자열로 바꾸어 return 합니다.\n",
    "입출력 예\n",
    "numbers\treturn\n",
    "[6, 10, 2]\t\"6210\"\n",
    "[3, 30, 34, 5, 9]\t\"9534330\""
   ]
  },
  {
   "cell_type": "code",
   "execution_count": 61,
   "metadata": {},
   "outputs": [
    {
     "data": {
      "text/plain": [
       "'9534330'"
      ]
     },
     "execution_count": 61,
     "metadata": {},
     "output_type": "execute_result"
    }
   ],
   "source": [
    "from itertools import permutations\n",
    "\n",
    "numbers = [3, 30, 34, 5, 9]\n",
    "max(list(map(''.join, map(list, permutations(map(str, numbers), len(numbers))))))\n",
    "\n",
    "# sorted(list(map(str, numbers)), reverse=True)\n",
    "# ''.join(sorted(list(map(str, numbers)), reverse=True))"
   ]
  },
  {
   "cell_type": "code",
   "execution_count": 5,
   "metadata": {},
   "outputs": [
    {
     "name": "stdout",
     "output_type": "stream",
     "text": [
      "34 30\n",
      "30 3\n"
     ]
    }
   ],
   "source": [
    "import pandas as pd\n",
    "numbers = [3, 30, 34, 5, 9]\n",
    "num_list = sorted(list(map(str, numbers)), reverse=True)\n",
    "\n",
    "df = pd.DataFrame(num_list, columns=['num'])\n",
    "# df['num']\n",
    "for i in range(0, len(df)-1):\n",
    "    if df.iloc[i][\"num\"][0] == df.iloc[i+1][\"num\"][0]:\n",
    "        print(df.iloc[i][\"num\"], df.iloc[i+1][\"num\"])\n",
    "        \n"
   ]
  },
  {
   "cell_type": "code",
   "execution_count": 4,
   "metadata": {},
   "outputs": [
    {
     "name": "stdout",
     "output_type": "stream",
     "text": [
      "4 3\n"
     ]
    }
   ],
   "source": []
  }
 ],
 "metadata": {
  "kernelspec": {
   "display_name": "Python 3",
   "language": "python",
   "name": "python3"
  },
  "language_info": {
   "codemirror_mode": {
    "name": "ipython",
    "version": 3
   },
   "file_extension": ".py",
   "mimetype": "text/x-python",
   "name": "python",
   "nbconvert_exporter": "python",
   "pygments_lexer": "ipython3",
   "version": "3.8.5"
  },
  "toc": {
   "base_numbering": 1,
   "nav_menu": {},
   "number_sections": true,
   "sideBar": true,
   "skip_h1_title": false,
   "title_cell": "Table of Contents",
   "title_sidebar": "Contents",
   "toc_cell": true,
   "toc_position": {
    "height": "calc(100% - 180px)",
    "left": "10px",
    "top": "150px",
    "width": "319.516px"
   },
   "toc_section_display": true,
   "toc_window_display": true
  },
  "varInspector": {
   "cols": {
    "lenName": 16,
    "lenType": 16,
    "lenVar": 40
   },
   "kernels_config": {
    "python": {
     "delete_cmd_postfix": "",
     "delete_cmd_prefix": "del ",
     "library": "var_list.py",
     "varRefreshCmd": "print(var_dic_list())"
    },
    "r": {
     "delete_cmd_postfix": ") ",
     "delete_cmd_prefix": "rm(",
     "library": "var_list.r",
     "varRefreshCmd": "cat(var_dic_list()) "
    }
   },
   "types_to_exclude": [
    "module",
    "function",
    "builtin_function_or_method",
    "instance",
    "_Feature"
   ],
   "window_display": false
  }
 },
 "nbformat": 4,
 "nbformat_minor": 4
}
