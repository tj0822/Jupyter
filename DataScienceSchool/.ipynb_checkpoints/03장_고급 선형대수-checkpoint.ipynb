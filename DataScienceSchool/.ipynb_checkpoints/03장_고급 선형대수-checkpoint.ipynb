{
 "cells": [
  {
   "cell_type": "code",
   "execution_count": 3,
   "metadata": {},
   "outputs": [
    {
     "name": "stderr",
     "output_type": "stream",
     "text": [
      "/Users/tedz/opt/anaconda3/lib/python3.8/site-packages/matplotlib/backends/backend_agg.py:238: RuntimeWarning: Glyph 8722 missing from current font.\n",
      "  font.set_text(s, 0.0, flags=flags)\n",
      "/Users/tedz/opt/anaconda3/lib/python3.8/site-packages/matplotlib/backends/backend_agg.py:201: RuntimeWarning: Glyph 8722 missing from current font.\n",
      "  font.set_text(s, 0, flags=flags)\n"
     ]
    },
    {
     "data": {
      "image/png": "[encoded data removed]",
      "text/plain": [
       "<Figure size 432x288 with 1 Axes>"
      ]
     },
     "metadata": {
      "needs_background": "light"
     },
     "output_type": "display_data"
    }
   ],
   "source": [
    "import numpy as np\n",
    "import matplotlib.pylab as plt\n",
    "\n",
    "plt.rc(\"font\", family=\"AppleGothic\", size=18)\n",
    "gray = {'facecolor': 'gray'}\n",
    "black = {'facecolor': 'black'}\n",
    "red = {'facecolor': 'red'}\n",
    "green = {'facecolor': 'green'}\n",
    "blue = {'facecolor': 'blue'}\n",
    "\n",
    "a = np.array([1, 2])\n",
    "plt.plot(0, 0, 'kP', ms=20)\n",
    "plt.plot(a[0], a[1], 'ro', ms=20)\n",
    "plt.annotate('', xy=[00.6, 1.6], xytext=(0.2, 0.7), arrowprops=gray)\n",
    "plt.annotate('', xy= a, xytext=(0, 0), arrowprops=black)\n",
    "plt.annotate('', xy= a + [-1, 1], xytext=(-1, 1), arrowprops=black)\n",
    "plt.annotate('', xy= a + [-1, 1], xytext=(-1, 1), arrowprops=black)\n",
    "\n",
    "plt.text(0.35, 1.15, '$a$')\n",
    "plt.text(1.15, 2.25, '$(1,2)$')\n",
    "plt.text(-0.7, 2.1, '$a$')\n",
    "plt.text(-0.9, 0.6, '평행이동')\n",
    "\n",
    "plt.xticks(np.arange(-2, 4))\n",
    "plt.yticks(np.arange(-1, 4))\n",
    "\n",
    "plt.xlim(-2.4, 3.4)\n",
    "plt.ylim(-0.8, 3.4)\n",
    "plt.show()"
   ]
  },
  {
   "cell_type": "code",
   "execution_count": null,
   "metadata": {},
   "outputs": [],
   "source": []
  }
 ],
 "metadata": {
  "kernelspec": {
   "display_name": "Python 3",
   "language": "python",
   "name": "python3"
  },
  "language_info": {
   "codemirror_mode": {
    "name": "ipython",
    "version": 3
   },
   "file_extension": ".py",
   "mimetype": "text/x-python",
   "name": "python",
   "nbconvert_exporter": "python",
   "pygments_lexer": "ipython3",
   "version": "3.8.5"
  },
  "toc": {
   "base_numbering": 1,
   "nav_menu": {},
   "number_sections": true,
   "sideBar": true,
   "skip_h1_title": false,
   "title_cell": "Table of Contents",
   "title_sidebar": "Contents",
   "toc_cell": false,
   "toc_position": {},
   "toc_section_display": true,
   "toc_window_display": false
  },
  "varInspector": {
   "cols": {
    "lenName": 16,
    "lenType": 16,
    "lenVar": 40
   },
   "kernels_config": {
    "python": {
     "delete_cmd_postfix": "",
     "delete_cmd_prefix": "del ",
     "library": "var_list.py",
     "varRefreshCmd": "print(var_dic_list())"
    },
    "r": {
     "delete_cmd_postfix": ") ",
     "delete_cmd_prefix": "rm(",
     "library": "var_list.r",
     "varRefreshCmd": "cat(var_dic_list()) "
    }
   },
   "types_to_exclude": [
    "module",
    "function",
    "builtin_function_or_method",
    "instance",
    "_Feature"
   ],
   "window_display": false
  }
 },
 "nbformat": 4,
 "nbformat_minor": 4
}
